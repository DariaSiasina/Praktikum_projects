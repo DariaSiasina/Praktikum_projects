{
  "cells": [
    {
      "cell_type": "markdown",
      "metadata": {
        "id": "8bGwDwBPPh57"
      },
      "source": [
        "# Исследование надёжности заёмщиков\n",
        "\n",
        "Заказчик — кредитный отдел банка. Нужно разобраться, влияет ли семейное положение и количество детей клиента на факт погашения кредита в срок. Входные данные от банка — статистика о платёжеспособности клиентов.\n",
        "\n",
        "Результаты исследования будут учтены при построении модели **кредитного скоринга** — специальной системы, которая оценивает способность потенциального заёмщика вернуть кредит банку."
      ]
    },
    {
      "cell_type": "markdown",
      "metadata": {
        "id": "A0TPI_HZPh59"
      },
      "source": [
        "## Шаг 1. Откройте файл с данными и изучите общую информацию"
      ]
    },
    {
      "cell_type": "code",
      "execution_count": null,
      "metadata": {
        "id": "Me4v1oPbPh5-",
        "outputId": "e2e454fb-7d05-4043-c233-f832275bdac1"
      },
      "outputs": [
        {
          "name": "stdout",
          "output_type": "stream",
          "text": [
            "<class 'pandas.core.frame.DataFrame'>\n",
            "RangeIndex: 21525 entries, 0 to 21524\n",
            "Data columns (total 12 columns):\n",
            "children            21525 non-null int64\n",
            "days_employed       19351 non-null float64\n",
            "dob_years           21525 non-null int64\n",
            "education           21525 non-null object\n",
            "education_id        21525 non-null int64\n",
            "family_status       21525 non-null object\n",
            "family_status_id    21525 non-null int64\n",
            "gender              21525 non-null object\n",
            "income_type         21525 non-null object\n",
            "debt                21525 non-null int64\n",
            "total_income        19351 non-null float64\n",
            "purpose             21525 non-null object\n",
            "dtypes: float64(2), int64(5), object(5)\n",
            "memory usage: 2.0+ MB\n",
            "   children  days_employed  dob_years education  education_id  \\\n",
            "0         1   -8437.673028         42    высшее             0   \n",
            "1         1   -4024.803754         36   среднее             1   \n",
            "2         0   -5623.422610         33   Среднее             1   \n",
            "3         3   -4124.747207         32   среднее             1   \n",
            "4         0  340266.072047         53   среднее             1   \n",
            "5         0    -926.185831         27    высшее             0   \n",
            "6         0   -2879.202052         43    высшее             0   \n",
            "7         0    -152.779569         50   СРЕДНЕЕ             1   \n",
            "8         2   -6929.865299         35    ВЫСШЕЕ             0   \n",
            "9         0   -2188.756445         41   среднее             1   \n",
            "\n",
            "      family_status  family_status_id gender income_type  debt   total_income  \\\n",
            "0   женат / замужем                 0      F   сотрудник     0  253875.639453   \n",
            "1   женат / замужем                 0      F   сотрудник     0  112080.014102   \n",
            "2   женат / замужем                 0      M   сотрудник     0  145885.952297   \n",
            "3   женат / замужем                 0      M   сотрудник     0  267628.550329   \n",
            "4  гражданский брак                 1      F   пенсионер     0  158616.077870   \n",
            "5  гражданский брак                 1      M   компаньон     0  255763.565419   \n",
            "6   женат / замужем                 0      F   компаньон     0  240525.971920   \n",
            "7   женат / замужем                 0      M   сотрудник     0  135823.934197   \n",
            "8  гражданский брак                 1      F   сотрудник     0   95856.832424   \n",
            "9   женат / замужем                 0      M   сотрудник     0  144425.938277   \n",
            "\n",
            "                      purpose  \n",
            "0               покупка жилья  \n",
            "1     приобретение автомобиля  \n",
            "2               покупка жилья  \n",
            "3  дополнительное образование  \n",
            "4             сыграть свадьбу  \n",
            "5               покупка жилья  \n",
            "6           операции с жильем  \n",
            "7                 образование  \n",
            "8       на проведение свадьбы  \n",
            "9     покупка жилья для семьи  \n"
          ]
        }
      ],
      "source": [
        "import pandas as pd\n",
        "import numpy as np\n",
        "from pymystem3 import Mystem\n",
        "m = Mystem()\n",
        "from collections import Counter\n",
        "import matplotlib.pyplot as plt\n",
        "data = pd.read_csv('/datasets/data.csv')\n",
        "data.info()\n",
        "print(data.head(10))"
      ]
    },
    {
      "cell_type": "markdown",
      "metadata": {
        "id": "5IYyR5ZHPh5_"
      },
      "source": [
        "**Вывод**"
      ]
    },
    {
      "cell_type": "markdown",
      "metadata": {
        "id": "IPP46h_APh6A"
      },
      "source": [
        "Довольно обширная таблица с одинаковым количеством пропусков в данных о стаже и доходе. Также бросается в глаза неверный вывод данных в столбце со стажем, нужно выяснить, из-за чего ошибка, и исправить.\n",
        "Для начала изучим два столбца с пропусками и поймем их природу."
      ]
    },
    {
      "cell_type": "markdown",
      "metadata": {
        "id": "S3M6FyI9Ph6D"
      },
      "source": [
        "## Шаг 2. Предобработка данных"
      ]
    },
    {
      "cell_type": "markdown",
      "metadata": {
        "id": "Js35vUmDPh6F"
      },
      "source": [
        "### Обработка пропусков"
      ]
    },
    {
      "cell_type": "markdown",
      "metadata": {
        "id": "Fe7DMHHRPh6G"
      },
      "source": [
        "Проверим количество пропусков в столбцах и их характер."
      ]
    },
    {
      "cell_type": "code",
      "execution_count": null,
      "metadata": {
        "scrolled": true,
        "id": "jiu4RcDcPh6I",
        "outputId": "e42b33f8-2923-44c5-a518-43ae8882f16b"
      },
      "outputs": [
        {
          "name": "stdout",
          "output_type": "stream",
          "text": [
            "Всего пропусков в столбце с доходом: 2174\n",
            "Всего пропусков в столбце со стажем: 2174\n",
            "Пропуски составляют 0.10099883855981417 данных.\n",
            "children            2174\n",
            "days_employed          0\n",
            "dob_years           2174\n",
            "education           2174\n",
            "education_id        2174\n",
            "family_status       2174\n",
            "family_status_id    2174\n",
            "gender              2174\n",
            "income_type         2174\n",
            "debt                2174\n",
            "total_income           0\n",
            "purpose             2174\n",
            "dtype: int64\n"
          ]
        }
      ],
      "source": [
        "#print(data[data['total_income'].isna()].head())\n",
        "print('Всего пропусков в столбце с доходом:', len(data[data['total_income'].isna()]))\n",
        "#print(data[data['days_employed'].isna()].head())\n",
        "print('Всего пропусков в столбце со стажем:', len(data[data['days_employed'].isna()]))\n",
        "print('Пропуски составляют', len(data[data['days_employed'].isna()]) / len(data['days_employed']), 'данных.')\n",
        "print(data.loc[ (data['days_employed'].isna()) & (data['total_income'].isna())].count())\n"
      ]
    },
    {
      "cell_type": "markdown",
      "metadata": {
        "id": "PC1axFaPPh6J"
      },
      "source": [
        "Пропуски в обеих столбцах совпадают, значит, скорее всего, это не случайность. Кроме того, они составляют 10% данных, избавляться от них нельзя. В задании категории стажа и дохода не упоминаются, но на всякий случай лучше привести эти данные в порядок. Начнем со столбца стажа. Его значения явно аномальные - встречаются и отрицательные, и слишком большие числа."
      ]
    },
    {
      "cell_type": "code",
      "execution_count": null,
      "metadata": {
        "id": "N-pLX-AMPh6K",
        "outputId": "dd87b2b3-785c-4339-992f-fccb62f2aed1"
      },
      "outputs": [
        {
          "name": "stdout",
          "output_type": "stream",
          "text": [
            "Количество отрицательных значений в стаже 15906\n",
            "count     19351.000000\n",
            "mean      63046.497661\n",
            "std      140827.311974\n",
            "min      -18388.949901\n",
            "25%       -2747.423625\n",
            "50%       -1203.369529\n",
            "75%        -291.095954\n",
            "max      401755.400475\n",
            "Name: days_employed, dtype: float64\n"
          ]
        },
        {
          "data": {
            "text/plain": [
              "<matplotlib.axes._subplots.AxesSubplot at 0x7f94053e7490>"
            ]
          },
          "execution_count": 3,
          "metadata": {},
          "output_type": "execute_result"
        },
        {
          "data": {
            "image/png": "[encoded data removed]",
            "text/plain": [
              "<Figure size 432x288 with 1 Axes>"
            ]
          },
          "metadata": {
            "needs_background": "light"
          },
          "output_type": "display_data"
        }
      ],
      "source": [
        "print('Количество отрицательных значений в стаже', data[data['days_employed'] < 0].shape[0])\n",
        "print(data['days_employed'].describe())\n",
        "data['days_employed'].hist()\n",
        "#Множество отрицательных значений может быть ошибкой ввода, а\n",
        "#слишком большие числа, вероятно, обозначают не дни, а часы работы. "
      ]
    },
    {
      "cell_type": "code",
      "execution_count": null,
      "metadata": {
        "scrolled": true,
        "id": "4j_uJ81mPh6L",
        "outputId": "899243e1-144c-49d1-8740-9534952b85f6"
      },
      "outputs": [
        {
          "name": "stdout",
          "output_type": "stream",
          "text": [
            "   children  years_employed  dob_years education  education_id  \\\n",
            "0         1       23.116912         42    высшее             0   \n",
            "1         1       11.026860         36   среднее             1   \n",
            "2         0       15.406637         33   Среднее             1   \n",
            "3         3       11.300677         32   среднее             1   \n",
            "4         0      932.235814         53   среднее             1   \n",
            "5         0        2.537495         27    высшее             0   \n",
            "6         0        7.888225         43    высшее             0   \n",
            "7         0        0.418574         50   СРЕДНЕЕ             1   \n",
            "8         2       18.985932         35    ВЫСШЕЕ             0   \n",
            "9         0        5.996593         41   среднее             1   \n",
            "\n",
            "      family_status  family_status_id gender income_type  debt   total_income  \\\n",
            "0   женат / замужем                 0      F   сотрудник     0  253875.639453   \n",
            "1   женат / замужем                 0      F   сотрудник     0  112080.014102   \n",
            "2   женат / замужем                 0      M   сотрудник     0  145885.952297   \n",
            "3   женат / замужем                 0      M   сотрудник     0  267628.550329   \n",
            "4  гражданский брак                 1      F   пенсионер     0  158616.077870   \n",
            "5  гражданский брак                 1      M   компаньон     0  255763.565419   \n",
            "6   женат / замужем                 0      F   компаньон     0  240525.971920   \n",
            "7   женат / замужем                 0      M   сотрудник     0  135823.934197   \n",
            "8  гражданский брак                 1      F   сотрудник     0   95856.832424   \n",
            "9   женат / замужем                 0      M   сотрудник     0  144425.938277   \n",
            "\n",
            "                      purpose  \n",
            "0               покупка жилья  \n",
            "1     приобретение автомобиля  \n",
            "2               покупка жилья  \n",
            "3  дополнительное образование  \n",
            "4             сыграть свадьбу  \n",
            "5               покупка жилья  \n",
            "6           операции с жильем  \n",
            "7                 образование  \n",
            "8       на проведение свадьбы  \n",
            "9     покупка жилья для семьи  \n"
          ]
        }
      ],
      "source": [
        "data['days_employed'] = data['days_employed'].apply(abs)\n",
        "data['days_employed'] = data['days_employed'] / 365\n",
        "data.rename(columns={'days_employed': 'years_employed'}, inplace=True)\n",
        "print(data.head(10))\n",
        "#Переведем отрицательный числа в модуль и для упрощения переведем стаж в годы.\n",
        "#Аномальные числа сохраняются, они явно не обозначают годы работы.\n",
        "#Поставим фильтр для правдоподобного стажа и приведем отличающиеся значения в норму."
      ]
    },
    {
      "cell_type": "code",
      "execution_count": null,
      "metadata": {
        "id": "VpkZ8SOhPh6N"
      },
      "outputs": [],
      "source": [
        "data['days_employed'].abs()"
      ]
    },
    {
      "cell_type": "code",
      "execution_count": null,
      "metadata": {
        "id": "69266r2LPh6O",
        "outputId": "43e13168-baa2-4d81-b9f1-e76e043fefaa"
      },
      "outputs": [
        {
          "name": "stdout",
          "output_type": "stream",
          "text": [
            "   children  years_employed  dob_years education  education_id  \\\n",
            "0         1       23.116912         42    высшее             0   \n",
            "1         1       11.026860         36   среднее             1   \n",
            "2         0        0.641943         33   Среднее             1   \n",
            "3         3       11.300677         32   среднее             1   \n",
            "4         0       38.843159         53   среднее             1   \n",
            "\n",
            "      family_status  family_status_id gender income_type  debt   total_income  \\\n",
            "0   женат / замужем                 0      F   сотрудник     0  253875.639453   \n",
            "1   женат / замужем                 0      F   сотрудник     0  112080.014102   \n",
            "2   женат / замужем                 0      M   сотрудник     0  145885.952297   \n",
            "3   женат / замужем                 0      M   сотрудник     0  267628.550329   \n",
            "4  гражданский брак                 1      F   пенсионер     0  158616.077870   \n",
            "\n",
            "                      purpose  \n",
            "0               покупка жилья  \n",
            "1     приобретение автомобиля  \n",
            "2               покупка жилья  \n",
            "3  дополнительное образование  \n",
            "4             сыграть свадьбу  \n",
            "count    19351.000000\n",
            "mean        12.362262\n",
            "std         14.690684\n",
            "min          0.012439\n",
            "25%          2.294975\n",
            "50%          5.611219\n",
            "75%         14.316582\n",
            "max         45.862489\n",
            "Name: years_employed, dtype: float64\n"
          ]
        },
        {
          "data": {
            "image/png": "[encoded data removed]",
            "text/plain": [
              "<Figure size 432x288 with 1 Axes>"
            ]
          },
          "metadata": {
            "needs_background": "light"
          },
          "output_type": "display_data"
        }
      ],
      "source": [
        "data.loc[data['years_employed'] > (data['dob_years'] - 18), 'years_employed'] = data.loc[data['years_employed'] > (data['dob_years'] - 18), 'years_employed'] / 24\n",
        "print(data.head(5))\n",
        "data['years_employed'].hist()\n",
        "print(data['years_employed'].describe())\n",
        "#Данные выглядят реалистично, наконец можно перейти к замене пропусков.\n",
        "#По статистике 0 значений в столбце нет, поэтому лучше заменим пропуски на медиану"
      ]
    },
    {
      "cell_type": "code",
      "execution_count": null,
      "metadata": {
        "id": "ySyk6SS9Ph6P",
        "outputId": "19d698a3-bda9-4071-f878-40c2b492e138"
      },
      "outputs": [
        {
          "name": "stdout",
          "output_type": "stream",
          "text": [
            "Средний стаж в целом: 5.6112191380189795\n",
            "Средний стаж сотрудника: 4.040314675301438\n",
            "Средний стаж пенсионера: 41.691016697001274\n",
            "Средний стаж компаньона: 4.016660222461325\n",
            "Средний стаж госслужащего: 6.701677937541498\n"
          ]
        }
      ],
      "source": [
        "print('Средний стаж в целом:', data['years_employed'].median())\n",
        "employee_years_median = data[data['income_type'] == 'сотрудник']['years_employed'].median()\n",
        "print('Средний стаж сотрудника:', employee_years_median)\n",
        "pensioner_years_median = data[data['income_type'] == 'пенсионер']['years_employed'].median()\n",
        "print('Средний стаж пенсионера:', pensioner_years_median)\n",
        "companion_years_median = data[data['income_type'] == 'компаньон']['years_employed'].median()\n",
        "print('Средний стаж компаньона:', companion_years_median)\n",
        "civil_years_median = data[data['income_type'] == 'госслужащий']['years_employed'].median()\n",
        "print('Средний стаж госслужащего:', civil_years_median)"
      ]
    },
    {
      "cell_type": "markdown",
      "metadata": {
        "id": "2UT7rjoIPh6Q"
      },
      "source": [
        "Сравнили медианы стажа для каждой профессиональной категории заемщиков.\n",
        "Стаж пенсионеров резко отличается, поэтому замена пропусков общим медианным значением может повлиять на статистику.\n",
        "Лучше заменить пропуски у каждой категории именно их медианой."
      ]
    },
    {
      "cell_type": "code",
      "execution_count": null,
      "metadata": {
        "id": "KjT9Q71lPh6R",
        "outputId": "5a4a1a2f-29c1-4471-f6ca-ebe0528b0164"
      },
      "outputs": [
        {
          "name": "stdout",
          "output_type": "stream",
          "text": [
            "   children  years_employed  dob_years education  education_id  \\\n",
            "0         1       23.116912         42    высшее             0   \n",
            "1         1       11.026860         36   среднее             1   \n",
            "2         0        0.641943         33   Среднее             1   \n",
            "3         3       11.300677         32   среднее             1   \n",
            "4         0       38.843159         53   среднее             1   \n",
            "\n",
            "      family_status  family_status_id gender income_type  debt   total_income  \\\n",
            "0   женат / замужем                 0      F   сотрудник     0  253875.639453   \n",
            "1   женат / замужем                 0      F   сотрудник     0  112080.014102   \n",
            "2   женат / замужем                 0      M   сотрудник     0  145885.952297   \n",
            "3   женат / замужем                 0      M   сотрудник     0  267628.550329   \n",
            "4  гражданский брак                 1      F   пенсионер     0  158616.077870   \n",
            "\n",
            "                      purpose  \n",
            "0               покупка жилья  \n",
            "1     приобретение автомобиля  \n",
            "2               покупка жилья  \n",
            "3  дополнительное образование  \n",
            "4             сыграть свадьбу  \n",
            "count    21525.000000\n",
            "mean        12.261776\n",
            "std         14.694698\n",
            "min          0.012439\n",
            "25%          2.583030\n",
            "50%          5.125616\n",
            "75%         13.784179\n",
            "max         45.862489\n",
            "Name: years_employed, dtype: float64\n",
            "Пропусков осталось 0\n"
          ]
        },
        {
          "data": {
            "image/png": "[encoded data removed]",
            "text/plain": [
              "<Figure size 432x288 with 1 Axes>"
            ]
          },
          "metadata": {
            "needs_background": "light"
          },
          "output_type": "display_data"
        }
      ],
      "source": [
        "data.loc[(data['years_employed'].isna()) & (data['income_type'] == 'сотрудник'), 'years_employed'] = employee_years_median\n",
        "data.loc[(data['years_employed'].isna()) & (data['income_type'] == 'пенсионер'), 'years_employed'] = pensioner_years_median\n",
        "data.loc[(data['years_employed'].isna()) & (data['income_type'] == 'компаньон'), 'years_employed'] = companion_years_median\n",
        "data.loc[(data['years_employed'].isna()) & (data['income_type'] == 'госслужащий'), 'years_employed'] = civil_years_median\n",
        "data.loc[data['years_employed'].isna(), 'years_employed'] = employee_years_median\n",
        "print(data.head(5))\n",
        "data['years_employed'].hist()\n",
        "print(data['years_employed'].describe())\n",
        "print('Пропусков осталось', data['years_employed'].isna().sum())"
      ]
    },
    {
      "cell_type": "markdown",
      "metadata": {
        "id": "LLb6ePujPh6R"
      },
      "source": [
        "Теперь займемся пропусками во втором столбце. Рассмотрим его уникальные значения и средние показатели для каждой категории.\n",
        "Распределение по категориям примерно одинаково как в таблице в целом, так и в строках с пропущенным значением.\n",
        "Скорее всего, пропуски вызваны ошибками ввода или переноса данных."
      ]
    },
    {
      "cell_type": "code",
      "execution_count": null,
      "metadata": {
        "id": "a9RhF17NPh6S",
        "outputId": "53c84596-18ed-4201-e8a8-e86111607136"
      },
      "outputs": [
        {
          "name": "stdout",
          "output_type": "stream",
          "text": [
            "count    1.935100e+04\n",
            "mean     1.674223e+05\n",
            "std      1.029716e+05\n",
            "min      2.066726e+04\n",
            "25%      1.030532e+05\n",
            "50%      1.450179e+05\n",
            "75%      2.034351e+05\n",
            "max      2.265604e+06\n",
            "Name: total_income, dtype: float64\n",
            "Категории занятости заемщиков:\n",
            " сотрудник          11119\n",
            "компаньон           5085\n",
            "пенсионер           3856\n",
            "госслужащий         1459\n",
            "безработный            2\n",
            "предприниматель        2\n",
            "студент                1\n",
            "в декрете              1\n",
            "Name: income_type, dtype: int64\n",
            "Категории занятости заемщиков с пропущенным доходом:\n",
            " сотрудник          1105\n",
            "компаньон           508\n",
            "пенсионер           413\n",
            "госслужащий         147\n",
            "предприниматель       1\n",
            "Name: income_type, dtype: int64\n"
          ]
        },
        {
          "data": {
            "image/png": "[encoded data removed]",
            "text/plain": [
              "<Figure size 432x288 with 1 Axes>"
            ]
          },
          "metadata": {
            "needs_background": "light"
          },
          "output_type": "display_data"
        }
      ],
      "source": [
        "print(data['total_income'].describe())\n",
        "data['total_income'].hist()\n",
        "print('Категории занятости заемщиков:\\n', data['income_type'].value_counts())\n",
        "print('Категории занятости заемщиков с пропущенным доходом:\\n', data.loc[data['total_income'].isna()]['income_type'].value_counts())"
      ]
    },
    {
      "cell_type": "code",
      "execution_count": null,
      "metadata": {
        "id": "KDq3np_7Ph6S",
        "outputId": "c43d49ba-eaa4-4f77-8456-620cb7429ba5"
      },
      "outputs": [
        {
          "name": "stdout",
          "output_type": "stream",
          "text": [
            "Общий медианный доход: 145017.93753253992\n",
            "Медианный доход сотрудника: 142594.39684740017\n",
            "Медианный доход пенсионера: 118514.48641164352\n",
            "Медианный доход компаньона: 172357.95096577113\n",
            "Медианный доход госслужащего: 150447.9352830068\n"
          ]
        }
      ],
      "source": [
        "income_median = data['total_income'].median()\n",
        "print('Общий медианный доход:', income_median)\n",
        "\n",
        "employee_median = data[data['income_type'] == 'сотрудник']['total_income'].median()\n",
        "print('Медианный доход сотрудника:', employee_median)\n",
        "\n",
        "pensioner_median = data[data['income_type'] == 'пенсионер']['total_income'].median()\n",
        "print('Медианный доход пенсионера:', pensioner_median)\n",
        "\n",
        "companion_median = data[data['income_type'] == 'компаньон']['total_income'].median()\n",
        "print('Медианный доход компаньона:', companion_median)\n",
        "civil_median = data[data['income_type'] == 'госслужащий']['total_income'].median()\n",
        "print('Медианный доход госслужащего:', civil_median)\n",
        "#Размеры доходов отличны для каждой категории. Разумнее будет заменить пропуски медианами для каждой категории отдельно."
      ]
    },
    {
      "cell_type": "code",
      "execution_count": null,
      "metadata": {
        "id": "KRX6lbShPh6T",
        "outputId": "de849b69-3839-4b28-a3d0-67c848679354"
      },
      "outputs": [
        {
          "name": "stdout",
          "output_type": "stream",
          "text": [
            "Пропусков осталось\n",
            " children            0\n",
            "years_employed      0\n",
            "dob_years           0\n",
            "education           0\n",
            "education_id        0\n",
            "family_status       0\n",
            "family_status_id    0\n",
            "gender              0\n",
            "income_type         0\n",
            "debt                0\n",
            "total_income        0\n",
            "purpose             0\n",
            "dtype: int64\n"
          ]
        }
      ],
      "source": [
        "data.loc[(data['total_income'].isna()) & (data['income_type'] == 'сотрудник') , 'total_income'] = employee_median\n",
        "data.loc[(data['total_income'].isna()) & (data['income_type'] == 'пенсионер') , 'total_income'] = pensioner_median\n",
        "data.loc[(data['total_income'].isna()) & (data['income_type'] == 'компаньон') , 'total_income'] = companion_median\n",
        "data.loc[(data['total_income'].isna()) & (data['income_type'] == 'госслужащий') , 'total_income'] = civil_median\n",
        "data.loc[data['total_income'].isna(), 'total_income'] = income_median\n",
        "print('Пропусков осталось\\n', data.isna().sum())"
      ]
    },
    {
      "cell_type": "markdown",
      "metadata": {
        "id": "rDoJHhoGPh6U"
      },
      "source": [
        "Явных пропущенных данных нет. Но нужно посмотреть данные и на неочевидные пропуски.\n",
        "Займемся столбцом с возрастом заемщиков. Минимальное значение - 0, что противоречит правилам кредитования. Проверим, есть ли еще несовершеннолетние в таблице, и выясним, что аномальные значения столбца с возрастом - только нули. Скорее всего, ошибка вызвана человеческим фактором. "
      ]
    },
    {
      "cell_type": "code",
      "execution_count": null,
      "metadata": {
        "id": "TlFVad3UPh6U",
        "outputId": "2e37847c-466b-4a97-b8d6-b9c6523db42d"
      },
      "outputs": [
        {
          "name": "stdout",
          "output_type": "stream",
          "text": [
            "count    21525.000000\n",
            "mean        43.293380\n",
            "std         12.574584\n",
            "min          0.000000\n",
            "25%         33.000000\n",
            "50%         42.000000\n",
            "75%         53.000000\n",
            "max         75.000000\n",
            "Name: dob_years, dtype: float64\n",
            "Все значения равны 0, других значений меньше 18 нет\n",
            "Значений, равных 0: 101\n"
          ]
        }
      ],
      "source": [
        "print(data['dob_years'].describe())\n",
        "underage = data[data['dob_years'] == 0]['dob_years']\n",
        "if underage.count() == data[data['dob_years'] < 18]['dob_years'].count():\n",
        "    print('Все значения равны 0, других значений меньше 18 нет')\n",
        "print('Значений, равных 0:', underage.count())"
      ]
    },
    {
      "cell_type": "markdown",
      "metadata": {
        "id": "iD5XOYyaPh6V"
      },
      "source": [
        "Заменим нулевые значения медианным. Но для начала опять выделим пенсионеров в отдельную категорию, ведь их средний возраст будет отличаться от основной массы."
      ]
    },
    {
      "cell_type": "code",
      "execution_count": null,
      "metadata": {
        "id": "-yfGfjuhPh6V"
      },
      "outputs": [],
      "source": [
        "pensioner_age_median = data.loc[(data['income_type'] == 'пенсионер') & (data['dob_years'] != 0)]['dob_years'].median()\n",
        "data.loc[(data['income_type'] == 'пенсионер') & (data['dob_years'] == 0), 'dob_years'] = pensioner_age_median\n",
        "age_median = data[data['dob_years'] != 0]['dob_years'].median()\n",
        "data.loc[data['dob_years'] == 0, 'dob_years'] = age_median"
      ]
    },
    {
      "cell_type": "markdown",
      "metadata": {
        "id": "12Sdvf0bPh6W"
      },
      "source": [
        "Изучим все остальные столбцы с количественными значениями на предмет аномалий. "
      ]
    },
    {
      "cell_type": "code",
      "execution_count": null,
      "metadata": {
        "scrolled": true,
        "id": "PP-uTW5qPh6X",
        "outputId": "36471766-da42-43d2-c9c0-469aa18d2cd4"
      },
      "outputs": [
        {
          "name": "stdout",
          "output_type": "stream",
          "text": [
            "count    21525.000000\n",
            "mean         0.538908\n",
            "std          1.381587\n",
            "min         -1.000000\n",
            "25%          0.000000\n",
            "50%          0.000000\n",
            "75%          1.000000\n",
            "max         20.000000\n",
            "Name: children, dtype: float64\n",
            "count    21525.000000\n",
            "mean         0.817236\n",
            "std          0.548138\n",
            "min          0.000000\n",
            "25%          1.000000\n",
            "50%          1.000000\n",
            "75%          1.000000\n",
            "max          4.000000\n",
            "Name: education_id, dtype: float64\n",
            "count    21525.000000\n",
            "mean         0.972544\n",
            "std          1.420324\n",
            "min          0.000000\n",
            "25%          0.000000\n",
            "50%          0.000000\n",
            "75%          1.000000\n",
            "max          4.000000\n",
            "Name: family_status_id, dtype: float64\n",
            "count    21525.000000\n",
            "mean         0.080883\n",
            "std          0.272661\n",
            "min          0.000000\n",
            "25%          0.000000\n",
            "50%          0.000000\n",
            "75%          0.000000\n",
            "max          1.000000\n",
            "Name: debt, dtype: float64\n"
          ]
        }
      ],
      "source": [
        "print(data['children'].describe())\n",
        "print(data['education_id'].describe())\n",
        "print(data['family_status_id'].describe())\n",
        "print(data['debt'].describe())"
      ]
    },
    {
      "cell_type": "markdown",
      "metadata": {
        "id": "p_Ld75ROPh6X"
      },
      "source": [
        "В столбце с количеством детей явные ошибки - отрицательные дети, а также большое количество значений \"20\". Скорее всего, это либо опечатка, либо ошибка при переносе данных. Переведем \"негативных\" детей в \"позитивные\", а максимум детей к 0."
      ]
    },
    {
      "cell_type": "code",
      "execution_count": null,
      "metadata": {
        "scrolled": false,
        "id": "jy-kGX5yPh6X",
        "outputId": "8f70de7d-a988-4cb9-ec93-ddafd5824667"
      },
      "outputs": [
        {
          "name": "stdout",
          "output_type": "stream",
          "text": [
            "Значения столбца с количеством детей:\n",
            "  0     14149\n",
            " 1      4818\n",
            " 2      2055\n",
            " 3       330\n",
            " 20       76\n",
            "-1        47\n",
            " 4        41\n",
            " 5         9\n",
            "Name: children, dtype: int64\n",
            "count    21525.000000\n",
            "mean         0.472660\n",
            "std          0.750616\n",
            "min          0.000000\n",
            "25%          0.000000\n",
            "50%          0.000000\n",
            "75%          1.000000\n",
            "max          5.000000\n",
            "Name: children, dtype: float64\n"
          ]
        }
      ],
      "source": [
        "print('Значения столбца с количеством детей:\\n', data['children'].value_counts())\n",
        "data.loc[data['children'] == 20, 'children'] = 0\n",
        "data['children'] = data['children'].apply(abs)\n",
        "print(data['children'].describe())"
      ]
    },
    {
      "cell_type": "markdown",
      "metadata": {
        "id": "ZBeZr3ASPh6Y"
      },
      "source": [
        "**Вывод**"
      ]
    },
    {
      "cell_type": "markdown",
      "metadata": {
        "id": "yFkrLQmRPh6Z"
      },
      "source": [
        "Явные пропуски в датафрейме обнаружены только в двух столбцах - с данными о стаже и доходе заемщиков. Причем, строки с отсутствующими данными в этих категориях совпадают. Можно предположить, что пропуски вызваны ошибками во вводе или переносе данных. Перед заполнением данные по стажу пришлось исправить, так как они были совсем неправдоподобными.\n",
        "Чтобы заполнить пропуски, я вычислила медианные значения дохода и стажа по всей таблицы, а также для отдельных категорий, чтобы видеть, влияет ли категория занятости заемщика на эти показатели. Как оказалось, влияет, поэтому пропуски решено было заполнить медианами именно для нужной категории, а не для всего датафрейма.\n",
        "Но помимо явных пропущенных значений в данных также обнаружились аномалии, требующие исправления. Они, скорее всего, были вызваны ошибками при заполнении или переносе данных, поэтому могли появлиять на результат исследования. Для заполнения также были использованы медианные или распространенные значения. \n",
        "\n",
        "Теперь пропуски заполнены, а таблица стала намного понятнее.\n"
      ]
    },
    {
      "cell_type": "markdown",
      "metadata": {
        "id": "eQI-R44PPh6a"
      },
      "source": [
        "### Замена типа данных"
      ]
    },
    {
      "cell_type": "markdown",
      "metadata": {
        "id": "xvVSGg9SPh6a"
      },
      "source": [
        "Данные столбцов со стажем и доходом находятся в вещественном формате, что может помешать вычислениям. Для удобства переведем данные в целочисленный тип, используя метод astype."
      ]
    },
    {
      "cell_type": "code",
      "execution_count": null,
      "metadata": {
        "scrolled": true,
        "id": "eLr-e5_TPh6b",
        "outputId": "4fd774a4-28c7-4d43-edfa-7780235096a7"
      },
      "outputs": [
        {
          "name": "stdout",
          "output_type": "stream",
          "text": [
            "<class 'pandas.core.frame.DataFrame'>\n",
            "RangeIndex: 21525 entries, 0 to 21524\n",
            "Data columns (total 12 columns):\n",
            "children            21525 non-null int64\n",
            "years_employed      21525 non-null int64\n",
            "dob_years           21525 non-null int64\n",
            "education           21525 non-null object\n",
            "education_id        21525 non-null int64\n",
            "family_status       21525 non-null object\n",
            "family_status_id    21525 non-null int64\n",
            "gender              21525 non-null object\n",
            "income_type         21525 non-null object\n",
            "debt                21525 non-null int64\n",
            "total_income        21525 non-null int64\n",
            "purpose             21525 non-null object\n",
            "dtypes: int64(7), object(5)\n",
            "memory usage: 2.0+ MB\n"
          ]
        }
      ],
      "source": [
        "data = data.astype({'years_employed': int, 'total_income': int, 'dob_years': int})\n",
        "data.info()"
      ]
    },
    {
      "cell_type": "markdown",
      "metadata": {
        "id": "-Pv_xmttPh6c"
      },
      "source": [
        "**Вывод**"
      ]
    },
    {
      "cell_type": "markdown",
      "metadata": {
        "id": "Lgoq0vOCPh6c"
      },
      "source": [
        "Теперь данные либо целочисленные, либо строковые, что и понадобится нам для вычислений."
      ]
    },
    {
      "cell_type": "code",
      "source": [
        "columns = [col1, col2, col3]\n",
        "\n",
        "for i in columns:\n",
        "    df[i] = df[i].fillna(0)"
      ],
      "metadata": {
        "id": "I7lVEqZZPxen"
      },
      "execution_count": null,
      "outputs": []
    },
    {
      "cell_type": "markdown",
      "metadata": {
        "id": "N9ComcxwPh6d"
      },
      "source": [
        "### Обработка дубликатов"
      ]
    },
    {
      "cell_type": "markdown",
      "metadata": {
        "id": "QJjYrgfOPh6d"
      },
      "source": [
        "Теперь рассмотрим оставшиеся столбцы. Посчитаем явные дубликаты, а затем проверим уникальные значения на предмет неявных дубликатов."
      ]
    },
    {
      "cell_type": "code",
      "execution_count": null,
      "metadata": {
        "id": "rDaVDvCXPh6e",
        "outputId": "91bd0156-9d06-472c-eca5-698daacb2b26"
      },
      "outputs": [
        {
          "name": "stdout",
          "output_type": "stream",
          "text": [
            "Дубликатов: 54\n",
            "['женат / замужем' 'гражданский брак' 'вдовец / вдова' 'в разводе'\n",
            " 'Не женат / не замужем']\n",
            "['сотрудник' 'пенсионер' 'компаньон' 'госслужащий' 'безработный'\n",
            " 'предприниматель' 'студент' 'в декрете']\n",
            "['высшее' 'среднее' 'Среднее' 'СРЕДНЕЕ' 'ВЫСШЕЕ' 'неоконченное высшее'\n",
            " 'начальное' 'Высшее' 'НЕОКОНЧЕННОЕ ВЫСШЕЕ' 'Неоконченное высшее'\n",
            " 'НАЧАЛЬНОЕ' 'Начальное' 'Ученая степень' 'УЧЕНАЯ СТЕПЕНЬ'\n",
            " 'ученая степень']\n",
            "['F' 'M' 'XNA']\n",
            "Неизвестных значений столбца с полом: 1\n"
          ]
        }
      ],
      "source": [
        "print('Дубликатов:', data.duplicated().sum())\n",
        "print(data['family_status'].unique())\n",
        "print(data['income_type'].unique())\n",
        "print(data['education'].unique())\n",
        "print(data['gender'].unique())\n",
        "print('Неизвестных значений столбца с полом:', data[data['gender']=='XNA']['gender'].count())"
      ]
    },
    {
      "cell_type": "markdown",
      "metadata": {
        "id": "YEDHbyNuPh6e"
      },
      "source": [
        "Сразу бросаются в глаза разнообразные значения столбца с образованием. Приведем их к нижнему регистру для простоты восприятия. После форматирования число уникальных значений заметно сократилось."
      ]
    },
    {
      "cell_type": "code",
      "execution_count": null,
      "metadata": {
        "id": "HWqKUXW4Ph6f",
        "outputId": "34b01bca-74e5-4557-adc8-e8e3ffec7451"
      },
      "outputs": [
        {
          "name": "stdout",
          "output_type": "stream",
          "text": [
            "среднее                15233\n",
            "высшее                  5260\n",
            "неоконченное высшее      744\n",
            "начальное                282\n",
            "ученая степень             6\n",
            "Name: education, dtype: int64\n"
          ]
        }
      ],
      "source": [
        "#print(data['education'].value_counts())\n",
        "data['education'] = data['education'].str.lower()\n",
        "print(data['education'].value_counts())"
      ]
    },
    {
      "cell_type": "code",
      "execution_count": null,
      "metadata": {
        "id": "gXcRDulGPh6f"
      },
      "outputs": [],
      "source": [
        "data = data.drop(np.where(data['gender'] == 'XNA')[0])"
      ]
    },
    {
      "cell_type": "code",
      "execution_count": null,
      "metadata": {
        "id": "eS9wu3RePh6g",
        "outputId": "c0e80ebf-71f5-462b-e57d-647be4251afc"
      },
      "outputs": [
        {
          "name": "stdout",
          "output_type": "stream",
          "text": [
            "Дублирующихся значений 0\n"
          ]
        }
      ],
      "source": [
        "data = data.drop_duplicates().reset_index(drop=True)\n",
        "print('Дублирующихся значений', data.duplicated().sum())"
      ]
    },
    {
      "cell_type": "markdown",
      "metadata": {
        "id": "aTbP-VkCPh6g"
      },
      "source": [
        "Теперь удалим дубликаты и пропущенное значение столбца с полом, а затем посмотрим на результат."
      ]
    },
    {
      "cell_type": "code",
      "execution_count": null,
      "metadata": {
        "scrolled": true,
        "id": "tuEPKrQ2Ph6h",
        "outputId": "6ecad0b4-af15-48b0-8198-00ffe74fa343"
      },
      "outputs": [
        {
          "name": "stdout",
          "output_type": "stream",
          "text": [
            "    children  years_employed  dob_years            education  education_id  \\\n",
            "0          1              23         42               высшее             0   \n",
            "1          1              11         36              среднее             1   \n",
            "2          0               0         33              среднее             1   \n",
            "3          3              11         32              среднее             1   \n",
            "4          0              38         53              среднее             1   \n",
            "5          0               2         27               высшее             0   \n",
            "6          0               7         43               высшее             0   \n",
            "7          0               0         50              среднее             1   \n",
            "8          2               0         35               высшее             0   \n",
            "9          0               5         41              среднее             1   \n",
            "10         2              11         36               высшее             0   \n",
            "11         0               2         40              среднее             1   \n",
            "12         0              41         65              среднее             1   \n",
            "13         0               5         54  неоконченное высшее             2   \n",
            "14         0               5         56               высшее             0   \n",
            "\n",
            "       family_status  family_status_id gender income_type  debt  total_income  \\\n",
            "0    женат / замужем                 0      F   сотрудник     0        253875   \n",
            "1    женат / замужем                 0      F   сотрудник     0        112080   \n",
            "2    женат / замужем                 0      M   сотрудник     0        145885   \n",
            "3    женат / замужем                 0      M   сотрудник     0        267628   \n",
            "4   гражданский брак                 1      F   пенсионер     0        158616   \n",
            "5   гражданский брак                 1      M   компаньон     0        255763   \n",
            "6    женат / замужем                 0      F   компаньон     0        240525   \n",
            "7    женат / замужем                 0      M   сотрудник     0        135823   \n",
            "8   гражданский брак                 1      F   сотрудник     0         95856   \n",
            "9    женат / замужем                 0      M   сотрудник     0        144425   \n",
            "10   женат / замужем                 0      M   компаньон     0        113943   \n",
            "11   женат / замужем                 0      F   сотрудник     0         77069   \n",
            "12  гражданский брак                 1      M   пенсионер     0        118514   \n",
            "13   женат / замужем                 0      F   сотрудник     0        130458   \n",
            "14  гражданский брак                 1      F   компаньон     1        165127   \n",
            "\n",
            "                              purpose  \n",
            "0                       покупка жилья  \n",
            "1             приобретение автомобиля  \n",
            "2                       покупка жилья  \n",
            "3          дополнительное образование  \n",
            "4                     сыграть свадьбу  \n",
            "5                       покупка жилья  \n",
            "6                   операции с жильем  \n",
            "7                         образование  \n",
            "8               на проведение свадьбы  \n",
            "9             покупка жилья для семьи  \n",
            "10               покупка недвижимости  \n",
            "11  покупка коммерческой недвижимости  \n",
            "12                    сыграть свадьбу  \n",
            "13            приобретение автомобиля  \n",
            "14         покупка жилой недвижимости  \n"
          ]
        }
      ],
      "source": [
        "print(data.head(15))"
      ]
    },
    {
      "cell_type": "markdown",
      "metadata": {
        "id": "D8BUP6vOPh6h"
      },
      "source": [
        "**Вывод**"
      ]
    },
    {
      "cell_type": "markdown",
      "metadata": {
        "id": "rU1yeQ-5Ph6i"
      },
      "source": [
        "Помимо очевидных дубликатов, одинаковые значения также были выявлены при изменении регистра. Таблица становится все понятнее."
      ]
    },
    {
      "cell_type": "markdown",
      "metadata": {
        "id": "CKtWUUCRPh6i"
      },
      "source": [
        "### Лемматизация"
      ]
    },
    {
      "cell_type": "code",
      "execution_count": null,
      "metadata": {
        "id": "OPOUOJnXPh6i",
        "outputId": "da494b57-1233-4e54-97d9-ae24e51804c5"
      },
      "outputs": [
        {
          "name": "stdout",
          "output_type": "stream",
          "text": [
            "свадьба                                   791\n",
            "на проведение свадьбы                     768\n",
            "сыграть свадьбу                           765\n",
            "операции с недвижимостью                  675\n",
            "покупка коммерческой недвижимости         661\n",
            "операции с жильем                         652\n",
            "покупка жилья для сдачи                   651\n",
            "операции с коммерческой недвижимостью     650\n",
            "жилье                                     646\n",
            "покупка жилья                             646\n",
            "покупка жилья для семьи                   638\n",
            "строительство собственной недвижимости    635\n",
            "недвижимость                              633\n",
            "операции со своей недвижимостью           627\n",
            "строительство жилой недвижимости          624\n",
            "покупка своего жилья                      620\n",
            "покупка недвижимости                      620\n",
            "строительство недвижимости                619\n",
            "ремонт жилью                              607\n",
            "покупка жилой недвижимости                606\n",
            "на покупку своего автомобиля              505\n",
            "заняться высшим образованием              496\n",
            "автомобиль                                494\n",
            "сделка с подержанным автомобилем          486\n",
            "на покупку подержанного автомобиля        478\n",
            "автомобили                                478\n",
            "свой автомобиль                           478\n",
            "на покупку автомобиля                     471\n",
            "приобретение автомобиля                   461\n",
            "дополнительное образование                460\n",
            "сделка с автомобилем                      455\n",
            "высшее образование                        452\n",
            "образование                               447\n",
            "получение дополнительного образования     446\n",
            "получение образования                     442\n",
            "профильное образование                    436\n",
            "получение высшего образования             426\n",
            "заняться образованием                     408\n",
            "Name: purpose, dtype: int64\n"
          ]
        }
      ],
      "source": [
        "print(data['purpose'].value_counts())\n",
        "purposes = data['purpose'].unique()"
      ]
    },
    {
      "cell_type": "markdown",
      "metadata": {
        "id": "M7_Ojk6dPh6j"
      },
      "source": [
        "Заемщики указывают разные цели для кредита, но в конечном счете их можно объединить в несколько категорий. Чтобы их вычислить, лемматизируем слова из целей и посчитаем их количество. "
      ]
    },
    {
      "cell_type": "code",
      "execution_count": null,
      "metadata": {
        "id": "RmKXhb8tPh6j",
        "outputId": "42926001-b63d-4631-8fc2-83ad9b65df0f"
      },
      "outputs": [
        {
          "name": "stdout",
          "output_type": "stream",
          "text": [
            "[' покупка   жилье ' ' приобретение   автомобиль ' ' дополнительный   образование '\n",
            "  ' сыграть   свадьба ' ' операция   с   жилье ' ' образование '\n",
            "  ' на   проведение   свадьба ' ' покупка   жилье   для   семья ' ' покупка   недвижимость '\n",
            "  ' покупка   коммерческий   недвижимость ' ' покупка   жилой   недвижимость '\n",
            "  ' строительство   собственный   недвижимость ' ' недвижимость '\n",
            "  ' строительство   недвижимость ' ' на   покупка   подержать   автомобиль '\n",
            "  ' на   покупка   свой   автомобиль ' ' операция   с   коммерческий   недвижимость '\n",
            "  ' строительство   жилой   недвижимость ' ' жилье '\n",
            "  ' операция   со   свой   недвижимость ' ' автомобиль ' ' заниматься   образование '\n",
            "  ' сделка   с   подержать   автомобиль ' ' получение   образование ' ' автомобиль '\n",
            "  ' свадьба ' ' получение   дополнительный   образование ' ' покупка   свой   жилье '\n",
            "  ' операция   с   недвижимость ' ' получение   высокий   образование '\n",
            "  ' свой   автомобиль ' ' сделка   с   автомобиль ' ' профильный   образование '\n",
            "  ' высокий   образование ' ' покупка   жилье   для   сдача ' ' на   покупка   автомобиль '\n",
            "  ' ремонт   жилье ' ' заниматься   высокий   образование ']\n",
            "\n"
          ]
        }
      ],
      "source": [
        "purposes = str(data['purpose'].unique())\n",
        "purpose_lemmas = m.lemmatize(purposes)\n",
        "print(' '.join(purpose_lemmas))"
      ]
    },
    {
      "cell_type": "code",
      "execution_count": null,
      "metadata": {
        "id": "fpssYw06Ph6l",
        "outputId": "e56c249b-555a-4889-9679-060dbea73c57"
      },
      "outputs": [
        {
          "name": "stdout",
          "output_type": "stream",
          "text": [
            "Counter({' ': 59, \"' '\": 23, \"'\\n\": 14, \" '\": 14, 'покупка': 10, 'недвижимость': 10, 'автомобиль': 9, 'образование': 9, 'жилье': 7, 'с': 5, 'операция': 4, 'на': 4, 'свой': 4, 'свадьба': 3, 'строительство': 3, 'получение': 3, 'высокий': 3, 'дополнительный': 2, 'для': 2, 'коммерческий': 2, 'жилой': 2, 'подержать': 2, 'заниматься': 2, 'сделка': 2, \"['\": 1, 'приобретение': 1, 'сыграть': 1, 'проведение': 1, 'семья': 1, 'собственный': 1, 'со': 1, 'профильный': 1, 'сдача': 1, 'ремонт': 1, \"']\\n\": 1})\n"
          ]
        }
      ],
      "source": [
        "print(Counter(purpose_lemmas))"
      ]
    },
    {
      "cell_type": "markdown",
      "metadata": {
        "id": "7cnRtQofPh6l"
      },
      "source": [
        "Самыми популярными словами оказались \"недвижимость\", \"автомобиль\", \"образование\", \"свадьба\". Выделим цели в эти категории, для чего напишем функцию и применим ее для заполнения нового столбца."
      ]
    },
    {
      "cell_type": "code",
      "execution_count": null,
      "metadata": {
        "scrolled": true,
        "id": "CpwFQR5iPh6l",
        "outputId": "7681b106-8e44-4d00-e7f2-cda151583b34"
      },
      "outputs": [
        {
          "name": "stdout",
          "output_type": "stream",
          "text": [
            "0        недвижимость\n",
            "1          автомобиль\n",
            "2        недвижимость\n",
            "3         образование\n",
            "4             свадьба\n",
            "             ...     \n",
            "21448    недвижимость\n",
            "21449      автомобиль\n",
            "21450    недвижимость\n",
            "21451      автомобиль\n",
            "21452      автомобиль\n",
            "Name: category, Length: 21453, dtype: object\n",
            "    children  years_employed  dob_years            education  education_id  \\\n",
            "0          1              23         42               высшее             0   \n",
            "1          1              11         36              среднее             1   \n",
            "2          0               0         33              среднее             1   \n",
            "3          3              11         32              среднее             1   \n",
            "4          0              38         53              среднее             1   \n",
            "5          0               2         27               высшее             0   \n",
            "6          0               7         43               высшее             0   \n",
            "7          0               0         50              среднее             1   \n",
            "8          2               0         35               высшее             0   \n",
            "9          0               5         41              среднее             1   \n",
            "10         2              11         36               высшее             0   \n",
            "11         0               2         40              среднее             1   \n",
            "12         0              41         65              среднее             1   \n",
            "13         0               5         54  неоконченное высшее             2   \n",
            "14         0               5         56               высшее             0   \n",
            "\n",
            "       family_status  family_status_id gender income_type  debt  total_income  \\\n",
            "0    женат / замужем                 0      F   сотрудник     0        253875   \n",
            "1    женат / замужем                 0      F   сотрудник     0        112080   \n",
            "2    женат / замужем                 0      M   сотрудник     0        145885   \n",
            "3    женат / замужем                 0      M   сотрудник     0        267628   \n",
            "4   гражданский брак                 1      F   пенсионер     0        158616   \n",
            "5   гражданский брак                 1      M   компаньон     0        255763   \n",
            "6    женат / замужем                 0      F   компаньон     0        240525   \n",
            "7    женат / замужем                 0      M   сотрудник     0        135823   \n",
            "8   гражданский брак                 1      F   сотрудник     0         95856   \n",
            "9    женат / замужем                 0      M   сотрудник     0        144425   \n",
            "10   женат / замужем                 0      M   компаньон     0        113943   \n",
            "11   женат / замужем                 0      F   сотрудник     0         77069   \n",
            "12  гражданский брак                 1      M   пенсионер     0        118514   \n",
            "13   женат / замужем                 0      F   сотрудник     0        130458   \n",
            "14  гражданский брак                 1      F   компаньон     1        165127   \n",
            "\n",
            "                              purpose      category  \n",
            "0                       покупка жилья  недвижимость  \n",
            "1             приобретение автомобиля    автомобиль  \n",
            "2                       покупка жилья  недвижимость  \n",
            "3          дополнительное образование   образование  \n",
            "4                     сыграть свадьбу       свадьба  \n",
            "5                       покупка жилья  недвижимость  \n",
            "6                   операции с жильем  недвижимость  \n",
            "7                         образование   образование  \n",
            "8               на проведение свадьбы       свадьба  \n",
            "9             покупка жилья для семьи  недвижимость  \n",
            "10               покупка недвижимости  недвижимость  \n",
            "11  покупка коммерческой недвижимости  недвижимость  \n",
            "12                    сыграть свадьбу       свадьба  \n",
            "13            приобретение автомобиля    автомобиль  \n",
            "14         покупка жилой недвижимости  недвижимость  \n"
          ]
        }
      ],
      "source": [
        "def categorize(purposes):\n",
        "    purpose_lemmas = m.lemmatize(purposes)\n",
        "    if 'недвижимость' in purpose_lemmas or 'жилье' in purpose_lemmas:\n",
        "        return 'недвижимость'\n",
        "    if 'автомобиль' in purpose_lemmas:\n",
        "        return 'автомобиль'\n",
        "    if 'образование' in purpose_lemmas:\n",
        "        return 'образование'\n",
        "    if 'свадьба' in purpose_lemmas:\n",
        "        return 'свадьба'\n",
        "    return 'прочее'\n",
        "\n",
        "data['category'] = data['purpose'].apply(categorize)\n",
        "print(data['category'])\n",
        "print(data.head(15))"
      ]
    },
    {
      "cell_type": "markdown",
      "metadata": {
        "id": "H13VE5XQPh6l"
      },
      "source": [
        "**Вывод**"
      ]
    },
    {
      "cell_type": "markdown",
      "metadata": {
        "id": "PTr3E6wSPh6l"
      },
      "source": [
        "Хотя в столбце и казалось много разных значений, благодаря лемматизации удалось вычислить их суть и выделить цели в несколько категорий, которыми удобно будет оперировать в исследовании."
      ]
    },
    {
      "cell_type": "markdown",
      "metadata": {
        "id": "kAnGe0gsPh6n"
      },
      "source": [
        "### Категоризация данных"
      ]
    },
    {
      "cell_type": "markdown",
      "metadata": {
        "id": "CdDLMCh_Ph6n"
      },
      "source": [
        "Еще немного \"подчистим\" данные. "
      ]
    },
    {
      "cell_type": "code",
      "execution_count": null,
      "metadata": {
        "id": "WoBuIj1LPh6o",
        "outputId": "01d03571-fa75-4631-fe1b-6e1c6ff6fbea"
      },
      "outputs": [
        {
          "name": "stdout",
          "output_type": "stream",
          "text": [
            "женат / замужем          12339\n",
            "гражданский брак          4150\n",
            "Не женат / не замужем     2810\n",
            "в разводе                 1195\n",
            "вдовец / вдова             959\n",
            "Name: family_status, dtype: int64\n"
          ]
        }
      ],
      "source": [
        "print(data['family_status'].value_counts())"
      ]
    },
    {
      "cell_type": "code",
      "execution_count": null,
      "metadata": {
        "id": "jOkjsM5qPh6o",
        "outputId": "ade3d342-6259-43e5-b99e-d1c644fec4ed"
      },
      "outputs": [
        {
          "name": "stdout",
          "output_type": "stream",
          "text": [
            "женат / замужем          12339\n",
            "гражданский брак          4150\n",
            "не женат / не замужем     2810\n",
            "в разводе                 1195\n",
            "вдовец / вдова             959\n",
            "Name: family_status, dtype: int64\n"
          ]
        }
      ],
      "source": [
        "data['family_status'] = data['family_status'].str.lower()\n",
        "print(data['family_status'].value_counts())"
      ]
    },
    {
      "cell_type": "markdown",
      "metadata": {
        "id": "RTQZfVhPPh6o"
      },
      "source": [
        "Также посмотрим на столбец с доходом. Пока эти цифры сложно использовать, лучше разбить их на категории, чтобы понять уровень дохода."
      ]
    },
    {
      "cell_type": "code",
      "execution_count": null,
      "metadata": {
        "id": "_LLXQDa1Ph6p",
        "outputId": "40a157d2-2d1e-4828-a0c9-ad5d655ed803"
      },
      "outputs": [
        {
          "name": "stdout",
          "output_type": "stream",
          "text": [
            "142594    1070\n",
            "172357     502\n",
            "118514     387\n",
            "150447     145\n",
            "150684       3\n",
            "          ... \n",
            "101387       1\n",
            "138249       1\n",
            "280240       1\n",
            "390148       1\n",
            "264193       1\n",
            "Name: total_income, Length: 18607, dtype: int64\n"
          ]
        }
      ],
      "source": [
        "print(data['total_income'].value_counts())"
      ]
    },
    {
      "cell_type": "markdown",
      "metadata": {
        "id": "qzOHY2lTPh6p"
      },
      "source": [
        "Разбиваем весь массив данных на 4 подгруппы с названиями уровней дохода и распределяем по ним заемщиков."
      ]
    },
    {
      "cell_type": "code",
      "execution_count": null,
      "metadata": {
        "scrolled": true,
        "id": "Eu6lO-mdPh6q",
        "outputId": "d181dbd8-ad88-47f0-f150-e4a264d0f63c"
      },
      "outputs": [
        {
          "name": "stdout",
          "output_type": "stream",
          "text": [
            "    children  years_employed  dob_years            education  education_id  \\\n",
            "0          1              23         42               высшее             0   \n",
            "1          1              11         36              среднее             1   \n",
            "2          0               0         33              среднее             1   \n",
            "3          3              11         32              среднее             1   \n",
            "4          0              38         53              среднее             1   \n",
            "5          0               2         27               высшее             0   \n",
            "6          0               7         43               высшее             0   \n",
            "7          0               0         50              среднее             1   \n",
            "8          2               0         35               высшее             0   \n",
            "9          0               5         41              среднее             1   \n",
            "10         2              11         36               высшее             0   \n",
            "11         0               2         40              среднее             1   \n",
            "12         0              41         65              среднее             1   \n",
            "13         0               5         54  неоконченное высшее             2   \n",
            "14         0               5         56               высшее             0   \n",
            "\n",
            "       family_status  family_status_id gender income_type  debt  total_income  \\\n",
            "0    женат / замужем                 0      F   сотрудник     0        253875   \n",
            "1    женат / замужем                 0      F   сотрудник     0        112080   \n",
            "2    женат / замужем                 0      M   сотрудник     0        145885   \n",
            "3    женат / замужем                 0      M   сотрудник     0        267628   \n",
            "4   гражданский брак                 1      F   пенсионер     0        158616   \n",
            "5   гражданский брак                 1      M   компаньон     0        255763   \n",
            "6    женат / замужем                 0      F   компаньон     0        240525   \n",
            "7    женат / замужем                 0      M   сотрудник     0        135823   \n",
            "8   гражданский брак                 1      F   сотрудник     0         95856   \n",
            "9    женат / замужем                 0      M   сотрудник     0        144425   \n",
            "10   женат / замужем                 0      M   компаньон     0        113943   \n",
            "11   женат / замужем                 0      F   сотрудник     0         77069   \n",
            "12  гражданский брак                 1      M   пенсионер     0        118514   \n",
            "13   женат / замужем                 0      F   сотрудник     0        130458   \n",
            "14  гражданский брак                 1      F   компаньон     1        165127   \n",
            "\n",
            "                              purpose      category   income_level  \n",
            "0                       покупка жилья  недвижимость        высокий  \n",
            "1             приобретение автомобиля    автомобиль        средний  \n",
            "2                       покупка жилья  недвижимость  выше среднего  \n",
            "3          дополнительное образование   образование        высокий  \n",
            "4                     сыграть свадьбу       свадьба  выше среднего  \n",
            "5                       покупка жилья  недвижимость        высокий  \n",
            "6                   операции с жильем  недвижимость        высокий  \n",
            "7                         образование   образование        средний  \n",
            "8               на проведение свадьбы       свадьба         низкий  \n",
            "9             покупка жилья для семьи  недвижимость  выше среднего  \n",
            "10               покупка недвижимости  недвижимость        средний  \n",
            "11  покупка коммерческой недвижимости  недвижимость         низкий  \n",
            "12                    сыграть свадьбу       свадьба        средний  \n",
            "13            приобретение автомобиля    автомобиль        средний  \n",
            "14         покупка жилой недвижимости  недвижимость  выше среднего  \n"
          ]
        }
      ],
      "source": [
        "income_labels = ['низкий', 'средний', 'выше среднего', 'высокий']\n",
        "data['income_level'] = pd.qcut(data['total_income'], q=4, labels=income_labels)\n",
        "print(data.head(15))"
      ]
    },
    {
      "cell_type": "markdown",
      "metadata": {
        "id": "nOGr9G-EPh6q"
      },
      "source": [
        "Выделим также категории возраста, их также можно использовать для расчетов."
      ]
    },
    {
      "cell_type": "code",
      "execution_count": null,
      "metadata": {
        "scrolled": true,
        "id": "9OiVG3D9Ph6r",
        "outputId": "c30d67a2-cf67-48d6-9824-ee488a32a300"
      },
      "outputs": [
        {
          "name": "stdout",
          "output_type": "stream",
          "text": [
            "    children  years_employed  dob_years            education  education_id  \\\n",
            "0          1              23         42               высшее             0   \n",
            "1          1              11         36              среднее             1   \n",
            "2          0               0         33              среднее             1   \n",
            "3          3              11         32              среднее             1   \n",
            "4          0              38         53              среднее             1   \n",
            "5          0               2         27               высшее             0   \n",
            "6          0               7         43               высшее             0   \n",
            "7          0               0         50              среднее             1   \n",
            "8          2               0         35               высшее             0   \n",
            "9          0               5         41              среднее             1   \n",
            "10         2              11         36               высшее             0   \n",
            "11         0               2         40              среднее             1   \n",
            "12         0              41         65              среднее             1   \n",
            "13         0               5         54  неоконченное высшее             2   \n",
            "14         0               5         56               высшее             0   \n",
            "\n",
            "       family_status  family_status_id gender income_type  debt  total_income  \\\n",
            "0    женат / замужем                 0      F   сотрудник     0        253875   \n",
            "1    женат / замужем                 0      F   сотрудник     0        112080   \n",
            "2    женат / замужем                 0      M   сотрудник     0        145885   \n",
            "3    женат / замужем                 0      M   сотрудник     0        267628   \n",
            "4   гражданский брак                 1      F   пенсионер     0        158616   \n",
            "5   гражданский брак                 1      M   компаньон     0        255763   \n",
            "6    женат / замужем                 0      F   компаньон     0        240525   \n",
            "7    женат / замужем                 0      M   сотрудник     0        135823   \n",
            "8   гражданский брак                 1      F   сотрудник     0         95856   \n",
            "9    женат / замужем                 0      M   сотрудник     0        144425   \n",
            "10   женат / замужем                 0      M   компаньон     0        113943   \n",
            "11   женат / замужем                 0      F   сотрудник     0         77069   \n",
            "12  гражданский брак                 1      M   пенсионер     0        118514   \n",
            "13   женат / замужем                 0      F   сотрудник     0        130458   \n",
            "14  гражданский брак                 1      F   компаньон     1        165127   \n",
            "\n",
            "                              purpose      category   income_level  \\\n",
            "0                       покупка жилья  недвижимость        высокий   \n",
            "1             приобретение автомобиля    автомобиль        средний   \n",
            "2                       покупка жилья  недвижимость  выше среднего   \n",
            "3          дополнительное образование   образование        высокий   \n",
            "4                     сыграть свадьбу       свадьба  выше среднего   \n",
            "5                       покупка жилья  недвижимость        высокий   \n",
            "6                   операции с жильем  недвижимость        высокий   \n",
            "7                         образование   образование        средний   \n",
            "8               на проведение свадьбы       свадьба         низкий   \n",
            "9             покупка жилья для семьи  недвижимость  выше среднего   \n",
            "10               покупка недвижимости  недвижимость        средний   \n",
            "11  покупка коммерческой недвижимости  недвижимость         низкий   \n",
            "12                    сыграть свадьбу       свадьба        средний   \n",
            "13            приобретение автомобиля    автомобиль        средний   \n",
            "14         покупка жилой недвижимости  недвижимость  выше среднего   \n",
            "\n",
            "                age  \n",
            "0   средний возраст  \n",
            "1           молодые  \n",
            "2           молодые  \n",
            "3           молодые  \n",
            "4           пожилые  \n",
            "5           молодые  \n",
            "6   средний возраст  \n",
            "7   средний возраст  \n",
            "8           молодые  \n",
            "9   средний возраст  \n",
            "10          молодые  \n",
            "11  средний возраст  \n",
            "12          пожилые  \n",
            "13          пожилые  \n",
            "14          пожилые  \n"
          ]
        }
      ],
      "source": [
        "age_labels = ['молодые', 'средний возраст', 'пожилые']\n",
        "data['age'] = pd.qcut(data['dob_years'], q=3, labels=age_labels)\n",
        "print(data.head(15))"
      ]
    },
    {
      "cell_type": "markdown",
      "metadata": {
        "id": "SRgziIsDPh6r"
      },
      "source": [
        "**Вывод**"
      ]
    },
    {
      "cell_type": "markdown",
      "metadata": {
        "id": "ExEtot_HPh6s"
      },
      "source": [
        "Таблица стала еще нагляднее, данные готовы для анализа."
      ]
    },
    {
      "cell_type": "markdown",
      "metadata": {
        "id": "dyc4-5pnPh6s"
      },
      "source": [
        "## Шаг 3. Ответьте на вопросы"
      ]
    },
    {
      "cell_type": "markdown",
      "metadata": {
        "id": "A1ZDNd-NPh6t"
      },
      "source": [
        "- Есть ли зависимость между наличием детей и возвратом кредита в срок?"
      ]
    },
    {
      "cell_type": "code",
      "execution_count": null,
      "metadata": {
        "id": "-RX_ntnXPh6t",
        "outputId": "a10271a4-adc7-4ca1-a881-3b84a54d6b78"
      },
      "outputs": [
        {
          "name": "stdout",
          "output_type": "stream",
          "text": [
            "          всего  просрочки % просрочки\n",
            "children                              \n",
            "4            41          4       9.76%\n",
            "2          2052        194       9.45%\n",
            "1          4855        445       9.17%\n",
            "3           330         27       8.18%\n",
            "0         14166       1071       7.56%\n",
            "5             9          0       0.00%\n"
          ]
        }
      ],
      "source": [
        "report = data.groupby('children').agg({'debt': ['count', 'sum', 'mean']})\n",
        "report.columns = ['всего', 'просрочки', '% просрочки']\n",
        "print(report.sort_values(['% просрочки'], ascending=False).to_string(formatters={'% просрочки':'{:.2%}'.format}))"
      ]
    },
    {
      "cell_type": "markdown",
      "metadata": {
        "id": "VnonPqPRPh6u"
      },
      "source": [
        "**Вывод**"
      ]
    },
    {
      "cell_type": "markdown",
      "metadata": {
        "id": "J_AqnPeqPh6u"
      },
      "source": [
        "Прямой зависимости нет, внизу списка и люди без детей, и многодетные семьи с 5 детьми. По семьям с 4 и 5 детьми выборка небольшая, поэтому категоричные выводы делать сложно. Но можно сказать, что у бездетных в целом процент оплаты кредита выше, чем у людей с детьми."
      ]
    },
    {
      "cell_type": "code",
      "execution_count": null,
      "metadata": {
        "id": "exBn8QAJPh6v",
        "outputId": "e9b67286-4fba-40e3-f177-f13c4f8ff791"
      },
      "outputs": [
        {
          "data": {
            "text/html": [
              "<div>\n",
              "<style scoped>\n",
              "    .dataframe tbody tr th:only-of-type {\n",
              "        vertical-align: middle;\n",
              "    }\n",
              "\n",
              "    .dataframe tbody tr th {\n",
              "        vertical-align: top;\n",
              "    }\n",
              "\n",
              "    .dataframe thead tr th {\n",
              "        text-align: left;\n",
              "    }\n",
              "\n",
              "    .dataframe thead tr:last-of-type th {\n",
              "        text-align: right;\n",
              "    }\n",
              "</style>\n",
              "<table border=\"1\" class=\"dataframe\">\n",
              "  <thead>\n",
              "    <tr>\n",
              "      <th></th>\n",
              "      <th colspan=\"3\" halign=\"left\">debt</th>\n",
              "    </tr>\n",
              "    <tr>\n",
              "      <th></th>\n",
              "      <th>count</th>\n",
              "      <th>sum</th>\n",
              "      <th>mean</th>\n",
              "    </tr>\n",
              "    <tr>\n",
              "      <th>children</th>\n",
              "      <th></th>\n",
              "      <th></th>\n",
              "      <th></th>\n",
              "    </tr>\n",
              "  </thead>\n",
              "  <tbody>\n",
              "    <tr>\n",
              "      <td>0</td>\n",
              "      <td>14166</td>\n",
              "      <td>1071</td>\n",
              "      <td>0.075604</td>\n",
              "    </tr>\n",
              "    <tr>\n",
              "      <td>1</td>\n",
              "      <td>4855</td>\n",
              "      <td>445</td>\n",
              "      <td>0.091658</td>\n",
              "    </tr>\n",
              "    <tr>\n",
              "      <td>2</td>\n",
              "      <td>2052</td>\n",
              "      <td>194</td>\n",
              "      <td>0.094542</td>\n",
              "    </tr>\n",
              "    <tr>\n",
              "      <td>3</td>\n",
              "      <td>330</td>\n",
              "      <td>27</td>\n",
              "      <td>0.081818</td>\n",
              "    </tr>\n",
              "    <tr>\n",
              "      <td>4</td>\n",
              "      <td>41</td>\n",
              "      <td>4</td>\n",
              "      <td>0.097561</td>\n",
              "    </tr>\n",
              "    <tr>\n",
              "      <td>5</td>\n",
              "      <td>9</td>\n",
              "      <td>0</td>\n",
              "      <td>0.000000</td>\n",
              "    </tr>\n",
              "  </tbody>\n",
              "</table>\n",
              "</div>"
            ],
            "text/plain": [
              "           debt                \n",
              "          count   sum      mean\n",
              "children                       \n",
              "0         14166  1071  0.075604\n",
              "1          4855   445  0.091658\n",
              "2          2052   194  0.094542\n",
              "3           330    27  0.081818\n",
              "4            41     4  0.097561\n",
              "5             9     0  0.000000"
            ]
          },
          "execution_count": 40,
          "metadata": {},
          "output_type": "execute_result"
        }
      ],
      "source": [
        "data.groupby('children').agg({'debt': ['count', 'sum', 'mean']})"
      ]
    },
    {
      "cell_type": "markdown",
      "metadata": {
        "id": "NhF4hdemPh6v"
      },
      "source": [
        "- Есть ли зависимость между семейным положением и возвратом кредита в срок?"
      ]
    },
    {
      "cell_type": "code",
      "execution_count": null,
      "metadata": {
        "id": "fw4ryhvKPh6w",
        "outputId": "e5d50a88-b5b1-4e30-a000-1f0889336237"
      },
      "outputs": [
        {
          "name": "stdout",
          "output_type": "stream",
          "text": [
            "                       всего  просрочки % просрочки\n",
            "family_status                                      \n",
            "не женат / не замужем   2810        274       9.75%\n",
            "гражданский брак        4150        388       9.35%\n",
            "женат / замужем        12339        931       7.55%\n",
            "в разводе               1195         85       7.11%\n",
            "вдовец / вдова           959         63       6.57%\n"
          ]
        }
      ],
      "source": [
        "report = data.groupby('family_status').agg({'debt': ['count', 'sum', 'mean']})\n",
        "report.columns = ['всего', 'просрочки', '% просрочки']\n",
        "print(report.sort_values(['% просрочки'], ascending=False).to_string(formatters={'% просрочки':'{:.2%}'.format}))"
      ]
    },
    {
      "cell_type": "markdown",
      "metadata": {
        "id": "NtXGq3MhPh6w"
      },
      "source": [
        "**Вывод**"
      ]
    },
    {
      "cell_type": "markdown",
      "metadata": {
        "id": "7N7CLdxbPh6x"
      },
      "source": [
        "Одинокие люди чаще не возвращают кредиты, а побывавшие в браке чаще отдают кредиты вовремя. Самые надежные заемщики - овдовевшие люди."
      ]
    },
    {
      "cell_type": "markdown",
      "metadata": {
        "id": "_GD9Y8wEPh6y"
      },
      "source": [
        "- Есть ли зависимость между уровнем дохода и возвратом кредита в срок?"
      ]
    },
    {
      "cell_type": "code",
      "execution_count": null,
      "metadata": {
        "id": "8Z09mGc4Ph6y",
        "outputId": "cc3a13df-75b0-4a50-e337-a40001e8201e"
      },
      "outputs": [
        {
          "name": "stdout",
          "output_type": "stream",
          "text": [
            "               всего  просрочки % просрочки\n",
            "income_level                               \n",
            "средний         5479        483       8.82%\n",
            "выше среднего   5247        448       8.54%\n",
            "низкий          5364        427       7.96%\n",
            "высокий         5363        383       7.14%\n"
          ]
        }
      ],
      "source": [
        "report = data.groupby('income_level').agg({'debt': ['count', 'sum', 'mean']})\n",
        "report.columns = ['всего', 'просрочки', '% просрочки']\n",
        "print(report.sort_values(['% просрочки'], ascending=False).to_string(formatters={'% просрочки':'{:.2%}'.format}))"
      ]
    },
    {
      "cell_type": "markdown",
      "metadata": {
        "id": "tfXw2NT2Ph6y"
      },
      "source": [
        "**Вывод**"
      ]
    },
    {
      "cell_type": "markdown",
      "metadata": {
        "id": "RP894rArPh6z"
      },
      "source": [
        "Ожидаемо, что люди с высоким доходом чаще возвращают кредиты вовремя. Но люди с низким доходом также довольно надежные заемщики."
      ]
    },
    {
      "cell_type": "markdown",
      "metadata": {
        "id": "TSQlK3yiPh60"
      },
      "source": [
        "- Как разные цели кредита влияют на его возврат в срок?"
      ]
    },
    {
      "cell_type": "code",
      "execution_count": null,
      "metadata": {
        "id": "cSX0PqRjPh61",
        "outputId": "7211f612-0130-4ecc-c19e-4be55d02870a"
      },
      "outputs": [
        {
          "name": "stdout",
          "output_type": "stream",
          "text": [
            "              total  debt      rate\n",
            "category                           \n",
            "автомобиль     4306   403  0.093590\n",
            "образование    4013   370  0.092200\n",
            "свадьба        2324   186  0.080034\n",
            "недвижимость  10810   782  0.072340\n"
          ]
        }
      ],
      "source": [
        "report = data.groupby('category').agg({'debt': ['count', 'sum', 'mean']})\n",
        "report.columns = ['total', 'debt', 'rate']\n",
        "print(report.sort_values(['rate'], ascending=False))"
      ]
    },
    {
      "cell_type": "markdown",
      "metadata": {
        "id": "O_IEAG-RPh63"
      },
      "source": [
        "**Вывод**"
      ]
    },
    {
      "cell_type": "markdown",
      "metadata": {
        "id": "Se4Oft0mPh64"
      },
      "source": [
        "Меньше всего просроченных платежей по кредитам за недвижимость, а кредиты на автомобили заметно чаще не выплачивают вовремя."
      ]
    },
    {
      "cell_type": "code",
      "execution_count": null,
      "metadata": {
        "id": "d5vUsthmPh64",
        "outputId": "09709afc-2202-4b6a-d861-125ef0427beb"
      },
      "outputs": [
        {
          "name": "stdout",
          "output_type": "stream",
          "text": [
            "                     всего  просрочки % просрочки\n",
            "education                                        \n",
            "начальное              282         31      10.99%\n",
            "неоконченное высшее    743         68       9.15%\n",
            "среднее              15172       1364       8.99%\n",
            "высшее                5250        278       5.30%\n",
            "ученая степень           6          0       0.00%\n"
          ]
        }
      ],
      "source": [
        "report = data.groupby('education').agg({'debt': ['count', 'sum', 'mean']})\n",
        "report.columns = ['всего', 'просрочки', '% просрочки']\n",
        "report = report.sort_values(['% просрочки'], ascending=False)\n",
        "print(report.to_string(formatters={'% просрочки':'{:.2%}'.format}))"
      ]
    },
    {
      "cell_type": "markdown",
      "metadata": {
        "id": "5e9sp85ePh64"
      },
      "source": [
        "Маркер надежности заемщика - образование! Ни одного должника среди людей с ученой степенью, а люди только с начальным образованием чаще прочих не выплачивают кредит."
      ]
    },
    {
      "cell_type": "code",
      "execution_count": null,
      "metadata": {
        "id": "KD9CWBydPh64",
        "outputId": "840bedd1-3b26-4933-b682-b59b1285e7e7"
      },
      "outputs": [
        {
          "name": "stdout",
          "output_type": "stream",
          "text": [
            "                 всего  просрочки % просрочки\n",
            "age                                          \n",
            "молодые           7672        793      10.34%\n",
            "средний возраст   7117        566       7.95%\n",
            "пожилые           6664        382       5.73%\n"
          ]
        }
      ],
      "source": [
        "report = data.groupby('age').agg({'debt': ['count', 'sum', 'mean']})\n",
        "report.columns = ['всего', 'просрочки', '% просрочки']\n",
        "report = report.sort_values(['% просрочки'], ascending=False)\n",
        "print(report.to_string(formatters={'% просрочки':'{:.2%}'.format}))"
      ]
    },
    {
      "cell_type": "markdown",
      "metadata": {
        "id": "Vli19z9QPh64"
      },
      "source": [
        "Еще один признак хорошего заемщика - возраст. Пожилые почти в два раза реже имеют проблемы с оплатой кредитов."
      ]
    },
    {
      "cell_type": "code",
      "execution_count": null,
      "metadata": {
        "id": "Gp7BmblJPh64",
        "outputId": "746d9bbc-adef-4184-8e06-b4ccbd22d6bb"
      },
      "outputs": [
        {
          "name": "stdout",
          "output_type": "stream",
          "text": [
            "                 всего  просрочки % просрочки\n",
            "income_type                                  \n",
            "в декрете            1          1     100.00%\n",
            "безработный          2          1      50.00%\n",
            "сотрудник        11084       1061       9.57%\n",
            "компаньон         5077        376       7.41%\n",
            "госслужащий       1457         86       5.90%\n",
            "пенсионер         3829        216       5.64%\n",
            "предприниматель      2          0       0.00%\n",
            "студент              1          0       0.00%\n"
          ]
        }
      ],
      "source": [
        "report = data.groupby('income_type').agg({'debt': ['count', 'sum', 'mean']})\n",
        "report.columns = ['всего', 'просрочки', '% просрочки']\n",
        "report = report.sort_values(['% просрочки'], ascending=False)\n",
        "print(report.to_string(formatters={'% просрочки':'{:.2%}'.format}))"
      ]
    },
    {
      "cell_type": "code",
      "execution_count": null,
      "metadata": {
        "id": "f5hBB2szPh65",
        "outputId": "ede9e609-1fd6-47b4-e3d4-663fc215c68d"
      },
      "outputs": [
        {
          "name": "stdout",
          "output_type": "stream",
          "text": [
            "        всего  просрочки % просрочки\n",
            "gender                              \n",
            "M        7279        747      10.26%\n",
            "F       14174        994       7.01%\n"
          ]
        }
      ],
      "source": [
        "report = data.groupby('gender').agg({'debt': ['count', 'sum', 'mean']})\n",
        "report.columns = ['всего', 'просрочки', '% просрочки']\n",
        "report = report.sort_values(['% просрочки'], ascending=False)\n",
        "print(report.to_string(formatters={'% просрочки':'{:.2%}'.format}))"
      ]
    },
    {
      "cell_type": "markdown",
      "metadata": {
        "id": "dYDbU1u7Ph66"
      },
      "source": [
        "Судя по вычислениям, идеальный заемщик - пожилая женщина-студент с ученой степенью :))"
      ]
    },
    {
      "cell_type": "markdown",
      "metadata": {
        "id": "4O86LcuvPh66"
      },
      "source": [
        "## Шаг 4. Общий вывод"
      ]
    },
    {
      "cell_type": "markdown",
      "metadata": {
        "id": "t0AY7aNLPh66"
      },
      "source": [
        "Изученные методы помогли в полной мере подготовить и изучить данные, чтобы определить зависимость между признаками заемщика и его надежностью. Первоначально в датафрейме были и пропуски, и дубликаты, как явные, так и нет. Скорее всего, они были вызваны ошибками при заполнении, а также различиями в методах заполнения (например, отрицательные данные и отличия величин в опыте работы). После исправления таблица стала более наглядной.\n",
        "\n",
        "Прямой зависимости семейного положения и наличия детей на выплату кредита не отмечено, гораздо большее влияние имеют возраст, образование и пол. Но обнаруженные связи вполне могут помочь построить модель для оценки надежности заемщика."
      ]
    }
  ],
  "metadata": {
    "ExecuteTimeLog": [
      {
        "duration": 3007,
        "start_time": "2021-12-18T17:32:13.054Z"
      },
      {
        "duration": 63,
        "start_time": "2021-12-18T17:33:42.793Z"
      },
      {
        "duration": 6,
        "start_time": "2021-12-18T17:44:27.365Z"
      },
      {
        "duration": 88,
        "start_time": "2021-12-18T17:45:09.311Z"
      },
      {
        "duration": 97,
        "start_time": "2021-12-18T17:45:22.136Z"
      },
      {
        "duration": 292,
        "start_time": "2021-12-18T17:45:30.185Z"
      },
      {
        "duration": 21,
        "start_time": "2021-12-18T17:45:39.116Z"
      },
      {
        "duration": 8,
        "start_time": "2021-12-18T17:45:56.021Z"
      },
      {
        "duration": 11,
        "start_time": "2021-12-18T17:46:59.004Z"
      },
      {
        "duration": 13,
        "start_time": "2021-12-18T17:47:16.983Z"
      },
      {
        "duration": 6847,
        "start_time": "2021-12-18T17:50:20.924Z"
      },
      {
        "duration": 7242,
        "start_time": "2021-12-18T17:50:46.799Z"
      },
      {
        "duration": 96,
        "start_time": "2021-12-18T17:51:19.307Z"
      },
      {
        "duration": 125,
        "start_time": "2021-12-18T17:51:33.540Z"
      },
      {
        "duration": 105,
        "start_time": "2021-12-18T17:51:40.687Z"
      },
      {
        "duration": 84,
        "start_time": "2021-12-18T17:52:06.811Z"
      },
      {
        "duration": 285,
        "start_time": "2021-12-18T17:52:16.080Z"
      },
      {
        "duration": 435,
        "start_time": "2021-12-18T17:52:39.564Z"
      },
      {
        "duration": 86,
        "start_time": "2021-12-18T17:53:24.658Z"
      },
      {
        "duration": 11,
        "start_time": "2021-12-18T17:53:28.711Z"
      },
      {
        "duration": 11,
        "start_time": "2021-12-18T17:53:41.888Z"
      },
      {
        "duration": 11,
        "start_time": "2021-12-18T17:53:54.469Z"
      },
      {
        "duration": 12,
        "start_time": "2021-12-18T17:54:19.383Z"
      },
      {
        "duration": 10,
        "start_time": "2021-12-18T17:55:32.632Z"
      },
      {
        "duration": 14,
        "start_time": "2021-12-18T17:56:10.422Z"
      },
      {
        "duration": 16,
        "start_time": "2021-12-18T18:00:00.878Z"
      },
      {
        "duration": 17,
        "start_time": "2021-12-18T18:00:32.627Z"
      },
      {
        "duration": 17,
        "start_time": "2021-12-18T18:00:56.522Z"
      },
      {
        "duration": 327,
        "start_time": "2021-12-18T18:01:41.722Z"
      },
      {
        "duration": 88,
        "start_time": "2021-12-18T18:06:53.441Z"
      },
      {
        "duration": 7,
        "start_time": "2021-12-18T18:07:34.389Z"
      },
      {
        "duration": 6,
        "start_time": "2021-12-18T18:07:58.916Z"
      },
      {
        "duration": 5,
        "start_time": "2021-12-18T18:08:33.560Z"
      },
      {
        "duration": 12,
        "start_time": "2021-12-18T18:09:32.057Z"
      },
      {
        "duration": 19,
        "start_time": "2021-12-18T18:09:45.770Z"
      },
      {
        "duration": 8,
        "start_time": "2021-12-18T18:10:09.103Z"
      },
      {
        "duration": 33,
        "start_time": "2021-12-18T18:48:02.950Z"
      },
      {
        "duration": 36,
        "start_time": "2021-12-18T18:48:28.791Z"
      },
      {
        "duration": 15,
        "start_time": "2021-12-18T18:51:21.662Z"
      },
      {
        "duration": 23,
        "start_time": "2021-12-18T18:52:18.454Z"
      },
      {
        "duration": 14,
        "start_time": "2021-12-18T18:52:36.412Z"
      },
      {
        "duration": 13,
        "start_time": "2021-12-18T19:01:02.878Z"
      },
      {
        "duration": 16,
        "start_time": "2021-12-18T19:04:12.562Z"
      },
      {
        "duration": 279,
        "start_time": "2021-12-18T19:06:45.587Z"
      },
      {
        "duration": 268,
        "start_time": "2021-12-18T19:07:26.419Z"
      },
      {
        "duration": 264,
        "start_time": "2021-12-18T19:07:35.311Z"
      },
      {
        "duration": 271,
        "start_time": "2021-12-18T19:09:27.918Z"
      },
      {
        "duration": 13,
        "start_time": "2021-12-18T19:09:52.174Z"
      },
      {
        "duration": 13,
        "start_time": "2021-12-18T19:10:02.894Z"
      },
      {
        "duration": 13,
        "start_time": "2021-12-18T19:10:11.300Z"
      },
      {
        "duration": 16,
        "start_time": "2021-12-18T19:10:15.658Z"
      },
      {
        "duration": 12,
        "start_time": "2021-12-18T19:10:17.805Z"
      },
      {
        "duration": 11,
        "start_time": "2021-12-18T19:10:19.176Z"
      },
      {
        "duration": 67,
        "start_time": "2021-12-18T19:10:30.376Z"
      },
      {
        "duration": 18,
        "start_time": "2021-12-18T19:10:30.469Z"
      },
      {
        "duration": 13,
        "start_time": "2021-12-18T19:10:30.508Z"
      },
      {
        "duration": 287,
        "start_time": "2021-12-18T19:12:00.437Z"
      },
      {
        "duration": 15,
        "start_time": "2021-12-18T19:12:07.128Z"
      },
      {
        "duration": 9,
        "start_time": "2021-12-18T19:12:22.977Z"
      },
      {
        "duration": 74,
        "start_time": "2021-12-18T19:12:27.903Z"
      },
      {
        "duration": 14,
        "start_time": "2021-12-18T19:12:27.979Z"
      },
      {
        "duration": 24,
        "start_time": "2021-12-18T19:12:27.995Z"
      },
      {
        "duration": 14,
        "start_time": "2021-12-18T19:12:47.508Z"
      },
      {
        "duration": 14,
        "start_time": "2021-12-18T19:12:55.529Z"
      },
      {
        "duration": 10,
        "start_time": "2021-12-18T19:13:16.038Z"
      },
      {
        "duration": 285,
        "start_time": "2021-12-18T19:15:22.210Z"
      },
      {
        "duration": 17,
        "start_time": "2021-12-18T19:15:29.220Z"
      },
      {
        "duration": 263,
        "start_time": "2021-12-18T19:17:56.401Z"
      },
      {
        "duration": 22,
        "start_time": "2021-12-18T19:18:03.815Z"
      },
      {
        "duration": 62,
        "start_time": "2021-12-18T19:18:27.283Z"
      },
      {
        "duration": 14,
        "start_time": "2021-12-18T19:18:27.347Z"
      },
      {
        "duration": 22,
        "start_time": "2021-12-18T19:18:27.363Z"
      },
      {
        "duration": 23,
        "start_time": "2021-12-18T19:19:21.963Z"
      },
      {
        "duration": 3908,
        "start_time": "2021-12-18T19:20:43.713Z"
      },
      {
        "duration": 3894,
        "start_time": "2021-12-18T19:20:43.728Z"
      },
      {
        "duration": 3885,
        "start_time": "2021-12-18T19:20:43.738Z"
      },
      {
        "duration": 6607,
        "start_time": "2021-12-18T19:21:22.504Z"
      },
      {
        "duration": 64,
        "start_time": "2021-12-18T19:21:31.594Z"
      },
      {
        "duration": 21,
        "start_time": "2021-12-18T19:21:31.660Z"
      },
      {
        "duration": 21,
        "start_time": "2021-12-18T19:21:31.683Z"
      },
      {
        "duration": 67,
        "start_time": "2021-12-18T19:23:14.338Z"
      },
      {
        "duration": 13,
        "start_time": "2021-12-18T19:23:14.408Z"
      },
      {
        "duration": 291,
        "start_time": "2021-12-18T19:23:14.423Z"
      },
      {
        "duration": 125,
        "start_time": "2021-12-18T19:25:01.646Z"
      },
      {
        "duration": 146,
        "start_time": "2021-12-18T19:26:52.603Z"
      },
      {
        "duration": 91,
        "start_time": "2021-12-18T19:27:05.952Z"
      },
      {
        "duration": 93,
        "start_time": "2021-12-18T19:27:23.031Z"
      },
      {
        "duration": 9794,
        "start_time": "2021-12-18T19:27:37.359Z"
      },
      {
        "duration": 118,
        "start_time": "2021-12-18T19:29:21.088Z"
      },
      {
        "duration": 8386,
        "start_time": "2021-12-18T19:29:31.362Z"
      },
      {
        "duration": 68,
        "start_time": "2021-12-18T19:30:16.701Z"
      },
      {
        "duration": 19,
        "start_time": "2021-12-18T19:30:16.771Z"
      },
      {
        "duration": 3271,
        "start_time": "2021-12-18T19:30:16.793Z"
      },
      {
        "duration": 559,
        "start_time": "2021-12-18T19:31:34.964Z"
      },
      {
        "duration": 6717,
        "start_time": "2021-12-18T19:31:52.536Z"
      },
      {
        "duration": 67,
        "start_time": "2021-12-18T19:32:04.353Z"
      },
      {
        "duration": 13,
        "start_time": "2021-12-18T19:32:04.422Z"
      },
      {
        "duration": 8085,
        "start_time": "2021-12-18T19:32:04.437Z"
      },
      {
        "duration": 6918,
        "start_time": "2021-12-18T19:32:31.596Z"
      },
      {
        "duration": 88,
        "start_time": "2021-12-18T19:32:38.762Z"
      },
      {
        "duration": 25,
        "start_time": "2021-12-18T19:32:38.853Z"
      },
      {
        "duration": 7386,
        "start_time": "2021-12-18T19:32:38.880Z"
      },
      {
        "duration": 66,
        "start_time": "2021-12-18T19:33:19.139Z"
      },
      {
        "duration": 12,
        "start_time": "2021-12-18T19:33:19.206Z"
      },
      {
        "duration": 7097,
        "start_time": "2021-12-18T19:33:19.220Z"
      },
      {
        "duration": 68,
        "start_time": "2021-12-18T19:34:26.109Z"
      },
      {
        "duration": 12,
        "start_time": "2021-12-18T19:34:26.179Z"
      },
      {
        "duration": 449,
        "start_time": "2021-12-18T19:34:26.192Z"
      },
      {
        "duration": 61,
        "start_time": "2021-12-18T19:35:24.682Z"
      },
      {
        "duration": 12,
        "start_time": "2021-12-18T19:35:24.827Z"
      },
      {
        "duration": 205,
        "start_time": "2021-12-18T19:35:24.841Z"
      },
      {
        "duration": 7748,
        "start_time": "2021-12-18T19:35:44.398Z"
      },
      {
        "duration": 7475,
        "start_time": "2021-12-18T19:35:58.991Z"
      },
      {
        "duration": 76,
        "start_time": "2021-12-18T19:36:21.048Z"
      },
      {
        "duration": 12,
        "start_time": "2021-12-18T19:36:21.126Z"
      },
      {
        "duration": 271,
        "start_time": "2021-12-18T19:36:21.140Z"
      },
      {
        "duration": 59,
        "start_time": "2021-12-18T19:37:11.701Z"
      },
      {
        "duration": 14,
        "start_time": "2021-12-18T19:37:11.762Z"
      },
      {
        "duration": 197,
        "start_time": "2021-12-18T19:37:11.778Z"
      },
      {
        "duration": 197,
        "start_time": "2021-12-18T19:37:11.979Z"
      },
      {
        "duration": 64,
        "start_time": "2021-12-18T19:38:56.569Z"
      },
      {
        "duration": 14,
        "start_time": "2021-12-18T19:38:56.635Z"
      },
      {
        "duration": 193,
        "start_time": "2021-12-18T19:38:56.651Z"
      },
      {
        "duration": 292,
        "start_time": "2021-12-18T19:38:56.846Z"
      },
      {
        "duration": 73,
        "start_time": "2021-12-18T19:39:29.122Z"
      },
      {
        "duration": 18,
        "start_time": "2021-12-18T19:39:29.197Z"
      },
      {
        "duration": 246,
        "start_time": "2021-12-18T19:39:29.217Z"
      },
      {
        "duration": 306,
        "start_time": "2021-12-18T19:39:29.466Z"
      },
      {
        "duration": 71,
        "start_time": "2021-12-18T19:41:01.721Z"
      },
      {
        "duration": 14,
        "start_time": "2021-12-18T19:41:01.794Z"
      },
      {
        "duration": 205,
        "start_time": "2021-12-18T19:41:01.809Z"
      },
      {
        "duration": 13,
        "start_time": "2021-12-18T19:41:02.016Z"
      },
      {
        "duration": 283,
        "start_time": "2021-12-18T19:44:00.857Z"
      },
      {
        "duration": 75,
        "start_time": "2021-12-18T19:46:15.246Z"
      },
      {
        "duration": 13,
        "start_time": "2021-12-18T19:46:15.324Z"
      },
      {
        "duration": 202,
        "start_time": "2021-12-18T19:46:15.339Z"
      },
      {
        "duration": 27,
        "start_time": "2021-12-18T19:46:15.544Z"
      },
      {
        "duration": 216,
        "start_time": "2021-12-18T19:46:39.918Z"
      },
      {
        "duration": 75,
        "start_time": "2021-12-18T19:46:59.620Z"
      },
      {
        "duration": 14,
        "start_time": "2021-12-18T19:46:59.697Z"
      },
      {
        "duration": 188,
        "start_time": "2021-12-18T19:46:59.713Z"
      },
      {
        "duration": 14,
        "start_time": "2021-12-18T19:46:59.903Z"
      },
      {
        "duration": 279,
        "start_time": "2021-12-18T19:46:59.919Z"
      },
      {
        "duration": 69,
        "start_time": "2021-12-18T19:47:12.643Z"
      },
      {
        "duration": 12,
        "start_time": "2021-12-18T19:47:12.714Z"
      },
      {
        "duration": 194,
        "start_time": "2021-12-18T19:47:12.728Z"
      },
      {
        "duration": 15,
        "start_time": "2021-12-18T19:47:12.924Z"
      },
      {
        "duration": 194,
        "start_time": "2021-12-18T19:47:12.941Z"
      },
      {
        "duration": 269,
        "start_time": "2021-12-18T19:47:16.266Z"
      },
      {
        "duration": 208,
        "start_time": "2021-12-18T19:48:31.322Z"
      },
      {
        "duration": 336,
        "start_time": "2021-12-18T19:48:43.453Z"
      },
      {
        "duration": 267,
        "start_time": "2021-12-18T19:51:14.171Z"
      },
      {
        "duration": 264,
        "start_time": "2021-12-18T19:51:27.099Z"
      },
      {
        "duration": 184,
        "start_time": "2021-12-18T19:52:09.699Z"
      },
      {
        "duration": 188,
        "start_time": "2021-12-18T19:52:35.316Z"
      },
      {
        "duration": 539,
        "start_time": "2021-12-18T19:53:33.806Z"
      },
      {
        "duration": 98,
        "start_time": "2021-12-18T19:53:50.101Z"
      },
      {
        "duration": 179,
        "start_time": "2021-12-18T19:53:53.471Z"
      },
      {
        "duration": 16,
        "start_time": "2021-12-18T19:54:02.745Z"
      },
      {
        "duration": 9,
        "start_time": "2021-12-18T19:54:08.360Z"
      },
      {
        "duration": 7,
        "start_time": "2021-12-18T19:54:26.197Z"
      },
      {
        "duration": 15,
        "start_time": "2021-12-18T19:54:37.597Z"
      },
      {
        "duration": 18,
        "start_time": "2021-12-18T19:54:40.923Z"
      },
      {
        "duration": 87,
        "start_time": "2021-12-18T19:54:49.426Z"
      },
      {
        "duration": 16,
        "start_time": "2021-12-18T19:54:49.515Z"
      },
      {
        "duration": 286,
        "start_time": "2021-12-18T19:54:49.534Z"
      },
      {
        "duration": 20,
        "start_time": "2021-12-18T19:54:49.823Z"
      },
      {
        "duration": 195,
        "start_time": "2021-12-18T19:54:49.845Z"
      },
      {
        "duration": 191,
        "start_time": "2021-12-18T19:54:50.042Z"
      },
      {
        "duration": 13,
        "start_time": "2021-12-18T19:54:50.235Z"
      },
      {
        "duration": 13,
        "start_time": "2021-12-18T19:54:56.530Z"
      },
      {
        "duration": 19,
        "start_time": "2021-12-18T19:55:10.466Z"
      },
      {
        "duration": 25,
        "start_time": "2021-12-18T19:55:29.228Z"
      },
      {
        "duration": 20,
        "start_time": "2021-12-18T19:55:55.489Z"
      },
      {
        "duration": 20,
        "start_time": "2021-12-18T19:56:08.821Z"
      },
      {
        "duration": 32,
        "start_time": "2021-12-18T19:56:24.626Z"
      },
      {
        "duration": 279,
        "start_time": "2021-12-19T12:33:02.166Z"
      },
      {
        "duration": 630,
        "start_time": "2021-12-19T12:33:11.792Z"
      },
      {
        "duration": 12,
        "start_time": "2021-12-19T12:33:12.424Z"
      },
      {
        "duration": 250,
        "start_time": "2021-12-19T12:33:12.439Z"
      },
      {
        "duration": 16,
        "start_time": "2021-12-19T12:33:12.691Z"
      },
      {
        "duration": 183,
        "start_time": "2021-12-19T12:33:12.708Z"
      },
      {
        "duration": 190,
        "start_time": "2021-12-19T12:33:12.893Z"
      },
      {
        "duration": 72,
        "start_time": "2021-12-19T12:33:13.088Z"
      },
      {
        "duration": 31,
        "start_time": "2021-12-19T12:33:33.025Z"
      },
      {
        "duration": 32,
        "start_time": "2021-12-19T12:33:50.784Z"
      },
      {
        "duration": 32,
        "start_time": "2021-12-19T12:33:58.672Z"
      },
      {
        "duration": 189,
        "start_time": "2021-12-19T12:34:44.643Z"
      },
      {
        "duration": 184,
        "start_time": "2021-12-19T12:47:42.643Z"
      },
      {
        "duration": 176,
        "start_time": "2021-12-19T12:48:37.213Z"
      },
      {
        "duration": 183,
        "start_time": "2021-12-19T12:50:47.006Z"
      },
      {
        "duration": 185,
        "start_time": "2021-12-19T12:52:30.340Z"
      },
      {
        "duration": 191,
        "start_time": "2021-12-19T12:53:05.839Z"
      },
      {
        "duration": 443,
        "start_time": "2021-12-19T12:53:17.999Z"
      },
      {
        "duration": 97,
        "start_time": "2021-12-19T12:53:31.334Z"
      },
      {
        "duration": 403,
        "start_time": "2021-12-19T12:53:39.593Z"
      },
      {
        "duration": 188,
        "start_time": "2021-12-19T12:54:51.334Z"
      },
      {
        "duration": 400,
        "start_time": "2021-12-19T12:56:01.976Z"
      },
      {
        "duration": 247,
        "start_time": "2021-12-19T12:56:37.761Z"
      },
      {
        "duration": 278,
        "start_time": "2021-12-19T12:56:58.940Z"
      },
      {
        "duration": 264,
        "start_time": "2021-12-19T12:57:31.442Z"
      },
      {
        "duration": 234,
        "start_time": "2021-12-19T12:57:36.186Z"
      },
      {
        "duration": 25,
        "start_time": "2021-12-19T12:57:41.716Z"
      },
      {
        "duration": 26,
        "start_time": "2021-12-19T12:57:52.326Z"
      },
      {
        "duration": 177,
        "start_time": "2021-12-19T13:02:33.169Z"
      },
      {
        "duration": 230,
        "start_time": "2021-12-19T13:02:51.425Z"
      },
      {
        "duration": 181,
        "start_time": "2021-12-19T13:03:04.041Z"
      },
      {
        "duration": 106,
        "start_time": "2021-12-19T13:03:39.627Z"
      },
      {
        "duration": 200,
        "start_time": "2021-12-19T13:03:46.214Z"
      },
      {
        "duration": 177,
        "start_time": "2021-12-19T13:03:55.029Z"
      },
      {
        "duration": 176,
        "start_time": "2021-12-19T13:04:05.669Z"
      },
      {
        "duration": 20,
        "start_time": "2021-12-19T13:07:24.950Z"
      },
      {
        "duration": 7,
        "start_time": "2021-12-19T13:24:23.349Z"
      },
      {
        "duration": 19,
        "start_time": "2021-12-19T13:25:30.000Z"
      },
      {
        "duration": 17,
        "start_time": "2021-12-19T13:25:57.528Z"
      },
      {
        "duration": 22,
        "start_time": "2021-12-19T13:26:32.781Z"
      },
      {
        "duration": 81,
        "start_time": "2021-12-19T13:27:24.536Z"
      },
      {
        "duration": 23,
        "start_time": "2021-12-19T13:27:32.527Z"
      },
      {
        "duration": 28,
        "start_time": "2021-12-19T13:37:44.883Z"
      },
      {
        "duration": 20,
        "start_time": "2021-12-19T13:42:10.635Z"
      },
      {
        "duration": 22,
        "start_time": "2021-12-19T13:43:58.253Z"
      },
      {
        "duration": 23,
        "start_time": "2021-12-19T13:48:01.560Z"
      },
      {
        "duration": 22,
        "start_time": "2021-12-19T13:49:02.471Z"
      },
      {
        "duration": 25,
        "start_time": "2021-12-19T13:49:17.244Z"
      },
      {
        "duration": 25,
        "start_time": "2021-12-19T13:49:21.102Z"
      },
      {
        "duration": 26,
        "start_time": "2021-12-19T13:49:28.059Z"
      },
      {
        "duration": 172,
        "start_time": "2021-12-19T13:51:18.374Z"
      },
      {
        "duration": 284,
        "start_time": "2021-12-19T13:51:30.244Z"
      },
      {
        "duration": 232,
        "start_time": "2021-12-19T14:06:08.644Z"
      },
      {
        "duration": 9,
        "start_time": "2021-12-19T14:06:44.024Z"
      },
      {
        "duration": 16,
        "start_time": "2021-12-19T14:06:53.130Z"
      },
      {
        "duration": 41,
        "start_time": "2021-12-19T14:10:29.448Z"
      },
      {
        "duration": 36,
        "start_time": "2021-12-19T14:10:37.635Z"
      },
      {
        "duration": 37,
        "start_time": "2021-12-19T14:10:42.793Z"
      },
      {
        "duration": 30,
        "start_time": "2021-12-19T14:10:48.096Z"
      },
      {
        "duration": 26,
        "start_time": "2021-12-19T14:10:50.858Z"
      },
      {
        "duration": 260,
        "start_time": "2021-12-19T14:11:14.957Z"
      },
      {
        "duration": 20,
        "start_time": "2021-12-19T14:18:13.075Z"
      },
      {
        "duration": 11,
        "start_time": "2021-12-19T14:18:49.989Z"
      },
      {
        "duration": 294,
        "start_time": "2021-12-19T14:19:02.222Z"
      },
      {
        "duration": 6,
        "start_time": "2021-12-19T14:19:08.239Z"
      },
      {
        "duration": 8,
        "start_time": "2021-12-19T14:20:15.106Z"
      },
      {
        "duration": 8,
        "start_time": "2021-12-19T14:20:56.842Z"
      },
      {
        "duration": 10,
        "start_time": "2021-12-19T14:23:25.983Z"
      },
      {
        "duration": 9,
        "start_time": "2021-12-19T14:23:41.412Z"
      },
      {
        "duration": 19,
        "start_time": "2021-12-19T14:23:54.982Z"
      },
      {
        "duration": 19,
        "start_time": "2021-12-19T14:24:19.549Z"
      },
      {
        "duration": 16,
        "start_time": "2021-12-19T14:25:12.054Z"
      },
      {
        "duration": 15,
        "start_time": "2021-12-19T14:25:20.649Z"
      },
      {
        "duration": 28,
        "start_time": "2021-12-19T14:25:54.378Z"
      },
      {
        "duration": 11,
        "start_time": "2021-12-19T14:27:55.502Z"
      },
      {
        "duration": 14,
        "start_time": "2021-12-19T14:28:09.336Z"
      },
      {
        "duration": 13,
        "start_time": "2021-12-19T14:29:01.553Z"
      },
      {
        "duration": 11,
        "start_time": "2021-12-19T14:29:52.938Z"
      },
      {
        "duration": 12,
        "start_time": "2021-12-19T14:30:38.506Z"
      },
      {
        "duration": 14,
        "start_time": "2021-12-19T14:30:47.156Z"
      },
      {
        "duration": 8,
        "start_time": "2021-12-19T14:30:51.536Z"
      },
      {
        "duration": 10,
        "start_time": "2021-12-19T14:31:20.254Z"
      },
      {
        "duration": 12,
        "start_time": "2021-12-19T14:31:26.719Z"
      },
      {
        "duration": 10,
        "start_time": "2021-12-19T14:31:28.963Z"
      },
      {
        "duration": 14,
        "start_time": "2021-12-19T14:31:34.193Z"
      },
      {
        "duration": 11,
        "start_time": "2021-12-19T14:31:35.814Z"
      },
      {
        "duration": 12,
        "start_time": "2021-12-19T14:33:17.284Z"
      },
      {
        "duration": 15,
        "start_time": "2021-12-19T14:34:00.445Z"
      },
      {
        "duration": 10,
        "start_time": "2021-12-19T14:34:45.726Z"
      },
      {
        "duration": 10,
        "start_time": "2021-12-19T14:34:55.882Z"
      },
      {
        "duration": 81,
        "start_time": "2021-12-19T14:38:39.315Z"
      },
      {
        "duration": 90,
        "start_time": "2021-12-19T14:39:00.470Z"
      },
      {
        "duration": 76,
        "start_time": "2021-12-19T14:39:31.592Z"
      },
      {
        "duration": 81,
        "start_time": "2021-12-19T14:40:01.817Z"
      },
      {
        "duration": 80,
        "start_time": "2021-12-19T14:40:11.574Z"
      },
      {
        "duration": 112,
        "start_time": "2021-12-19T14:40:28.509Z"
      },
      {
        "duration": 122,
        "start_time": "2021-12-19T14:40:43.985Z"
      },
      {
        "duration": 82,
        "start_time": "2021-12-19T14:41:15.785Z"
      },
      {
        "duration": 89,
        "start_time": "2021-12-19T14:42:43.109Z"
      },
      {
        "duration": 77,
        "start_time": "2021-12-19T14:42:56.368Z"
      },
      {
        "duration": 104,
        "start_time": "2021-12-19T14:43:19.598Z"
      },
      {
        "duration": 28,
        "start_time": "2021-12-19T14:43:24.285Z"
      },
      {
        "duration": 14,
        "start_time": "2021-12-19T14:43:38.383Z"
      },
      {
        "duration": 15,
        "start_time": "2021-12-19T14:46:43.836Z"
      },
      {
        "duration": 15,
        "start_time": "2021-12-19T14:47:24.264Z"
      },
      {
        "duration": 26,
        "start_time": "2021-12-19T14:47:26.889Z"
      },
      {
        "duration": 25,
        "start_time": "2021-12-19T14:48:01.494Z"
      },
      {
        "duration": 21,
        "start_time": "2021-12-19T14:49:50.888Z"
      },
      {
        "duration": 13,
        "start_time": "2021-12-19T14:50:38.768Z"
      },
      {
        "duration": 11,
        "start_time": "2021-12-19T14:51:02.020Z"
      },
      {
        "duration": 24,
        "start_time": "2021-12-19T14:52:07.569Z"
      },
      {
        "duration": 14,
        "start_time": "2021-12-19T14:52:09.667Z"
      },
      {
        "duration": 7,
        "start_time": "2021-12-19T14:54:17.234Z"
      },
      {
        "duration": 25,
        "start_time": "2021-12-19T14:55:25.300Z"
      },
      {
        "duration": 15,
        "start_time": "2021-12-19T14:56:01.767Z"
      },
      {
        "duration": 20,
        "start_time": "2021-12-19T14:56:26.112Z"
      },
      {
        "duration": 6,
        "start_time": "2021-12-19T14:59:57.230Z"
      },
      {
        "duration": 7,
        "start_time": "2021-12-19T15:00:03.379Z"
      },
      {
        "duration": 5,
        "start_time": "2021-12-19T15:00:09.719Z"
      },
      {
        "duration": 14,
        "start_time": "2021-12-19T15:00:27.079Z"
      },
      {
        "duration": 7,
        "start_time": "2021-12-19T15:02:05.795Z"
      },
      {
        "duration": 6,
        "start_time": "2021-12-19T15:02:16.160Z"
      },
      {
        "duration": 14,
        "start_time": "2021-12-19T15:02:29.331Z"
      },
      {
        "duration": 15,
        "start_time": "2021-12-19T15:02:46.523Z"
      },
      {
        "duration": 15,
        "start_time": "2021-12-19T15:02:50.301Z"
      },
      {
        "duration": 14,
        "start_time": "2021-12-19T15:02:53.595Z"
      },
      {
        "duration": 17,
        "start_time": "2021-12-19T15:02:59.983Z"
      },
      {
        "duration": 20,
        "start_time": "2021-12-19T15:03:11.386Z"
      },
      {
        "duration": 13,
        "start_time": "2021-12-19T15:03:17.352Z"
      },
      {
        "duration": 7,
        "start_time": "2021-12-19T15:03:31.653Z"
      },
      {
        "duration": 6,
        "start_time": "2021-12-19T15:08:03.663Z"
      },
      {
        "duration": 7,
        "start_time": "2021-12-19T15:08:08.081Z"
      },
      {
        "duration": 8,
        "start_time": "2021-12-19T15:08:11.857Z"
      },
      {
        "duration": 7,
        "start_time": "2021-12-19T15:08:15.499Z"
      },
      {
        "duration": 16,
        "start_time": "2021-12-19T15:08:19.003Z"
      },
      {
        "duration": 7,
        "start_time": "2021-12-19T15:08:22.178Z"
      },
      {
        "duration": 6,
        "start_time": "2021-12-19T15:08:24.736Z"
      },
      {
        "duration": 6,
        "start_time": "2021-12-19T15:08:27.847Z"
      },
      {
        "duration": 8,
        "start_time": "2021-12-19T15:08:31.991Z"
      },
      {
        "duration": 8,
        "start_time": "2021-12-19T15:08:37.586Z"
      },
      {
        "duration": 274,
        "start_time": "2021-12-19T15:08:54.948Z"
      },
      {
        "duration": 266,
        "start_time": "2021-12-19T15:09:30.050Z"
      },
      {
        "duration": 316,
        "start_time": "2021-12-19T15:09:35.351Z"
      },
      {
        "duration": 249,
        "start_time": "2021-12-19T15:09:45.712Z"
      },
      {
        "duration": 8,
        "start_time": "2021-12-19T15:09:49.916Z"
      },
      {
        "duration": 8,
        "start_time": "2021-12-19T15:10:05.894Z"
      },
      {
        "duration": 8,
        "start_time": "2021-12-19T15:10:28.009Z"
      },
      {
        "duration": 8,
        "start_time": "2021-12-19T15:10:35.966Z"
      },
      {
        "duration": 7,
        "start_time": "2021-12-19T15:10:50.141Z"
      },
      {
        "duration": 8,
        "start_time": "2021-12-19T15:10:54.068Z"
      },
      {
        "duration": 166,
        "start_time": "2021-12-19T15:11:17.649Z"
      },
      {
        "duration": 15,
        "start_time": "2021-12-19T15:11:26.685Z"
      },
      {
        "duration": 7,
        "start_time": "2021-12-19T15:22:10.170Z"
      },
      {
        "duration": 11,
        "start_time": "2021-12-19T15:22:50.926Z"
      },
      {
        "duration": 11,
        "start_time": "2021-12-19T15:23:27.257Z"
      },
      {
        "duration": 242,
        "start_time": "2021-12-19T15:29:09.463Z"
      },
      {
        "duration": 9,
        "start_time": "2021-12-19T15:29:18.245Z"
      },
      {
        "duration": 5,
        "start_time": "2021-12-19T15:29:24.964Z"
      },
      {
        "duration": 5,
        "start_time": "2021-12-19T15:29:38.854Z"
      },
      {
        "duration": 6,
        "start_time": "2021-12-19T15:29:41.872Z"
      },
      {
        "duration": 6,
        "start_time": "2021-12-19T15:29:46.076Z"
      },
      {
        "duration": 17,
        "start_time": "2021-12-19T15:30:49.281Z"
      },
      {
        "duration": 7,
        "start_time": "2021-12-19T15:32:37.630Z"
      },
      {
        "duration": 7,
        "start_time": "2021-12-19T15:32:54.408Z"
      },
      {
        "duration": 8,
        "start_time": "2021-12-19T15:33:36.882Z"
      },
      {
        "duration": 9,
        "start_time": "2021-12-19T15:33:55.443Z"
      },
      {
        "duration": 9,
        "start_time": "2021-12-19T15:34:05.239Z"
      },
      {
        "duration": 15,
        "start_time": "2021-12-19T15:34:25.938Z"
      },
      {
        "duration": 12,
        "start_time": "2021-12-19T15:35:15.797Z"
      },
      {
        "duration": 13,
        "start_time": "2021-12-19T15:35:26.437Z"
      },
      {
        "duration": 1001,
        "start_time": "2021-12-21T10:32:55.747Z"
      },
      {
        "duration": 24,
        "start_time": "2021-12-21T10:32:56.750Z"
      },
      {
        "duration": 461,
        "start_time": "2021-12-21T10:32:56.777Z"
      },
      {
        "duration": 41,
        "start_time": "2021-12-21T10:32:57.241Z"
      },
      {
        "duration": 341,
        "start_time": "2021-12-21T10:32:57.285Z"
      },
      {
        "duration": 44,
        "start_time": "2021-12-21T10:32:57.628Z"
      },
      {
        "duration": 419,
        "start_time": "2021-12-21T10:32:57.675Z"
      },
      {
        "duration": 411,
        "start_time": "2021-12-21T10:32:58.098Z"
      },
      {
        "duration": 29,
        "start_time": "2021-12-21T10:32:58.511Z"
      },
      {
        "duration": 65,
        "start_time": "2021-12-21T10:32:58.543Z"
      },
      {
        "duration": 18,
        "start_time": "2021-12-21T10:32:58.610Z"
      },
      {
        "duration": 56,
        "start_time": "2021-12-21T10:32:58.631Z"
      },
      {
        "duration": 27,
        "start_time": "2021-12-21T10:32:58.690Z"
      },
      {
        "duration": 90,
        "start_time": "2021-12-21T10:33:38.116Z"
      },
      {
        "duration": 89,
        "start_time": "2021-12-21T10:33:48.655Z"
      },
      {
        "duration": 42,
        "start_time": "2021-12-21T10:33:48.747Z"
      },
      {
        "duration": 368,
        "start_time": "2021-12-21T10:33:48.793Z"
      },
      {
        "duration": 27,
        "start_time": "2021-12-21T10:33:49.167Z"
      },
      {
        "duration": 357,
        "start_time": "2021-12-21T10:33:49.196Z"
      },
      {
        "duration": 38,
        "start_time": "2021-12-21T10:33:49.556Z"
      },
      {
        "duration": 354,
        "start_time": "2021-12-21T10:33:49.596Z"
      },
      {
        "duration": 399,
        "start_time": "2021-12-21T10:33:49.955Z"
      },
      {
        "duration": 37,
        "start_time": "2021-12-21T10:33:50.357Z"
      },
      {
        "duration": 40,
        "start_time": "2021-12-21T10:33:50.397Z"
      },
      {
        "duration": 15,
        "start_time": "2021-12-21T10:33:50.440Z"
      },
      {
        "duration": 32,
        "start_time": "2021-12-21T10:33:50.470Z"
      },
      {
        "duration": 26,
        "start_time": "2021-12-21T10:33:50.504Z"
      },
      {
        "duration": 219,
        "start_time": "2021-12-21T10:33:50.533Z"
      },
      {
        "duration": 94,
        "start_time": "2021-12-21T10:34:14.276Z"
      },
      {
        "duration": 90,
        "start_time": "2021-12-21T10:34:56.462Z"
      },
      {
        "duration": 85,
        "start_time": "2021-12-21T10:35:26.436Z"
      },
      {
        "duration": 29,
        "start_time": "2021-12-21T10:35:45.792Z"
      },
      {
        "duration": 24,
        "start_time": "2021-12-21T10:36:15.605Z"
      },
      {
        "duration": 45,
        "start_time": "2021-12-21T10:36:34.676Z"
      },
      {
        "duration": 36,
        "start_time": "2021-12-21T10:37:37.653Z"
      },
      {
        "duration": 136,
        "start_time": "2021-12-21T10:38:02.709Z"
      },
      {
        "duration": 109,
        "start_time": "2021-12-21T10:39:45.835Z"
      },
      {
        "duration": 83,
        "start_time": "2021-12-21T10:39:54.173Z"
      },
      {
        "duration": 116,
        "start_time": "2021-12-21T10:40:07.288Z"
      },
      {
        "duration": 99,
        "start_time": "2021-12-21T10:40:18.780Z"
      },
      {
        "duration": 26,
        "start_time": "2021-12-21T10:40:26.409Z"
      },
      {
        "duration": 41,
        "start_time": "2021-12-21T10:40:32.072Z"
      },
      {
        "duration": 351,
        "start_time": "2021-12-21T10:49:41.710Z"
      },
      {
        "duration": 6,
        "start_time": "2021-12-21T10:49:52.501Z"
      },
      {
        "duration": 7005,
        "start_time": "2021-12-21T10:50:48.605Z"
      },
      {
        "duration": 18,
        "start_time": "2021-12-21T10:50:59.072Z"
      },
      {
        "duration": 23,
        "start_time": "2021-12-21T10:51:27.793Z"
      },
      {
        "duration": 20,
        "start_time": "2021-12-21T10:51:33.017Z"
      },
      {
        "duration": 21,
        "start_time": "2021-12-21T10:51:44.084Z"
      },
      {
        "duration": 14,
        "start_time": "2021-12-21T10:53:41.988Z"
      },
      {
        "duration": 361,
        "start_time": "2021-12-21T12:58:12.643Z"
      },
      {
        "duration": 823,
        "start_time": "2021-12-21T12:58:16.909Z"
      },
      {
        "duration": 18,
        "start_time": "2021-12-21T12:58:17.735Z"
      },
      {
        "duration": 437,
        "start_time": "2021-12-21T12:58:17.755Z"
      },
      {
        "duration": 28,
        "start_time": "2021-12-21T12:58:18.195Z"
      },
      {
        "duration": 326,
        "start_time": "2021-12-21T12:58:18.225Z"
      },
      {
        "duration": 29,
        "start_time": "2021-12-21T12:58:18.553Z"
      },
      {
        "duration": 345,
        "start_time": "2021-12-21T12:58:18.584Z"
      },
      {
        "duration": 379,
        "start_time": "2021-12-21T12:58:18.933Z"
      },
      {
        "duration": 28,
        "start_time": "2021-12-21T12:58:19.315Z"
      },
      {
        "duration": 36,
        "start_time": "2021-12-21T12:58:19.362Z"
      },
      {
        "duration": 15,
        "start_time": "2021-12-21T12:58:19.401Z"
      },
      {
        "duration": 61,
        "start_time": "2021-12-21T12:58:19.418Z"
      },
      {
        "duration": 24,
        "start_time": "2021-12-21T12:58:19.481Z"
      },
      {
        "duration": 31,
        "start_time": "2021-12-21T12:58:19.508Z"
      },
      {
        "duration": 37,
        "start_time": "2021-12-21T12:58:19.541Z"
      },
      {
        "duration": 29,
        "start_time": "2021-12-21T12:58:19.581Z"
      },
      {
        "duration": 437,
        "start_time": "2021-12-21T12:58:19.613Z"
      },
      {
        "duration": 15,
        "start_time": "2021-12-21T13:02:54.293Z"
      },
      {
        "duration": 12,
        "start_time": "2021-12-21T13:02:59.190Z"
      },
      {
        "duration": 9,
        "start_time": "2021-12-21T13:03:44.924Z"
      },
      {
        "duration": 83,
        "start_time": "2021-12-21T13:03:52.565Z"
      },
      {
        "duration": 26,
        "start_time": "2021-12-21T13:03:52.664Z"
      },
      {
        "duration": 372,
        "start_time": "2021-12-21T13:03:52.694Z"
      },
      {
        "duration": 39,
        "start_time": "2021-12-21T13:03:53.069Z"
      },
      {
        "duration": 344,
        "start_time": "2021-12-21T13:03:53.111Z"
      },
      {
        "duration": 37,
        "start_time": "2021-12-21T13:03:53.457Z"
      },
      {
        "duration": 515,
        "start_time": "2021-12-21T13:03:53.498Z"
      },
      {
        "duration": 378,
        "start_time": "2021-12-21T13:03:54.017Z"
      },
      {
        "duration": 31,
        "start_time": "2021-12-21T13:03:54.398Z"
      },
      {
        "duration": 69,
        "start_time": "2021-12-21T13:03:54.434Z"
      },
      {
        "duration": 17,
        "start_time": "2021-12-21T13:03:54.508Z"
      },
      {
        "duration": 53,
        "start_time": "2021-12-21T13:03:54.528Z"
      },
      {
        "duration": 27,
        "start_time": "2021-12-21T13:03:54.583Z"
      },
      {
        "duration": 62,
        "start_time": "2021-12-21T13:03:54.612Z"
      },
      {
        "duration": 15,
        "start_time": "2021-12-21T13:03:54.676Z"
      },
      {
        "duration": 8,
        "start_time": "2021-12-21T13:03:54.694Z"
      },
      {
        "duration": 508,
        "start_time": "2021-12-21T13:03:54.704Z"
      },
      {
        "duration": 11,
        "start_time": "2021-12-21T13:04:20.751Z"
      },
      {
        "duration": 24,
        "start_time": "2021-12-21T13:04:29.087Z"
      },
      {
        "duration": 17,
        "start_time": "2021-12-21T13:04:32.783Z"
      },
      {
        "duration": 125,
        "start_time": "2021-12-21T13:04:38.645Z"
      },
      {
        "duration": 24,
        "start_time": "2021-12-21T13:04:38.774Z"
      },
      {
        "duration": 486,
        "start_time": "2021-12-21T13:04:38.803Z"
      },
      {
        "duration": 27,
        "start_time": "2021-12-21T13:04:39.295Z"
      },
      {
        "duration": 367,
        "start_time": "2021-12-21T13:04:39.325Z"
      },
      {
        "duration": 27,
        "start_time": "2021-12-21T13:04:39.695Z"
      },
      {
        "duration": 394,
        "start_time": "2021-12-21T13:04:39.725Z"
      },
      {
        "duration": 326,
        "start_time": "2021-12-21T13:04:40.122Z"
      },
      {
        "duration": 46,
        "start_time": "2021-12-21T13:04:40.452Z"
      },
      {
        "duration": 45,
        "start_time": "2021-12-21T13:04:40.500Z"
      },
      {
        "duration": 14,
        "start_time": "2021-12-21T13:04:40.563Z"
      },
      {
        "duration": 41,
        "start_time": "2021-12-21T13:04:40.579Z"
      },
      {
        "duration": 45,
        "start_time": "2021-12-21T13:04:40.622Z"
      },
      {
        "duration": 24,
        "start_time": "2021-12-21T13:04:40.670Z"
      },
      {
        "duration": 23,
        "start_time": "2021-12-21T13:04:40.696Z"
      },
      {
        "duration": 16,
        "start_time": "2021-12-21T13:04:40.722Z"
      },
      {
        "duration": 578,
        "start_time": "2021-12-21T13:04:40.763Z"
      },
      {
        "duration": 32,
        "start_time": "2021-12-21T13:04:56.449Z"
      },
      {
        "duration": 83,
        "start_time": "2021-12-21T13:04:59.906Z"
      },
      {
        "duration": 19,
        "start_time": "2021-12-21T13:04:59.992Z"
      },
      {
        "duration": 402,
        "start_time": "2021-12-21T13:05:00.015Z"
      },
      {
        "duration": 24,
        "start_time": "2021-12-21T13:05:00.420Z"
      },
      {
        "duration": 377,
        "start_time": "2021-12-21T13:05:00.473Z"
      },
      {
        "duration": 35,
        "start_time": "2021-12-21T13:05:00.853Z"
      },
      {
        "duration": 410,
        "start_time": "2021-12-21T13:05:00.891Z"
      },
      {
        "duration": 331,
        "start_time": "2021-12-21T13:05:01.305Z"
      },
      {
        "duration": 45,
        "start_time": "2021-12-21T13:05:01.640Z"
      },
      {
        "duration": 75,
        "start_time": "2021-12-21T13:05:01.688Z"
      },
      {
        "duration": 19,
        "start_time": "2021-12-21T13:05:01.767Z"
      },
      {
        "duration": 35,
        "start_time": "2021-12-21T13:05:01.789Z"
      },
      {
        "duration": 52,
        "start_time": "2021-12-21T13:05:01.827Z"
      },
      {
        "duration": 24,
        "start_time": "2021-12-21T13:05:01.881Z"
      },
      {
        "duration": 23,
        "start_time": "2021-12-21T13:05:01.907Z"
      },
      {
        "duration": 18,
        "start_time": "2021-12-21T13:05:01.962Z"
      },
      {
        "duration": 897,
        "start_time": "2021-12-21T13:05:01.984Z"
      },
      {
        "duration": 62,
        "start_time": "2021-12-21T13:07:34.462Z"
      },
      {
        "duration": 321,
        "start_time": "2021-12-21T13:07:43.438Z"
      },
      {
        "duration": 95,
        "start_time": "2021-12-21T13:09:31.883Z"
      },
      {
        "duration": 29,
        "start_time": "2021-12-21T13:09:31.982Z"
      },
      {
        "duration": 425,
        "start_time": "2021-12-21T13:09:32.015Z"
      },
      {
        "duration": 33,
        "start_time": "2021-12-21T13:09:32.443Z"
      },
      {
        "duration": 487,
        "start_time": "2021-12-21T13:09:32.479Z"
      },
      {
        "duration": 38,
        "start_time": "2021-12-21T13:09:32.970Z"
      },
      {
        "duration": 517,
        "start_time": "2021-12-21T13:09:33.012Z"
      },
      {
        "duration": 355,
        "start_time": "2021-12-21T13:09:33.535Z"
      },
      {
        "duration": 28,
        "start_time": "2021-12-21T13:09:33.893Z"
      },
      {
        "duration": 60,
        "start_time": "2021-12-21T13:09:33.924Z"
      },
      {
        "duration": 15,
        "start_time": "2021-12-21T13:09:33.987Z"
      },
      {
        "duration": 32,
        "start_time": "2021-12-21T13:09:34.005Z"
      },
      {
        "duration": 24,
        "start_time": "2021-12-21T13:09:34.064Z"
      },
      {
        "duration": 36,
        "start_time": "2021-12-21T13:09:34.091Z"
      },
      {
        "duration": 35,
        "start_time": "2021-12-21T13:09:34.129Z"
      },
      {
        "duration": 22,
        "start_time": "2021-12-21T13:09:34.166Z"
      },
      {
        "duration": 320,
        "start_time": "2021-12-21T13:09:34.190Z"
      },
      {
        "duration": 42,
        "start_time": "2021-12-21T13:11:19.289Z"
      },
      {
        "duration": 54,
        "start_time": "2021-12-21T13:11:52.474Z"
      },
      {
        "duration": 372,
        "start_time": "2021-12-21T13:24:02.870Z"
      },
      {
        "duration": 685,
        "start_time": "2021-12-21T13:24:45.466Z"
      },
      {
        "duration": 298,
        "start_time": "2021-12-21T13:24:57.083Z"
      },
      {
        "duration": 373,
        "start_time": "2021-12-21T13:31:05.086Z"
      },
      {
        "duration": 292,
        "start_time": "2021-12-21T13:32:42.173Z"
      },
      {
        "duration": 83,
        "start_time": "2021-12-21T13:32:57.836Z"
      },
      {
        "duration": 42,
        "start_time": "2021-12-21T13:32:57.922Z"
      },
      {
        "duration": 341,
        "start_time": "2021-12-21T13:32:57.967Z"
      },
      {
        "duration": 21,
        "start_time": "2021-12-21T13:32:58.311Z"
      },
      {
        "duration": 354,
        "start_time": "2021-12-21T13:32:58.335Z"
      },
      {
        "duration": 26,
        "start_time": "2021-12-21T13:32:58.692Z"
      },
      {
        "duration": 334,
        "start_time": "2021-12-21T13:32:58.720Z"
      },
      {
        "duration": 376,
        "start_time": "2021-12-21T13:32:59.063Z"
      },
      {
        "duration": 48,
        "start_time": "2021-12-21T13:32:59.443Z"
      },
      {
        "duration": 78,
        "start_time": "2021-12-21T13:32:59.494Z"
      },
      {
        "duration": 22,
        "start_time": "2021-12-21T13:32:59.575Z"
      },
      {
        "duration": 27,
        "start_time": "2021-12-21T13:32:59.599Z"
      },
      {
        "duration": 53,
        "start_time": "2021-12-21T13:32:59.630Z"
      },
      {
        "duration": 34,
        "start_time": "2021-12-21T13:32:59.686Z"
      },
      {
        "duration": 377,
        "start_time": "2021-12-21T13:32:59.722Z"
      },
      {
        "duration": 1172,
        "start_time": "2021-12-21T13:32:58.929Z"
      },
      {
        "duration": 1168,
        "start_time": "2021-12-21T13:32:58.934Z"
      },
      {
        "duration": 1163,
        "start_time": "2021-12-21T13:32:58.941Z"
      },
      {
        "duration": 82,
        "start_time": "2021-12-21T13:33:21.919Z"
      },
      {
        "duration": 17,
        "start_time": "2021-12-21T13:33:22.004Z"
      },
      {
        "duration": 352,
        "start_time": "2021-12-21T13:33:22.024Z"
      },
      {
        "duration": 22,
        "start_time": "2021-12-21T13:33:22.379Z"
      },
      {
        "duration": 388,
        "start_time": "2021-12-21T13:33:22.404Z"
      },
      {
        "duration": 26,
        "start_time": "2021-12-21T13:33:22.794Z"
      },
      {
        "duration": 343,
        "start_time": "2021-12-21T13:33:22.823Z"
      },
      {
        "duration": 335,
        "start_time": "2021-12-21T13:33:23.170Z"
      },
      {
        "duration": 26,
        "start_time": "2021-12-21T13:33:23.508Z"
      },
      {
        "duration": 53,
        "start_time": "2021-12-21T13:33:23.537Z"
      },
      {
        "duration": 28,
        "start_time": "2021-12-21T13:33:23.593Z"
      },
      {
        "duration": 45,
        "start_time": "2021-12-21T13:33:23.624Z"
      },
      {
        "duration": 24,
        "start_time": "2021-12-21T13:33:23.671Z"
      },
      {
        "duration": 24,
        "start_time": "2021-12-21T13:33:23.697Z"
      },
      {
        "duration": 304,
        "start_time": "2021-12-21T13:33:23.723Z"
      },
      {
        "duration": 1147,
        "start_time": "2021-12-21T13:33:22.882Z"
      },
      {
        "duration": 1141,
        "start_time": "2021-12-21T13:33:22.889Z"
      },
      {
        "duration": 1135,
        "start_time": "2021-12-21T13:33:22.896Z"
      },
      {
        "duration": 359,
        "start_time": "2021-12-21T13:33:51.923Z"
      },
      {
        "duration": 82,
        "start_time": "2021-12-21T13:41:00.227Z"
      },
      {
        "duration": 18,
        "start_time": "2021-12-21T13:41:00.312Z"
      },
      {
        "duration": 377,
        "start_time": "2021-12-21T13:41:00.333Z"
      },
      {
        "duration": 20,
        "start_time": "2021-12-21T13:41:00.713Z"
      },
      {
        "duration": 400,
        "start_time": "2021-12-21T13:41:00.736Z"
      },
      {
        "duration": 41,
        "start_time": "2021-12-21T13:41:01.139Z"
      },
      {
        "duration": 353,
        "start_time": "2021-12-21T13:41:01.182Z"
      },
      {
        "duration": 404,
        "start_time": "2021-12-21T13:41:01.540Z"
      },
      {
        "duration": 37,
        "start_time": "2021-12-21T13:41:01.947Z"
      },
      {
        "duration": 36,
        "start_time": "2021-12-21T13:41:01.986Z"
      },
      {
        "duration": 47,
        "start_time": "2021-12-21T13:41:02.024Z"
      },
      {
        "duration": 24,
        "start_time": "2021-12-21T13:41:02.073Z"
      },
      {
        "duration": 25,
        "start_time": "2021-12-21T13:41:02.100Z"
      },
      {
        "duration": 53,
        "start_time": "2021-12-21T13:41:02.128Z"
      },
      {
        "duration": 489,
        "start_time": "2021-12-21T13:41:02.184Z"
      },
      {
        "duration": 1016,
        "start_time": "2021-12-21T13:41:01.659Z"
      },
      {
        "duration": 993,
        "start_time": "2021-12-21T13:41:01.684Z"
      },
      {
        "duration": 963,
        "start_time": "2021-12-21T13:41:01.716Z"
      },
      {
        "duration": 82,
        "start_time": "2021-12-21T13:41:48.939Z"
      },
      {
        "duration": 45,
        "start_time": "2021-12-21T13:41:49.024Z"
      },
      {
        "duration": 440,
        "start_time": "2021-12-21T13:41:49.072Z"
      },
      {
        "duration": 23,
        "start_time": "2021-12-21T13:41:49.516Z"
      },
      {
        "duration": 347,
        "start_time": "2021-12-21T13:41:49.542Z"
      },
      {
        "duration": 27,
        "start_time": "2021-12-21T13:41:49.892Z"
      },
      {
        "duration": 359,
        "start_time": "2021-12-21T13:41:49.922Z"
      },
      {
        "duration": 332,
        "start_time": "2021-12-21T13:41:50.285Z"
      },
      {
        "duration": 26,
        "start_time": "2021-12-21T13:41:50.620Z"
      },
      {
        "duration": 35,
        "start_time": "2021-12-21T13:41:50.663Z"
      },
      {
        "duration": 14,
        "start_time": "2021-12-21T13:41:50.700Z"
      },
      {
        "duration": 58,
        "start_time": "2021-12-21T13:41:50.717Z"
      },
      {
        "duration": 25,
        "start_time": "2021-12-21T13:41:50.778Z"
      },
      {
        "duration": 110,
        "start_time": "2021-12-21T13:41:50.805Z"
      },
      {
        "duration": 284,
        "start_time": "2021-12-21T13:41:50.917Z"
      },
      {
        "duration": 1012,
        "start_time": "2021-12-21T13:41:50.191Z"
      },
      {
        "duration": 1009,
        "start_time": "2021-12-21T13:41:50.196Z"
      },
      {
        "duration": 1006,
        "start_time": "2021-12-21T13:41:50.200Z"
      },
      {
        "duration": 353,
        "start_time": "2021-12-21T13:42:05.579Z"
      },
      {
        "duration": 298,
        "start_time": "2021-12-21T13:46:09.460Z"
      },
      {
        "duration": 395,
        "start_time": "2021-12-21T14:04:21.964Z"
      },
      {
        "duration": 296,
        "start_time": "2021-12-21T14:04:29.748Z"
      },
      {
        "duration": 97,
        "start_time": "2021-12-21T14:04:43.593Z"
      },
      {
        "duration": 20,
        "start_time": "2021-12-21T14:04:43.694Z"
      },
      {
        "duration": 372,
        "start_time": "2021-12-21T14:04:43.717Z"
      },
      {
        "duration": 22,
        "start_time": "2021-12-21T14:04:44.092Z"
      },
      {
        "duration": 377,
        "start_time": "2021-12-21T14:04:44.117Z"
      },
      {
        "duration": 26,
        "start_time": "2021-12-21T14:04:44.496Z"
      },
      {
        "duration": 328,
        "start_time": "2021-12-21T14:04:44.524Z"
      },
      {
        "duration": 323,
        "start_time": "2021-12-21T14:04:44.856Z"
      },
      {
        "duration": 28,
        "start_time": "2021-12-21T14:04:45.182Z"
      },
      {
        "duration": 63,
        "start_time": "2021-12-21T14:04:45.213Z"
      },
      {
        "duration": 16,
        "start_time": "2021-12-21T14:04:45.278Z"
      },
      {
        "duration": 27,
        "start_time": "2021-12-21T14:04:45.297Z"
      },
      {
        "duration": 56,
        "start_time": "2021-12-21T14:04:45.326Z"
      },
      {
        "duration": 24,
        "start_time": "2021-12-21T14:04:45.385Z"
      },
      {
        "duration": 21,
        "start_time": "2021-12-21T14:04:45.412Z"
      },
      {
        "duration": 52,
        "start_time": "2021-12-21T14:04:45.464Z"
      },
      {
        "duration": 56,
        "start_time": "2021-12-21T14:04:45.519Z"
      },
      {
        "duration": 85,
        "start_time": "2021-12-21T14:04:45.578Z"
      },
      {
        "duration": 300,
        "start_time": "2021-12-21T14:08:07.620Z"
      },
      {
        "duration": 317,
        "start_time": "2021-12-21T14:08:11.142Z"
      },
      {
        "duration": 15,
        "start_time": "2021-12-21T14:08:44.060Z"
      },
      {
        "duration": 356,
        "start_time": "2021-12-21T14:08:48.091Z"
      },
      {
        "duration": 23,
        "start_time": "2021-12-21T14:08:59.887Z"
      },
      {
        "duration": 35,
        "start_time": "2021-12-21T14:10:14.101Z"
      },
      {
        "duration": 37,
        "start_time": "2021-12-21T14:11:32.358Z"
      },
      {
        "duration": 100,
        "start_time": "2021-12-21T14:26:15.705Z"
      },
      {
        "duration": 297,
        "start_time": "2021-12-21T14:26:21.030Z"
      },
      {
        "duration": 17,
        "start_time": "2021-12-21T14:30:17.382Z"
      },
      {
        "duration": 431,
        "start_time": "2021-12-21T14:31:59.153Z"
      },
      {
        "duration": 81,
        "start_time": "2021-12-21T14:38:56.300Z"
      },
      {
        "duration": 17,
        "start_time": "2021-12-21T14:38:56.384Z"
      },
      {
        "duration": 311,
        "start_time": "2021-12-21T14:38:57.002Z"
      },
      {
        "duration": 22,
        "start_time": "2021-12-21T14:38:57.317Z"
      },
      {
        "duration": 336,
        "start_time": "2021-12-21T14:38:57.363Z"
      },
      {
        "duration": 28,
        "start_time": "2021-12-21T14:38:57.702Z"
      },
      {
        "duration": 354,
        "start_time": "2021-12-21T14:38:57.732Z"
      },
      {
        "duration": 331,
        "start_time": "2021-12-21T14:38:58.088Z"
      },
      {
        "duration": 44,
        "start_time": "2021-12-21T14:38:58.422Z"
      },
      {
        "duration": 35,
        "start_time": "2021-12-21T14:38:58.468Z"
      },
      {
        "duration": 14,
        "start_time": "2021-12-21T14:38:58.507Z"
      },
      {
        "duration": 54,
        "start_time": "2021-12-21T14:38:58.523Z"
      },
      {
        "duration": 25,
        "start_time": "2021-12-21T14:38:58.580Z"
      },
      {
        "duration": 24,
        "start_time": "2021-12-21T14:38:58.607Z"
      },
      {
        "duration": 18,
        "start_time": "2021-12-21T14:38:58.633Z"
      },
      {
        "duration": 32,
        "start_time": "2021-12-21T14:38:58.663Z"
      },
      {
        "duration": 25,
        "start_time": "2021-12-21T14:38:58.697Z"
      },
      {
        "duration": 55,
        "start_time": "2021-12-21T14:38:58.724Z"
      },
      {
        "duration": 17,
        "start_time": "2021-12-21T14:39:10.513Z"
      },
      {
        "duration": 22,
        "start_time": "2021-12-21T14:39:22.758Z"
      },
      {
        "duration": 22,
        "start_time": "2021-12-21T14:39:37.960Z"
      },
      {
        "duration": 23,
        "start_time": "2021-12-21T14:39:40.346Z"
      },
      {
        "duration": 324,
        "start_time": "2021-12-21T14:52:40.026Z"
      },
      {
        "duration": 363,
        "start_time": "2021-12-21T14:52:45.036Z"
      },
      {
        "duration": 92,
        "start_time": "2021-12-21T14:54:06.304Z"
      },
      {
        "duration": 315,
        "start_time": "2021-12-21T14:54:09.349Z"
      },
      {
        "duration": 402,
        "start_time": "2021-12-21T14:54:43.159Z"
      },
      {
        "duration": 10,
        "start_time": "2021-12-21T15:03:32.904Z"
      },
      {
        "duration": 298,
        "start_time": "2021-12-21T15:04:22.251Z"
      },
      {
        "duration": 12,
        "start_time": "2021-12-21T15:04:24.479Z"
      },
      {
        "duration": 394,
        "start_time": "2021-12-21T15:05:58.669Z"
      },
      {
        "duration": 9,
        "start_time": "2021-12-21T15:06:08.565Z"
      },
      {
        "duration": 107,
        "start_time": "2021-12-21T15:08:01.095Z"
      },
      {
        "duration": 297,
        "start_time": "2021-12-21T15:13:07.358Z"
      },
      {
        "duration": 368,
        "start_time": "2021-12-21T15:13:21.879Z"
      },
      {
        "duration": 83,
        "start_time": "2021-12-21T15:13:46.501Z"
      },
      {
        "duration": 19,
        "start_time": "2021-12-21T15:13:46.586Z"
      },
      {
        "duration": 355,
        "start_time": "2021-12-21T15:13:46.607Z"
      },
      {
        "duration": 22,
        "start_time": "2021-12-21T15:13:46.965Z"
      },
      {
        "duration": 360,
        "start_time": "2021-12-21T15:13:46.991Z"
      },
      {
        "duration": 33,
        "start_time": "2021-12-21T15:13:47.353Z"
      },
      {
        "duration": 422,
        "start_time": "2021-12-21T15:13:47.389Z"
      },
      {
        "duration": 337,
        "start_time": "2021-12-21T15:13:47.817Z"
      },
      {
        "duration": 27,
        "start_time": "2021-12-21T15:13:48.162Z"
      },
      {
        "duration": 74,
        "start_time": "2021-12-21T15:13:48.192Z"
      },
      {
        "duration": 19,
        "start_time": "2021-12-21T15:13:48.269Z"
      },
      {
        "duration": 76,
        "start_time": "2021-12-21T15:13:48.291Z"
      },
      {
        "duration": 48,
        "start_time": "2021-12-21T15:13:48.370Z"
      },
      {
        "duration": 50,
        "start_time": "2021-12-21T15:13:48.420Z"
      },
      {
        "duration": 22,
        "start_time": "2021-12-21T15:13:48.473Z"
      },
      {
        "duration": 68,
        "start_time": "2021-12-21T15:13:48.499Z"
      },
      {
        "duration": 41,
        "start_time": "2021-12-21T15:13:48.571Z"
      },
      {
        "duration": 13,
        "start_time": "2021-12-21T15:13:48.615Z"
      },
      {
        "duration": 93,
        "start_time": "2021-12-21T15:13:48.631Z"
      },
      {
        "duration": 34,
        "start_time": "2021-12-21T15:13:48.728Z"
      },
      {
        "duration": 9,
        "start_time": "2021-12-21T15:13:48.765Z"
      },
      {
        "duration": 526,
        "start_time": "2021-12-21T15:13:48.777Z"
      },
      {
        "duration": 11,
        "start_time": "2021-12-21T15:16:12.823Z"
      },
      {
        "duration": 292,
        "start_time": "2021-12-21T15:16:19.549Z"
      },
      {
        "duration": 13,
        "start_time": "2021-12-21T15:17:24.641Z"
      },
      {
        "duration": 11,
        "start_time": "2021-12-21T15:17:36.158Z"
      },
      {
        "duration": 311,
        "start_time": "2021-12-21T15:17:38.290Z"
      },
      {
        "duration": 83,
        "start_time": "2021-12-21T15:17:47.710Z"
      },
      {
        "duration": 20,
        "start_time": "2021-12-21T15:17:47.797Z"
      },
      {
        "duration": 356,
        "start_time": "2021-12-21T15:17:47.819Z"
      },
      {
        "duration": 21,
        "start_time": "2021-12-21T15:17:48.178Z"
      },
      {
        "duration": 362,
        "start_time": "2021-12-21T15:17:48.201Z"
      },
      {
        "duration": 26,
        "start_time": "2021-12-21T15:17:48.565Z"
      },
      {
        "duration": 352,
        "start_time": "2021-12-21T15:17:48.593Z"
      },
      {
        "duration": 359,
        "start_time": "2021-12-21T15:17:48.949Z"
      },
      {
        "duration": 28,
        "start_time": "2021-12-21T15:17:49.311Z"
      },
      {
        "duration": 60,
        "start_time": "2021-12-21T15:17:49.342Z"
      },
      {
        "duration": 16,
        "start_time": "2021-12-21T15:17:49.405Z"
      },
      {
        "duration": 65,
        "start_time": "2021-12-21T15:17:49.424Z"
      },
      {
        "duration": 27,
        "start_time": "2021-12-21T15:17:49.492Z"
      },
      {
        "duration": 55,
        "start_time": "2021-12-21T15:17:49.523Z"
      },
      {
        "duration": 21,
        "start_time": "2021-12-21T15:17:49.580Z"
      },
      {
        "duration": 72,
        "start_time": "2021-12-21T15:17:49.604Z"
      },
      {
        "duration": 34,
        "start_time": "2021-12-21T15:17:49.680Z"
      },
      {
        "duration": 15,
        "start_time": "2021-12-21T15:17:49.718Z"
      },
      {
        "duration": 70,
        "start_time": "2021-12-21T15:17:49.735Z"
      },
      {
        "duration": 12,
        "start_time": "2021-12-21T15:17:49.807Z"
      },
      {
        "duration": 42,
        "start_time": "2021-12-21T15:17:49.821Z"
      },
      {
        "duration": 406,
        "start_time": "2021-12-21T15:17:49.865Z"
      },
      {
        "duration": 9,
        "start_time": "2021-12-21T15:19:50.172Z"
      },
      {
        "duration": 8,
        "start_time": "2021-12-21T15:20:23.591Z"
      },
      {
        "duration": 354,
        "start_time": "2021-12-21T15:20:39.858Z"
      },
      {
        "duration": 354,
        "start_time": "2021-12-21T15:21:12.092Z"
      },
      {
        "duration": 954,
        "start_time": "2021-12-21T15:29:16.417Z"
      },
      {
        "duration": 15,
        "start_time": "2021-12-21T15:29:33.298Z"
      },
      {
        "duration": 90,
        "start_time": "2021-12-21T15:31:52.136Z"
      },
      {
        "duration": 5,
        "start_time": "2021-12-21T15:32:09.681Z"
      },
      {
        "duration": 921,
        "start_time": "2021-12-21T15:34:45.907Z"
      },
      {
        "duration": 5,
        "start_time": "2021-12-21T15:35:20.087Z"
      },
      {
        "duration": 4260,
        "start_time": "2021-12-21T15:35:23.287Z"
      },
      {
        "duration": 3947,
        "start_time": "2021-12-21T15:35:28.358Z"
      },
      {
        "duration": 4844,
        "start_time": "2021-12-21T15:35:47.339Z"
      },
      {
        "duration": 3892,
        "start_time": "2021-12-21T17:46:11.944Z"
      },
      {
        "duration": 4078,
        "start_time": "2021-12-21T17:47:05.536Z"
      },
      {
        "duration": 45,
        "start_time": "2021-12-21T17:51:43.716Z"
      },
      {
        "duration": 1147,
        "start_time": "2021-12-21T17:56:35.089Z"
      },
      {
        "duration": 41,
        "start_time": "2021-12-21T17:56:47.194Z"
      },
      {
        "duration": 315,
        "start_time": "2021-12-21T17:56:59.031Z"
      },
      {
        "duration": 353,
        "start_time": "2021-12-21T17:57:05.108Z"
      },
      {
        "duration": 28,
        "start_time": "2021-12-21T17:57:29.825Z"
      },
      {
        "duration": 139,
        "start_time": "2021-12-21T18:03:44.325Z"
      },
      {
        "duration": 26,
        "start_time": "2021-12-21T18:03:44.467Z"
      },
      {
        "duration": 403,
        "start_time": "2021-12-21T18:03:44.497Z"
      },
      {
        "duration": 30,
        "start_time": "2021-12-21T18:03:44.904Z"
      },
      {
        "duration": 363,
        "start_time": "2021-12-21T18:03:44.937Z"
      },
      {
        "duration": 29,
        "start_time": "2021-12-21T18:03:45.303Z"
      },
      {
        "duration": 531,
        "start_time": "2021-12-21T18:03:45.335Z"
      },
      {
        "duration": 601,
        "start_time": "2021-12-21T18:03:45.872Z"
      },
      {
        "duration": 29,
        "start_time": "2021-12-21T18:03:46.477Z"
      },
      {
        "duration": 73,
        "start_time": "2021-12-21T18:03:46.509Z"
      },
      {
        "duration": 16,
        "start_time": "2021-12-21T18:03:46.585Z"
      },
      {
        "duration": 30,
        "start_time": "2021-12-21T18:03:46.605Z"
      },
      {
        "duration": 51,
        "start_time": "2021-12-21T18:03:46.637Z"
      },
      {
        "duration": 28,
        "start_time": "2021-12-21T18:03:46.691Z"
      },
      {
        "duration": 61,
        "start_time": "2021-12-21T18:03:46.721Z"
      },
      {
        "duration": 35,
        "start_time": "2021-12-21T18:03:46.786Z"
      },
      {
        "duration": 55,
        "start_time": "2021-12-21T18:03:46.824Z"
      },
      {
        "duration": 11,
        "start_time": "2021-12-21T18:03:46.882Z"
      },
      {
        "duration": 73,
        "start_time": "2021-12-21T18:03:46.896Z"
      },
      {
        "duration": 12,
        "start_time": "2021-12-21T18:03:46.972Z"
      },
      {
        "duration": 15,
        "start_time": "2021-12-21T18:03:46.988Z"
      },
      {
        "duration": 979,
        "start_time": "2021-12-21T18:03:47.006Z"
      },
      {
        "duration": 5,
        "start_time": "2021-12-21T18:03:47.992Z"
      },
      {
        "duration": 4390,
        "start_time": "2021-12-21T18:03:48.001Z"
      },
      {
        "duration": 32,
        "start_time": "2021-12-21T18:03:52.393Z"
      },
      {
        "duration": 53,
        "start_time": "2021-12-21T18:03:52.427Z"
      },
      {
        "duration": 4665,
        "start_time": "2021-12-21T18:05:45.342Z"
      },
      {
        "duration": 24,
        "start_time": "2021-12-21T18:11:31.570Z"
      },
      {
        "duration": 320,
        "start_time": "2021-12-21T18:14:47.090Z"
      },
      {
        "duration": 21,
        "start_time": "2021-12-21T18:14:53.788Z"
      },
      {
        "duration": 95,
        "start_time": "2021-12-21T18:15:03.739Z"
      },
      {
        "duration": 97,
        "start_time": "2021-12-21T18:15:36.967Z"
      },
      {
        "duration": 20,
        "start_time": "2021-12-21T18:16:00.372Z"
      },
      {
        "duration": 16,
        "start_time": "2021-12-21T18:17:31.001Z"
      },
      {
        "duration": 18,
        "start_time": "2021-12-21T18:18:06.076Z"
      },
      {
        "duration": 12,
        "start_time": "2021-12-21T18:36:31.637Z"
      },
      {
        "duration": 7,
        "start_time": "2021-12-21T18:36:40.389Z"
      },
      {
        "duration": 8,
        "start_time": "2021-12-21T18:36:44.908Z"
      },
      {
        "duration": 1150,
        "start_time": "2021-12-21T18:39:39.191Z"
      },
      {
        "duration": 1169,
        "start_time": "2021-12-21T18:40:01.170Z"
      },
      {
        "duration": 9,
        "start_time": "2021-12-21T18:40:06.444Z"
      },
      {
        "duration": 1150,
        "start_time": "2021-12-21T18:40:23.966Z"
      },
      {
        "duration": 7869,
        "start_time": "2021-12-21T18:40:31.276Z"
      },
      {
        "duration": 11,
        "start_time": "2021-12-21T18:40:46.869Z"
      },
      {
        "duration": 146,
        "start_time": "2021-12-21T18:44:41.966Z"
      },
      {
        "duration": 297,
        "start_time": "2021-12-21T18:44:46.754Z"
      },
      {
        "duration": 1550,
        "start_time": "2021-12-21T18:45:28.876Z"
      },
      {
        "duration": 334,
        "start_time": "2021-12-21T18:58:13.859Z"
      },
      {
        "duration": 18,
        "start_time": "2021-12-21T18:58:18.799Z"
      },
      {
        "duration": 25,
        "start_time": "2021-12-21T18:58:31.973Z"
      },
      {
        "duration": 22,
        "start_time": "2021-12-21T19:01:24.063Z"
      },
      {
        "duration": 17,
        "start_time": "2021-12-21T19:02:16.535Z"
      },
      {
        "duration": 28,
        "start_time": "2021-12-21T19:03:35.368Z"
      },
      {
        "duration": 17,
        "start_time": "2021-12-21T19:07:41.879Z"
      },
      {
        "duration": 911,
        "start_time": "2021-12-21T19:10:30.154Z"
      },
      {
        "duration": 578,
        "start_time": "2021-12-21T19:11:14.124Z"
      },
      {
        "duration": 18,
        "start_time": "2021-12-21T19:11:44.426Z"
      },
      {
        "duration": 100,
        "start_time": "2021-12-21T19:14:55.917Z"
      },
      {
        "duration": 258,
        "start_time": "2021-12-21T19:15:04.556Z"
      },
      {
        "duration": 16,
        "start_time": "2021-12-21T19:15:14.442Z"
      },
      {
        "duration": 18,
        "start_time": "2021-12-21T19:15:46.523Z"
      },
      {
        "duration": 325,
        "start_time": "2021-12-21T19:20:23.764Z"
      },
      {
        "duration": 430,
        "start_time": "2021-12-21T19:23:09.472Z"
      },
      {
        "duration": 301,
        "start_time": "2021-12-21T19:24:10.417Z"
      },
      {
        "duration": 24,
        "start_time": "2021-12-21T19:26:18.237Z"
      },
      {
        "duration": 18,
        "start_time": "2021-12-21T19:26:24.234Z"
      },
      {
        "duration": 95,
        "start_time": "2021-12-21T19:27:43.339Z"
      },
      {
        "duration": 116,
        "start_time": "2021-12-21T19:28:11.019Z"
      },
      {
        "duration": 40,
        "start_time": "2021-12-21T19:28:21.446Z"
      },
      {
        "duration": 19,
        "start_time": "2021-12-21T19:28:32.644Z"
      },
      {
        "duration": 16,
        "start_time": "2021-12-21T19:29:10.675Z"
      },
      {
        "duration": 17,
        "start_time": "2021-12-21T19:29:33.152Z"
      },
      {
        "duration": 16,
        "start_time": "2021-12-21T19:29:42.244Z"
      },
      {
        "duration": 444,
        "start_time": "2021-12-21T19:30:07.510Z"
      },
      {
        "duration": 17,
        "start_time": "2021-12-21T19:30:24.638Z"
      },
      {
        "duration": 22,
        "start_time": "2021-12-21T19:30:28.877Z"
      },
      {
        "duration": 21,
        "start_time": "2021-12-21T19:30:31.505Z"
      },
      {
        "duration": 16,
        "start_time": "2021-12-21T19:30:47.330Z"
      },
      {
        "duration": 305,
        "start_time": "2021-12-21T19:32:13.714Z"
      },
      {
        "duration": 23,
        "start_time": "2021-12-21T19:32:18.135Z"
      },
      {
        "duration": 32,
        "start_time": "2021-12-21T19:32:47.266Z"
      },
      {
        "duration": 19,
        "start_time": "2021-12-21T19:33:16.699Z"
      },
      {
        "duration": 6,
        "start_time": "2021-12-21T19:51:40.165Z"
      },
      {
        "duration": 5,
        "start_time": "2021-12-21T19:52:03.952Z"
      },
      {
        "duration": 7,
        "start_time": "2021-12-21T19:52:09.726Z"
      },
      {
        "duration": 23,
        "start_time": "2021-12-21T19:53:15.420Z"
      },
      {
        "duration": 7,
        "start_time": "2021-12-21T19:54:34.295Z"
      },
      {
        "duration": 10,
        "start_time": "2021-12-21T19:54:53.846Z"
      },
      {
        "duration": 9,
        "start_time": "2021-12-21T19:55:07.906Z"
      },
      {
        "duration": 33,
        "start_time": "2021-12-21T19:55:24.852Z"
      },
      {
        "duration": 9,
        "start_time": "2021-12-21T19:55:30.718Z"
      },
      {
        "duration": 10,
        "start_time": "2021-12-21T19:58:12.874Z"
      },
      {
        "duration": 22,
        "start_time": "2021-12-21T19:58:14.340Z"
      },
      {
        "duration": 29,
        "start_time": "2021-12-21T20:01:24.442Z"
      },
      {
        "duration": 10,
        "start_time": "2021-12-21T20:03:58.951Z"
      },
      {
        "duration": 53,
        "start_time": "2021-12-21T20:04:35.406Z"
      },
      {
        "duration": 48,
        "start_time": "2021-12-21T20:04:43.524Z"
      },
      {
        "duration": 50,
        "start_time": "2021-12-21T20:04:56.283Z"
      },
      {
        "duration": 107,
        "start_time": "2021-12-21T20:04:59.109Z"
      },
      {
        "duration": 46,
        "start_time": "2021-12-21T20:04:59.219Z"
      },
      {
        "duration": 361,
        "start_time": "2021-12-21T20:04:59.270Z"
      },
      {
        "duration": 30,
        "start_time": "2021-12-21T20:04:59.634Z"
      },
      {
        "duration": 351,
        "start_time": "2021-12-21T20:04:59.667Z"
      },
      {
        "duration": 27,
        "start_time": "2021-12-21T20:05:00.020Z"
      },
      {
        "duration": 340,
        "start_time": "2021-12-21T20:05:00.063Z"
      },
      {
        "duration": 334,
        "start_time": "2021-12-21T20:05:00.407Z"
      },
      {
        "duration": 35,
        "start_time": "2021-12-21T20:05:00.744Z"
      },
      {
        "duration": 36,
        "start_time": "2021-12-21T20:05:00.782Z"
      },
      {
        "duration": 15,
        "start_time": "2021-12-21T20:05:00.820Z"
      },
      {
        "duration": 26,
        "start_time": "2021-12-21T20:05:00.864Z"
      },
      {
        "duration": 23,
        "start_time": "2021-12-21T20:05:00.892Z"
      },
      {
        "duration": 53,
        "start_time": "2021-12-21T20:05:00.918Z"
      },
      {
        "duration": 21,
        "start_time": "2021-12-21T20:05:00.973Z"
      },
      {
        "duration": 33,
        "start_time": "2021-12-21T20:05:00.997Z"
      },
      {
        "duration": 51,
        "start_time": "2021-12-21T20:05:01.033Z"
      },
      {
        "duration": 21,
        "start_time": "2021-12-21T20:05:01.086Z"
      },
      {
        "duration": 62,
        "start_time": "2021-12-21T20:05:01.109Z"
      },
      {
        "duration": 13,
        "start_time": "2021-12-21T20:05:01.174Z"
      },
      {
        "duration": 24,
        "start_time": "2021-12-21T20:05:01.189Z"
      },
      {
        "duration": 1223,
        "start_time": "2021-12-21T20:05:01.215Z"
      },
      {
        "duration": 6,
        "start_time": "2021-12-21T20:05:02.443Z"
      },
      {
        "duration": 3934,
        "start_time": "2021-12-21T20:05:02.452Z"
      },
      {
        "duration": 9,
        "start_time": "2021-12-21T20:05:06.388Z"
      },
      {
        "duration": 40,
        "start_time": "2021-12-21T20:05:06.399Z"
      },
      {
        "duration": 23,
        "start_time": "2021-12-21T20:05:06.441Z"
      },
      {
        "duration": 19,
        "start_time": "2021-12-21T20:05:06.466Z"
      },
      {
        "duration": 31,
        "start_time": "2021-12-21T20:05:06.488Z"
      },
      {
        "duration": 42,
        "start_time": "2021-12-21T20:05:06.522Z"
      },
      {
        "duration": 19,
        "start_time": "2021-12-21T20:05:06.566Z"
      },
      {
        "duration": 21,
        "start_time": "2021-12-21T20:05:06.588Z"
      },
      {
        "duration": 52,
        "start_time": "2021-12-21T20:05:06.611Z"
      },
      {
        "duration": 26,
        "start_time": "2021-12-21T20:05:06.666Z"
      },
      {
        "duration": 39,
        "start_time": "2021-12-21T20:06:53.887Z"
      },
      {
        "duration": 37,
        "start_time": "2021-12-21T20:07:03.812Z"
      },
      {
        "duration": 51,
        "start_time": "2021-12-21T20:07:12.861Z"
      },
      {
        "duration": 15,
        "start_time": "2021-12-21T20:07:24.896Z"
      },
      {
        "duration": 6,
        "start_time": "2021-12-21T20:13:50.684Z"
      },
      {
        "duration": 5,
        "start_time": "2021-12-21T20:14:11.398Z"
      },
      {
        "duration": 389,
        "start_time": "2021-12-21T20:15:19.096Z"
      },
      {
        "duration": 6,
        "start_time": "2021-12-21T20:15:23.163Z"
      },
      {
        "duration": 8,
        "start_time": "2021-12-21T20:15:39.591Z"
      },
      {
        "duration": 19,
        "start_time": "2021-12-21T20:16:04.265Z"
      },
      {
        "duration": 14,
        "start_time": "2021-12-21T20:16:24.008Z"
      },
      {
        "duration": 322,
        "start_time": "2021-12-21T20:16:33.966Z"
      },
      {
        "duration": 16,
        "start_time": "2021-12-21T20:16:40.058Z"
      },
      {
        "duration": 13,
        "start_time": "2021-12-21T20:17:27.039Z"
      },
      {
        "duration": 5,
        "start_time": "2021-12-21T20:17:32.690Z"
      },
      {
        "duration": 17,
        "start_time": "2021-12-21T20:17:54.238Z"
      },
      {
        "duration": 4,
        "start_time": "2021-12-21T20:17:58.981Z"
      },
      {
        "duration": 751,
        "start_time": "2021-12-21T20:19:46.376Z"
      },
      {
        "duration": 1612,
        "start_time": "2021-12-21T20:19:58.090Z"
      },
      {
        "duration": 6,
        "start_time": "2021-12-21T20:20:06.491Z"
      },
      {
        "duration": 22,
        "start_time": "2021-12-21T20:24:52.721Z"
      },
      {
        "duration": 315,
        "start_time": "2021-12-21T20:25:03.566Z"
      },
      {
        "duration": 416,
        "start_time": "2021-12-21T20:25:57.229Z"
      },
      {
        "duration": 1733,
        "start_time": "2021-12-21T20:27:31.884Z"
      },
      {
        "duration": 1519,
        "start_time": "2021-12-21T20:28:08.452Z"
      },
      {
        "duration": 99,
        "start_time": "2021-12-21T20:28:32.391Z"
      },
      {
        "duration": 22,
        "start_time": "2021-12-21T20:28:32.493Z"
      },
      {
        "duration": 458,
        "start_time": "2021-12-21T20:28:32.518Z"
      },
      {
        "duration": 36,
        "start_time": "2021-12-21T20:28:32.980Z"
      },
      {
        "duration": 452,
        "start_time": "2021-12-21T20:28:33.019Z"
      },
      {
        "duration": 38,
        "start_time": "2021-12-21T20:28:33.474Z"
      },
      {
        "duration": 365,
        "start_time": "2021-12-21T20:28:33.515Z"
      },
      {
        "duration": 332,
        "start_time": "2021-12-21T20:28:33.884Z"
      },
      {
        "duration": 43,
        "start_time": "2021-12-21T20:28:34.220Z"
      },
      {
        "duration": 35,
        "start_time": "2021-12-21T20:28:34.266Z"
      },
      {
        "duration": 28,
        "start_time": "2021-12-21T20:28:34.304Z"
      },
      {
        "duration": 55,
        "start_time": "2021-12-21T20:28:34.335Z"
      },
      {
        "duration": 31,
        "start_time": "2021-12-21T20:28:34.393Z"
      },
      {
        "duration": 43,
        "start_time": "2021-12-21T20:28:34.427Z"
      },
      {
        "duration": 21,
        "start_time": "2021-12-21T20:28:34.473Z"
      },
      {
        "duration": 32,
        "start_time": "2021-12-21T20:28:34.496Z"
      },
      {
        "duration": 52,
        "start_time": "2021-12-21T20:28:34.531Z"
      },
      {
        "duration": 9,
        "start_time": "2021-12-21T20:28:34.585Z"
      },
      {
        "duration": 72,
        "start_time": "2021-12-21T20:28:34.597Z"
      },
      {
        "duration": 12,
        "start_time": "2021-12-21T20:28:34.672Z"
      },
      {
        "duration": 24,
        "start_time": "2021-12-21T20:28:34.686Z"
      },
      {
        "duration": 967,
        "start_time": "2021-12-21T20:28:34.712Z"
      },
      {
        "duration": 5,
        "start_time": "2021-12-21T20:28:35.684Z"
      },
      {
        "duration": 4238,
        "start_time": "2021-12-21T20:28:35.692Z"
      },
      {
        "duration": 33,
        "start_time": "2021-12-21T20:28:39.944Z"
      },
      {
        "duration": 86,
        "start_time": "2021-12-21T20:28:39.980Z"
      },
      {
        "duration": 23,
        "start_time": "2021-12-21T20:28:40.069Z"
      },
      {
        "duration": 43,
        "start_time": "2021-12-21T20:28:40.096Z"
      },
      {
        "duration": 38,
        "start_time": "2021-12-21T20:28:40.149Z"
      },
      {
        "duration": 36,
        "start_time": "2021-12-21T20:28:40.197Z"
      },
      {
        "duration": 42,
        "start_time": "2021-12-21T20:28:40.243Z"
      },
      {
        "duration": 60,
        "start_time": "2021-12-21T20:28:40.299Z"
      },
      {
        "duration": 34,
        "start_time": "2021-12-21T20:28:40.369Z"
      },
      {
        "duration": 34,
        "start_time": "2021-12-21T20:28:40.413Z"
      },
      {
        "duration": 37,
        "start_time": "2021-12-21T20:28:40.457Z"
      },
      {
        "duration": 2065,
        "start_time": "2021-12-21T20:29:16.496Z"
      },
      {
        "duration": 144,
        "start_time": "2021-12-21T20:29:31.193Z"
      },
      {
        "duration": 39,
        "start_time": "2021-12-21T20:29:31.341Z"
      },
      {
        "duration": 355,
        "start_time": "2021-12-21T20:29:31.383Z"
      },
      {
        "duration": 38,
        "start_time": "2021-12-21T20:29:31.742Z"
      },
      {
        "duration": 501,
        "start_time": "2021-12-21T20:29:31.783Z"
      },
      {
        "duration": 29,
        "start_time": "2021-12-21T20:29:32.287Z"
      },
      {
        "duration": 362,
        "start_time": "2021-12-21T20:29:32.319Z"
      },
      {
        "duration": 336,
        "start_time": "2021-12-21T20:29:32.685Z"
      },
      {
        "duration": 45,
        "start_time": "2021-12-21T20:29:33.024Z"
      },
      {
        "duration": 52,
        "start_time": "2021-12-21T20:29:33.071Z"
      },
      {
        "duration": 38,
        "start_time": "2021-12-21T20:29:33.126Z"
      },
      {
        "duration": 26,
        "start_time": "2021-12-21T20:29:33.166Z"
      },
      {
        "duration": 23,
        "start_time": "2021-12-21T20:29:33.194Z"
      },
      {
        "duration": 57,
        "start_time": "2021-12-21T20:29:33.220Z"
      },
      {
        "duration": 20,
        "start_time": "2021-12-21T20:29:33.280Z"
      },
      {
        "duration": 66,
        "start_time": "2021-12-21T20:29:33.303Z"
      },
      {
        "duration": 21,
        "start_time": "2021-12-21T20:29:33.372Z"
      },
      {
        "duration": 10,
        "start_time": "2021-12-21T20:29:33.396Z"
      },
      {
        "duration": 75,
        "start_time": "2021-12-21T20:29:33.409Z"
      },
      {
        "duration": 12,
        "start_time": "2021-12-21T20:29:33.486Z"
      },
      {
        "duration": 11,
        "start_time": "2021-12-21T20:29:33.501Z"
      },
      {
        "duration": 1089,
        "start_time": "2021-12-21T20:29:33.515Z"
      },
      {
        "duration": 5,
        "start_time": "2021-12-21T20:29:34.611Z"
      },
      {
        "duration": 4095,
        "start_time": "2021-12-21T20:29:34.619Z"
      },
      {
        "duration": 9,
        "start_time": "2021-12-21T20:29:38.716Z"
      },
      {
        "duration": 49,
        "start_time": "2021-12-21T20:29:38.727Z"
      },
      {
        "duration": 8,
        "start_time": "2021-12-21T20:29:38.779Z"
      },
      {
        "duration": 23,
        "start_time": "2021-12-21T20:29:38.790Z"
      },
      {
        "duration": 63,
        "start_time": "2021-12-21T20:29:38.816Z"
      },
      {
        "duration": 28,
        "start_time": "2021-12-21T20:29:38.882Z"
      },
      {
        "duration": 51,
        "start_time": "2021-12-21T20:29:38.913Z"
      },
      {
        "duration": 22,
        "start_time": "2021-12-21T20:29:38.966Z"
      },
      {
        "duration": 18,
        "start_time": "2021-12-21T20:29:38.991Z"
      },
      {
        "duration": 51,
        "start_time": "2021-12-21T20:29:39.012Z"
      },
      {
        "duration": 17,
        "start_time": "2021-12-21T20:29:39.066Z"
      },
      {
        "duration": 692,
        "start_time": "2021-12-21T20:31:37.032Z"
      },
      {
        "duration": 109,
        "start_time": "2021-12-21T20:32:17.246Z"
      },
      {
        "duration": 206,
        "start_time": "2021-12-21T20:34:17.711Z"
      },
      {
        "duration": 17,
        "start_time": "2021-12-21T20:34:31.874Z"
      },
      {
        "duration": 347,
        "start_time": "2021-12-21T20:34:33.376Z"
      },
      {
        "duration": 7857,
        "start_time": "2021-12-21T20:34:47.083Z"
      },
      {
        "duration": 10752,
        "start_time": "2021-12-21T20:36:29.064Z"
      },
      {
        "duration": 84,
        "start_time": "2021-12-21T20:40:35.674Z"
      },
      {
        "duration": 20,
        "start_time": "2021-12-21T20:40:35.760Z"
      },
      {
        "duration": 335,
        "start_time": "2021-12-21T20:40:35.784Z"
      },
      {
        "duration": 42,
        "start_time": "2021-12-21T20:40:36.122Z"
      },
      {
        "duration": 325,
        "start_time": "2021-12-21T20:40:36.167Z"
      },
      {
        "duration": 30,
        "start_time": "2021-12-21T20:40:36.495Z"
      },
      {
        "duration": 344,
        "start_time": "2021-12-21T20:40:36.528Z"
      },
      {
        "duration": 338,
        "start_time": "2021-12-21T20:40:36.874Z"
      },
      {
        "duration": 26,
        "start_time": "2021-12-21T20:40:37.216Z"
      },
      {
        "duration": 38,
        "start_time": "2021-12-21T20:40:37.262Z"
      },
      {
        "duration": 15,
        "start_time": "2021-12-21T20:40:37.302Z"
      },
      {
        "duration": 56,
        "start_time": "2021-12-21T20:40:37.320Z"
      },
      {
        "duration": 23,
        "start_time": "2021-12-21T20:40:37.378Z"
      },
      {
        "duration": 23,
        "start_time": "2021-12-21T20:40:37.404Z"
      },
      {
        "duration": 51,
        "start_time": "2021-12-21T20:40:37.429Z"
      },
      {
        "duration": 33,
        "start_time": "2021-12-21T20:40:37.482Z"
      },
      {
        "duration": 49,
        "start_time": "2021-12-21T20:40:37.518Z"
      },
      {
        "duration": 14,
        "start_time": "2021-12-21T20:40:37.571Z"
      },
      {
        "duration": 79,
        "start_time": "2021-12-21T20:40:37.588Z"
      },
      {
        "duration": 12,
        "start_time": "2021-12-21T20:40:37.669Z"
      },
      {
        "duration": 13,
        "start_time": "2021-12-21T20:40:37.683Z"
      },
      {
        "duration": 1045,
        "start_time": "2021-12-21T20:40:37.699Z"
      },
      {
        "duration": 15,
        "start_time": "2021-12-21T20:40:38.748Z"
      },
      {
        "duration": 3982,
        "start_time": "2021-12-21T20:40:38.766Z"
      },
      {
        "duration": 16,
        "start_time": "2021-12-21T20:40:42.750Z"
      },
      {
        "duration": 26,
        "start_time": "2021-12-21T20:40:42.769Z"
      },
      {
        "duration": 9,
        "start_time": "2021-12-21T20:40:42.800Z"
      },
      {
        "duration": 60,
        "start_time": "2021-12-21T20:40:42.812Z"
      },
      {
        "duration": 20,
        "start_time": "2021-12-21T20:40:42.875Z"
      },
      {
        "duration": 21,
        "start_time": "2021-12-21T20:40:42.898Z"
      },
      {
        "duration": 53,
        "start_time": "2021-12-21T20:40:42.921Z"
      },
      {
        "duration": 20,
        "start_time": "2021-12-21T20:40:42.976Z"
      },
      {
        "duration": 16,
        "start_time": "2021-12-21T20:40:42.998Z"
      },
      {
        "duration": 52,
        "start_time": "2021-12-21T20:40:43.016Z"
      },
      {
        "duration": 16,
        "start_time": "2021-12-21T20:40:43.071Z"
      },
      {
        "duration": 21,
        "start_time": "2021-12-21T20:51:29.882Z"
      },
      {
        "duration": 22,
        "start_time": "2021-12-21T20:51:57.428Z"
      },
      {
        "duration": 23,
        "start_time": "2021-12-21T20:52:22.323Z"
      },
      {
        "duration": 21,
        "start_time": "2021-12-21T20:52:33.842Z"
      },
      {
        "duration": 24,
        "start_time": "2021-12-21T20:54:41.680Z"
      },
      {
        "duration": 17,
        "start_time": "2021-12-21T20:57:41.061Z"
      },
      {
        "duration": 18,
        "start_time": "2021-12-21T20:59:53.475Z"
      },
      {
        "duration": 17,
        "start_time": "2021-12-21T21:00:15.079Z"
      },
      {
        "duration": 1027,
        "start_time": "2021-12-23T07:39:29.666Z"
      },
      {
        "duration": 18,
        "start_time": "2021-12-23T07:39:30.696Z"
      },
      {
        "duration": 342,
        "start_time": "2021-12-23T07:39:30.717Z"
      },
      {
        "duration": 43,
        "start_time": "2021-12-23T07:39:31.063Z"
      },
      {
        "duration": 324,
        "start_time": "2021-12-23T07:39:31.109Z"
      },
      {
        "duration": 42,
        "start_time": "2021-12-23T07:39:31.435Z"
      },
      {
        "duration": 327,
        "start_time": "2021-12-23T07:39:31.479Z"
      },
      {
        "duration": 317,
        "start_time": "2021-12-23T07:39:31.810Z"
      },
      {
        "duration": 43,
        "start_time": "2021-12-23T07:39:32.130Z"
      },
      {
        "duration": 36,
        "start_time": "2021-12-23T07:39:32.175Z"
      },
      {
        "duration": 16,
        "start_time": "2021-12-23T07:39:32.213Z"
      },
      {
        "duration": 75,
        "start_time": "2021-12-23T07:39:32.259Z"
      },
      {
        "duration": 30,
        "start_time": "2021-12-23T07:39:32.336Z"
      },
      {
        "duration": 23,
        "start_time": "2021-12-23T07:39:32.369Z"
      },
      {
        "duration": 21,
        "start_time": "2021-12-23T07:39:32.395Z"
      },
      {
        "duration": 65,
        "start_time": "2021-12-23T07:39:32.419Z"
      },
      {
        "duration": 22,
        "start_time": "2021-12-23T07:39:32.486Z"
      },
      {
        "duration": 9,
        "start_time": "2021-12-23T07:39:32.511Z"
      },
      {
        "duration": 74,
        "start_time": "2021-12-23T07:39:32.522Z"
      },
      {
        "duration": 11,
        "start_time": "2021-12-23T07:39:32.599Z"
      },
      {
        "duration": 19,
        "start_time": "2021-12-23T07:39:32.613Z"
      },
      {
        "duration": 958,
        "start_time": "2021-12-23T07:39:32.635Z"
      },
      {
        "duration": 4,
        "start_time": "2021-12-23T07:39:33.599Z"
      },
      {
        "duration": 4191,
        "start_time": "2021-12-23T07:39:33.606Z"
      },
      {
        "duration": 9,
        "start_time": "2021-12-23T07:39:37.799Z"
      },
      {
        "duration": 28,
        "start_time": "2021-12-23T07:39:37.810Z"
      },
      {
        "duration": 9,
        "start_time": "2021-12-23T07:39:37.859Z"
      },
      {
        "duration": 21,
        "start_time": "2021-12-23T07:39:37.871Z"
      },
      {
        "duration": 19,
        "start_time": "2021-12-23T07:39:37.895Z"
      },
      {
        "duration": 58,
        "start_time": "2021-12-23T07:39:37.916Z"
      },
      {
        "duration": 20,
        "start_time": "2021-12-23T07:39:37.976Z"
      },
      {
        "duration": 16,
        "start_time": "2021-12-23T07:39:37.998Z"
      },
      {
        "duration": 54,
        "start_time": "2021-12-23T07:39:38.016Z"
      },
      {
        "duration": 19,
        "start_time": "2021-12-23T07:39:38.073Z"
      },
      {
        "duration": 18,
        "start_time": "2021-12-23T07:39:38.095Z"
      },
      {
        "duration": 54,
        "start_time": "2021-12-23T07:39:38.115Z"
      },
      {
        "duration": 20,
        "start_time": "2021-12-23T07:39:38.172Z"
      },
      {
        "duration": 8385,
        "start_time": "2021-12-23T07:41:07.961Z"
      },
      {
        "duration": 9,
        "start_time": "2021-12-23T07:46:32.511Z"
      },
      {
        "duration": 22,
        "start_time": "2021-12-23T07:47:03.803Z"
      }
    ],
    "kernelspec": {
      "display_name": "Python 3 (ipykernel)",
      "language": "python",
      "name": "python3"
    },
    "language_info": {
      "codemirror_mode": {
        "name": "ipython",
        "version": 3
      },
      "file_extension": ".py",
      "mimetype": "text/x-python",
      "name": "python",
      "nbconvert_exporter": "python",
      "pygments_lexer": "ipython3",
      "version": "3.9.5"
    },
    "toc": {
      "base_numbering": 1,
      "nav_menu": {},
      "number_sections": true,
      "sideBar": true,
      "skip_h1_title": true,
      "title_cell": "Table of Contents",
      "title_sidebar": "Contents",
      "toc_cell": false,
      "toc_position": {
        "height": "calc(100% - 180px)",
        "left": "10px",
        "top": "150px",
        "width": "165px"
      },
      "toc_section_display": true,
      "toc_window_display": true
    },
    "colab": {
      "provenance": []
    }
  },
  "nbformat": 4,
  "nbformat_minor": 0
}