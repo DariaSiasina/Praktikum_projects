{
  "cells": [
    {
      "cell_type": "markdown",
      "metadata": {
        "id": "JfNswSgJ8QMT"
      },
      "source": [
        "<B><H1><center>Проект по теме \"Принятие решений в бизнесе\"</center></H1></B>"
      ]
    },
    {
      "cell_type": "markdown",
      "metadata": {
        "id": "eKLtnMJH8QMU"
      },
      "source": [
        "## Описание проекта"
      ]
    },
    {
      "cell_type": "markdown",
      "metadata": {
        "id": "eJh2WgRU8QMV"
      },
      "source": [
        "Для увеличения выручки крупного интернет-магазина подготовлен список гипотез, которые нужно приоритизировать, а также результаты A/B-тестов для проведения анализа."
      ]
    },
    {
      "cell_type": "code",
      "execution_count": null,
      "metadata": {
        "id": "DYX5SDrM8QMW"
      },
      "outputs": [],
      "source": [
        "import pandas as pd\n",
        "import scipy.stats as stats\n",
        "import datetime as dt\n",
        "import numpy as np\n",
        "import matplotlib.pyplot as plt\n",
        "pd.set_option('display.max_colwidth', 150)\n",
        "pd.set_option('display.float_format', '{:_.2f}'.format)"
      ]
    },
    {
      "cell_type": "markdown",
      "metadata": {
        "id": "1ADBLq6y8QMa"
      },
      "source": [
        "## Часть 1. Приоритизация гипотез"
      ]
    },
    {
      "cell_type": "markdown",
      "metadata": {
        "id": "2lQVFW758QMc"
      },
      "source": [
        "### Открытие данных"
      ]
    },
    {
      "cell_type": "code",
      "execution_count": null,
      "metadata": {
        "id": "CZuDJeZ-8QMd"
      },
      "outputs": [],
      "source": [
        "path = '/datasets/hypothesis.csv'"
      ]
    },
    {
      "cell_type": "code",
      "execution_count": null,
      "metadata": {
        "id": "LJEwwY8l8QMe"
      },
      "outputs": [],
      "source": [
        "hypothesis = pd.read_csv(path)"
      ]
    },
    {
      "cell_type": "code",
      "execution_count": null,
      "metadata": {
        "id": "94seaa7w8QMe",
        "outputId": "813c1b8f-d0c5-4932-b03b-d9c31f7ead30"
      },
      "outputs": [
        {
          "data": {
            "text/html": [
              "<div>\n",
              "<style scoped>\n",
              "    .dataframe tbody tr th:only-of-type {\n",
              "        vertical-align: middle;\n",
              "    }\n",
              "\n",
              "    .dataframe tbody tr th {\n",
              "        vertical-align: top;\n",
              "    }\n",
              "\n",
              "    .dataframe thead th {\n",
              "        text-align: right;\n",
              "    }\n",
              "</style>\n",
              "<table border=\"1\" class=\"dataframe\">\n",
              "  <thead>\n",
              "    <tr style=\"text-align: right;\">\n",
              "      <th></th>\n",
              "      <th>Hypothesis</th>\n",
              "      <th>Reach</th>\n",
              "      <th>Impact</th>\n",
              "      <th>Confidence</th>\n",
              "      <th>Efforts</th>\n",
              "    </tr>\n",
              "  </thead>\n",
              "  <tbody>\n",
              "    <tr>\n",
              "      <th>0</th>\n",
              "      <td>Добавить два новых канала привлечения трафика, что позволит привлекать на 30% больше пользователей</td>\n",
              "      <td>3</td>\n",
              "      <td>10</td>\n",
              "      <td>8</td>\n",
              "      <td>6</td>\n",
              "    </tr>\n",
              "    <tr>\n",
              "      <th>1</th>\n",
              "      <td>Запустить собственную службу доставки, что сократит срок доставки заказов</td>\n",
              "      <td>2</td>\n",
              "      <td>5</td>\n",
              "      <td>4</td>\n",
              "      <td>10</td>\n",
              "    </tr>\n",
              "    <tr>\n",
              "      <th>2</th>\n",
              "      <td>Добавить блоки рекомендаций товаров на сайт интернет магазина, чтобы повысить конверсию и средний чек заказа</td>\n",
              "      <td>8</td>\n",
              "      <td>3</td>\n",
              "      <td>7</td>\n",
              "      <td>3</td>\n",
              "    </tr>\n",
              "    <tr>\n",
              "      <th>3</th>\n",
              "      <td>Изменить структура категорий, что увеличит конверсию, т.к. пользователи быстрее найдут нужный товар</td>\n",
              "      <td>8</td>\n",
              "      <td>3</td>\n",
              "      <td>3</td>\n",
              "      <td>8</td>\n",
              "    </tr>\n",
              "    <tr>\n",
              "      <th>4</th>\n",
              "      <td>Изменить цвет фона главной страницы, чтобы увеличить вовлеченность пользователей</td>\n",
              "      <td>3</td>\n",
              "      <td>1</td>\n",
              "      <td>1</td>\n",
              "      <td>1</td>\n",
              "    </tr>\n",
              "    <tr>\n",
              "      <th>5</th>\n",
              "      <td>Добавить страницу отзывов клиентов о магазине, что позволит увеличить количество заказов</td>\n",
              "      <td>3</td>\n",
              "      <td>2</td>\n",
              "      <td>2</td>\n",
              "      <td>3</td>\n",
              "    </tr>\n",
              "    <tr>\n",
              "      <th>6</th>\n",
              "      <td>Показать на главной странице баннеры с актуальными акциями и распродажами, чтобы увеличить конверсию</td>\n",
              "      <td>5</td>\n",
              "      <td>3</td>\n",
              "      <td>8</td>\n",
              "      <td>3</td>\n",
              "    </tr>\n",
              "    <tr>\n",
              "      <th>7</th>\n",
              "      <td>Добавить форму подписки на все основные страницы, чтобы собрать базу клиентов для email-рассылок</td>\n",
              "      <td>10</td>\n",
              "      <td>7</td>\n",
              "      <td>8</td>\n",
              "      <td>5</td>\n",
              "    </tr>\n",
              "    <tr>\n",
              "      <th>8</th>\n",
              "      <td>Запустить акцию, дающую скидку на товар в день рождения</td>\n",
              "      <td>1</td>\n",
              "      <td>9</td>\n",
              "      <td>9</td>\n",
              "      <td>5</td>\n",
              "    </tr>\n",
              "  </tbody>\n",
              "</table>\n",
              "</div>"
            ],
            "text/plain": [
              "                                                                                                     Hypothesis  \\\n",
              "0            Добавить два новых канала привлечения трафика, что позволит привлекать на 30% больше пользователей   \n",
              "1                                     Запустить собственную службу доставки, что сократит срок доставки заказов   \n",
              "2  Добавить блоки рекомендаций товаров на сайт интернет магазина, чтобы повысить конверсию и средний чек заказа   \n",
              "3           Изменить структура категорий, что увеличит конверсию, т.к. пользователи быстрее найдут нужный товар   \n",
              "4                              Изменить цвет фона главной страницы, чтобы увеличить вовлеченность пользователей   \n",
              "5                      Добавить страницу отзывов клиентов о магазине, что позволит увеличить количество заказов   \n",
              "6          Показать на главной странице баннеры с актуальными акциями и распродажами, чтобы увеличить конверсию   \n",
              "7              Добавить форму подписки на все основные страницы, чтобы собрать базу клиентов для email-рассылок   \n",
              "8                                                       Запустить акцию, дающую скидку на товар в день рождения   \n",
              "\n",
              "   Reach  Impact  Confidence  Efforts  \n",
              "0      3      10           8        6  \n",
              "1      2       5           4       10  \n",
              "2      8       3           7        3  \n",
              "3      8       3           3        8  \n",
              "4      3       1           1        1  \n",
              "5      3       2           2        3  \n",
              "6      5       3           8        3  \n",
              "7     10       7           8        5  \n",
              "8      1       9           9        5  "
            ]
          },
          "metadata": {},
          "output_type": "display_data"
        }
      ],
      "source": [
        "display(hypothesis.head(10))"
      ]
    },
    {
      "cell_type": "code",
      "execution_count": null,
      "metadata": {
        "id": "CpbvpPzN8QMf",
        "outputId": "47789db9-2ce0-4df9-d6b0-2685332adcac"
      },
      "outputs": [
        {
          "name": "stdout",
          "output_type": "stream",
          "text": [
            "<class 'pandas.core.frame.DataFrame'>\n",
            "RangeIndex: 9 entries, 0 to 8\n",
            "Data columns (total 5 columns):\n",
            " #   Column      Non-Null Count  Dtype \n",
            "---  ------      --------------  ----- \n",
            " 0   Hypothesis  9 non-null      object\n",
            " 1   Reach       9 non-null      int64 \n",
            " 2   Impact      9 non-null      int64 \n",
            " 3   Confidence  9 non-null      int64 \n",
            " 4   Efforts     9 non-null      int64 \n",
            "dtypes: int64(4), object(1)\n",
            "memory usage: 488.0+ bytes\n"
          ]
        }
      ],
      "source": [
        "hypothesis.info()"
      ]
    },
    {
      "cell_type": "markdown",
      "metadata": {
        "id": "zrU47OKm8QMg"
      },
      "source": [
        "Нам представлено 9 гипотез, а также 4 их характеристики. Таблица небольшая, поэтому сразу видно отсутствие пропусков и дубликатов. Самый максимальный охват имеет гипотеза №7, наибольшее влияние - №0, а максимальные усилия нужны для гипотезы №1."
      ]
    },
    {
      "cell_type": "markdown",
      "metadata": {
        "id": "e9XwH0vZ8QMh"
      },
      "source": [
        "Чтобы выяснить приоритеты для рассмотрения гипотез, применим фреймворк ICE."
      ]
    },
    {
      "cell_type": "code",
      "execution_count": null,
      "metadata": {
        "id": "t1HtyCgS8QMi",
        "outputId": "dd2fadaa-f7b2-4d2f-b735-6568f6a93731"
      },
      "outputs": [
        {
          "name": "stdout",
          "output_type": "stream",
          "text": [
            "                                                                                                     Hypothesis  \\\n",
            "8                                                       Запустить акцию, дающую скидку на товар в день рождения   \n",
            "0            Добавить два новых канала привлечения трафика, что позволит привлекать на 30% больше пользователей   \n",
            "7              Добавить форму подписки на все основные страницы, чтобы собрать базу клиентов для email-рассылок   \n",
            "6          Показать на главной странице баннеры с актуальными акциями и распродажами, чтобы увеличить конверсию   \n",
            "2  Добавить блоки рекомендаций товаров на сайт интернет магазина, чтобы повысить конверсию и средний чек заказа   \n",
            "1                                     Запустить собственную службу доставки, что сократит срок доставки заказов   \n",
            "5                      Добавить страницу отзывов клиентов о магазине, что позволит увеличить количество заказов   \n",
            "3           Изменить структура категорий, что увеличит конверсию, т.к. пользователи быстрее найдут нужный товар   \n",
            "4                              Изменить цвет фона главной страницы, чтобы увеличить вовлеченность пользователей   \n",
            "\n",
            "    ICE  \n",
            "8 16.20  \n",
            "0 13.33  \n",
            "7 11.20  \n",
            "6  8.00  \n",
            "2  7.00  \n",
            "1  2.00  \n",
            "5  1.33  \n",
            "3  1.12  \n",
            "4  1.00  \n"
          ]
        }
      ],
      "source": [
        "hypothesis['ICE'] = hypothesis['Impact'] * hypothesis['Confidence'] / hypothesis['Efforts']\n",
        "print(hypothesis[['Hypothesis', 'ICE']].sort_values(by='ICE', ascending=False))"
      ]
    },
    {
      "cell_type": "markdown",
      "metadata": {
        "id": "DT_x7nVB8QMj"
      },
      "source": [
        "По фреймворку ICE в лидерах по приоритету гипотезы 8, 0 и 7. Чтобы выяснить приоритеты для рассмотрения гипотез, применим фреймворк RICE."
      ]
    },
    {
      "cell_type": "code",
      "execution_count": null,
      "metadata": {
        "id": "0DhHQEUS8QMk",
        "outputId": "b629b72e-ee38-4c17-9191-14124359b5ac"
      },
      "outputs": [
        {
          "name": "stdout",
          "output_type": "stream",
          "text": [
            "                                                                                                     Hypothesis  \\\n",
            "7              Добавить форму подписки на все основные страницы, чтобы собрать базу клиентов для email-рассылок   \n",
            "2  Добавить блоки рекомендаций товаров на сайт интернет магазина, чтобы повысить конверсию и средний чек заказа   \n",
            "0            Добавить два новых канала привлечения трафика, что позволит привлекать на 30% больше пользователей   \n",
            "6          Показать на главной странице баннеры с актуальными акциями и распродажами, чтобы увеличить конверсию   \n",
            "8                                                       Запустить акцию, дающую скидку на товар в день рождения   \n",
            "3           Изменить структура категорий, что увеличит конверсию, т.к. пользователи быстрее найдут нужный товар   \n",
            "1                                     Запустить собственную службу доставки, что сократит срок доставки заказов   \n",
            "5                      Добавить страницу отзывов клиентов о магазине, что позволит увеличить количество заказов   \n",
            "4                              Изменить цвет фона главной страницы, чтобы увеличить вовлеченность пользователей   \n",
            "\n",
            "    RICE  \n",
            "7 112.00  \n",
            "2  56.00  \n",
            "0  40.00  \n",
            "6  40.00  \n",
            "8  16.20  \n",
            "3   9.00  \n",
            "1   4.00  \n",
            "5   4.00  \n",
            "4   3.00  \n"
          ]
        }
      ],
      "source": [
        "hypothesis['RICE'] = hypothesis['Reach'] * hypothesis['Impact'] * hypothesis['Confidence'] / hypothesis['Efforts']\n",
        "print(hypothesis[['Hypothesis', 'RICE']].sort_values(by='RICE', ascending=False))"
      ]
    },
    {
      "cell_type": "markdown",
      "metadata": {
        "id": "9N5iC8ZB8QMk"
      },
      "source": [
        "По фреймворку RICE в лидерах по приоритету гипотезы 7, 2 и 0, а лидер рейтинга ICE гипотеза №8 опустился ниже, что вызвано использованием параметра Reach/Охват, по которому гипотеза №8 набрала очень мало баллов. \n",
        "Поэтому рекомендуется приоритетными считать гипотезы №7 и №0, у которых оптимальными являются показатели всех четырех параметров."
      ]
    },
    {
      "cell_type": "markdown",
      "metadata": {
        "id": "ruXnlYoR8QMl"
      },
      "source": [
        "## Часть 2. Приоритизация гипотез"
      ]
    },
    {
      "cell_type": "markdown",
      "metadata": {
        "id": "jVcNxACi8QMl"
      },
      "source": [
        "### Открытие данных"
      ]
    },
    {
      "cell_type": "code",
      "execution_count": null,
      "metadata": {
        "id": "Mi4d6Wa58QMo"
      },
      "outputs": [],
      "source": [
        "orders = pd.read_csv('/datasets/orders.csv')\n",
        "visitors = pd.read_csv('/datasets/visitors.csv')"
      ]
    },
    {
      "cell_type": "code",
      "execution_count": null,
      "metadata": {
        "id": "MGNs7iDX8QMq",
        "outputId": "77fc5d58-b42e-4a0a-cb92-963e3b031001"
      },
      "outputs": [
        {
          "data": {
            "text/html": [
              "<div>\n",
              "<style scoped>\n",
              "    .dataframe tbody tr th:only-of-type {\n",
              "        vertical-align: middle;\n",
              "    }\n",
              "\n",
              "    .dataframe tbody tr th {\n",
              "        vertical-align: top;\n",
              "    }\n",
              "\n",
              "    .dataframe thead th {\n",
              "        text-align: right;\n",
              "    }\n",
              "</style>\n",
              "<table border=\"1\" class=\"dataframe\">\n",
              "  <thead>\n",
              "    <tr style=\"text-align: right;\">\n",
              "      <th></th>\n",
              "      <th>transactionId</th>\n",
              "      <th>visitorId</th>\n",
              "      <th>date</th>\n",
              "      <th>revenue</th>\n",
              "      <th>group</th>\n",
              "    </tr>\n",
              "  </thead>\n",
              "  <tbody>\n",
              "    <tr>\n",
              "      <th>0</th>\n",
              "      <td>3667963787</td>\n",
              "      <td>3312258926</td>\n",
              "      <td>2019-08-15</td>\n",
              "      <td>1650</td>\n",
              "      <td>B</td>\n",
              "    </tr>\n",
              "    <tr>\n",
              "      <th>1</th>\n",
              "      <td>2804400009</td>\n",
              "      <td>3642806036</td>\n",
              "      <td>2019-08-15</td>\n",
              "      <td>730</td>\n",
              "      <td>B</td>\n",
              "    </tr>\n",
              "    <tr>\n",
              "      <th>2</th>\n",
              "      <td>2961555356</td>\n",
              "      <td>4069496402</td>\n",
              "      <td>2019-08-15</td>\n",
              "      <td>400</td>\n",
              "      <td>A</td>\n",
              "    </tr>\n",
              "    <tr>\n",
              "      <th>3</th>\n",
              "      <td>3797467345</td>\n",
              "      <td>1196621759</td>\n",
              "      <td>2019-08-15</td>\n",
              "      <td>9759</td>\n",
              "      <td>B</td>\n",
              "    </tr>\n",
              "    <tr>\n",
              "      <th>4</th>\n",
              "      <td>2282983706</td>\n",
              "      <td>2322279887</td>\n",
              "      <td>2019-08-15</td>\n",
              "      <td>2308</td>\n",
              "      <td>B</td>\n",
              "    </tr>\n",
              "    <tr>\n",
              "      <th>5</th>\n",
              "      <td>182168103</td>\n",
              "      <td>935554773</td>\n",
              "      <td>2019-08-15</td>\n",
              "      <td>2210</td>\n",
              "      <td>B</td>\n",
              "    </tr>\n",
              "    <tr>\n",
              "      <th>6</th>\n",
              "      <td>398296753</td>\n",
              "      <td>2900797465</td>\n",
              "      <td>2019-08-15</td>\n",
              "      <td>1860</td>\n",
              "      <td>B</td>\n",
              "    </tr>\n",
              "    <tr>\n",
              "      <th>7</th>\n",
              "      <td>2626614568</td>\n",
              "      <td>78758296</td>\n",
              "      <td>2019-08-15</td>\n",
              "      <td>1044</td>\n",
              "      <td>A</td>\n",
              "    </tr>\n",
              "    <tr>\n",
              "      <th>8</th>\n",
              "      <td>1576988021</td>\n",
              "      <td>295230930</td>\n",
              "      <td>2019-08-15</td>\n",
              "      <td>13710</td>\n",
              "      <td>A</td>\n",
              "    </tr>\n",
              "    <tr>\n",
              "      <th>9</th>\n",
              "      <td>1506739906</td>\n",
              "      <td>1882260405</td>\n",
              "      <td>2019-08-15</td>\n",
              "      <td>1855</td>\n",
              "      <td>B</td>\n",
              "    </tr>\n",
              "  </tbody>\n",
              "</table>\n",
              "</div>"
            ],
            "text/plain": [
              "   transactionId   visitorId        date  revenue group\n",
              "0     3667963787  3312258926  2019-08-15     1650     B\n",
              "1     2804400009  3642806036  2019-08-15      730     B\n",
              "2     2961555356  4069496402  2019-08-15      400     A\n",
              "3     3797467345  1196621759  2019-08-15     9759     B\n",
              "4     2282983706  2322279887  2019-08-15     2308     B\n",
              "5      182168103   935554773  2019-08-15     2210     B\n",
              "6      398296753  2900797465  2019-08-15     1860     B\n",
              "7     2626614568    78758296  2019-08-15     1044     A\n",
              "8     1576988021   295230930  2019-08-15    13710     A\n",
              "9     1506739906  1882260405  2019-08-15     1855     B"
            ]
          },
          "metadata": {},
          "output_type": "display_data"
        }
      ],
      "source": [
        "display(orders.head(10))"
      ]
    },
    {
      "cell_type": "code",
      "execution_count": null,
      "metadata": {
        "id": "Becc0Qoe8QMq",
        "outputId": "eae7759b-dfba-4a44-ebdb-d27c30ca310f"
      },
      "outputs": [
        {
          "name": "stdout",
          "output_type": "stream",
          "text": [
            "<class 'pandas.core.frame.DataFrame'>\n",
            "RangeIndex: 1197 entries, 0 to 1196\n",
            "Data columns (total 5 columns):\n",
            " #   Column         Non-Null Count  Dtype \n",
            "---  ------         --------------  ----- \n",
            " 0   transactionId  1197 non-null   int64 \n",
            " 1   visitorId      1197 non-null   int64 \n",
            " 2   date           1197 non-null   object\n",
            " 3   revenue        1197 non-null   int64 \n",
            " 4   group          1197 non-null   object\n",
            "dtypes: int64(3), object(2)\n",
            "memory usage: 46.9+ KB\n"
          ]
        }
      ],
      "source": [
        "orders.info()"
      ]
    },
    {
      "cell_type": "markdown",
      "metadata": {
        "id": "P5DhMjiP8QMq"
      },
      "source": [
        "У нас есть таблица с данными по 1197 заказам - дате, сумме, id, id клиента и группе. Дата представлена в формате объекта, то лучше изменить. Пропусков нет."
      ]
    },
    {
      "cell_type": "code",
      "execution_count": null,
      "metadata": {
        "id": "1a5H7Rdh8QMq",
        "outputId": "82ef9a50-4d63-45a0-e3d5-8ed7223da80b"
      },
      "outputs": [
        {
          "data": {
            "text/html": [
              "<div>\n",
              "<style scoped>\n",
              "    .dataframe tbody tr th:only-of-type {\n",
              "        vertical-align: middle;\n",
              "    }\n",
              "\n",
              "    .dataframe tbody tr th {\n",
              "        vertical-align: top;\n",
              "    }\n",
              "\n",
              "    .dataframe thead th {\n",
              "        text-align: right;\n",
              "    }\n",
              "</style>\n",
              "<table border=\"1\" class=\"dataframe\">\n",
              "  <thead>\n",
              "    <tr style=\"text-align: right;\">\n",
              "      <th></th>\n",
              "      <th>date</th>\n",
              "      <th>group</th>\n",
              "      <th>visitors</th>\n",
              "    </tr>\n",
              "  </thead>\n",
              "  <tbody>\n",
              "    <tr>\n",
              "      <th>0</th>\n",
              "      <td>2019-08-01</td>\n",
              "      <td>A</td>\n",
              "      <td>719</td>\n",
              "    </tr>\n",
              "    <tr>\n",
              "      <th>1</th>\n",
              "      <td>2019-08-02</td>\n",
              "      <td>A</td>\n",
              "      <td>619</td>\n",
              "    </tr>\n",
              "    <tr>\n",
              "      <th>2</th>\n",
              "      <td>2019-08-03</td>\n",
              "      <td>A</td>\n",
              "      <td>507</td>\n",
              "    </tr>\n",
              "    <tr>\n",
              "      <th>3</th>\n",
              "      <td>2019-08-04</td>\n",
              "      <td>A</td>\n",
              "      <td>717</td>\n",
              "    </tr>\n",
              "    <tr>\n",
              "      <th>4</th>\n",
              "      <td>2019-08-05</td>\n",
              "      <td>A</td>\n",
              "      <td>756</td>\n",
              "    </tr>\n",
              "    <tr>\n",
              "      <th>5</th>\n",
              "      <td>2019-08-06</td>\n",
              "      <td>A</td>\n",
              "      <td>667</td>\n",
              "    </tr>\n",
              "    <tr>\n",
              "      <th>6</th>\n",
              "      <td>2019-08-07</td>\n",
              "      <td>A</td>\n",
              "      <td>644</td>\n",
              "    </tr>\n",
              "    <tr>\n",
              "      <th>7</th>\n",
              "      <td>2019-08-08</td>\n",
              "      <td>A</td>\n",
              "      <td>610</td>\n",
              "    </tr>\n",
              "    <tr>\n",
              "      <th>8</th>\n",
              "      <td>2019-08-09</td>\n",
              "      <td>A</td>\n",
              "      <td>617</td>\n",
              "    </tr>\n",
              "    <tr>\n",
              "      <th>9</th>\n",
              "      <td>2019-08-10</td>\n",
              "      <td>A</td>\n",
              "      <td>406</td>\n",
              "    </tr>\n",
              "  </tbody>\n",
              "</table>\n",
              "</div>"
            ],
            "text/plain": [
              "         date group  visitors\n",
              "0  2019-08-01     A       719\n",
              "1  2019-08-02     A       619\n",
              "2  2019-08-03     A       507\n",
              "3  2019-08-04     A       717\n",
              "4  2019-08-05     A       756\n",
              "5  2019-08-06     A       667\n",
              "6  2019-08-07     A       644\n",
              "7  2019-08-08     A       610\n",
              "8  2019-08-09     A       617\n",
              "9  2019-08-10     A       406"
            ]
          },
          "metadata": {},
          "output_type": "display_data"
        }
      ],
      "source": [
        "display(visitors.head(10))"
      ]
    },
    {
      "cell_type": "code",
      "execution_count": null,
      "metadata": {
        "id": "y2evtkQf8QMr",
        "outputId": "1c6ccb0d-01e2-4308-a81f-aaa4c86c0103"
      },
      "outputs": [
        {
          "name": "stdout",
          "output_type": "stream",
          "text": [
            "<class 'pandas.core.frame.DataFrame'>\n",
            "RangeIndex: 62 entries, 0 to 61\n",
            "Data columns (total 3 columns):\n",
            " #   Column    Non-Null Count  Dtype \n",
            "---  ------    --------------  ----- \n",
            " 0   date      62 non-null     object\n",
            " 1   group     62 non-null     object\n",
            " 2   visitors  62 non-null     int64 \n",
            "dtypes: int64(1), object(2)\n",
            "memory usage: 1.6+ KB\n"
          ]
        }
      ],
      "source": [
        "visitors.info()"
      ]
    },
    {
      "cell_type": "markdown",
      "metadata": {
        "id": "1F7WNSKb8QMs"
      },
      "source": [
        "В данных по посетителям за каждый день 62 строки - по 31 на каждую группу. Даты также представлены в неудобном формате, а пропусков нет."
      ]
    },
    {
      "cell_type": "markdown",
      "metadata": {
        "id": "RKoCKbfm8QMs"
      },
      "source": [
        "### Предобработка данных"
      ]
    },
    {
      "cell_type": "markdown",
      "metadata": {
        "id": "987yvqAu8QMt"
      },
      "source": [
        "Переведем данные с датами заказа в соответствующий формат, а также выявим самый ранний и самый последний заказ."
      ]
    },
    {
      "cell_type": "code",
      "execution_count": null,
      "metadata": {
        "id": "-ArfYaZO8QMt"
      },
      "outputs": [],
      "source": [
        "orders['date'] = orders['date'].map(\n",
        "    lambda x: dt.datetime.strptime(x, '%Y-%m-%d')\n",
        ")"
      ]
    },
    {
      "cell_type": "code",
      "execution_count": null,
      "metadata": {
        "id": "_lY7aPeh8QMu"
      },
      "outputs": [],
      "source": [
        "visitors['date'] = visitors['date'].map(\n",
        "    lambda x: dt.datetime.strptime(x, '%Y-%m-%d')\n",
        ")"
      ]
    },
    {
      "cell_type": "code",
      "execution_count": null,
      "metadata": {
        "id": "WwcHfGWu8QMu",
        "outputId": "a91cd017-e7b7-4b91-dc0a-3ce730824d43"
      },
      "outputs": [
        {
          "data": {
            "text/plain": [
              "Timestamp('2019-08-01 00:00:00')"
            ]
          },
          "execution_count": 18,
          "metadata": {},
          "output_type": "execute_result"
        }
      ],
      "source": [
        "orders['date'].min()"
      ]
    },
    {
      "cell_type": "code",
      "execution_count": null,
      "metadata": {
        "id": "XGIfwdSB8QMv",
        "outputId": "b6a3cce5-f512-44c4-b0f4-b9e466579770"
      },
      "outputs": [
        {
          "data": {
            "text/plain": [
              "Timestamp('2019-08-31 00:00:00')"
            ]
          },
          "execution_count": 19,
          "metadata": {},
          "output_type": "execute_result"
        }
      ],
      "source": [
        "orders['date'].max()"
      ]
    },
    {
      "cell_type": "code",
      "execution_count": null,
      "metadata": {
        "id": "D9OlSd998QMw",
        "outputId": "b8513d1d-81c2-4a62-a233-012508b9f623"
      },
      "outputs": [
        {
          "data": {
            "text/plain": [
              "0"
            ]
          },
          "execution_count": 20,
          "metadata": {},
          "output_type": "execute_result"
        }
      ],
      "source": [
        "orders.duplicated().sum()"
      ]
    },
    {
      "cell_type": "code",
      "execution_count": null,
      "metadata": {
        "id": "DxYVNM6w8QMx",
        "outputId": "d6cf0685-ca09-49a3-d4a8-d9edf0095346"
      },
      "outputs": [
        {
          "data": {
            "text/plain": [
              "0"
            ]
          },
          "execution_count": 21,
          "metadata": {},
          "output_type": "execute_result"
        }
      ],
      "source": [
        "visitors.duplicated().sum()"
      ]
    },
    {
      "cell_type": "markdown",
      "metadata": {
        "id": "mYCxvE-u8QMy"
      },
      "source": [
        "Нам представлены данные с 1 по 31 августа 2019 года. Пропусков и дубликатов нет. Проверим, все ли пользователи в группах уникальны."
      ]
    },
    {
      "cell_type": "code",
      "execution_count": null,
      "metadata": {
        "id": "UvrJ-hEp8QMy",
        "outputId": "89fa78bb-272e-4111-cec3-6c04e299c7c6"
      },
      "outputs": [
        {
          "name": "stdout",
          "output_type": "stream",
          "text": [
            "Количество дублирующихся пользователей: 58\n"
          ]
        }
      ],
      "source": [
        "duplicated_users = orders.groupby(\"visitorId\").agg({'group' : ['unique', 'nunique']})\n",
        "duplicated_users.columns = ['group_name', 'group_number']\n",
        "print('Количество дублирующихся пользователей:', len(duplicated_users.query('group_number > 1')))"
      ]
    },
    {
      "cell_type": "code",
      "execution_count": null,
      "metadata": {
        "id": "12thJZPp8QMz",
        "outputId": "7e2cd581-2f09-4054-e6d8-f0d5418c85bd"
      },
      "outputs": [
        {
          "name": "stdout",
          "output_type": "stream",
          "text": [
            "557\n"
          ]
        }
      ],
      "source": [
        "print(len(orders[orders['group'] == 'A']))"
      ]
    },
    {
      "cell_type": "code",
      "execution_count": null,
      "metadata": {
        "id": "fW1_UQX18QMz",
        "outputId": "07f6e146-b512-4d69-fe4d-b09c4de022d5"
      },
      "outputs": [
        {
          "name": "stdout",
          "output_type": "stream",
          "text": [
            "640\n"
          ]
        }
      ],
      "source": [
        "print(len(orders[orders['group'] == 'B']))"
      ]
    },
    {
      "cell_type": "markdown",
      "metadata": {
        "id": "qf8vEMFQ8QM0"
      },
      "source": [
        "Ничего себе, группы разного размера, да еще и с повторяющимися пользователями! Доля дублирующихся пользователей довольно большая, около 10%, поэтому удалить их мы не можем, кроме того, эти же пользователи учтены в датафрейме с посещениями, и убрать их оттуда невозможно. Для реального исследования такие исходные данные были бы стоп-сигналом, но для учебного проекта будем довольствоваться тем, что есть. "
      ]
    },
    {
      "cell_type": "markdown",
      "metadata": {
        "id": "pttk0xmJ8QM1"
      },
      "source": [
        "### Анализ результатов A/B теста"
      ]
    },
    {
      "cell_type": "markdown",
      "metadata": {
        "id": "IiIE37J48QM1"
      },
      "source": [
        "#### Кумулятивная выручка по группам"
      ]
    },
    {
      "cell_type": "code",
      "execution_count": null,
      "metadata": {
        "id": "taTDHgS88QM2",
        "outputId": "722507fd-5bc7-4350-925f-fad03c135cbd"
      },
      "outputs": [
        {
          "name": "stdout",
          "output_type": "stream",
          "text": [
            "        date group  orders  buyers  revenue  visitors\n",
            "0 2019-08-01     A      24      20   148579       719\n",
            "1 2019-08-01     B      21      20   101217       713\n",
            "2 2019-08-02     A      44      38   242401      1338\n",
            "3 2019-08-02     B      45      43   266748      1294\n",
            "4 2019-08-03     A      68      62   354874      1845\n"
          ]
        }
      ],
      "source": [
        "# создаем массив уникальных пар значений дат и групп теста\n",
        "datesGroups = orders[['date','group']].drop_duplicates()\n",
        "\n",
        "# получаем агрегированные кумулятивные по дням данные о заказах \n",
        "ordersAggregated = datesGroups.apply(lambda x: orders[np.logical_and(orders['date'] <= x['date'], orders['group'] == x['group'])].agg({'date' : 'max', 'group' : 'max', 'transactionId' : 'nunique', 'visitorId' : 'nunique', 'revenue' : 'sum'}), axis=1).sort_values(by=['date','group'])\n",
        "\n",
        "# получаем агрегированные кумулятивные по дням данные о посетителях интернет-магазина \n",
        "visitorsAggregated = datesGroups.apply(lambda x: visitors[np.logical_and(visitors['date'] <= x['date'], visitors['group'] == x['group'])].agg({'date' : 'max', 'group' : 'max', 'visitors' : 'sum'}), axis=1).sort_values(by=['date','group'])\n",
        "\n",
        "# объединяем кумулятивные данные в одной таблице и присваиваем ее столбцам понятные названия\n",
        "cumulativeData = ordersAggregated.merge(visitorsAggregated, on=['date', 'group'])\n",
        "cumulativeData.columns = ['date', 'group', 'orders', 'buyers', 'revenue', 'visitors']\n",
        "\n",
        "print(cumulativeData.head(5))"
      ]
    },
    {
      "cell_type": "code",
      "execution_count": null,
      "metadata": {
        "id": "F0ATxX1D8QM2"
      },
      "outputs": [],
      "source": [
        "cumulativeRevenueA = cumulativeData[cumulativeData['group']=='A'][['date','revenue', 'orders']]\n",
        "cumulativeRevenueB = cumulativeData[cumulativeData['group']=='B'][['date','revenue', 'orders']]"
      ]
    },
    {
      "cell_type": "code",
      "execution_count": null,
      "metadata": {
        "id": "-ru_VrcZ8QM4",
        "outputId": "1ece1fbf-6e9e-477b-cb4d-650ec5a2b63f"
      },
      "outputs": [
        {
          "data": {
            "text/plain": [
              "Text(0, 0.5, 'Куммулятивная выручка')"
            ]
          },
          "execution_count": 55,
          "metadata": {},
          "output_type": "execute_result"
        },
        {
          "data": {
            "image/png": "[encoded data removed]",
            "text/plain": [
              "<Figure size 432x288 with 1 Axes>"
            ]
          },
          "metadata": {
            "needs_background": "light"
          },
          "output_type": "display_data"
        }
      ],
      "source": [
        "plt.plot(cumulativeRevenueA['date'], cumulativeRevenueA['revenue'], label='группа A')\n",
        "plt.plot(cumulativeRevenueB['date'], cumulativeRevenueB['revenue'], label='группа B')\n",
        "plt.title('График кумулятивной выручки по группам')\n",
        "plt.legend()\n",
        "plt.xticks(rotation=45)\n",
        "plt.grid(True)\n",
        "plt.xlabel('Период измерения')\n",
        "plt.ylabel('Куммулятивная выручка')"
      ]
    },
    {
      "cell_type": "markdown",
      "metadata": {
        "id": "9hC9mM1t8QM5"
      },
      "source": [
        "В начале измерений рейтинги идут параллельно, затем выше становится выручка группа B, примерно на трети исследования выручки совпадают, а затем снова заметно лидирует группа B."
      ]
    },
    {
      "cell_type": "markdown",
      "metadata": {
        "id": "7pMCRqRx8QM5"
      },
      "source": [
        "#### Кумулятивный средний чек по группам"
      ]
    },
    {
      "cell_type": "code",
      "execution_count": null,
      "metadata": {
        "id": "0BtWE-oX8QM5",
        "outputId": "8a0dbd8b-8d14-4459-b2d5-b09c5fe0170b"
      },
      "outputs": [
        {
          "data": {
            "text/plain": [
              "Text(0, 0.5, 'Куммулятивный средний чек')"
            ]
          },
          "execution_count": 56,
          "metadata": {},
          "output_type": "execute_result"
        },
        {
          "data": {
            "image/png": "[encoded data removed]",
            "text/plain": [
              "<Figure size 432x288 with 1 Axes>"
            ]
          },
          "metadata": {
            "needs_background": "light"
          },
          "output_type": "display_data"
        }
      ],
      "source": [
        "plt.plot(cumulativeRevenueA['date'], cumulativeRevenueA['revenue']/cumulativeRevenueA['orders'], label='A')\n",
        "plt.plot(cumulativeRevenueB['date'], cumulativeRevenueB['revenue']/cumulativeRevenueB['orders'], label='B')\n",
        "plt.legend()\n",
        "plt.title('График кумулятивного среднего чека по группам')\n",
        "plt.xticks(rotation=45)\n",
        "plt.grid(True)\n",
        "plt.xlabel('Период измерения')\n",
        "plt.ylabel('Куммулятивный средний чек')"
      ]
    },
    {
      "cell_type": "markdown",
      "metadata": {
        "id": "eP7h2yKj8QM6"
      },
      "source": [
        "По среднему чеку после середины исследования резко растут показатели по группе B, а показатели по группе A находятся примерно на одном уровне."
      ]
    },
    {
      "cell_type": "markdown",
      "metadata": {
        "id": "11J-8KkS8QM7"
      },
      "source": [
        "#### Относительное изменение кумулятивного среднего чека группы B к группе A"
      ]
    },
    {
      "cell_type": "code",
      "execution_count": null,
      "metadata": {
        "id": "KPpi8qIi8QM7",
        "outputId": "3604d61a-fe9b-4876-9967-86fc743d94f7"
      },
      "outputs": [
        {
          "data": {
            "text/plain": [
              "Text(0, 0.5, 'Относительное изменение')"
            ]
          },
          "execution_count": 57,
          "metadata": {},
          "output_type": "execute_result"
        },
        {
          "data": {
            "image/png": "[encoded data removed]",
            "text/plain": [
              "<Figure size 432x288 with 1 Axes>"
            ]
          },
          "metadata": {
            "needs_background": "light"
          },
          "output_type": "display_data"
        }
      ],
      "source": [
        "# собираем данные в одном датафрейме\n",
        "mergedCumulativeRevenue = cumulativeRevenueA.merge(cumulativeRevenueB, on='date', how='left', suffixes=['A', 'B'])\n",
        "\n",
        "# cтроим отношение средних чеков\n",
        "plt.plot(mergedCumulativeRevenue['date'], (mergedCumulativeRevenue['revenueB']/mergedCumulativeRevenue['ordersB'])/(mergedCumulativeRevenue['revenueA']/mergedCumulativeRevenue['ordersA'])-1)\n",
        "\n",
        "# добавляем ось X\n",
        "plt.axhline(y=0, color='black', linestyle='--')\n",
        "plt.title('График относительного изменения кумулятивного среднего чека группы B к группе A')\n",
        "plt.xticks(rotation=45)\n",
        "plt.grid(True)\n",
        "plt.xlabel('Период измерения')\n",
        "plt.ylabel('Относительное изменение')"
      ]
    },
    {
      "cell_type": "markdown",
      "metadata": {
        "id": "TZ2BTshQ8QM8"
      },
      "source": [
        "График показывает, что, несмотря на низкий старт и падение в середине периода измерения, показатели по группе B лучше показателей группы А, и к концу исследуемого периода практически на 30% превышают другую группу."
      ]
    },
    {
      "cell_type": "markdown",
      "metadata": {
        "id": "cobXyGp98QM8"
      },
      "source": [
        "#### Кумулятивная конверсия по группам"
      ]
    },
    {
      "cell_type": "code",
      "execution_count": null,
      "metadata": {
        "id": "YfpGqbiS8QM8"
      },
      "outputs": [],
      "source": [
        "cumulativeData['conversion'] = cumulativeData['orders'] / cumulativeData['visitors']\n",
        "cumulativeDataA = cumulativeData[cumulativeData['group'] == 'A']\n",
        "cumulativeDataB = cumulativeData[cumulativeData['group'] == 'B']"
      ]
    },
    {
      "cell_type": "code",
      "execution_count": null,
      "metadata": {
        "id": "3tN92UM68QM8",
        "outputId": "aac5ac31-7522-4539-b1b9-998effc51439"
      },
      "outputs": [
        {
          "data": {
            "text/plain": [
              "Text(0, 0.5, 'Куммулятивная конверсия')"
            ]
          },
          "execution_count": 58,
          "metadata": {},
          "output_type": "execute_result"
        },
        {
          "data": {
            "image/png": "[encoded data removed]",
            "text/plain": [
              "<Figure size 432x288 with 1 Axes>"
            ]
          },
          "metadata": {
            "needs_background": "light"
          },
          "output_type": "display_data"
        }
      ],
      "source": [
        "plt.plot(cumulativeDataA['date'], cumulativeDataA['conversion'], label = 'A')\n",
        "plt.plot(cumulativeDataB['date'], cumulativeDataB['conversion'], label='B')\n",
        "plt.legend()\n",
        "plt.title('График кумулятивной конверсии по группам')\n",
        "plt.xticks(rotation=45)\n",
        "plt.grid(True)\n",
        "plt.xlabel('Период измерения')\n",
        "plt.ylabel('Куммулятивная конверсия')"
      ]
    },
    {
      "cell_type": "markdown",
      "metadata": {
        "id": "qNBVIt7S8QM9"
      },
      "source": [
        "После начального периода с флуктуациями значений лидерство опять же за группой B, конверсия которой выше другой группы на протяжении почти 3/4 всего измерения."
      ]
    },
    {
      "cell_type": "markdown",
      "metadata": {
        "id": "E4qe6zuG8QM9"
      },
      "source": [
        "#### Относительное изменение кумулятивной конверсии группы B к группе A"
      ]
    },
    {
      "cell_type": "code",
      "execution_count": null,
      "metadata": {
        "id": "irzxVlT-8QM9",
        "outputId": "a9c4ce65-2ac0-4cb9-f7d1-e122f25050e2"
      },
      "outputs": [
        {
          "data": {
            "text/plain": [
              "Text(0, 0.5, 'Изменение конверсии')"
            ]
          },
          "execution_count": 59,
          "metadata": {},
          "output_type": "execute_result"
        },
        {
          "data": {
            "image/png": "[encoded data removed]",
            "text/plain": [
              "<Figure size 432x288 with 1 Axes>"
            ]
          },
          "metadata": {
            "needs_background": "light"
          },
          "output_type": "display_data"
        }
      ],
      "source": [
        "mergedCumulativeConversion = cumulativeDataA[['date', 'conversion']].merge(cumulativeDataB[['date', 'conversion']], on = 'date', suffixes=['A', 'B'])\n",
        "plt.plot(mergedCumulativeConversion['date'], mergedCumulativeConversion['conversionB'] / mergedCumulativeConversion['conversionA'] - 1, label = 'Относительный прирост конверсии группы B относительно группы A')\n",
        "plt.legend(loc='upper center', bbox_to_anchor=(0.5, 1.1),\n",
        "          ncol=3, fancybox=True)\n",
        "plt.axhline(y=0, color='black', linestyle='--')\n",
        "plt.axhline(y=-0.1, color='grey', linestyle='--')\n",
        "plt.xticks(rotation=45)\n",
        "plt.grid(True)\n",
        "plt.xlabel('Период измерения')\n",
        "plt.ylabel('Изменение конверсии')"
      ]
    },
    {
      "cell_type": "markdown",
      "metadata": {
        "id": "NdasyhyB8QM-"
      },
      "source": [
        "И опять же в начале месяца мы замечаем низкий старт группы B и колебания, но уже через неделю явным лидером определяется группа B."
      ]
    },
    {
      "cell_type": "markdown",
      "metadata": {
        "id": "zeQ9mgyW8QM_"
      },
      "source": [
        "#### График числа заказов по пользователям"
      ]
    },
    {
      "cell_type": "code",
      "execution_count": null,
      "metadata": {
        "id": "Ftbqmebc8QM_",
        "outputId": "8ebbbe0b-7cf1-4db6-b652-c12058f94985"
      },
      "outputs": [
        {
          "data": {
            "text/html": [
              "<div>\n",
              "<style scoped>\n",
              "    .dataframe tbody tr th:only-of-type {\n",
              "        vertical-align: middle;\n",
              "    }\n",
              "\n",
              "    .dataframe tbody tr th {\n",
              "        vertical-align: top;\n",
              "    }\n",
              "\n",
              "    .dataframe thead th {\n",
              "        text-align: right;\n",
              "    }\n",
              "</style>\n",
              "<table border=\"1\" class=\"dataframe\">\n",
              "  <thead>\n",
              "    <tr style=\"text-align: right;\">\n",
              "      <th></th>\n",
              "      <th>userId</th>\n",
              "      <th>orders</th>\n",
              "    </tr>\n",
              "  </thead>\n",
              "  <tbody>\n",
              "    <tr>\n",
              "      <th>1023</th>\n",
              "      <td>4256040402</td>\n",
              "      <td>11</td>\n",
              "    </tr>\n",
              "    <tr>\n",
              "      <th>591</th>\n",
              "      <td>2458001652</td>\n",
              "      <td>11</td>\n",
              "    </tr>\n",
              "    <tr>\n",
              "      <th>569</th>\n",
              "      <td>2378935119</td>\n",
              "      <td>9</td>\n",
              "    </tr>\n",
              "    <tr>\n",
              "      <th>487</th>\n",
              "      <td>2038680547</td>\n",
              "      <td>8</td>\n",
              "    </tr>\n",
              "    <tr>\n",
              "      <th>44</th>\n",
              "      <td>199603092</td>\n",
              "      <td>5</td>\n",
              "    </tr>\n",
              "    <tr>\n",
              "      <th>...</th>\n",
              "      <td>...</td>\n",
              "      <td>...</td>\n",
              "    </tr>\n",
              "    <tr>\n",
              "      <th>359</th>\n",
              "      <td>1484903144</td>\n",
              "      <td>1</td>\n",
              "    </tr>\n",
              "    <tr>\n",
              "      <th>360</th>\n",
              "      <td>1485964287</td>\n",
              "      <td>1</td>\n",
              "    </tr>\n",
              "    <tr>\n",
              "      <th>361</th>\n",
              "      <td>1494664757</td>\n",
              "      <td>1</td>\n",
              "    </tr>\n",
              "    <tr>\n",
              "      <th>362</th>\n",
              "      <td>1495112755</td>\n",
              "      <td>1</td>\n",
              "    </tr>\n",
              "    <tr>\n",
              "      <th>1030</th>\n",
              "      <td>4283872382</td>\n",
              "      <td>1</td>\n",
              "    </tr>\n",
              "  </tbody>\n",
              "</table>\n",
              "<p>1031 rows × 2 columns</p>\n",
              "</div>"
            ],
            "text/plain": [
              "          userId  orders\n",
              "1023  4256040402      11\n",
              "591   2458001652      11\n",
              "569   2378935119       9\n",
              "487   2038680547       8\n",
              "44     199603092       5\n",
              "...          ...     ...\n",
              "359   1484903144       1\n",
              "360   1485964287       1\n",
              "361   1494664757       1\n",
              "362   1495112755       1\n",
              "1030  4283872382       1\n",
              "\n",
              "[1031 rows x 2 columns]"
            ]
          },
          "metadata": {},
          "output_type": "display_data"
        }
      ],
      "source": [
        "ordersByUsers = (\n",
        "    orders.groupby('visitorId', as_index=False)\n",
        "    .agg({'transactionId': 'nunique'})\n",
        ")\n",
        "ordersByUsers.columns = ['userId', 'orders']\n",
        "display(ordersByUsers.sort_values('orders', ascending=False))"
      ]
    },
    {
      "cell_type": "code",
      "execution_count": null,
      "metadata": {
        "id": "1Z8RKigK8QNA",
        "outputId": "34a3ca89-d120-4685-9801-c9a87e19e0f9"
      },
      "outputs": [
        {
          "data": {
            "text/plain": [
              "Text(0, 0.5, 'Заказы')"
            ]
          },
          "execution_count": 34,
          "metadata": {},
          "output_type": "execute_result"
        },
        {
          "data": {
            "image/png": "[encoded data removed]",
            "text/plain": [
              "<Figure size 432x288 with 1 Axes>"
            ]
          },
          "metadata": {
            "needs_background": "light"
          },
          "output_type": "display_data"
        }
      ],
      "source": [
        "x_values = pd.Series(range(0, len(ordersByUsers)))\n",
        "plt.scatter(x_values, ordersByUsers['orders'])\n",
        "plt.xticks(rotation=45)\n",
        "plt.grid(True)\n",
        "plt.xlabel('Число')\n",
        "plt.ylabel('Заказы')"
      ]
    },
    {
      "cell_type": "markdown",
      "metadata": {
        "id": "HqVScyis8QNB"
      },
      "source": [
        "У большинства пользователей по 1 заказу, также много заказавших дважды, а пользователей с количеством заказов более 5 практиески нет."
      ]
    },
    {
      "cell_type": "markdown",
      "metadata": {
        "id": "ghgEtba28QNB"
      },
      "source": [
        "#### Определение перцентилей по числу заказов"
      ]
    },
    {
      "cell_type": "code",
      "execution_count": null,
      "metadata": {
        "id": "YE3dPnGC8QNC",
        "outputId": "beff4e7c-729c-4a45-9455-fc4195b9d767"
      },
      "outputs": [
        {
          "name": "stdout",
          "output_type": "stream",
          "text": [
            "[2. 4.]\n"
          ]
        }
      ],
      "source": [
        "print(np.percentile(ordersByUsers['orders'], [95, 99]))"
      ]
    },
    {
      "cell_type": "code",
      "execution_count": null,
      "metadata": {
        "id": "3BK-CXlf8QNC"
      },
      "outputs": [],
      "source": [
        "too_many_orders = 4"
      ]
    },
    {
      "cell_type": "markdown",
      "metadata": {
        "id": "gBU71flF8QNC"
      },
      "source": [
        "Только 1 процент пользователей заказывает больше 4 раз, а у 95% пользователей не больше 2 заказов. Поэтому будем считать аномалиями число заказов более 4. "
      ]
    },
    {
      "cell_type": "markdown",
      "metadata": {
        "id": "3j8riyC58QNE"
      },
      "source": [
        "#### График стоимости заказов"
      ]
    },
    {
      "cell_type": "code",
      "execution_count": null,
      "metadata": {
        "id": "2Mee_hX38QNE",
        "outputId": "85c7fa2f-7e27-4c77-879e-7c1408cc9bd3"
      },
      "outputs": [
        {
          "data": {
            "image/png": "[encoded data removed]",
            "text/plain": [
              "<Figure size 720x360 with 1 Axes>"
            ]
          },
          "metadata": {
            "needs_background": "light"
          },
          "output_type": "display_data"
        }
      ],
      "source": [
        "x_values = pd.Series(range(0,len(orders['revenue'])))\n",
        "plt.figure(figsize=(10,5))\n",
        "plt.scatter(x_values, orders['revenue'])\n",
        "plt.xticks(rotation=45)\n",
        "plt.grid(True)\n",
        "plt.xlabel('Число')\n",
        "plt.ylabel('Стоимость заказа')\n",
        "plt.show()"
      ]
    },
    {
      "cell_type": "code",
      "execution_count": null,
      "metadata": {
        "id": "mXWpMKMr8QNF",
        "outputId": "25f0bfdb-aa56-487b-f96a-b946279ba200"
      },
      "outputs": [
        {
          "data": {
            "text/plain": [
              "count       1_197.00\n",
              "mean        8_348.01\n",
              "std        39_191.13\n",
              "min            50.00\n",
              "25%         1_220.00\n",
              "50%         2_978.00\n",
              "75%         8_290.00\n",
              "max     1_294_500.00\n",
              "Name: revenue, dtype: float64"
            ]
          },
          "execution_count": 38,
          "metadata": {},
          "output_type": "execute_result"
        }
      ],
      "source": [
        "orders['revenue'].describe()"
      ]
    },
    {
      "cell_type": "markdown",
      "metadata": {
        "id": "S8KegyYh8QNG"
      },
      "source": [
        "Значений выше 20000 практически нет, большинство пользователей тратят на заказ не более 8000. Также нашелся аномально дорогой заказ на 1294500, сломавший нам всю статистику. "
      ]
    },
    {
      "cell_type": "markdown",
      "metadata": {
        "id": "cHNvCnjd8QNI"
      },
      "source": [
        "#### Определение перцентилей по стоимости заказов"
      ]
    },
    {
      "cell_type": "code",
      "execution_count": null,
      "metadata": {
        "id": "pk6A4_uh8QNJ",
        "outputId": "fbea5c5c-479f-48ee-a4ac-c3fc7e497fa9"
      },
      "outputs": [
        {
          "name": "stdout",
          "output_type": "stream",
          "text": [
            "[28000.  58233.2]\n"
          ]
        }
      ],
      "source": [
        "print(np.percentile(orders['revenue'], [95, 99]))"
      ]
    },
    {
      "cell_type": "markdown",
      "metadata": {
        "id": "5EZcWNdX8QNJ"
      },
      "source": [
        "95% пользователей потратили не более 28000 за заказ, и только 1% заказов дороже 58000. Сочтем за аномалии размер 99 перцентиля - 58233.2."
      ]
    },
    {
      "cell_type": "code",
      "execution_count": null,
      "metadata": {
        "id": "G90np-wp8QNK"
      },
      "outputs": [],
      "source": [
        "expensive_orders = 58233.2"
      ]
    },
    {
      "cell_type": "markdown",
      "metadata": {
        "id": "JgMqPnW_8QNS"
      },
      "source": [
        "#### Статистическая значимость различий в конверсии между группами по «сырым» данным"
      ]
    },
    {
      "cell_type": "code",
      "execution_count": null,
      "metadata": {
        "id": "iGsmC3v68QNU"
      },
      "outputs": [],
      "source": [
        "visitsA, visitsB = visitors.query('group == \"A\"'), visitors.query('group == \"B\"')"
      ]
    },
    {
      "cell_type": "code",
      "execution_count": null,
      "metadata": {
        "id": "AU1C3Ss-8QNU"
      },
      "outputs": [],
      "source": [
        "ordersA = orders.query('group == \"A\"').groupby('visitorId', as_index=False)\\\n",
        "                .agg({'transactionId' :'nunique', 'revenue':'sum'}).rename(columns = {'transactionId' : 'orders'})\n",
        "ordersB = orders.query('group == \"B\"').groupby('visitorId', as_index=False)\\\n",
        "                .agg({'transactionId' :'nunique', 'revenue':'sum'}).rename(columns = {'transactionId' : 'orders'})"
      ]
    },
    {
      "cell_type": "code",
      "execution_count": null,
      "metadata": {
        "id": "cvPeLZo58QNU"
      },
      "outputs": [],
      "source": [
        "\n",
        "sampleA = ordersA['orders'].append(pd.Series([0] * (visitsA['visitors'].sum() - ordersA.shape[0]), name = 'orders'))\n",
        "sampleB = ordersB['orders'].append(pd.Series([0] * (visitsB['visitors'].sum() - ordersB.shape[0]), name = 'orders'))"
      ]
    },
    {
      "cell_type": "code",
      "execution_count": null,
      "metadata": {
        "id": "3EAYPHrd8QNV",
        "outputId": "879188d6-be1c-4813-dc54-6d2f9607da9a"
      },
      "outputs": [
        {
          "name": "stdout",
          "output_type": "stream",
          "text": [
            "0.017\n",
            "0.138\n"
          ]
        }
      ],
      "source": [
        "print(\"{0:.3f}\".format(stats.mannwhitneyu(sampleA, sampleB)[1]))\n",
        "\n",
        "print(\"{0:.3f}\".format(sampleB.mean() / sampleA.mean() - 1))"
      ]
    },
    {
      "cell_type": "markdown",
      "metadata": {
        "id": "z2Qk4i1f8QNW"
      },
      "source": [
        "P-value меньше 0.05, значит, по «сырым» данным различия в конверсии групп A и B есть. Нулевую гипотезу о том, что статистически значимых различий в конверсии между группами нет, можно отвергнуть. \n",
        "Относительный выигрыш группы B - 13,8%."
      ]
    },
    {
      "cell_type": "markdown",
      "metadata": {
        "id": "h3lEhVIa8QNW"
      },
      "source": [
        "#### Статистическая значимость различий в среднем чеке заказа между группами по «сырым» данным"
      ]
    },
    {
      "cell_type": "code",
      "execution_count": null,
      "metadata": {
        "id": "6bhWr38v8QNW",
        "outputId": "ca271717-82a1-4643-96e8-703cd867996c"
      },
      "outputs": [
        {
          "name": "stdout",
          "output_type": "stream",
          "text": [
            "0.729\n",
            "0.259\n"
          ]
        }
      ],
      "source": [
        "print('{0:.3f}'.format(stats.mannwhitneyu(orders[orders['group']=='A']['revenue'], orders[orders['group']=='B']['revenue'])[1]))\n",
        "print('{0:.3f}'.format(orders[orders['group']=='B']['revenue'].mean()/orders[orders['group']=='A']['revenue'].mean()-1))"
      ]
    },
    {
      "cell_type": "markdown",
      "metadata": {
        "id": "2cZpvQXr8QNY"
      },
      "source": [
        "P-value значительно больше 0.05. Значит, причин отвергать нулевую гипотезу и считать, что в среднем чеке есть различия, нет. Однако средний чек группы B значительно больше среднего чека группы A."
      ]
    },
    {
      "cell_type": "markdown",
      "metadata": {
        "id": "BsNZKxnR8QNa"
      },
      "source": [
        "#### Статистическая значимость различий в конверсии между группами по отфильтрованным данным"
      ]
    },
    {
      "cell_type": "markdown",
      "metadata": {
        "id": "_01IJXsw8QNa"
      },
      "source": [
        "Сначала отчистим данные от аномалий, используя ограничения, выявленные в точечных графиках и перцентилях по стоимости и количеству заказов."
      ]
    },
    {
      "cell_type": "code",
      "execution_count": null,
      "metadata": {
        "id": "Wx18PpGP8QNb"
      },
      "outputs": [],
      "source": [
        "usersWithExpensiveOrders = orders[orders['revenue'] > expensive_orders]['visitorId']"
      ]
    },
    {
      "cell_type": "code",
      "execution_count": null,
      "metadata": {
        "id": "LfS6EwYc8QNb"
      },
      "outputs": [],
      "source": [
        "usersWithManyOrders = pd.concat(\n",
        "    [\n",
        "        ordersA[ordersA['orders'] >too_many_orders]['visitorId'],\n",
        "        ordersB[ordersB['orders'] >too_many_orders]['visitorId']\n",
        "\n",
        "    ],\n",
        "    axis=0\n",
        ")"
      ]
    },
    {
      "cell_type": "code",
      "execution_count": null,
      "metadata": {
        "id": "LEtgOwUR8QNb"
      },
      "outputs": [],
      "source": [
        "abnormalUsers = (\n",
        "    pd.concat([usersWithManyOrders, usersWithExpensiveOrders], axis = 0)\n",
        "    .drop_duplicates()\n",
        "    .sort_values()\n",
        "        \n",
        "    )"
      ]
    },
    {
      "cell_type": "code",
      "execution_count": null,
      "metadata": {
        "id": "nCnEa0la8QNc",
        "outputId": "f706d90a-c09c-430a-ba58-7b3c5aaa4f22"
      },
      "outputs": [
        {
          "name": "stdout",
          "output_type": "stream",
          "text": [
            "1099     148427295\n",
            "949      887908475\n",
            "744      888512513\n",
            "1103    1164614297\n",
            "1136    1307669133\n",
            "Name: visitorId, dtype: int64\n",
            "(15,)\n",
            "\n"
          ]
        }
      ],
      "source": [
        "print(abnormalUsers.head(5))\n",
        "print(abnormalUsers.shape)\n",
        "print()"
      ]
    },
    {
      "cell_type": "markdown",
      "metadata": {
        "id": "uPWHcsPU8QNc"
      },
      "source": [
        "Выявлено 53 аномальных пользователя, которых мы и уберем из данных для расчета."
      ]
    },
    {
      "cell_type": "code",
      "execution_count": null,
      "metadata": {
        "id": "xPcASmaY8QNd"
      },
      "outputs": [],
      "source": [
        "sampleAFiltered = ordersA[\n",
        "            np.logical_not(ordersA['visitorId'].isin(abnormalUsers))\n",
        "        ]['orders'].append(pd.Series([0] * (visitsA['visitors'].sum() - ordersA.shape[0]), name = 'orders'))\n"
      ]
    },
    {
      "cell_type": "code",
      "execution_count": null,
      "metadata": {
        "id": "-5JTgOIy8QNe",
        "outputId": "0bd78799-046b-461c-ad48-074aa88fa63c"
      },
      "outputs": [
        {
          "name": "stdout",
          "output_type": "stream",
          "text": [
            "      visitorId  orders  revenue\n",
            "0       8300375       1     1790\n",
            "1      11685486       1     6201\n",
            "2      54447517       1      130\n",
            "3      66685450       1     7990\n",
            "4      78758296       1     1044\n",
            "..          ...     ...      ...\n",
            "498  4243832526       1     8290\n",
            "499  4256040402       7    48800\n",
            "500  4259830713       1     3190\n",
            "501  4266935830       1    78990\n",
            "502  4278982564       1    24744\n",
            "\n",
            "[503 rows x 3 columns]\n"
          ]
        }
      ],
      "source": [
        "print(ordersA)"
      ]
    },
    {
      "cell_type": "code",
      "execution_count": null,
      "metadata": {
        "id": "Wn_9KukF8QNe"
      },
      "outputs": [],
      "source": [
        "sampleBFiltered = ordersB[\n",
        "            np.logical_not(ordersB['visitorId'].isin(abnormalUsers))\n",
        "        ]['orders'].append(pd.Series([0] * (visitsB['visitors'].sum() - ordersB.shape[0]), name = 'orders'))\n"
      ]
    },
    {
      "cell_type": "code",
      "execution_count": null,
      "metadata": {
        "id": "Q0-kghpP8QNe",
        "outputId": "a4a2935f-8777-42d5-cacb-5c8586ce458c"
      },
      "outputs": [
        {
          "name": "stdout",
          "output_type": "stream",
          "text": [
            "0.014\n",
            "0.153\n"
          ]
        }
      ],
      "source": [
        "print('{0:.3f}'.format(stats.mannwhitneyu(sampleAFiltered, sampleBFiltered)[1]))\n",
        "print('{0:.3f}'.format(sampleBFiltered.mean()/sampleAFiltered.mean()-1))"
      ]
    },
    {
      "cell_type": "markdown",
      "metadata": {
        "id": "zFTY7ImG8QNf"
      },
      "source": [
        "P-value меньше 0.05.\n",
        "Значит, можно отвергать нулевую гипотезу и считать, что в конверсии есть различия.\n",
        "Конверсия группы B выше конверсии группы A."
      ]
    },
    {
      "cell_type": "markdown",
      "metadata": {
        "id": "0Kq5st7b8QNf"
      },
      "source": [
        "#### Статистическая значимость различий в среднем чеке заказа между группами по отфильтрованным данным"
      ]
    },
    {
      "cell_type": "code",
      "execution_count": null,
      "metadata": {
        "id": "MDyHAh8v8QNf",
        "outputId": "e631f1d1-04c7-4090-8f7d-17c3e3339a4a"
      },
      "outputs": [
        {
          "name": "stdout",
          "output_type": "stream",
          "text": [
            "0.997\n",
            "-0.011\n"
          ]
        }
      ],
      "source": [
        "print(\n",
        "    '{0:.3f}'.format(\n",
        "        stats.mannwhitneyu(\n",
        "            ordersA[\n",
        "            np.logical_not(ordersA['visitorId'].isin(abnormalUsers))\n",
        "        ]['revenue'],\n",
        "            ordersB[\n",
        "            np.logical_not(ordersB['visitorId'].isin(abnormalUsers))\n",
        "        ]['revenue'],\n",
        "        )[1]\n",
        "    )\n",
        ")\n",
        "\n",
        "print(\n",
        "    \"{0:.3f}\".format(\n",
        "        ordersB[\n",
        "            np.logical_not(ordersB['visitorId'].isin(abnormalUsers))\n",
        "        ]['revenue'].mean()\n",
        "        / ordersA[\n",
        "            np.logical_not(ordersA['visitorId'].isin(abnormalUsers))\n",
        "        ]['revenue'].mean()\n",
        "        - 1\n",
        "    )\n",
        ")"
      ]
    },
    {
      "cell_type": "markdown",
      "metadata": {
        "id": "CjazvKk98QNg"
      },
      "source": [
        "P-value значительно больше 0.05.\n",
        "Значит, нет причин отвергать нулевую гипотезу и считать, что в среднем чеке есть различия.\n",
        "Однако, средний чек группы B чуть выше среднего чека группы A."
      ]
    },
    {
      "cell_type": "markdown",
      "metadata": {
        "id": "lv7UNYLn8QNg"
      },
      "source": [
        "По сырым данным мы видим, что выражены отличия в конверсии, она выше в группе B. Отличий по среднему чеку не выявлено, хотя средний чек в группе В несколько выше, чем в другой группе. После удаления выбросов ситуация остается такой же, разница только становится еще более явной - конверсия еще выше и различия заметны, а средний чек выше, хотя в выборках и не обнаружены отличия. "
      ]
    },
    {
      "cell_type": "markdown",
      "metadata": {
        "id": "6EBJgZql8QNh"
      },
      "source": [
        "## Вывод"
      ]
    },
    {
      "cell_type": "markdown",
      "metadata": {
        "id": "pWRBJRj48QNi"
      },
      "source": [
        "Для анализа нам были предоставлены 3 набора данных - список гипотез с оценками для расчета приоритета, а также данных по двум группам пользователей и их заказам за август 2019 года для оценки результатов A/B теста."
      ]
    },
    {
      "cell_type": "markdown",
      "metadata": {
        "id": "3-jvxSIm8QNj"
      },
      "source": [
        "При предобработке данных обнаружилось, что пропусков и явных дубликатов нет, пришлось только заменить тип данных для дат для удобства расчетов. Мы приготовили данные по гипотезам к анализу. \n",
        "Что касается данных по проведению A/B тестов, в них выявлены серьезные недостатки - размеры групп А и В заметно отличаются (почти на 10%), и примерно столько же пользователей оказались одновременно в двух группах. Для настоящего анализа такие данные были бы непригодными, но для учебного проекта я решила оставить данных пользователей, их удаление сильно изменило бы результаты."
      ]
    },
    {
      "cell_type": "markdown",
      "metadata": {
        "id": "r1Kan3fM8QNj"
      },
      "source": [
        "### Часть 1"
      ]
    },
    {
      "cell_type": "markdown",
      "metadata": {
        "id": "pyqe8q5x8QNk"
      },
      "source": [
        "При расчете приоритета гипотез использовались фреймворки ICE и RICE, по результатам которых лидеры отличались. При расчете без учета параметра Reach (охват) наиболее приоритетными оказались гипотезы №8, №0 и №7. Но если добавить в расчет параметр охвата, в приоритете стали гипотезы №7, №2 и №0. Лидер предыдущего расчета гипотеза №8 обладает слишком низкой оценкой охвата, значит, ее приоритетное использование не рекомендуется, ведь при ее применении результат вряд ли  окажется значимым. Скорее, логичнее будет сначала провести проверку гипотез №7 и №0, которые получили неплохие оценки по всем критериям сразу."
      ]
    },
    {
      "cell_type": "markdown",
      "metadata": {
        "id": "jieNSVTd8QNk"
      },
      "source": [
        "### Часть 2"
      ]
    },
    {
      "cell_type": "markdown",
      "metadata": {
        "id": "74LswNUq8QNk"
      },
      "source": [
        "Практически по всем построенным графикам - кумулятивной выручки, кумулятивного среднего чека, кумулятивной конверсии - выходит вперед группа В. При этом заметны явные скачки в позициях, что означает наличие выбросов, влияющих на средние показатели.\n",
        "\n",
        "При расчете статистической значимости различий в конверсии по сырым данным заметна разница в пользу показателей группы В. Что касается статистической значимости по среднему чеку, то мы не можем подтвердить различия, хотя средний чек группы В несколько больше, чем у группы А.\n",
        "\n",
        "Я рассчитала сумму и стоимость заказов на пользователя, на основании которых удалила явные выбросы. \n",
        "После очистки данных результаты проверки статистической значимости различий конверсии и среднего чека схожи - в конверсии между группами есть различия, выше она в группе В, а в среднем чеке различия не выявлены, хотя опять же в группе В его величина чуть выше.\n",
        "\n",
        "Если игнорировать огрехи предоставленных данных и представить, что результаты основаны на достоверных и правильно собранных материалах, то заметно некоторое преимущество группы В. Оно явно в категории конверсии, и если главной целью является именно повышение конверсии, то тест можно считать завершенным и признать победителем группу В. Если же основной целью являлось повышение суммы среднего чека, то лучше продолжить тестирование и получить больше данных.\n",
        "В идеале же тест лучше начать снова, а для начала провести A/A тестирование, чтобы удостовериться в качестве собираемых данных."
      ]
    }
  ],
  "metadata": {
    "ExecuteTimeLog": [
      {
        "duration": 74,
        "start_time": "2022-03-29T18:24:47.858Z"
      },
      {
        "duration": 1011,
        "start_time": "2022-03-29T18:24:49.798Z"
      },
      {
        "duration": 31,
        "start_time": "2022-03-29T18:24:51.293Z"
      },
      {
        "duration": 23,
        "start_time": "2022-03-29T18:24:53.360Z"
      },
      {
        "duration": 79,
        "start_time": "2022-03-29T18:31:59.197Z"
      },
      {
        "duration": 20,
        "start_time": "2022-03-29T18:32:18.630Z"
      },
      {
        "duration": 12,
        "start_time": "2022-03-29T18:32:35.432Z"
      },
      {
        "duration": 4177,
        "start_time": "2022-03-29T18:33:13.379Z"
      },
      {
        "duration": 13,
        "start_time": "2022-03-29T18:33:23.878Z"
      },
      {
        "duration": 65,
        "start_time": "2022-03-29T18:34:35.666Z"
      },
      {
        "duration": 11,
        "start_time": "2022-03-29T18:34:58.168Z"
      },
      {
        "duration": 12,
        "start_time": "2022-03-29T18:34:59.742Z"
      },
      {
        "duration": 18,
        "start_time": "2022-03-29T18:37:44.452Z"
      },
      {
        "duration": 6,
        "start_time": "2022-03-29T18:37:46.435Z"
      },
      {
        "duration": 7,
        "start_time": "2022-03-29T18:40:16.259Z"
      },
      {
        "duration": 7,
        "start_time": "2022-03-29T18:40:17.217Z"
      },
      {
        "duration": 7,
        "start_time": "2022-03-29T18:44:36.740Z"
      },
      {
        "duration": 80,
        "start_time": "2022-03-29T18:44:37.775Z"
      },
      {
        "duration": 6,
        "start_time": "2022-03-29T18:44:38.693Z"
      },
      {
        "duration": 29,
        "start_time": "2022-03-29T18:44:39.398Z"
      },
      {
        "duration": 6,
        "start_time": "2022-03-29T18:45:14.578Z"
      },
      {
        "duration": 29,
        "start_time": "2022-03-29T18:45:16.341Z"
      },
      {
        "duration": 81,
        "start_time": "2022-03-29T18:45:31.487Z"
      },
      {
        "duration": 21,
        "start_time": "2022-03-29T18:50:33.019Z"
      },
      {
        "duration": 20,
        "start_time": "2022-03-29T18:52:20.518Z"
      },
      {
        "duration": 69,
        "start_time": "2022-03-29T18:52:40.772Z"
      },
      {
        "duration": 7,
        "start_time": "2022-03-29T18:52:41.695Z"
      },
      {
        "duration": 73,
        "start_time": "2022-03-29T18:52:42.504Z"
      },
      {
        "duration": 19,
        "start_time": "2022-03-29T18:52:43.164Z"
      },
      {
        "duration": 11,
        "start_time": "2022-03-29T18:53:21.556Z"
      },
      {
        "duration": 7,
        "start_time": "2022-03-29T18:53:55.249Z"
      },
      {
        "duration": 33,
        "start_time": "2022-03-29T18:54:19.559Z"
      },
      {
        "duration": 123,
        "start_time": "2022-03-29T18:54:32.203Z"
      },
      {
        "duration": 123,
        "start_time": "2022-03-29T18:55:11.903Z"
      },
      {
        "duration": 40,
        "start_time": "2022-03-29T18:55:58.735Z"
      },
      {
        "duration": 256,
        "start_time": "2022-03-29T18:57:35.487Z"
      },
      {
        "duration": 9,
        "start_time": "2022-03-29T18:58:02.552Z"
      },
      {
        "duration": 30,
        "start_time": "2022-03-29T18:58:51.931Z"
      },
      {
        "duration": 53,
        "start_time": "2022-03-29T19:01:03.162Z"
      },
      {
        "duration": 592,
        "start_time": "2022-03-29T19:02:21.256Z"
      },
      {
        "duration": 13,
        "start_time": "2022-03-29T19:02:51.410Z"
      },
      {
        "duration": 686,
        "start_time": "2022-03-29T19:03:00.517Z"
      },
      {
        "duration": 24,
        "start_time": "2022-03-29T19:03:06.714Z"
      },
      {
        "duration": 11,
        "start_time": "2022-03-29T19:05:00.632Z"
      },
      {
        "duration": 372,
        "start_time": "2022-03-29T19:05:01.564Z"
      },
      {
        "duration": 268,
        "start_time": "2022-03-29T19:05:12.551Z"
      },
      {
        "duration": 269,
        "start_time": "2022-03-29T19:07:56.140Z"
      },
      {
        "duration": 255,
        "start_time": "2022-03-29T19:07:59.372Z"
      },
      {
        "duration": 272,
        "start_time": "2022-03-29T19:08:09.824Z"
      },
      {
        "duration": 264,
        "start_time": "2022-03-29T19:08:51.339Z"
      },
      {
        "duration": 265,
        "start_time": "2022-03-29T19:09:20.341Z"
      },
      {
        "duration": 397,
        "start_time": "2022-03-29T19:09:45.548Z"
      },
      {
        "duration": 459,
        "start_time": "2022-03-29T19:10:15.119Z"
      },
      {
        "duration": 6,
        "start_time": "2022-03-29T19:11:32.609Z"
      },
      {
        "duration": 6,
        "start_time": "2022-03-29T19:12:00.533Z"
      },
      {
        "duration": 7,
        "start_time": "2022-03-29T19:12:20.958Z"
      },
      {
        "duration": 3301,
        "start_time": "2022-03-29T19:13:02.938Z"
      },
      {
        "duration": 238,
        "start_time": "2022-03-29T19:13:10.008Z"
      },
      {
        "duration": 256,
        "start_time": "2022-03-29T19:13:35.824Z"
      },
      {
        "duration": 269,
        "start_time": "2022-03-29T19:13:44.003Z"
      },
      {
        "duration": 281,
        "start_time": "2022-03-29T19:14:02.810Z"
      },
      {
        "duration": 10,
        "start_time": "2022-03-29T19:15:44.731Z"
      },
      {
        "duration": 12,
        "start_time": "2022-03-29T19:16:01.749Z"
      },
      {
        "duration": 255,
        "start_time": "2022-03-29T19:17:12.224Z"
      },
      {
        "duration": 252,
        "start_time": "2022-03-29T19:17:25.218Z"
      },
      {
        "duration": 233,
        "start_time": "2022-03-29T19:17:40.175Z"
      },
      {
        "duration": 306,
        "start_time": "2022-03-29T19:17:48.040Z"
      },
      {
        "duration": 6,
        "start_time": "2022-03-29T19:18:20.567Z"
      },
      {
        "duration": 6,
        "start_time": "2022-03-29T19:18:29.512Z"
      },
      {
        "duration": 541,
        "start_time": "2022-03-29T19:18:51.802Z"
      },
      {
        "duration": 429,
        "start_time": "2022-03-29T19:19:06.083Z"
      },
      {
        "duration": 18,
        "start_time": "2022-03-29T19:21:06.340Z"
      },
      {
        "duration": 16,
        "start_time": "2022-03-29T19:21:18.180Z"
      },
      {
        "duration": 10,
        "start_time": "2022-03-29T19:21:46.816Z"
      },
      {
        "duration": 9,
        "start_time": "2022-03-29T19:22:08.357Z"
      },
      {
        "duration": 171,
        "start_time": "2022-03-29T19:22:59.093Z"
      },
      {
        "duration": 6,
        "start_time": "2022-03-29T19:24:04.394Z"
      },
      {
        "duration": 6,
        "start_time": "2022-03-29T19:24:16.862Z"
      },
      {
        "duration": 4,
        "start_time": "2022-03-29T19:25:28.049Z"
      },
      {
        "duration": 191,
        "start_time": "2022-03-29T19:25:44.402Z"
      },
      {
        "duration": 6,
        "start_time": "2022-03-29T19:26:15.033Z"
      },
      {
        "duration": 3408,
        "start_time": "2022-03-29T19:27:04.892Z"
      },
      {
        "duration": 289,
        "start_time": "2022-03-29T19:27:16.137Z"
      },
      {
        "duration": 14,
        "start_time": "2022-03-29T19:29:54.554Z"
      },
      {
        "duration": 12,
        "start_time": "2022-03-30T13:07:19.635Z"
      },
      {
        "duration": 64,
        "start_time": "2022-03-30T13:07:21.473Z"
      },
      {
        "duration": 1660,
        "start_time": "2022-03-30T13:15:05.151Z"
      },
      {
        "duration": 4,
        "start_time": "2022-03-30T13:15:06.814Z"
      },
      {
        "duration": 104,
        "start_time": "2022-03-30T13:15:06.820Z"
      },
      {
        "duration": 17,
        "start_time": "2022-03-30T13:15:06.927Z"
      },
      {
        "duration": 16,
        "start_time": "2022-03-30T13:15:06.946Z"
      },
      {
        "duration": 11,
        "start_time": "2022-03-30T13:15:06.965Z"
      },
      {
        "duration": 56,
        "start_time": "2022-03-30T13:15:06.978Z"
      },
      {
        "duration": 20,
        "start_time": "2022-03-30T13:15:07.036Z"
      },
      {
        "duration": 8,
        "start_time": "2022-03-30T13:15:07.059Z"
      },
      {
        "duration": 14,
        "start_time": "2022-03-30T13:15:07.072Z"
      },
      {
        "duration": 6,
        "start_time": "2022-03-30T13:15:07.088Z"
      },
      {
        "duration": 46,
        "start_time": "2022-03-30T13:15:07.097Z"
      },
      {
        "duration": 12,
        "start_time": "2022-03-30T13:15:07.146Z"
      },
      {
        "duration": 693,
        "start_time": "2022-03-30T13:15:07.161Z"
      },
      {
        "duration": 12,
        "start_time": "2022-03-30T13:15:07.856Z"
      },
      {
        "duration": 600,
        "start_time": "2022-03-30T13:15:07.871Z"
      },
      {
        "duration": 334,
        "start_time": "2022-03-30T13:15:08.474Z"
      },
      {
        "duration": 507,
        "start_time": "2022-03-30T13:15:08.811Z"
      },
      {
        "duration": 8,
        "start_time": "2022-03-30T13:15:09.320Z"
      },
      {
        "duration": 324,
        "start_time": "2022-03-30T13:15:09.330Z"
      },
      {
        "duration": 412,
        "start_time": "2022-03-30T13:15:09.657Z"
      },
      {
        "duration": 10,
        "start_time": "2022-03-30T13:15:10.071Z"
      },
      {
        "duration": 189,
        "start_time": "2022-03-30T13:15:10.083Z"
      },
      {
        "duration": 5,
        "start_time": "2022-03-30T13:15:10.274Z"
      },
      {
        "duration": 231,
        "start_time": "2022-03-30T13:15:10.281Z"
      },
      {
        "duration": 6,
        "start_time": "2022-03-30T13:15:10.514Z"
      },
      {
        "duration": 21,
        "start_time": "2022-03-30T13:15:10.522Z"
      },
      {
        "duration": 75,
        "start_time": "2022-03-30T13:15:10.548Z"
      },
      {
        "duration": 23,
        "start_time": "2022-03-30T13:15:10.625Z"
      },
      {
        "duration": 72,
        "start_time": "2022-03-30T13:15:10.651Z"
      },
      {
        "duration": 30,
        "start_time": "2022-03-30T13:15:10.725Z"
      },
      {
        "duration": 150,
        "start_time": "2022-03-30T13:15:10.757Z"
      },
      {
        "duration": 156,
        "start_time": "2022-03-30T13:15:10.910Z"
      },
      {
        "duration": 39,
        "start_time": "2022-03-30T13:15:11.069Z"
      },
      {
        "duration": 335,
        "start_time": "2022-03-30T13:15:11.111Z"
      },
      {
        "duration": 10,
        "start_time": "2022-03-30T13:15:11.448Z"
      },
      {
        "duration": 34,
        "start_time": "2022-03-30T13:15:11.461Z"
      },
      {
        "duration": 46,
        "start_time": "2022-03-30T13:15:11.498Z"
      },
      {
        "duration": 194,
        "start_time": "2022-03-30T13:15:11.546Z"
      },
      {
        "duration": 18,
        "start_time": "2022-03-30T13:16:30.899Z"
      },
      {
        "duration": 21,
        "start_time": "2022-03-30T13:16:52.763Z"
      },
      {
        "duration": 15,
        "start_time": "2022-03-30T13:21:07.845Z"
      },
      {
        "duration": 6,
        "start_time": "2022-03-30T13:21:31.986Z"
      },
      {
        "duration": 7,
        "start_time": "2022-03-30T13:25:27.660Z"
      },
      {
        "duration": 8,
        "start_time": "2022-03-30T13:27:51.269Z"
      },
      {
        "duration": 3869,
        "start_time": "2022-03-30T13:28:00.533Z"
      },
      {
        "duration": 10,
        "start_time": "2022-03-30T13:29:57.299Z"
      },
      {
        "duration": 15,
        "start_time": "2022-03-30T13:30:05.268Z"
      },
      {
        "duration": 4176,
        "start_time": "2022-03-30T13:30:16.780Z"
      },
      {
        "duration": 3622,
        "start_time": "2022-03-30T13:30:24.181Z"
      },
      {
        "duration": 25,
        "start_time": "2022-03-30T13:30:41.513Z"
      },
      {
        "duration": 3409,
        "start_time": "2022-03-30T13:34:13.427Z"
      },
      {
        "duration": 3974,
        "start_time": "2022-03-30T13:34:23.981Z"
      },
      {
        "duration": 3586,
        "start_time": "2022-03-30T13:34:45.531Z"
      },
      {
        "duration": 7,
        "start_time": "2022-03-30T13:35:03.213Z"
      },
      {
        "duration": 12110,
        "start_time": "2022-03-30T13:35:10.836Z"
      },
      {
        "duration": 17,
        "start_time": "2022-03-30T13:35:52.269Z"
      },
      {
        "duration": 259,
        "start_time": "2022-03-30T13:36:09.911Z"
      },
      {
        "duration": 12,
        "start_time": "2022-03-30T13:36:16.427Z"
      },
      {
        "duration": 14,
        "start_time": "2022-03-30T13:36:25.836Z"
      },
      {
        "duration": 8,
        "start_time": "2022-03-30T13:36:35.160Z"
      },
      {
        "duration": 12,
        "start_time": "2022-03-30T13:37:53.717Z"
      },
      {
        "duration": 6,
        "start_time": "2022-03-30T13:38:13.658Z"
      },
      {
        "duration": 7,
        "start_time": "2022-03-30T13:38:26.881Z"
      },
      {
        "duration": 9,
        "start_time": "2022-03-30T13:38:58.659Z"
      },
      {
        "duration": 6,
        "start_time": "2022-03-30T13:39:00.798Z"
      },
      {
        "duration": 3282,
        "start_time": "2022-03-30T13:42:31.135Z"
      },
      {
        "duration": 8,
        "start_time": "2022-03-30T13:42:39.096Z"
      },
      {
        "duration": 51,
        "start_time": "2022-03-30T13:58:36.522Z"
      },
      {
        "duration": 1172,
        "start_time": "2022-03-30T13:58:43.371Z"
      },
      {
        "duration": 4,
        "start_time": "2022-03-30T13:58:44.545Z"
      },
      {
        "duration": 89,
        "start_time": "2022-03-30T13:58:44.550Z"
      },
      {
        "duration": 14,
        "start_time": "2022-03-30T13:58:44.641Z"
      },
      {
        "duration": 11,
        "start_time": "2022-03-30T13:58:44.656Z"
      },
      {
        "duration": 10,
        "start_time": "2022-03-30T13:58:44.668Z"
      },
      {
        "duration": 32,
        "start_time": "2022-03-30T13:58:44.679Z"
      },
      {
        "duration": 12,
        "start_time": "2022-03-30T13:58:44.718Z"
      },
      {
        "duration": 21,
        "start_time": "2022-03-30T13:58:44.732Z"
      },
      {
        "duration": 12,
        "start_time": "2022-03-30T13:58:44.756Z"
      },
      {
        "duration": 6,
        "start_time": "2022-03-30T13:58:44.770Z"
      },
      {
        "duration": 6,
        "start_time": "2022-03-30T13:58:44.778Z"
      },
      {
        "duration": 11,
        "start_time": "2022-03-30T13:58:44.785Z"
      },
      {
        "duration": 299,
        "start_time": "2022-03-30T13:58:44.798Z"
      },
      {
        "duration": 6,
        "start_time": "2022-03-30T13:58:45.099Z"
      },
      {
        "duration": 282,
        "start_time": "2022-03-30T13:58:45.106Z"
      },
      {
        "duration": 216,
        "start_time": "2022-03-30T13:58:45.390Z"
      },
      {
        "duration": 358,
        "start_time": "2022-03-30T13:58:45.609Z"
      },
      {
        "duration": 6,
        "start_time": "2022-03-30T13:58:45.969Z"
      },
      {
        "duration": 212,
        "start_time": "2022-03-30T13:58:45.977Z"
      },
      {
        "duration": 304,
        "start_time": "2022-03-30T13:58:46.190Z"
      },
      {
        "duration": 17,
        "start_time": "2022-03-30T13:58:46.497Z"
      },
      {
        "duration": 148,
        "start_time": "2022-03-30T13:58:46.515Z"
      },
      {
        "duration": 5,
        "start_time": "2022-03-30T13:58:46.664Z"
      },
      {
        "duration": 167,
        "start_time": "2022-03-30T13:58:46.671Z"
      },
      {
        "duration": 9,
        "start_time": "2022-03-30T13:58:46.839Z"
      },
      {
        "duration": 6,
        "start_time": "2022-03-30T13:58:46.849Z"
      },
      {
        "duration": 5,
        "start_time": "2022-03-30T13:58:46.859Z"
      },
      {
        "duration": 73,
        "start_time": "2022-03-30T13:58:46.865Z"
      },
      {
        "duration": 8,
        "start_time": "2022-03-30T13:58:46.940Z"
      },
      {
        "duration": 46,
        "start_time": "2022-03-30T13:58:46.950Z"
      },
      {
        "duration": 18,
        "start_time": "2022-03-30T13:58:46.999Z"
      },
      {
        "duration": 79,
        "start_time": "2022-03-30T13:58:47.019Z"
      },
      {
        "duration": 72,
        "start_time": "2022-03-30T13:58:47.101Z"
      },
      {
        "duration": 24,
        "start_time": "2022-03-30T13:58:47.175Z"
      },
      {
        "duration": 149,
        "start_time": "2022-03-30T13:58:47.201Z"
      },
      {
        "duration": 7,
        "start_time": "2022-03-30T13:58:47.352Z"
      },
      {
        "duration": 28,
        "start_time": "2022-03-30T13:58:47.361Z"
      },
      {
        "duration": 11,
        "start_time": "2022-03-30T13:58:47.391Z"
      },
      {
        "duration": 36,
        "start_time": "2022-03-30T13:58:47.404Z"
      },
      {
        "duration": 4,
        "start_time": "2022-03-30T13:58:47.442Z"
      },
      {
        "duration": 9,
        "start_time": "2022-03-30T13:58:47.447Z"
      },
      {
        "duration": 8,
        "start_time": "2022-03-30T13:58:47.458Z"
      },
      {
        "duration": 7,
        "start_time": "2022-03-30T13:58:47.469Z"
      },
      {
        "duration": 6,
        "start_time": "2022-03-30T13:58:47.479Z"
      },
      {
        "duration": 38,
        "start_time": "2022-03-30T13:59:13.659Z"
      },
      {
        "duration": 15,
        "start_time": "2022-03-30T13:59:36.792Z"
      },
      {
        "duration": 210,
        "start_time": "2022-03-30T17:44:20.697Z"
      },
      {
        "duration": 195,
        "start_time": "2022-03-30T17:44:43.356Z"
      },
      {
        "duration": 242,
        "start_time": "2022-03-30T17:50:09.018Z"
      },
      {
        "duration": 195,
        "start_time": "2022-03-30T17:52:26.133Z"
      },
      {
        "duration": 197,
        "start_time": "2022-03-30T17:53:49.673Z"
      },
      {
        "duration": 209,
        "start_time": "2022-03-30T17:55:20.152Z"
      },
      {
        "duration": 195,
        "start_time": "2022-03-30T17:55:58.292Z"
      },
      {
        "duration": 2,
        "start_time": "2022-03-30T18:06:00.824Z"
      },
      {
        "duration": 2,
        "start_time": "2022-03-30T18:16:24.384Z"
      },
      {
        "duration": 41,
        "start_time": "2022-03-30T18:16:25.345Z"
      },
      {
        "duration": 1214,
        "start_time": "2022-03-30T18:16:27.422Z"
      },
      {
        "duration": 72,
        "start_time": "2022-03-30T18:16:29.785Z"
      },
      {
        "duration": 12,
        "start_time": "2022-03-30T18:16:36.821Z"
      },
      {
        "duration": 10,
        "start_time": "2022-03-30T18:16:46.760Z"
      },
      {
        "duration": 5,
        "start_time": "2022-03-30T18:23:21.320Z"
      },
      {
        "duration": 11,
        "start_time": "2022-03-30T18:25:29.177Z"
      },
      {
        "duration": 1566,
        "start_time": "2022-03-30T18:53:25.629Z"
      },
      {
        "duration": 3,
        "start_time": "2022-03-30T18:53:27.197Z"
      },
      {
        "duration": 99,
        "start_time": "2022-03-30T18:53:27.202Z"
      },
      {
        "duration": 11,
        "start_time": "2022-03-30T18:53:27.304Z"
      },
      {
        "duration": 10,
        "start_time": "2022-03-30T18:53:27.317Z"
      },
      {
        "duration": 10,
        "start_time": "2022-03-30T18:53:27.328Z"
      },
      {
        "duration": 24,
        "start_time": "2022-03-30T18:53:27.339Z"
      },
      {
        "duration": 26,
        "start_time": "2022-03-30T18:53:27.364Z"
      },
      {
        "duration": 10,
        "start_time": "2022-03-30T18:53:44.627Z"
      },
      {
        "duration": 10,
        "start_time": "2022-03-30T18:54:47.147Z"
      },
      {
        "duration": 3,
        "start_time": "2022-03-30T19:02:30.976Z"
      },
      {
        "duration": 10,
        "start_time": "2022-03-30T19:02:30.984Z"
      },
      {
        "duration": 28,
        "start_time": "2022-03-30T19:02:30.996Z"
      },
      {
        "duration": 13,
        "start_time": "2022-03-30T19:02:31.026Z"
      },
      {
        "duration": 17,
        "start_time": "2022-03-30T19:02:31.041Z"
      },
      {
        "duration": 21,
        "start_time": "2022-03-30T19:02:31.060Z"
      },
      {
        "duration": 38,
        "start_time": "2022-03-30T19:02:31.082Z"
      },
      {
        "duration": 40,
        "start_time": "2022-03-30T19:02:31.122Z"
      },
      {
        "duration": 9,
        "start_time": "2022-03-30T19:02:31.163Z"
      },
      {
        "duration": 17,
        "start_time": "2022-03-30T19:02:31.174Z"
      },
      {
        "duration": 21,
        "start_time": "2022-03-30T19:02:31.193Z"
      },
      {
        "duration": 25,
        "start_time": "2022-03-30T19:02:31.215Z"
      },
      {
        "duration": 19,
        "start_time": "2022-03-30T19:02:31.241Z"
      },
      {
        "duration": 13,
        "start_time": "2022-03-30T19:02:31.262Z"
      },
      {
        "duration": 28,
        "start_time": "2022-03-30T19:02:31.277Z"
      },
      {
        "duration": 18,
        "start_time": "2022-03-30T19:02:31.307Z"
      },
      {
        "duration": 273,
        "start_time": "2022-03-30T19:02:31.327Z"
      },
      {
        "duration": 7,
        "start_time": "2022-03-30T19:02:31.602Z"
      },
      {
        "duration": 287,
        "start_time": "2022-03-30T19:02:31.610Z"
      },
      {
        "duration": 156,
        "start_time": "2022-03-30T19:02:31.899Z"
      },
      {
        "duration": 320,
        "start_time": "2022-03-30T19:02:32.056Z"
      },
      {
        "duration": 5,
        "start_time": "2022-03-30T19:02:32.377Z"
      },
      {
        "duration": 168,
        "start_time": "2022-03-30T19:02:32.383Z"
      },
      {
        "duration": 287,
        "start_time": "2022-03-30T19:02:32.553Z"
      },
      {
        "duration": 21,
        "start_time": "2022-03-30T19:02:32.843Z"
      },
      {
        "duration": 106,
        "start_time": "2022-03-30T19:02:32.865Z"
      },
      {
        "duration": 4,
        "start_time": "2022-03-30T19:02:32.973Z"
      },
      {
        "duration": 123,
        "start_time": "2022-03-30T19:02:32.979Z"
      },
      {
        "duration": 8,
        "start_time": "2022-03-30T19:02:33.104Z"
      },
      {
        "duration": 9,
        "start_time": "2022-03-30T19:02:33.114Z"
      },
      {
        "duration": 15,
        "start_time": "2022-03-30T19:02:33.124Z"
      },
      {
        "duration": 58,
        "start_time": "2022-03-30T19:02:33.141Z"
      },
      {
        "duration": 10,
        "start_time": "2022-03-30T19:02:33.201Z"
      },
      {
        "duration": 48,
        "start_time": "2022-03-30T19:02:33.213Z"
      },
      {
        "duration": 10,
        "start_time": "2022-03-30T19:02:33.262Z"
      },
      {
        "duration": 60,
        "start_time": "2022-03-30T19:02:33.273Z"
      },
      {
        "duration": 56,
        "start_time": "2022-03-30T19:02:33.334Z"
      },
      {
        "duration": 22,
        "start_time": "2022-03-30T19:02:33.392Z"
      },
      {
        "duration": 134,
        "start_time": "2022-03-30T19:02:33.416Z"
      },
      {
        "duration": 11,
        "start_time": "2022-03-30T19:02:33.552Z"
      },
      {
        "duration": 21,
        "start_time": "2022-03-30T19:02:33.564Z"
      },
      {
        "duration": 8,
        "start_time": "2022-03-30T19:02:33.587Z"
      },
      {
        "duration": 8,
        "start_time": "2022-03-30T19:02:33.596Z"
      },
      {
        "duration": 11,
        "start_time": "2022-03-30T19:02:33.605Z"
      },
      {
        "duration": 16,
        "start_time": "2022-03-30T19:02:33.618Z"
      },
      {
        "duration": 12,
        "start_time": "2022-03-30T19:02:33.635Z"
      },
      {
        "duration": 16,
        "start_time": "2022-03-30T19:02:33.649Z"
      },
      {
        "duration": 7,
        "start_time": "2022-03-30T19:02:33.666Z"
      },
      {
        "duration": 26,
        "start_time": "2022-03-30T19:02:33.675Z"
      },
      {
        "duration": 12,
        "start_time": "2022-03-30T19:02:33.703Z"
      },
      {
        "duration": 7,
        "start_time": "2022-03-30T19:05:41.778Z"
      },
      {
        "duration": 5,
        "start_time": "2022-03-30T19:05:45.187Z"
      },
      {
        "duration": 6,
        "start_time": "2022-03-30T19:05:53.101Z"
      },
      {
        "duration": 5,
        "start_time": "2022-03-30T19:05:56.952Z"
      },
      {
        "duration": 285,
        "start_time": "2022-03-30T19:14:14.142Z"
      },
      {
        "duration": 10,
        "start_time": "2022-03-30T19:23:24.623Z"
      },
      {
        "duration": 12,
        "start_time": "2022-03-30T19:23:39.487Z"
      },
      {
        "duration": 8,
        "start_time": "2022-03-30T19:23:40.869Z"
      },
      {
        "duration": 4,
        "start_time": "2022-03-30T19:25:22.382Z"
      },
      {
        "duration": 138,
        "start_time": "2022-03-30T19:31:32.614Z"
      },
      {
        "duration": 296,
        "start_time": "2022-03-30T19:31:42.025Z"
      },
      {
        "duration": 188,
        "start_time": "2022-03-30T19:34:53.826Z"
      },
      {
        "duration": 122,
        "start_time": "2022-03-30T19:35:07.850Z"
      },
      {
        "duration": 109,
        "start_time": "2022-03-30T19:35:11.784Z"
      },
      {
        "duration": 166,
        "start_time": "2022-03-30T19:35:16.217Z"
      },
      {
        "duration": 249,
        "start_time": "2022-03-30T19:35:44.835Z"
      },
      {
        "duration": 128,
        "start_time": "2022-03-30T19:35:53.727Z"
      },
      {
        "duration": 141,
        "start_time": "2022-03-30T19:35:58.821Z"
      },
      {
        "duration": 126,
        "start_time": "2022-03-30T19:36:02.653Z"
      },
      {
        "duration": 9,
        "start_time": "2022-03-30T20:13:19.684Z"
      },
      {
        "duration": 4,
        "start_time": "2022-03-30T20:18:55.911Z"
      },
      {
        "duration": 4,
        "start_time": "2022-03-30T20:19:08.223Z"
      },
      {
        "duration": 4,
        "start_time": "2022-03-30T20:19:23.173Z"
      },
      {
        "duration": 5,
        "start_time": "2022-03-30T20:19:24.002Z"
      },
      {
        "duration": 4,
        "start_time": "2022-03-30T20:19:24.876Z"
      },
      {
        "duration": 4,
        "start_time": "2022-03-30T20:19:26.656Z"
      },
      {
        "duration": 4,
        "start_time": "2022-03-30T20:20:03.772Z"
      },
      {
        "duration": 5,
        "start_time": "2022-03-30T20:20:07.187Z"
      },
      {
        "duration": 5,
        "start_time": "2022-03-30T20:20:09.046Z"
      },
      {
        "duration": 21,
        "start_time": "2022-03-30T20:20:18.174Z"
      },
      {
        "duration": 253,
        "start_time": "2022-03-30T20:26:19.078Z"
      },
      {
        "duration": 284,
        "start_time": "2022-03-30T20:26:31.357Z"
      },
      {
        "duration": 250,
        "start_time": "2022-03-30T20:26:49.790Z"
      },
      {
        "duration": 23,
        "start_time": "2022-03-30T20:27:01.694Z"
      },
      {
        "duration": 21,
        "start_time": "2022-03-30T20:27:29.255Z"
      },
      {
        "duration": 22,
        "start_time": "2022-03-30T20:27:50.126Z"
      },
      {
        "duration": 1234,
        "start_time": "2022-03-31T12:13:25.999Z"
      },
      {
        "duration": 3,
        "start_time": "2022-03-31T12:13:27.236Z"
      },
      {
        "duration": 85,
        "start_time": "2022-03-31T12:13:27.240Z"
      },
      {
        "duration": 13,
        "start_time": "2022-03-31T12:13:27.327Z"
      },
      {
        "duration": 13,
        "start_time": "2022-03-31T12:13:27.341Z"
      },
      {
        "duration": 11,
        "start_time": "2022-03-31T12:13:27.356Z"
      },
      {
        "duration": 7,
        "start_time": "2022-03-31T12:13:27.369Z"
      },
      {
        "duration": 30,
        "start_time": "2022-03-31T12:13:27.378Z"
      },
      {
        "duration": 8,
        "start_time": "2022-03-31T12:13:27.410Z"
      },
      {
        "duration": 10,
        "start_time": "2022-03-31T12:13:27.421Z"
      },
      {
        "duration": 11,
        "start_time": "2022-03-31T12:13:27.433Z"
      },
      {
        "duration": 11,
        "start_time": "2022-03-31T12:13:27.445Z"
      },
      {
        "duration": 15,
        "start_time": "2022-03-31T12:13:27.457Z"
      },
      {
        "duration": 7,
        "start_time": "2022-03-31T12:13:27.473Z"
      },
      {
        "duration": 6,
        "start_time": "2022-03-31T12:13:27.482Z"
      },
      {
        "duration": 7,
        "start_time": "2022-03-31T12:13:27.490Z"
      },
      {
        "duration": 6,
        "start_time": "2022-03-31T12:13:32.040Z"
      },
      {
        "duration": 4,
        "start_time": "2022-03-31T12:13:35.016Z"
      },
      {
        "duration": 148,
        "start_time": "2022-03-31T12:22:59.210Z"
      },
      {
        "duration": 62,
        "start_time": "2022-03-31T12:23:13.123Z"
      },
      {
        "duration": 63,
        "start_time": "2022-03-31T12:24:11.549Z"
      },
      {
        "duration": 81,
        "start_time": "2022-03-31T12:24:36.124Z"
      },
      {
        "duration": 167,
        "start_time": "2022-03-31T12:25:08.792Z"
      },
      {
        "duration": 79,
        "start_time": "2022-03-31T12:25:48.244Z"
      },
      {
        "duration": 73,
        "start_time": "2022-03-31T12:26:04.405Z"
      },
      {
        "duration": 61,
        "start_time": "2022-03-31T12:35:00.361Z"
      },
      {
        "duration": 1664,
        "start_time": "2022-03-31T12:35:10.125Z"
      },
      {
        "duration": 79,
        "start_time": "2022-03-31T12:35:19.008Z"
      },
      {
        "duration": 61,
        "start_time": "2022-03-31T12:35:33.822Z"
      },
      {
        "duration": 61,
        "start_time": "2022-03-31T12:36:12.832Z"
      },
      {
        "duration": 4,
        "start_time": "2022-03-31T12:37:30.379Z"
      },
      {
        "duration": 5,
        "start_time": "2022-03-31T12:37:40.731Z"
      },
      {
        "duration": 7,
        "start_time": "2022-03-31T13:20:54.939Z"
      },
      {
        "duration": 13,
        "start_time": "2022-03-31T13:23:39.536Z"
      },
      {
        "duration": 15,
        "start_time": "2022-03-31T13:23:47.712Z"
      },
      {
        "duration": 20,
        "start_time": "2022-03-31T13:27:19.430Z"
      },
      {
        "duration": 12,
        "start_time": "2022-03-31T14:40:08.315Z"
      },
      {
        "duration": 24,
        "start_time": "2022-03-31T14:40:24.845Z"
      },
      {
        "duration": 5,
        "start_time": "2022-03-31T14:40:36.906Z"
      },
      {
        "duration": 13,
        "start_time": "2022-03-31T14:40:36.913Z"
      },
      {
        "duration": 20,
        "start_time": "2022-03-31T14:40:36.928Z"
      },
      {
        "duration": 9,
        "start_time": "2022-03-31T14:40:36.950Z"
      },
      {
        "duration": 14,
        "start_time": "2022-03-31T14:40:36.963Z"
      },
      {
        "duration": 10,
        "start_time": "2022-03-31T14:40:36.978Z"
      },
      {
        "duration": 11,
        "start_time": "2022-03-31T14:40:36.990Z"
      },
      {
        "duration": 30,
        "start_time": "2022-03-31T14:40:37.002Z"
      },
      {
        "duration": 9,
        "start_time": "2022-03-31T14:40:37.034Z"
      },
      {
        "duration": 14,
        "start_time": "2022-03-31T14:40:37.046Z"
      },
      {
        "duration": 12,
        "start_time": "2022-03-31T14:40:37.062Z"
      },
      {
        "duration": 14,
        "start_time": "2022-03-31T14:40:37.076Z"
      },
      {
        "duration": 15,
        "start_time": "2022-03-31T14:40:37.092Z"
      },
      {
        "duration": 29,
        "start_time": "2022-03-31T14:40:37.109Z"
      },
      {
        "duration": 7,
        "start_time": "2022-03-31T14:40:37.140Z"
      },
      {
        "duration": 7,
        "start_time": "2022-03-31T14:40:37.149Z"
      },
      {
        "duration": 8,
        "start_time": "2022-03-31T14:40:37.158Z"
      },
      {
        "duration": 7,
        "start_time": "2022-03-31T14:40:37.167Z"
      },
      {
        "duration": 94,
        "start_time": "2022-03-31T14:40:37.177Z"
      },
      {
        "duration": 5,
        "start_time": "2022-03-31T14:40:37.272Z"
      },
      {
        "duration": 7,
        "start_time": "2022-03-31T14:40:37.278Z"
      },
      {
        "duration": 289,
        "start_time": "2022-03-31T14:40:37.287Z"
      },
      {
        "duration": 6,
        "start_time": "2022-03-31T14:40:37.578Z"
      },
      {
        "duration": 267,
        "start_time": "2022-03-31T14:40:37.586Z"
      },
      {
        "duration": 184,
        "start_time": "2022-03-31T14:40:37.854Z"
      },
      {
        "duration": 336,
        "start_time": "2022-03-31T14:40:38.039Z"
      },
      {
        "duration": 6,
        "start_time": "2022-03-31T14:40:38.377Z"
      },
      {
        "duration": 208,
        "start_time": "2022-03-31T14:40:38.387Z"
      },
      {
        "duration": 297,
        "start_time": "2022-03-31T14:40:38.597Z"
      },
      {
        "duration": 12,
        "start_time": "2022-03-31T14:40:38.896Z"
      },
      {
        "duration": 129,
        "start_time": "2022-03-31T14:40:38.910Z"
      },
      {
        "duration": 5,
        "start_time": "2022-03-31T14:40:39.041Z"
      },
      {
        "duration": 145,
        "start_time": "2022-03-31T14:40:39.048Z"
      },
      {
        "duration": 9,
        "start_time": "2022-03-31T14:40:39.195Z"
      },
      {
        "duration": 11,
        "start_time": "2022-03-31T14:40:39.206Z"
      },
      {
        "duration": 25,
        "start_time": "2022-03-31T14:40:39.219Z"
      },
      {
        "duration": 17,
        "start_time": "2022-03-31T14:40:39.246Z"
      },
      {
        "duration": 13,
        "start_time": "2022-03-31T14:40:41.583Z"
      },
      {
        "duration": 23,
        "start_time": "2022-03-31T14:40:47.459Z"
      },
      {
        "duration": 11,
        "start_time": "2022-03-31T14:40:55.063Z"
      },
      {
        "duration": 4,
        "start_time": "2022-03-31T14:40:59.345Z"
      },
      {
        "duration": 4,
        "start_time": "2022-03-31T14:42:05.130Z"
      },
      {
        "duration": 2239,
        "start_time": "2022-03-31T14:42:30.024Z"
      },
      {
        "duration": 6,
        "start_time": "2022-03-31T14:42:54.526Z"
      },
      {
        "duration": 9,
        "start_time": "2022-03-31T14:43:00.642Z"
      },
      {
        "duration": 6,
        "start_time": "2022-03-31T14:43:50.377Z"
      },
      {
        "duration": 6,
        "start_time": "2022-03-31T14:46:22.405Z"
      },
      {
        "duration": 5,
        "start_time": "2022-03-31T14:46:45.587Z"
      },
      {
        "duration": 7,
        "start_time": "2022-03-31T14:47:07.516Z"
      },
      {
        "duration": 5,
        "start_time": "2022-03-31T14:48:33.369Z"
      },
      {
        "duration": 2034,
        "start_time": "2022-03-31T14:50:11.434Z"
      },
      {
        "duration": 1918,
        "start_time": "2022-03-31T14:50:30.815Z"
      },
      {
        "duration": 6,
        "start_time": "2022-03-31T14:50:42.704Z"
      },
      {
        "duration": 17,
        "start_time": "2022-03-31T14:56:33.125Z"
      },
      {
        "duration": 6,
        "start_time": "2022-03-31T14:56:42.141Z"
      },
      {
        "duration": 6,
        "start_time": "2022-03-31T14:56:44.867Z"
      },
      {
        "duration": 5,
        "start_time": "2022-03-31T14:57:10.810Z"
      },
      {
        "duration": 16,
        "start_time": "2022-03-31T14:57:23.661Z"
      },
      {
        "duration": 3,
        "start_time": "2022-03-31T14:57:30.872Z"
      },
      {
        "duration": 9,
        "start_time": "2022-03-31T14:57:30.880Z"
      },
      {
        "duration": 20,
        "start_time": "2022-03-31T14:57:30.891Z"
      },
      {
        "duration": 9,
        "start_time": "2022-03-31T14:57:30.913Z"
      },
      {
        "duration": 20,
        "start_time": "2022-03-31T14:57:30.925Z"
      },
      {
        "duration": 13,
        "start_time": "2022-03-31T14:57:30.946Z"
      },
      {
        "duration": 14,
        "start_time": "2022-03-31T14:57:30.961Z"
      },
      {
        "duration": 37,
        "start_time": "2022-03-31T14:57:30.977Z"
      },
      {
        "duration": 9,
        "start_time": "2022-03-31T14:57:31.015Z"
      },
      {
        "duration": 20,
        "start_time": "2022-03-31T14:57:31.027Z"
      },
      {
        "duration": 11,
        "start_time": "2022-03-31T14:57:31.049Z"
      },
      {
        "duration": 17,
        "start_time": "2022-03-31T14:57:31.062Z"
      },
      {
        "duration": 14,
        "start_time": "2022-03-31T14:57:31.080Z"
      },
      {
        "duration": 11,
        "start_time": "2022-03-31T14:57:31.096Z"
      },
      {
        "duration": 12,
        "start_time": "2022-03-31T14:57:31.109Z"
      },
      {
        "duration": 17,
        "start_time": "2022-03-31T14:57:31.123Z"
      },
      {
        "duration": 16,
        "start_time": "2022-03-31T14:57:31.141Z"
      },
      {
        "duration": 20,
        "start_time": "2022-03-31T14:57:31.159Z"
      },
      {
        "duration": 74,
        "start_time": "2022-03-31T14:57:31.181Z"
      },
      {
        "duration": 4,
        "start_time": "2022-03-31T14:57:31.256Z"
      },
      {
        "duration": 8,
        "start_time": "2022-03-31T14:57:31.262Z"
      },
      {
        "duration": 268,
        "start_time": "2022-03-31T14:57:31.272Z"
      },
      {
        "duration": 7,
        "start_time": "2022-03-31T14:57:31.541Z"
      },
      {
        "duration": 199,
        "start_time": "2022-03-31T14:57:31.550Z"
      },
      {
        "duration": 280,
        "start_time": "2022-03-31T14:57:31.752Z"
      },
      {
        "duration": 304,
        "start_time": "2022-03-31T14:57:32.034Z"
      },
      {
        "duration": 6,
        "start_time": "2022-03-31T14:57:32.340Z"
      },
      {
        "duration": 197,
        "start_time": "2022-03-31T14:57:32.348Z"
      },
      {
        "duration": 322,
        "start_time": "2022-03-31T14:57:32.547Z"
      },
      {
        "duration": 11,
        "start_time": "2022-03-31T14:57:32.871Z"
      },
      {
        "duration": 122,
        "start_time": "2022-03-31T14:57:32.883Z"
      },
      {
        "duration": 4,
        "start_time": "2022-03-31T14:57:33.007Z"
      },
      {
        "duration": 145,
        "start_time": "2022-03-31T14:57:33.012Z"
      },
      {
        "duration": 8,
        "start_time": "2022-03-31T14:57:33.159Z"
      },
      {
        "duration": 7,
        "start_time": "2022-03-31T14:57:33.169Z"
      },
      {
        "duration": 12,
        "start_time": "2022-03-31T14:57:33.177Z"
      },
      {
        "duration": 18,
        "start_time": "2022-03-31T14:57:33.191Z"
      },
      {
        "duration": 14,
        "start_time": "2022-03-31T14:57:39.367Z"
      },
      {
        "duration": 22,
        "start_time": "2022-03-31T14:57:49.264Z"
      },
      {
        "duration": 9,
        "start_time": "2022-03-31T14:57:51.935Z"
      },
      {
        "duration": 6,
        "start_time": "2022-03-31T14:57:57.249Z"
      },
      {
        "duration": 9,
        "start_time": "2022-03-31T14:58:01.416Z"
      },
      {
        "duration": 5,
        "start_time": "2022-03-31T14:58:05.261Z"
      },
      {
        "duration": 4,
        "start_time": "2022-03-31T14:58:07.176Z"
      },
      {
        "duration": 9,
        "start_time": "2022-03-31T15:05:31.062Z"
      },
      {
        "duration": 5,
        "start_time": "2022-03-31T15:08:40.576Z"
      },
      {
        "duration": 13,
        "start_time": "2022-03-31T15:08:48.946Z"
      },
      {
        "duration": 10,
        "start_time": "2022-03-31T15:08:56.473Z"
      },
      {
        "duration": 9,
        "start_time": "2022-03-31T15:10:34.426Z"
      },
      {
        "duration": 9,
        "start_time": "2022-03-31T15:10:49.252Z"
      },
      {
        "duration": 9,
        "start_time": "2022-03-31T15:11:34.233Z"
      },
      {
        "duration": 9,
        "start_time": "2022-03-31T15:11:35.720Z"
      },
      {
        "duration": 21,
        "start_time": "2022-03-31T15:11:40.461Z"
      },
      {
        "duration": 10,
        "start_time": "2022-03-31T15:12:24.388Z"
      },
      {
        "duration": 9,
        "start_time": "2022-03-31T15:12:26.471Z"
      },
      {
        "duration": 15,
        "start_time": "2022-03-31T15:13:21.221Z"
      },
      {
        "duration": 7,
        "start_time": "2022-03-31T15:13:48.369Z"
      },
      {
        "duration": 12,
        "start_time": "2022-03-31T15:16:19.593Z"
      },
      {
        "duration": 15,
        "start_time": "2022-03-31T15:17:53.210Z"
      },
      {
        "duration": 11,
        "start_time": "2022-03-31T15:18:08.266Z"
      },
      {
        "duration": 10,
        "start_time": "2022-03-31T15:18:21.099Z"
      },
      {
        "duration": 1249,
        "start_time": "2022-03-31T18:57:00.148Z"
      },
      {
        "duration": 8,
        "start_time": "2022-03-31T18:57:01.400Z"
      },
      {
        "duration": 80,
        "start_time": "2022-03-31T18:57:01.410Z"
      },
      {
        "duration": 17,
        "start_time": "2022-03-31T18:57:01.492Z"
      },
      {
        "duration": 17,
        "start_time": "2022-03-31T18:57:01.511Z"
      },
      {
        "duration": 17,
        "start_time": "2022-03-31T18:57:01.530Z"
      },
      {
        "duration": 12,
        "start_time": "2022-03-31T18:57:01.549Z"
      },
      {
        "duration": 29,
        "start_time": "2022-03-31T18:57:01.563Z"
      },
      {
        "duration": 9,
        "start_time": "2022-03-31T18:57:01.608Z"
      },
      {
        "duration": 12,
        "start_time": "2022-03-31T18:57:01.622Z"
      },
      {
        "duration": 13,
        "start_time": "2022-03-31T18:57:01.636Z"
      },
      {
        "duration": 16,
        "start_time": "2022-03-31T18:57:01.651Z"
      },
      {
        "duration": 53,
        "start_time": "2022-03-31T18:57:01.669Z"
      },
      {
        "duration": 15,
        "start_time": "2022-03-31T18:57:01.724Z"
      },
      {
        "duration": 20,
        "start_time": "2022-03-31T18:57:01.741Z"
      },
      {
        "duration": 12,
        "start_time": "2022-03-31T18:57:01.763Z"
      },
      {
        "duration": 12,
        "start_time": "2022-03-31T18:57:01.777Z"
      },
      {
        "duration": 7,
        "start_time": "2022-03-31T18:57:01.791Z"
      },
      {
        "duration": 131,
        "start_time": "2022-03-31T18:57:01.800Z"
      },
      {
        "duration": 5,
        "start_time": "2022-03-31T18:57:01.933Z"
      },
      {
        "duration": 14,
        "start_time": "2022-03-31T18:57:01.941Z"
      },
      {
        "duration": 304,
        "start_time": "2022-03-31T18:57:01.958Z"
      },
      {
        "duration": 9,
        "start_time": "2022-03-31T18:57:02.264Z"
      },
      {
        "duration": 324,
        "start_time": "2022-03-31T18:57:02.276Z"
      },
      {
        "duration": 207,
        "start_time": "2022-03-31T18:57:02.601Z"
      },
      {
        "duration": 338,
        "start_time": "2022-03-31T18:57:02.810Z"
      },
      {
        "duration": 7,
        "start_time": "2022-03-31T18:57:03.150Z"
      },
      {
        "duration": 240,
        "start_time": "2022-03-31T18:57:03.161Z"
      },
      {
        "duration": 327,
        "start_time": "2022-03-31T18:57:03.403Z"
      },
      {
        "duration": 19,
        "start_time": "2022-03-31T18:57:03.732Z"
      },
      {
        "duration": 166,
        "start_time": "2022-03-31T18:57:03.753Z"
      },
      {
        "duration": 5,
        "start_time": "2022-03-31T18:57:03.921Z"
      },
      {
        "duration": 157,
        "start_time": "2022-03-31T18:57:03.929Z"
      },
      {
        "duration": 22,
        "start_time": "2022-03-31T18:57:04.088Z"
      },
      {
        "duration": 6,
        "start_time": "2022-03-31T18:57:04.112Z"
      },
      {
        "duration": 9,
        "start_time": "2022-03-31T18:57:04.120Z"
      },
      {
        "duration": 16,
        "start_time": "2022-03-31T18:57:04.132Z"
      },
      {
        "duration": 14,
        "start_time": "2022-03-31T18:57:04.152Z"
      },
      {
        "duration": 57,
        "start_time": "2022-03-31T18:57:04.168Z"
      },
      {
        "duration": 12,
        "start_time": "2022-03-31T18:57:04.227Z"
      },
      {
        "duration": 6,
        "start_time": "2022-03-31T18:57:04.241Z"
      },
      {
        "duration": 8,
        "start_time": "2022-03-31T18:57:04.248Z"
      },
      {
        "duration": 6,
        "start_time": "2022-03-31T18:57:04.258Z"
      },
      {
        "duration": 19,
        "start_time": "2022-03-31T18:57:04.266Z"
      },
      {
        "duration": 16,
        "start_time": "2022-03-31T18:57:04.310Z"
      },
      {
        "duration": 7,
        "start_time": "2022-03-31T18:57:04.328Z"
      },
      {
        "duration": 10,
        "start_time": "2022-03-31T18:57:04.337Z"
      },
      {
        "duration": 24,
        "start_time": "2022-03-31T18:57:04.349Z"
      },
      {
        "duration": 12,
        "start_time": "2022-03-31T18:57:04.408Z"
      },
      {
        "duration": 228,
        "start_time": "2022-04-01T12:52:58.961Z"
      },
      {
        "duration": 1297,
        "start_time": "2022-04-02T06:33:54.989Z"
      },
      {
        "duration": 4,
        "start_time": "2022-04-02T06:34:01.562Z"
      },
      {
        "duration": 85,
        "start_time": "2022-04-02T06:34:02.231Z"
      },
      {
        "duration": 16,
        "start_time": "2022-04-02T06:34:02.937Z"
      },
      {
        "duration": 14,
        "start_time": "2022-04-02T06:34:05.749Z"
      },
      {
        "duration": 12,
        "start_time": "2022-04-02T06:34:08.172Z"
      },
      {
        "duration": 160,
        "start_time": "2022-04-02T06:36:04.221Z"
      },
      {
        "duration": 5,
        "start_time": "2022-04-02T06:36:10.404Z"
      },
      {
        "duration": 3,
        "start_time": "2022-04-02T06:36:10.469Z"
      },
      {
        "duration": 28,
        "start_time": "2022-04-02T06:36:10.475Z"
      },
      {
        "duration": 12,
        "start_time": "2022-04-02T06:36:10.506Z"
      },
      {
        "duration": 18,
        "start_time": "2022-04-02T06:36:10.520Z"
      },
      {
        "duration": 15,
        "start_time": "2022-04-02T06:36:10.539Z"
      },
      {
        "duration": 19,
        "start_time": "2022-04-02T06:36:10.557Z"
      },
      {
        "duration": 36,
        "start_time": "2022-04-02T06:36:10.601Z"
      },
      {
        "duration": 13,
        "start_time": "2022-04-02T06:36:10.639Z"
      },
      {
        "duration": 30,
        "start_time": "2022-04-02T06:36:10.656Z"
      },
      {
        "duration": 22,
        "start_time": "2022-04-02T06:36:10.688Z"
      },
      {
        "duration": 18,
        "start_time": "2022-04-02T06:36:10.711Z"
      },
      {
        "duration": 32,
        "start_time": "2022-04-02T06:36:10.731Z"
      },
      {
        "duration": 9,
        "start_time": "2022-04-02T06:36:10.765Z"
      },
      {
        "duration": 17,
        "start_time": "2022-04-02T06:36:10.776Z"
      },
      {
        "duration": 16,
        "start_time": "2022-04-02T06:36:10.795Z"
      },
      {
        "duration": 37,
        "start_time": "2022-04-02T06:36:10.812Z"
      },
      {
        "duration": 13,
        "start_time": "2022-04-02T06:36:10.852Z"
      },
      {
        "duration": 134,
        "start_time": "2022-04-02T06:36:10.867Z"
      },
      {
        "duration": 5,
        "start_time": "2022-04-02T06:36:11.004Z"
      },
      {
        "duration": 20,
        "start_time": "2022-04-02T06:36:11.011Z"
      },
      {
        "duration": 320,
        "start_time": "2022-04-02T06:36:11.033Z"
      },
      {
        "duration": 8,
        "start_time": "2022-04-02T06:36:11.355Z"
      },
      {
        "duration": 294,
        "start_time": "2022-04-02T06:36:11.365Z"
      },
      {
        "duration": 203,
        "start_time": "2022-04-02T06:36:11.663Z"
      },
      {
        "duration": 376,
        "start_time": "2022-04-02T06:36:11.867Z"
      },
      {
        "duration": 5,
        "start_time": "2022-04-02T06:36:12.246Z"
      },
      {
        "duration": 222,
        "start_time": "2022-04-02T06:36:12.253Z"
      },
      {
        "duration": 337,
        "start_time": "2022-04-02T06:36:12.477Z"
      },
      {
        "duration": 17,
        "start_time": "2022-04-02T06:36:12.816Z"
      },
      {
        "duration": 203,
        "start_time": "2022-04-02T06:36:12.835Z"
      },
      {
        "duration": 6,
        "start_time": "2022-04-02T06:36:13.040Z"
      },
      {
        "duration": 226,
        "start_time": "2022-04-02T06:36:13.048Z"
      },
      {
        "duration": 25,
        "start_time": "2022-04-02T06:36:13.276Z"
      },
      {
        "duration": 6,
        "start_time": "2022-04-02T06:36:13.303Z"
      },
      {
        "duration": 12,
        "start_time": "2022-04-02T06:36:13.311Z"
      },
      {
        "duration": 19,
        "start_time": "2022-04-02T06:36:13.325Z"
      },
      {
        "duration": 15,
        "start_time": "2022-04-02T06:36:13.346Z"
      },
      {
        "duration": 48,
        "start_time": "2022-04-02T06:36:13.363Z"
      },
      {
        "duration": 11,
        "start_time": "2022-04-02T06:36:13.413Z"
      },
      {
        "duration": 7,
        "start_time": "2022-04-02T06:36:13.426Z"
      },
      {
        "duration": 10,
        "start_time": "2022-04-02T06:36:13.435Z"
      },
      {
        "duration": 8,
        "start_time": "2022-04-02T06:36:13.447Z"
      },
      {
        "duration": 9,
        "start_time": "2022-04-02T06:36:13.457Z"
      },
      {
        "duration": 36,
        "start_time": "2022-04-02T06:36:13.469Z"
      },
      {
        "duration": 15,
        "start_time": "2022-04-02T06:36:13.507Z"
      },
      {
        "duration": 22,
        "start_time": "2022-04-02T06:36:13.523Z"
      },
      {
        "duration": 29,
        "start_time": "2022-04-02T06:36:13.547Z"
      },
      {
        "duration": 11,
        "start_time": "2022-04-02T06:36:13.577Z"
      },
      {
        "duration": 189,
        "start_time": "2022-04-02T06:36:24.095Z"
      },
      {
        "duration": 186,
        "start_time": "2022-04-02T06:37:30.220Z"
      },
      {
        "duration": 253,
        "start_time": "2022-04-02T06:37:50.796Z"
      },
      {
        "duration": 306,
        "start_time": "2022-04-02T06:38:05.198Z"
      },
      {
        "duration": 195,
        "start_time": "2022-04-02T06:38:10.371Z"
      },
      {
        "duration": 315,
        "start_time": "2022-04-02T06:38:15.291Z"
      },
      {
        "duration": 110,
        "start_time": "2022-04-02T06:38:25.124Z"
      },
      {
        "duration": 243,
        "start_time": "2022-04-02T06:38:31.181Z"
      },
      {
        "duration": 129,
        "start_time": "2022-04-02T06:38:38.378Z"
      },
      {
        "duration": 139,
        "start_time": "2022-04-02T06:38:42.713Z"
      },
      {
        "duration": 69,
        "start_time": "2022-04-02T06:43:20.476Z"
      },
      {
        "duration": 149,
        "start_time": "2022-04-02T06:43:27.961Z"
      },
      {
        "duration": 175,
        "start_time": "2022-04-02T06:43:31.797Z"
      },
      {
        "duration": 185,
        "start_time": "2022-04-02T06:43:35.838Z"
      },
      {
        "duration": 196,
        "start_time": "2022-04-02T06:44:23.729Z"
      },
      {
        "duration": 251,
        "start_time": "2022-04-02T06:44:41.616Z"
      },
      {
        "duration": 186,
        "start_time": "2022-04-02T06:44:47.915Z"
      },
      {
        "duration": 193,
        "start_time": "2022-04-02T06:46:22.874Z"
      },
      {
        "duration": 206,
        "start_time": "2022-04-02T06:46:47.449Z"
      },
      {
        "duration": 199,
        "start_time": "2022-04-02T06:46:53.550Z"
      },
      {
        "duration": 198,
        "start_time": "2022-04-02T06:47:16.984Z"
      },
      {
        "duration": 327,
        "start_time": "2022-04-02T06:47:35.790Z"
      },
      {
        "duration": 209,
        "start_time": "2022-04-02T06:47:50.763Z"
      },
      {
        "duration": 308,
        "start_time": "2022-04-02T06:48:10.441Z"
      },
      {
        "duration": 311,
        "start_time": "2022-04-02T06:49:09.726Z"
      },
      {
        "duration": 299,
        "start_time": "2022-04-02T06:49:31.921Z"
      },
      {
        "duration": 311,
        "start_time": "2022-04-02T06:49:41.613Z"
      },
      {
        "duration": 414,
        "start_time": "2022-04-02T06:49:46.268Z"
      },
      {
        "duration": 299,
        "start_time": "2022-04-02T06:49:52.142Z"
      },
      {
        "duration": 320,
        "start_time": "2022-04-02T06:49:58.398Z"
      },
      {
        "duration": 307,
        "start_time": "2022-04-02T06:50:01.748Z"
      },
      {
        "duration": 315,
        "start_time": "2022-04-02T06:50:04.806Z"
      },
      {
        "duration": 122,
        "start_time": "2022-04-02T06:50:43.862Z"
      },
      {
        "duration": 252,
        "start_time": "2022-04-02T06:51:13.392Z"
      },
      {
        "duration": 153,
        "start_time": "2022-04-02T06:51:22.766Z"
      },
      {
        "duration": 10,
        "start_time": "2022-04-02T11:11:37.275Z"
      },
      {
        "duration": 3,
        "start_time": "2022-04-02T11:12:04.822Z"
      },
      {
        "duration": 4,
        "start_time": "2022-04-02T11:12:28.481Z"
      },
      {
        "duration": 1607,
        "start_time": "2022-04-02T11:13:05.660Z"
      },
      {
        "duration": 4,
        "start_time": "2022-04-02T11:13:07.270Z"
      },
      {
        "duration": 77,
        "start_time": "2022-04-02T11:13:07.276Z"
      },
      {
        "duration": 21,
        "start_time": "2022-04-02T11:13:07.356Z"
      },
      {
        "duration": 19,
        "start_time": "2022-04-02T11:13:07.379Z"
      },
      {
        "duration": 28,
        "start_time": "2022-04-02T11:13:07.400Z"
      },
      {
        "duration": 19,
        "start_time": "2022-04-02T11:13:07.430Z"
      },
      {
        "duration": 41,
        "start_time": "2022-04-02T11:13:07.451Z"
      },
      {
        "duration": 15,
        "start_time": "2022-04-02T11:13:07.494Z"
      },
      {
        "duration": 26,
        "start_time": "2022-04-02T11:13:07.513Z"
      },
      {
        "duration": 22,
        "start_time": "2022-04-02T11:13:07.541Z"
      },
      {
        "duration": 19,
        "start_time": "2022-04-02T11:13:07.566Z"
      },
      {
        "duration": 33,
        "start_time": "2022-04-02T11:13:07.587Z"
      },
      {
        "duration": 12,
        "start_time": "2022-04-02T11:13:07.622Z"
      },
      {
        "duration": 23,
        "start_time": "2022-04-02T11:13:07.636Z"
      },
      {
        "duration": 28,
        "start_time": "2022-04-02T11:13:07.661Z"
      },
      {
        "duration": 13,
        "start_time": "2022-04-02T11:13:07.691Z"
      },
      {
        "duration": 22,
        "start_time": "2022-04-02T11:13:07.706Z"
      },
      {
        "duration": 132,
        "start_time": "2022-04-02T11:13:07.730Z"
      },
      {
        "duration": 6,
        "start_time": "2022-04-02T11:13:07.864Z"
      },
      {
        "duration": 27,
        "start_time": "2022-04-02T11:13:07.872Z"
      },
      {
        "duration": 453,
        "start_time": "2022-04-02T11:13:07.901Z"
      },
      {
        "duration": 18,
        "start_time": "2022-04-02T11:13:08.356Z"
      },
      {
        "duration": 443,
        "start_time": "2022-04-02T11:13:08.376Z"
      },
      {
        "duration": 409,
        "start_time": "2022-04-02T11:13:08.822Z"
      },
      {
        "duration": 575,
        "start_time": "2022-04-02T11:13:09.234Z"
      },
      {
        "duration": 9,
        "start_time": "2022-04-02T11:13:09.812Z"
      },
      {
        "duration": 346,
        "start_time": "2022-04-02T11:13:09.826Z"
      },
      {
        "duration": 429,
        "start_time": "2022-04-02T11:13:10.174Z"
      },
      {
        "duration": 19,
        "start_time": "2022-04-02T11:13:10.606Z"
      },
      {
        "duration": 223,
        "start_time": "2022-04-02T11:13:10.628Z"
      },
      {
        "duration": 6,
        "start_time": "2022-04-02T11:13:10.853Z"
      },
      {
        "duration": 11,
        "start_time": "2022-04-02T11:13:10.868Z"
      },
      {
        "duration": 266,
        "start_time": "2022-04-02T11:13:10.881Z"
      },
      {
        "duration": 20,
        "start_time": "2022-04-02T11:13:11.149Z"
      },
      {
        "duration": 34,
        "start_time": "2022-04-02T11:13:11.171Z"
      },
      {
        "duration": 14,
        "start_time": "2022-04-02T11:13:11.208Z"
      },
      {
        "duration": 10,
        "start_time": "2022-04-02T11:13:11.224Z"
      },
      {
        "duration": 22,
        "start_time": "2022-04-02T11:13:11.236Z"
      },
      {
        "duration": 17,
        "start_time": "2022-04-02T11:13:11.260Z"
      },
      {
        "duration": 32,
        "start_time": "2022-04-02T11:13:11.279Z"
      },
      {
        "duration": 13,
        "start_time": "2022-04-02T11:13:11.314Z"
      },
      {
        "duration": 39,
        "start_time": "2022-04-02T11:13:11.329Z"
      },
      {
        "duration": 8,
        "start_time": "2022-04-02T11:13:11.370Z"
      },
      {
        "duration": 8,
        "start_time": "2022-04-02T11:13:11.381Z"
      },
      {
        "duration": 7,
        "start_time": "2022-04-02T11:13:11.391Z"
      },
      {
        "duration": 16,
        "start_time": "2022-04-02T11:13:11.400Z"
      },
      {
        "duration": 8,
        "start_time": "2022-04-02T11:13:11.418Z"
      },
      {
        "duration": 51,
        "start_time": "2022-04-02T11:13:11.428Z"
      },
      {
        "duration": 32,
        "start_time": "2022-04-02T11:13:11.481Z"
      },
      {
        "duration": 15,
        "start_time": "2022-04-02T11:13:11.515Z"
      },
      {
        "duration": 420,
        "start_time": "2022-04-02T11:15:14.410Z"
      },
      {
        "duration": 304,
        "start_time": "2022-04-02T11:15:20.590Z"
      },
      {
        "duration": 511,
        "start_time": "2022-04-02T11:15:26.650Z"
      },
      {
        "duration": 328,
        "start_time": "2022-04-02T11:15:39.192Z"
      },
      {
        "duration": 464,
        "start_time": "2022-04-02T11:15:43.935Z"
      }
    ],
    "kernelspec": {
      "display_name": "Python 3 (ipykernel)",
      "language": "python",
      "name": "python3"
    },
    "language_info": {
      "codemirror_mode": {
        "name": "ipython",
        "version": 3
      },
      "file_extension": ".py",
      "mimetype": "text/x-python",
      "name": "python",
      "nbconvert_exporter": "python",
      "pygments_lexer": "ipython3",
      "version": "3.9.5"
    },
    "toc": {
      "base_numbering": 1,
      "nav_menu": {},
      "number_sections": true,
      "sideBar": true,
      "skip_h1_title": true,
      "title_cell": "Table of Contents",
      "title_sidebar": "Contents",
      "toc_cell": false,
      "toc_position": {},
      "toc_section_display": true,
      "toc_window_display": false
    },
    "colab": {
      "provenance": []
    }
  },
  "nbformat": 4,
  "nbformat_minor": 0
}