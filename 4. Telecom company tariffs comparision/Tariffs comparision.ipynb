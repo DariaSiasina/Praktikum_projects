{
  "cells": [
    {
      "cell_type": "markdown",
      "metadata": {
        "id": "gMOaDWVdMHg_"
      },
      "source": [
        "# Определение перспективного тарифа для телеком-компании"
      ]
    },
    {
      "cell_type": "markdown",
      "metadata": {
        "id": "xaeeBMLtMHhB"
      },
      "source": [
        "Компания «Мегалайн» — федеральный оператор сотовой связи - прелагает клиентам два тарифных плана: «Смарт» и «Ультра». Чтобы скорректировать рекламный бюджет, коммерческий департамент хочет понять, какой тариф приносит больше денег.\n",
        "Необходимо сделать предварительный анализ тарифов на небольшой выборке клиентов из 500 пользователей «Мегалайна»: кто они, откуда, каким тарифом пользуются, сколько звонков и сообщений каждый отправил за 2018 год. Нужно проанализировать поведение клиентов и сделать вывод — какой тариф лучше."
      ]
    },
    {
      "cell_type": "markdown",
      "metadata": {
        "id": "VM0iEqFHMHhG"
      },
      "source": [
        "### Описание тарифов\n",
        "<B>Тариф «Смарт»</B>\n",
        "\n",
        "    Ежемесячная плата: 550 рублей\n",
        "    Включено 500 минут разговора, 50 сообщений и 15 Гб интернет-трафика\n",
        "    Стоимость услуг сверх тарифного пакета: 1. минута разговора: 3 рубля («Мегалайн» всегда округляет вверх значения минут и мегабайтов. Если пользователь проговорил всего 1 секунду, в тарифе засчитывается целая минута); 2. сообщение: 3 рубля; 3. 1 Гб интернет-трафика: 200 рублей.\n",
        "    \n",
        "<B>Тариф «Ультра»</B>\n",
        "\n",
        "    Ежемесячная плата: 1950 рублей\n",
        "    Включено 3000 минут разговора, 1000 сообщений и 30 Гб интернет-трафика\n",
        "    Стоимость услуг сверх тарифного пакета: 1. минута разговора: 1 рубль; 2. сообщение: 1 рубль; 3. 1 Гб интернет-трафика: 150 рублей."
      ]
    },
    {
      "cell_type": "markdown",
      "metadata": {
        "id": "Uxki_xtTMHhI"
      },
      "source": [
        "Импортируем нужные библиотеки."
      ]
    },
    {
      "cell_type": "code",
      "execution_count": null,
      "metadata": {
        "id": "PAsVOOuFMHhK"
      },
      "outputs": [],
      "source": [
        "import pandas as pd\n",
        "import numpy as np\n",
        "import matplotlib.pyplot as plt\n",
        "import scipy as math\n",
        "from scipy import stats as st\n",
        "import seaborn as sns\n",
        "import warnings\n",
        "import re\n",
        "warnings.filterwarnings('ignore')"
      ]
    },
    {
      "cell_type": "markdown",
      "metadata": {
        "id": "w9a54oCDMHhL"
      },
      "source": [
        "## Изучение данных из файла"
      ]
    },
    {
      "cell_type": "markdown",
      "metadata": {
        "id": "B5fJbXLVMHhM"
      },
      "source": [
        "Откроем файлы и посмотрим по ним основную информацию."
      ]
    },
    {
      "cell_type": "code",
      "execution_count": null,
      "metadata": {
        "id": "8UUrp1JbMHhN",
        "outputId": "33d59371-9bde-4508-a46a-f8abea2fb20f"
      },
      "outputs": [
        {
          "data": {
            "text/html": [
              "<div>\n",
              "<style scoped>\n",
              "    .dataframe tbody tr th:only-of-type {\n",
              "        vertical-align: middle;\n",
              "    }\n",
              "\n",
              "    .dataframe tbody tr th {\n",
              "        vertical-align: top;\n",
              "    }\n",
              "\n",
              "    .dataframe thead th {\n",
              "        text-align: right;\n",
              "    }\n",
              "</style>\n",
              "<table border=\"1\" class=\"dataframe\">\n",
              "  <thead>\n",
              "    <tr style=\"text-align: right;\">\n",
              "      <th></th>\n",
              "      <th>messages_included</th>\n",
              "      <th>mb_per_month_included</th>\n",
              "      <th>minutes_included</th>\n",
              "      <th>rub_monthly_fee</th>\n",
              "      <th>rub_per_gb</th>\n",
              "      <th>rub_per_message</th>\n",
              "      <th>rub_per_minute</th>\n",
              "      <th>tariff_name</th>\n",
              "    </tr>\n",
              "  </thead>\n",
              "  <tbody>\n",
              "    <tr>\n",
              "      <td>0</td>\n",
              "      <td>50</td>\n",
              "      <td>15360</td>\n",
              "      <td>500</td>\n",
              "      <td>550</td>\n",
              "      <td>200</td>\n",
              "      <td>3</td>\n",
              "      <td>3</td>\n",
              "      <td>smart</td>\n",
              "    </tr>\n",
              "    <tr>\n",
              "      <td>1</td>\n",
              "      <td>1000</td>\n",
              "      <td>30720</td>\n",
              "      <td>3000</td>\n",
              "      <td>1950</td>\n",
              "      <td>150</td>\n",
              "      <td>1</td>\n",
              "      <td>1</td>\n",
              "      <td>ultra</td>\n",
              "    </tr>\n",
              "  </tbody>\n",
              "</table>\n",
              "</div>"
            ],
            "text/plain": [
              "   messages_included  mb_per_month_included  minutes_included  \\\n",
              "0                 50                  15360               500   \n",
              "1               1000                  30720              3000   \n",
              "\n",
              "   rub_monthly_fee  rub_per_gb  rub_per_message  rub_per_minute tariff_name  \n",
              "0              550         200                3               3       smart  \n",
              "1             1950         150                1               1       ultra  "
            ]
          },
          "metadata": {},
          "output_type": "display_data"
        },
        {
          "name": "stdout",
          "output_type": "stream",
          "text": [
            "<class 'pandas.core.frame.DataFrame'>\n",
            "RangeIndex: 2 entries, 0 to 1\n",
            "Data columns (total 8 columns):\n",
            "messages_included        2 non-null int64\n",
            "mb_per_month_included    2 non-null int64\n",
            "minutes_included         2 non-null int64\n",
            "rub_monthly_fee          2 non-null int64\n",
            "rub_per_gb               2 non-null int64\n",
            "rub_per_message          2 non-null int64\n",
            "rub_per_minute           2 non-null int64\n",
            "tariff_name              2 non-null object\n",
            "dtypes: int64(7), object(1)\n",
            "memory usage: 256.0+ bytes\n"
          ]
        }
      ],
      "source": [
        "tariffs = pd.read_csv('/datasets/tariffs.csv')\n",
        "display(tariffs.head(10))\n",
        "tariffs.info()"
      ]
    },
    {
      "cell_type": "markdown",
      "metadata": {
        "id": "XC_j6n3XMHhP"
      },
      "source": [
        "Это таблица с описанием тарифов, без пропусков и с верными типами данных. Оставим ее пока в этом виде."
      ]
    },
    {
      "cell_type": "code",
      "execution_count": null,
      "metadata": {
        "id": "X5fs3VubMHhP",
        "outputId": "f0165e9f-dee5-406f-8c0a-9d350c6ecb92"
      },
      "outputs": [
        {
          "data": {
            "text/html": [
              "<div>\n",
              "<style scoped>\n",
              "    .dataframe tbody tr th:only-of-type {\n",
              "        vertical-align: middle;\n",
              "    }\n",
              "\n",
              "    .dataframe tbody tr th {\n",
              "        vertical-align: top;\n",
              "    }\n",
              "\n",
              "    .dataframe thead th {\n",
              "        text-align: right;\n",
              "    }\n",
              "</style>\n",
              "<table border=\"1\" class=\"dataframe\">\n",
              "  <thead>\n",
              "    <tr style=\"text-align: right;\">\n",
              "      <th></th>\n",
              "      <th>user_id</th>\n",
              "      <th>age</th>\n",
              "      <th>churn_date</th>\n",
              "      <th>city</th>\n",
              "      <th>first_name</th>\n",
              "      <th>last_name</th>\n",
              "      <th>reg_date</th>\n",
              "      <th>tariff</th>\n",
              "    </tr>\n",
              "  </thead>\n",
              "  <tbody>\n",
              "    <tr>\n",
              "      <td>0</td>\n",
              "      <td>1000</td>\n",
              "      <td>52</td>\n",
              "      <td>NaN</td>\n",
              "      <td>Краснодар</td>\n",
              "      <td>Рафаил</td>\n",
              "      <td>Верещагин</td>\n",
              "      <td>2018-05-25</td>\n",
              "      <td>ultra</td>\n",
              "    </tr>\n",
              "    <tr>\n",
              "      <td>1</td>\n",
              "      <td>1001</td>\n",
              "      <td>41</td>\n",
              "      <td>NaN</td>\n",
              "      <td>Москва</td>\n",
              "      <td>Иван</td>\n",
              "      <td>Ежов</td>\n",
              "      <td>2018-11-01</td>\n",
              "      <td>smart</td>\n",
              "    </tr>\n",
              "    <tr>\n",
              "      <td>2</td>\n",
              "      <td>1002</td>\n",
              "      <td>59</td>\n",
              "      <td>NaN</td>\n",
              "      <td>Стерлитамак</td>\n",
              "      <td>Евгений</td>\n",
              "      <td>Абрамович</td>\n",
              "      <td>2018-06-17</td>\n",
              "      <td>smart</td>\n",
              "    </tr>\n",
              "    <tr>\n",
              "      <td>3</td>\n",
              "      <td>1003</td>\n",
              "      <td>23</td>\n",
              "      <td>NaN</td>\n",
              "      <td>Москва</td>\n",
              "      <td>Белла</td>\n",
              "      <td>Белякова</td>\n",
              "      <td>2018-08-17</td>\n",
              "      <td>ultra</td>\n",
              "    </tr>\n",
              "    <tr>\n",
              "      <td>4</td>\n",
              "      <td>1004</td>\n",
              "      <td>68</td>\n",
              "      <td>NaN</td>\n",
              "      <td>Новокузнецк</td>\n",
              "      <td>Татьяна</td>\n",
              "      <td>Авдеенко</td>\n",
              "      <td>2018-05-14</td>\n",
              "      <td>ultra</td>\n",
              "    </tr>\n",
              "    <tr>\n",
              "      <td>5</td>\n",
              "      <td>1005</td>\n",
              "      <td>67</td>\n",
              "      <td>NaN</td>\n",
              "      <td>Набережные Челны</td>\n",
              "      <td>Афанасий</td>\n",
              "      <td>Горлов</td>\n",
              "      <td>2018-01-25</td>\n",
              "      <td>smart</td>\n",
              "    </tr>\n",
              "    <tr>\n",
              "      <td>6</td>\n",
              "      <td>1006</td>\n",
              "      <td>21</td>\n",
              "      <td>NaN</td>\n",
              "      <td>Ульяновск</td>\n",
              "      <td>Леонид</td>\n",
              "      <td>Ермолаев</td>\n",
              "      <td>2018-02-26</td>\n",
              "      <td>smart</td>\n",
              "    </tr>\n",
              "    <tr>\n",
              "      <td>7</td>\n",
              "      <td>1007</td>\n",
              "      <td>65</td>\n",
              "      <td>NaN</td>\n",
              "      <td>Москва</td>\n",
              "      <td>Юна</td>\n",
              "      <td>Березина</td>\n",
              "      <td>2018-04-19</td>\n",
              "      <td>smart</td>\n",
              "    </tr>\n",
              "    <tr>\n",
              "      <td>8</td>\n",
              "      <td>1008</td>\n",
              "      <td>63</td>\n",
              "      <td>NaN</td>\n",
              "      <td>Челябинск</td>\n",
              "      <td>Рустэм</td>\n",
              "      <td>Пономарёв</td>\n",
              "      <td>2018-12-19</td>\n",
              "      <td>smart</td>\n",
              "    </tr>\n",
              "    <tr>\n",
              "      <td>9</td>\n",
              "      <td>1009</td>\n",
              "      <td>24</td>\n",
              "      <td>NaN</td>\n",
              "      <td>Пермь</td>\n",
              "      <td>Василиса</td>\n",
              "      <td>Блинова</td>\n",
              "      <td>2018-03-22</td>\n",
              "      <td>smart</td>\n",
              "    </tr>\n",
              "  </tbody>\n",
              "</table>\n",
              "</div>"
            ],
            "text/plain": [
              "   user_id  age churn_date              city first_name  last_name   reg_date  \\\n",
              "0     1000   52        NaN         Краснодар     Рафаил  Верещагин 2018-05-25   \n",
              "1     1001   41        NaN            Москва       Иван       Ежов 2018-11-01   \n",
              "2     1002   59        NaN       Стерлитамак    Евгений  Абрамович 2018-06-17   \n",
              "3     1003   23        NaN            Москва      Белла   Белякова 2018-08-17   \n",
              "4     1004   68        NaN       Новокузнецк    Татьяна   Авдеенко 2018-05-14   \n",
              "5     1005   67        NaN  Набережные Челны   Афанасий     Горлов 2018-01-25   \n",
              "6     1006   21        NaN         Ульяновск     Леонид   Ермолаев 2018-02-26   \n",
              "7     1007   65        NaN            Москва        Юна   Березина 2018-04-19   \n",
              "8     1008   63        NaN         Челябинск     Рустэм  Пономарёв 2018-12-19   \n",
              "9     1009   24        NaN             Пермь   Василиса    Блинова 2018-03-22   \n",
              "\n",
              "  tariff  \n",
              "0  ultra  \n",
              "1  smart  \n",
              "2  smart  \n",
              "3  ultra  \n",
              "4  ultra  \n",
              "5  smart  \n",
              "6  smart  \n",
              "7  smart  \n",
              "8  smart  \n",
              "9  smart  "
            ]
          },
          "metadata": {},
          "output_type": "display_data"
        },
        {
          "name": "stdout",
          "output_type": "stream",
          "text": [
            "<class 'pandas.core.frame.DataFrame'>\n",
            "RangeIndex: 500 entries, 0 to 499\n",
            "Data columns (total 8 columns):\n",
            "user_id       500 non-null int64\n",
            "age           500 non-null int64\n",
            "churn_date    38 non-null object\n",
            "city          500 non-null object\n",
            "first_name    500 non-null object\n",
            "last_name     500 non-null object\n",
            "reg_date      500 non-null datetime64[ns]\n",
            "tariff        500 non-null object\n",
            "dtypes: datetime64[ns](1), int64(2), object(5)\n",
            "memory usage: 31.4+ KB\n"
          ]
        }
      ],
      "source": [
        "users = pd.read_csv('/datasets/users.csv', parse_dates=['reg_date'])\n",
        "display(users.head(10))\n",
        "users.info()"
      ]
    },
    {
      "cell_type": "markdown",
      "metadata": {
        "id": "1-QKYObkMHhR"
      },
      "source": [
        "В таблице с информацией о пользователях есть пропуски в столбце с датой закрытия контракта. Тип данных в столбцах с датами не совпадает с указанным, возможно, его надо будет заменить. Кроме того, информации достаточно много, скорее всего, для работы вся она нам не понадобится. "
      ]
    },
    {
      "cell_type": "code",
      "execution_count": null,
      "metadata": {
        "id": "4MYgzlmdMHhV",
        "outputId": "87b4e049-fbaa-4259-8dfa-71e8cc7b75bb"
      },
      "outputs": [
        {
          "data": {
            "text/html": [
              "<div>\n",
              "<style scoped>\n",
              "    .dataframe tbody tr th:only-of-type {\n",
              "        vertical-align: middle;\n",
              "    }\n",
              "\n",
              "    .dataframe tbody tr th {\n",
              "        vertical-align: top;\n",
              "    }\n",
              "\n",
              "    .dataframe thead th {\n",
              "        text-align: right;\n",
              "    }\n",
              "</style>\n",
              "<table border=\"1\" class=\"dataframe\">\n",
              "  <thead>\n",
              "    <tr style=\"text-align: right;\">\n",
              "      <th></th>\n",
              "      <th>id</th>\n",
              "      <th>call_date</th>\n",
              "      <th>duration</th>\n",
              "      <th>user_id</th>\n",
              "    </tr>\n",
              "  </thead>\n",
              "  <tbody>\n",
              "    <tr>\n",
              "      <td>0</td>\n",
              "      <td>1000_0</td>\n",
              "      <td>2018-07-25</td>\n",
              "      <td>0.00</td>\n",
              "      <td>1000</td>\n",
              "    </tr>\n",
              "    <tr>\n",
              "      <td>1</td>\n",
              "      <td>1000_1</td>\n",
              "      <td>2018-08-17</td>\n",
              "      <td>0.00</td>\n",
              "      <td>1000</td>\n",
              "    </tr>\n",
              "    <tr>\n",
              "      <td>2</td>\n",
              "      <td>1000_2</td>\n",
              "      <td>2018-06-11</td>\n",
              "      <td>2.85</td>\n",
              "      <td>1000</td>\n",
              "    </tr>\n",
              "    <tr>\n",
              "      <td>3</td>\n",
              "      <td>1000_3</td>\n",
              "      <td>2018-09-21</td>\n",
              "      <td>13.80</td>\n",
              "      <td>1000</td>\n",
              "    </tr>\n",
              "    <tr>\n",
              "      <td>4</td>\n",
              "      <td>1000_4</td>\n",
              "      <td>2018-12-15</td>\n",
              "      <td>5.18</td>\n",
              "      <td>1000</td>\n",
              "    </tr>\n",
              "    <tr>\n",
              "      <td>5</td>\n",
              "      <td>1000_5</td>\n",
              "      <td>2018-11-02</td>\n",
              "      <td>0.00</td>\n",
              "      <td>1000</td>\n",
              "    </tr>\n",
              "    <tr>\n",
              "      <td>6</td>\n",
              "      <td>1000_6</td>\n",
              "      <td>2018-10-18</td>\n",
              "      <td>0.00</td>\n",
              "      <td>1000</td>\n",
              "    </tr>\n",
              "    <tr>\n",
              "      <td>7</td>\n",
              "      <td>1000_7</td>\n",
              "      <td>2018-08-22</td>\n",
              "      <td>18.31</td>\n",
              "      <td>1000</td>\n",
              "    </tr>\n",
              "    <tr>\n",
              "      <td>8</td>\n",
              "      <td>1000_8</td>\n",
              "      <td>2018-09-15</td>\n",
              "      <td>18.44</td>\n",
              "      <td>1000</td>\n",
              "    </tr>\n",
              "    <tr>\n",
              "      <td>9</td>\n",
              "      <td>1000_9</td>\n",
              "      <td>2018-08-15</td>\n",
              "      <td>0.00</td>\n",
              "      <td>1000</td>\n",
              "    </tr>\n",
              "  </tbody>\n",
              "</table>\n",
              "</div>"
            ],
            "text/plain": [
              "       id  call_date  duration  user_id\n",
              "0  1000_0 2018-07-25      0.00     1000\n",
              "1  1000_1 2018-08-17      0.00     1000\n",
              "2  1000_2 2018-06-11      2.85     1000\n",
              "3  1000_3 2018-09-21     13.80     1000\n",
              "4  1000_4 2018-12-15      5.18     1000\n",
              "5  1000_5 2018-11-02      0.00     1000\n",
              "6  1000_6 2018-10-18      0.00     1000\n",
              "7  1000_7 2018-08-22     18.31     1000\n",
              "8  1000_8 2018-09-15     18.44     1000\n",
              "9  1000_9 2018-08-15      0.00     1000"
            ]
          },
          "metadata": {},
          "output_type": "display_data"
        },
        {
          "name": "stdout",
          "output_type": "stream",
          "text": [
            "<class 'pandas.core.frame.DataFrame'>\n",
            "RangeIndex: 202607 entries, 0 to 202606\n",
            "Data columns (total 4 columns):\n",
            "id           202607 non-null object\n",
            "call_date    202607 non-null datetime64[ns]\n",
            "duration     202607 non-null float64\n",
            "user_id      202607 non-null int64\n",
            "dtypes: datetime64[ns](1), float64(1), int64(1), object(1)\n",
            "memory usage: 6.2+ MB\n"
          ]
        }
      ],
      "source": [
        "calls = pd.read_csv('/datasets/calls.csv', parse_dates=['call_date'])\n",
        "display(calls.head(10))\n",
        "calls.info()"
      ]
    },
    {
      "cell_type": "markdown",
      "metadata": {
        "id": "zhCw9QYpMHhV"
      },
      "source": [
        "Опять не совпадает тип данных в столбце с датой, а в столбце с продолжительностью разговора много нулей. Зато нет пропусков."
      ]
    },
    {
      "cell_type": "code",
      "execution_count": null,
      "metadata": {
        "id": "VHaGDpOpMHhW",
        "outputId": "a7ea8136-d96d-478a-9737-255e799041c8"
      },
      "outputs": [
        {
          "data": {
            "text/html": [
              "<div>\n",
              "<style scoped>\n",
              "    .dataframe tbody tr th:only-of-type {\n",
              "        vertical-align: middle;\n",
              "    }\n",
              "\n",
              "    .dataframe tbody tr th {\n",
              "        vertical-align: top;\n",
              "    }\n",
              "\n",
              "    .dataframe thead th {\n",
              "        text-align: right;\n",
              "    }\n",
              "</style>\n",
              "<table border=\"1\" class=\"dataframe\">\n",
              "  <thead>\n",
              "    <tr style=\"text-align: right;\">\n",
              "      <th></th>\n",
              "      <th>id</th>\n",
              "      <th>message_date</th>\n",
              "      <th>user_id</th>\n",
              "    </tr>\n",
              "  </thead>\n",
              "  <tbody>\n",
              "    <tr>\n",
              "      <td>123026</td>\n",
              "      <td>1499_174</td>\n",
              "      <td>2018-12-14</td>\n",
              "      <td>1499</td>\n",
              "    </tr>\n",
              "    <tr>\n",
              "      <td>123027</td>\n",
              "      <td>1499_175</td>\n",
              "      <td>2018-10-09</td>\n",
              "      <td>1499</td>\n",
              "    </tr>\n",
              "    <tr>\n",
              "      <td>123028</td>\n",
              "      <td>1499_176</td>\n",
              "      <td>2018-12-17</td>\n",
              "      <td>1499</td>\n",
              "    </tr>\n",
              "    <tr>\n",
              "      <td>123029</td>\n",
              "      <td>1499_177</td>\n",
              "      <td>2018-12-30</td>\n",
              "      <td>1499</td>\n",
              "    </tr>\n",
              "    <tr>\n",
              "      <td>123030</td>\n",
              "      <td>1499_178</td>\n",
              "      <td>2018-10-25</td>\n",
              "      <td>1499</td>\n",
              "    </tr>\n",
              "    <tr>\n",
              "      <td>123031</td>\n",
              "      <td>1499_179</td>\n",
              "      <td>2018-12-12</td>\n",
              "      <td>1499</td>\n",
              "    </tr>\n",
              "    <tr>\n",
              "      <td>123032</td>\n",
              "      <td>1499_180</td>\n",
              "      <td>2018-09-28</td>\n",
              "      <td>1499</td>\n",
              "    </tr>\n",
              "    <tr>\n",
              "      <td>123033</td>\n",
              "      <td>1499_181</td>\n",
              "      <td>2018-09-27</td>\n",
              "      <td>1499</td>\n",
              "    </tr>\n",
              "    <tr>\n",
              "      <td>123034</td>\n",
              "      <td>1499_182</td>\n",
              "      <td>2018-11-15</td>\n",
              "      <td>1499</td>\n",
              "    </tr>\n",
              "    <tr>\n",
              "      <td>123035</td>\n",
              "      <td>1499_183</td>\n",
              "      <td>2018-11-16</td>\n",
              "      <td>1499</td>\n",
              "    </tr>\n",
              "  </tbody>\n",
              "</table>\n",
              "</div>"
            ],
            "text/plain": [
              "              id message_date  user_id\n",
              "123026  1499_174   2018-12-14     1499\n",
              "123027  1499_175   2018-10-09     1499\n",
              "123028  1499_176   2018-12-17     1499\n",
              "123029  1499_177   2018-12-30     1499\n",
              "123030  1499_178   2018-10-25     1499\n",
              "123031  1499_179   2018-12-12     1499\n",
              "123032  1499_180   2018-09-28     1499\n",
              "123033  1499_181   2018-09-27     1499\n",
              "123034  1499_182   2018-11-15     1499\n",
              "123035  1499_183   2018-11-16     1499"
            ]
          },
          "metadata": {},
          "output_type": "display_data"
        },
        {
          "name": "stdout",
          "output_type": "stream",
          "text": [
            "<class 'pandas.core.frame.DataFrame'>\n",
            "RangeIndex: 123036 entries, 0 to 123035\n",
            "Data columns (total 3 columns):\n",
            "id              123036 non-null object\n",
            "message_date    123036 non-null datetime64[ns]\n",
            "user_id         123036 non-null int64\n",
            "dtypes: datetime64[ns](1), int64(1), object(1)\n",
            "memory usage: 2.8+ MB\n"
          ]
        }
      ],
      "source": [
        "messages = pd.read_csv('/datasets/messages.csv', parse_dates=['message_date'])\n",
        "display(messages.tail(10))\n",
        "messages.info()"
      ]
    },
    {
      "cell_type": "markdown",
      "metadata": {
        "id": "zcXovPYkMHhX"
      },
      "source": [
        "Опять ни одного пропуска, тип столбца с датой - object, в остальном все смотрится нормально."
      ]
    },
    {
      "cell_type": "code",
      "execution_count": null,
      "metadata": {
        "id": "gJopCq46MHhY",
        "outputId": "ec2cbd55-1df1-4366-a6ca-3f5e40bb1009"
      },
      "outputs": [
        {
          "data": {
            "text/html": [
              "<div>\n",
              "<style scoped>\n",
              "    .dataframe tbody tr th:only-of-type {\n",
              "        vertical-align: middle;\n",
              "    }\n",
              "\n",
              "    .dataframe tbody tr th {\n",
              "        vertical-align: top;\n",
              "    }\n",
              "\n",
              "    .dataframe thead th {\n",
              "        text-align: right;\n",
              "    }\n",
              "</style>\n",
              "<table border=\"1\" class=\"dataframe\">\n",
              "  <thead>\n",
              "    <tr style=\"text-align: right;\">\n",
              "      <th></th>\n",
              "      <th>Unnamed: 0</th>\n",
              "      <th>id</th>\n",
              "      <th>mb_used</th>\n",
              "      <th>session_date</th>\n",
              "      <th>user_id</th>\n",
              "    </tr>\n",
              "  </thead>\n",
              "  <tbody>\n",
              "    <tr>\n",
              "      <td>0</td>\n",
              "      <td>0</td>\n",
              "      <td>1000_0</td>\n",
              "      <td>112.95</td>\n",
              "      <td>2018-11-25</td>\n",
              "      <td>1000</td>\n",
              "    </tr>\n",
              "    <tr>\n",
              "      <td>1</td>\n",
              "      <td>1</td>\n",
              "      <td>1000_1</td>\n",
              "      <td>1052.81</td>\n",
              "      <td>2018-09-07</td>\n",
              "      <td>1000</td>\n",
              "    </tr>\n",
              "    <tr>\n",
              "      <td>2</td>\n",
              "      <td>2</td>\n",
              "      <td>1000_2</td>\n",
              "      <td>1197.26</td>\n",
              "      <td>2018-06-25</td>\n",
              "      <td>1000</td>\n",
              "    </tr>\n",
              "    <tr>\n",
              "      <td>3</td>\n",
              "      <td>3</td>\n",
              "      <td>1000_3</td>\n",
              "      <td>550.27</td>\n",
              "      <td>2018-08-22</td>\n",
              "      <td>1000</td>\n",
              "    </tr>\n",
              "    <tr>\n",
              "      <td>4</td>\n",
              "      <td>4</td>\n",
              "      <td>1000_4</td>\n",
              "      <td>302.56</td>\n",
              "      <td>2018-09-24</td>\n",
              "      <td>1000</td>\n",
              "    </tr>\n",
              "    <tr>\n",
              "      <td>5</td>\n",
              "      <td>5</td>\n",
              "      <td>1000_5</td>\n",
              "      <td>399.97</td>\n",
              "      <td>2018-10-02</td>\n",
              "      <td>1000</td>\n",
              "    </tr>\n",
              "    <tr>\n",
              "      <td>6</td>\n",
              "      <td>6</td>\n",
              "      <td>1000_6</td>\n",
              "      <td>540.08</td>\n",
              "      <td>2018-09-07</td>\n",
              "      <td>1000</td>\n",
              "    </tr>\n",
              "    <tr>\n",
              "      <td>7</td>\n",
              "      <td>7</td>\n",
              "      <td>1000_7</td>\n",
              "      <td>415.70</td>\n",
              "      <td>2018-07-11</td>\n",
              "      <td>1000</td>\n",
              "    </tr>\n",
              "    <tr>\n",
              "      <td>8</td>\n",
              "      <td>8</td>\n",
              "      <td>1000_8</td>\n",
              "      <td>505.40</td>\n",
              "      <td>2018-10-08</td>\n",
              "      <td>1000</td>\n",
              "    </tr>\n",
              "    <tr>\n",
              "      <td>9</td>\n",
              "      <td>9</td>\n",
              "      <td>1000_9</td>\n",
              "      <td>345.54</td>\n",
              "      <td>2018-09-03</td>\n",
              "      <td>1000</td>\n",
              "    </tr>\n",
              "  </tbody>\n",
              "</table>\n",
              "</div>"
            ],
            "text/plain": [
              "   Unnamed: 0      id  mb_used session_date  user_id\n",
              "0           0  1000_0   112.95   2018-11-25     1000\n",
              "1           1  1000_1  1052.81   2018-09-07     1000\n",
              "2           2  1000_2  1197.26   2018-06-25     1000\n",
              "3           3  1000_3   550.27   2018-08-22     1000\n",
              "4           4  1000_4   302.56   2018-09-24     1000\n",
              "5           5  1000_5   399.97   2018-10-02     1000\n",
              "6           6  1000_6   540.08   2018-09-07     1000\n",
              "7           7  1000_7   415.70   2018-07-11     1000\n",
              "8           8  1000_8   505.40   2018-10-08     1000\n",
              "9           9  1000_9   345.54   2018-09-03     1000"
            ]
          },
          "metadata": {},
          "output_type": "display_data"
        },
        {
          "name": "stdout",
          "output_type": "stream",
          "text": [
            "<class 'pandas.core.frame.DataFrame'>\n",
            "RangeIndex: 149396 entries, 0 to 149395\n",
            "Data columns (total 5 columns):\n",
            "Unnamed: 0      149396 non-null int64\n",
            "id              149396 non-null object\n",
            "mb_used         149396 non-null float64\n",
            "session_date    149396 non-null datetime64[ns]\n",
            "user_id         149396 non-null int64\n",
            "dtypes: datetime64[ns](1), float64(1), int64(2), object(1)\n",
            "memory usage: 5.7+ MB\n"
          ]
        }
      ],
      "source": [
        "internet = pd.read_csv('/datasets/internet.csv', parse_dates=['session_date'])\n",
        "display(internet.head(10))\n",
        "internet.info()"
      ]
    },
    {
      "cell_type": "markdown",
      "metadata": {
        "id": "nfF4MvWmMHhZ"
      },
      "source": [
        "И этот датафрейм похож на предыдущие. Также надо учесть, что здесь использование мобильного интернета измеряется в Мб."
      ]
    },
    {
      "cell_type": "markdown",
      "metadata": {
        "id": "ZhhMw10TMHhZ"
      },
      "source": [
        "В целом, данные выглядят неплохо - почти нет пропусков, типы данных также почти везде приведены правильные. Осталось их немного подготовить к дальнейшим расчетам."
      ]
    },
    {
      "cell_type": "code",
      "execution_count": null,
      "metadata": {
        "id": "wdEGrvleMHhd",
        "outputId": "582c4b65-ff70-4298-cbc3-edc139320e9c"
      },
      "outputs": [
        {
          "name": "stdout",
          "output_type": "stream",
          "text": [
            "0\n",
            "0\n",
            "0\n",
            "0\n",
            "0\n"
          ]
        }
      ],
      "source": [
        "df_list = [tariffs, users, calls, messages, internet]\n",
        "for i in df_list:\n",
        "    print(i.duplicated().sum())"
      ]
    },
    {
      "cell_type": "markdown",
      "metadata": {
        "id": "HmruogP2MHhe"
      },
      "source": [
        "Дубликатов нет, можно приступать к подготовке данных."
      ]
    },
    {
      "cell_type": "markdown",
      "metadata": {
        "id": "AcIXi2nkMHhe"
      },
      "source": [
        "## Подготовка данных"
      ]
    },
    {
      "cell_type": "markdown",
      "metadata": {
        "id": "GLH1dxS1MHhf"
      },
      "source": [
        "### Users"
      ]
    },
    {
      "cell_type": "markdown",
      "metadata": {
        "id": "tCKxf8jTMHhg"
      },
      "source": [
        "В датафрейме с информацией о пользователях есть пропуски в столбце с датой закрытия контракта. Проверим, какие вообще варианты дат есть, и увидим, что все они за 2018 год. Поэтому для удобства расчетов на всякий случай заменим пропуски на последний день этого года."
      ]
    },
    {
      "cell_type": "code",
      "execution_count": null,
      "metadata": {
        "id": "uqPQlLj_MHhg",
        "outputId": "52080dc1-9c7d-484b-a62b-84c452296b99"
      },
      "outputs": [
        {
          "data": {
            "text/plain": [
              "array([nan, '2018-10-05', '2018-12-18', '2018-11-21', '2018-10-03',\n",
              "       '2018-10-14', '2018-12-09', '2018-12-11', '2018-12-26',\n",
              "       '2018-08-31', '2018-12-03', '2018-12-23', '2018-11-07',\n",
              "       '2018-12-16', '2018-12-20', '2018-11-30', '2018-12-21',\n",
              "       '2018-08-17', '2018-09-02', '2018-10-04', '2018-11-13',\n",
              "       '2018-11-22', '2018-10-28', '2018-11-26', '2018-11-27',\n",
              "       '2018-11-16', '2018-10-27', '2018-12-30', '2018-09-27',\n",
              "       '2018-12-25', '2018-12-14', '2018-12-24', '2018-09-26',\n",
              "       '2018-10-25'], dtype=object)"
            ]
          },
          "execution_count": 8,
          "metadata": {},
          "output_type": "execute_result"
        }
      ],
      "source": [
        "users['churn_date'].unique()"
      ]
    },
    {
      "cell_type": "code",
      "execution_count": null,
      "metadata": {
        "id": "slAVIHDHMHhh"
      },
      "outputs": [],
      "source": [
        "users['churn_date'] = users['churn_date'].fillna('2018-12-31')"
      ]
    },
    {
      "cell_type": "markdown",
      "metadata": {
        "id": "6lSLFNUXMHhi"
      },
      "source": [
        "Из задания видно, что для дальнейших расчетов нам не нужны будут все данные о пользователях, достаточно будет всего трех столбцов. Выделим их в отдельную таблицу, чтобы использовать позднее."
      ]
    },
    {
      "cell_type": "code",
      "execution_count": null,
      "metadata": {
        "id": "Q-gaVl-WMHhk"
      },
      "outputs": [],
      "source": [
        "users_info = users[['user_id', 'tariff', 'city']]"
      ]
    },
    {
      "cell_type": "code",
      "execution_count": null,
      "metadata": {
        "id": "jIrc2E_nMHhk",
        "outputId": "602b71d2-4e21-4e47-aefd-004b2a733eec"
      },
      "outputs": [
        {
          "data": {
            "text/html": [
              "<div>\n",
              "<style scoped>\n",
              "    .dataframe tbody tr th:only-of-type {\n",
              "        vertical-align: middle;\n",
              "    }\n",
              "\n",
              "    .dataframe tbody tr th {\n",
              "        vertical-align: top;\n",
              "    }\n",
              "\n",
              "    .dataframe thead th {\n",
              "        text-align: right;\n",
              "    }\n",
              "</style>\n",
              "<table border=\"1\" class=\"dataframe\">\n",
              "  <thead>\n",
              "    <tr style=\"text-align: right;\">\n",
              "      <th></th>\n",
              "      <th>user_id</th>\n",
              "      <th>tariff</th>\n",
              "      <th>city</th>\n",
              "    </tr>\n",
              "  </thead>\n",
              "  <tbody>\n",
              "    <tr>\n",
              "      <td>0</td>\n",
              "      <td>1000</td>\n",
              "      <td>ultra</td>\n",
              "      <td>Краснодар</td>\n",
              "    </tr>\n",
              "    <tr>\n",
              "      <td>1</td>\n",
              "      <td>1001</td>\n",
              "      <td>smart</td>\n",
              "      <td>Москва</td>\n",
              "    </tr>\n",
              "    <tr>\n",
              "      <td>2</td>\n",
              "      <td>1002</td>\n",
              "      <td>smart</td>\n",
              "      <td>Стерлитамак</td>\n",
              "    </tr>\n",
              "    <tr>\n",
              "      <td>3</td>\n",
              "      <td>1003</td>\n",
              "      <td>ultra</td>\n",
              "      <td>Москва</td>\n",
              "    </tr>\n",
              "    <tr>\n",
              "      <td>4</td>\n",
              "      <td>1004</td>\n",
              "      <td>ultra</td>\n",
              "      <td>Новокузнецк</td>\n",
              "    </tr>\n",
              "  </tbody>\n",
              "</table>\n",
              "</div>"
            ],
            "text/plain": [
              "   user_id tariff         city\n",
              "0     1000  ultra    Краснодар\n",
              "1     1001  smart       Москва\n",
              "2     1002  smart  Стерлитамак\n",
              "3     1003  ultra       Москва\n",
              "4     1004  ultra  Новокузнецк"
            ]
          },
          "metadata": {},
          "output_type": "display_data"
        }
      ],
      "source": [
        "display(users_info.head(5))"
      ]
    },
    {
      "cell_type": "markdown",
      "metadata": {
        "id": "1JAQ4gMuMHhm"
      },
      "source": [
        "### Calls"
      ]
    },
    {
      "cell_type": "markdown",
      "metadata": {
        "id": "1GKGsM3PMHhn"
      },
      "source": [
        "Для расчетов нам не нужны будут точные даты, достаточно месяца. Приведем дату к нужному типу данных и выделим месяц в отдельный столбец. "
      ]
    },
    {
      "cell_type": "code",
      "execution_count": null,
      "metadata": {
        "id": "v6akAf6VMHhn"
      },
      "outputs": [],
      "source": [
        "calls['month'] = pd.to_datetime(calls['call_date']).dt.month"
      ]
    },
    {
      "cell_type": "markdown",
      "metadata": {
        "id": "MiTCxi-TMHho"
      },
      "source": [
        "По условиям компании все звонки тарифицируются поминутно, округлим их длительность в большую сторону."
      ]
    },
    {
      "cell_type": "code",
      "execution_count": null,
      "metadata": {
        "id": "8YEd18tMMHhr"
      },
      "outputs": [],
      "source": [
        "calls['duration'] = math.ceil(calls['duration'])"
      ]
    },
    {
      "cell_type": "code",
      "execution_count": null,
      "metadata": {
        "id": "8Vi3omvlMHhr",
        "outputId": "c003caa1-7d05-4f7e-a358-b3a2e8eda14d"
      },
      "outputs": [
        {
          "data": {
            "text/html": [
              "<div>\n",
              "<style scoped>\n",
              "    .dataframe tbody tr th:only-of-type {\n",
              "        vertical-align: middle;\n",
              "    }\n",
              "\n",
              "    .dataframe tbody tr th {\n",
              "        vertical-align: top;\n",
              "    }\n",
              "\n",
              "    .dataframe thead th {\n",
              "        text-align: right;\n",
              "    }\n",
              "</style>\n",
              "<table border=\"1\" class=\"dataframe\">\n",
              "  <thead>\n",
              "    <tr style=\"text-align: right;\">\n",
              "      <th></th>\n",
              "      <th>id</th>\n",
              "      <th>call_date</th>\n",
              "      <th>duration</th>\n",
              "      <th>user_id</th>\n",
              "      <th>month</th>\n",
              "    </tr>\n",
              "  </thead>\n",
              "  <tbody>\n",
              "    <tr>\n",
              "      <td>0</td>\n",
              "      <td>1000_0</td>\n",
              "      <td>2018-07-25</td>\n",
              "      <td>0.0</td>\n",
              "      <td>1000</td>\n",
              "      <td>7</td>\n",
              "    </tr>\n",
              "    <tr>\n",
              "      <td>1</td>\n",
              "      <td>1000_1</td>\n",
              "      <td>2018-08-17</td>\n",
              "      <td>0.0</td>\n",
              "      <td>1000</td>\n",
              "      <td>8</td>\n",
              "    </tr>\n",
              "    <tr>\n",
              "      <td>2</td>\n",
              "      <td>1000_2</td>\n",
              "      <td>2018-06-11</td>\n",
              "      <td>3.0</td>\n",
              "      <td>1000</td>\n",
              "      <td>6</td>\n",
              "    </tr>\n",
              "    <tr>\n",
              "      <td>3</td>\n",
              "      <td>1000_3</td>\n",
              "      <td>2018-09-21</td>\n",
              "      <td>14.0</td>\n",
              "      <td>1000</td>\n",
              "      <td>9</td>\n",
              "    </tr>\n",
              "    <tr>\n",
              "      <td>4</td>\n",
              "      <td>1000_4</td>\n",
              "      <td>2018-12-15</td>\n",
              "      <td>6.0</td>\n",
              "      <td>1000</td>\n",
              "      <td>12</td>\n",
              "    </tr>\n",
              "    <tr>\n",
              "      <td>5</td>\n",
              "      <td>1000_5</td>\n",
              "      <td>2018-11-02</td>\n",
              "      <td>0.0</td>\n",
              "      <td>1000</td>\n",
              "      <td>11</td>\n",
              "    </tr>\n",
              "    <tr>\n",
              "      <td>6</td>\n",
              "      <td>1000_6</td>\n",
              "      <td>2018-10-18</td>\n",
              "      <td>0.0</td>\n",
              "      <td>1000</td>\n",
              "      <td>10</td>\n",
              "    </tr>\n",
              "    <tr>\n",
              "      <td>7</td>\n",
              "      <td>1000_7</td>\n",
              "      <td>2018-08-22</td>\n",
              "      <td>19.0</td>\n",
              "      <td>1000</td>\n",
              "      <td>8</td>\n",
              "    </tr>\n",
              "    <tr>\n",
              "      <td>8</td>\n",
              "      <td>1000_8</td>\n",
              "      <td>2018-09-15</td>\n",
              "      <td>19.0</td>\n",
              "      <td>1000</td>\n",
              "      <td>9</td>\n",
              "    </tr>\n",
              "    <tr>\n",
              "      <td>9</td>\n",
              "      <td>1000_9</td>\n",
              "      <td>2018-08-15</td>\n",
              "      <td>0.0</td>\n",
              "      <td>1000</td>\n",
              "      <td>8</td>\n",
              "    </tr>\n",
              "  </tbody>\n",
              "</table>\n",
              "</div>"
            ],
            "text/plain": [
              "       id  call_date  duration  user_id  month\n",
              "0  1000_0 2018-07-25       0.0     1000      7\n",
              "1  1000_1 2018-08-17       0.0     1000      8\n",
              "2  1000_2 2018-06-11       3.0     1000      6\n",
              "3  1000_3 2018-09-21      14.0     1000      9\n",
              "4  1000_4 2018-12-15       6.0     1000     12\n",
              "5  1000_5 2018-11-02       0.0     1000     11\n",
              "6  1000_6 2018-10-18       0.0     1000     10\n",
              "7  1000_7 2018-08-22      19.0     1000      8\n",
              "8  1000_8 2018-09-15      19.0     1000      9\n",
              "9  1000_9 2018-08-15       0.0     1000      8"
            ]
          },
          "metadata": {},
          "output_type": "display_data"
        }
      ],
      "source": [
        "display(calls.head(10))"
      ]
    },
    {
      "cell_type": "markdown",
      "metadata": {
        "id": "cwZ7GsYZMHhr"
      },
      "source": [
        "Чтобы узнать стоимость платежа, нужно посчитать общую продолжительность разговоров в месяц, также для статистики посмотрим и количество звонков. Выделим данные, которые нам понадобятся для дальнейшей работы, а также переименуем столбцы в получившемся датафрейме."
      ]
    },
    {
      "cell_type": "code",
      "execution_count": null,
      "metadata": {
        "id": "wWIi3Nx0MHhs"
      },
      "outputs": [],
      "source": [
        "calls = calls.groupby(['user_id', 'month']).agg({'duration': ['sum', 'count']}).reset_index()"
      ]
    },
    {
      "cell_type": "code",
      "execution_count": null,
      "metadata": {
        "id": "bWkfzxYTMHht"
      },
      "outputs": [],
      "source": [
        "calls.columns = ['user_id', 'month', 'call_time', 'calls_total']"
      ]
    },
    {
      "cell_type": "code",
      "execution_count": null,
      "metadata": {
        "id": "NDsCwPQWMHhu",
        "outputId": "590c985c-b9ec-4902-93ee-f52ca58bb896"
      },
      "outputs": [
        {
          "data": {
            "text/html": [
              "<div>\n",
              "<style scoped>\n",
              "    .dataframe tbody tr th:only-of-type {\n",
              "        vertical-align: middle;\n",
              "    }\n",
              "\n",
              "    .dataframe tbody tr th {\n",
              "        vertical-align: top;\n",
              "    }\n",
              "\n",
              "    .dataframe thead th {\n",
              "        text-align: right;\n",
              "    }\n",
              "</style>\n",
              "<table border=\"1\" class=\"dataframe\">\n",
              "  <thead>\n",
              "    <tr style=\"text-align: right;\">\n",
              "      <th></th>\n",
              "      <th>user_id</th>\n",
              "      <th>month</th>\n",
              "      <th>call_time</th>\n",
              "      <th>calls_total</th>\n",
              "    </tr>\n",
              "  </thead>\n",
              "  <tbody>\n",
              "    <tr>\n",
              "      <td>0</td>\n",
              "      <td>1000</td>\n",
              "      <td>5</td>\n",
              "      <td>159.0</td>\n",
              "      <td>22</td>\n",
              "    </tr>\n",
              "    <tr>\n",
              "      <td>1</td>\n",
              "      <td>1000</td>\n",
              "      <td>6</td>\n",
              "      <td>172.0</td>\n",
              "      <td>43</td>\n",
              "    </tr>\n",
              "    <tr>\n",
              "      <td>2</td>\n",
              "      <td>1000</td>\n",
              "      <td>7</td>\n",
              "      <td>340.0</td>\n",
              "      <td>47</td>\n",
              "    </tr>\n",
              "    <tr>\n",
              "      <td>3</td>\n",
              "      <td>1000</td>\n",
              "      <td>8</td>\n",
              "      <td>408.0</td>\n",
              "      <td>52</td>\n",
              "    </tr>\n",
              "    <tr>\n",
              "      <td>4</td>\n",
              "      <td>1000</td>\n",
              "      <td>9</td>\n",
              "      <td>466.0</td>\n",
              "      <td>58</td>\n",
              "    </tr>\n",
              "    <tr>\n",
              "      <td>...</td>\n",
              "      <td>...</td>\n",
              "      <td>...</td>\n",
              "      <td>...</td>\n",
              "      <td>...</td>\n",
              "    </tr>\n",
              "    <tr>\n",
              "      <td>3169</td>\n",
              "      <td>1498</td>\n",
              "      <td>10</td>\n",
              "      <td>247.0</td>\n",
              "      <td>41</td>\n",
              "    </tr>\n",
              "    <tr>\n",
              "      <td>3170</td>\n",
              "      <td>1499</td>\n",
              "      <td>9</td>\n",
              "      <td>70.0</td>\n",
              "      <td>9</td>\n",
              "    </tr>\n",
              "    <tr>\n",
              "      <td>3171</td>\n",
              "      <td>1499</td>\n",
              "      <td>10</td>\n",
              "      <td>449.0</td>\n",
              "      <td>68</td>\n",
              "    </tr>\n",
              "    <tr>\n",
              "      <td>3172</td>\n",
              "      <td>1499</td>\n",
              "      <td>11</td>\n",
              "      <td>612.0</td>\n",
              "      <td>74</td>\n",
              "    </tr>\n",
              "    <tr>\n",
              "      <td>3173</td>\n",
              "      <td>1499</td>\n",
              "      <td>12</td>\n",
              "      <td>492.0</td>\n",
              "      <td>69</td>\n",
              "    </tr>\n",
              "  </tbody>\n",
              "</table>\n",
              "<p>3174 rows × 4 columns</p>\n",
              "</div>"
            ],
            "text/plain": [
              "      user_id  month  call_time  calls_total\n",
              "0        1000      5      159.0           22\n",
              "1        1000      6      172.0           43\n",
              "2        1000      7      340.0           47\n",
              "3        1000      8      408.0           52\n",
              "4        1000      9      466.0           58\n",
              "...       ...    ...        ...          ...\n",
              "3169     1498     10      247.0           41\n",
              "3170     1499      9       70.0            9\n",
              "3171     1499     10      449.0           68\n",
              "3172     1499     11      612.0           74\n",
              "3173     1499     12      492.0           69\n",
              "\n",
              "[3174 rows x 4 columns]"
            ]
          },
          "metadata": {},
          "output_type": "display_data"
        }
      ],
      "source": [
        "display(calls)"
      ]
    },
    {
      "cell_type": "markdown",
      "metadata": {
        "id": "DP4ueuL8MHhw"
      },
      "source": [
        "### Messages"
      ]
    },
    {
      "cell_type": "markdown",
      "metadata": {
        "id": "1Zzc5JsIMHhw"
      },
      "source": [
        "По подобию изменим и таблицу по сообщениям: выделим месяц в отдельный столбец, а затем посчитаем общее число сообщений. Оставим в таблице только нужные нам данные."
      ]
    },
    {
      "cell_type": "code",
      "execution_count": null,
      "metadata": {
        "id": "0IfOmqB-MHhx"
      },
      "outputs": [],
      "source": [
        "messages['month'] = messages['message_date'].dt.month"
      ]
    },
    {
      "cell_type": "code",
      "execution_count": null,
      "metadata": {
        "id": "xoFwZ7pBMHhx"
      },
      "outputs": [],
      "source": [
        "messages = messages.groupby(['user_id', 'month']).agg({'message_date': 'count'}).reset_index()"
      ]
    },
    {
      "cell_type": "code",
      "execution_count": null,
      "metadata": {
        "id": "XrfXkT31MHhy"
      },
      "outputs": [],
      "source": [
        "messages.columns = ['user_id', 'month', 'messages_total']"
      ]
    },
    {
      "cell_type": "code",
      "execution_count": null,
      "metadata": {
        "id": "iP423sEgMHhy",
        "outputId": "5d2df3cf-5b24-4c56-a396-5561fa54a795"
      },
      "outputs": [
        {
          "data": {
            "text/html": [
              "<div>\n",
              "<style scoped>\n",
              "    .dataframe tbody tr th:only-of-type {\n",
              "        vertical-align: middle;\n",
              "    }\n",
              "\n",
              "    .dataframe tbody tr th {\n",
              "        vertical-align: top;\n",
              "    }\n",
              "\n",
              "    .dataframe thead th {\n",
              "        text-align: right;\n",
              "    }\n",
              "</style>\n",
              "<table border=\"1\" class=\"dataframe\">\n",
              "  <thead>\n",
              "    <tr style=\"text-align: right;\">\n",
              "      <th></th>\n",
              "      <th>user_id</th>\n",
              "      <th>month</th>\n",
              "      <th>messages_total</th>\n",
              "    </tr>\n",
              "  </thead>\n",
              "  <tbody>\n",
              "    <tr>\n",
              "      <td>0</td>\n",
              "      <td>1000</td>\n",
              "      <td>5</td>\n",
              "      <td>22</td>\n",
              "    </tr>\n",
              "    <tr>\n",
              "      <td>1</td>\n",
              "      <td>1000</td>\n",
              "      <td>6</td>\n",
              "      <td>60</td>\n",
              "    </tr>\n",
              "    <tr>\n",
              "      <td>2</td>\n",
              "      <td>1000</td>\n",
              "      <td>7</td>\n",
              "      <td>75</td>\n",
              "    </tr>\n",
              "    <tr>\n",
              "      <td>3</td>\n",
              "      <td>1000</td>\n",
              "      <td>8</td>\n",
              "      <td>81</td>\n",
              "    </tr>\n",
              "    <tr>\n",
              "      <td>4</td>\n",
              "      <td>1000</td>\n",
              "      <td>9</td>\n",
              "      <td>57</td>\n",
              "    </tr>\n",
              "    <tr>\n",
              "      <td>5</td>\n",
              "      <td>1000</td>\n",
              "      <td>10</td>\n",
              "      <td>73</td>\n",
              "    </tr>\n",
              "    <tr>\n",
              "      <td>6</td>\n",
              "      <td>1000</td>\n",
              "      <td>11</td>\n",
              "      <td>58</td>\n",
              "    </tr>\n",
              "    <tr>\n",
              "      <td>7</td>\n",
              "      <td>1000</td>\n",
              "      <td>12</td>\n",
              "      <td>70</td>\n",
              "    </tr>\n",
              "    <tr>\n",
              "      <td>8</td>\n",
              "      <td>1002</td>\n",
              "      <td>6</td>\n",
              "      <td>4</td>\n",
              "    </tr>\n",
              "    <tr>\n",
              "      <td>9</td>\n",
              "      <td>1002</td>\n",
              "      <td>7</td>\n",
              "      <td>11</td>\n",
              "    </tr>\n",
              "  </tbody>\n",
              "</table>\n",
              "</div>"
            ],
            "text/plain": [
              "   user_id  month  messages_total\n",
              "0     1000      5              22\n",
              "1     1000      6              60\n",
              "2     1000      7              75\n",
              "3     1000      8              81\n",
              "4     1000      9              57\n",
              "5     1000     10              73\n",
              "6     1000     11              58\n",
              "7     1000     12              70\n",
              "8     1002      6               4\n",
              "9     1002      7              11"
            ]
          },
          "metadata": {},
          "output_type": "display_data"
        }
      ],
      "source": [
        "display(messages.head(10))"
      ]
    },
    {
      "cell_type": "markdown",
      "metadata": {
        "id": "i1oqP3O7MHh0"
      },
      "source": [
        "### Internet"
      ]
    },
    {
      "cell_type": "markdown",
      "metadata": {
        "id": "WIRLb4fNMHh0"
      },
      "source": [
        "Проделаем ту же работу и с данными по использованию интернета. Для подсчета платежа абонента посчитаем сначала общую сумму использованных мегабайт за месяц, затем переведем Мб в Гб и округлим в бОльшую сторону."
      ]
    },
    {
      "cell_type": "code",
      "execution_count": null,
      "metadata": {
        "id": "YavmDLCmMHh1"
      },
      "outputs": [],
      "source": [
        "internet['month'] = internet['session_date'].dt.month"
      ]
    },
    {
      "cell_type": "code",
      "execution_count": null,
      "metadata": {
        "id": "QJda-vRWMHh1"
      },
      "outputs": [],
      "source": [
        "internet = internet.groupby(['user_id', 'month']).agg({'mb_used': 'sum'}).reset_index()"
      ]
    },
    {
      "cell_type": "code",
      "execution_count": null,
      "metadata": {
        "id": "1PJ6RuvAMHh3"
      },
      "outputs": [],
      "source": [
        "mb_in_gb = 1024"
      ]
    },
    {
      "cell_type": "code",
      "execution_count": null,
      "metadata": {
        "id": "6U3Q27-DMHh3"
      },
      "outputs": [],
      "source": [
        "internet['mb_used'] = internet['mb_used'] / mb_in_gb"
      ]
    },
    {
      "cell_type": "code",
      "execution_count": null,
      "metadata": {
        "id": "DDVu4SVdMHh4"
      },
      "outputs": [],
      "source": [
        "internet.columns = ['user_id', 'month', 'gb_used']"
      ]
    },
    {
      "cell_type": "code",
      "execution_count": null,
      "metadata": {
        "id": "qrdoRfuUMHh5",
        "outputId": "ff744975-825b-44fe-82ce-bbd66e0e0a7a"
      },
      "outputs": [
        {
          "data": {
            "text/html": [
              "<div>\n",
              "<style scoped>\n",
              "    .dataframe tbody tr th:only-of-type {\n",
              "        vertical-align: middle;\n",
              "    }\n",
              "\n",
              "    .dataframe tbody tr th {\n",
              "        vertical-align: top;\n",
              "    }\n",
              "\n",
              "    .dataframe thead th {\n",
              "        text-align: right;\n",
              "    }\n",
              "</style>\n",
              "<table border=\"1\" class=\"dataframe\">\n",
              "  <thead>\n",
              "    <tr style=\"text-align: right;\">\n",
              "      <th></th>\n",
              "      <th>user_id</th>\n",
              "      <th>month</th>\n",
              "      <th>gb_used</th>\n",
              "    </tr>\n",
              "  </thead>\n",
              "  <tbody>\n",
              "    <tr>\n",
              "      <td>0</td>\n",
              "      <td>1000</td>\n",
              "      <td>5</td>\n",
              "      <td>2.200674</td>\n",
              "    </tr>\n",
              "    <tr>\n",
              "      <td>1</td>\n",
              "      <td>1000</td>\n",
              "      <td>6</td>\n",
              "      <td>22.689229</td>\n",
              "    </tr>\n",
              "    <tr>\n",
              "      <td>2</td>\n",
              "      <td>1000</td>\n",
              "      <td>7</td>\n",
              "      <td>13.675430</td>\n",
              "    </tr>\n",
              "    <tr>\n",
              "      <td>3</td>\n",
              "      <td>1000</td>\n",
              "      <td>8</td>\n",
              "      <td>13.726494</td>\n",
              "    </tr>\n",
              "    <tr>\n",
              "      <td>4</td>\n",
              "      <td>1000</td>\n",
              "      <td>9</td>\n",
              "      <td>14.227451</td>\n",
              "    </tr>\n",
              "  </tbody>\n",
              "</table>\n",
              "</div>"
            ],
            "text/plain": [
              "   user_id  month    gb_used\n",
              "0     1000      5   2.200674\n",
              "1     1000      6  22.689229\n",
              "2     1000      7  13.675430\n",
              "3     1000      8  13.726494\n",
              "4     1000      9  14.227451"
            ]
          },
          "metadata": {},
          "output_type": "display_data"
        }
      ],
      "source": [
        "display(internet.head(5))"
      ]
    },
    {
      "cell_type": "code",
      "execution_count": null,
      "metadata": {
        "id": "Qg4cDn_LMHh5"
      },
      "outputs": [],
      "source": [
        "internet['gb_used'] = math.ceil(internet['gb_used'])"
      ]
    },
    {
      "cell_type": "code",
      "execution_count": null,
      "metadata": {
        "id": "ZLoWm7KPMHh6",
        "outputId": "f347d625-83e7-4947-bcd4-4e56762a344d"
      },
      "outputs": [
        {
          "data": {
            "text/html": [
              "<div>\n",
              "<style scoped>\n",
              "    .dataframe tbody tr th:only-of-type {\n",
              "        vertical-align: middle;\n",
              "    }\n",
              "\n",
              "    .dataframe tbody tr th {\n",
              "        vertical-align: top;\n",
              "    }\n",
              "\n",
              "    .dataframe thead th {\n",
              "        text-align: right;\n",
              "    }\n",
              "</style>\n",
              "<table border=\"1\" class=\"dataframe\">\n",
              "  <thead>\n",
              "    <tr style=\"text-align: right;\">\n",
              "      <th></th>\n",
              "      <th>user_id</th>\n",
              "      <th>month</th>\n",
              "      <th>gb_used</th>\n",
              "    </tr>\n",
              "  </thead>\n",
              "  <tbody>\n",
              "    <tr>\n",
              "      <td>0</td>\n",
              "      <td>1000</td>\n",
              "      <td>5</td>\n",
              "      <td>3.0</td>\n",
              "    </tr>\n",
              "    <tr>\n",
              "      <td>1</td>\n",
              "      <td>1000</td>\n",
              "      <td>6</td>\n",
              "      <td>23.0</td>\n",
              "    </tr>\n",
              "    <tr>\n",
              "      <td>2</td>\n",
              "      <td>1000</td>\n",
              "      <td>7</td>\n",
              "      <td>14.0</td>\n",
              "    </tr>\n",
              "    <tr>\n",
              "      <td>3</td>\n",
              "      <td>1000</td>\n",
              "      <td>8</td>\n",
              "      <td>14.0</td>\n",
              "    </tr>\n",
              "    <tr>\n",
              "      <td>4</td>\n",
              "      <td>1000</td>\n",
              "      <td>9</td>\n",
              "      <td>15.0</td>\n",
              "    </tr>\n",
              "  </tbody>\n",
              "</table>\n",
              "</div>"
            ],
            "text/plain": [
              "   user_id  month  gb_used\n",
              "0     1000      5      3.0\n",
              "1     1000      6     23.0\n",
              "2     1000      7     14.0\n",
              "3     1000      8     14.0\n",
              "4     1000      9     15.0"
            ]
          },
          "metadata": {},
          "output_type": "display_data"
        }
      ],
      "source": [
        "display(internet.head(5))"
      ]
    },
    {
      "cell_type": "markdown",
      "metadata": {
        "id": "kG8JhvdxMHh7"
      },
      "source": [
        "Мы вычислили, как использовали пользователи свои тарифные пакеты, теперь посчитаем выручку с каждого абонента. Для этого нужные данные объединим в одну таблицу."
      ]
    },
    {
      "cell_type": "code",
      "execution_count": null,
      "metadata": {
        "id": "bXdBOQ2ZMHh8"
      },
      "outputs": [],
      "source": [
        "new_data = calls.merge(messages, on=['user_id', 'month'],  how='outer' ) \\\n",
        "    .merge(internet, on=['user_id', 'month'], how='outer' ) \\\n",
        "    .merge(users_info, on=['user_id'], how='left' )"
      ]
    },
    {
      "cell_type": "code",
      "execution_count": null,
      "metadata": {
        "id": "wLcirQKQMHh-",
        "outputId": "ef581ffe-08eb-4732-9f15-19bab8be1250"
      },
      "outputs": [
        {
          "data": {
            "text/html": [
              "<div>\n",
              "<style scoped>\n",
              "    .dataframe tbody tr th:only-of-type {\n",
              "        vertical-align: middle;\n",
              "    }\n",
              "\n",
              "    .dataframe tbody tr th {\n",
              "        vertical-align: top;\n",
              "    }\n",
              "\n",
              "    .dataframe thead th {\n",
              "        text-align: right;\n",
              "    }\n",
              "</style>\n",
              "<table border=\"1\" class=\"dataframe\">\n",
              "  <thead>\n",
              "    <tr style=\"text-align: right;\">\n",
              "      <th></th>\n",
              "      <th>user_id</th>\n",
              "      <th>month</th>\n",
              "      <th>call_time</th>\n",
              "      <th>calls_total</th>\n",
              "      <th>messages_total</th>\n",
              "      <th>gb_used</th>\n",
              "      <th>tariff</th>\n",
              "      <th>city</th>\n",
              "    </tr>\n",
              "  </thead>\n",
              "  <tbody>\n",
              "    <tr>\n",
              "      <td>0</td>\n",
              "      <td>1000</td>\n",
              "      <td>5</td>\n",
              "      <td>159.0</td>\n",
              "      <td>22.0</td>\n",
              "      <td>22.0</td>\n",
              "      <td>3.0</td>\n",
              "      <td>ultra</td>\n",
              "      <td>Краснодар</td>\n",
              "    </tr>\n",
              "    <tr>\n",
              "      <td>1</td>\n",
              "      <td>1000</td>\n",
              "      <td>6</td>\n",
              "      <td>172.0</td>\n",
              "      <td>43.0</td>\n",
              "      <td>60.0</td>\n",
              "      <td>23.0</td>\n",
              "      <td>ultra</td>\n",
              "      <td>Краснодар</td>\n",
              "    </tr>\n",
              "    <tr>\n",
              "      <td>2</td>\n",
              "      <td>1000</td>\n",
              "      <td>7</td>\n",
              "      <td>340.0</td>\n",
              "      <td>47.0</td>\n",
              "      <td>75.0</td>\n",
              "      <td>14.0</td>\n",
              "      <td>ultra</td>\n",
              "      <td>Краснодар</td>\n",
              "    </tr>\n",
              "    <tr>\n",
              "      <td>3</td>\n",
              "      <td>1000</td>\n",
              "      <td>8</td>\n",
              "      <td>408.0</td>\n",
              "      <td>52.0</td>\n",
              "      <td>81.0</td>\n",
              "      <td>14.0</td>\n",
              "      <td>ultra</td>\n",
              "      <td>Краснодар</td>\n",
              "    </tr>\n",
              "    <tr>\n",
              "      <td>4</td>\n",
              "      <td>1000</td>\n",
              "      <td>9</td>\n",
              "      <td>466.0</td>\n",
              "      <td>58.0</td>\n",
              "      <td>57.0</td>\n",
              "      <td>15.0</td>\n",
              "      <td>ultra</td>\n",
              "      <td>Краснодар</td>\n",
              "    </tr>\n",
              "    <tr>\n",
              "      <td>5</td>\n",
              "      <td>1000</td>\n",
              "      <td>10</td>\n",
              "      <td>350.0</td>\n",
              "      <td>57.0</td>\n",
              "      <td>73.0</td>\n",
              "      <td>15.0</td>\n",
              "      <td>ultra</td>\n",
              "      <td>Краснодар</td>\n",
              "    </tr>\n",
              "    <tr>\n",
              "      <td>6</td>\n",
              "      <td>1000</td>\n",
              "      <td>11</td>\n",
              "      <td>338.0</td>\n",
              "      <td>43.0</td>\n",
              "      <td>58.0</td>\n",
              "      <td>15.0</td>\n",
              "      <td>ultra</td>\n",
              "      <td>Краснодар</td>\n",
              "    </tr>\n",
              "    <tr>\n",
              "      <td>7</td>\n",
              "      <td>1000</td>\n",
              "      <td>12</td>\n",
              "      <td>333.0</td>\n",
              "      <td>46.0</td>\n",
              "      <td>70.0</td>\n",
              "      <td>10.0</td>\n",
              "      <td>ultra</td>\n",
              "      <td>Краснодар</td>\n",
              "    </tr>\n",
              "    <tr>\n",
              "      <td>8</td>\n",
              "      <td>1001</td>\n",
              "      <td>11</td>\n",
              "      <td>430.0</td>\n",
              "      <td>59.0</td>\n",
              "      <td>NaN</td>\n",
              "      <td>18.0</td>\n",
              "      <td>smart</td>\n",
              "      <td>Москва</td>\n",
              "    </tr>\n",
              "    <tr>\n",
              "      <td>9</td>\n",
              "      <td>1001</td>\n",
              "      <td>12</td>\n",
              "      <td>414.0</td>\n",
              "      <td>63.0</td>\n",
              "      <td>NaN</td>\n",
              "      <td>14.0</td>\n",
              "      <td>smart</td>\n",
              "      <td>Москва</td>\n",
              "    </tr>\n",
              "  </tbody>\n",
              "</table>\n",
              "</div>"
            ],
            "text/plain": [
              "   user_id  month  call_time  calls_total  messages_total  gb_used tariff  \\\n",
              "0     1000      5      159.0         22.0            22.0      3.0  ultra   \n",
              "1     1000      6      172.0         43.0            60.0     23.0  ultra   \n",
              "2     1000      7      340.0         47.0            75.0     14.0  ultra   \n",
              "3     1000      8      408.0         52.0            81.0     14.0  ultra   \n",
              "4     1000      9      466.0         58.0            57.0     15.0  ultra   \n",
              "5     1000     10      350.0         57.0            73.0     15.0  ultra   \n",
              "6     1000     11      338.0         43.0            58.0     15.0  ultra   \n",
              "7     1000     12      333.0         46.0            70.0     10.0  ultra   \n",
              "8     1001     11      430.0         59.0             NaN     18.0  smart   \n",
              "9     1001     12      414.0         63.0             NaN     14.0  smart   \n",
              "\n",
              "        city  \n",
              "0  Краснодар  \n",
              "1  Краснодар  \n",
              "2  Краснодар  \n",
              "3  Краснодар  \n",
              "4  Краснодар  \n",
              "5  Краснодар  \n",
              "6  Краснодар  \n",
              "7  Краснодар  \n",
              "8     Москва  \n",
              "9     Москва  "
            ]
          },
          "metadata": {},
          "output_type": "display_data"
        }
      ],
      "source": [
        "display(new_data.head(10))"
      ]
    },
    {
      "cell_type": "code",
      "execution_count": null,
      "metadata": {
        "id": "8NqNSvcEMHh-",
        "outputId": "6db52bb9-c997-4a2b-e522-03253ed9cbfb"
      },
      "outputs": [
        {
          "name": "stdout",
          "output_type": "stream",
          "text": [
            "<class 'pandas.core.frame.DataFrame'>\n",
            "Int64Index: 3214 entries, 0 to 3213\n",
            "Data columns (total 8 columns):\n",
            "user_id           3214 non-null int64\n",
            "month             3214 non-null int64\n",
            "call_time         3174 non-null float64\n",
            "calls_total       3174 non-null float64\n",
            "messages_total    2717 non-null float64\n",
            "gb_used           3203 non-null float64\n",
            "tariff            3214 non-null object\n",
            "city              3214 non-null object\n",
            "dtypes: float64(4), int64(2), object(2)\n",
            "memory usage: 226.0+ KB\n"
          ]
        }
      ],
      "source": [
        "new_data.info()"
      ]
    },
    {
      "cell_type": "markdown",
      "metadata": {
        "id": "YGqLhRLhMHh_"
      },
      "source": [
        "Появились пропуски, так как не все пользователи используют весь пакет каждый месяц. Заменим пропуски нулями, а также поменяем тип данных."
      ]
    },
    {
      "cell_type": "code",
      "execution_count": null,
      "metadata": {
        "id": "Gd1jjoGZMHiA"
      },
      "outputs": [],
      "source": [
        "new_data = new_data.fillna(0)"
      ]
    },
    {
      "cell_type": "code",
      "execution_count": null,
      "metadata": {
        "id": "gz1zFSSJMHiA",
        "outputId": "5dc7de54-9fd0-4cd7-afad-cea7d30f52a2"
      },
      "outputs": [
        {
          "name": "stdout",
          "output_type": "stream",
          "text": [
            "<class 'pandas.core.frame.DataFrame'>\n",
            "Int64Index: 3214 entries, 0 to 3213\n",
            "Data columns (total 8 columns):\n",
            "user_id           3214 non-null int64\n",
            "month             3214 non-null int64\n",
            "call_time         3214 non-null float64\n",
            "calls_total       3214 non-null float64\n",
            "messages_total    3214 non-null float64\n",
            "gb_used           3214 non-null float64\n",
            "tariff            3214 non-null object\n",
            "city              3214 non-null object\n",
            "dtypes: float64(4), int64(2), object(2)\n",
            "memory usage: 226.0+ KB\n"
          ]
        }
      ],
      "source": [
        "new_data.info()"
      ]
    },
    {
      "cell_type": "code",
      "execution_count": null,
      "metadata": {
        "id": "Oy1OGvtdMHiB"
      },
      "outputs": [],
      "source": [
        "new_data.month = new_data.month.astype(int)\n",
        "new_data.calls_total = new_data.calls_total.astype(int)\n",
        "new_data.messages_total = new_data.messages_total.astype(int)"
      ]
    },
    {
      "cell_type": "code",
      "execution_count": null,
      "metadata": {
        "id": "hKR2OT0nMHiC",
        "outputId": "bfa8b521-c563-4863-9c5d-69eaf267d6ae"
      },
      "outputs": [
        {
          "data": {
            "text/html": [
              "<div>\n",
              "<style scoped>\n",
              "    .dataframe tbody tr th:only-of-type {\n",
              "        vertical-align: middle;\n",
              "    }\n",
              "\n",
              "    .dataframe tbody tr th {\n",
              "        vertical-align: top;\n",
              "    }\n",
              "\n",
              "    .dataframe thead th {\n",
              "        text-align: right;\n",
              "    }\n",
              "</style>\n",
              "<table border=\"1\" class=\"dataframe\">\n",
              "  <thead>\n",
              "    <tr style=\"text-align: right;\">\n",
              "      <th></th>\n",
              "      <th>user_id</th>\n",
              "      <th>month</th>\n",
              "      <th>call_time</th>\n",
              "      <th>calls_total</th>\n",
              "      <th>messages_total</th>\n",
              "      <th>gb_used</th>\n",
              "      <th>tariff</th>\n",
              "      <th>city</th>\n",
              "    </tr>\n",
              "  </thead>\n",
              "  <tbody>\n",
              "    <tr>\n",
              "      <td>0</td>\n",
              "      <td>1000</td>\n",
              "      <td>5</td>\n",
              "      <td>159.0</td>\n",
              "      <td>22</td>\n",
              "      <td>22</td>\n",
              "      <td>3.0</td>\n",
              "      <td>ultra</td>\n",
              "      <td>Краснодар</td>\n",
              "    </tr>\n",
              "    <tr>\n",
              "      <td>1</td>\n",
              "      <td>1000</td>\n",
              "      <td>6</td>\n",
              "      <td>172.0</td>\n",
              "      <td>43</td>\n",
              "      <td>60</td>\n",
              "      <td>23.0</td>\n",
              "      <td>ultra</td>\n",
              "      <td>Краснодар</td>\n",
              "    </tr>\n",
              "    <tr>\n",
              "      <td>2</td>\n",
              "      <td>1000</td>\n",
              "      <td>7</td>\n",
              "      <td>340.0</td>\n",
              "      <td>47</td>\n",
              "      <td>75</td>\n",
              "      <td>14.0</td>\n",
              "      <td>ultra</td>\n",
              "      <td>Краснодар</td>\n",
              "    </tr>\n",
              "    <tr>\n",
              "      <td>3</td>\n",
              "      <td>1000</td>\n",
              "      <td>8</td>\n",
              "      <td>408.0</td>\n",
              "      <td>52</td>\n",
              "      <td>81</td>\n",
              "      <td>14.0</td>\n",
              "      <td>ultra</td>\n",
              "      <td>Краснодар</td>\n",
              "    </tr>\n",
              "    <tr>\n",
              "      <td>4</td>\n",
              "      <td>1000</td>\n",
              "      <td>9</td>\n",
              "      <td>466.0</td>\n",
              "      <td>58</td>\n",
              "      <td>57</td>\n",
              "      <td>15.0</td>\n",
              "      <td>ultra</td>\n",
              "      <td>Краснодар</td>\n",
              "    </tr>\n",
              "  </tbody>\n",
              "</table>\n",
              "</div>"
            ],
            "text/plain": [
              "   user_id  month  call_time  calls_total  messages_total  gb_used tariff  \\\n",
              "0     1000      5      159.0           22              22      3.0  ultra   \n",
              "1     1000      6      172.0           43              60     23.0  ultra   \n",
              "2     1000      7      340.0           47              75     14.0  ultra   \n",
              "3     1000      8      408.0           52              81     14.0  ultra   \n",
              "4     1000      9      466.0           58              57     15.0  ultra   \n",
              "\n",
              "        city  \n",
              "0  Краснодар  \n",
              "1  Краснодар  \n",
              "2  Краснодар  \n",
              "3  Краснодар  \n",
              "4  Краснодар  "
            ]
          },
          "metadata": {},
          "output_type": "display_data"
        }
      ],
      "source": [
        "display(new_data.head(5))"
      ]
    },
    {
      "cell_type": "markdown",
      "metadata": {
        "id": "snYKobjRMHiC"
      },
      "source": [
        "Для подсчета платежа за месяц и выручки нам нужны данные из таблицы с условиями тарифа. Добавим в наш дата фрейм и эту таблицу."
      ]
    },
    {
      "cell_type": "code",
      "execution_count": null,
      "metadata": {
        "id": "o7WgUqo0MHiE"
      },
      "outputs": [],
      "source": [
        "data_tariff = new_data.merge(tariffs, left_on='tariff', right_on='tariff_name',  how='left' )"
      ]
    },
    {
      "cell_type": "code",
      "execution_count": null,
      "metadata": {
        "scrolled": true,
        "id": "kBhWRn0PMHiE",
        "outputId": "12574f38-f9da-4487-867b-7a8cd43d2b94"
      },
      "outputs": [
        {
          "data": {
            "text/html": [
              "<div>\n",
              "<style scoped>\n",
              "    .dataframe tbody tr th:only-of-type {\n",
              "        vertical-align: middle;\n",
              "    }\n",
              "\n",
              "    .dataframe tbody tr th {\n",
              "        vertical-align: top;\n",
              "    }\n",
              "\n",
              "    .dataframe thead th {\n",
              "        text-align: right;\n",
              "    }\n",
              "</style>\n",
              "<table border=\"1\" class=\"dataframe\">\n",
              "  <thead>\n",
              "    <tr style=\"text-align: right;\">\n",
              "      <th></th>\n",
              "      <th>user_id</th>\n",
              "      <th>month</th>\n",
              "      <th>call_time</th>\n",
              "      <th>calls_total</th>\n",
              "      <th>messages_total</th>\n",
              "      <th>gb_used</th>\n",
              "      <th>tariff</th>\n",
              "      <th>city</th>\n",
              "      <th>messages_included</th>\n",
              "      <th>mb_per_month_included</th>\n",
              "      <th>minutes_included</th>\n",
              "      <th>rub_monthly_fee</th>\n",
              "      <th>rub_per_gb</th>\n",
              "      <th>rub_per_message</th>\n",
              "      <th>rub_per_minute</th>\n",
              "      <th>tariff_name</th>\n",
              "    </tr>\n",
              "  </thead>\n",
              "  <tbody>\n",
              "    <tr>\n",
              "      <td>0</td>\n",
              "      <td>1000</td>\n",
              "      <td>5</td>\n",
              "      <td>159.0</td>\n",
              "      <td>22</td>\n",
              "      <td>22</td>\n",
              "      <td>3.0</td>\n",
              "      <td>ultra</td>\n",
              "      <td>Краснодар</td>\n",
              "      <td>1000</td>\n",
              "      <td>30720</td>\n",
              "      <td>3000</td>\n",
              "      <td>1950</td>\n",
              "      <td>150</td>\n",
              "      <td>1</td>\n",
              "      <td>1</td>\n",
              "      <td>ultra</td>\n",
              "    </tr>\n",
              "    <tr>\n",
              "      <td>1</td>\n",
              "      <td>1000</td>\n",
              "      <td>6</td>\n",
              "      <td>172.0</td>\n",
              "      <td>43</td>\n",
              "      <td>60</td>\n",
              "      <td>23.0</td>\n",
              "      <td>ultra</td>\n",
              "      <td>Краснодар</td>\n",
              "      <td>1000</td>\n",
              "      <td>30720</td>\n",
              "      <td>3000</td>\n",
              "      <td>1950</td>\n",
              "      <td>150</td>\n",
              "      <td>1</td>\n",
              "      <td>1</td>\n",
              "      <td>ultra</td>\n",
              "    </tr>\n",
              "    <tr>\n",
              "      <td>2</td>\n",
              "      <td>1000</td>\n",
              "      <td>7</td>\n",
              "      <td>340.0</td>\n",
              "      <td>47</td>\n",
              "      <td>75</td>\n",
              "      <td>14.0</td>\n",
              "      <td>ultra</td>\n",
              "      <td>Краснодар</td>\n",
              "      <td>1000</td>\n",
              "      <td>30720</td>\n",
              "      <td>3000</td>\n",
              "      <td>1950</td>\n",
              "      <td>150</td>\n",
              "      <td>1</td>\n",
              "      <td>1</td>\n",
              "      <td>ultra</td>\n",
              "    </tr>\n",
              "    <tr>\n",
              "      <td>3</td>\n",
              "      <td>1000</td>\n",
              "      <td>8</td>\n",
              "      <td>408.0</td>\n",
              "      <td>52</td>\n",
              "      <td>81</td>\n",
              "      <td>14.0</td>\n",
              "      <td>ultra</td>\n",
              "      <td>Краснодар</td>\n",
              "      <td>1000</td>\n",
              "      <td>30720</td>\n",
              "      <td>3000</td>\n",
              "      <td>1950</td>\n",
              "      <td>150</td>\n",
              "      <td>1</td>\n",
              "      <td>1</td>\n",
              "      <td>ultra</td>\n",
              "    </tr>\n",
              "    <tr>\n",
              "      <td>4</td>\n",
              "      <td>1000</td>\n",
              "      <td>9</td>\n",
              "      <td>466.0</td>\n",
              "      <td>58</td>\n",
              "      <td>57</td>\n",
              "      <td>15.0</td>\n",
              "      <td>ultra</td>\n",
              "      <td>Краснодар</td>\n",
              "      <td>1000</td>\n",
              "      <td>30720</td>\n",
              "      <td>3000</td>\n",
              "      <td>1950</td>\n",
              "      <td>150</td>\n",
              "      <td>1</td>\n",
              "      <td>1</td>\n",
              "      <td>ultra</td>\n",
              "    </tr>\n",
              "    <tr>\n",
              "      <td>5</td>\n",
              "      <td>1000</td>\n",
              "      <td>10</td>\n",
              "      <td>350.0</td>\n",
              "      <td>57</td>\n",
              "      <td>73</td>\n",
              "      <td>15.0</td>\n",
              "      <td>ultra</td>\n",
              "      <td>Краснодар</td>\n",
              "      <td>1000</td>\n",
              "      <td>30720</td>\n",
              "      <td>3000</td>\n",
              "      <td>1950</td>\n",
              "      <td>150</td>\n",
              "      <td>1</td>\n",
              "      <td>1</td>\n",
              "      <td>ultra</td>\n",
              "    </tr>\n",
              "    <tr>\n",
              "      <td>6</td>\n",
              "      <td>1000</td>\n",
              "      <td>11</td>\n",
              "      <td>338.0</td>\n",
              "      <td>43</td>\n",
              "      <td>58</td>\n",
              "      <td>15.0</td>\n",
              "      <td>ultra</td>\n",
              "      <td>Краснодар</td>\n",
              "      <td>1000</td>\n",
              "      <td>30720</td>\n",
              "      <td>3000</td>\n",
              "      <td>1950</td>\n",
              "      <td>150</td>\n",
              "      <td>1</td>\n",
              "      <td>1</td>\n",
              "      <td>ultra</td>\n",
              "    </tr>\n",
              "    <tr>\n",
              "      <td>7</td>\n",
              "      <td>1000</td>\n",
              "      <td>12</td>\n",
              "      <td>333.0</td>\n",
              "      <td>46</td>\n",
              "      <td>70</td>\n",
              "      <td>10.0</td>\n",
              "      <td>ultra</td>\n",
              "      <td>Краснодар</td>\n",
              "      <td>1000</td>\n",
              "      <td>30720</td>\n",
              "      <td>3000</td>\n",
              "      <td>1950</td>\n",
              "      <td>150</td>\n",
              "      <td>1</td>\n",
              "      <td>1</td>\n",
              "      <td>ultra</td>\n",
              "    </tr>\n",
              "    <tr>\n",
              "      <td>8</td>\n",
              "      <td>1001</td>\n",
              "      <td>11</td>\n",
              "      <td>430.0</td>\n",
              "      <td>59</td>\n",
              "      <td>0</td>\n",
              "      <td>18.0</td>\n",
              "      <td>smart</td>\n",
              "      <td>Москва</td>\n",
              "      <td>50</td>\n",
              "      <td>15360</td>\n",
              "      <td>500</td>\n",
              "      <td>550</td>\n",
              "      <td>200</td>\n",
              "      <td>3</td>\n",
              "      <td>3</td>\n",
              "      <td>smart</td>\n",
              "    </tr>\n",
              "    <tr>\n",
              "      <td>9</td>\n",
              "      <td>1001</td>\n",
              "      <td>12</td>\n",
              "      <td>414.0</td>\n",
              "      <td>63</td>\n",
              "      <td>0</td>\n",
              "      <td>14.0</td>\n",
              "      <td>smart</td>\n",
              "      <td>Москва</td>\n",
              "      <td>50</td>\n",
              "      <td>15360</td>\n",
              "      <td>500</td>\n",
              "      <td>550</td>\n",
              "      <td>200</td>\n",
              "      <td>3</td>\n",
              "      <td>3</td>\n",
              "      <td>smart</td>\n",
              "    </tr>\n",
              "  </tbody>\n",
              "</table>\n",
              "</div>"
            ],
            "text/plain": [
              "   user_id  month  call_time  calls_total  messages_total  gb_used tariff  \\\n",
              "0     1000      5      159.0           22              22      3.0  ultra   \n",
              "1     1000      6      172.0           43              60     23.0  ultra   \n",
              "2     1000      7      340.0           47              75     14.0  ultra   \n",
              "3     1000      8      408.0           52              81     14.0  ultra   \n",
              "4     1000      9      466.0           58              57     15.0  ultra   \n",
              "5     1000     10      350.0           57              73     15.0  ultra   \n",
              "6     1000     11      338.0           43              58     15.0  ultra   \n",
              "7     1000     12      333.0           46              70     10.0  ultra   \n",
              "8     1001     11      430.0           59               0     18.0  smart   \n",
              "9     1001     12      414.0           63               0     14.0  smart   \n",
              "\n",
              "        city  messages_included  mb_per_month_included  minutes_included  \\\n",
              "0  Краснодар               1000                  30720              3000   \n",
              "1  Краснодар               1000                  30720              3000   \n",
              "2  Краснодар               1000                  30720              3000   \n",
              "3  Краснодар               1000                  30720              3000   \n",
              "4  Краснодар               1000                  30720              3000   \n",
              "5  Краснодар               1000                  30720              3000   \n",
              "6  Краснодар               1000                  30720              3000   \n",
              "7  Краснодар               1000                  30720              3000   \n",
              "8     Москва                 50                  15360               500   \n",
              "9     Москва                 50                  15360               500   \n",
              "\n",
              "   rub_monthly_fee  rub_per_gb  rub_per_message  rub_per_minute tariff_name  \n",
              "0             1950         150                1               1       ultra  \n",
              "1             1950         150                1               1       ultra  \n",
              "2             1950         150                1               1       ultra  \n",
              "3             1950         150                1               1       ultra  \n",
              "4             1950         150                1               1       ultra  \n",
              "5             1950         150                1               1       ultra  \n",
              "6             1950         150                1               1       ultra  \n",
              "7             1950         150                1               1       ultra  \n",
              "8              550         200                3               3       smart  \n",
              "9              550         200                3               3       smart  "
            ]
          },
          "metadata": {},
          "output_type": "display_data"
        }
      ],
      "source": [
        "display(data_tariff.head(10))"
      ]
    },
    {
      "cell_type": "code",
      "execution_count": null,
      "metadata": {
        "id": "xoy6uMAJMHiF",
        "outputId": "c28a743d-b21a-44d3-a4da-5fd07e9ffc46"
      },
      "outputs": [
        {
          "name": "stdout",
          "output_type": "stream",
          "text": [
            "<class 'pandas.core.frame.DataFrame'>\n",
            "Int64Index: 3214 entries, 0 to 3213\n",
            "Data columns (total 16 columns):\n",
            "user_id                  3214 non-null int64\n",
            "month                    3214 non-null int64\n",
            "call_time                3214 non-null float64\n",
            "calls_total              3214 non-null int64\n",
            "messages_total           3214 non-null int64\n",
            "gb_used                  3214 non-null float64\n",
            "tariff                   3214 non-null object\n",
            "city                     3214 non-null object\n",
            "messages_included        3214 non-null int64\n",
            "mb_per_month_included    3214 non-null int64\n",
            "minutes_included         3214 non-null int64\n",
            "rub_monthly_fee          3214 non-null int64\n",
            "rub_per_gb               3214 non-null int64\n",
            "rub_per_message          3214 non-null int64\n",
            "rub_per_minute           3214 non-null int64\n",
            "tariff_name              3214 non-null object\n",
            "dtypes: float64(2), int64(11), object(3)\n",
            "memory usage: 426.9+ KB\n"
          ]
        }
      ],
      "source": [
        "data_tariff.info()"
      ]
    },
    {
      "cell_type": "markdown",
      "metadata": {
        "id": "0Jf7WC-lMHiF"
      },
      "source": [
        "Создадим функцию для подсчета платы за месяц. Чтобы узнать, нужно ли доплачивать сверх абонентской платы, найдем разницу между включенными и потраченными единицами, а в случае превышения пакета посчитаем размер доплаты. Затем сложим абонентскую плату и доплаты. Применим функцию к нашему датафрейму и построим гистограмму выручки, чтобы посмотреть картину наглядно."
      ]
    },
    {
      "cell_type": "code",
      "execution_count": null,
      "metadata": {
        "id": "QeucdzOKMHiG",
        "outputId": "db9d5443-2196-4156-e5ec-8a2f6cab7960"
      },
      "outputs": [
        {
          "data": {
            "text/html": [
              "<div>\n",
              "<style scoped>\n",
              "    .dataframe tbody tr th:only-of-type {\n",
              "        vertical-align: middle;\n",
              "    }\n",
              "\n",
              "    .dataframe tbody tr th {\n",
              "        vertical-align: top;\n",
              "    }\n",
              "\n",
              "    .dataframe thead th {\n",
              "        text-align: right;\n",
              "    }\n",
              "</style>\n",
              "<table border=\"1\" class=\"dataframe\">\n",
              "  <thead>\n",
              "    <tr style=\"text-align: right;\">\n",
              "      <th></th>\n",
              "      <th>user_id</th>\n",
              "      <th>month</th>\n",
              "      <th>call_time</th>\n",
              "      <th>calls_total</th>\n",
              "      <th>messages_total</th>\n",
              "      <th>gb_used</th>\n",
              "      <th>tariff</th>\n",
              "      <th>city</th>\n",
              "      <th>messages_included</th>\n",
              "      <th>mb_per_month_included</th>\n",
              "      <th>minutes_included</th>\n",
              "      <th>rub_monthly_fee</th>\n",
              "      <th>rub_per_gb</th>\n",
              "      <th>rub_per_message</th>\n",
              "      <th>rub_per_minute</th>\n",
              "      <th>tariff_name</th>\n",
              "      <th>revenue</th>\n",
              "    </tr>\n",
              "  </thead>\n",
              "  <tbody>\n",
              "    <tr>\n",
              "      <td>0</td>\n",
              "      <td>1000</td>\n",
              "      <td>5</td>\n",
              "      <td>159.0</td>\n",
              "      <td>22</td>\n",
              "      <td>22</td>\n",
              "      <td>3.0</td>\n",
              "      <td>ultra</td>\n",
              "      <td>Краснодар</td>\n",
              "      <td>1000</td>\n",
              "      <td>30720</td>\n",
              "      <td>3000</td>\n",
              "      <td>1950</td>\n",
              "      <td>150</td>\n",
              "      <td>1</td>\n",
              "      <td>1</td>\n",
              "      <td>ultra</td>\n",
              "      <td>1950.0</td>\n",
              "    </tr>\n",
              "    <tr>\n",
              "      <td>1</td>\n",
              "      <td>1000</td>\n",
              "      <td>6</td>\n",
              "      <td>172.0</td>\n",
              "      <td>43</td>\n",
              "      <td>60</td>\n",
              "      <td>23.0</td>\n",
              "      <td>ultra</td>\n",
              "      <td>Краснодар</td>\n",
              "      <td>1000</td>\n",
              "      <td>30720</td>\n",
              "      <td>3000</td>\n",
              "      <td>1950</td>\n",
              "      <td>150</td>\n",
              "      <td>1</td>\n",
              "      <td>1</td>\n",
              "      <td>ultra</td>\n",
              "      <td>1950.0</td>\n",
              "    </tr>\n",
              "    <tr>\n",
              "      <td>2</td>\n",
              "      <td>1000</td>\n",
              "      <td>7</td>\n",
              "      <td>340.0</td>\n",
              "      <td>47</td>\n",
              "      <td>75</td>\n",
              "      <td>14.0</td>\n",
              "      <td>ultra</td>\n",
              "      <td>Краснодар</td>\n",
              "      <td>1000</td>\n",
              "      <td>30720</td>\n",
              "      <td>3000</td>\n",
              "      <td>1950</td>\n",
              "      <td>150</td>\n",
              "      <td>1</td>\n",
              "      <td>1</td>\n",
              "      <td>ultra</td>\n",
              "      <td>1950.0</td>\n",
              "    </tr>\n",
              "    <tr>\n",
              "      <td>3</td>\n",
              "      <td>1000</td>\n",
              "      <td>8</td>\n",
              "      <td>408.0</td>\n",
              "      <td>52</td>\n",
              "      <td>81</td>\n",
              "      <td>14.0</td>\n",
              "      <td>ultra</td>\n",
              "      <td>Краснодар</td>\n",
              "      <td>1000</td>\n",
              "      <td>30720</td>\n",
              "      <td>3000</td>\n",
              "      <td>1950</td>\n",
              "      <td>150</td>\n",
              "      <td>1</td>\n",
              "      <td>1</td>\n",
              "      <td>ultra</td>\n",
              "      <td>1950.0</td>\n",
              "    </tr>\n",
              "    <tr>\n",
              "      <td>4</td>\n",
              "      <td>1000</td>\n",
              "      <td>9</td>\n",
              "      <td>466.0</td>\n",
              "      <td>58</td>\n",
              "      <td>57</td>\n",
              "      <td>15.0</td>\n",
              "      <td>ultra</td>\n",
              "      <td>Краснодар</td>\n",
              "      <td>1000</td>\n",
              "      <td>30720</td>\n",
              "      <td>3000</td>\n",
              "      <td>1950</td>\n",
              "      <td>150</td>\n",
              "      <td>1</td>\n",
              "      <td>1</td>\n",
              "      <td>ultra</td>\n",
              "      <td>1950.0</td>\n",
              "    </tr>\n",
              "    <tr>\n",
              "      <td>5</td>\n",
              "      <td>1000</td>\n",
              "      <td>10</td>\n",
              "      <td>350.0</td>\n",
              "      <td>57</td>\n",
              "      <td>73</td>\n",
              "      <td>15.0</td>\n",
              "      <td>ultra</td>\n",
              "      <td>Краснодар</td>\n",
              "      <td>1000</td>\n",
              "      <td>30720</td>\n",
              "      <td>3000</td>\n",
              "      <td>1950</td>\n",
              "      <td>150</td>\n",
              "      <td>1</td>\n",
              "      <td>1</td>\n",
              "      <td>ultra</td>\n",
              "      <td>1950.0</td>\n",
              "    </tr>\n",
              "    <tr>\n",
              "      <td>6</td>\n",
              "      <td>1000</td>\n",
              "      <td>11</td>\n",
              "      <td>338.0</td>\n",
              "      <td>43</td>\n",
              "      <td>58</td>\n",
              "      <td>15.0</td>\n",
              "      <td>ultra</td>\n",
              "      <td>Краснодар</td>\n",
              "      <td>1000</td>\n",
              "      <td>30720</td>\n",
              "      <td>3000</td>\n",
              "      <td>1950</td>\n",
              "      <td>150</td>\n",
              "      <td>1</td>\n",
              "      <td>1</td>\n",
              "      <td>ultra</td>\n",
              "      <td>1950.0</td>\n",
              "    </tr>\n",
              "    <tr>\n",
              "      <td>7</td>\n",
              "      <td>1000</td>\n",
              "      <td>12</td>\n",
              "      <td>333.0</td>\n",
              "      <td>46</td>\n",
              "      <td>70</td>\n",
              "      <td>10.0</td>\n",
              "      <td>ultra</td>\n",
              "      <td>Краснодар</td>\n",
              "      <td>1000</td>\n",
              "      <td>30720</td>\n",
              "      <td>3000</td>\n",
              "      <td>1950</td>\n",
              "      <td>150</td>\n",
              "      <td>1</td>\n",
              "      <td>1</td>\n",
              "      <td>ultra</td>\n",
              "      <td>1950.0</td>\n",
              "    </tr>\n",
              "    <tr>\n",
              "      <td>8</td>\n",
              "      <td>1001</td>\n",
              "      <td>11</td>\n",
              "      <td>430.0</td>\n",
              "      <td>59</td>\n",
              "      <td>0</td>\n",
              "      <td>18.0</td>\n",
              "      <td>smart</td>\n",
              "      <td>Москва</td>\n",
              "      <td>50</td>\n",
              "      <td>15360</td>\n",
              "      <td>500</td>\n",
              "      <td>550</td>\n",
              "      <td>200</td>\n",
              "      <td>3</td>\n",
              "      <td>3</td>\n",
              "      <td>smart</td>\n",
              "      <td>1150.0</td>\n",
              "    </tr>\n",
              "    <tr>\n",
              "      <td>9</td>\n",
              "      <td>1001</td>\n",
              "      <td>12</td>\n",
              "      <td>414.0</td>\n",
              "      <td>63</td>\n",
              "      <td>0</td>\n",
              "      <td>14.0</td>\n",
              "      <td>smart</td>\n",
              "      <td>Москва</td>\n",
              "      <td>50</td>\n",
              "      <td>15360</td>\n",
              "      <td>500</td>\n",
              "      <td>550</td>\n",
              "      <td>200</td>\n",
              "      <td>3</td>\n",
              "      <td>3</td>\n",
              "      <td>smart</td>\n",
              "      <td>550.0</td>\n",
              "    </tr>\n",
              "  </tbody>\n",
              "</table>\n",
              "</div>"
            ],
            "text/plain": [
              "   user_id  month  call_time  calls_total  messages_total  gb_used tariff  \\\n",
              "0     1000      5      159.0           22              22      3.0  ultra   \n",
              "1     1000      6      172.0           43              60     23.0  ultra   \n",
              "2     1000      7      340.0           47              75     14.0  ultra   \n",
              "3     1000      8      408.0           52              81     14.0  ultra   \n",
              "4     1000      9      466.0           58              57     15.0  ultra   \n",
              "5     1000     10      350.0           57              73     15.0  ultra   \n",
              "6     1000     11      338.0           43              58     15.0  ultra   \n",
              "7     1000     12      333.0           46              70     10.0  ultra   \n",
              "8     1001     11      430.0           59               0     18.0  smart   \n",
              "9     1001     12      414.0           63               0     14.0  smart   \n",
              "\n",
              "        city  messages_included  mb_per_month_included  minutes_included  \\\n",
              "0  Краснодар               1000                  30720              3000   \n",
              "1  Краснодар               1000                  30720              3000   \n",
              "2  Краснодар               1000                  30720              3000   \n",
              "3  Краснодар               1000                  30720              3000   \n",
              "4  Краснодар               1000                  30720              3000   \n",
              "5  Краснодар               1000                  30720              3000   \n",
              "6  Краснодар               1000                  30720              3000   \n",
              "7  Краснодар               1000                  30720              3000   \n",
              "8     Москва                 50                  15360               500   \n",
              "9     Москва                 50                  15360               500   \n",
              "\n",
              "   rub_monthly_fee  rub_per_gb  rub_per_message  rub_per_minute tariff_name  \\\n",
              "0             1950         150                1               1       ultra   \n",
              "1             1950         150                1               1       ultra   \n",
              "2             1950         150                1               1       ultra   \n",
              "3             1950         150                1               1       ultra   \n",
              "4             1950         150                1               1       ultra   \n",
              "5             1950         150                1               1       ultra   \n",
              "6             1950         150                1               1       ultra   \n",
              "7             1950         150                1               1       ultra   \n",
              "8              550         200                3               3       smart   \n",
              "9              550         200                3               3       smart   \n",
              "\n",
              "   revenue  \n",
              "0   1950.0  \n",
              "1   1950.0  \n",
              "2   1950.0  \n",
              "3   1950.0  \n",
              "4   1950.0  \n",
              "5   1950.0  \n",
              "6   1950.0  \n",
              "7   1950.0  \n",
              "8   1150.0  \n",
              "9    550.0  "
            ]
          },
          "metadata": {},
          "output_type": "display_data"
        }
      ],
      "source": [
        "def count_revenue(data):\n",
        "    if (data['messages_total'] - data['messages_included']) > 0:\n",
        "        messages_fee = (data['messages_total'] - data['messages_included']) * data['rub_per_message']\n",
        "    else:\n",
        "        messages_fee = 0\n",
        "    \n",
        "    \n",
        "    if (data['calls_total'] - data['minutes_included']) > 0:\n",
        "        calls_fee = (data['calls_total'] - data['minutes_included']) * data['rub_per_minute']\n",
        "    else:\n",
        "        calls_fee = 0\n",
        "    \n",
        "\n",
        "    if (data['gb_used'] - (data['mb_per_month_included'] / 1024)) > 0:\n",
        "        internet_fee = (data['gb_used'] - (data['mb_per_month_included'] / 1024)) * data['rub_per_gb']\n",
        "    else:\n",
        "        internet_fee = 0\n",
        "    \n",
        "    monthly_fee = data['rub_monthly_fee']\n",
        "    \n",
        "    user_revenue = monthly_fee + messages_fee + calls_fee + internet_fee\n",
        "    return user_revenue\n",
        "\n",
        "data_tariff['revenue'] = data_tariff.apply(count_revenue, axis = 1)\n",
        "display(data_tariff.head(10))"
      ]
    },
    {
      "cell_type": "code",
      "execution_count": null,
      "metadata": {
        "id": "GnhMO47dMHiH",
        "outputId": "95a6e7fd-a720-45f2-dc6f-2e07701a95b2"
      },
      "outputs": [
        {
          "data": {
            "text/plain": [
              "<matplotlib.axes._subplots.AxesSubplot at 0x7ff08ef40590>"
            ]
          },
          "execution_count": 41,
          "metadata": {},
          "output_type": "execute_result"
        },
        {
          "data": {
            "image/png": "[encoded data removed]",
            "text/plain": [
              "<Figure size 432x288 with 1 Axes>"
            ]
          },
          "metadata": {
            "needs_background": "light"
          },
          "output_type": "display_data"
        }
      ],
      "source": [
        "data_tariff['revenue'].hist(bins=30)"
      ]
    },
    {
      "cell_type": "code",
      "execution_count": null,
      "metadata": {
        "id": "QAhdmXy3MHiJ",
        "outputId": "5e2cd7f2-7f08-4a45-b2ab-64ab293d5659"
      },
      "outputs": [
        {
          "data": {
            "text/plain": [
              "1950.0    939\n",
              "550.0     721\n",
              "950.0     131\n",
              "1150.0    120\n",
              "750.0     117\n",
              "         ... \n",
              "989.0       1\n",
              "2180.0      1\n",
              "1855.0      1\n",
              "3410.0      1\n",
              "2055.0      1\n",
              "Name: revenue, Length: 356, dtype: int64"
            ]
          },
          "execution_count": 42,
          "metadata": {},
          "output_type": "execute_result"
        }
      ],
      "source": [
        "data_tariff['revenue'].value_counts()"
      ]
    },
    {
      "cell_type": "markdown",
      "metadata": {
        "id": "gk3r5yHGMHiL"
      },
      "source": [
        "Как и ожидалось, самые распространенные значения - величины абонентской платы. За ними идут суммы в промежутке между этими цифрами, хвост же идет, снижаясь и прерываясь, к 5000. "
      ]
    },
    {
      "cell_type": "markdown",
      "metadata": {
        "id": "7vV2osBZMHiM"
      },
      "source": [
        "## Анализ данных"
      ]
    },
    {
      "cell_type": "markdown",
      "metadata": {
        "id": "KkdnNf8BMHiM"
      },
      "source": [
        "Разделим данные на две таблицы в зависимости от тарифа."
      ]
    },
    {
      "cell_type": "code",
      "execution_count": null,
      "metadata": {
        "id": "-jjT29LlMHiN"
      },
      "outputs": [],
      "source": [
        "smart_data = data_tariff[data_tariff['tariff'] == 'smart'].copy()\n",
        "ultra_data = data_tariff[data_tariff['tariff'] == 'ultra'].copy()"
      ]
    },
    {
      "cell_type": "code",
      "execution_count": null,
      "metadata": {
        "id": "skvtNEXrMHiN",
        "outputId": "c6ac293f-1336-4012-b6ad-7186cf365962"
      },
      "outputs": [
        {
          "name": "stdout",
          "output_type": "stream",
          "text": [
            "<class 'pandas.core.frame.DataFrame'>\n",
            "Int64Index: 985 entries, 0 to 3213\n",
            "Data columns (total 17 columns):\n",
            "user_id                  985 non-null int64\n",
            "month                    985 non-null int64\n",
            "call_time                985 non-null float64\n",
            "calls_total              985 non-null int64\n",
            "messages_total           985 non-null int64\n",
            "gb_used                  985 non-null float64\n",
            "tariff                   985 non-null object\n",
            "city                     985 non-null object\n",
            "messages_included        985 non-null int64\n",
            "mb_per_month_included    985 non-null int64\n",
            "minutes_included         985 non-null int64\n",
            "rub_monthly_fee          985 non-null int64\n",
            "rub_per_gb               985 non-null int64\n",
            "rub_per_message          985 non-null int64\n",
            "rub_per_minute           985 non-null int64\n",
            "tariff_name              985 non-null object\n",
            "revenue                  985 non-null float64\n",
            "dtypes: float64(3), int64(11), object(3)\n",
            "memory usage: 138.5+ KB\n"
          ]
        }
      ],
      "source": [
        "ultra_data.info()"
      ]
    },
    {
      "cell_type": "code",
      "execution_count": null,
      "metadata": {
        "id": "qOMsr394MHiN",
        "outputId": "dcddfa64-e5a3-4677-8db9-735b611933e4"
      },
      "outputs": [
        {
          "data": {
            "text/html": [
              "<div>\n",
              "<style scoped>\n",
              "    .dataframe tbody tr th:only-of-type {\n",
              "        vertical-align: middle;\n",
              "    }\n",
              "\n",
              "    .dataframe tbody tr th {\n",
              "        vertical-align: top;\n",
              "    }\n",
              "\n",
              "    .dataframe thead th {\n",
              "        text-align: right;\n",
              "    }\n",
              "</style>\n",
              "<table border=\"1\" class=\"dataframe\">\n",
              "  <thead>\n",
              "    <tr style=\"text-align: right;\">\n",
              "      <th></th>\n",
              "      <th>user_id</th>\n",
              "      <th>month</th>\n",
              "      <th>call_time</th>\n",
              "      <th>calls_total</th>\n",
              "      <th>messages_total</th>\n",
              "      <th>gb_used</th>\n",
              "      <th>tariff</th>\n",
              "      <th>city</th>\n",
              "      <th>messages_included</th>\n",
              "      <th>mb_per_month_included</th>\n",
              "      <th>minutes_included</th>\n",
              "      <th>rub_monthly_fee</th>\n",
              "      <th>rub_per_gb</th>\n",
              "      <th>rub_per_message</th>\n",
              "      <th>rub_per_minute</th>\n",
              "      <th>tariff_name</th>\n",
              "      <th>revenue</th>\n",
              "    </tr>\n",
              "  </thead>\n",
              "  <tbody>\n",
              "    <tr>\n",
              "      <td>0</td>\n",
              "      <td>1000</td>\n",
              "      <td>5</td>\n",
              "      <td>159.0</td>\n",
              "      <td>22</td>\n",
              "      <td>22</td>\n",
              "      <td>3.0</td>\n",
              "      <td>ultra</td>\n",
              "      <td>Краснодар</td>\n",
              "      <td>1000</td>\n",
              "      <td>30720</td>\n",
              "      <td>3000</td>\n",
              "      <td>1950</td>\n",
              "      <td>150</td>\n",
              "      <td>1</td>\n",
              "      <td>1</td>\n",
              "      <td>ultra</td>\n",
              "      <td>1950.0</td>\n",
              "    </tr>\n",
              "    <tr>\n",
              "      <td>1</td>\n",
              "      <td>1000</td>\n",
              "      <td>6</td>\n",
              "      <td>172.0</td>\n",
              "      <td>43</td>\n",
              "      <td>60</td>\n",
              "      <td>23.0</td>\n",
              "      <td>ultra</td>\n",
              "      <td>Краснодар</td>\n",
              "      <td>1000</td>\n",
              "      <td>30720</td>\n",
              "      <td>3000</td>\n",
              "      <td>1950</td>\n",
              "      <td>150</td>\n",
              "      <td>1</td>\n",
              "      <td>1</td>\n",
              "      <td>ultra</td>\n",
              "      <td>1950.0</td>\n",
              "    </tr>\n",
              "    <tr>\n",
              "      <td>2</td>\n",
              "      <td>1000</td>\n",
              "      <td>7</td>\n",
              "      <td>340.0</td>\n",
              "      <td>47</td>\n",
              "      <td>75</td>\n",
              "      <td>14.0</td>\n",
              "      <td>ultra</td>\n",
              "      <td>Краснодар</td>\n",
              "      <td>1000</td>\n",
              "      <td>30720</td>\n",
              "      <td>3000</td>\n",
              "      <td>1950</td>\n",
              "      <td>150</td>\n",
              "      <td>1</td>\n",
              "      <td>1</td>\n",
              "      <td>ultra</td>\n",
              "      <td>1950.0</td>\n",
              "    </tr>\n",
              "    <tr>\n",
              "      <td>3</td>\n",
              "      <td>1000</td>\n",
              "      <td>8</td>\n",
              "      <td>408.0</td>\n",
              "      <td>52</td>\n",
              "      <td>81</td>\n",
              "      <td>14.0</td>\n",
              "      <td>ultra</td>\n",
              "      <td>Краснодар</td>\n",
              "      <td>1000</td>\n",
              "      <td>30720</td>\n",
              "      <td>3000</td>\n",
              "      <td>1950</td>\n",
              "      <td>150</td>\n",
              "      <td>1</td>\n",
              "      <td>1</td>\n",
              "      <td>ultra</td>\n",
              "      <td>1950.0</td>\n",
              "    </tr>\n",
              "    <tr>\n",
              "      <td>4</td>\n",
              "      <td>1000</td>\n",
              "      <td>9</td>\n",
              "      <td>466.0</td>\n",
              "      <td>58</td>\n",
              "      <td>57</td>\n",
              "      <td>15.0</td>\n",
              "      <td>ultra</td>\n",
              "      <td>Краснодар</td>\n",
              "      <td>1000</td>\n",
              "      <td>30720</td>\n",
              "      <td>3000</td>\n",
              "      <td>1950</td>\n",
              "      <td>150</td>\n",
              "      <td>1</td>\n",
              "      <td>1</td>\n",
              "      <td>ultra</td>\n",
              "      <td>1950.0</td>\n",
              "    </tr>\n",
              "  </tbody>\n",
              "</table>\n",
              "</div>"
            ],
            "text/plain": [
              "   user_id  month  call_time  calls_total  messages_total  gb_used tariff  \\\n",
              "0     1000      5      159.0           22              22      3.0  ultra   \n",
              "1     1000      6      172.0           43              60     23.0  ultra   \n",
              "2     1000      7      340.0           47              75     14.0  ultra   \n",
              "3     1000      8      408.0           52              81     14.0  ultra   \n",
              "4     1000      9      466.0           58              57     15.0  ultra   \n",
              "\n",
              "        city  messages_included  mb_per_month_included  minutes_included  \\\n",
              "0  Краснодар               1000                  30720              3000   \n",
              "1  Краснодар               1000                  30720              3000   \n",
              "2  Краснодар               1000                  30720              3000   \n",
              "3  Краснодар               1000                  30720              3000   \n",
              "4  Краснодар               1000                  30720              3000   \n",
              "\n",
              "   rub_monthly_fee  rub_per_gb  rub_per_message  rub_per_minute tariff_name  \\\n",
              "0             1950         150                1               1       ultra   \n",
              "1             1950         150                1               1       ultra   \n",
              "2             1950         150                1               1       ultra   \n",
              "3             1950         150                1               1       ultra   \n",
              "4             1950         150                1               1       ultra   \n",
              "\n",
              "   revenue  \n",
              "0   1950.0  \n",
              "1   1950.0  \n",
              "2   1950.0  \n",
              "3   1950.0  \n",
              "4   1950.0  "
            ]
          },
          "execution_count": 45,
          "metadata": {},
          "output_type": "execute_result"
        }
      ],
      "source": [
        "ultra_data.head()"
      ]
    },
    {
      "cell_type": "code",
      "execution_count": null,
      "metadata": {
        "id": "u3Ls4WcSMHiO",
        "outputId": "38a907dd-a260-4beb-a4a6-833d5ea38325"
      },
      "outputs": [
        {
          "name": "stdout",
          "output_type": "stream",
          "text": [
            "<class 'pandas.core.frame.DataFrame'>\n",
            "Int64Index: 2229 entries, 8 to 3212\n",
            "Data columns (total 17 columns):\n",
            "user_id                  2229 non-null int64\n",
            "month                    2229 non-null int64\n",
            "call_time                2229 non-null float64\n",
            "calls_total              2229 non-null int64\n",
            "messages_total           2229 non-null int64\n",
            "gb_used                  2229 non-null float64\n",
            "tariff                   2229 non-null object\n",
            "city                     2229 non-null object\n",
            "messages_included        2229 non-null int64\n",
            "mb_per_month_included    2229 non-null int64\n",
            "minutes_included         2229 non-null int64\n",
            "rub_monthly_fee          2229 non-null int64\n",
            "rub_per_gb               2229 non-null int64\n",
            "rub_per_message          2229 non-null int64\n",
            "rub_per_minute           2229 non-null int64\n",
            "tariff_name              2229 non-null object\n",
            "revenue                  2229 non-null float64\n",
            "dtypes: float64(3), int64(11), object(3)\n",
            "memory usage: 313.5+ KB\n"
          ]
        }
      ],
      "source": [
        "smart_data.info()"
      ]
    },
    {
      "cell_type": "markdown",
      "metadata": {
        "id": "7DhT6EKfMHiO"
      },
      "source": [
        "Как мы видим, данных по абонентам тарифа \"Ультра\" в два раза меньше, чем тарифа \"Смарт\", что скорее всего, представляет и реальное распределение пользователей."
      ]
    },
    {
      "cell_type": "markdown",
      "metadata": {
        "id": "cYrOjzsdMHiP"
      },
      "source": [
        "<B>Тариф «Смарт»</B>\n",
        "\n",
        "Ежемесячная плата: 550 рублей\n",
        "\n",
        "Включено 500 минут разговора, 50 сообщений и 15 Гб интернет-трафика"
      ]
    },
    {
      "cell_type": "code",
      "execution_count": null,
      "metadata": {
        "id": "nKTY4wzbMHiP",
        "outputId": "67ff28a8-b747-440b-e1e5-dfb8ce90a421"
      },
      "outputs": [
        {
          "data": {
            "text/html": [
              "<div>\n",
              "<style scoped>\n",
              "    .dataframe tbody tr th:only-of-type {\n",
              "        vertical-align: middle;\n",
              "    }\n",
              "\n",
              "    .dataframe tbody tr th {\n",
              "        vertical-align: top;\n",
              "    }\n",
              "\n",
              "    .dataframe thead th {\n",
              "        text-align: right;\n",
              "    }\n",
              "</style>\n",
              "<table border=\"1\" class=\"dataframe\">\n",
              "  <thead>\n",
              "    <tr style=\"text-align: right;\">\n",
              "      <th></th>\n",
              "      <th>call_time</th>\n",
              "      <th>messages_total</th>\n",
              "      <th>gb_used</th>\n",
              "      <th>revenue</th>\n",
              "    </tr>\n",
              "  </thead>\n",
              "  <tbody>\n",
              "    <tr>\n",
              "      <td>count</td>\n",
              "      <td>2229.000000</td>\n",
              "      <td>2229.000000</td>\n",
              "      <td>2229.000000</td>\n",
              "      <td>2229.000000</td>\n",
              "    </tr>\n",
              "    <tr>\n",
              "      <td>mean</td>\n",
              "      <td>417.934948</td>\n",
              "      <td>33.384029</td>\n",
              "      <td>16.328847</td>\n",
              "      <td>1165.156572</td>\n",
              "    </tr>\n",
              "    <tr>\n",
              "      <td>std</td>\n",
              "      <td>190.313730</td>\n",
              "      <td>28.227876</td>\n",
              "      <td>5.747061</td>\n",
              "      <td>740.556759</td>\n",
              "    </tr>\n",
              "    <tr>\n",
              "      <td>min</td>\n",
              "      <td>0.000000</td>\n",
              "      <td>0.000000</td>\n",
              "      <td>0.000000</td>\n",
              "      <td>550.000000</td>\n",
              "    </tr>\n",
              "    <tr>\n",
              "      <td>25%</td>\n",
              "      <td>282.000000</td>\n",
              "      <td>10.000000</td>\n",
              "      <td>13.000000</td>\n",
              "      <td>550.000000</td>\n",
              "    </tr>\n",
              "    <tr>\n",
              "      <td>50%</td>\n",
              "      <td>422.000000</td>\n",
              "      <td>28.000000</td>\n",
              "      <td>17.000000</td>\n",
              "      <td>950.000000</td>\n",
              "    </tr>\n",
              "    <tr>\n",
              "      <td>75%</td>\n",
              "      <td>545.000000</td>\n",
              "      <td>51.000000</td>\n",
              "      <td>20.000000</td>\n",
              "      <td>1550.000000</td>\n",
              "    </tr>\n",
              "    <tr>\n",
              "      <td>max</td>\n",
              "      <td>1435.000000</td>\n",
              "      <td>143.000000</td>\n",
              "      <td>38.000000</td>\n",
              "      <td>5249.000000</td>\n",
              "    </tr>\n",
              "  </tbody>\n",
              "</table>\n",
              "</div>"
            ],
            "text/plain": [
              "         call_time  messages_total      gb_used      revenue\n",
              "count  2229.000000     2229.000000  2229.000000  2229.000000\n",
              "mean    417.934948       33.384029    16.328847  1165.156572\n",
              "std     190.313730       28.227876     5.747061   740.556759\n",
              "min       0.000000        0.000000     0.000000   550.000000\n",
              "25%     282.000000       10.000000    13.000000   550.000000\n",
              "50%     422.000000       28.000000    17.000000   950.000000\n",
              "75%     545.000000       51.000000    20.000000  1550.000000\n",
              "max    1435.000000      143.000000    38.000000  5249.000000"
            ]
          },
          "metadata": {},
          "output_type": "display_data"
        }
      ],
      "source": [
        "display(smart_data[['call_time', 'messages_total', 'gb_used', 'revenue']].describe())"
      ]
    },
    {
      "cell_type": "code",
      "execution_count": null,
      "metadata": {
        "id": "IzoqpbSWMHiP",
        "outputId": "6c66a812-030a-4a9a-fb84-c447929168db"
      },
      "outputs": [
        {
          "data": {
            "text/plain": [
              "array([[<matplotlib.axes._subplots.AxesSubplot object at 0x7ff08f09cf10>,\n",
              "        <matplotlib.axes._subplots.AxesSubplot object at 0x7ff08f03de50>],\n",
              "       [<matplotlib.axes._subplots.AxesSubplot object at 0x7ff08effe510>,\n",
              "        <matplotlib.axes._subplots.AxesSubplot object at 0x7ff08efb2cd0>]],\n",
              "      dtype=object)"
            ]
          },
          "metadata": {},
          "output_type": "display_data"
        },
        {
          "data": {
            "image/png": "[encoded data removed]",
            "text/plain": [
              "<Figure size 864x720 with 4 Axes>"
            ]
          },
          "metadata": {
            "needs_background": "light"
          },
          "output_type": "display_data"
        }
      ],
      "source": [
        "display(smart_data[['call_time', 'messages_total', 'gb_used', 'revenue']].hist(figsize=(12,10), bins=30))"
      ]
    },
    {
      "cell_type": "markdown",
      "metadata": {
        "id": "6OjZQly3MHiR"
      },
      "source": [
        "Около половины абонентов \"Смарт\" превышают входящие в тариф пакеты по звонкам и интернету, значит, платят за превышение лимитов. Зато сообщениями пользуются редко, только четверть превышает лимит, а большинство вообще их не отправляет.\n",
        "Что касается интернета, то тех, кто вообще им не пользуется, довольно мало, больше всего тех пользователей, которые тратят 15 или 20 Гб. \n",
        "Только четверть абонентов платит только ежемесячную плату, большинство доплачивает еще и за потраченные минуты и гигабайты, причем, четверь пользователей платит сумму в три раза больше абонентской платы."
      ]
    },
    {
      "cell_type": "markdown",
      "metadata": {
        "id": "zdQD1DN-MHiR"
      },
      "source": [
        "<B>Тариф «Ультра»</B>\n",
        "\n",
        "Ежемесячная плата: 1950 рублей\n",
        "\n",
        "Включено 3000 минут разговора, 1000 сообщений и 30 Гб интернет-трафика"
      ]
    },
    {
      "cell_type": "code",
      "execution_count": null,
      "metadata": {
        "id": "GXNcxTxVMHiR",
        "outputId": "56cb59fe-a12c-411c-c386-65326daad172"
      },
      "outputs": [
        {
          "data": {
            "text/html": [
              "<div>\n",
              "<style scoped>\n",
              "    .dataframe tbody tr th:only-of-type {\n",
              "        vertical-align: middle;\n",
              "    }\n",
              "\n",
              "    .dataframe tbody tr th {\n",
              "        vertical-align: top;\n",
              "    }\n",
              "\n",
              "    .dataframe thead th {\n",
              "        text-align: right;\n",
              "    }\n",
              "</style>\n",
              "<table border=\"1\" class=\"dataframe\">\n",
              "  <thead>\n",
              "    <tr style=\"text-align: right;\">\n",
              "      <th></th>\n",
              "      <th>call_time</th>\n",
              "      <th>messages_total</th>\n",
              "      <th>gb_used</th>\n",
              "      <th>revenue</th>\n",
              "    </tr>\n",
              "  </thead>\n",
              "  <tbody>\n",
              "    <tr>\n",
              "      <td>count</td>\n",
              "      <td>985.000000</td>\n",
              "      <td>985.000000</td>\n",
              "      <td>985.000000</td>\n",
              "      <td>985.000000</td>\n",
              "    </tr>\n",
              "    <tr>\n",
              "      <td>mean</td>\n",
              "      <td>526.623350</td>\n",
              "      <td>49.363452</td>\n",
              "      <td>19.494416</td>\n",
              "      <td>2070.152284</td>\n",
              "    </tr>\n",
              "    <tr>\n",
              "      <td>std</td>\n",
              "      <td>317.606098</td>\n",
              "      <td>47.804457</td>\n",
              "      <td>9.853511</td>\n",
              "      <td>376.187114</td>\n",
              "    </tr>\n",
              "    <tr>\n",
              "      <td>min</td>\n",
              "      <td>0.000000</td>\n",
              "      <td>0.000000</td>\n",
              "      <td>0.000000</td>\n",
              "      <td>1950.000000</td>\n",
              "    </tr>\n",
              "    <tr>\n",
              "      <td>25%</td>\n",
              "      <td>284.000000</td>\n",
              "      <td>6.000000</td>\n",
              "      <td>12.000000</td>\n",
              "      <td>1950.000000</td>\n",
              "    </tr>\n",
              "    <tr>\n",
              "      <td>50%</td>\n",
              "      <td>518.000000</td>\n",
              "      <td>38.000000</td>\n",
              "      <td>19.000000</td>\n",
              "      <td>1950.000000</td>\n",
              "    </tr>\n",
              "    <tr>\n",
              "      <td>75%</td>\n",
              "      <td>752.000000</td>\n",
              "      <td>79.000000</td>\n",
              "      <td>27.000000</td>\n",
              "      <td>1950.000000</td>\n",
              "    </tr>\n",
              "    <tr>\n",
              "      <td>max</td>\n",
              "      <td>1673.000000</td>\n",
              "      <td>224.000000</td>\n",
              "      <td>49.000000</td>\n",
              "      <td>4800.000000</td>\n",
              "    </tr>\n",
              "  </tbody>\n",
              "</table>\n",
              "</div>"
            ],
            "text/plain": [
              "         call_time  messages_total     gb_used      revenue\n",
              "count   985.000000      985.000000  985.000000   985.000000\n",
              "mean    526.623350       49.363452   19.494416  2070.152284\n",
              "std     317.606098       47.804457    9.853511   376.187114\n",
              "min       0.000000        0.000000    0.000000  1950.000000\n",
              "25%     284.000000        6.000000   12.000000  1950.000000\n",
              "50%     518.000000       38.000000   19.000000  1950.000000\n",
              "75%     752.000000       79.000000   27.000000  1950.000000\n",
              "max    1673.000000      224.000000   49.000000  4800.000000"
            ]
          },
          "metadata": {},
          "output_type": "display_data"
        }
      ],
      "source": [
        "display(ultra_data[['call_time', 'messages_total', 'gb_used', 'revenue']].describe())"
      ]
    },
    {
      "cell_type": "code",
      "execution_count": null,
      "metadata": {
        "id": "MR8oPo11MHiT",
        "outputId": "264b438b-98a0-4af1-d5fd-cdb587febe4f"
      },
      "outputs": [
        {
          "name": "stdout",
          "output_type": "stream",
          "text": [
            "Доля пользователей, заплативших больше абонентской платы: 0.13604060913705585\n"
          ]
        }
      ],
      "source": [
        "print(\"Доля пользователей, заплативших больше абонентской платы:\", len(ultra_data[ultra_data['revenue'] > ultra_data['rub_monthly_fee'][0]]) / len(ultra_data['revenue']))"
      ]
    },
    {
      "cell_type": "code",
      "execution_count": null,
      "metadata": {
        "id": "Mcy_ozALMHiV",
        "outputId": "dacb5e6f-ce04-4758-e6ac-c2fde0d304dc"
      },
      "outputs": [
        {
          "name": "stdout",
          "output_type": "stream",
          "text": [
            "Доля абонентов \"Ультра\", потративших меньше пакета \"Смарт\": 0.18883248730964466\n"
          ]
        }
      ],
      "source": [
        "print('Доля абонентов \"Ультра\", потративших меньше пакета \"Смарт\":',\\\n",
        "      len(ultra_data[(ultra_data['call_time'] < tariffs['minutes_included'][0])\\\n",
        "      & (ultra_data['messages_total'] < tariffs['minutes_included'][0])\\\n",
        "      & (ultra_data['gb_used'] < (tariffs['mb_per_month_included'][0] / mb_in_gb))])/ \\\n",
        "      len(ultra_data['revenue']))"
      ]
    },
    {
      "cell_type": "code",
      "execution_count": null,
      "metadata": {
        "id": "9-dDGGKbMHiW",
        "outputId": "8787bab4-67e7-448d-b4ee-b174f2058ebf"
      },
      "outputs": [
        {
          "data": {
            "text/plain": [
              "array([[<matplotlib.axes._subplots.AxesSubplot object at 0x7ff08ec37b10>,\n",
              "        <matplotlib.axes._subplots.AxesSubplot object at 0x7ff085298f50>],\n",
              "       [<matplotlib.axes._subplots.AxesSubplot object at 0x7ff0852bb750>,\n",
              "        <matplotlib.axes._subplots.AxesSubplot object at 0x7ff085270f10>]],\n",
              "      dtype=object)"
            ]
          },
          "metadata": {},
          "output_type": "display_data"
        },
        {
          "data": {
            "image/png": "[encoded data removed]",
            "text/plain": [
              "<Figure size 864x720 with 4 Axes>"
            ]
          },
          "metadata": {
            "needs_background": "light"
          },
          "output_type": "display_data"
        }
      ],
      "source": [
        "display(ultra_data[['call_time', 'messages_total', 'gb_used', 'revenue']].hist(figsize=(12,10), bins=30))"
      ]
    },
    {
      "cell_type": "markdown",
      "metadata": {
        "id": "4ozMdtn1MHiW"
      },
      "source": [
        "По тарифу \"Ультра\" картина другая - пользователи даже близко не приближаются к лимитам по звонкам и сообщениям, только четверть превышает пакет интернета. Поэтому только 13% абонентов доплачивают сверх абонентской платы. Примерно 40% пользователей тратят меньше лимитов по тарифу \"Смарт\", причем, почти 13% недобирают лимиты этого тарифа сразу по всем трем категориям.\n",
        "Что касается средних значений, то они выше, чем у пользователей другого тарифа, но не значительно - тратящие такие же объемы на тарифе \"Смарт\" платят меньше.\n",
        "Здесь также не особо популярны сообщения, большинство пользователей их не отправляет вообще, есть также значимая доля пользователей, вообще не совершающих звонки. Интернетом эти абоненты пользуются активнее, но большинство остается в рамках лимитов."
      ]
    },
    {
      "cell_type": "code",
      "execution_count": null,
      "metadata": {
        "id": "LxMhx8rTMHiX",
        "outputId": "008fd8c5-66e5-459e-9519-6dede4b740e0"
      },
      "outputs": [
        {
          "name": "stdout",
          "output_type": "stream",
          "text": [
            "Дисперсия\n",
            " call_time          36203.066652\n",
            "messages_total       796.455483\n",
            "gb_used               33.013887\n",
            "revenue           548178.272928\n",
            "dtype: float64\n"
          ]
        }
      ],
      "source": [
        "print('Дисперсия\\n', np.var(smart_data[['call_time', 'messages_total', 'gb_used', 'revenue']]))"
      ]
    },
    {
      "cell_type": "code",
      "execution_count": null,
      "metadata": {
        "id": "YifKHZIyMHiX",
        "outputId": "a84d2da9-4f83-491d-ebcb-d4798ef1b8b8"
      },
      "outputs": [
        {
          "name": "stdout",
          "output_type": "stream",
          "text": [
            "Математическое ожидание\n",
            " call_time         190.271035\n",
            "messages_total     28.221543\n",
            "gb_used             5.745771\n",
            "revenue           740.390622\n",
            "dtype: float64\n"
          ]
        }
      ],
      "source": [
        "print('Математическое ожидание\\n', (np.var(smart_data[['call_time', 'messages_total', 'gb_used', 'revenue']])**0.5))"
      ]
    },
    {
      "cell_type": "code",
      "execution_count": null,
      "metadata": {
        "id": "hUNspjqIMHiY",
        "outputId": "ef85200d-d8dc-404d-9ec1-23c4a53144e0"
      },
      "outputs": [
        {
          "name": "stdout",
          "output_type": "stream",
          "text": [
            "Дисперсия\n",
            " call_time         100771.223617\n",
            "messages_total      2282.946075\n",
            "gb_used               96.993116\n",
            "revenue           141373.073256\n",
            "dtype: float64\n"
          ]
        }
      ],
      "source": [
        "print('Дисперсия\\n', np.var(ultra_data[['call_time', 'messages_total', 'gb_used', 'revenue']]))"
      ]
    },
    {
      "cell_type": "code",
      "execution_count": null,
      "metadata": {
        "id": "WYCCy6HfMHiZ",
        "outputId": "97246d90-ec90-4b60-f0c9-f1d8356a41a6"
      },
      "outputs": [
        {
          "name": "stdout",
          "output_type": "stream",
          "text": [
            "Математическое ожидание\n",
            " call_time         317.444836\n",
            "messages_total     47.780185\n",
            "gb_used             9.848508\n",
            "revenue           375.996108\n",
            "dtype: float64\n"
          ]
        }
      ],
      "source": [
        "print('Математическое ожидание\\n', (np.var(ultra_data[['call_time', 'messages_total', 'gb_used', 'revenue']])**0.5))"
      ]
    },
    {
      "cell_type": "markdown",
      "metadata": {
        "id": "vriYlmV1MHiZ"
      },
      "source": [
        "Построим диаграммы распределения по обеим таблицам."
      ]
    },
    {
      "cell_type": "code",
      "execution_count": null,
      "metadata": {
        "id": "aYjieduNMHiZ",
        "outputId": "0c56d997-413b-49fc-8eaf-3a78d64f22f0"
      },
      "outputs": [
        {
          "data": {
            "text/plain": [
              "array([[<matplotlib.axes._subplots.AxesSubplot object at 0x7ff08ecc34d0>,\n",
              "        <matplotlib.axes._subplots.AxesSubplot object at 0x7ff08dd191d0>,\n",
              "        <matplotlib.axes._subplots.AxesSubplot object at 0x7ff08dd1d850>,\n",
              "        <matplotlib.axes._subplots.AxesSubplot object at 0x7ff0851aebd0>],\n",
              "       [<matplotlib.axes._subplots.AxesSubplot object at 0x7ff08f066850>,\n",
              "        <matplotlib.axes._subplots.AxesSubplot object at 0x7ff08efebbd0>,\n",
              "        <matplotlib.axes._subplots.AxesSubplot object at 0x7ff08efe7890>,\n",
              "        <matplotlib.axes._subplots.AxesSubplot object at 0x7ff0851720d0>],\n",
              "       [<matplotlib.axes._subplots.AxesSubplot object at 0x7ff085172c10>,\n",
              "        <matplotlib.axes._subplots.AxesSubplot object at 0x7ff0851305d0>,\n",
              "        <matplotlib.axes._subplots.AxesSubplot object at 0x7ff08509c910>,\n",
              "        <matplotlib.axes._subplots.AxesSubplot object at 0x7ff08505bc50>],\n",
              "       [<matplotlib.axes._subplots.AxesSubplot object at 0x7ff085014910>,\n",
              "        <matplotlib.axes._subplots.AxesSubplot object at 0x7ff084fd1c90>,\n",
              "        <matplotlib.axes._subplots.AxesSubplot object at 0x7ff085008910>,\n",
              "        <matplotlib.axes._subplots.AxesSubplot object at 0x7ff084fc5c90>]],\n",
              "      dtype=object)"
            ]
          },
          "execution_count": 57,
          "metadata": {},
          "output_type": "execute_result"
        },
        {
          "data": {
            "image/png": "[encoded data removed]",
            "text/plain": [
              "<Figure size 720x720 with 16 Axes>"
            ]
          },
          "metadata": {
            "needs_background": "light"
          },
          "output_type": "display_data"
        }
      ],
      "source": [
        "pd.plotting.scatter_matrix(smart_data[['call_time', 'messages_total', 'gb_used', 'revenue']], alpha = 0.3, figsize = (10,10))"
      ]
    },
    {
      "cell_type": "code",
      "execution_count": null,
      "metadata": {
        "id": "4MgSBff6MHia",
        "outputId": "b4e0ee3c-8090-4d4b-98ac-439868df8338"
      },
      "outputs": [
        {
          "data": {
            "text/plain": [
              "array([[<matplotlib.axes._subplots.AxesSubplot object at 0x7ff084d7ac10>,\n",
              "        <matplotlib.axes._subplots.AxesSubplot object at 0x7ff084510c10>,\n",
              "        <matplotlib.axes._subplots.AxesSubplot object at 0x7ff08453cf10>,\n",
              "        <matplotlib.axes._subplots.AxesSubplot object at 0x7ff0844f1bd0>],\n",
              "       [<matplotlib.axes._subplots.AxesSubplot object at 0x7ff0844b0ed0>,\n",
              "        <matplotlib.axes._subplots.AxesSubplot object at 0x7ff084466b90>,\n",
              "        <matplotlib.axes._subplots.AxesSubplot object at 0x7ff0844253d0>,\n",
              "        <matplotlib.axes._subplots.AxesSubplot object at 0x7ff0843d9bd0>],\n",
              "       [<matplotlib.axes._subplots.AxesSubplot object at 0x7ff0843e4750>,\n",
              "        <matplotlib.axes._subplots.AxesSubplot object at 0x7ff0843a5110>,\n",
              "        <matplotlib.axes._subplots.AxesSubplot object at 0x7ff084311f90>,\n",
              "        <matplotlib.axes._subplots.AxesSubplot object at 0x7ff084345c50>],\n",
              "       [<matplotlib.axes._subplots.AxesSubplot object at 0x7ff084306fd0>,\n",
              "        <matplotlib.axes._subplots.AxesSubplot object at 0x7ff0842bbc90>,\n",
              "        <matplotlib.axes._subplots.AxesSubplot object at 0x7ff08427b4d0>,\n",
              "        <matplotlib.axes._subplots.AxesSubplot object at 0x7ff084230cd0>]],\n",
              "      dtype=object)"
            ]
          },
          "execution_count": 58,
          "metadata": {},
          "output_type": "execute_result"
        },
        {
          "data": {
            "image/png": "[encoded data removed]",
            "text/plain": [
              "<Figure size 720x720 with 16 Axes>"
            ]
          },
          "metadata": {
            "needs_background": "light"
          },
          "output_type": "display_data"
        }
      ],
      "source": [
        "pd.plotting.scatter_matrix(ultra_data[['call_time', 'messages_total', 'gb_used', 'revenue']], alpha = 0.3, figsize = (10,10))"
      ]
    },
    {
      "cell_type": "markdown",
      "metadata": {
        "id": "QOGK-5H9MHia"
      },
      "source": [
        "В обоих тарифах выручка увеличивается за счет превышения абонентами лимитов на мобильный интернет. "
      ]
    },
    {
      "cell_type": "markdown",
      "metadata": {
        "id": "zSQDT3VKMHib"
      },
      "source": [
        "## Проверка гипотез"
      ]
    },
    {
      "cell_type": "markdown",
      "metadata": {
        "id": "qJWSuOTDMHib"
      },
      "source": [
        "### Проверка гипотезы о том, что средняя выручка пользователей тарифов «Ультра» и «Смарт» различаются"
      ]
    },
    {
      "cell_type": "markdown",
      "metadata": {
        "id": "nAR7iSlKMHid"
      },
      "source": [
        "Нулевая гипотеза - средняя выручка на ультра равна средней выручке на смарте.\n",
        "А уровнем критической значимости сделаем 0.05, если окажется ниже него, гипотезу можно отвергнуть.\n",
        "Учтем также, что наши выборки отличаются по размеру."
      ]
    },
    {
      "cell_type": "code",
      "execution_count": null,
      "metadata": {
        "id": "a8oXimOCMHid",
        "outputId": "2ec954a2-9a88-4e91-c847-70d84679f7f8"
      },
      "outputs": [
        {
          "name": "stdout",
          "output_type": "stream",
          "text": [
            "p-значение:  0.0\n",
            "Отвергаем нулевую гипотезу\n"
          ]
        }
      ],
      "source": [
        "smart = smart_data['revenue']\n",
        "ultra = ultra_data['revenue']\n",
        "\n",
        "alpha = .05\n",
        "\n",
        "results = st.ttest_ind(\n",
        "    smart, \n",
        "    ultra, equal_var = False)\n",
        "print('p-значение: ', results.pvalue)\n",
        "if results.pvalue < alpha:\n",
        "    print(\"Отвергаем нулевую гипотезу\")\n",
        "else:\n",
        "    print(\"Не получилось отвергнуть нулевую гипотезу\") "
      ]
    },
    {
      "cell_type": "code",
      "execution_count": null,
      "metadata": {
        "id": "JFYOE3SkMHie",
        "outputId": "86279ad7-3c90-40c6-8d2c-66518ae15665"
      },
      "outputs": [
        {
          "name": "stdout",
          "output_type": "stream",
          "text": [
            "Средняя выручка по тарифу \"Смарт\": 1165.1565724540153\n",
            "Средняя выручка по тарифу \"Ультра\": 2070.1522842639592\n"
          ]
        }
      ],
      "source": [
        "print('Средняя выручка по тарифу \"Смарт\":', smart.mean())\n",
        "print('Средняя выручка по тарифу \"Ультра\":', ultra.mean())"
      ]
    },
    {
      "cell_type": "markdown",
      "metadata": {
        "id": "tGJ33YR2MHie"
      },
      "source": [
        "Вероятности случайного совпадения наших выборок не существует, значит, нулевую гипотезу можно опровергнуть. Между выручкой по тарифам действительно есть различия, но, так как гипотеза двухсторонняя, по ней мы не можем сказать, в какую сторону отличия. Зато среднее по выборкам показывает, что разница явно в пользу тарифа \"Ультра\"."
      ]
    },
    {
      "cell_type": "markdown",
      "metadata": {
        "id": "J5iqiGvvMHif"
      },
      "source": [
        "### Проверка гипотезы о том, что средняя выручка пользователей из Москвы отличается от выручки пользователей из других регионов"
      ]
    },
    {
      "cell_type": "markdown",
      "metadata": {
        "id": "5vbI21_tMHif"
      },
      "source": [
        "Нулевая гипотеза - средняя выручка пользователей из Москвы равна выручке пользователей из других регионов.\n",
        "Чтобы ее проверить, выделим две таблицы по городам. Если выборки отличаются по размеру, это нужно отразить при проверке гипотезы."
      ]
    },
    {
      "cell_type": "code",
      "execution_count": null,
      "metadata": {
        "id": "vEv-YveSMHig"
      },
      "outputs": [],
      "source": [
        "moscow_data = data_tariff[data_tariff['city'] == 'Москва'].copy()\n",
        "cities_data = data_tariff[data_tariff['city'] != 'Москва'].copy()"
      ]
    },
    {
      "cell_type": "code",
      "execution_count": null,
      "metadata": {
        "id": "u-8POuBpMHig",
        "outputId": "bfaa7da8-8300-47bd-9dc3-cde864e9dc8d"
      },
      "outputs": [
        {
          "name": "stdout",
          "output_type": "stream",
          "text": [
            "<class 'pandas.core.frame.DataFrame'>\n",
            "Int64Index: 611 entries, 8 to 3213\n",
            "Data columns (total 17 columns):\n",
            "user_id                  611 non-null int64\n",
            "month                    611 non-null int64\n",
            "call_time                611 non-null float64\n",
            "calls_total              611 non-null int64\n",
            "messages_total           611 non-null int64\n",
            "gb_used                  611 non-null float64\n",
            "tariff                   611 non-null object\n",
            "city                     611 non-null object\n",
            "messages_included        611 non-null int64\n",
            "mb_per_month_included    611 non-null int64\n",
            "minutes_included         611 non-null int64\n",
            "rub_monthly_fee          611 non-null int64\n",
            "rub_per_gb               611 non-null int64\n",
            "rub_per_message          611 non-null int64\n",
            "rub_per_minute           611 non-null int64\n",
            "tariff_name              611 non-null object\n",
            "revenue                  611 non-null float64\n",
            "dtypes: float64(3), int64(11), object(3)\n",
            "memory usage: 85.9+ KB\n"
          ]
        },
        {
          "data": {
            "text/plain": [
              "None"
            ]
          },
          "metadata": {},
          "output_type": "display_data"
        },
        {
          "name": "stdout",
          "output_type": "stream",
          "text": [
            "<class 'pandas.core.frame.DataFrame'>\n",
            "Int64Index: 2603 entries, 0 to 3212\n",
            "Data columns (total 17 columns):\n",
            "user_id                  2603 non-null int64\n",
            "month                    2603 non-null int64\n",
            "call_time                2603 non-null float64\n",
            "calls_total              2603 non-null int64\n",
            "messages_total           2603 non-null int64\n",
            "gb_used                  2603 non-null float64\n",
            "tariff                   2603 non-null object\n",
            "city                     2603 non-null object\n",
            "messages_included        2603 non-null int64\n",
            "mb_per_month_included    2603 non-null int64\n",
            "minutes_included         2603 non-null int64\n",
            "rub_monthly_fee          2603 non-null int64\n",
            "rub_per_gb               2603 non-null int64\n",
            "rub_per_message          2603 non-null int64\n",
            "rub_per_minute           2603 non-null int64\n",
            "tariff_name              2603 non-null object\n",
            "revenue                  2603 non-null float64\n",
            "dtypes: float64(3), int64(11), object(3)\n",
            "memory usage: 366.0+ KB\n"
          ]
        },
        {
          "data": {
            "text/plain": [
              "None"
            ]
          },
          "metadata": {},
          "output_type": "display_data"
        }
      ],
      "source": [
        "display(moscow_data.info())\n",
        "display(cities_data.info())"
      ]
    },
    {
      "cell_type": "code",
      "execution_count": null,
      "metadata": {
        "id": "zBoisoBkMHih",
        "outputId": "acbdcf5a-d115-4190-ecd7-d2838c015721"
      },
      "outputs": [
        {
          "name": "stdout",
          "output_type": "stream",
          "text": [
            "p-значение:  0.2843727016644021\n",
            "Не получилось отвергнуть нулевую гипотезу\n"
          ]
        }
      ],
      "source": [
        "alpha = .05\n",
        "\n",
        "results = st.ttest_ind(\n",
        "    moscow_data['revenue'],\n",
        "    cities_data['revenue'], equal_var = False)\n",
        "print('p-значение: ', results.pvalue)\n",
        "if results.pvalue < alpha:\n",
        "    print(\"Отвергаем нулевую гипотезу\")\n",
        "else:\n",
        "    print(\"Не получилось отвергнуть нулевую гипотезу\") "
      ]
    },
    {
      "cell_type": "code",
      "execution_count": null,
      "metadata": {
        "id": "c6DpofAVMHih",
        "outputId": "6dd25219-2076-45fa-a266-0efe4f1fd149"
      },
      "outputs": [
        {
          "name": "stdout",
          "output_type": "stream",
          "text": [
            "Средняя выручка в Москве: 1471.9394435351883\n",
            "Средняя выручка в других городах: 1435.6046868997312\n"
          ]
        }
      ],
      "source": [
        "print('Средняя выручка в Москве:', moscow_data['revenue'].mean())\n",
        "print('Средняя выручка в других городах:', cities_data['revenue'].mean())"
      ]
    },
    {
      "cell_type": "markdown",
      "metadata": {
        "id": "GjgpFEYjMHih"
      },
      "source": [
        "Если гипотезу не получилось опровергнуть, значит, есть вероятность случайного совпадения выборок. Значит, больших отличий в выручке по городу не наблюдается, что и доказывают средние величины по Москве и прочим городам."
      ]
    },
    {
      "cell_type": "markdown",
      "metadata": {
        "id": "6OC4GSGQMHih"
      },
      "source": [
        "## Общий вывод"
      ]
    },
    {
      "cell_type": "markdown",
      "metadata": {
        "id": "wzL6fh1KMHii"
      },
      "source": [
        "- Пользователи предпочитают тариф \"Смарт\", вероятно, из-за его привлекательной цены. Из-за превышения лимитов абонентам часто приходится доплачивать, но связь все равно выходит дешевле, чем для абонентов второго тарифа. Пользователи \"Смарт\" больше тратят на оплату дополнительных единиц связи.\n",
        "- Выручка по тарифу \"Ультра\" заметно выше. Хотя абоненты в большинстве случаев не тратят весь пакет, стоимость абонентской платы перекрывают эту разницу.\n",
        "- Заметнее всего влияет на размер дополнительной платы пользование интернетом, причем, для всех пользователей. Абоненты  \"Ультра\" и абоненты \"Смарт\" используют интернет в схожих объемах. \n",
        "- Сообщения не пользуются популярностью в обеих тарифных группах.\n",
        "- Почти не заметна разница в выручке в Москве и других городах."
      ]
    },
    {
      "cell_type": "markdown",
      "metadata": {
        "id": "g-PKlwq7MHij"
      },
      "source": [
        "Средняя выручка по тарифу \"Ультра\" значительно выше средней по тарифу \"Смарт\", даже с учетом платежей за превышение лимитов. Сотовой компании выгодно, что абоненты даже не полностью расходуют пакет услуг, при этом платя высокую абонентскую плату. Для компании выгоднее тариф \"Ультра\"."
      ]
    }
  ],
  "metadata": {
    "ExecuteTimeLog": [
      {
        "duration": 342,
        "start_time": "2022-01-25T08:09:06.107Z"
      },
      {
        "duration": 796,
        "start_time": "2022-01-25T08:09:08.696Z"
      },
      {
        "duration": 843,
        "start_time": "2022-01-25T08:09:10.116Z"
      },
      {
        "duration": 202,
        "start_time": "2022-01-25T08:09:27.115Z"
      },
      {
        "duration": 236,
        "start_time": "2022-01-25T08:09:40.212Z"
      },
      {
        "duration": 244,
        "start_time": "2022-01-25T08:10:46.449Z"
      },
      {
        "duration": 152,
        "start_time": "2022-01-25T08:11:07.322Z"
      },
      {
        "duration": 137,
        "start_time": "2022-01-25T08:11:18.321Z"
      },
      {
        "duration": 30,
        "start_time": "2022-01-25T08:11:22.230Z"
      },
      {
        "duration": 42,
        "start_time": "2022-01-25T08:11:24.400Z"
      },
      {
        "duration": 107,
        "start_time": "2022-01-25T08:44:22.785Z"
      },
      {
        "duration": 3,
        "start_time": "2022-01-25T09:20:21.577Z"
      },
      {
        "duration": 688,
        "start_time": "2022-01-25T09:21:42.336Z"
      },
      {
        "duration": 11,
        "start_time": "2022-01-25T11:29:11.272Z"
      },
      {
        "duration": 6,
        "start_time": "2022-01-25T11:29:34.702Z"
      },
      {
        "duration": 8,
        "start_time": "2022-01-25T11:29:53.707Z"
      },
      {
        "duration": 9,
        "start_time": "2022-01-25T11:30:05.232Z"
      },
      {
        "duration": 5,
        "start_time": "2022-01-25T11:30:17.420Z"
      },
      {
        "duration": 10,
        "start_time": "2022-01-25T11:30:20.837Z"
      },
      {
        "duration": 461,
        "start_time": "2022-01-25T11:32:14.858Z"
      },
      {
        "duration": 63,
        "start_time": "2022-01-25T11:37:28.031Z"
      },
      {
        "duration": 29,
        "start_time": "2022-01-25T11:37:47.477Z"
      },
      {
        "duration": 19,
        "start_time": "2022-01-25T11:38:00.462Z"
      },
      {
        "duration": 5,
        "start_time": "2022-01-25T11:51:02.947Z"
      },
      {
        "duration": 15,
        "start_time": "2022-01-25T11:51:18.215Z"
      },
      {
        "duration": 7,
        "start_time": "2022-01-25T11:51:45.675Z"
      },
      {
        "duration": 1521,
        "start_time": "2022-01-25T11:52:03.702Z"
      },
      {
        "duration": 31,
        "start_time": "2022-01-25T11:52:05.226Z"
      },
      {
        "duration": 50,
        "start_time": "2022-01-25T11:52:05.260Z"
      },
      {
        "duration": 7,
        "start_time": "2022-01-25T11:52:05.312Z"
      },
      {
        "duration": 245,
        "start_time": "2022-01-25T11:52:05.322Z"
      },
      {
        "duration": 59,
        "start_time": "2022-01-25T11:52:05.570Z"
      },
      {
        "duration": 420,
        "start_time": "2022-01-25T11:52:05.631Z"
      },
      {
        "duration": -605,
        "start_time": "2022-01-25T11:52:06.658Z"
      },
      {
        "duration": 651,
        "start_time": "2022-01-25T11:52:16.290Z"
      },
      {
        "duration": 10,
        "start_time": "2022-01-25T11:52:18.064Z"
      },
      {
        "duration": 626,
        "start_time": "2022-01-25T11:58:04.343Z"
      },
      {
        "duration": 10,
        "start_time": "2022-01-25T11:58:11.811Z"
      },
      {
        "duration": 323,
        "start_time": "2022-01-25T12:02:02.994Z"
      },
      {
        "duration": 143,
        "start_time": "2022-01-25T12:02:05.748Z"
      },
      {
        "duration": 7524,
        "start_time": "2022-01-25T12:02:08.162Z"
      },
      {
        "duration": 284,
        "start_time": "2022-01-25T12:02:26.316Z"
      },
      {
        "duration": 189,
        "start_time": "2022-01-25T12:02:28.967Z"
      },
      {
        "duration": 53,
        "start_time": "2022-01-25T12:02:30.719Z"
      },
      {
        "duration": 37,
        "start_time": "2022-01-25T12:02:46.229Z"
      },
      {
        "duration": 13,
        "start_time": "2022-01-25T12:03:40.989Z"
      },
      {
        "duration": 11,
        "start_time": "2022-01-25T12:03:51.850Z"
      },
      {
        "duration": 489,
        "start_time": "2022-01-25T12:04:24.181Z"
      },
      {
        "duration": 11,
        "start_time": "2022-01-25T12:04:28.073Z"
      },
      {
        "duration": 56,
        "start_time": "2022-01-25T12:06:04.969Z"
      },
      {
        "duration": 9,
        "start_time": "2022-01-25T12:06:19.268Z"
      },
      {
        "duration": 27,
        "start_time": "2022-01-25T12:06:41.613Z"
      },
      {
        "duration": 8,
        "start_time": "2022-01-25T12:06:53.706Z"
      },
      {
        "duration": 8,
        "start_time": "2022-01-25T12:07:13.879Z"
      },
      {
        "duration": 30,
        "start_time": "2022-01-25T12:07:58.566Z"
      },
      {
        "duration": 8,
        "start_time": "2022-01-25T12:08:08.570Z"
      },
      {
        "duration": 93,
        "start_time": "2022-01-25T12:08:43.918Z"
      },
      {
        "duration": 11,
        "start_time": "2022-01-25T12:08:50.427Z"
      },
      {
        "duration": 5,
        "start_time": "2022-01-25T12:09:30.182Z"
      },
      {
        "duration": 40,
        "start_time": "2022-01-25T12:09:30.198Z"
      },
      {
        "duration": 55,
        "start_time": "2022-01-25T12:09:30.240Z"
      },
      {
        "duration": 5,
        "start_time": "2022-01-25T12:09:30.298Z"
      },
      {
        "duration": 239,
        "start_time": "2022-01-25T12:09:30.306Z"
      },
      {
        "duration": 76,
        "start_time": "2022-01-25T12:09:30.547Z"
      },
      {
        "duration": 645,
        "start_time": "2022-01-25T12:09:30.625Z"
      },
      {
        "duration": 9,
        "start_time": "2022-01-25T12:09:31.272Z"
      },
      {
        "duration": 54,
        "start_time": "2022-01-25T12:09:31.283Z"
      },
      {
        "duration": 124,
        "start_time": "2022-01-25T12:09:31.341Z"
      },
      {
        "duration": 38,
        "start_time": "2022-01-25T12:09:31.468Z"
      },
      {
        "duration": 25,
        "start_time": "2022-01-25T12:09:34.953Z"
      },
      {
        "duration": 8,
        "start_time": "2022-01-25T12:09:38.526Z"
      },
      {
        "duration": 178,
        "start_time": "2022-01-25T12:09:48.208Z"
      },
      {
        "duration": 49,
        "start_time": "2022-01-25T12:09:49.763Z"
      },
      {
        "duration": 6,
        "start_time": "2022-01-25T12:09:51.369Z"
      },
      {
        "duration": 483,
        "start_time": "2022-01-25T12:09:52.132Z"
      },
      {
        "duration": 10,
        "start_time": "2022-01-25T12:09:53.112Z"
      },
      {
        "duration": 25,
        "start_time": "2022-01-25T12:09:55.288Z"
      },
      {
        "duration": 8,
        "start_time": "2022-01-25T12:09:56.108Z"
      },
      {
        "duration": 27,
        "start_time": "2022-01-25T12:09:58.609Z"
      },
      {
        "duration": 9,
        "start_time": "2022-01-25T12:10:00.052Z"
      },
      {
        "duration": 9,
        "start_time": "2022-01-25T12:12:10.738Z"
      },
      {
        "duration": 23,
        "start_time": "2022-01-25T12:12:51.116Z"
      },
      {
        "duration": 9,
        "start_time": "2022-01-25T12:12:59.749Z"
      },
      {
        "duration": 12,
        "start_time": "2022-01-25T12:13:03.989Z"
      },
      {
        "duration": 1569,
        "start_time": "2022-01-25T12:13:23.909Z"
      },
      {
        "duration": 31,
        "start_time": "2022-01-25T12:13:25.481Z"
      },
      {
        "duration": 65,
        "start_time": "2022-01-25T12:13:25.515Z"
      },
      {
        "duration": 9,
        "start_time": "2022-01-25T12:13:25.583Z"
      },
      {
        "duration": 281,
        "start_time": "2022-01-25T12:13:25.595Z"
      },
      {
        "duration": 102,
        "start_time": "2022-01-25T12:13:25.878Z"
      },
      {
        "duration": 816,
        "start_time": "2022-01-25T12:13:25.983Z"
      },
      {
        "duration": 9,
        "start_time": "2022-01-25T12:13:26.804Z"
      },
      {
        "duration": 56,
        "start_time": "2022-01-25T12:13:26.816Z"
      },
      {
        "duration": 134,
        "start_time": "2022-01-25T12:13:26.875Z"
      },
      {
        "duration": 56,
        "start_time": "2022-01-25T12:13:27.012Z"
      },
      {
        "duration": 26,
        "start_time": "2022-01-25T12:13:27.070Z"
      },
      {
        "duration": 6,
        "start_time": "2022-01-25T12:13:27.098Z"
      },
      {
        "duration": 204,
        "start_time": "2022-01-25T12:13:27.107Z"
      },
      {
        "duration": 83,
        "start_time": "2022-01-25T12:13:27.314Z"
      },
      {
        "duration": 14,
        "start_time": "2022-01-25T12:13:27.400Z"
      },
      {
        "duration": 606,
        "start_time": "2022-01-25T12:13:27.416Z"
      },
      {
        "duration": 10,
        "start_time": "2022-01-25T12:13:28.025Z"
      },
      {
        "duration": 49,
        "start_time": "2022-01-25T12:13:28.038Z"
      },
      {
        "duration": 8,
        "start_time": "2022-01-25T12:13:28.090Z"
      },
      {
        "duration": 25,
        "start_time": "2022-01-25T12:13:28.101Z"
      },
      {
        "duration": 41,
        "start_time": "2022-01-25T12:13:28.129Z"
      },
      {
        "duration": 11,
        "start_time": "2022-01-25T12:13:28.176Z"
      },
      {
        "duration": 5,
        "start_time": "2022-01-25T12:13:28.191Z"
      },
      {
        "duration": 18,
        "start_time": "2022-01-25T12:13:28.199Z"
      },
      {
        "duration": 5,
        "start_time": "2022-01-25T12:15:48.811Z"
      },
      {
        "duration": 53,
        "start_time": "2022-01-25T12:15:48.819Z"
      },
      {
        "duration": 51,
        "start_time": "2022-01-25T12:15:48.875Z"
      },
      {
        "duration": 8,
        "start_time": "2022-01-25T12:15:48.930Z"
      },
      {
        "duration": 248,
        "start_time": "2022-01-25T12:15:48.941Z"
      },
      {
        "duration": 90,
        "start_time": "2022-01-25T12:15:49.192Z"
      },
      {
        "duration": 1239,
        "start_time": "2022-01-25T12:15:49.286Z"
      },
      {
        "duration": 12,
        "start_time": "2022-01-25T12:15:50.528Z"
      },
      {
        "duration": 99,
        "start_time": "2022-01-25T12:15:54.299Z"
      },
      {
        "duration": 47,
        "start_time": "2022-01-25T12:17:37.370Z"
      },
      {
        "duration": 27,
        "start_time": "2022-01-25T12:17:55.684Z"
      },
      {
        "duration": 1569,
        "start_time": "2022-01-25T12:18:33.453Z"
      },
      {
        "duration": 31,
        "start_time": "2022-01-25T12:18:35.025Z"
      },
      {
        "duration": 105,
        "start_time": "2022-01-25T12:18:35.059Z"
      },
      {
        "duration": 5,
        "start_time": "2022-01-25T12:18:35.168Z"
      },
      {
        "duration": 248,
        "start_time": "2022-01-25T12:18:35.175Z"
      },
      {
        "duration": 79,
        "start_time": "2022-01-25T12:18:35.425Z"
      },
      {
        "duration": 664,
        "start_time": "2022-01-25T12:18:35.507Z"
      },
      {
        "duration": 9,
        "start_time": "2022-01-25T12:18:36.176Z"
      },
      {
        "duration": 74,
        "start_time": "2022-01-25T12:18:36.188Z"
      },
      {
        "duration": 134,
        "start_time": "2022-01-25T12:18:36.265Z"
      },
      {
        "duration": 37,
        "start_time": "2022-01-25T12:18:36.402Z"
      },
      {
        "duration": 46,
        "start_time": "2022-01-25T12:18:36.442Z"
      },
      {
        "duration": 8,
        "start_time": "2022-01-25T12:18:36.490Z"
      },
      {
        "duration": 202,
        "start_time": "2022-01-25T12:18:36.500Z"
      },
      {
        "duration": 61,
        "start_time": "2022-01-25T12:18:36.704Z"
      },
      {
        "duration": 13,
        "start_time": "2022-01-25T12:18:36.768Z"
      },
      {
        "duration": 503,
        "start_time": "2022-01-25T12:18:36.783Z"
      },
      {
        "duration": 12,
        "start_time": "2022-01-25T12:18:37.288Z"
      },
      {
        "duration": 56,
        "start_time": "2022-01-25T12:18:37.303Z"
      },
      {
        "duration": 11,
        "start_time": "2022-01-25T12:18:37.362Z"
      },
      {
        "duration": 46,
        "start_time": "2022-01-25T12:18:37.376Z"
      },
      {
        "duration": 13,
        "start_time": "2022-01-25T12:18:37.425Z"
      },
      {
        "duration": 12,
        "start_time": "2022-01-25T12:18:37.464Z"
      },
      {
        "duration": 7,
        "start_time": "2022-01-25T12:18:37.480Z"
      },
      {
        "duration": 18,
        "start_time": "2022-01-25T12:18:37.490Z"
      },
      {
        "duration": 11,
        "start_time": "2022-01-25T12:22:01.248Z"
      },
      {
        "duration": 6,
        "start_time": "2022-01-25T12:22:12.094Z"
      },
      {
        "duration": 30,
        "start_time": "2022-01-25T12:22:12.105Z"
      },
      {
        "duration": 43,
        "start_time": "2022-01-25T12:22:12.137Z"
      },
      {
        "duration": 6,
        "start_time": "2022-01-25T12:22:12.185Z"
      },
      {
        "duration": 346,
        "start_time": "2022-01-25T12:22:12.195Z"
      },
      {
        "duration": 72,
        "start_time": "2022-01-25T12:22:12.544Z"
      },
      {
        "duration": 647,
        "start_time": "2022-01-25T12:22:12.618Z"
      },
      {
        "duration": 12,
        "start_time": "2022-01-25T12:22:13.267Z"
      },
      {
        "duration": 53,
        "start_time": "2022-01-25T12:22:13.282Z"
      },
      {
        "duration": 13,
        "start_time": "2022-01-25T12:22:16.386Z"
      },
      {
        "duration": 8,
        "start_time": "2022-01-25T12:22:47.319Z"
      },
      {
        "duration": 12,
        "start_time": "2022-01-25T12:22:55.503Z"
      },
      {
        "duration": 10,
        "start_time": "2022-01-25T12:23:03.399Z"
      },
      {
        "duration": 16,
        "start_time": "2022-01-25T12:23:05.512Z"
      },
      {
        "duration": 5,
        "start_time": "2022-01-25T12:24:20.572Z"
      },
      {
        "duration": 11,
        "start_time": "2022-01-25T12:24:22.337Z"
      },
      {
        "duration": 20,
        "start_time": "2022-01-25T12:24:38.663Z"
      },
      {
        "duration": 10,
        "start_time": "2022-01-25T12:24:40.380Z"
      },
      {
        "duration": 4,
        "start_time": "2022-01-25T12:25:21.360Z"
      },
      {
        "duration": 6,
        "start_time": "2022-01-25T12:25:22.893Z"
      },
      {
        "duration": 20,
        "start_time": "2022-01-25T12:25:28.475Z"
      },
      {
        "duration": 10,
        "start_time": "2022-01-25T12:25:29.343Z"
      },
      {
        "duration": 5,
        "start_time": "2022-01-25T12:25:40.084Z"
      },
      {
        "duration": 10,
        "start_time": "2022-01-25T12:25:40.907Z"
      },
      {
        "duration": 10,
        "start_time": "2022-01-25T12:32:42.006Z"
      },
      {
        "duration": 4,
        "start_time": "2022-01-25T12:36:24.763Z"
      },
      {
        "duration": 31,
        "start_time": "2022-01-25T12:36:24.772Z"
      },
      {
        "duration": 47,
        "start_time": "2022-01-25T12:36:24.805Z"
      },
      {
        "duration": 4,
        "start_time": "2022-01-25T12:36:24.855Z"
      },
      {
        "duration": 224,
        "start_time": "2022-01-25T12:36:24.861Z"
      },
      {
        "duration": 77,
        "start_time": "2022-01-25T12:36:25.088Z"
      },
      {
        "duration": 632,
        "start_time": "2022-01-25T12:36:25.167Z"
      },
      {
        "duration": 11,
        "start_time": "2022-01-25T12:36:25.801Z"
      },
      {
        "duration": 65,
        "start_time": "2022-01-25T12:36:25.818Z"
      },
      {
        "duration": 12,
        "start_time": "2022-01-25T12:36:25.886Z"
      },
      {
        "duration": 6,
        "start_time": "2022-01-25T12:36:25.900Z"
      },
      {
        "duration": 14,
        "start_time": "2022-01-25T12:36:25.908Z"
      },
      {
        "duration": 167,
        "start_time": "2022-01-25T12:36:25.924Z"
      },
      {
        "duration": 41,
        "start_time": "2022-01-25T12:36:26.093Z"
      },
      {
        "duration": 49,
        "start_time": "2022-01-25T12:36:26.136Z"
      },
      {
        "duration": 4,
        "start_time": "2022-01-25T12:36:26.187Z"
      },
      {
        "duration": 12,
        "start_time": "2022-01-25T12:36:26.194Z"
      },
      {
        "duration": 217,
        "start_time": "2022-01-25T12:36:26.208Z"
      },
      {
        "duration": 64,
        "start_time": "2022-01-25T12:36:26.428Z"
      },
      {
        "duration": 11,
        "start_time": "2022-01-25T12:36:26.495Z"
      },
      {
        "duration": 42,
        "start_time": "2022-01-25T12:36:26.509Z"
      },
      {
        "duration": 9,
        "start_time": "2022-01-25T12:36:39.430Z"
      },
      {
        "duration": 11,
        "start_time": "2022-01-25T12:36:52.427Z"
      },
      {
        "duration": 9,
        "start_time": "2022-01-25T12:36:53.955Z"
      },
      {
        "duration": 5,
        "start_time": "2022-01-25T12:37:13.987Z"
      },
      {
        "duration": 8,
        "start_time": "2022-01-25T12:37:18.138Z"
      },
      {
        "duration": 9,
        "start_time": "2022-01-25T12:37:32.688Z"
      },
      {
        "duration": 16,
        "start_time": "2022-01-25T12:37:37.128Z"
      },
      {
        "duration": 9,
        "start_time": "2022-01-25T12:37:39.253Z"
      },
      {
        "duration": 22,
        "start_time": "2022-01-25T12:38:06.807Z"
      },
      {
        "duration": 11,
        "start_time": "2022-01-25T12:38:08.919Z"
      },
      {
        "duration": 4,
        "start_time": "2022-01-25T12:38:37.994Z"
      },
      {
        "duration": 29,
        "start_time": "2022-01-25T12:38:38.005Z"
      },
      {
        "duration": 40,
        "start_time": "2022-01-25T12:38:38.037Z"
      },
      {
        "duration": 4,
        "start_time": "2022-01-25T12:38:38.080Z"
      },
      {
        "duration": 232,
        "start_time": "2022-01-25T12:38:38.086Z"
      },
      {
        "duration": 73,
        "start_time": "2022-01-25T12:38:38.321Z"
      },
      {
        "duration": 625,
        "start_time": "2022-01-25T12:38:38.396Z"
      },
      {
        "duration": 8,
        "start_time": "2022-01-25T12:38:39.023Z"
      },
      {
        "duration": 59,
        "start_time": "2022-01-25T12:38:39.035Z"
      },
      {
        "duration": 11,
        "start_time": "2022-01-25T12:38:39.096Z"
      },
      {
        "duration": 16,
        "start_time": "2022-01-25T12:38:39.109Z"
      },
      {
        "duration": 12,
        "start_time": "2022-01-25T12:38:39.127Z"
      },
      {
        "duration": 145,
        "start_time": "2022-01-25T12:38:39.142Z"
      },
      {
        "duration": 41,
        "start_time": "2022-01-25T12:38:39.289Z"
      },
      {
        "duration": 46,
        "start_time": "2022-01-25T12:38:39.332Z"
      },
      {
        "duration": 4,
        "start_time": "2022-01-25T12:38:39.381Z"
      },
      {
        "duration": 12,
        "start_time": "2022-01-25T12:38:39.388Z"
      },
      {
        "duration": 202,
        "start_time": "2022-01-25T12:38:39.402Z"
      },
      {
        "duration": 59,
        "start_time": "2022-01-25T12:38:39.607Z"
      },
      {
        "duration": 10,
        "start_time": "2022-01-25T12:38:39.668Z"
      },
      {
        "duration": 32,
        "start_time": "2022-01-25T12:38:39.680Z"
      },
      {
        "duration": 7,
        "start_time": "2022-01-25T12:38:39.715Z"
      },
      {
        "duration": 4,
        "start_time": "2022-01-25T12:38:47.904Z"
      },
      {
        "duration": 8,
        "start_time": "2022-01-25T12:38:50.001Z"
      },
      {
        "duration": 14,
        "start_time": "2022-01-25T12:38:56.082Z"
      },
      {
        "duration": 9,
        "start_time": "2022-01-25T12:38:57.869Z"
      },
      {
        "duration": 22,
        "start_time": "2022-01-25T12:39:01.801Z"
      },
      {
        "duration": 11,
        "start_time": "2022-01-25T12:39:03.467Z"
      },
      {
        "duration": 9,
        "start_time": "2022-01-25T12:39:11.566Z"
      },
      {
        "duration": 5,
        "start_time": "2022-01-25T12:39:22.154Z"
      },
      {
        "duration": 9,
        "start_time": "2022-01-25T12:39:23.766Z"
      },
      {
        "duration": 10,
        "start_time": "2022-01-25T12:39:26.554Z"
      },
      {
        "duration": 420,
        "start_time": "2022-01-25T13:21:18.456Z"
      },
      {
        "duration": 7145,
        "start_time": "2022-01-25T13:21:20.772Z"
      },
      {
        "duration": -586,
        "start_time": "2022-01-25T13:21:28.508Z"
      },
      {
        "duration": 307,
        "start_time": "2022-01-25T13:21:30.727Z"
      },
      {
        "duration": 5963,
        "start_time": "2022-01-25T13:22:27.566Z"
      },
      {
        "duration": -626,
        "start_time": "2022-01-25T13:22:34.158Z"
      },
      {
        "duration": 9346,
        "start_time": "2022-01-25T13:22:55.986Z"
      },
      {
        "duration": -582,
        "start_time": "2022-01-25T13:23:05.918Z"
      },
      {
        "duration": 315,
        "start_time": "2022-01-25T13:23:18.045Z"
      },
      {
        "duration": 5,
        "start_time": "2022-01-25T13:23:28.284Z"
      },
      {
        "duration": 279,
        "start_time": "2022-01-25T13:23:32.941Z"
      },
      {
        "duration": 4,
        "start_time": "2022-01-25T13:23:38.693Z"
      },
      {
        "duration": 6,
        "start_time": "2022-01-25T13:23:42.386Z"
      },
      {
        "duration": 6,
        "start_time": "2022-01-25T13:24:53.109Z"
      },
      {
        "duration": 7,
        "start_time": "2022-01-25T13:24:56.877Z"
      },
      {
        "duration": 7,
        "start_time": "2022-01-25T13:25:13.170Z"
      },
      {
        "duration": 7,
        "start_time": "2022-01-25T13:25:14.899Z"
      },
      {
        "duration": 26,
        "start_time": "2022-01-25T13:25:32.943Z"
      },
      {
        "duration": 11,
        "start_time": "2022-01-25T13:25:35.663Z"
      },
      {
        "duration": 12,
        "start_time": "2022-01-25T13:25:56.235Z"
      },
      {
        "duration": 6,
        "start_time": "2022-01-25T13:25:58.534Z"
      },
      {
        "duration": 11,
        "start_time": "2022-01-25T13:26:00.161Z"
      },
      {
        "duration": 10,
        "start_time": "2022-01-25T13:26:09.470Z"
      },
      {
        "duration": 10,
        "start_time": "2022-01-25T13:26:46.448Z"
      },
      {
        "duration": 11,
        "start_time": "2022-01-25T13:26:57.496Z"
      },
      {
        "duration": 10,
        "start_time": "2022-01-25T13:27:32.470Z"
      },
      {
        "duration": 1619,
        "start_time": "2022-01-25T13:28:16.110Z"
      },
      {
        "duration": 40,
        "start_time": "2022-01-25T13:28:17.737Z"
      },
      {
        "duration": 50,
        "start_time": "2022-01-25T13:28:17.780Z"
      },
      {
        "duration": 5,
        "start_time": "2022-01-25T13:28:17.833Z"
      },
      {
        "duration": 11,
        "start_time": "2022-01-25T13:28:17.841Z"
      },
      {
        "duration": 9,
        "start_time": "2022-01-25T13:28:17.854Z"
      },
      {
        "duration": 254,
        "start_time": "2022-01-25T13:28:17.867Z"
      },
      {
        "duration": 76,
        "start_time": "2022-01-25T13:28:18.126Z"
      },
      {
        "duration": 716,
        "start_time": "2022-01-25T13:28:18.205Z"
      },
      {
        "duration": 12,
        "start_time": "2022-01-25T13:28:18.924Z"
      },
      {
        "duration": 68,
        "start_time": "2022-01-25T13:28:18.939Z"
      },
      {
        "duration": 11,
        "start_time": "2022-01-25T13:28:19.009Z"
      },
      {
        "duration": 10,
        "start_time": "2022-01-25T13:28:19.022Z"
      },
      {
        "duration": 34,
        "start_time": "2022-01-25T13:28:19.035Z"
      },
      {
        "duration": 146,
        "start_time": "2022-01-25T13:28:19.072Z"
      },
      {
        "duration": 56,
        "start_time": "2022-01-25T13:28:19.220Z"
      },
      {
        "duration": 29,
        "start_time": "2022-01-25T13:28:19.278Z"
      },
      {
        "duration": 4,
        "start_time": "2022-01-25T13:28:19.309Z"
      },
      {
        "duration": 11,
        "start_time": "2022-01-25T13:28:19.315Z"
      },
      {
        "duration": 230,
        "start_time": "2022-01-25T13:28:19.328Z"
      },
      {
        "duration": 46,
        "start_time": "2022-01-25T13:28:19.561Z"
      },
      {
        "duration": 9,
        "start_time": "2022-01-25T13:28:19.612Z"
      },
      {
        "duration": 52,
        "start_time": "2022-01-25T13:28:19.624Z"
      },
      {
        "duration": 7,
        "start_time": "2022-01-25T13:28:19.679Z"
      },
      {
        "duration": 20,
        "start_time": "2022-01-25T13:28:19.689Z"
      },
      {
        "duration": 7,
        "start_time": "2022-01-25T13:28:19.712Z"
      },
      {
        "duration": 17,
        "start_time": "2022-01-25T13:28:19.722Z"
      },
      {
        "duration": 26,
        "start_time": "2022-01-25T13:28:19.741Z"
      },
      {
        "duration": 26,
        "start_time": "2022-01-25T13:28:19.770Z"
      },
      {
        "duration": 9,
        "start_time": "2022-01-25T13:28:19.799Z"
      },
      {
        "duration": 10,
        "start_time": "2022-01-25T13:28:19.810Z"
      },
      {
        "duration": 4,
        "start_time": "2022-01-25T13:28:19.822Z"
      },
      {
        "duration": 12,
        "start_time": "2022-01-25T13:28:19.865Z"
      },
      {
        "duration": 9,
        "start_time": "2022-01-25T13:28:19.880Z"
      },
      {
        "duration": 10,
        "start_time": "2022-01-25T13:28:19.891Z"
      },
      {
        "duration": 11,
        "start_time": "2022-01-25T13:28:19.903Z"
      },
      {
        "duration": 48,
        "start_time": "2022-01-25T13:28:19.917Z"
      },
      {
        "duration": 28,
        "start_time": "2022-01-25T13:28:19.968Z"
      },
      {
        "duration": 425,
        "start_time": "2022-01-25T13:28:19.999Z"
      },
      {
        "duration": -553,
        "start_time": "2022-01-25T13:28:20.980Z"
      },
      {
        "duration": -572,
        "start_time": "2022-01-25T13:28:21.001Z"
      },
      {
        "duration": 5,
        "start_time": "2022-01-25T13:30:35.245Z"
      },
      {
        "duration": 1818,
        "start_time": "2022-01-25T13:30:39.069Z"
      },
      {
        "duration": 1801,
        "start_time": "2022-01-25T13:31:05.792Z"
      },
      {
        "duration": 11,
        "start_time": "2022-01-25T13:31:12.352Z"
      },
      {
        "duration": 1582,
        "start_time": "2022-01-25T13:31:20.257Z"
      },
      {
        "duration": 1514,
        "start_time": "2022-01-25T13:57:37.441Z"
      },
      {
        "duration": 37,
        "start_time": "2022-01-25T13:57:38.959Z"
      },
      {
        "duration": 52,
        "start_time": "2022-01-25T13:57:39.001Z"
      },
      {
        "duration": 6,
        "start_time": "2022-01-25T13:57:39.057Z"
      },
      {
        "duration": 8,
        "start_time": "2022-01-25T13:57:39.066Z"
      },
      {
        "duration": 10,
        "start_time": "2022-01-25T13:57:39.077Z"
      },
      {
        "duration": 374,
        "start_time": "2022-01-25T13:57:39.091Z"
      },
      {
        "duration": 70,
        "start_time": "2022-01-25T13:57:39.472Z"
      },
      {
        "duration": 773,
        "start_time": "2022-01-25T13:57:39.546Z"
      },
      {
        "duration": 10,
        "start_time": "2022-01-25T13:57:40.323Z"
      },
      {
        "duration": 72,
        "start_time": "2022-01-25T13:57:40.336Z"
      },
      {
        "duration": 11,
        "start_time": "2022-01-25T13:57:40.411Z"
      },
      {
        "duration": 10,
        "start_time": "2022-01-25T13:57:40.424Z"
      },
      {
        "duration": 30,
        "start_time": "2022-01-25T13:57:40.437Z"
      },
      {
        "duration": 171,
        "start_time": "2022-01-25T13:57:40.470Z"
      },
      {
        "duration": 57,
        "start_time": "2022-01-25T13:57:40.644Z"
      },
      {
        "duration": 30,
        "start_time": "2022-01-25T13:57:40.704Z"
      },
      {
        "duration": 4,
        "start_time": "2022-01-25T13:57:40.737Z"
      },
      {
        "duration": 7,
        "start_time": "2022-01-25T13:57:40.765Z"
      },
      {
        "duration": 214,
        "start_time": "2022-01-25T13:57:40.775Z"
      },
      {
        "duration": 73,
        "start_time": "2022-01-25T13:57:40.992Z"
      },
      {
        "duration": 10,
        "start_time": "2022-01-25T13:57:41.068Z"
      },
      {
        "duration": 49,
        "start_time": "2022-01-25T13:57:41.083Z"
      },
      {
        "duration": 10,
        "start_time": "2022-01-25T13:57:41.135Z"
      },
      {
        "duration": 16,
        "start_time": "2022-01-25T13:57:41.164Z"
      },
      {
        "duration": 9,
        "start_time": "2022-01-25T13:57:41.184Z"
      },
      {
        "duration": 27,
        "start_time": "2022-01-25T13:57:41.196Z"
      },
      {
        "duration": 43,
        "start_time": "2022-01-25T13:57:41.226Z"
      },
      {
        "duration": 29,
        "start_time": "2022-01-25T13:57:41.272Z"
      },
      {
        "duration": 14,
        "start_time": "2022-01-25T13:57:41.304Z"
      },
      {
        "duration": 53,
        "start_time": "2022-01-25T13:57:41.321Z"
      },
      {
        "duration": 8,
        "start_time": "2022-01-25T13:57:41.378Z"
      },
      {
        "duration": 30,
        "start_time": "2022-01-25T13:57:41.390Z"
      },
      {
        "duration": 10,
        "start_time": "2022-01-25T13:58:12.750Z"
      },
      {
        "duration": 5,
        "start_time": "2022-01-25T13:58:14.766Z"
      },
      {
        "duration": 11,
        "start_time": "2022-01-25T13:58:16.546Z"
      },
      {
        "duration": 7,
        "start_time": "2022-01-25T14:01:18.551Z"
      },
      {
        "duration": 10,
        "start_time": "2022-01-25T14:01:20.642Z"
      },
      {
        "duration": 7,
        "start_time": "2022-01-25T14:03:36.516Z"
      },
      {
        "duration": 9,
        "start_time": "2022-01-25T14:03:41.428Z"
      },
      {
        "duration": 414,
        "start_time": "2022-01-25T14:03:43.384Z"
      },
      {
        "duration": 10,
        "start_time": "2022-01-25T14:03:50.395Z"
      },
      {
        "duration": 295,
        "start_time": "2022-01-25T14:03:52.165Z"
      },
      {
        "duration": 9,
        "start_time": "2022-01-25T14:03:59.505Z"
      },
      {
        "duration": 9,
        "start_time": "2022-01-25T14:04:02.606Z"
      },
      {
        "duration": 9,
        "start_time": "2022-01-25T14:04:04.234Z"
      },
      {
        "duration": 9,
        "start_time": "2022-01-25T14:11:42.928Z"
      },
      {
        "duration": 295,
        "start_time": "2022-01-25T14:17:50.680Z"
      },
      {
        "duration": 10,
        "start_time": "2022-01-25T14:22:02.584Z"
      },
      {
        "duration": 16,
        "start_time": "2022-01-25T14:22:09.300Z"
      },
      {
        "duration": 12,
        "start_time": "2022-01-25T14:23:17.828Z"
      },
      {
        "duration": 4,
        "start_time": "2022-01-25T14:23:38.334Z"
      },
      {
        "duration": 39,
        "start_time": "2022-01-25T14:23:38.344Z"
      },
      {
        "duration": 53,
        "start_time": "2022-01-25T14:23:38.386Z"
      },
      {
        "duration": 3,
        "start_time": "2022-01-25T14:23:38.443Z"
      },
      {
        "duration": 7,
        "start_time": "2022-01-25T14:23:38.449Z"
      },
      {
        "duration": 24,
        "start_time": "2022-01-25T14:23:38.464Z"
      },
      {
        "duration": 237,
        "start_time": "2022-01-25T14:23:38.490Z"
      },
      {
        "duration": 68,
        "start_time": "2022-01-25T14:23:38.729Z"
      },
      {
        "duration": 664,
        "start_time": "2022-01-25T14:23:38.801Z"
      },
      {
        "duration": 9,
        "start_time": "2022-01-25T14:23:39.468Z"
      },
      {
        "duration": 56,
        "start_time": "2022-01-25T14:23:39.479Z"
      },
      {
        "duration": 28,
        "start_time": "2022-01-25T14:23:39.537Z"
      },
      {
        "duration": 6,
        "start_time": "2022-01-25T14:23:39.567Z"
      },
      {
        "duration": 20,
        "start_time": "2022-01-25T14:23:39.575Z"
      },
      {
        "duration": 146,
        "start_time": "2022-01-25T14:23:39.598Z"
      },
      {
        "duration": 46,
        "start_time": "2022-01-25T14:23:39.746Z"
      },
      {
        "duration": 24,
        "start_time": "2022-01-25T14:23:39.795Z"
      },
      {
        "duration": 3,
        "start_time": "2022-01-25T14:23:39.822Z"
      },
      {
        "duration": 13,
        "start_time": "2022-01-25T14:23:39.828Z"
      },
      {
        "duration": 189,
        "start_time": "2022-01-25T14:23:39.865Z"
      },
      {
        "duration": 51,
        "start_time": "2022-01-25T14:23:40.065Z"
      },
      {
        "duration": 11,
        "start_time": "2022-01-25T14:23:40.118Z"
      },
      {
        "duration": 54,
        "start_time": "2022-01-25T14:23:40.131Z"
      },
      {
        "duration": 7,
        "start_time": "2022-01-25T14:23:40.190Z"
      },
      {
        "duration": 23,
        "start_time": "2022-01-25T14:23:40.201Z"
      },
      {
        "duration": 25,
        "start_time": "2022-01-25T14:23:40.227Z"
      },
      {
        "duration": 33,
        "start_time": "2022-01-25T14:23:40.254Z"
      },
      {
        "duration": 22,
        "start_time": "2022-01-25T14:23:40.290Z"
      },
      {
        "duration": 36,
        "start_time": "2022-01-25T14:23:40.316Z"
      },
      {
        "duration": 14,
        "start_time": "2022-01-25T14:23:40.354Z"
      },
      {
        "duration": 23,
        "start_time": "2022-01-25T14:23:40.371Z"
      },
      {
        "duration": 11,
        "start_time": "2022-01-25T14:23:40.396Z"
      },
      {
        "duration": 28,
        "start_time": "2022-01-25T14:23:40.410Z"
      },
      {
        "duration": 17,
        "start_time": "2022-01-25T14:23:40.440Z"
      },
      {
        "duration": 24,
        "start_time": "2022-01-25T14:23:40.459Z"
      },
      {
        "duration": 28,
        "start_time": "2022-01-25T14:23:40.486Z"
      },
      {
        "duration": 27,
        "start_time": "2022-01-25T14:23:40.516Z"
      },
      {
        "duration": 15,
        "start_time": "2022-01-25T14:23:40.545Z"
      },
      {
        "duration": 9,
        "start_time": "2022-01-25T14:23:47.072Z"
      },
      {
        "duration": 9,
        "start_time": "2022-01-25T14:23:52.785Z"
      },
      {
        "duration": 10,
        "start_time": "2022-01-25T14:24:24.244Z"
      },
      {
        "duration": 292,
        "start_time": "2022-01-25T14:25:40.767Z"
      },
      {
        "duration": 7,
        "start_time": "2022-01-25T14:25:44.814Z"
      },
      {
        "duration": 7,
        "start_time": "2022-01-25T14:25:53.424Z"
      },
      {
        "duration": 7,
        "start_time": "2022-01-25T14:25:57.603Z"
      },
      {
        "duration": 13,
        "start_time": "2022-01-25T14:26:13.248Z"
      },
      {
        "duration": 8,
        "start_time": "2022-01-25T14:31:37.262Z"
      },
      {
        "duration": 9,
        "start_time": "2022-01-25T14:31:39.060Z"
      },
      {
        "duration": 9,
        "start_time": "2022-01-25T14:31:41.496Z"
      },
      {
        "duration": 12,
        "start_time": "2022-01-25T14:32:01.823Z"
      },
      {
        "duration": 9,
        "start_time": "2022-01-25T14:32:39.809Z"
      },
      {
        "duration": 104,
        "start_time": "2022-01-25T14:45:01.972Z"
      },
      {
        "duration": 484,
        "start_time": "2022-01-25T14:45:39.473Z"
      },
      {
        "duration": 11,
        "start_time": "2022-01-25T14:45:51.839Z"
      },
      {
        "duration": 9,
        "start_time": "2022-01-25T14:45:55.283Z"
      },
      {
        "duration": 18,
        "start_time": "2022-01-25T14:45:56.566Z"
      },
      {
        "duration": 11,
        "start_time": "2022-01-25T14:46:15.004Z"
      },
      {
        "duration": 548,
        "start_time": "2022-01-25T14:46:18.279Z"
      },
      {
        "duration": 10,
        "start_time": "2022-01-25T14:49:17.596Z"
      },
      {
        "duration": 20,
        "start_time": "2022-01-25T14:49:19.639Z"
      },
      {
        "duration": 11,
        "start_time": "2022-01-25T14:49:22.218Z"
      },
      {
        "duration": 534,
        "start_time": "2022-01-25T14:49:25.399Z"
      },
      {
        "duration": 504,
        "start_time": "2022-01-25T14:50:28.149Z"
      },
      {
        "duration": 10,
        "start_time": "2022-01-25T14:52:01.036Z"
      },
      {
        "duration": 492,
        "start_time": "2022-01-25T14:52:04.168Z"
      },
      {
        "duration": 8437,
        "start_time": "2022-01-25T14:53:00.987Z"
      },
      {
        "duration": 568,
        "start_time": "2022-01-25T15:01:42.333Z"
      },
      {
        "duration": 376,
        "start_time": "2022-01-25T15:01:56.962Z"
      },
      {
        "duration": 380,
        "start_time": "2022-01-25T15:02:12.429Z"
      },
      {
        "duration": 8353,
        "start_time": "2022-01-25T15:02:19.291Z"
      },
      {
        "duration": 460,
        "start_time": "2022-01-25T15:04:01.905Z"
      },
      {
        "duration": 469,
        "start_time": "2022-01-25T15:05:04.183Z"
      },
      {
        "duration": 9537,
        "start_time": "2022-01-25T15:07:18.408Z"
      },
      {
        "duration": 313,
        "start_time": "2022-01-25T15:08:15.414Z"
      },
      {
        "duration": 326,
        "start_time": "2022-01-25T15:08:47.803Z"
      },
      {
        "duration": 742,
        "start_time": "2022-01-25T15:08:59.445Z"
      },
      {
        "duration": 611,
        "start_time": "2022-01-25T15:09:02.040Z"
      },
      {
        "duration": 306,
        "start_time": "2022-01-25T15:09:13.898Z"
      },
      {
        "duration": 309,
        "start_time": "2022-01-25T15:09:50.118Z"
      },
      {
        "duration": 10,
        "start_time": "2022-01-25T15:10:39.176Z"
      },
      {
        "duration": 26,
        "start_time": "2022-01-25T15:10:40.138Z"
      },
      {
        "duration": 13,
        "start_time": "2022-01-25T15:10:44.757Z"
      },
      {
        "duration": 308,
        "start_time": "2022-01-25T15:10:55.946Z"
      },
      {
        "duration": 285,
        "start_time": "2022-01-25T15:11:06.422Z"
      },
      {
        "duration": 10,
        "start_time": "2022-01-25T15:11:31.314Z"
      },
      {
        "duration": 9,
        "start_time": "2022-01-25T15:13:47.348Z"
      },
      {
        "duration": 12,
        "start_time": "2022-01-25T15:13:57.415Z"
      },
      {
        "duration": 12,
        "start_time": "2022-01-25T15:14:03.755Z"
      },
      {
        "duration": 10,
        "start_time": "2022-01-25T15:14:05.200Z"
      },
      {
        "duration": 1504,
        "start_time": "2022-01-25T15:25:23.915Z"
      },
      {
        "duration": 34,
        "start_time": "2022-01-25T15:25:25.422Z"
      },
      {
        "duration": 45,
        "start_time": "2022-01-25T15:25:25.464Z"
      },
      {
        "duration": 5,
        "start_time": "2022-01-25T15:25:25.513Z"
      },
      {
        "duration": 10,
        "start_time": "2022-01-25T15:25:25.522Z"
      },
      {
        "duration": 11,
        "start_time": "2022-01-25T15:25:25.535Z"
      },
      {
        "duration": 245,
        "start_time": "2022-01-25T15:25:25.549Z"
      },
      {
        "duration": 75,
        "start_time": "2022-01-25T15:25:25.798Z"
      },
      {
        "duration": 650,
        "start_time": "2022-01-25T15:25:25.876Z"
      },
      {
        "duration": 10,
        "start_time": "2022-01-25T15:25:26.528Z"
      },
      {
        "duration": 63,
        "start_time": "2022-01-25T15:25:26.541Z"
      },
      {
        "duration": 12,
        "start_time": "2022-01-25T15:25:26.606Z"
      },
      {
        "duration": 4,
        "start_time": "2022-01-25T15:25:26.620Z"
      },
      {
        "duration": 45,
        "start_time": "2022-01-25T15:25:26.626Z"
      },
      {
        "duration": 143,
        "start_time": "2022-01-25T15:25:26.674Z"
      },
      {
        "duration": 50,
        "start_time": "2022-01-25T15:25:26.819Z"
      },
      {
        "duration": 31,
        "start_time": "2022-01-25T15:25:26.872Z"
      },
      {
        "duration": 4,
        "start_time": "2022-01-25T15:25:26.906Z"
      },
      {
        "duration": 14,
        "start_time": "2022-01-25T15:25:26.913Z"
      },
      {
        "duration": 222,
        "start_time": "2022-01-25T15:25:26.930Z"
      },
      {
        "duration": 55,
        "start_time": "2022-01-25T15:25:27.155Z"
      },
      {
        "duration": 11,
        "start_time": "2022-01-25T15:25:27.212Z"
      },
      {
        "duration": 60,
        "start_time": "2022-01-25T15:25:27.229Z"
      },
      {
        "duration": 10,
        "start_time": "2022-01-25T15:25:27.292Z"
      },
      {
        "duration": 16,
        "start_time": "2022-01-25T15:25:27.305Z"
      },
      {
        "duration": 10,
        "start_time": "2022-01-25T15:25:27.323Z"
      },
      {
        "duration": 38,
        "start_time": "2022-01-25T15:25:27.336Z"
      },
      {
        "duration": 14,
        "start_time": "2022-01-25T15:25:27.377Z"
      },
      {
        "duration": 31,
        "start_time": "2022-01-25T15:25:27.393Z"
      },
      {
        "duration": 10,
        "start_time": "2022-01-25T15:25:27.426Z"
      },
      {
        "duration": 11,
        "start_time": "2022-01-25T15:25:27.465Z"
      },
      {
        "duration": 5,
        "start_time": "2022-01-25T15:25:27.479Z"
      },
      {
        "duration": 14,
        "start_time": "2022-01-25T15:25:27.487Z"
      },
      {
        "duration": 10,
        "start_time": "2022-01-25T15:25:27.504Z"
      },
      {
        "duration": 20,
        "start_time": "2022-01-25T15:25:27.516Z"
      },
      {
        "duration": 447,
        "start_time": "2022-01-25T15:25:27.566Z"
      },
      {
        "duration": -552,
        "start_time": "2022-01-25T15:25:28.568Z"
      },
      {
        "duration": -572,
        "start_time": "2022-01-25T15:25:28.590Z"
      },
      {
        "duration": -576,
        "start_time": "2022-01-25T15:25:28.595Z"
      },
      {
        "duration": -579,
        "start_time": "2022-01-25T15:25:28.600Z"
      },
      {
        "duration": -582,
        "start_time": "2022-01-25T15:25:28.604Z"
      },
      {
        "duration": -584,
        "start_time": "2022-01-25T15:25:28.608Z"
      },
      {
        "duration": -586,
        "start_time": "2022-01-25T15:25:28.611Z"
      },
      {
        "duration": -594,
        "start_time": "2022-01-25T15:25:28.621Z"
      },
      {
        "duration": -598,
        "start_time": "2022-01-25T15:25:28.627Z"
      },
      {
        "duration": -607,
        "start_time": "2022-01-25T15:25:28.637Z"
      },
      {
        "duration": -610,
        "start_time": "2022-01-25T15:25:28.642Z"
      },
      {
        "duration": -615,
        "start_time": "2022-01-25T15:25:28.648Z"
      },
      {
        "duration": -623,
        "start_time": "2022-01-25T15:25:28.658Z"
      },
      {
        "duration": 476,
        "start_time": "2022-01-25T15:32:34.709Z"
      },
      {
        "duration": 6,
        "start_time": "2022-01-25T15:32:41.036Z"
      },
      {
        "duration": 35,
        "start_time": "2022-01-25T15:32:41.046Z"
      },
      {
        "duration": 57,
        "start_time": "2022-01-25T15:32:41.086Z"
      },
      {
        "duration": 23,
        "start_time": "2022-01-25T15:32:41.147Z"
      },
      {
        "duration": 9,
        "start_time": "2022-01-25T15:32:41.173Z"
      },
      {
        "duration": 12,
        "start_time": "2022-01-25T15:32:41.185Z"
      },
      {
        "duration": 267,
        "start_time": "2022-01-25T15:32:41.203Z"
      },
      {
        "duration": 64,
        "start_time": "2022-01-25T15:32:41.475Z"
      },
      {
        "duration": 737,
        "start_time": "2022-01-25T15:32:41.541Z"
      },
      {
        "duration": 10,
        "start_time": "2022-01-25T15:32:42.282Z"
      },
      {
        "duration": 54,
        "start_time": "2022-01-25T15:32:42.295Z"
      },
      {
        "duration": 16,
        "start_time": "2022-01-25T15:32:42.352Z"
      },
      {
        "duration": 7,
        "start_time": "2022-01-25T15:32:42.370Z"
      },
      {
        "duration": 17,
        "start_time": "2022-01-25T15:32:42.380Z"
      },
      {
        "duration": 148,
        "start_time": "2022-01-25T15:32:42.399Z"
      },
      {
        "duration": 44,
        "start_time": "2022-01-25T15:32:42.549Z"
      },
      {
        "duration": 31,
        "start_time": "2022-01-25T15:32:42.596Z"
      },
      {
        "duration": 6,
        "start_time": "2022-01-25T15:32:42.651Z"
      },
      {
        "duration": 10,
        "start_time": "2022-01-25T15:32:42.667Z"
      },
      {
        "duration": 308,
        "start_time": "2022-01-25T15:32:42.682Z"
      },
      {
        "duration": 71,
        "start_time": "2022-01-25T15:32:42.993Z"
      },
      {
        "duration": 10,
        "start_time": "2022-01-25T15:32:43.067Z"
      },
      {
        "duration": 27,
        "start_time": "2022-01-25T15:32:43.080Z"
      },
      {
        "duration": 7,
        "start_time": "2022-01-25T15:32:43.111Z"
      },
      {
        "duration": 9,
        "start_time": "2022-01-25T15:32:43.121Z"
      },
      {
        "duration": 12,
        "start_time": "2022-01-25T15:32:43.133Z"
      },
      {
        "duration": 22,
        "start_time": "2022-01-25T15:32:43.148Z"
      },
      {
        "duration": 12,
        "start_time": "2022-01-25T15:32:43.173Z"
      },
      {
        "duration": 29,
        "start_time": "2022-01-25T15:32:43.188Z"
      },
      {
        "duration": 11,
        "start_time": "2022-01-25T15:32:43.220Z"
      },
      {
        "duration": 18,
        "start_time": "2022-01-25T15:32:43.234Z"
      },
      {
        "duration": 12,
        "start_time": "2022-01-25T15:32:43.256Z"
      },
      {
        "duration": 33,
        "start_time": "2022-01-25T15:32:43.271Z"
      },
      {
        "duration": 7,
        "start_time": "2022-01-25T15:32:43.307Z"
      },
      {
        "duration": 12,
        "start_time": "2022-01-25T15:32:43.317Z"
      },
      {
        "duration": 450,
        "start_time": "2022-01-25T15:32:43.332Z"
      },
      {
        "duration": -1883,
        "start_time": "2022-01-25T15:32:45.669Z"
      },
      {
        "duration": -1885,
        "start_time": "2022-01-25T15:32:45.673Z"
      },
      {
        "duration": -1895,
        "start_time": "2022-01-25T15:32:45.685Z"
      },
      {
        "duration": -1896,
        "start_time": "2022-01-25T15:32:45.688Z"
      },
      {
        "duration": -1907,
        "start_time": "2022-01-25T15:32:45.702Z"
      },
      {
        "duration": -1910,
        "start_time": "2022-01-25T15:32:45.707Z"
      },
      {
        "duration": -1918,
        "start_time": "2022-01-25T15:32:45.717Z"
      },
      {
        "duration": -1919,
        "start_time": "2022-01-25T15:32:45.721Z"
      },
      {
        "duration": -1931,
        "start_time": "2022-01-25T15:32:45.735Z"
      },
      {
        "duration": -1934,
        "start_time": "2022-01-25T15:32:45.740Z"
      },
      {
        "duration": -1951,
        "start_time": "2022-01-25T15:32:45.759Z"
      },
      {
        "duration": -1972,
        "start_time": "2022-01-25T15:32:45.782Z"
      },
      {
        "duration": -1973,
        "start_time": "2022-01-25T15:32:45.786Z"
      },
      {
        "duration": 289,
        "start_time": "2022-01-25T15:32:59.324Z"
      },
      {
        "duration": 16,
        "start_time": "2022-01-25T15:33:12.150Z"
      },
      {
        "duration": 19,
        "start_time": "2022-01-25T15:33:13.675Z"
      },
      {
        "duration": 21,
        "start_time": "2022-01-25T15:33:20.466Z"
      },
      {
        "duration": 13,
        "start_time": "2022-01-25T15:33:24.935Z"
      },
      {
        "duration": 385,
        "start_time": "2022-01-25T15:33:26.894Z"
      },
      {
        "duration": 288,
        "start_time": "2022-01-25T15:33:31.502Z"
      },
      {
        "duration": 12,
        "start_time": "2022-01-25T15:33:33.398Z"
      },
      {
        "duration": 11,
        "start_time": "2022-01-25T15:33:35.167Z"
      },
      {
        "duration": 12,
        "start_time": "2022-01-25T15:33:36.904Z"
      },
      {
        "duration": 9,
        "start_time": "2022-01-25T15:33:37.876Z"
      },
      {
        "duration": 12,
        "start_time": "2022-01-25T15:33:40.716Z"
      },
      {
        "duration": 16,
        "start_time": "2022-01-25T15:33:51.354Z"
      },
      {
        "duration": 15,
        "start_time": "2022-01-25T16:11:18.840Z"
      },
      {
        "duration": 11,
        "start_time": "2022-01-25T16:11:21.127Z"
      },
      {
        "duration": 11,
        "start_time": "2022-01-25T16:11:23.224Z"
      },
      {
        "duration": -165,
        "start_time": "2022-01-25T16:17:40.090Z"
      },
      {
        "duration": 33,
        "start_time": "2022-01-25T16:17:58.646Z"
      },
      {
        "duration": 30,
        "start_time": "2022-01-25T16:19:26.740Z"
      },
      {
        "duration": 5,
        "start_time": "2022-01-25T16:21:58.318Z"
      },
      {
        "duration": 8,
        "start_time": "2022-01-25T16:22:00.342Z"
      },
      {
        "duration": 1712,
        "start_time": "2022-01-25T16:23:04.064Z"
      },
      {
        "duration": 33,
        "start_time": "2022-01-25T16:23:05.779Z"
      },
      {
        "duration": 49,
        "start_time": "2022-01-25T16:23:05.815Z"
      },
      {
        "duration": 6,
        "start_time": "2022-01-25T16:23:05.866Z"
      },
      {
        "duration": 14,
        "start_time": "2022-01-25T16:23:05.874Z"
      },
      {
        "duration": 13,
        "start_time": "2022-01-25T16:23:05.890Z"
      },
      {
        "duration": 248,
        "start_time": "2022-01-25T16:23:05.905Z"
      },
      {
        "duration": 62,
        "start_time": "2022-01-25T16:23:06.156Z"
      },
      {
        "duration": 667,
        "start_time": "2022-01-25T16:23:06.220Z"
      },
      {
        "duration": 10,
        "start_time": "2022-01-25T16:23:06.890Z"
      },
      {
        "duration": 64,
        "start_time": "2022-01-25T16:23:06.902Z"
      },
      {
        "duration": 11,
        "start_time": "2022-01-25T16:23:06.969Z"
      },
      {
        "duration": 4,
        "start_time": "2022-01-25T16:23:06.983Z"
      },
      {
        "duration": 18,
        "start_time": "2022-01-25T16:23:06.989Z"
      },
      {
        "duration": 155,
        "start_time": "2022-01-25T16:23:07.009Z"
      },
      {
        "duration": 43,
        "start_time": "2022-01-25T16:23:07.167Z"
      },
      {
        "duration": 56,
        "start_time": "2022-01-25T16:23:07.213Z"
      },
      {
        "duration": 4,
        "start_time": "2022-01-25T16:23:07.272Z"
      },
      {
        "duration": 16,
        "start_time": "2022-01-25T16:23:07.278Z"
      },
      {
        "duration": 209,
        "start_time": "2022-01-25T16:23:07.297Z"
      },
      {
        "duration": 60,
        "start_time": "2022-01-25T16:23:07.509Z"
      },
      {
        "duration": 10,
        "start_time": "2022-01-25T16:23:07.571Z"
      },
      {
        "duration": 26,
        "start_time": "2022-01-25T16:23:07.587Z"
      },
      {
        "duration": 8,
        "start_time": "2022-01-25T16:23:07.617Z"
      },
      {
        "duration": 39,
        "start_time": "2022-01-25T16:23:07.627Z"
      },
      {
        "duration": 9,
        "start_time": "2022-01-25T16:23:07.669Z"
      },
      {
        "duration": 13,
        "start_time": "2022-01-25T16:23:07.680Z"
      },
      {
        "duration": 19,
        "start_time": "2022-01-25T16:23:07.695Z"
      },
      {
        "duration": 18,
        "start_time": "2022-01-25T16:23:07.716Z"
      },
      {
        "duration": 41,
        "start_time": "2022-01-25T16:23:07.736Z"
      },
      {
        "duration": 10,
        "start_time": "2022-01-25T16:23:07.780Z"
      },
      {
        "duration": 14,
        "start_time": "2022-01-25T16:23:07.793Z"
      },
      {
        "duration": 5,
        "start_time": "2022-01-25T16:23:07.809Z"
      },
      {
        "duration": 18,
        "start_time": "2022-01-25T16:23:07.816Z"
      },
      {
        "duration": 32,
        "start_time": "2022-01-25T16:23:07.837Z"
      },
      {
        "duration": 38,
        "start_time": "2022-01-25T16:23:07.871Z"
      },
      {
        "duration": 37,
        "start_time": "2022-01-25T16:23:07.912Z"
      },
      {
        "duration": 26,
        "start_time": "2022-01-25T16:23:07.951Z"
      },
      {
        "duration": 18,
        "start_time": "2022-01-25T16:23:07.980Z"
      },
      {
        "duration": 345,
        "start_time": "2022-01-25T16:23:08.001Z"
      },
      {
        "duration": 297,
        "start_time": "2022-01-25T16:23:08.348Z"
      },
      {
        "duration": 19,
        "start_time": "2022-01-25T16:23:08.647Z"
      },
      {
        "duration": 9,
        "start_time": "2022-01-25T16:23:08.668Z"
      },
      {
        "duration": 10,
        "start_time": "2022-01-25T16:23:08.679Z"
      },
      {
        "duration": 9,
        "start_time": "2022-01-25T16:23:08.692Z"
      },
      {
        "duration": 13,
        "start_time": "2022-01-25T16:23:08.704Z"
      },
      {
        "duration": 54,
        "start_time": "2022-01-25T16:23:08.719Z"
      },
      {
        "duration": 28,
        "start_time": "2022-01-25T16:23:08.776Z"
      },
      {
        "duration": 60,
        "start_time": "2022-01-25T16:23:08.807Z"
      },
      {
        "duration": 4,
        "start_time": "2022-01-25T16:23:08.869Z"
      },
      {
        "duration": 9,
        "start_time": "2022-01-25T16:23:08.876Z"
      },
      {
        "duration": 6,
        "start_time": "2022-01-25T16:23:08.888Z"
      },
      {
        "duration": 727,
        "start_time": "2022-01-25T16:27:33.574Z"
      },
      {
        "duration": 710,
        "start_time": "2022-01-25T16:28:06.716Z"
      },
      {
        "duration": 1128,
        "start_time": "2022-01-25T18:47:49.346Z"
      },
      {
        "duration": 25,
        "start_time": "2022-01-25T18:47:50.476Z"
      },
      {
        "duration": 84,
        "start_time": "2022-01-25T18:47:50.504Z"
      },
      {
        "duration": 17,
        "start_time": "2022-01-25T18:47:50.591Z"
      },
      {
        "duration": 11,
        "start_time": "2022-01-25T18:47:50.610Z"
      },
      {
        "duration": 12,
        "start_time": "2022-01-25T18:47:50.623Z"
      },
      {
        "duration": 188,
        "start_time": "2022-01-25T18:47:50.636Z"
      },
      {
        "duration": 47,
        "start_time": "2022-01-25T18:47:50.826Z"
      },
      {
        "duration": 448,
        "start_time": "2022-01-25T18:47:50.875Z"
      },
      {
        "duration": 7,
        "start_time": "2022-01-25T18:47:51.324Z"
      },
      {
        "duration": 36,
        "start_time": "2022-01-25T18:47:51.332Z"
      },
      {
        "duration": 27,
        "start_time": "2022-01-25T18:47:51.370Z"
      },
      {
        "duration": 3,
        "start_time": "2022-01-25T18:47:51.399Z"
      },
      {
        "duration": 15,
        "start_time": "2022-01-25T18:47:51.404Z"
      },
      {
        "duration": 113,
        "start_time": "2022-01-25T18:47:51.421Z"
      },
      {
        "duration": 29,
        "start_time": "2022-01-25T18:47:51.536Z"
      },
      {
        "duration": 40,
        "start_time": "2022-01-25T18:47:51.567Z"
      },
      {
        "duration": 2,
        "start_time": "2022-01-25T18:47:51.609Z"
      },
      {
        "duration": 8,
        "start_time": "2022-01-25T18:47:51.613Z"
      },
      {
        "duration": 153,
        "start_time": "2022-01-25T18:47:51.623Z"
      },
      {
        "duration": 42,
        "start_time": "2022-01-25T18:47:51.777Z"
      },
      {
        "duration": 7,
        "start_time": "2022-01-25T18:47:51.821Z"
      },
      {
        "duration": 28,
        "start_time": "2022-01-25T18:47:51.831Z"
      },
      {
        "duration": 6,
        "start_time": "2022-01-25T18:47:51.861Z"
      },
      {
        "duration": 10,
        "start_time": "2022-01-25T18:47:51.868Z"
      },
      {
        "duration": 28,
        "start_time": "2022-01-25T18:47:51.879Z"
      },
      {
        "duration": 17,
        "start_time": "2022-01-25T18:47:51.909Z"
      },
      {
        "duration": 20,
        "start_time": "2022-01-25T18:47:51.928Z"
      },
      {
        "duration": 16,
        "start_time": "2022-01-25T18:47:51.949Z"
      },
      {
        "duration": 27,
        "start_time": "2022-01-25T18:47:51.966Z"
      },
      {
        "duration": 8,
        "start_time": "2022-01-25T18:47:51.995Z"
      },
      {
        "duration": 13,
        "start_time": "2022-01-25T18:47:52.005Z"
      },
      {
        "duration": 5,
        "start_time": "2022-01-25T18:47:52.020Z"
      },
      {
        "duration": 12,
        "start_time": "2022-01-25T18:47:52.027Z"
      },
      {
        "duration": 9,
        "start_time": "2022-01-25T18:47:52.040Z"
      },
      {
        "duration": 10,
        "start_time": "2022-01-25T18:47:52.051Z"
      },
      {
        "duration": 34,
        "start_time": "2022-01-25T18:47:52.063Z"
      },
      {
        "duration": 9,
        "start_time": "2022-01-25T18:47:52.099Z"
      },
      {
        "duration": 12,
        "start_time": "2022-01-25T18:47:52.110Z"
      },
      {
        "duration": 221,
        "start_time": "2022-01-25T18:47:52.124Z"
      },
      {
        "duration": 192,
        "start_time": "2022-01-25T18:47:52.347Z"
      },
      {
        "duration": 6,
        "start_time": "2022-01-25T18:47:52.541Z"
      },
      {
        "duration": 8,
        "start_time": "2022-01-25T18:47:52.549Z"
      },
      {
        "duration": 6,
        "start_time": "2022-01-25T18:47:52.558Z"
      },
      {
        "duration": 7,
        "start_time": "2022-01-25T18:47:52.565Z"
      },
      {
        "duration": 30,
        "start_time": "2022-01-25T18:47:52.573Z"
      },
      {
        "duration": 7,
        "start_time": "2022-01-25T18:47:52.605Z"
      },
      {
        "duration": 21,
        "start_time": "2022-01-25T18:47:52.613Z"
      },
      {
        "duration": 18,
        "start_time": "2022-01-25T18:47:52.636Z"
      },
      {
        "duration": 466,
        "start_time": "2022-01-25T18:47:52.655Z"
      },
      {
        "duration": 656,
        "start_time": "2022-01-25T18:58:50.213Z"
      },
      {
        "duration": 582,
        "start_time": "2022-01-25T19:00:40.828Z"
      },
      {
        "duration": 593,
        "start_time": "2022-01-25T19:00:57.038Z"
      },
      {
        "duration": 787,
        "start_time": "2022-01-25T19:11:02.232Z"
      },
      {
        "duration": 658,
        "start_time": "2022-01-25T19:11:10.705Z"
      },
      {
        "duration": 660,
        "start_time": "2022-01-25T19:11:38.648Z"
      },
      {
        "duration": 808,
        "start_time": "2022-01-25T19:12:17.775Z"
      },
      {
        "duration": 703,
        "start_time": "2022-01-25T19:12:41.216Z"
      },
      {
        "duration": 259,
        "start_time": "2022-01-25T19:16:02.985Z"
      },
      {
        "duration": 6,
        "start_time": "2022-01-25T19:16:08.471Z"
      },
      {
        "duration": 6,
        "start_time": "2022-01-25T19:16:23.978Z"
      },
      {
        "duration": 6,
        "start_time": "2022-01-25T19:21:51.719Z"
      },
      {
        "duration": 181,
        "start_time": "2022-01-25T19:29:59.336Z"
      },
      {
        "duration": 266,
        "start_time": "2022-01-25T19:30:02.951Z"
      },
      {
        "duration": 419,
        "start_time": "2022-01-25T19:30:56.874Z"
      },
      {
        "duration": 452,
        "start_time": "2022-01-25T19:31:13.812Z"
      },
      {
        "duration": 461,
        "start_time": "2022-01-25T19:32:00.214Z"
      },
      {
        "duration": 9,
        "start_time": "2022-01-25T19:45:14.529Z"
      },
      {
        "duration": 15,
        "start_time": "2022-01-25T19:45:26.919Z"
      },
      {
        "duration": 7,
        "start_time": "2022-01-25T19:48:10.396Z"
      },
      {
        "duration": 6,
        "start_time": "2022-01-25T19:48:18.453Z"
      },
      {
        "duration": 6,
        "start_time": "2022-01-25T19:48:37.060Z"
      },
      {
        "duration": 8,
        "start_time": "2022-01-25T19:48:52.575Z"
      },
      {
        "duration": 6,
        "start_time": "2022-01-25T19:49:00.240Z"
      },
      {
        "duration": 6,
        "start_time": "2022-01-25T19:49:10.343Z"
      },
      {
        "duration": 5,
        "start_time": "2022-01-25T19:49:17.382Z"
      },
      {
        "duration": 7,
        "start_time": "2022-01-25T19:49:20.907Z"
      },
      {
        "duration": 7,
        "start_time": "2022-01-25T19:49:27.864Z"
      },
      {
        "duration": 5,
        "start_time": "2022-01-25T19:49:33.331Z"
      },
      {
        "duration": 6,
        "start_time": "2022-01-25T19:49:37.926Z"
      },
      {
        "duration": 6,
        "start_time": "2022-01-25T19:49:41.547Z"
      },
      {
        "duration": 432,
        "start_time": "2022-01-25T19:56:48.443Z"
      },
      {
        "duration": 456,
        "start_time": "2022-01-25T19:57:00.583Z"
      },
      {
        "duration": 536,
        "start_time": "2022-01-25T19:57:13.785Z"
      },
      {
        "duration": 455,
        "start_time": "2022-01-25T19:57:58.884Z"
      },
      {
        "duration": 174,
        "start_time": "2022-01-25T19:58:08.445Z"
      },
      {
        "duration": 3,
        "start_time": "2022-01-25T19:58:26.159Z"
      },
      {
        "duration": 5,
        "start_time": "2022-01-25T19:58:47.548Z"
      },
      {
        "duration": 5,
        "start_time": "2022-01-25T19:59:41.422Z"
      },
      {
        "duration": 1349,
        "start_time": "2022-01-25T20:02:06.856Z"
      },
      {
        "duration": 1323,
        "start_time": "2022-01-25T20:03:01.474Z"
      },
      {
        "duration": 1474,
        "start_time": "2022-01-25T20:03:04.625Z"
      },
      {
        "duration": 1514,
        "start_time": "2022-01-25T20:03:42.416Z"
      },
      {
        "duration": 5,
        "start_time": "2022-01-25T20:03:55.263Z"
      },
      {
        "duration": 1173,
        "start_time": "2022-01-25T20:06:14.896Z"
      },
      {
        "duration": 25,
        "start_time": "2022-01-25T20:06:16.071Z"
      },
      {
        "duration": 59,
        "start_time": "2022-01-25T20:06:16.098Z"
      },
      {
        "duration": 8,
        "start_time": "2022-01-25T20:06:16.159Z"
      },
      {
        "duration": 23,
        "start_time": "2022-01-25T20:06:16.169Z"
      },
      {
        "duration": 30,
        "start_time": "2022-01-25T20:06:16.194Z"
      },
      {
        "duration": 196,
        "start_time": "2022-01-25T20:06:16.226Z"
      },
      {
        "duration": 45,
        "start_time": "2022-01-25T20:06:16.425Z"
      },
      {
        "duration": 428,
        "start_time": "2022-01-25T20:06:16.473Z"
      },
      {
        "duration": 6,
        "start_time": "2022-01-25T20:06:16.903Z"
      },
      {
        "duration": 54,
        "start_time": "2022-01-25T20:06:16.911Z"
      },
      {
        "duration": 8,
        "start_time": "2022-01-25T20:06:16.967Z"
      },
      {
        "duration": 29,
        "start_time": "2022-01-25T20:06:16.977Z"
      },
      {
        "duration": 15,
        "start_time": "2022-01-25T20:06:17.008Z"
      },
      {
        "duration": 126,
        "start_time": "2022-01-25T20:06:17.025Z"
      },
      {
        "duration": 27,
        "start_time": "2022-01-25T20:06:17.153Z"
      },
      {
        "duration": 35,
        "start_time": "2022-01-25T20:06:17.182Z"
      },
      {
        "duration": 3,
        "start_time": "2022-01-25T20:06:17.218Z"
      },
      {
        "duration": 26,
        "start_time": "2022-01-25T20:06:17.222Z"
      },
      {
        "duration": 160,
        "start_time": "2022-01-25T20:06:17.249Z"
      },
      {
        "duration": 34,
        "start_time": "2022-01-25T20:06:17.411Z"
      },
      {
        "duration": 8,
        "start_time": "2022-01-25T20:06:17.447Z"
      },
      {
        "duration": 42,
        "start_time": "2022-01-25T20:06:17.458Z"
      },
      {
        "duration": 6,
        "start_time": "2022-01-25T20:06:17.503Z"
      },
      {
        "duration": 14,
        "start_time": "2022-01-25T20:06:17.511Z"
      },
      {
        "duration": 22,
        "start_time": "2022-01-25T20:06:17.526Z"
      },
      {
        "duration": 16,
        "start_time": "2022-01-25T20:06:17.549Z"
      },
      {
        "duration": 21,
        "start_time": "2022-01-25T20:06:17.566Z"
      },
      {
        "duration": 13,
        "start_time": "2022-01-25T20:06:17.589Z"
      },
      {
        "duration": 22,
        "start_time": "2022-01-25T20:06:17.604Z"
      },
      {
        "duration": 14,
        "start_time": "2022-01-25T20:06:17.627Z"
      },
      {
        "duration": 19,
        "start_time": "2022-01-25T20:06:17.643Z"
      },
      {
        "duration": 23,
        "start_time": "2022-01-25T20:06:17.664Z"
      },
      {
        "duration": 11,
        "start_time": "2022-01-25T20:06:17.689Z"
      },
      {
        "duration": 14,
        "start_time": "2022-01-25T20:06:17.702Z"
      },
      {
        "duration": 19,
        "start_time": "2022-01-25T20:06:17.717Z"
      },
      {
        "duration": 18,
        "start_time": "2022-01-25T20:06:17.738Z"
      },
      {
        "duration": 25,
        "start_time": "2022-01-25T20:06:17.758Z"
      },
      {
        "duration": 16,
        "start_time": "2022-01-25T20:06:17.784Z"
      },
      {
        "duration": 200,
        "start_time": "2022-01-25T20:06:17.802Z"
      },
      {
        "duration": 199,
        "start_time": "2022-01-25T20:06:18.004Z"
      },
      {
        "duration": 6,
        "start_time": "2022-01-25T20:06:18.205Z"
      },
      {
        "duration": 13,
        "start_time": "2022-01-25T20:06:18.213Z"
      },
      {
        "duration": 13,
        "start_time": "2022-01-25T20:06:18.228Z"
      },
      {
        "duration": 12,
        "start_time": "2022-01-25T20:06:18.242Z"
      },
      {
        "duration": 16,
        "start_time": "2022-01-25T20:06:18.256Z"
      },
      {
        "duration": 20,
        "start_time": "2022-01-25T20:06:18.274Z"
      },
      {
        "duration": 33,
        "start_time": "2022-01-25T20:06:18.296Z"
      },
      {
        "duration": 22,
        "start_time": "2022-01-25T20:06:18.331Z"
      },
      {
        "duration": 8,
        "start_time": "2022-01-25T20:06:18.355Z"
      },
      {
        "duration": 12,
        "start_time": "2022-01-25T20:06:18.365Z"
      },
      {
        "duration": 762,
        "start_time": "2022-01-25T20:06:18.379Z"
      },
      {
        "duration": 725,
        "start_time": "2022-01-25T20:06:19.143Z"
      },
      {
        "duration": 546,
        "start_time": "2022-01-25T20:06:19.870Z"
      },
      {
        "duration": 435,
        "start_time": "2022-01-25T20:06:20.418Z"
      },
      {
        "duration": 465,
        "start_time": "2022-01-25T20:06:20.855Z"
      },
      {
        "duration": 5,
        "start_time": "2022-01-25T20:06:21.322Z"
      },
      {
        "duration": 21,
        "start_time": "2022-01-25T20:06:21.329Z"
      },
      {
        "duration": 18,
        "start_time": "2022-01-25T20:06:21.352Z"
      },
      {
        "duration": 12,
        "start_time": "2022-01-25T20:06:21.372Z"
      },
      {
        "duration": 14,
        "start_time": "2022-01-25T20:06:21.386Z"
      },
      {
        "duration": 9,
        "start_time": "2022-01-25T20:06:21.401Z"
      },
      {
        "duration": 8,
        "start_time": "2022-01-25T20:06:21.411Z"
      },
      {
        "duration": 1340,
        "start_time": "2022-01-25T20:06:21.421Z"
      },
      {
        "duration": 1499,
        "start_time": "2022-01-25T20:06:22.763Z"
      },
      {
        "duration": 4,
        "start_time": "2022-01-25T20:06:24.264Z"
      },
      {
        "duration": 7,
        "start_time": "2022-01-25T20:06:24.270Z"
      },
      {
        "duration": 14,
        "start_time": "2022-01-25T20:06:24.282Z"
      },
      {
        "duration": 2,
        "start_time": "2022-01-25T20:06:24.298Z"
      },
      {
        "duration": 1043,
        "start_time": "2022-01-26T11:05:34.312Z"
      },
      {
        "duration": 323,
        "start_time": "2022-01-26T11:10:33.808Z"
      },
      {
        "duration": 3,
        "start_time": "2022-01-26T11:10:39.836Z"
      },
      {
        "duration": 20,
        "start_time": "2022-01-26T11:10:41.794Z"
      },
      {
        "duration": 29,
        "start_time": "2022-01-26T11:10:45.438Z"
      },
      {
        "duration": 6,
        "start_time": "2022-01-26T11:10:48.832Z"
      },
      {
        "duration": 3,
        "start_time": "2022-01-26T11:12:24.196Z"
      },
      {
        "duration": 4,
        "start_time": "2022-01-26T11:12:56.512Z"
      },
      {
        "duration": 4,
        "start_time": "2022-01-26T11:12:59.400Z"
      },
      {
        "duration": 5,
        "start_time": "2022-01-26T11:24:18.476Z"
      },
      {
        "duration": 176,
        "start_time": "2022-01-26T11:24:22.479Z"
      },
      {
        "duration": 5,
        "start_time": "2022-01-26T11:39:32.887Z"
      },
      {
        "duration": 3,
        "start_time": "2022-01-26T11:39:34.552Z"
      },
      {
        "duration": 4,
        "start_time": "2022-01-26T11:39:47.356Z"
      },
      {
        "duration": 5,
        "start_time": "2022-01-26T11:39:48.329Z"
      },
      {
        "duration": 200,
        "start_time": "2022-01-26T11:44:42.503Z"
      },
      {
        "duration": 41,
        "start_time": "2022-01-26T11:44:51.562Z"
      },
      {
        "duration": 397,
        "start_time": "2022-01-26T11:44:52.753Z"
      },
      {
        "duration": 6,
        "start_time": "2022-01-26T11:44:53.594Z"
      },
      {
        "duration": 26,
        "start_time": "2022-01-26T11:44:55.514Z"
      },
      {
        "duration": 6317,
        "start_time": "2022-01-26T11:45:29.712Z"
      },
      {
        "duration": 152,
        "start_time": "2022-01-26T11:45:35.879Z"
      },
      {
        "duration": 134,
        "start_time": "2022-01-26T11:45:35.898Z"
      },
      {
        "duration": 7,
        "start_time": "2022-01-26T11:45:47.506Z"
      },
      {
        "duration": 6,
        "start_time": "2022-01-26T11:45:48.777Z"
      },
      {
        "duration": 6782,
        "start_time": "2022-01-26T11:45:51.196Z"
      },
      {
        "duration": 6446,
        "start_time": "2022-01-26T11:46:00.667Z"
      },
      {
        "duration": 7,
        "start_time": "2022-01-26T11:46:41.682Z"
      },
      {
        "duration": 3,
        "start_time": "2022-01-26T11:46:44.335Z"
      },
      {
        "duration": 6,
        "start_time": "2022-01-26T11:46:45.949Z"
      },
      {
        "duration": 211,
        "start_time": "2022-01-26T11:53:33.778Z"
      },
      {
        "duration": 1187,
        "start_time": "2022-01-26T11:53:54.911Z"
      },
      {
        "duration": 22,
        "start_time": "2022-01-26T11:53:56.099Z"
      },
      {
        "duration": 31,
        "start_time": "2022-01-26T11:53:56.122Z"
      },
      {
        "duration": 171,
        "start_time": "2022-01-26T11:53:56.156Z"
      },
      {
        "duration": 111,
        "start_time": "2022-01-26T11:53:56.328Z"
      },
      {
        "duration": 155,
        "start_time": "2022-01-26T11:53:56.441Z"
      },
      {
        "duration": 6,
        "start_time": "2022-01-26T11:53:56.599Z"
      },
      {
        "duration": 4,
        "start_time": "2022-01-26T11:53:56.612Z"
      },
      {
        "duration": 6,
        "start_time": "2022-01-26T11:53:56.618Z"
      },
      {
        "duration": 10,
        "start_time": "2022-01-26T11:53:56.625Z"
      },
      {
        "duration": 47,
        "start_time": "2022-01-26T11:53:56.637Z"
      },
      {
        "duration": 483,
        "start_time": "2022-01-26T11:53:56.685Z"
      },
      {
        "duration": 7,
        "start_time": "2022-01-26T11:53:57.170Z"
      },
      {
        "duration": 40,
        "start_time": "2022-01-26T11:53:57.179Z"
      },
      {
        "duration": 3,
        "start_time": "2022-01-26T11:53:57.221Z"
      },
      {
        "duration": 12,
        "start_time": "2022-01-26T11:53:57.225Z"
      },
      {
        "duration": 29,
        "start_time": "2022-01-26T11:53:57.239Z"
      },
      {
        "duration": 27,
        "start_time": "2022-01-26T11:54:03.305Z"
      },
      {
        "duration": 21,
        "start_time": "2022-01-26T11:54:04.639Z"
      },
      {
        "duration": 3,
        "start_time": "2022-01-26T11:54:09.313Z"
      },
      {
        "duration": 6,
        "start_time": "2022-01-26T11:54:10.404Z"
      },
      {
        "duration": 32,
        "start_time": "2022-01-26T11:58:36.932Z"
      },
      {
        "duration": 21,
        "start_time": "2022-01-26T11:58:38.832Z"
      },
      {
        "duration": 5,
        "start_time": "2022-01-26T11:58:42.276Z"
      },
      {
        "duration": 3,
        "start_time": "2022-01-26T11:58:43.449Z"
      },
      {
        "duration": 10,
        "start_time": "2022-01-26T11:58:45.812Z"
      },
      {
        "duration": 10,
        "start_time": "2022-01-26T11:58:49.846Z"
      },
      {
        "duration": 6,
        "start_time": "2022-01-26T11:58:51.931Z"
      },
      {
        "duration": 8,
        "start_time": "2022-01-26T11:58:55.485Z"
      },
      {
        "duration": 8,
        "start_time": "2022-01-26T11:59:02.865Z"
      },
      {
        "duration": 7,
        "start_time": "2022-01-26T11:59:05.818Z"
      },
      {
        "duration": 18,
        "start_time": "2022-01-26T12:01:26.761Z"
      },
      {
        "duration": 7,
        "start_time": "2022-01-26T12:01:28.340Z"
      },
      {
        "duration": 7,
        "start_time": "2022-01-26T12:01:43.752Z"
      },
      {
        "duration": 297,
        "start_time": "2022-01-26T12:02:00.510Z"
      },
      {
        "duration": 11,
        "start_time": "2022-01-26T12:02:02.889Z"
      },
      {
        "duration": 161,
        "start_time": "2022-01-26T12:02:39.579Z"
      },
      {
        "duration": 6,
        "start_time": "2022-01-26T12:03:13.340Z"
      },
      {
        "duration": 5,
        "start_time": "2022-01-26T12:04:13.473Z"
      },
      {
        "duration": 7,
        "start_time": "2022-01-26T12:04:14.510Z"
      },
      {
        "duration": 5,
        "start_time": "2022-01-26T12:04:17.182Z"
      },
      {
        "duration": 10,
        "start_time": "2022-01-26T12:04:54.532Z"
      },
      {
        "duration": 9,
        "start_time": "2022-01-26T12:05:03.080Z"
      },
      {
        "duration": 7,
        "start_time": "2022-01-26T12:08:44.559Z"
      },
      {
        "duration": 8,
        "start_time": "2022-01-26T12:08:45.973Z"
      },
      {
        "duration": 13,
        "start_time": "2022-01-26T12:08:51.501Z"
      },
      {
        "duration": 7,
        "start_time": "2022-01-26T12:09:03.577Z"
      },
      {
        "duration": 14,
        "start_time": "2022-01-26T12:09:05.380Z"
      },
      {
        "duration": 9,
        "start_time": "2022-01-26T12:09:40.596Z"
      },
      {
        "duration": 182,
        "start_time": "2022-01-26T12:13:57.284Z"
      },
      {
        "duration": 202,
        "start_time": "2022-01-26T12:14:05.710Z"
      },
      {
        "duration": 199,
        "start_time": "2022-01-26T12:14:13.514Z"
      },
      {
        "duration": 193,
        "start_time": "2022-01-26T12:14:17.757Z"
      },
      {
        "duration": 190,
        "start_time": "2022-01-26T12:14:26.101Z"
      },
      {
        "duration": 204,
        "start_time": "2022-01-26T12:14:32.226Z"
      },
      {
        "duration": 216,
        "start_time": "2022-01-26T12:14:36.234Z"
      },
      {
        "duration": 9,
        "start_time": "2022-01-26T12:15:02.771Z"
      },
      {
        "duration": 241,
        "start_time": "2022-01-26T12:21:41.619Z"
      },
      {
        "duration": 225,
        "start_time": "2022-01-26T12:21:46.380Z"
      },
      {
        "duration": 212,
        "start_time": "2022-01-26T12:21:50.172Z"
      },
      {
        "duration": 7,
        "start_time": "2022-01-26T12:22:45.445Z"
      },
      {
        "duration": 7,
        "start_time": "2022-01-26T12:22:57.078Z"
      },
      {
        "duration": 8,
        "start_time": "2022-01-26T12:22:58.870Z"
      },
      {
        "duration": 19,
        "start_time": "2022-01-26T12:23:04.754Z"
      },
      {
        "duration": 18,
        "start_time": "2022-01-26T12:23:06.596Z"
      },
      {
        "duration": 21,
        "start_time": "2022-01-26T12:28:46.619Z"
      },
      {
        "duration": 20,
        "start_time": "2022-01-26T12:28:49.524Z"
      },
      {
        "duration": 6,
        "start_time": "2022-01-26T12:28:56.802Z"
      },
      {
        "duration": 5,
        "start_time": "2022-01-26T12:29:00.583Z"
      },
      {
        "duration": 6,
        "start_time": "2022-01-26T12:31:30.725Z"
      },
      {
        "duration": 7,
        "start_time": "2022-01-26T12:32:11.032Z"
      },
      {
        "duration": 7,
        "start_time": "2022-01-26T12:32:15.016Z"
      },
      {
        "duration": 62,
        "start_time": "2022-01-26T12:32:22.365Z"
      },
      {
        "duration": 6,
        "start_time": "2022-01-26T12:32:29.198Z"
      },
      {
        "duration": 6,
        "start_time": "2022-01-26T12:34:02.356Z"
      },
      {
        "duration": 7,
        "start_time": "2022-01-26T12:34:17.591Z"
      },
      {
        "duration": 6,
        "start_time": "2022-01-26T12:34:22.250Z"
      },
      {
        "duration": 8,
        "start_time": "2022-01-26T12:34:23.834Z"
      },
      {
        "duration": 7,
        "start_time": "2022-01-26T12:34:29.123Z"
      },
      {
        "duration": 937,
        "start_time": "2022-01-26T12:36:46.785Z"
      },
      {
        "duration": 858,
        "start_time": "2022-01-26T12:36:51.886Z"
      },
      {
        "duration": 23,
        "start_time": "2022-01-26T12:48:50.864Z"
      },
      {
        "duration": 21,
        "start_time": "2022-01-26T12:49:01.505Z"
      },
      {
        "duration": 21,
        "start_time": "2022-01-26T12:49:47.485Z"
      },
      {
        "duration": 20,
        "start_time": "2022-01-26T12:49:49.380Z"
      },
      {
        "duration": 850,
        "start_time": "2022-01-26T12:52:41.744Z"
      },
      {
        "duration": 22,
        "start_time": "2022-01-26T13:07:24.215Z"
      },
      {
        "duration": 6,
        "start_time": "2022-01-26T13:14:39.572Z"
      },
      {
        "duration": 6,
        "start_time": "2022-01-26T13:22:05.972Z"
      },
      {
        "duration": 5,
        "start_time": "2022-01-26T13:46:06.434Z"
      },
      {
        "duration": 72,
        "start_time": "2022-01-26T14:15:15.877Z"
      },
      {
        "duration": 70,
        "start_time": "2022-01-26T14:15:35.704Z"
      },
      {
        "duration": 5,
        "start_time": "2022-01-26T14:15:43.748Z"
      },
      {
        "duration": 65,
        "start_time": "2022-01-26T14:16:30.398Z"
      },
      {
        "duration": 62,
        "start_time": "2022-01-26T14:17:12.172Z"
      },
      {
        "duration": 60,
        "start_time": "2022-01-26T14:17:41.686Z"
      },
      {
        "duration": 6,
        "start_time": "2022-01-26T14:17:53.932Z"
      },
      {
        "duration": 1754,
        "start_time": "2022-01-26T14:37:24.835Z"
      },
      {
        "duration": 1540,
        "start_time": "2022-01-26T14:37:30.327Z"
      },
      {
        "duration": 326,
        "start_time": "2022-01-26T14:54:56.236Z"
      },
      {
        "duration": 5,
        "start_time": "2022-01-26T14:55:23.651Z"
      },
      {
        "duration": 5,
        "start_time": "2022-01-26T14:56:52.073Z"
      },
      {
        "duration": 6,
        "start_time": "2022-01-26T14:57:53.140Z"
      },
      {
        "duration": 7,
        "start_time": "2022-01-26T14:58:56.976Z"
      },
      {
        "duration": 4,
        "start_time": "2022-01-26T15:00:38.402Z"
      },
      {
        "duration": 14,
        "start_time": "2022-01-26T15:03:53.374Z"
      },
      {
        "duration": 7,
        "start_time": "2022-01-26T15:05:33.349Z"
      },
      {
        "duration": 198,
        "start_time": "2022-01-26T15:05:55.711Z"
      },
      {
        "duration": 14,
        "start_time": "2022-01-26T15:05:58.363Z"
      },
      {
        "duration": 68,
        "start_time": "2022-01-26T15:06:08.822Z"
      },
      {
        "duration": 9,
        "start_time": "2022-01-26T15:06:11.754Z"
      },
      {
        "duration": 9,
        "start_time": "2022-01-26T15:06:21.367Z"
      },
      {
        "duration": 12,
        "start_time": "2022-01-26T15:07:18.851Z"
      },
      {
        "duration": 9,
        "start_time": "2022-01-26T15:08:11.859Z"
      },
      {
        "duration": 17,
        "start_time": "2022-01-26T15:08:13.302Z"
      },
      {
        "duration": 195,
        "start_time": "2022-01-26T15:08:21.328Z"
      },
      {
        "duration": 333,
        "start_time": "2022-01-26T15:08:48.185Z"
      },
      {
        "duration": 5,
        "start_time": "2022-01-26T15:09:23.606Z"
      },
      {
        "duration": 4,
        "start_time": "2022-01-26T15:10:08.353Z"
      },
      {
        "duration": 1032,
        "start_time": "2022-01-26T15:25:00.364Z"
      },
      {
        "duration": 26,
        "start_time": "2022-01-26T15:25:01.398Z"
      },
      {
        "duration": 41,
        "start_time": "2022-01-26T15:25:01.426Z"
      },
      {
        "duration": 164,
        "start_time": "2022-01-26T15:25:01.469Z"
      },
      {
        "duration": 100,
        "start_time": "2022-01-26T15:25:01.635Z"
      },
      {
        "duration": 140,
        "start_time": "2022-01-26T15:25:01.737Z"
      },
      {
        "duration": 5,
        "start_time": "2022-01-26T15:25:01.879Z"
      },
      {
        "duration": 7,
        "start_time": "2022-01-26T15:25:01.887Z"
      },
      {
        "duration": 19,
        "start_time": "2022-01-26T15:25:01.896Z"
      },
      {
        "duration": 13,
        "start_time": "2022-01-26T15:25:01.916Z"
      },
      {
        "duration": 46,
        "start_time": "2022-01-26T15:25:01.931Z"
      },
      {
        "duration": 448,
        "start_time": "2022-01-26T15:25:01.978Z"
      },
      {
        "duration": 8,
        "start_time": "2022-01-26T15:25:02.428Z"
      },
      {
        "duration": 31,
        "start_time": "2022-01-26T15:25:02.437Z"
      },
      {
        "duration": 2,
        "start_time": "2022-01-26T15:25:02.470Z"
      },
      {
        "duration": 18,
        "start_time": "2022-01-26T15:25:02.474Z"
      },
      {
        "duration": 36,
        "start_time": "2022-01-26T15:25:02.493Z"
      },
      {
        "duration": 19,
        "start_time": "2022-01-26T15:25:02.530Z"
      },
      {
        "duration": 3,
        "start_time": "2022-01-26T15:25:02.551Z"
      },
      {
        "duration": 10,
        "start_time": "2022-01-26T15:25:02.555Z"
      },
      {
        "duration": 47,
        "start_time": "2022-01-26T15:25:02.566Z"
      },
      {
        "duration": 20,
        "start_time": "2022-01-26T15:25:02.615Z"
      },
      {
        "duration": 5,
        "start_time": "2022-01-26T15:25:02.640Z"
      },
      {
        "duration": 6,
        "start_time": "2022-01-26T15:25:02.647Z"
      },
      {
        "duration": 15,
        "start_time": "2022-01-26T15:25:02.655Z"
      },
      {
        "duration": 14,
        "start_time": "2022-01-26T15:25:02.672Z"
      },
      {
        "duration": 15,
        "start_time": "2022-01-26T15:25:02.688Z"
      },
      {
        "duration": 22,
        "start_time": "2022-01-26T15:25:02.705Z"
      },
      {
        "duration": 12,
        "start_time": "2022-01-26T15:25:02.729Z"
      },
      {
        "duration": 9,
        "start_time": "2022-01-26T15:25:02.742Z"
      },
      {
        "duration": 8,
        "start_time": "2022-01-26T15:25:02.753Z"
      },
      {
        "duration": 8,
        "start_time": "2022-01-26T15:25:02.763Z"
      },
      {
        "duration": 7,
        "start_time": "2022-01-26T15:25:02.772Z"
      },
      {
        "duration": 15,
        "start_time": "2022-01-26T15:25:02.781Z"
      },
      {
        "duration": 6,
        "start_time": "2022-01-26T15:25:02.798Z"
      },
      {
        "duration": 13,
        "start_time": "2022-01-26T15:25:02.806Z"
      },
      {
        "duration": 7,
        "start_time": "2022-01-26T15:25:02.821Z"
      },
      {
        "duration": 199,
        "start_time": "2022-01-26T15:25:02.829Z"
      },
      {
        "duration": 295,
        "start_time": "2022-01-26T15:25:03.029Z"
      },
      {
        "duration": 6,
        "start_time": "2022-01-26T15:25:03.325Z"
      },
      {
        "duration": 9,
        "start_time": "2022-01-26T15:25:03.333Z"
      },
      {
        "duration": 9,
        "start_time": "2022-01-26T15:25:03.343Z"
      },
      {
        "duration": 62,
        "start_time": "2022-01-26T15:25:03.353Z"
      },
      {
        "duration": 23,
        "start_time": "2022-01-26T15:25:03.416Z"
      },
      {
        "duration": 929,
        "start_time": "2022-01-26T15:25:03.440Z"
      },
      {
        "duration": 21,
        "start_time": "2022-01-26T15:25:04.371Z"
      },
      {
        "duration": 4,
        "start_time": "2022-01-26T15:25:04.393Z"
      },
      {
        "duration": 5,
        "start_time": "2022-01-26T15:25:04.412Z"
      },
      {
        "duration": 951,
        "start_time": "2022-01-26T15:25:04.419Z"
      },
      {
        "duration": 6,
        "start_time": "2022-01-26T15:25:05.372Z"
      },
      {
        "duration": 14,
        "start_time": "2022-01-26T15:25:05.380Z"
      },
      {
        "duration": 19,
        "start_time": "2022-01-26T15:25:05.395Z"
      },
      {
        "duration": 6,
        "start_time": "2022-01-26T15:25:05.415Z"
      },
      {
        "duration": 1726,
        "start_time": "2022-01-26T15:25:05.423Z"
      },
      {
        "duration": 1616,
        "start_time": "2022-01-26T15:25:07.151Z"
      },
      {
        "duration": 6,
        "start_time": "2022-01-26T15:25:08.769Z"
      },
      {
        "duration": 9,
        "start_time": "2022-01-26T15:25:08.776Z"
      },
      {
        "duration": 8,
        "start_time": "2022-01-26T15:25:08.786Z"
      },
      {
        "duration": 28,
        "start_time": "2022-01-26T15:25:08.795Z"
      },
      {
        "duration": 4,
        "start_time": "2022-01-26T15:25:08.825Z"
      },
      {
        "duration": 5,
        "start_time": "2022-01-26T15:25:08.830Z"
      },
      {
        "duration": 108,
        "start_time": "2022-02-04T06:54:41.762Z"
      },
      {
        "duration": 1883,
        "start_time": "2022-02-04T07:02:44.858Z"
      },
      {
        "duration": 35,
        "start_time": "2022-02-04T07:02:46.744Z"
      },
      {
        "duration": 44,
        "start_time": "2022-02-04T07:02:46.782Z"
      },
      {
        "duration": 226,
        "start_time": "2022-02-04T07:02:46.829Z"
      },
      {
        "duration": 141,
        "start_time": "2022-02-04T07:02:47.058Z"
      },
      {
        "duration": 212,
        "start_time": "2022-02-04T07:02:47.202Z"
      },
      {
        "duration": 16,
        "start_time": "2022-02-04T07:02:47.416Z"
      },
      {
        "duration": 4,
        "start_time": "2022-02-04T07:02:47.436Z"
      },
      {
        "duration": 9,
        "start_time": "2022-02-04T07:02:47.443Z"
      },
      {
        "duration": 19,
        "start_time": "2022-02-04T07:02:47.454Z"
      },
      {
        "duration": 88,
        "start_time": "2022-02-04T07:02:47.476Z"
      },
      {
        "duration": 704,
        "start_time": "2022-02-04T07:02:47.567Z"
      },
      {
        "duration": 6,
        "start_time": "2022-02-04T07:02:48.273Z"
      },
      {
        "duration": 18,
        "start_time": "2022-02-04T07:02:48.281Z"
      },
      {
        "duration": 63,
        "start_time": "2022-02-04T07:02:48.302Z"
      },
      {
        "duration": 4,
        "start_time": "2022-02-04T07:02:48.367Z"
      },
      {
        "duration": 19,
        "start_time": "2022-02-04T07:02:48.373Z"
      },
      {
        "duration": 70,
        "start_time": "2022-02-04T07:02:48.394Z"
      },
      {
        "duration": 26,
        "start_time": "2022-02-04T07:02:48.467Z"
      },
      {
        "duration": 4,
        "start_time": "2022-02-04T07:02:48.495Z"
      },
      {
        "duration": 39,
        "start_time": "2022-02-04T07:02:48.502Z"
      },
      {
        "duration": 70,
        "start_time": "2022-02-04T07:02:48.543Z"
      },
      {
        "duration": 35,
        "start_time": "2022-02-04T07:02:48.635Z"
      },
      {
        "duration": 10,
        "start_time": "2022-02-04T07:02:48.674Z"
      },
      {
        "duration": 4,
        "start_time": "2022-02-04T07:02:48.687Z"
      },
      {
        "duration": 42,
        "start_time": "2022-02-04T07:02:48.694Z"
      },
      {
        "duration": 24,
        "start_time": "2022-02-04T07:02:48.739Z"
      },
      {
        "duration": 12,
        "start_time": "2022-02-04T07:02:48.766Z"
      },
      {
        "duration": 62,
        "start_time": "2022-02-04T07:02:48.781Z"
      },
      {
        "duration": 24,
        "start_time": "2022-02-04T07:02:48.846Z"
      },
      {
        "duration": 14,
        "start_time": "2022-02-04T07:02:48.872Z"
      },
      {
        "duration": 9,
        "start_time": "2022-02-04T07:02:48.888Z"
      },
      {
        "duration": 47,
        "start_time": "2022-02-04T07:02:48.900Z"
      },
      {
        "duration": 7,
        "start_time": "2022-02-04T07:02:48.950Z"
      },
      {
        "duration": 19,
        "start_time": "2022-02-04T07:02:48.960Z"
      },
      {
        "duration": 9,
        "start_time": "2022-02-04T07:02:48.982Z"
      },
      {
        "duration": 43,
        "start_time": "2022-02-04T07:02:48.994Z"
      },
      {
        "duration": 14,
        "start_time": "2022-02-04T07:02:49.040Z"
      },
      {
        "duration": 512,
        "start_time": "2022-02-04T07:02:49.056Z"
      },
      {
        "duration": 467,
        "start_time": "2022-02-04T07:02:49.571Z"
      },
      {
        "duration": 13,
        "start_time": "2022-02-04T07:02:50.041Z"
      },
      {
        "duration": 10,
        "start_time": "2022-02-04T07:02:50.056Z"
      },
      {
        "duration": 11,
        "start_time": "2022-02-04T07:02:50.069Z"
      },
      {
        "duration": 12,
        "start_time": "2022-02-04T07:02:50.083Z"
      },
      {
        "duration": 31,
        "start_time": "2022-02-04T07:02:50.133Z"
      },
      {
        "duration": 1345,
        "start_time": "2022-02-04T07:02:50.167Z"
      },
      {
        "duration": 40,
        "start_time": "2022-02-04T07:02:51.514Z"
      },
      {
        "duration": 6,
        "start_time": "2022-02-04T07:02:51.556Z"
      },
      {
        "duration": 9,
        "start_time": "2022-02-04T07:02:51.564Z"
      },
      {
        "duration": 1461,
        "start_time": "2022-02-04T07:02:51.575Z"
      },
      {
        "duration": 9,
        "start_time": "2022-02-04T07:02:53.038Z"
      },
      {
        "duration": 13,
        "start_time": "2022-02-04T07:02:53.049Z"
      },
      {
        "duration": 9,
        "start_time": "2022-02-04T07:02:53.064Z"
      },
      {
        "duration": 59,
        "start_time": "2022-02-04T07:02:53.076Z"
      },
      {
        "duration": 2619,
        "start_time": "2022-02-04T07:02:53.138Z"
      },
      {
        "duration": 2519,
        "start_time": "2022-02-04T07:02:55.760Z"
      },
      {
        "duration": 8,
        "start_time": "2022-02-04T07:02:58.281Z"
      },
      {
        "duration": 12,
        "start_time": "2022-02-04T07:02:58.291Z"
      },
      {
        "duration": 31,
        "start_time": "2022-02-04T07:02:58.305Z"
      },
      {
        "duration": 26,
        "start_time": "2022-02-04T07:02:58.338Z"
      },
      {
        "duration": 8,
        "start_time": "2022-02-04T07:02:58.367Z"
      },
      {
        "duration": 11,
        "start_time": "2022-02-04T07:02:58.378Z"
      },
      {
        "duration": 4,
        "start_time": "2022-02-04T07:04:42.858Z"
      },
      {
        "duration": 26,
        "start_time": "2022-02-04T07:09:30.957Z"
      },
      {
        "duration": 26,
        "start_time": "2022-02-04T07:09:46.887Z"
      },
      {
        "duration": 29,
        "start_time": "2022-02-04T07:10:16.607Z"
      },
      {
        "duration": 114,
        "start_time": "2022-02-04T07:15:57.406Z"
      },
      {
        "duration": 126,
        "start_time": "2022-02-04T07:18:33.953Z"
      },
      {
        "duration": 399,
        "start_time": "2022-02-04T07:23:21.891Z"
      },
      {
        "duration": 1569,
        "start_time": "2022-02-04T07:52:30.137Z"
      },
      {
        "duration": 37,
        "start_time": "2022-02-04T07:52:31.709Z"
      },
      {
        "duration": 43,
        "start_time": "2022-02-04T07:52:31.750Z"
      },
      {
        "duration": 245,
        "start_time": "2022-02-04T07:52:31.796Z"
      },
      {
        "duration": 142,
        "start_time": "2022-02-04T07:52:32.044Z"
      },
      {
        "duration": 203,
        "start_time": "2022-02-04T07:52:32.189Z"
      },
      {
        "duration": 7,
        "start_time": "2022-02-04T07:52:32.394Z"
      },
      {
        "duration": 6,
        "start_time": "2022-02-04T07:52:32.403Z"
      },
      {
        "duration": 25,
        "start_time": "2022-02-04T07:52:32.414Z"
      },
      {
        "duration": 14,
        "start_time": "2022-02-04T07:52:32.443Z"
      },
      {
        "duration": 115,
        "start_time": "2022-02-04T07:52:32.460Z"
      },
      {
        "duration": 705,
        "start_time": "2022-02-04T07:52:32.578Z"
      },
      {
        "duration": 13,
        "start_time": "2022-02-04T07:52:33.285Z"
      },
      {
        "duration": 59,
        "start_time": "2022-02-04T07:52:33.300Z"
      },
      {
        "duration": 4,
        "start_time": "2022-02-04T07:52:33.361Z"
      },
      {
        "duration": 21,
        "start_time": "2022-02-04T07:52:33.368Z"
      },
      {
        "duration": 60,
        "start_time": "2022-02-04T07:52:33.392Z"
      },
      {
        "duration": 26,
        "start_time": "2022-02-04T07:52:33.455Z"
      },
      {
        "duration": 4,
        "start_time": "2022-02-04T07:52:33.484Z"
      },
      {
        "duration": 15,
        "start_time": "2022-02-04T07:52:33.490Z"
      },
      {
        "duration": 70,
        "start_time": "2022-02-04T07:52:33.507Z"
      },
      {
        "duration": 27,
        "start_time": "2022-02-04T07:52:33.579Z"
      },
      {
        "duration": 25,
        "start_time": "2022-02-04T07:52:33.608Z"
      },
      {
        "duration": 4,
        "start_time": "2022-02-04T07:52:33.635Z"
      },
      {
        "duration": 13,
        "start_time": "2022-02-04T07:52:33.641Z"
      },
      {
        "duration": 18,
        "start_time": "2022-02-04T07:52:33.657Z"
      },
      {
        "duration": 10,
        "start_time": "2022-02-04T07:52:33.681Z"
      },
      {
        "duration": 58,
        "start_time": "2022-02-04T07:52:33.694Z"
      },
      {
        "duration": 18,
        "start_time": "2022-02-04T07:52:33.755Z"
      },
      {
        "duration": 11,
        "start_time": "2022-02-04T07:52:33.776Z"
      },
      {
        "duration": 43,
        "start_time": "2022-02-04T07:52:33.790Z"
      },
      {
        "duration": 10,
        "start_time": "2022-02-04T07:52:33.835Z"
      },
      {
        "duration": 7,
        "start_time": "2022-02-04T07:52:33.847Z"
      },
      {
        "duration": 18,
        "start_time": "2022-02-04T07:52:33.856Z"
      },
      {
        "duration": 570,
        "start_time": "2022-02-04T07:52:33.877Z"
      },
      {
        "duration": -64,
        "start_time": "2022-02-04T07:52:34.514Z"
      },
      {
        "duration": -67,
        "start_time": "2022-02-04T07:52:34.518Z"
      },
      {
        "duration": -69,
        "start_time": "2022-02-04T07:52:34.522Z"
      },
      {
        "duration": -76,
        "start_time": "2022-02-04T07:52:34.530Z"
      },
      {
        "duration": -78,
        "start_time": "2022-02-04T07:52:34.534Z"
      },
      {
        "duration": -79,
        "start_time": "2022-02-04T07:52:34.537Z"
      },
      {
        "duration": -86,
        "start_time": "2022-02-04T07:52:34.545Z"
      },
      {
        "duration": -87,
        "start_time": "2022-02-04T07:52:34.548Z"
      },
      {
        "duration": -95,
        "start_time": "2022-02-04T07:52:34.557Z"
      },
      {
        "duration": -96,
        "start_time": "2022-02-04T07:52:34.560Z"
      },
      {
        "duration": -99,
        "start_time": "2022-02-04T07:52:34.564Z"
      },
      {
        "duration": -101,
        "start_time": "2022-02-04T07:52:34.568Z"
      },
      {
        "duration": -116,
        "start_time": "2022-02-04T07:52:34.584Z"
      },
      {
        "duration": -125,
        "start_time": "2022-02-04T07:52:34.595Z"
      },
      {
        "duration": -129,
        "start_time": "2022-02-04T07:52:34.600Z"
      },
      {
        "duration": -137,
        "start_time": "2022-02-04T07:52:34.609Z"
      },
      {
        "duration": -138,
        "start_time": "2022-02-04T07:52:34.612Z"
      },
      {
        "duration": -139,
        "start_time": "2022-02-04T07:52:34.614Z"
      },
      {
        "duration": -140,
        "start_time": "2022-02-04T07:52:34.617Z"
      },
      {
        "duration": -146,
        "start_time": "2022-02-04T07:52:34.624Z"
      },
      {
        "duration": -146,
        "start_time": "2022-02-04T07:52:34.626Z"
      },
      {
        "duration": -148,
        "start_time": "2022-02-04T07:52:34.629Z"
      },
      {
        "duration": -148,
        "start_time": "2022-02-04T07:52:34.631Z"
      },
      {
        "duration": -149,
        "start_time": "2022-02-04T07:52:34.633Z"
      },
      {
        "duration": -154,
        "start_time": "2022-02-04T07:52:34.640Z"
      },
      {
        "duration": 1943,
        "start_time": "2022-02-04T07:53:11.345Z"
      },
      {
        "duration": 44,
        "start_time": "2022-02-04T07:53:13.292Z"
      },
      {
        "duration": 53,
        "start_time": "2022-02-04T07:53:13.340Z"
      },
      {
        "duration": 328,
        "start_time": "2022-02-04T07:53:13.396Z"
      },
      {
        "duration": 140,
        "start_time": "2022-02-04T07:53:13.727Z"
      },
      {
        "duration": 196,
        "start_time": "2022-02-04T07:53:13.870Z"
      },
      {
        "duration": 6,
        "start_time": "2022-02-04T07:53:14.070Z"
      },
      {
        "duration": 10,
        "start_time": "2022-02-04T07:53:14.079Z"
      },
      {
        "duration": 16,
        "start_time": "2022-02-04T07:53:14.092Z"
      },
      {
        "duration": 11,
        "start_time": "2022-02-04T07:53:14.131Z"
      },
      {
        "duration": 87,
        "start_time": "2022-02-04T07:53:14.145Z"
      },
      {
        "duration": 677,
        "start_time": "2022-02-04T07:53:14.235Z"
      },
      {
        "duration": 21,
        "start_time": "2022-02-04T07:53:14.914Z"
      },
      {
        "duration": 41,
        "start_time": "2022-02-04T07:53:14.938Z"
      },
      {
        "duration": 4,
        "start_time": "2022-02-04T07:53:14.981Z"
      },
      {
        "duration": 20,
        "start_time": "2022-02-04T07:53:14.987Z"
      },
      {
        "duration": 41,
        "start_time": "2022-02-04T07:53:15.033Z"
      },
      {
        "duration": 27,
        "start_time": "2022-02-04T07:53:15.076Z"
      },
      {
        "duration": 3,
        "start_time": "2022-02-04T07:53:15.105Z"
      },
      {
        "duration": 9,
        "start_time": "2022-02-04T07:53:15.133Z"
      },
      {
        "duration": 49,
        "start_time": "2022-02-04T07:53:15.144Z"
      },
      {
        "duration": 51,
        "start_time": "2022-02-04T07:53:15.198Z"
      },
      {
        "duration": 9,
        "start_time": "2022-02-04T07:53:15.253Z"
      },
      {
        "duration": 4,
        "start_time": "2022-02-04T07:53:15.265Z"
      },
      {
        "duration": 15,
        "start_time": "2022-02-04T07:53:15.272Z"
      },
      {
        "duration": 47,
        "start_time": "2022-02-04T07:53:15.289Z"
      },
      {
        "duration": 13,
        "start_time": "2022-02-04T07:53:15.339Z"
      },
      {
        "duration": 31,
        "start_time": "2022-02-04T07:53:15.354Z"
      },
      {
        "duration": 17,
        "start_time": "2022-02-04T07:53:15.388Z"
      },
      {
        "duration": 10,
        "start_time": "2022-02-04T07:53:15.432Z"
      },
      {
        "duration": 6,
        "start_time": "2022-02-04T07:53:15.444Z"
      },
      {
        "duration": 18,
        "start_time": "2022-02-04T07:53:15.453Z"
      },
      {
        "duration": 11,
        "start_time": "2022-02-04T07:53:15.475Z"
      },
      {
        "duration": 63,
        "start_time": "2022-02-04T07:53:15.489Z"
      },
      {
        "duration": 13,
        "start_time": "2022-02-04T07:53:15.554Z"
      },
      {
        "duration": 22,
        "start_time": "2022-02-04T07:53:15.570Z"
      },
      {
        "duration": 41,
        "start_time": "2022-02-04T07:53:15.595Z"
      },
      {
        "duration": 365,
        "start_time": "2022-02-04T07:53:15.639Z"
      },
      {
        "duration": 356,
        "start_time": "2022-02-04T07:53:16.007Z"
      },
      {
        "duration": 9,
        "start_time": "2022-02-04T07:53:16.366Z"
      },
      {
        "duration": 10,
        "start_time": "2022-02-04T07:53:16.378Z"
      },
      {
        "duration": 41,
        "start_time": "2022-02-04T07:53:16.391Z"
      },
      {
        "duration": 11,
        "start_time": "2022-02-04T07:53:16.434Z"
      },
      {
        "duration": 31,
        "start_time": "2022-02-04T07:53:16.448Z"
      },
      {
        "duration": 1410,
        "start_time": "2022-02-04T07:53:16.481Z"
      },
      {
        "duration": 44,
        "start_time": "2022-02-04T07:53:17.893Z"
      },
      {
        "duration": 6,
        "start_time": "2022-02-04T07:53:17.940Z"
      },
      {
        "duration": 12,
        "start_time": "2022-02-04T07:53:17.948Z"
      },
      {
        "duration": 1600,
        "start_time": "2022-02-04T07:53:17.962Z"
      },
      {
        "duration": 8,
        "start_time": "2022-02-04T07:53:19.564Z"
      },
      {
        "duration": 12,
        "start_time": "2022-02-04T07:53:19.574Z"
      },
      {
        "duration": 8,
        "start_time": "2022-02-04T07:53:19.588Z"
      },
      {
        "duration": 41,
        "start_time": "2022-02-04T07:53:19.599Z"
      },
      {
        "duration": 3196,
        "start_time": "2022-02-04T07:53:19.643Z"
      },
      {
        "duration": 3508,
        "start_time": "2022-02-04T07:53:22.842Z"
      },
      {
        "duration": 10,
        "start_time": "2022-02-04T07:53:26.353Z"
      },
      {
        "duration": 9,
        "start_time": "2022-02-04T07:53:26.367Z"
      },
      {
        "duration": 14,
        "start_time": "2022-02-04T07:53:26.378Z"
      },
      {
        "duration": 60,
        "start_time": "2022-02-04T07:53:26.395Z"
      },
      {
        "duration": 13,
        "start_time": "2022-02-04T07:53:26.457Z"
      },
      {
        "duration": 18,
        "start_time": "2022-02-04T07:53:26.473Z"
      },
      {
        "duration": 450,
        "start_time": "2022-02-05T11:11:02.461Z"
      },
      {
        "duration": 1401,
        "start_time": "2022-02-05T11:11:06.340Z"
      },
      {
        "duration": 37,
        "start_time": "2022-02-05T11:11:08.245Z"
      },
      {
        "duration": 319,
        "start_time": "2022-02-05T11:11:10.230Z"
      },
      {
        "duration": 44,
        "start_time": "2022-02-05T11:11:25.308Z"
      },
      {
        "duration": 257,
        "start_time": "2022-02-05T11:11:57.645Z"
      },
      {
        "duration": 152,
        "start_time": "2022-02-05T11:12:15.420Z"
      },
      {
        "duration": 4,
        "start_time": "2022-02-05T11:13:32.418Z"
      },
      {
        "duration": 41,
        "start_time": "2022-02-05T11:13:32.428Z"
      },
      {
        "duration": 56,
        "start_time": "2022-02-05T11:13:32.473Z"
      },
      {
        "duration": 309,
        "start_time": "2022-02-05T11:13:32.532Z"
      },
      {
        "duration": 144,
        "start_time": "2022-02-05T11:13:32.844Z"
      },
      {
        "duration": 199,
        "start_time": "2022-02-05T11:13:32.990Z"
      },
      {
        "duration": 6,
        "start_time": "2022-02-05T11:13:33.192Z"
      },
      {
        "duration": 10,
        "start_time": "2022-02-05T11:13:33.200Z"
      },
      {
        "duration": 23,
        "start_time": "2022-02-05T11:13:33.213Z"
      },
      {
        "duration": 15,
        "start_time": "2022-02-05T11:13:33.239Z"
      },
      {
        "duration": 39,
        "start_time": "2022-02-05T11:13:33.256Z"
      },
      {
        "duration": 703,
        "start_time": "2022-02-05T11:13:33.298Z"
      },
      {
        "duration": 13,
        "start_time": "2022-02-05T11:13:34.004Z"
      },
      {
        "duration": 49,
        "start_time": "2022-02-05T11:13:34.019Z"
      },
      {
        "duration": 4,
        "start_time": "2022-02-05T11:13:34.070Z"
      },
      {
        "duration": 19,
        "start_time": "2022-02-05T11:13:34.076Z"
      },
      {
        "duration": 57,
        "start_time": "2022-02-05T11:13:34.097Z"
      },
      {
        "duration": 22,
        "start_time": "2022-02-05T11:13:34.157Z"
      },
      {
        "duration": 4,
        "start_time": "2022-02-05T11:13:34.181Z"
      },
      {
        "duration": 21,
        "start_time": "2022-02-05T11:13:34.187Z"
      },
      {
        "duration": 67,
        "start_time": "2022-02-05T11:13:34.211Z"
      },
      {
        "duration": 22,
        "start_time": "2022-02-05T11:13:34.280Z"
      },
      {
        "duration": 9,
        "start_time": "2022-02-05T11:13:34.304Z"
      },
      {
        "duration": 4,
        "start_time": "2022-02-05T11:13:34.337Z"
      },
      {
        "duration": 17,
        "start_time": "2022-02-05T11:13:34.345Z"
      },
      {
        "duration": 18,
        "start_time": "2022-02-05T11:13:34.364Z"
      },
      {
        "duration": 22,
        "start_time": "2022-02-05T11:13:34.384Z"
      },
      {
        "duration": 46,
        "start_time": "2022-02-05T11:13:34.409Z"
      },
      {
        "duration": 19,
        "start_time": "2022-02-05T11:13:34.458Z"
      },
      {
        "duration": 21,
        "start_time": "2022-02-05T11:13:34.479Z"
      },
      {
        "duration": 14,
        "start_time": "2022-02-05T11:13:34.502Z"
      },
      {
        "duration": 24,
        "start_time": "2022-02-05T11:13:34.518Z"
      },
      {
        "duration": 14,
        "start_time": "2022-02-05T11:13:34.544Z"
      },
      {
        "duration": 21,
        "start_time": "2022-02-05T11:13:34.560Z"
      },
      {
        "duration": 15,
        "start_time": "2022-02-05T11:13:34.583Z"
      },
      {
        "duration": 51,
        "start_time": "2022-02-05T11:13:34.601Z"
      },
      {
        "duration": 13,
        "start_time": "2022-02-05T11:13:34.654Z"
      },
      {
        "duration": 371,
        "start_time": "2022-02-05T11:13:34.669Z"
      },
      {
        "duration": 460,
        "start_time": "2022-02-05T11:13:35.043Z"
      },
      {
        "duration": 9,
        "start_time": "2022-02-05T11:13:35.505Z"
      },
      {
        "duration": 9,
        "start_time": "2022-02-05T11:13:35.533Z"
      },
      {
        "duration": 16,
        "start_time": "2022-02-05T11:13:35.544Z"
      },
      {
        "duration": 15,
        "start_time": "2022-02-05T11:13:35.563Z"
      },
      {
        "duration": 54,
        "start_time": "2022-02-05T11:13:35.580Z"
      },
      {
        "duration": 1436,
        "start_time": "2022-02-05T11:13:35.637Z"
      },
      {
        "duration": 36,
        "start_time": "2022-02-05T11:13:37.076Z"
      },
      {
        "duration": 8,
        "start_time": "2022-02-05T11:13:37.134Z"
      },
      {
        "duration": 20,
        "start_time": "2022-02-05T11:13:37.144Z"
      },
      {
        "duration": 1807,
        "start_time": "2022-02-05T11:13:37.167Z"
      },
      {
        "duration": 9,
        "start_time": "2022-02-05T11:13:38.976Z"
      },
      {
        "duration": 13,
        "start_time": "2022-02-05T11:13:38.987Z"
      },
      {
        "duration": 29,
        "start_time": "2022-02-05T11:13:39.003Z"
      },
      {
        "duration": 11,
        "start_time": "2022-02-05T11:13:39.034Z"
      },
      {
        "duration": 3109,
        "start_time": "2022-02-05T11:13:39.048Z"
      },
      {
        "duration": 2465,
        "start_time": "2022-02-05T11:13:42.161Z"
      },
      {
        "duration": 7,
        "start_time": "2022-02-05T11:13:44.632Z"
      },
      {
        "duration": 9,
        "start_time": "2022-02-05T11:13:44.642Z"
      },
      {
        "duration": 10,
        "start_time": "2022-02-05T11:13:44.653Z"
      },
      {
        "duration": 21,
        "start_time": "2022-02-05T11:13:44.665Z"
      },
      {
        "duration": 47,
        "start_time": "2022-02-05T11:13:44.688Z"
      },
      {
        "duration": 8,
        "start_time": "2022-02-05T11:13:44.738Z"
      },
      {
        "duration": 8,
        "start_time": "2022-02-05T11:19:29.237Z"
      },
      {
        "duration": 7,
        "start_time": "2022-02-05T11:19:35.676Z"
      },
      {
        "duration": 8,
        "start_time": "2022-02-05T11:19:39.021Z"
      },
      {
        "duration": 22,
        "start_time": "2022-02-05T11:31:37.893Z"
      },
      {
        "duration": 271,
        "start_time": "2022-02-05T11:32:46.288Z"
      },
      {
        "duration": 239,
        "start_time": "2022-02-05T11:32:59.828Z"
      },
      {
        "duration": 25,
        "start_time": "2022-02-05T11:33:10.728Z"
      },
      {
        "duration": 32,
        "start_time": "2022-02-05T11:33:56.076Z"
      },
      {
        "duration": 57,
        "start_time": "2022-02-05T11:34:04.571Z"
      },
      {
        "duration": 35,
        "start_time": "2022-02-05T11:34:17.628Z"
      },
      {
        "duration": 260,
        "start_time": "2022-02-05T11:36:20.453Z"
      },
      {
        "duration": 253,
        "start_time": "2022-02-05T11:36:23.820Z"
      },
      {
        "duration": 79,
        "start_time": "2022-02-05T11:36:30.597Z"
      },
      {
        "duration": 35,
        "start_time": "2022-02-05T11:36:35.909Z"
      },
      {
        "duration": 34,
        "start_time": "2022-02-05T11:36:41.324Z"
      },
      {
        "duration": 295,
        "start_time": "2022-02-05T11:36:44.880Z"
      },
      {
        "duration": 239,
        "start_time": "2022-02-05T11:36:59.018Z"
      },
      {
        "duration": 239,
        "start_time": "2022-02-05T11:37:03.405Z"
      },
      {
        "duration": 55,
        "start_time": "2022-02-05T11:39:15.809Z"
      },
      {
        "duration": 32,
        "start_time": "2022-02-05T11:39:23.550Z"
      },
      {
        "duration": 82,
        "start_time": "2022-02-05T11:39:42.915Z"
      },
      {
        "duration": 293,
        "start_time": "2022-02-05T11:39:45.928Z"
      },
      {
        "duration": 373,
        "start_time": "2022-02-05T11:39:50.805Z"
      },
      {
        "duration": 61,
        "start_time": "2022-02-05T11:40:04.946Z"
      },
      {
        "duration": 81,
        "start_time": "2022-02-05T11:40:19.687Z"
      },
      {
        "duration": 325,
        "start_time": "2022-02-05T11:40:28.072Z"
      },
      {
        "duration": 257,
        "start_time": "2022-02-05T11:40:31.031Z"
      },
      {
        "duration": 228,
        "start_time": "2022-02-05T11:40:34.949Z"
      },
      {
        "duration": 68,
        "start_time": "2022-02-05T11:40:44.407Z"
      },
      {
        "duration": 33,
        "start_time": "2022-02-05T11:40:49.848Z"
      },
      {
        "duration": 18,
        "start_time": "2022-02-05T11:41:07.351Z"
      },
      {
        "duration": 18,
        "start_time": "2022-02-05T11:48:07.187Z"
      },
      {
        "duration": 90,
        "start_time": "2022-02-05T13:27:21.491Z"
      },
      {
        "duration": 325,
        "start_time": "2022-02-05T13:27:36.135Z"
      },
      {
        "duration": 1169,
        "start_time": "2022-02-05T13:27:46.922Z"
      },
      {
        "duration": 33,
        "start_time": "2022-02-05T13:27:48.093Z"
      },
      {
        "duration": 43,
        "start_time": "2022-02-05T13:27:48.128Z"
      },
      {
        "duration": 200,
        "start_time": "2022-02-05T13:27:48.173Z"
      },
      {
        "duration": 114,
        "start_time": "2022-02-05T13:27:48.375Z"
      },
      {
        "duration": 195,
        "start_time": "2022-02-05T13:27:48.491Z"
      },
      {
        "duration": 791,
        "start_time": "2022-02-05T13:27:48.688Z"
      },
      {
        "duration": 4441,
        "start_time": "2022-02-05T13:27:45.044Z"
      },
      {
        "duration": 4399,
        "start_time": "2022-02-05T13:27:45.087Z"
      },
      {
        "duration": 4377,
        "start_time": "2022-02-05T13:27:45.110Z"
      },
      {
        "duration": 4361,
        "start_time": "2022-02-05T13:27:45.128Z"
      },
      {
        "duration": 4344,
        "start_time": "2022-02-05T13:27:45.146Z"
      },
      {
        "duration": 4327,
        "start_time": "2022-02-05T13:27:45.164Z"
      },
      {
        "duration": 4311,
        "start_time": "2022-02-05T13:27:45.181Z"
      },
      {
        "duration": 4256,
        "start_time": "2022-02-05T13:27:45.237Z"
      },
      {
        "duration": 4250,
        "start_time": "2022-02-05T13:27:45.244Z"
      },
      {
        "duration": 4240,
        "start_time": "2022-02-05T13:27:45.256Z"
      },
      {
        "duration": 4226,
        "start_time": "2022-02-05T13:27:45.271Z"
      },
      {
        "duration": 4218,
        "start_time": "2022-02-05T13:27:45.280Z"
      },
      {
        "duration": 4203,
        "start_time": "2022-02-05T13:27:45.296Z"
      },
      {
        "duration": 4191,
        "start_time": "2022-02-05T13:27:45.309Z"
      },
      {
        "duration": 4177,
        "start_time": "2022-02-05T13:27:45.324Z"
      },
      {
        "duration": 4164,
        "start_time": "2022-02-05T13:27:45.339Z"
      },
      {
        "duration": 4155,
        "start_time": "2022-02-05T13:27:45.349Z"
      },
      {
        "duration": 4138,
        "start_time": "2022-02-05T13:27:45.367Z"
      },
      {
        "duration": 4123,
        "start_time": "2022-02-05T13:27:45.383Z"
      },
      {
        "duration": 4108,
        "start_time": "2022-02-05T13:27:45.399Z"
      },
      {
        "duration": 4095,
        "start_time": "2022-02-05T13:27:45.413Z"
      },
      {
        "duration": 4082,
        "start_time": "2022-02-05T13:27:45.427Z"
      },
      {
        "duration": 4069,
        "start_time": "2022-02-05T13:27:45.441Z"
      },
      {
        "duration": 4057,
        "start_time": "2022-02-05T13:27:45.455Z"
      },
      {
        "duration": 4047,
        "start_time": "2022-02-05T13:27:45.466Z"
      },
      {
        "duration": 4033,
        "start_time": "2022-02-05T13:27:45.481Z"
      },
      {
        "duration": 4022,
        "start_time": "2022-02-05T13:27:45.493Z"
      },
      {
        "duration": 4010,
        "start_time": "2022-02-05T13:27:45.506Z"
      },
      {
        "duration": 3996,
        "start_time": "2022-02-05T13:27:45.521Z"
      },
      {
        "duration": 3986,
        "start_time": "2022-02-05T13:27:45.532Z"
      },
      {
        "duration": 3972,
        "start_time": "2022-02-05T13:27:45.547Z"
      },
      {
        "duration": 3962,
        "start_time": "2022-02-05T13:27:45.559Z"
      },
      {
        "duration": 3950,
        "start_time": "2022-02-05T13:27:45.572Z"
      },
      {
        "duration": 3941,
        "start_time": "2022-02-05T13:27:45.582Z"
      },
      {
        "duration": 3929,
        "start_time": "2022-02-05T13:27:45.595Z"
      },
      {
        "duration": 3918,
        "start_time": "2022-02-05T13:27:45.607Z"
      },
      {
        "duration": 3907,
        "start_time": "2022-02-05T13:27:45.620Z"
      },
      {
        "duration": 3898,
        "start_time": "2022-02-05T13:27:45.630Z"
      },
      {
        "duration": 3888,
        "start_time": "2022-02-05T13:27:45.641Z"
      },
      {
        "duration": 3876,
        "start_time": "2022-02-05T13:27:45.654Z"
      },
      {
        "duration": 3869,
        "start_time": "2022-02-05T13:27:45.662Z"
      },
      {
        "duration": 3859,
        "start_time": "2022-02-05T13:27:45.674Z"
      },
      {
        "duration": 3847,
        "start_time": "2022-02-05T13:27:45.687Z"
      },
      {
        "duration": 3839,
        "start_time": "2022-02-05T13:27:45.696Z"
      },
      {
        "duration": 3829,
        "start_time": "2022-02-05T13:27:45.707Z"
      },
      {
        "duration": 3818,
        "start_time": "2022-02-05T13:27:45.720Z"
      },
      {
        "duration": 3810,
        "start_time": "2022-02-05T13:27:45.729Z"
      },
      {
        "duration": 3799,
        "start_time": "2022-02-05T13:27:45.741Z"
      },
      {
        "duration": 3786,
        "start_time": "2022-02-05T13:27:45.755Z"
      },
      {
        "duration": 3779,
        "start_time": "2022-02-05T13:27:45.766Z"
      },
      {
        "duration": 3765,
        "start_time": "2022-02-05T13:27:45.781Z"
      },
      {
        "duration": 3753,
        "start_time": "2022-02-05T13:27:45.794Z"
      },
      {
        "duration": 3736,
        "start_time": "2022-02-05T13:27:45.813Z"
      },
      {
        "duration": 3705,
        "start_time": "2022-02-05T13:27:45.845Z"
      },
      {
        "duration": 3688,
        "start_time": "2022-02-05T13:27:45.863Z"
      },
      {
        "duration": 217,
        "start_time": "2022-02-05T13:28:37.728Z"
      },
      {
        "duration": 185,
        "start_time": "2022-02-05T13:28:42.863Z"
      },
      {
        "duration": 5,
        "start_time": "2022-02-05T13:37:39.645Z"
      },
      {
        "duration": 260,
        "start_time": "2022-02-05T13:40:23.665Z"
      },
      {
        "duration": 1279,
        "start_time": "2022-02-05T13:40:36.931Z"
      },
      {
        "duration": 29,
        "start_time": "2022-02-05T13:40:38.213Z"
      },
      {
        "duration": 43,
        "start_time": "2022-02-05T13:40:38.244Z"
      },
      {
        "duration": 192,
        "start_time": "2022-02-05T13:40:38.289Z"
      },
      {
        "duration": 118,
        "start_time": "2022-02-05T13:40:38.483Z"
      },
      {
        "duration": 163,
        "start_time": "2022-02-05T13:40:38.603Z"
      },
      {
        "duration": 214,
        "start_time": "2022-02-05T13:40:38.768Z"
      },
      {
        "duration": 5,
        "start_time": "2022-02-05T13:40:38.985Z"
      },
      {
        "duration": 18,
        "start_time": "2022-02-05T13:40:38.992Z"
      },
      {
        "duration": 12,
        "start_time": "2022-02-05T13:40:39.012Z"
      },
      {
        "duration": 20,
        "start_time": "2022-02-05T13:40:39.026Z"
      },
      {
        "duration": 39,
        "start_time": "2022-02-05T13:40:39.048Z"
      },
      {
        "duration": 5,
        "start_time": "2022-02-05T13:40:39.089Z"
      },
      {
        "duration": 27,
        "start_time": "2022-02-05T13:40:39.095Z"
      },
      {
        "duration": 31,
        "start_time": "2022-02-05T13:40:39.124Z"
      },
      {
        "duration": 5,
        "start_time": "2022-02-05T13:40:39.157Z"
      },
      {
        "duration": 26,
        "start_time": "2022-02-05T13:40:39.164Z"
      },
      {
        "duration": 35,
        "start_time": "2022-02-05T13:40:39.192Z"
      },
      {
        "duration": 12,
        "start_time": "2022-02-05T13:40:39.229Z"
      },
      {
        "duration": 11,
        "start_time": "2022-02-05T13:40:39.243Z"
      },
      {
        "duration": 22,
        "start_time": "2022-02-05T13:40:39.256Z"
      },
      {
        "duration": 35,
        "start_time": "2022-02-05T13:40:39.280Z"
      },
      {
        "duration": 17,
        "start_time": "2022-02-05T13:40:39.319Z"
      },
      {
        "duration": 3,
        "start_time": "2022-02-05T13:40:39.338Z"
      },
      {
        "duration": 10,
        "start_time": "2022-02-05T13:40:39.343Z"
      },
      {
        "duration": 5,
        "start_time": "2022-02-05T13:40:39.355Z"
      },
      {
        "duration": 11,
        "start_time": "2022-02-05T13:40:39.362Z"
      },
      {
        "duration": 6,
        "start_time": "2022-02-05T13:40:39.374Z"
      },
      {
        "duration": 13,
        "start_time": "2022-02-05T13:40:39.382Z"
      },
      {
        "duration": 37,
        "start_time": "2022-02-05T13:40:39.397Z"
      },
      {
        "duration": 11,
        "start_time": "2022-02-05T13:40:39.436Z"
      },
      {
        "duration": 8,
        "start_time": "2022-02-05T13:40:39.449Z"
      },
      {
        "duration": 4,
        "start_time": "2022-02-05T13:40:39.458Z"
      },
      {
        "duration": 16,
        "start_time": "2022-02-05T13:40:39.464Z"
      },
      {
        "duration": 4,
        "start_time": "2022-02-05T13:40:39.481Z"
      },
      {
        "duration": 33,
        "start_time": "2022-02-05T13:40:39.487Z"
      },
      {
        "duration": 12,
        "start_time": "2022-02-05T13:40:39.521Z"
      },
      {
        "duration": 14,
        "start_time": "2022-02-05T13:40:39.535Z"
      },
      {
        "duration": 9,
        "start_time": "2022-02-05T13:40:39.551Z"
      },
      {
        "duration": 222,
        "start_time": "2022-02-05T13:40:39.562Z"
      },
      {
        "duration": 218,
        "start_time": "2022-02-05T13:40:39.785Z"
      },
      {
        "duration": 14,
        "start_time": "2022-02-05T13:40:40.006Z"
      },
      {
        "duration": 11,
        "start_time": "2022-02-05T13:40:40.022Z"
      },
      {
        "duration": 8,
        "start_time": "2022-02-05T13:40:40.035Z"
      },
      {
        "duration": 10,
        "start_time": "2022-02-05T13:40:40.045Z"
      },
      {
        "duration": 25,
        "start_time": "2022-02-05T13:40:40.057Z"
      },
      {
        "duration": 891,
        "start_time": "2022-02-05T13:40:40.084Z"
      },
      {
        "duration": 22,
        "start_time": "2022-02-05T13:40:40.977Z"
      },
      {
        "duration": 20,
        "start_time": "2022-02-05T13:40:41.001Z"
      },
      {
        "duration": 16,
        "start_time": "2022-02-05T13:40:41.023Z"
      },
      {
        "duration": 925,
        "start_time": "2022-02-05T13:40:41.041Z"
      },
      {
        "duration": 7,
        "start_time": "2022-02-05T13:40:41.968Z"
      },
      {
        "duration": 9,
        "start_time": "2022-02-05T13:40:41.977Z"
      },
      {
        "duration": 5,
        "start_time": "2022-02-05T13:40:41.989Z"
      },
      {
        "duration": 7,
        "start_time": "2022-02-05T13:40:42.019Z"
      },
      {
        "duration": 1674,
        "start_time": "2022-02-05T13:40:42.027Z"
      },
      {
        "duration": 1635,
        "start_time": "2022-02-05T13:40:43.702Z"
      },
      {
        "duration": 5,
        "start_time": "2022-02-05T13:40:45.339Z"
      },
      {
        "duration": 7,
        "start_time": "2022-02-05T13:40:45.346Z"
      },
      {
        "duration": 8,
        "start_time": "2022-02-05T13:40:45.355Z"
      },
      {
        "duration": 25,
        "start_time": "2022-02-05T13:40:45.366Z"
      },
      {
        "duration": 28,
        "start_time": "2022-02-05T13:40:45.393Z"
      },
      {
        "duration": 9,
        "start_time": "2022-02-05T13:40:45.423Z"
      },
      {
        "duration": 17,
        "start_time": "2022-02-05T14:01:47.874Z"
      },
      {
        "duration": 12,
        "start_time": "2022-02-05T14:01:50.980Z"
      },
      {
        "duration": 7,
        "start_time": "2022-02-05T14:04:25.265Z"
      },
      {
        "duration": 14,
        "start_time": "2022-02-05T14:15:57.384Z"
      },
      {
        "duration": 80,
        "start_time": "2022-02-05T14:18:08.460Z"
      },
      {
        "duration": 9,
        "start_time": "2022-02-05T14:18:50.545Z"
      },
      {
        "duration": 82,
        "start_time": "2022-02-05T14:18:52.534Z"
      },
      {
        "duration": 94,
        "start_time": "2022-02-05T14:19:03.537Z"
      },
      {
        "duration": 93,
        "start_time": "2022-02-05T14:21:16.329Z"
      },
      {
        "duration": 4,
        "start_time": "2022-02-05T14:21:35.716Z"
      },
      {
        "duration": 5,
        "start_time": "2022-02-05T14:21:52.743Z"
      },
      {
        "duration": 4,
        "start_time": "2022-02-05T14:22:07.724Z"
      },
      {
        "duration": 81,
        "start_time": "2022-02-05T14:22:32.648Z"
      },
      {
        "duration": 6,
        "start_time": "2022-02-05T14:24:11.005Z"
      },
      {
        "duration": 88,
        "start_time": "2022-02-05T14:24:46.334Z"
      },
      {
        "duration": 4622,
        "start_time": "2022-02-05T14:24:49.328Z"
      },
      {
        "duration": 15,
        "start_time": "2022-02-05T16:02:57.421Z"
      },
      {
        "duration": 4304,
        "start_time": "2022-02-05T16:03:22.550Z"
      },
      {
        "duration": 84,
        "start_time": "2022-02-05T16:03:41.064Z"
      },
      {
        "duration": 88,
        "start_time": "2022-02-05T16:04:25.543Z"
      },
      {
        "duration": 15,
        "start_time": "2022-02-05T16:05:28.632Z"
      },
      {
        "duration": 77,
        "start_time": "2022-02-05T16:09:35.380Z"
      },
      {
        "duration": 85,
        "start_time": "2022-02-05T16:10:59.196Z"
      },
      {
        "duration": 85,
        "start_time": "2022-02-05T16:12:30.488Z"
      },
      {
        "duration": 127,
        "start_time": "2022-02-05T16:12:36.716Z"
      },
      {
        "duration": 4687,
        "start_time": "2022-02-05T16:12:40.485Z"
      },
      {
        "duration": 4859,
        "start_time": "2022-02-05T16:12:51.004Z"
      },
      {
        "duration": 4782,
        "start_time": "2022-02-05T16:13:19.166Z"
      },
      {
        "duration": 4655,
        "start_time": "2022-02-05T16:14:29.326Z"
      },
      {
        "duration": 275,
        "start_time": "2022-02-05T16:17:46.569Z"
      },
      {
        "duration": 27,
        "start_time": "2022-02-05T16:17:50.463Z"
      },
      {
        "duration": 290,
        "start_time": "2022-02-05T16:17:53.100Z"
      },
      {
        "duration": 5,
        "start_time": "2022-02-05T16:17:59.071Z"
      },
      {
        "duration": 5,
        "start_time": "2022-02-05T16:18:30.582Z"
      },
      {
        "duration": 6,
        "start_time": "2022-02-05T16:18:41.939Z"
      },
      {
        "duration": 6,
        "start_time": "2022-02-05T16:19:45.962Z"
      },
      {
        "duration": 9297,
        "start_time": "2022-02-05T16:25:27.135Z"
      },
      {
        "duration": 3,
        "start_time": "2022-02-05T16:25:53.396Z"
      },
      {
        "duration": 27,
        "start_time": "2022-02-05T16:25:53.404Z"
      },
      {
        "duration": 4,
        "start_time": "2022-02-05T16:25:53.433Z"
      },
      {
        "duration": 43,
        "start_time": "2022-02-05T16:25:53.439Z"
      },
      {
        "duration": 204,
        "start_time": "2022-02-05T16:25:53.484Z"
      },
      {
        "duration": 128,
        "start_time": "2022-02-05T16:25:53.691Z"
      },
      {
        "duration": 166,
        "start_time": "2022-02-05T16:25:53.821Z"
      },
      {
        "duration": 396,
        "start_time": "2022-02-05T16:25:53.990Z"
      },
      {
        "duration": 7,
        "start_time": "2022-02-05T16:25:54.389Z"
      },
      {
        "duration": 21,
        "start_time": "2022-02-05T16:25:54.399Z"
      },
      {
        "duration": 8,
        "start_time": "2022-02-05T16:25:54.423Z"
      },
      {
        "duration": 12,
        "start_time": "2022-02-05T16:25:54.433Z"
      },
      {
        "duration": 41,
        "start_time": "2022-02-05T16:25:54.447Z"
      },
      {
        "duration": 6,
        "start_time": "2022-02-05T16:25:54.491Z"
      },
      {
        "duration": 31,
        "start_time": "2022-02-05T16:25:54.499Z"
      },
      {
        "duration": 21,
        "start_time": "2022-02-05T16:25:54.532Z"
      },
      {
        "duration": 3,
        "start_time": "2022-02-05T16:25:54.555Z"
      },
      {
        "duration": 15,
        "start_time": "2022-02-05T16:25:54.560Z"
      },
      {
        "duration": 15,
        "start_time": "2022-02-05T16:25:57.292Z"
      },
      {
        "duration": 355,
        "start_time": "2022-02-05T16:26:09.397Z"
      },
      {
        "duration": 1271,
        "start_time": "2022-02-05T16:26:24.331Z"
      },
      {
        "duration": 37,
        "start_time": "2022-02-05T16:26:25.604Z"
      },
      {
        "duration": 365,
        "start_time": "2022-02-05T16:26:25.644Z"
      },
      {
        "duration": 4687,
        "start_time": "2022-02-05T16:26:21.326Z"
      },
      {
        "duration": 4672,
        "start_time": "2022-02-05T16:26:21.342Z"
      },
      {
        "duration": 4656,
        "start_time": "2022-02-05T16:26:21.359Z"
      },
      {
        "duration": 4636,
        "start_time": "2022-02-05T16:26:21.380Z"
      },
      {
        "duration": 4617,
        "start_time": "2022-02-05T16:26:21.400Z"
      },
      {
        "duration": 4594,
        "start_time": "2022-02-05T16:26:21.425Z"
      },
      {
        "duration": 4577,
        "start_time": "2022-02-05T16:26:21.444Z"
      },
      {
        "duration": 4559,
        "start_time": "2022-02-05T16:26:21.463Z"
      },
      {
        "duration": 4539,
        "start_time": "2022-02-05T16:26:21.484Z"
      },
      {
        "duration": 4518,
        "start_time": "2022-02-05T16:26:21.507Z"
      },
      {
        "duration": 4503,
        "start_time": "2022-02-05T16:26:21.523Z"
      },
      {
        "duration": 4490,
        "start_time": "2022-02-05T16:26:21.538Z"
      },
      {
        "duration": 4483,
        "start_time": "2022-02-05T16:26:21.547Z"
      },
      {
        "duration": 4471,
        "start_time": "2022-02-05T16:26:21.561Z"
      },
      {
        "duration": 4459,
        "start_time": "2022-02-05T16:26:21.574Z"
      },
      {
        "duration": 4447,
        "start_time": "2022-02-05T16:26:21.588Z"
      },
      {
        "duration": 4437,
        "start_time": "2022-02-05T16:26:21.599Z"
      },
      {
        "duration": 4423,
        "start_time": "2022-02-05T16:26:21.614Z"
      },
      {
        "duration": 4409,
        "start_time": "2022-02-05T16:26:21.629Z"
      },
      {
        "duration": 4393,
        "start_time": "2022-02-05T16:26:21.646Z"
      },
      {
        "duration": 4378,
        "start_time": "2022-02-05T16:26:21.662Z"
      },
      {
        "duration": 4362,
        "start_time": "2022-02-05T16:26:21.679Z"
      },
      {
        "duration": 4349,
        "start_time": "2022-02-05T16:26:21.693Z"
      },
      {
        "duration": 4331,
        "start_time": "2022-02-05T16:26:21.712Z"
      },
      {
        "duration": 4315,
        "start_time": "2022-02-05T16:26:21.729Z"
      },
      {
        "duration": 4297,
        "start_time": "2022-02-05T16:26:21.748Z"
      },
      {
        "duration": 4284,
        "start_time": "2022-02-05T16:26:21.762Z"
      },
      {
        "duration": 4267,
        "start_time": "2022-02-05T16:26:21.779Z"
      },
      {
        "duration": 4251,
        "start_time": "2022-02-05T16:26:21.796Z"
      },
      {
        "duration": 4239,
        "start_time": "2022-02-05T16:26:21.809Z"
      },
      {
        "duration": 4193,
        "start_time": "2022-02-05T16:26:21.856Z"
      },
      {
        "duration": 4176,
        "start_time": "2022-02-05T16:26:21.874Z"
      },
      {
        "duration": 4161,
        "start_time": "2022-02-05T16:26:21.890Z"
      },
      {
        "duration": 4148,
        "start_time": "2022-02-05T16:26:21.904Z"
      },
      {
        "duration": 4140,
        "start_time": "2022-02-05T16:26:21.913Z"
      },
      {
        "duration": 4129,
        "start_time": "2022-02-05T16:26:21.925Z"
      },
      {
        "duration": 4115,
        "start_time": "2022-02-05T16:26:21.940Z"
      },
      {
        "duration": 4100,
        "start_time": "2022-02-05T16:26:21.956Z"
      },
      {
        "duration": 4092,
        "start_time": "2022-02-05T16:26:21.965Z"
      },
      {
        "duration": 4079,
        "start_time": "2022-02-05T16:26:21.979Z"
      },
      {
        "duration": 4068,
        "start_time": "2022-02-05T16:26:21.991Z"
      },
      {
        "duration": 4057,
        "start_time": "2022-02-05T16:26:22.003Z"
      },
      {
        "duration": 4048,
        "start_time": "2022-02-05T16:26:22.012Z"
      },
      {
        "duration": 4037,
        "start_time": "2022-02-05T16:26:22.024Z"
      },
      {
        "duration": 4024,
        "start_time": "2022-02-05T16:26:22.038Z"
      },
      {
        "duration": 4015,
        "start_time": "2022-02-05T16:26:22.048Z"
      },
      {
        "duration": 4057,
        "start_time": "2022-02-05T16:26:22.060Z"
      },
      {
        "duration": 4050,
        "start_time": "2022-02-05T16:26:22.072Z"
      },
      {
        "duration": 4046,
        "start_time": "2022-02-05T16:26:22.080Z"
      },
      {
        "duration": 4036,
        "start_time": "2022-02-05T16:26:22.092Z"
      },
      {
        "duration": 4024,
        "start_time": "2022-02-05T16:26:22.105Z"
      },
      {
        "duration": 4017,
        "start_time": "2022-02-05T16:26:22.114Z"
      },
      {
        "duration": 4007,
        "start_time": "2022-02-05T16:26:22.125Z"
      },
      {
        "duration": 3996,
        "start_time": "2022-02-05T16:26:22.138Z"
      },
      {
        "duration": 3988,
        "start_time": "2022-02-05T16:26:22.148Z"
      },
      {
        "duration": 3973,
        "start_time": "2022-02-05T16:26:22.164Z"
      },
      {
        "duration": 3958,
        "start_time": "2022-02-05T16:26:22.180Z"
      },
      {
        "duration": 3942,
        "start_time": "2022-02-05T16:26:22.197Z"
      },
      {
        "duration": 3926,
        "start_time": "2022-02-05T16:26:22.214Z"
      },
      {
        "duration": 3907,
        "start_time": "2022-02-05T16:26:22.234Z"
      },
      {
        "duration": 3881,
        "start_time": "2022-02-05T16:26:22.261Z"
      },
      {
        "duration": 3861,
        "start_time": "2022-02-05T16:26:22.282Z"
      },
      {
        "duration": 257,
        "start_time": "2022-02-05T16:29:05.775Z"
      },
      {
        "duration": 1179,
        "start_time": "2022-02-05T16:30:21.274Z"
      },
      {
        "duration": 32,
        "start_time": "2022-02-05T16:30:22.456Z"
      },
      {
        "duration": 406,
        "start_time": "2022-02-05T16:30:22.493Z"
      },
      {
        "duration": 4677,
        "start_time": "2022-02-05T16:30:18.228Z"
      },
      {
        "duration": 4656,
        "start_time": "2022-02-05T16:30:18.251Z"
      },
      {
        "duration": 4631,
        "start_time": "2022-02-05T16:30:18.278Z"
      },
      {
        "duration": 4611,
        "start_time": "2022-02-05T16:30:18.299Z"
      },
      {
        "duration": 4586,
        "start_time": "2022-02-05T16:30:18.326Z"
      },
      {
        "duration": 4544,
        "start_time": "2022-02-05T16:30:18.369Z"
      },
      {
        "duration": 4517,
        "start_time": "2022-02-05T16:30:18.398Z"
      },
      {
        "duration": 4445,
        "start_time": "2022-02-05T16:30:18.472Z"
      },
      {
        "duration": 4432,
        "start_time": "2022-02-05T16:30:18.486Z"
      },
      {
        "duration": 4417,
        "start_time": "2022-02-05T16:30:18.503Z"
      },
      {
        "duration": 4402,
        "start_time": "2022-02-05T16:30:18.519Z"
      },
      {
        "duration": 4388,
        "start_time": "2022-02-05T16:30:18.535Z"
      },
      {
        "duration": 4380,
        "start_time": "2022-02-05T16:30:18.545Z"
      },
      {
        "duration": 4367,
        "start_time": "2022-02-05T16:30:18.559Z"
      },
      {
        "duration": 4354,
        "start_time": "2022-02-05T16:30:18.574Z"
      },
      {
        "duration": 4342,
        "start_time": "2022-02-05T16:30:18.587Z"
      },
      {
        "duration": 4327,
        "start_time": "2022-02-05T16:30:18.603Z"
      },
      {
        "duration": 4314,
        "start_time": "2022-02-05T16:30:18.617Z"
      },
      {
        "duration": 4305,
        "start_time": "2022-02-05T16:30:18.627Z"
      },
      {
        "duration": 4294,
        "start_time": "2022-02-05T16:30:18.640Z"
      },
      {
        "duration": 4282,
        "start_time": "2022-02-05T16:30:18.653Z"
      },
      {
        "duration": 4269,
        "start_time": "2022-02-05T16:30:18.667Z"
      },
      {
        "duration": 4260,
        "start_time": "2022-02-05T16:30:18.677Z"
      },
      {
        "duration": 4249,
        "start_time": "2022-02-05T16:30:18.689Z"
      },
      {
        "duration": 4237,
        "start_time": "2022-02-05T16:30:18.702Z"
      },
      {
        "duration": 4224,
        "start_time": "2022-02-05T16:30:18.716Z"
      },
      {
        "duration": 4215,
        "start_time": "2022-02-05T16:30:18.725Z"
      },
      {
        "duration": 4203,
        "start_time": "2022-02-05T16:30:18.738Z"
      },
      {
        "duration": 4191,
        "start_time": "2022-02-05T16:30:18.751Z"
      },
      {
        "duration": 4183,
        "start_time": "2022-02-05T16:30:18.760Z"
      },
      {
        "duration": 4168,
        "start_time": "2022-02-05T16:30:18.776Z"
      },
      {
        "duration": 4155,
        "start_time": "2022-02-05T16:30:18.790Z"
      },
      {
        "duration": 4144,
        "start_time": "2022-02-05T16:30:18.802Z"
      },
      {
        "duration": 4132,
        "start_time": "2022-02-05T16:30:18.815Z"
      },
      {
        "duration": 4123,
        "start_time": "2022-02-05T16:30:18.824Z"
      },
      {
        "duration": 4107,
        "start_time": "2022-02-05T16:30:18.841Z"
      },
      {
        "duration": 4094,
        "start_time": "2022-02-05T16:30:18.855Z"
      },
      {
        "duration": 4082,
        "start_time": "2022-02-05T16:30:18.868Z"
      },
      {
        "duration": 4072,
        "start_time": "2022-02-05T16:30:18.879Z"
      },
      {
        "duration": 4058,
        "start_time": "2022-02-05T16:30:18.894Z"
      },
      {
        "duration": 4043,
        "start_time": "2022-02-05T16:30:18.909Z"
      },
      {
        "duration": 4031,
        "start_time": "2022-02-05T16:30:18.922Z"
      },
      {
        "duration": 4020,
        "start_time": "2022-02-05T16:30:18.934Z"
      },
      {
        "duration": 4010,
        "start_time": "2022-02-05T16:30:18.945Z"
      },
      {
        "duration": 3998,
        "start_time": "2022-02-05T16:30:18.957Z"
      },
      {
        "duration": 3987,
        "start_time": "2022-02-05T16:30:18.969Z"
      },
      {
        "duration": 3975,
        "start_time": "2022-02-05T16:30:18.982Z"
      },
      {
        "duration": 3965,
        "start_time": "2022-02-05T16:30:18.992Z"
      },
      {
        "duration": 4014,
        "start_time": "2022-02-05T16:30:19.004Z"
      },
      {
        "duration": 4004,
        "start_time": "2022-02-05T16:30:19.016Z"
      },
      {
        "duration": 3995,
        "start_time": "2022-02-05T16:30:19.026Z"
      },
      {
        "duration": 3986,
        "start_time": "2022-02-05T16:30:19.037Z"
      },
      {
        "duration": 3973,
        "start_time": "2022-02-05T16:30:19.051Z"
      },
      {
        "duration": 3964,
        "start_time": "2022-02-05T16:30:19.061Z"
      },
      {
        "duration": 3953,
        "start_time": "2022-02-05T16:30:19.073Z"
      },
      {
        "duration": 3937,
        "start_time": "2022-02-05T16:30:19.090Z"
      },
      {
        "duration": 3923,
        "start_time": "2022-02-05T16:30:19.105Z"
      },
      {
        "duration": 3910,
        "start_time": "2022-02-05T16:30:19.120Z"
      },
      {
        "duration": 3895,
        "start_time": "2022-02-05T16:30:19.136Z"
      },
      {
        "duration": 3882,
        "start_time": "2022-02-05T16:30:19.150Z"
      },
      {
        "duration": 3872,
        "start_time": "2022-02-05T16:30:19.162Z"
      },
      {
        "duration": 3854,
        "start_time": "2022-02-05T16:30:19.181Z"
      },
      {
        "duration": 336,
        "start_time": "2022-02-05T16:30:26.905Z"
      },
      {
        "duration": 3,
        "start_time": "2022-02-05T16:30:34.546Z"
      },
      {
        "duration": 42,
        "start_time": "2022-02-05T16:30:34.555Z"
      },
      {
        "duration": 298,
        "start_time": "2022-02-05T16:30:34.599Z"
      },
      {
        "duration": 4429,
        "start_time": "2022-02-05T16:30:30.471Z"
      },
      {
        "duration": 4411,
        "start_time": "2022-02-05T16:30:30.490Z"
      },
      {
        "duration": 4396,
        "start_time": "2022-02-05T16:30:30.506Z"
      },
      {
        "duration": 4385,
        "start_time": "2022-02-05T16:30:30.519Z"
      },
      {
        "duration": 4368,
        "start_time": "2022-02-05T16:30:30.537Z"
      },
      {
        "duration": 4354,
        "start_time": "2022-02-05T16:30:30.552Z"
      },
      {
        "duration": 4339,
        "start_time": "2022-02-05T16:30:30.568Z"
      },
      {
        "duration": 4327,
        "start_time": "2022-02-05T16:30:30.581Z"
      },
      {
        "duration": 4317,
        "start_time": "2022-02-05T16:30:30.592Z"
      },
      {
        "duration": 4299,
        "start_time": "2022-02-05T16:30:30.610Z"
      },
      {
        "duration": 4282,
        "start_time": "2022-02-05T16:30:30.629Z"
      },
      {
        "duration": 4260,
        "start_time": "2022-02-05T16:30:30.652Z"
      },
      {
        "duration": 4228,
        "start_time": "2022-02-05T16:30:30.685Z"
      },
      {
        "duration": 4203,
        "start_time": "2022-02-05T16:30:30.712Z"
      },
      {
        "duration": 4181,
        "start_time": "2022-02-05T16:30:30.735Z"
      },
      {
        "duration": 4152,
        "start_time": "2022-02-05T16:30:30.765Z"
      },
      {
        "duration": 4118,
        "start_time": "2022-02-05T16:30:30.801Z"
      },
      {
        "duration": 4093,
        "start_time": "2022-02-05T16:30:30.828Z"
      },
      {
        "duration": 4073,
        "start_time": "2022-02-05T16:30:30.849Z"
      },
      {
        "duration": 4059,
        "start_time": "2022-02-05T16:30:30.865Z"
      },
      {
        "duration": 4049,
        "start_time": "2022-02-05T16:30:30.876Z"
      },
      {
        "duration": 4035,
        "start_time": "2022-02-05T16:30:30.892Z"
      },
      {
        "duration": 4017,
        "start_time": "2022-02-05T16:30:30.911Z"
      },
      {
        "duration": 4009,
        "start_time": "2022-02-05T16:30:30.921Z"
      },
      {
        "duration": 3994,
        "start_time": "2022-02-05T16:30:30.937Z"
      },
      {
        "duration": 3976,
        "start_time": "2022-02-05T16:30:30.956Z"
      },
      {
        "duration": 3965,
        "start_time": "2022-02-05T16:30:30.969Z"
      },
      {
        "duration": 3952,
        "start_time": "2022-02-05T16:30:30.983Z"
      },
      {
        "duration": 3939,
        "start_time": "2022-02-05T16:30:30.997Z"
      },
      {
        "duration": 3931,
        "start_time": "2022-02-05T16:30:31.006Z"
      },
      {
        "duration": 3921,
        "start_time": "2022-02-05T16:30:31.018Z"
      },
      {
        "duration": 3908,
        "start_time": "2022-02-05T16:30:31.032Z"
      },
      {
        "duration": 3900,
        "start_time": "2022-02-05T16:30:31.041Z"
      },
      {
        "duration": 3887,
        "start_time": "2022-02-05T16:30:31.055Z"
      },
      {
        "duration": 3876,
        "start_time": "2022-02-05T16:30:31.067Z"
      },
      {
        "duration": 3869,
        "start_time": "2022-02-05T16:30:31.075Z"
      },
      {
        "duration": 3856,
        "start_time": "2022-02-05T16:30:31.089Z"
      },
      {
        "duration": 3842,
        "start_time": "2022-02-05T16:30:31.105Z"
      },
      {
        "duration": 3828,
        "start_time": "2022-02-05T16:30:31.120Z"
      },
      {
        "duration": 3817,
        "start_time": "2022-02-05T16:30:31.132Z"
      },
      {
        "duration": 3809,
        "start_time": "2022-02-05T16:30:31.141Z"
      },
      {
        "duration": 3797,
        "start_time": "2022-02-05T16:30:31.154Z"
      },
      {
        "duration": 3786,
        "start_time": "2022-02-05T16:30:31.166Z"
      },
      {
        "duration": 3779,
        "start_time": "2022-02-05T16:30:31.174Z"
      },
      {
        "duration": 3766,
        "start_time": "2022-02-05T16:30:31.188Z"
      },
      {
        "duration": 3751,
        "start_time": "2022-02-05T16:30:31.205Z"
      },
      {
        "duration": 3739,
        "start_time": "2022-02-05T16:30:31.222Z"
      },
      {
        "duration": 310,
        "start_time": "2022-02-05T16:30:35.019Z"
      },
      {
        "duration": 4027,
        "start_time": "2022-02-05T16:30:31.305Z"
      },
      {
        "duration": 3998,
        "start_time": "2022-02-05T16:30:31.335Z"
      },
      {
        "duration": 3987,
        "start_time": "2022-02-05T16:30:31.348Z"
      },
      {
        "duration": 3979,
        "start_time": "2022-02-05T16:30:31.357Z"
      },
      {
        "duration": 3965,
        "start_time": "2022-02-05T16:30:31.373Z"
      },
      {
        "duration": 3950,
        "start_time": "2022-02-05T16:30:31.389Z"
      },
      {
        "duration": 3935,
        "start_time": "2022-02-05T16:30:31.406Z"
      },
      {
        "duration": 3916,
        "start_time": "2022-02-05T16:30:31.426Z"
      },
      {
        "duration": 3895,
        "start_time": "2022-02-05T16:30:31.449Z"
      },
      {
        "duration": 3877,
        "start_time": "2022-02-05T16:30:31.468Z"
      },
      {
        "duration": 3858,
        "start_time": "2022-02-05T16:30:31.489Z"
      },
      {
        "duration": 3844,
        "start_time": "2022-02-05T16:30:31.504Z"
      },
      {
        "duration": 3820,
        "start_time": "2022-02-05T16:30:31.529Z"
      },
      {
        "duration": 3801,
        "start_time": "2022-02-05T16:30:31.550Z"
      },
      {
        "duration": 1229,
        "start_time": "2022-02-05T16:31:24.967Z"
      },
      {
        "duration": 35,
        "start_time": "2022-02-05T16:31:26.199Z"
      },
      {
        "duration": 44,
        "start_time": "2022-02-05T16:31:26.237Z"
      },
      {
        "duration": 203,
        "start_time": "2022-02-05T16:31:26.283Z"
      },
      {
        "duration": 122,
        "start_time": "2022-02-05T16:31:26.488Z"
      },
      {
        "duration": 157,
        "start_time": "2022-02-05T16:31:26.612Z"
      },
      {
        "duration": 215,
        "start_time": "2022-02-05T16:31:26.770Z"
      },
      {
        "duration": 5,
        "start_time": "2022-02-05T16:31:26.988Z"
      },
      {
        "duration": 5,
        "start_time": "2022-02-05T16:31:26.995Z"
      },
      {
        "duration": 4,
        "start_time": "2022-02-05T16:31:27.018Z"
      },
      {
        "duration": 10,
        "start_time": "2022-02-05T16:31:27.024Z"
      },
      {
        "duration": 32,
        "start_time": "2022-02-05T16:31:27.036Z"
      },
      {
        "duration": 6,
        "start_time": "2022-02-05T16:31:27.070Z"
      },
      {
        "duration": 14,
        "start_time": "2022-02-05T16:31:27.078Z"
      },
      {
        "duration": 45,
        "start_time": "2022-02-05T16:31:27.094Z"
      },
      {
        "duration": 2,
        "start_time": "2022-02-05T16:31:27.141Z"
      },
      {
        "duration": 21,
        "start_time": "2022-02-05T16:31:27.145Z"
      },
      {
        "duration": 19,
        "start_time": "2022-02-05T16:31:27.168Z"
      },
      {
        "duration": 30,
        "start_time": "2022-02-05T16:31:27.189Z"
      },
      {
        "duration": 3,
        "start_time": "2022-02-05T16:31:27.221Z"
      },
      {
        "duration": 13,
        "start_time": "2022-02-05T16:31:27.226Z"
      },
      {
        "duration": 361,
        "start_time": "2022-02-05T16:31:27.240Z"
      },
      {
        "duration": 4681,
        "start_time": "2022-02-05T16:31:22.924Z"
      },
      {
        "duration": 4671,
        "start_time": "2022-02-05T16:31:22.935Z"
      },
      {
        "duration": 4662,
        "start_time": "2022-02-05T16:31:22.945Z"
      },
      {
        "duration": 4655,
        "start_time": "2022-02-05T16:31:22.953Z"
      },
      {
        "duration": 4647,
        "start_time": "2022-02-05T16:31:22.962Z"
      },
      {
        "duration": 4640,
        "start_time": "2022-02-05T16:31:22.971Z"
      },
      {
        "duration": 4631,
        "start_time": "2022-02-05T16:31:22.981Z"
      },
      {
        "duration": 4621,
        "start_time": "2022-02-05T16:31:22.992Z"
      },
      {
        "duration": 4611,
        "start_time": "2022-02-05T16:31:23.003Z"
      },
      {
        "duration": 4600,
        "start_time": "2022-02-05T16:31:23.015Z"
      },
      {
        "duration": 4593,
        "start_time": "2022-02-05T16:31:23.023Z"
      },
      {
        "duration": 4583,
        "start_time": "2022-02-05T16:31:23.034Z"
      },
      {
        "duration": 4573,
        "start_time": "2022-02-05T16:31:23.045Z"
      },
      {
        "duration": 4566,
        "start_time": "2022-02-05T16:31:23.054Z"
      },
      {
        "duration": 4557,
        "start_time": "2022-02-05T16:31:23.064Z"
      },
      {
        "duration": 4549,
        "start_time": "2022-02-05T16:31:23.073Z"
      },
      {
        "duration": 4540,
        "start_time": "2022-02-05T16:31:23.084Z"
      },
      {
        "duration": 4531,
        "start_time": "2022-02-05T16:31:23.094Z"
      },
      {
        "duration": 4520,
        "start_time": "2022-02-05T16:31:23.106Z"
      },
      {
        "duration": 4512,
        "start_time": "2022-02-05T16:31:23.115Z"
      },
      {
        "duration": 4506,
        "start_time": "2022-02-05T16:31:23.122Z"
      },
      {
        "duration": 4496,
        "start_time": "2022-02-05T16:31:23.133Z"
      },
      {
        "duration": 4488,
        "start_time": "2022-02-05T16:31:23.142Z"
      },
      {
        "duration": 4481,
        "start_time": "2022-02-05T16:31:23.150Z"
      },
      {
        "duration": 4474,
        "start_time": "2022-02-05T16:31:23.159Z"
      },
      {
        "duration": 4467,
        "start_time": "2022-02-05T16:31:23.167Z"
      },
      {
        "duration": 4459,
        "start_time": "2022-02-05T16:31:23.176Z"
      },
      {
        "duration": 4451,
        "start_time": "2022-02-05T16:31:23.185Z"
      },
      {
        "duration": 4443,
        "start_time": "2022-02-05T16:31:23.194Z"
      },
      {
        "duration": 4431,
        "start_time": "2022-02-05T16:31:23.207Z"
      },
      {
        "duration": 4421,
        "start_time": "2022-02-05T16:31:23.218Z"
      },
      {
        "duration": 4409,
        "start_time": "2022-02-05T16:31:23.231Z"
      },
      {
        "duration": 4387,
        "start_time": "2022-02-05T16:31:23.254Z"
      },
      {
        "duration": 4378,
        "start_time": "2022-02-05T16:31:23.264Z"
      },
      {
        "duration": 4371,
        "start_time": "2022-02-05T16:31:23.272Z"
      },
      {
        "duration": 4363,
        "start_time": "2022-02-05T16:31:23.281Z"
      },
      {
        "duration": 4354,
        "start_time": "2022-02-05T16:31:23.290Z"
      },
      {
        "duration": 4346,
        "start_time": "2022-02-05T16:31:23.299Z"
      },
      {
        "duration": 4339,
        "start_time": "2022-02-05T16:31:23.307Z"
      },
      {
        "duration": 4331,
        "start_time": "2022-02-05T16:31:23.316Z"
      },
      {
        "duration": 4323,
        "start_time": "2022-02-05T16:31:23.325Z"
      },
      {
        "duration": 4313,
        "start_time": "2022-02-05T16:31:23.337Z"
      },
      {
        "duration": 170,
        "start_time": "2022-02-05T16:32:32.508Z"
      },
      {
        "duration": 1316,
        "start_time": "2022-02-05T16:32:48.379Z"
      },
      {
        "duration": 32,
        "start_time": "2022-02-05T16:32:49.698Z"
      },
      {
        "duration": 43,
        "start_time": "2022-02-05T16:32:49.733Z"
      },
      {
        "duration": 202,
        "start_time": "2022-02-05T16:32:49.778Z"
      },
      {
        "duration": 129,
        "start_time": "2022-02-05T16:32:49.981Z"
      },
      {
        "duration": 185,
        "start_time": "2022-02-05T16:32:50.118Z"
      },
      {
        "duration": 193,
        "start_time": "2022-02-05T16:32:50.305Z"
      },
      {
        "duration": 17,
        "start_time": "2022-02-05T16:32:50.501Z"
      },
      {
        "duration": 4,
        "start_time": "2022-02-05T16:32:50.520Z"
      },
      {
        "duration": 7,
        "start_time": "2022-02-05T16:32:50.526Z"
      },
      {
        "duration": 13,
        "start_time": "2022-02-05T16:32:50.534Z"
      },
      {
        "duration": 34,
        "start_time": "2022-02-05T16:32:50.549Z"
      },
      {
        "duration": 4,
        "start_time": "2022-02-05T16:32:50.585Z"
      },
      {
        "duration": 35,
        "start_time": "2022-02-05T16:32:50.591Z"
      },
      {
        "duration": 27,
        "start_time": "2022-02-05T16:32:50.628Z"
      },
      {
        "duration": 4,
        "start_time": "2022-02-05T16:32:50.658Z"
      },
      {
        "duration": 26,
        "start_time": "2022-02-05T16:32:50.666Z"
      },
      {
        "duration": 42,
        "start_time": "2022-02-05T16:32:50.694Z"
      },
      {
        "duration": 19,
        "start_time": "2022-02-05T16:32:50.739Z"
      },
      {
        "duration": 4,
        "start_time": "2022-02-05T16:32:50.760Z"
      },
      {
        "duration": 16,
        "start_time": "2022-02-05T16:32:50.766Z"
      },
      {
        "duration": 44,
        "start_time": "2022-02-05T16:32:50.784Z"
      },
      {
        "duration": 21,
        "start_time": "2022-02-05T16:32:50.834Z"
      },
      {
        "duration": 3,
        "start_time": "2022-02-05T16:32:50.858Z"
      },
      {
        "duration": 14,
        "start_time": "2022-02-05T16:32:50.863Z"
      },
      {
        "duration": 5,
        "start_time": "2022-02-05T16:32:50.879Z"
      },
      {
        "duration": 9,
        "start_time": "2022-02-05T16:32:50.886Z"
      },
      {
        "duration": 21,
        "start_time": "2022-02-05T16:32:50.897Z"
      },
      {
        "duration": 9,
        "start_time": "2022-02-05T16:32:50.920Z"
      },
      {
        "duration": 23,
        "start_time": "2022-02-05T16:32:50.931Z"
      },
      {
        "duration": 13,
        "start_time": "2022-02-05T16:32:50.956Z"
      },
      {
        "duration": 11,
        "start_time": "2022-02-05T16:32:50.971Z"
      },
      {
        "duration": 5,
        "start_time": "2022-02-05T16:32:50.983Z"
      },
      {
        "duration": 34,
        "start_time": "2022-02-05T16:32:50.989Z"
      },
      {
        "duration": 5,
        "start_time": "2022-02-05T16:32:51.025Z"
      },
      {
        "duration": 16,
        "start_time": "2022-02-05T16:32:51.031Z"
      },
      {
        "duration": 9,
        "start_time": "2022-02-05T16:32:51.049Z"
      },
      {
        "duration": 16,
        "start_time": "2022-02-05T16:32:51.060Z"
      },
      {
        "duration": 9,
        "start_time": "2022-02-05T16:32:51.079Z"
      },
      {
        "duration": 217,
        "start_time": "2022-02-05T16:32:51.119Z"
      },
      {
        "duration": 217,
        "start_time": "2022-02-05T16:32:51.338Z"
      },
      {
        "duration": 8,
        "start_time": "2022-02-05T16:32:51.557Z"
      },
      {
        "duration": 9,
        "start_time": "2022-02-05T16:32:51.566Z"
      },
      {
        "duration": 14,
        "start_time": "2022-02-05T16:32:51.577Z"
      },
      {
        "duration": 34,
        "start_time": "2022-02-05T16:32:51.592Z"
      },
      {
        "duration": 11,
        "start_time": "2022-02-05T16:32:51.628Z"
      },
      {
        "duration": 21,
        "start_time": "2022-02-05T16:32:51.641Z"
      },
      {
        "duration": 872,
        "start_time": "2022-02-05T16:32:51.664Z"
      },
      {
        "duration": 22,
        "start_time": "2022-02-05T16:32:52.538Z"
      },
      {
        "duration": 5,
        "start_time": "2022-02-05T16:32:52.562Z"
      },
      {
        "duration": 10,
        "start_time": "2022-02-05T16:32:52.569Z"
      },
      {
        "duration": 1523,
        "start_time": "2022-02-05T16:32:52.581Z"
      },
      {
        "duration": 16,
        "start_time": "2022-02-05T16:32:54.106Z"
      },
      {
        "duration": 7,
        "start_time": "2022-02-05T16:32:54.124Z"
      },
      {
        "duration": 5,
        "start_time": "2022-02-05T16:32:54.133Z"
      },
      {
        "duration": 7,
        "start_time": "2022-02-05T16:32:54.140Z"
      },
      {
        "duration": 1780,
        "start_time": "2022-02-05T16:32:54.149Z"
      },
      {
        "duration": 1627,
        "start_time": "2022-02-05T16:32:55.931Z"
      },
      {
        "duration": 6,
        "start_time": "2022-02-05T16:32:57.560Z"
      },
      {
        "duration": 17,
        "start_time": "2022-02-05T16:32:57.567Z"
      },
      {
        "duration": 7,
        "start_time": "2022-02-05T16:32:57.585Z"
      },
      {
        "duration": 38,
        "start_time": "2022-02-05T16:32:57.594Z"
      },
      {
        "duration": 6,
        "start_time": "2022-02-05T16:32:57.634Z"
      },
      {
        "duration": 5,
        "start_time": "2022-02-05T16:32:57.643Z"
      },
      {
        "duration": 92,
        "start_time": "2022-02-05T16:46:19.231Z"
      },
      {
        "duration": 1280,
        "start_time": "2022-02-05T16:46:40.030Z"
      },
      {
        "duration": 33,
        "start_time": "2022-02-05T16:46:41.312Z"
      },
      {
        "duration": 43,
        "start_time": "2022-02-05T16:46:41.347Z"
      },
      {
        "duration": 218,
        "start_time": "2022-02-05T16:46:41.392Z"
      },
      {
        "duration": 134,
        "start_time": "2022-02-05T16:46:41.612Z"
      },
      {
        "duration": 185,
        "start_time": "2022-02-05T16:46:41.747Z"
      },
      {
        "duration": 208,
        "start_time": "2022-02-05T16:46:41.934Z"
      },
      {
        "duration": 5,
        "start_time": "2022-02-05T16:46:42.144Z"
      },
      {
        "duration": 6,
        "start_time": "2022-02-05T16:46:42.151Z"
      },
      {
        "duration": 8,
        "start_time": "2022-02-05T16:46:42.159Z"
      },
      {
        "duration": 10,
        "start_time": "2022-02-05T16:46:42.169Z"
      },
      {
        "duration": 50,
        "start_time": "2022-02-05T16:46:42.181Z"
      },
      {
        "duration": 5,
        "start_time": "2022-02-05T16:46:42.233Z"
      },
      {
        "duration": 16,
        "start_time": "2022-02-05T16:46:42.240Z"
      },
      {
        "duration": 40,
        "start_time": "2022-02-05T16:46:42.258Z"
      },
      {
        "duration": 2,
        "start_time": "2022-02-05T16:46:42.300Z"
      },
      {
        "duration": 27,
        "start_time": "2022-02-05T16:46:42.304Z"
      },
      {
        "duration": 22,
        "start_time": "2022-02-05T16:46:42.333Z"
      },
      {
        "duration": 17,
        "start_time": "2022-02-05T16:46:42.356Z"
      },
      {
        "duration": 3,
        "start_time": "2022-02-05T16:46:42.375Z"
      },
      {
        "duration": 21,
        "start_time": "2022-02-05T16:46:42.380Z"
      },
      {
        "duration": 31,
        "start_time": "2022-02-05T16:46:42.403Z"
      },
      {
        "duration": 16,
        "start_time": "2022-02-05T16:46:42.438Z"
      },
      {
        "duration": 2,
        "start_time": "2022-02-05T16:46:42.456Z"
      },
      {
        "duration": 12,
        "start_time": "2022-02-05T16:46:42.460Z"
      },
      {
        "duration": 3,
        "start_time": "2022-02-05T16:46:42.473Z"
      },
      {
        "duration": 10,
        "start_time": "2022-02-05T16:46:42.478Z"
      },
      {
        "duration": 5,
        "start_time": "2022-02-05T16:46:42.489Z"
      },
      {
        "duration": 33,
        "start_time": "2022-02-05T16:46:42.496Z"
      },
      {
        "duration": 28,
        "start_time": "2022-02-05T16:46:42.532Z"
      },
      {
        "duration": 13,
        "start_time": "2022-02-05T16:46:42.561Z"
      },
      {
        "duration": 16,
        "start_time": "2022-02-05T16:46:42.575Z"
      },
      {
        "duration": 10,
        "start_time": "2022-02-05T16:46:42.593Z"
      },
      {
        "duration": 13,
        "start_time": "2022-02-05T16:46:42.605Z"
      },
      {
        "duration": 13,
        "start_time": "2022-02-05T16:46:42.620Z"
      },
      {
        "duration": 20,
        "start_time": "2022-02-05T16:46:42.635Z"
      },
      {
        "duration": 19,
        "start_time": "2022-02-05T16:46:42.657Z"
      },
      {
        "duration": 21,
        "start_time": "2022-02-05T16:46:42.677Z"
      },
      {
        "duration": 15,
        "start_time": "2022-02-05T16:46:42.700Z"
      },
      {
        "duration": 242,
        "start_time": "2022-02-05T16:46:42.717Z"
      },
      {
        "duration": 240,
        "start_time": "2022-02-05T16:46:42.960Z"
      },
      {
        "duration": 7,
        "start_time": "2022-02-05T16:46:43.202Z"
      },
      {
        "duration": 24,
        "start_time": "2022-02-05T16:46:43.210Z"
      },
      {
        "duration": 16,
        "start_time": "2022-02-05T16:46:43.236Z"
      },
      {
        "duration": 17,
        "start_time": "2022-02-05T16:46:43.254Z"
      },
      {
        "duration": 22,
        "start_time": "2022-02-05T16:46:43.272Z"
      },
      {
        "duration": 33,
        "start_time": "2022-02-05T16:46:43.296Z"
      },
      {
        "duration": 917,
        "start_time": "2022-02-05T16:46:43.331Z"
      },
      {
        "duration": 26,
        "start_time": "2022-02-05T16:46:44.250Z"
      },
      {
        "duration": 6,
        "start_time": "2022-02-05T16:46:44.277Z"
      },
      {
        "duration": 35,
        "start_time": "2022-02-05T16:46:44.286Z"
      },
      {
        "duration": 1034,
        "start_time": "2022-02-05T16:46:44.323Z"
      },
      {
        "duration": 7,
        "start_time": "2022-02-05T16:46:45.359Z"
      },
      {
        "duration": 22,
        "start_time": "2022-02-05T16:46:45.368Z"
      },
      {
        "duration": 15,
        "start_time": "2022-02-05T16:46:45.392Z"
      },
      {
        "duration": 26,
        "start_time": "2022-02-05T16:46:45.408Z"
      },
      {
        "duration": 1825,
        "start_time": "2022-02-05T16:46:45.436Z"
      },
      {
        "duration": 1807,
        "start_time": "2022-02-05T16:46:47.263Z"
      },
      {
        "duration": 6,
        "start_time": "2022-02-05T16:46:49.072Z"
      },
      {
        "duration": 23,
        "start_time": "2022-02-05T16:46:49.080Z"
      },
      {
        "duration": 45,
        "start_time": "2022-02-05T16:46:49.104Z"
      },
      {
        "duration": 25,
        "start_time": "2022-02-05T16:46:49.151Z"
      },
      {
        "duration": 16,
        "start_time": "2022-02-05T16:46:49.177Z"
      },
      {
        "duration": 31,
        "start_time": "2022-02-05T16:46:49.195Z"
      }
    ],
    "kernelspec": {
      "display_name": "Python 3 (ipykernel)",
      "language": "python",
      "name": "python3"
    },
    "language_info": {
      "codemirror_mode": {
        "name": "ipython",
        "version": 3
      },
      "file_extension": ".py",
      "mimetype": "text/x-python",
      "name": "python",
      "nbconvert_exporter": "python",
      "pygments_lexer": "ipython3",
      "version": "3.9.5"
    },
    "toc": {
      "base_numbering": 1,
      "nav_menu": {},
      "number_sections": true,
      "sideBar": true,
      "skip_h1_title": true,
      "title_cell": "Table of Contents",
      "title_sidebar": "Contents",
      "toc_cell": false,
      "toc_position": {},
      "toc_section_display": true,
      "toc_window_display": false
    },
    "colab": {
      "provenance": []
    }
  },
  "nbformat": 4,
  "nbformat_minor": 0
}