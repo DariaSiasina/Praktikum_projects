{
  "cells": [
    {
      "cell_type": "markdown",
      "metadata": {
        "id": "6nZ7NbgmFQmC"
      },
      "source": [
        "# Сборный проект"
      ]
    },
    {
      "cell_type": "markdown",
      "metadata": {
        "id": "msF3PbLEX5pf"
      },
      "source": [
        "В данной работе мы исследуем исторические данные о\n",
        "продажах игр, оценки пользователей и экспертов, жанры и платформы\n",
        "(например, Xbox или PlayStation), а также выявляем определяющие успешность игры закономерности."
      ]
    },
    {
      "cell_type": "markdown",
      "metadata": {
        "id": "MTKEqRMGFQi0"
      },
      "source": [
        "## Изучение информации о файле"
      ]
    },
    {
      "cell_type": "markdown",
      "metadata": {
        "id": "EaavYAicFJ78"
      },
      "source": [
        "Для начала импортируем нужные библиотеки.\n",
        "\n"
      ]
    },
    {
      "cell_type": "code",
      "execution_count": null,
      "metadata": {
        "id": "z8dlzFsnCikK"
      },
      "outputs": [],
      "source": [
        "import pandas as pd\n",
        "import numpy as np\n",
        "from scipy import stats as st\n",
        "import matplotlib.pyplot as plt\n",
        "import seaborn as sns\n",
        "import statsmodels.api as sm\n",
        "import pylab as py"
      ]
    },
    {
      "cell_type": "code",
      "execution_count": null,
      "metadata": {
        "id": "6AMbhbE5DwSg"
      },
      "outputs": [],
      "source": [
        "import warnings\n",
        "\n",
        "warnings.simplefilter('ignore') "
      ]
    },
    {
      "cell_type": "markdown",
      "metadata": {
        "id": "NAIAEA_2Fhqw"
      },
      "source": [
        "Затем откроем файл и просмотрим информацию о датафрейме."
      ]
    },
    {
      "cell_type": "code",
      "execution_count": null,
      "metadata": {
        "id": "uq_iVB9BDIV8",
        "outputId": "06a2a2bb-4373-4399-ce04-ab08914bf6f9"
      },
      "outputs": [
        {
          "name": "stdout",
          "output_type": "stream",
          "text": [
            "<class 'pandas.core.frame.DataFrame'>\n",
            "RangeIndex: 16715 entries, 0 to 16714\n",
            "Data columns (total 11 columns):\n",
            "Name               16713 non-null object\n",
            "Platform           16715 non-null object\n",
            "Year_of_Release    16446 non-null float64\n",
            "Genre              16713 non-null object\n",
            "NA_sales           16715 non-null float64\n",
            "EU_sales           16715 non-null float64\n",
            "JP_sales           16715 non-null float64\n",
            "Other_sales        16715 non-null float64\n",
            "Critic_Score       8137 non-null float64\n",
            "User_Score         10014 non-null object\n",
            "Rating             9949 non-null object\n",
            "dtypes: float64(6), object(5)\n",
            "memory usage: 1.4+ MB\n"
          ]
        },
        {
          "data": {
            "text/html": [
              "<div>\n",
              "<style scoped>\n",
              "    .dataframe tbody tr th:only-of-type {\n",
              "        vertical-align: middle;\n",
              "    }\n",
              "\n",
              "    .dataframe tbody tr th {\n",
              "        vertical-align: top;\n",
              "    }\n",
              "\n",
              "    .dataframe thead th {\n",
              "        text-align: right;\n",
              "    }\n",
              "</style>\n",
              "<table border=\"1\" class=\"dataframe\">\n",
              "  <thead>\n",
              "    <tr style=\"text-align: right;\">\n",
              "      <th></th>\n",
              "      <th>Name</th>\n",
              "      <th>Platform</th>\n",
              "      <th>Year_of_Release</th>\n",
              "      <th>Genre</th>\n",
              "      <th>NA_sales</th>\n",
              "      <th>EU_sales</th>\n",
              "      <th>JP_sales</th>\n",
              "      <th>Other_sales</th>\n",
              "      <th>Critic_Score</th>\n",
              "      <th>User_Score</th>\n",
              "      <th>Rating</th>\n",
              "    </tr>\n",
              "  </thead>\n",
              "  <tbody>\n",
              "    <tr>\n",
              "      <td>0</td>\n",
              "      <td>Wii Sports</td>\n",
              "      <td>Wii</td>\n",
              "      <td>2006.0</td>\n",
              "      <td>Sports</td>\n",
              "      <td>41.36</td>\n",
              "      <td>28.96</td>\n",
              "      <td>3.77</td>\n",
              "      <td>8.45</td>\n",
              "      <td>76.0</td>\n",
              "      <td>8</td>\n",
              "      <td>E</td>\n",
              "    </tr>\n",
              "    <tr>\n",
              "      <td>1</td>\n",
              "      <td>Super Mario Bros.</td>\n",
              "      <td>NES</td>\n",
              "      <td>1985.0</td>\n",
              "      <td>Platform</td>\n",
              "      <td>29.08</td>\n",
              "      <td>3.58</td>\n",
              "      <td>6.81</td>\n",
              "      <td>0.77</td>\n",
              "      <td>NaN</td>\n",
              "      <td>NaN</td>\n",
              "      <td>NaN</td>\n",
              "    </tr>\n",
              "    <tr>\n",
              "      <td>2</td>\n",
              "      <td>Mario Kart Wii</td>\n",
              "      <td>Wii</td>\n",
              "      <td>2008.0</td>\n",
              "      <td>Racing</td>\n",
              "      <td>15.68</td>\n",
              "      <td>12.76</td>\n",
              "      <td>3.79</td>\n",
              "      <td>3.29</td>\n",
              "      <td>82.0</td>\n",
              "      <td>8.3</td>\n",
              "      <td>E</td>\n",
              "    </tr>\n",
              "    <tr>\n",
              "      <td>3</td>\n",
              "      <td>Wii Sports Resort</td>\n",
              "      <td>Wii</td>\n",
              "      <td>2009.0</td>\n",
              "      <td>Sports</td>\n",
              "      <td>15.61</td>\n",
              "      <td>10.93</td>\n",
              "      <td>3.28</td>\n",
              "      <td>2.95</td>\n",
              "      <td>80.0</td>\n",
              "      <td>8</td>\n",
              "      <td>E</td>\n",
              "    </tr>\n",
              "    <tr>\n",
              "      <td>4</td>\n",
              "      <td>Pokemon Red/Pokemon Blue</td>\n",
              "      <td>GB</td>\n",
              "      <td>1996.0</td>\n",
              "      <td>Role-Playing</td>\n",
              "      <td>11.27</td>\n",
              "      <td>8.89</td>\n",
              "      <td>10.22</td>\n",
              "      <td>1.00</td>\n",
              "      <td>NaN</td>\n",
              "      <td>NaN</td>\n",
              "      <td>NaN</td>\n",
              "    </tr>\n",
              "    <tr>\n",
              "      <td>5</td>\n",
              "      <td>Tetris</td>\n",
              "      <td>GB</td>\n",
              "      <td>1989.0</td>\n",
              "      <td>Puzzle</td>\n",
              "      <td>23.20</td>\n",
              "      <td>2.26</td>\n",
              "      <td>4.22</td>\n",
              "      <td>0.58</td>\n",
              "      <td>NaN</td>\n",
              "      <td>NaN</td>\n",
              "      <td>NaN</td>\n",
              "    </tr>\n",
              "    <tr>\n",
              "      <td>6</td>\n",
              "      <td>New Super Mario Bros.</td>\n",
              "      <td>DS</td>\n",
              "      <td>2006.0</td>\n",
              "      <td>Platform</td>\n",
              "      <td>11.28</td>\n",
              "      <td>9.14</td>\n",
              "      <td>6.50</td>\n",
              "      <td>2.88</td>\n",
              "      <td>89.0</td>\n",
              "      <td>8.5</td>\n",
              "      <td>E</td>\n",
              "    </tr>\n",
              "    <tr>\n",
              "      <td>7</td>\n",
              "      <td>Wii Play</td>\n",
              "      <td>Wii</td>\n",
              "      <td>2006.0</td>\n",
              "      <td>Misc</td>\n",
              "      <td>13.96</td>\n",
              "      <td>9.18</td>\n",
              "      <td>2.93</td>\n",
              "      <td>2.84</td>\n",
              "      <td>58.0</td>\n",
              "      <td>6.6</td>\n",
              "      <td>E</td>\n",
              "    </tr>\n",
              "    <tr>\n",
              "      <td>8</td>\n",
              "      <td>New Super Mario Bros. Wii</td>\n",
              "      <td>Wii</td>\n",
              "      <td>2009.0</td>\n",
              "      <td>Platform</td>\n",
              "      <td>14.44</td>\n",
              "      <td>6.94</td>\n",
              "      <td>4.70</td>\n",
              "      <td>2.24</td>\n",
              "      <td>87.0</td>\n",
              "      <td>8.4</td>\n",
              "      <td>E</td>\n",
              "    </tr>\n",
              "    <tr>\n",
              "      <td>9</td>\n",
              "      <td>Duck Hunt</td>\n",
              "      <td>NES</td>\n",
              "      <td>1984.0</td>\n",
              "      <td>Shooter</td>\n",
              "      <td>26.93</td>\n",
              "      <td>0.63</td>\n",
              "      <td>0.28</td>\n",
              "      <td>0.47</td>\n",
              "      <td>NaN</td>\n",
              "      <td>NaN</td>\n",
              "      <td>NaN</td>\n",
              "    </tr>\n",
              "  </tbody>\n",
              "</table>\n",
              "</div>"
            ],
            "text/plain": [
              "                        Name Platform  Year_of_Release         Genre  \\\n",
              "0                 Wii Sports      Wii           2006.0        Sports   \n",
              "1          Super Mario Bros.      NES           1985.0      Platform   \n",
              "2             Mario Kart Wii      Wii           2008.0        Racing   \n",
              "3          Wii Sports Resort      Wii           2009.0        Sports   \n",
              "4   Pokemon Red/Pokemon Blue       GB           1996.0  Role-Playing   \n",
              "5                     Tetris       GB           1989.0        Puzzle   \n",
              "6      New Super Mario Bros.       DS           2006.0      Platform   \n",
              "7                   Wii Play      Wii           2006.0          Misc   \n",
              "8  New Super Mario Bros. Wii      Wii           2009.0      Platform   \n",
              "9                  Duck Hunt      NES           1984.0       Shooter   \n",
              "\n",
              "   NA_sales  EU_sales  JP_sales  Other_sales  Critic_Score User_Score Rating  \n",
              "0     41.36     28.96      3.77         8.45          76.0          8      E  \n",
              "1     29.08      3.58      6.81         0.77           NaN        NaN    NaN  \n",
              "2     15.68     12.76      3.79         3.29          82.0        8.3      E  \n",
              "3     15.61     10.93      3.28         2.95          80.0          8      E  \n",
              "4     11.27      8.89     10.22         1.00           NaN        NaN    NaN  \n",
              "5     23.20      2.26      4.22         0.58           NaN        NaN    NaN  \n",
              "6     11.28      9.14      6.50         2.88          89.0        8.5      E  \n",
              "7     13.96      9.18      2.93         2.84          58.0        6.6      E  \n",
              "8     14.44      6.94      4.70         2.24          87.0        8.4      E  \n",
              "9     26.93      0.63      0.28         0.47           NaN        NaN    NaN  "
            ]
          },
          "metadata": {},
          "output_type": "display_data"
        }
      ],
      "source": [
        "df = pd.read_csv('/datasets/games.csv')\n",
        "df.info()\n",
        "display(df.head(10))"
      ]
    },
    {
      "cell_type": "markdown",
      "metadata": {
        "id": "5SM6cttCFo9x"
      },
      "source": [
        "Всего видим 11 столбцов, 16715 строк. Пропусков не очень много, данные на первый взгляд представлены достаточно полно для анализа."
      ]
    },
    {
      "cell_type": "markdown",
      "metadata": {
        "id": "Ksr8vHtVDXK9"
      },
      "source": [
        "## Подготовка данных"
      ]
    },
    {
      "cell_type": "markdown",
      "metadata": {
        "id": "82YpFtQsYZli"
      },
      "source": [
        "### Преобразование названий столбцов"
      ]
    },
    {
      "cell_type": "markdown",
      "metadata": {
        "id": "ZoMAuLQfGHNi"
      },
      "source": [
        "Начнем с упорядочивания названий столбцов - приведем их к нижнему регистру. "
      ]
    },
    {
      "cell_type": "code",
      "execution_count": null,
      "metadata": {
        "id": "GvLgpS6fDUEU"
      },
      "outputs": [],
      "source": [
        "df.columns = df.columns.str.lower()"
      ]
    },
    {
      "cell_type": "markdown",
      "metadata": {
        "id": "mpLtq6kiYjLU"
      },
      "source": [
        "### Пропуски"
      ]
    },
    {
      "cell_type": "markdown",
      "metadata": {
        "id": "C-bWQhIYGSvU"
      },
      "source": [
        "**Name**"
      ]
    },
    {
      "cell_type": "markdown",
      "metadata": {
        "id": "DYKJ8X9NGYAk"
      },
      "source": [
        "В столбце с названием игры пропусков всего два, игры эти достаточно старые, а информации по ним почти нет.Это незначительная часть датасета, поэтому просто удалим строки."
      ]
    },
    {
      "cell_type": "code",
      "execution_count": null,
      "metadata": {
        "colab": {
          "base_uri": "https://localhost:8080/",
          "height": 112
        },
        "id": "MyILzcE-xMBt",
        "outputId": "94698a8f-e711-4b12-80be-facc95735117"
      },
      "outputs": [
        {
          "data": {
            "text/html": [
              "<div>\n",
              "<style scoped>\n",
              "    .dataframe tbody tr th:only-of-type {\n",
              "        vertical-align: middle;\n",
              "    }\n",
              "\n",
              "    .dataframe tbody tr th {\n",
              "        vertical-align: top;\n",
              "    }\n",
              "\n",
              "    .dataframe thead th {\n",
              "        text-align: right;\n",
              "    }\n",
              "</style>\n",
              "<table border=\"1\" class=\"dataframe\">\n",
              "  <thead>\n",
              "    <tr style=\"text-align: right;\">\n",
              "      <th></th>\n",
              "      <th>name</th>\n",
              "      <th>platform</th>\n",
              "      <th>year_of_release</th>\n",
              "      <th>genre</th>\n",
              "      <th>na_sales</th>\n",
              "      <th>eu_sales</th>\n",
              "      <th>jp_sales</th>\n",
              "      <th>other_sales</th>\n",
              "      <th>critic_score</th>\n",
              "      <th>user_score</th>\n",
              "      <th>rating</th>\n",
              "    </tr>\n",
              "  </thead>\n",
              "  <tbody>\n",
              "    <tr>\n",
              "      <td>659</td>\n",
              "      <td>NaN</td>\n",
              "      <td>GEN</td>\n",
              "      <td>1993.0</td>\n",
              "      <td>NaN</td>\n",
              "      <td>1.78</td>\n",
              "      <td>0.53</td>\n",
              "      <td>0.00</td>\n",
              "      <td>0.08</td>\n",
              "      <td>NaN</td>\n",
              "      <td>NaN</td>\n",
              "      <td>NaN</td>\n",
              "    </tr>\n",
              "    <tr>\n",
              "      <td>14244</td>\n",
              "      <td>NaN</td>\n",
              "      <td>GEN</td>\n",
              "      <td>1993.0</td>\n",
              "      <td>NaN</td>\n",
              "      <td>0.00</td>\n",
              "      <td>0.00</td>\n",
              "      <td>0.03</td>\n",
              "      <td>0.00</td>\n",
              "      <td>NaN</td>\n",
              "      <td>NaN</td>\n",
              "      <td>NaN</td>\n",
              "    </tr>\n",
              "  </tbody>\n",
              "</table>\n",
              "</div>"
            ],
            "text/plain": [
              "      name platform  year_of_release genre  na_sales  eu_sales  jp_sales  \\\n",
              "659    NaN      GEN           1993.0   NaN      1.78      0.53      0.00   \n",
              "14244  NaN      GEN           1993.0   NaN      0.00      0.00      0.03   \n",
              "\n",
              "       other_sales  critic_score user_score rating  \n",
              "659           0.08           NaN        NaN    NaN  \n",
              "14244         0.00           NaN        NaN    NaN  "
            ]
          },
          "execution_count": 5,
          "metadata": {},
          "output_type": "execute_result"
        }
      ],
      "source": [
        "df[df['name'].isna()]"
      ]
    },
    {
      "cell_type": "code",
      "execution_count": null,
      "metadata": {
        "id": "BYUYXlvozN5e"
      },
      "outputs": [],
      "source": [
        "df = df.dropna(subset=['name'])\n",
        "df.reset_index(drop=True, inplace=True)"
      ]
    },
    {
      "cell_type": "code",
      "execution_count": null,
      "metadata": {
        "colab": {
          "base_uri": "https://localhost:8080/"
        },
        "id": "HtV0ueCQGYhx",
        "outputId": "b7f7f9e6-0a3e-41ac-9e1e-5134a64de4a6"
      },
      "outputs": [
        {
          "name": "stdout",
          "output_type": "stream",
          "text": [
            "В таблице содержатся данные о 11559 играх.\n"
          ]
        }
      ],
      "source": [
        "print('В таблице содержатся данные о {} играх.'.format(df['name'].nunique()))"
      ]
    },
    {
      "cell_type": "markdown",
      "metadata": {
        "id": "U1JggO-NciiC"
      },
      "source": [
        "Названий игр меньше, чем строк в таблице, значит, некоторые игры выходят сразу на нескольких платформах."
      ]
    },
    {
      "cell_type": "code",
      "execution_count": null,
      "metadata": {
        "colab": {
          "base_uri": "https://localhost:8080/",
          "height": 641
        },
        "id": "OmTcmxUTc5Py",
        "outputId": "4635c20d-d15e-4af6-a39d-0c99f978b513"
      },
      "outputs": [
        {
          "data": {
            "text/html": [
              "<div>\n",
              "<style scoped>\n",
              "    .dataframe tbody tr th:only-of-type {\n",
              "        vertical-align: middle;\n",
              "    }\n",
              "\n",
              "    .dataframe tbody tr th {\n",
              "        vertical-align: top;\n",
              "    }\n",
              "\n",
              "    .dataframe thead th {\n",
              "        text-align: right;\n",
              "    }\n",
              "</style>\n",
              "<table border=\"1\" class=\"dataframe\">\n",
              "  <thead>\n",
              "    <tr style=\"text-align: right;\">\n",
              "      <th></th>\n",
              "      <th>name</th>\n",
              "      <th>platform</th>\n",
              "      <th>year_of_release</th>\n",
              "      <th>genre</th>\n",
              "      <th>na_sales</th>\n",
              "      <th>eu_sales</th>\n",
              "      <th>jp_sales</th>\n",
              "      <th>other_sales</th>\n",
              "      <th>critic_score</th>\n",
              "      <th>user_score</th>\n",
              "      <th>rating</th>\n",
              "    </tr>\n",
              "  </thead>\n",
              "  <tbody>\n",
              "    <tr>\n",
              "      <td>3861</td>\n",
              "      <td>Frozen: Olaf's Quest</td>\n",
              "      <td>DS</td>\n",
              "      <td>2013.0</td>\n",
              "      <td>Platform</td>\n",
              "      <td>0.21</td>\n",
              "      <td>0.26</td>\n",
              "      <td>0.00</td>\n",
              "      <td>0.04</td>\n",
              "      <td>NaN</td>\n",
              "      <td>NaN</td>\n",
              "      <td>NaN</td>\n",
              "    </tr>\n",
              "    <tr>\n",
              "      <td>9506</td>\n",
              "      <td>007: Quantum of Solace</td>\n",
              "      <td>DS</td>\n",
              "      <td>2008.0</td>\n",
              "      <td>Action</td>\n",
              "      <td>0.11</td>\n",
              "      <td>0.01</td>\n",
              "      <td>0.00</td>\n",
              "      <td>0.01</td>\n",
              "      <td>65.0</td>\n",
              "      <td>tbd</td>\n",
              "      <td>T</td>\n",
              "    </tr>\n",
              "    <tr>\n",
              "      <td>4474</td>\n",
              "      <td>007: Quantum of Solace</td>\n",
              "      <td>PS2</td>\n",
              "      <td>2008.0</td>\n",
              "      <td>Action</td>\n",
              "      <td>0.17</td>\n",
              "      <td>0.00</td>\n",
              "      <td>0.00</td>\n",
              "      <td>0.26</td>\n",
              "      <td>NaN</td>\n",
              "      <td>NaN</td>\n",
              "      <td>NaN</td>\n",
              "    </tr>\n",
              "    <tr>\n",
              "      <td>1784</td>\n",
              "      <td>007: Quantum of Solace</td>\n",
              "      <td>PS3</td>\n",
              "      <td>2008.0</td>\n",
              "      <td>Action</td>\n",
              "      <td>0.43</td>\n",
              "      <td>0.51</td>\n",
              "      <td>0.02</td>\n",
              "      <td>0.19</td>\n",
              "      <td>65.0</td>\n",
              "      <td>6.6</td>\n",
              "      <td>T</td>\n",
              "    </tr>\n",
              "    <tr>\n",
              "      <td>3119</td>\n",
              "      <td>007: Quantum of Solace</td>\n",
              "      <td>Wii</td>\n",
              "      <td>2008.0</td>\n",
              "      <td>Action</td>\n",
              "      <td>0.29</td>\n",
              "      <td>0.28</td>\n",
              "      <td>0.01</td>\n",
              "      <td>0.07</td>\n",
              "      <td>54.0</td>\n",
              "      <td>7.5</td>\n",
              "      <td>T</td>\n",
              "    </tr>\n",
              "    <tr>\n",
              "      <td>...</td>\n",
              "      <td>...</td>\n",
              "      <td>...</td>\n",
              "      <td>...</td>\n",
              "      <td>...</td>\n",
              "      <td>...</td>\n",
              "      <td>...</td>\n",
              "      <td>...</td>\n",
              "      <td>...</td>\n",
              "      <td>...</td>\n",
              "      <td>...</td>\n",
              "      <td>...</td>\n",
              "    </tr>\n",
              "    <tr>\n",
              "      <td>12647</td>\n",
              "      <td>pro evolution soccer 2011</td>\n",
              "      <td>PC</td>\n",
              "      <td>2010.0</td>\n",
              "      <td>Sports</td>\n",
              "      <td>0.00</td>\n",
              "      <td>0.05</td>\n",
              "      <td>0.00</td>\n",
              "      <td>0.01</td>\n",
              "      <td>79.0</td>\n",
              "      <td>NaN</td>\n",
              "      <td>NaN</td>\n",
              "    </tr>\n",
              "    <tr>\n",
              "      <td>3303</td>\n",
              "      <td>pro evolution soccer 2011</td>\n",
              "      <td>X360</td>\n",
              "      <td>2010.0</td>\n",
              "      <td>Sports</td>\n",
              "      <td>0.09</td>\n",
              "      <td>0.44</td>\n",
              "      <td>0.00</td>\n",
              "      <td>0.07</td>\n",
              "      <td>79.0</td>\n",
              "      <td>5.9</td>\n",
              "      <td>E</td>\n",
              "    </tr>\n",
              "    <tr>\n",
              "      <td>4663</td>\n",
              "      <td>pro evolution soccer 2011</td>\n",
              "      <td>PS2</td>\n",
              "      <td>2010.0</td>\n",
              "      <td>Sports</td>\n",
              "      <td>0.04</td>\n",
              "      <td>0.21</td>\n",
              "      <td>0.05</td>\n",
              "      <td>0.11</td>\n",
              "      <td>NaN</td>\n",
              "      <td>6.7</td>\n",
              "      <td>E</td>\n",
              "    </tr>\n",
              "    <tr>\n",
              "      <td>2582</td>\n",
              "      <td>pro evolution soccer 2011</td>\n",
              "      <td>PSP</td>\n",
              "      <td>2010.0</td>\n",
              "      <td>Sports</td>\n",
              "      <td>0.05</td>\n",
              "      <td>0.30</td>\n",
              "      <td>0.29</td>\n",
              "      <td>0.16</td>\n",
              "      <td>74.0</td>\n",
              "      <td>5.8</td>\n",
              "      <td>E</td>\n",
              "    </tr>\n",
              "    <tr>\n",
              "      <td>15610</td>\n",
              "      <td>uDraw Studio: Instant Artist</td>\n",
              "      <td>X360</td>\n",
              "      <td>2011.0</td>\n",
              "      <td>Misc</td>\n",
              "      <td>0.01</td>\n",
              "      <td>0.01</td>\n",
              "      <td>0.00</td>\n",
              "      <td>0.00</td>\n",
              "      <td>54.0</td>\n",
              "      <td>5.7</td>\n",
              "      <td>E</td>\n",
              "    </tr>\n",
              "  </tbody>\n",
              "</table>\n",
              "<p>5154 rows × 11 columns</p>\n",
              "</div>"
            ],
            "text/plain": [
              "                               name platform  year_of_release     genre  \\\n",
              "3861           Frozen: Olaf's Quest       DS           2013.0  Platform   \n",
              "9506         007: Quantum of Solace       DS           2008.0    Action   \n",
              "4474         007: Quantum of Solace      PS2           2008.0    Action   \n",
              "1784         007: Quantum of Solace      PS3           2008.0    Action   \n",
              "3119         007: Quantum of Solace      Wii           2008.0    Action   \n",
              "...                             ...      ...              ...       ...   \n",
              "12647     pro evolution soccer 2011       PC           2010.0    Sports   \n",
              "3303      pro evolution soccer 2011     X360           2010.0    Sports   \n",
              "4663      pro evolution soccer 2011      PS2           2010.0    Sports   \n",
              "2582      pro evolution soccer 2011      PSP           2010.0    Sports   \n",
              "15610  uDraw Studio: Instant Artist     X360           2011.0      Misc   \n",
              "\n",
              "       na_sales  eu_sales  jp_sales  other_sales  critic_score user_score  \\\n",
              "3861       0.21      0.26      0.00         0.04           NaN        NaN   \n",
              "9506       0.11      0.01      0.00         0.01          65.0        tbd   \n",
              "4474       0.17      0.00      0.00         0.26           NaN        NaN   \n",
              "1784       0.43      0.51      0.02         0.19          65.0        6.6   \n",
              "3119       0.29      0.28      0.01         0.07          54.0        7.5   \n",
              "...         ...       ...       ...          ...           ...        ...   \n",
              "12647      0.00      0.05      0.00         0.01          79.0        NaN   \n",
              "3303       0.09      0.44      0.00         0.07          79.0        5.9   \n",
              "4663       0.04      0.21      0.05         0.11           NaN        6.7   \n",
              "2582       0.05      0.30      0.29         0.16          74.0        5.8   \n",
              "15610      0.01      0.01      0.00         0.00          54.0        5.7   \n",
              "\n",
              "      rating  \n",
              "3861     NaN  \n",
              "9506       T  \n",
              "4474     NaN  \n",
              "1784       T  \n",
              "3119       T  \n",
              "...      ...  \n",
              "12647    NaN  \n",
              "3303       E  \n",
              "4663       E  \n",
              "2582       E  \n",
              "15610      E  \n",
              "\n",
              "[5154 rows x 11 columns]"
            ]
          },
          "metadata": {},
          "output_type": "display_data"
        }
      ],
      "source": [
        "display(df[df.duplicated(subset='name')].sort_values(by='name', ascending=True))"
      ]
    },
    {
      "cell_type": "markdown",
      "metadata": {
        "id": "NmLmWoFjIzF6"
      },
      "source": [
        "**Platform**"
      ]
    },
    {
      "cell_type": "markdown",
      "metadata": {
        "id": "h9yya4asI6xH"
      },
      "source": [
        "Узнаем, какие платформы представлены в датафрейме."
      ]
    },
    {
      "cell_type": "code",
      "execution_count": null,
      "metadata": {
        "colab": {
          "base_uri": "https://localhost:8080/",
          "height": 108
        },
        "id": "lbvajSe8KVWM",
        "outputId": "d26b1f63-e211-4596-a433-cbe2fa6c97b5"
      },
      "outputs": [
        {
          "data": {
            "text/plain": [
              "array(['Wii', 'NES', 'GB', 'DS', 'X360', 'PS3', 'PS2', 'SNES', 'GBA',\n",
              "       'PS4', '3DS', 'N64', 'PS', 'XB', 'PC', '2600', 'PSP', 'XOne',\n",
              "       'WiiU', 'GC', 'GEN', 'DC', 'PSV', 'SAT', 'SCD', 'WS', 'NG', 'TG16',\n",
              "       '3DO', 'GG', 'PCFX'], dtype=object)"
            ]
          },
          "metadata": {},
          "output_type": "display_data"
        },
        {
          "name": "stdout",
          "output_type": "stream",
          "text": [
            "Всего в таблице представлены данные по играм для 31 платформ.\n"
          ]
        }
      ],
      "source": [
        "display(df['platform'].unique())\n",
        "print('Всего в таблице представлены данные по играм для {} платформ.'.format(df['platform'].nunique()))"
      ]
    },
    {
      "cell_type": "code",
      "execution_count": null,
      "metadata": {
        "colab": {
          "base_uri": "https://localhost:8080/"
        },
        "id": "MJhLkSwTKMm4",
        "outputId": "12cb0d18-442c-483c-c92c-7c8f5b57b463"
      },
      "outputs": [
        {
          "data": {
            "text/plain": [
              "PS2     2161\n",
              "DS      2151\n",
              "PS3     1331\n",
              "Wii     1320\n",
              "X360    1262\n",
              "PSP     1209\n",
              "PS      1197\n",
              "PC       974\n",
              "XB       824\n",
              "GBA      822\n",
              "GC       556\n",
              "3DS      520\n",
              "PSV      430\n",
              "PS4      392\n",
              "N64      319\n",
              "XOne     247\n",
              "SNES     239\n",
              "SAT      173\n",
              "WiiU     147\n",
              "2600     133\n",
              "NES       98\n",
              "GB        98\n",
              "DC        52\n",
              "GEN       27\n",
              "NG        12\n",
              "SCD        6\n",
              "WS         6\n",
              "3DO        3\n",
              "TG16       2\n",
              "GG         1\n",
              "PCFX       1\n",
              "Name: platform, dtype: int64"
            ]
          },
          "execution_count": 10,
          "metadata": {},
          "output_type": "execute_result"
        }
      ],
      "source": [
        "df['platform'].value_counts()"
      ]
    },
    {
      "cell_type": "markdown",
      "metadata": {
        "id": "xHXaZ6BoKhkl"
      },
      "source": [
        "**Year of release**"
      ]
    },
    {
      "cell_type": "code",
      "execution_count": null,
      "metadata": {
        "colab": {
          "base_uri": "https://localhost:8080/",
          "height": 283
        },
        "id": "Nwzgkt79IzPw",
        "outputId": "ea16c1ad-b17d-4a6e-9767-39a0fec44311"
      },
      "outputs": [
        {
          "data": {
            "text/plain": [
              "<matplotlib.axes._subplots.AxesSubplot at 0x7f2a980f3e90>"
            ]
          },
          "execution_count": 11,
          "metadata": {},
          "output_type": "execute_result"
        },
        {
          "data": {
            "image/png": "[encoded data removed]",
            "text/plain": [
              "<Figure size 432x288 with 1 Axes>"
            ]
          },
          "metadata": {
            "needs_background": "light"
          },
          "output_type": "display_data"
        }
      ],
      "source": [
        "df['year_of_release'].hist(bins=20)"
      ]
    },
    {
      "cell_type": "code",
      "execution_count": null,
      "metadata": {
        "colab": {
          "base_uri": "https://localhost:8080/"
        },
        "id": "H7JH7QFEI6Hq",
        "outputId": "9ca8d966-e702-421d-f1c2-fcead3a671ca"
      },
      "outputs": [
        {
          "data": {
            "text/plain": [
              "269"
            ]
          },
          "execution_count": 12,
          "metadata": {},
          "output_type": "execute_result"
        }
      ],
      "source": [
        "df['year_of_release'].isna().sum()"
      ]
    },
    {
      "cell_type": "markdown",
      "metadata": {
        "id": "j9vGtAZBZusW"
      },
      "source": [
        "В столбце с годом выпуска игры 269 пропусков. Попробуем заменить некоторые из них годами выпуска игр с такими же названиями, но на других платформах."
      ]
    },
    {
      "cell_type": "code",
      "execution_count": null,
      "metadata": {
        "id": "-iQwxdRKQYgf"
      },
      "outputs": [],
      "source": [
        "for i in df[df['year_of_release'].isna() == True].index:  \n",
        "    df['year_of_release'][i] = df[df['name'] == df['name'][i]]['year_of_release'].max()"
      ]
    },
    {
      "cell_type": "code",
      "execution_count": null,
      "metadata": {
        "colab": {
          "base_uri": "https://localhost:8080/"
        },
        "id": "nwbipK-KI6LG",
        "outputId": "b9ea40ce-6da2-4fc4-e299-770d05672837",
        "scrolled": true
      },
      "outputs": [
        {
          "data": {
            "text/plain": [
              "146"
            ]
          },
          "execution_count": 14,
          "metadata": {},
          "output_type": "execute_result"
        }
      ],
      "source": [
        "df['year_of_release'].isna().sum()"
      ]
    },
    {
      "cell_type": "code",
      "execution_count": null,
      "metadata": {
        "id": "IYimQreGZQFB"
      },
      "outputs": [],
      "source": [
        "df = df.dropna(subset=['year_of_release'])\n",
        "df.reset_index(drop=True, inplace=True)"
      ]
    },
    {
      "cell_type": "markdown",
      "metadata": {
        "id": "l7pQL66qaPLM"
      },
      "source": [
        "Пропусков стало меньше, оставшихся уже не так много, так что можем их просто удалить."
      ]
    },
    {
      "cell_type": "markdown",
      "metadata": {
        "id": "PStYVMX-JDE3"
      },
      "source": [
        "**Critic score**"
      ]
    },
    {
      "cell_type": "code",
      "execution_count": null,
      "metadata": {
        "colab": {
          "base_uri": "https://localhost:8080/"
        },
        "id": "Hng-ETjsAeqP",
        "outputId": "3abb3713-f762-4a45-9e32-a7aedba7bd53"
      },
      "outputs": [
        {
          "data": {
            "text/plain": [
              "array([76., nan, 82., 80., 89., 58., 87., 91., 61., 97., 95., 77., 88.,\n",
              "       83., 94., 93., 85., 86., 98., 96., 90., 84., 73., 74., 78., 92.,\n",
              "       71., 72., 68., 62., 49., 67., 81., 66., 56., 79., 70., 59., 64.,\n",
              "       75., 60., 63., 69., 50., 25., 42., 44., 55., 48., 57., 29., 47.,\n",
              "       65., 54., 20., 53., 37., 38., 33., 52., 30., 32., 43., 45., 51.,\n",
              "       40., 46., 39., 34., 35., 41., 36., 28., 31., 27., 26., 19., 23.,\n",
              "       24., 21., 17., 13.])"
            ]
          },
          "execution_count": 16,
          "metadata": {},
          "output_type": "execute_result"
        }
      ],
      "source": [
        "df['critic_score'].unique()"
      ]
    },
    {
      "cell_type": "markdown",
      "metadata": {
        "id": "bSqiW66wfNLu"
      },
      "source": [
        "Оценки критиков рассчитаны по 100-балльной шкале, а пропусков в столбце слишком много, чтобы чтобы удалять данные. Мы не можем подобрать подходящие значения для замены, но для удобства возможных дальнейших расчетов заменим пропуски аномально большими цифрами. При расчетах нужно будет не забыть не принимать их во внимание."
      ]
    },
    {
      "cell_type": "code",
      "execution_count": null,
      "metadata": {
        "colab": {
          "base_uri": "https://localhost:8080/"
        },
        "id": "g0j7kKvbfMm6",
        "outputId": "ea6f24b5-595a-4977-aa4e-4cdaea024ad2"
      },
      "outputs": [
        {
          "data": {
            "text/plain": [
              "8492"
            ]
          },
          "execution_count": 17,
          "metadata": {},
          "output_type": "execute_result"
        }
      ],
      "source": [
        "df['critic_score'].isna().sum()"
      ]
    },
    {
      "cell_type": "code",
      "execution_count": null,
      "metadata": {
        "id": "bEjn5Y6GAese"
      },
      "outputs": [],
      "source": [
        "df['critic_score'] = df['critic_score'].fillna(1000)"
      ]
    },
    {
      "cell_type": "markdown",
      "metadata": {
        "id": "GrGyEz1WJKaE"
      },
      "source": [
        "**User score**"
      ]
    },
    {
      "cell_type": "code",
      "execution_count": null,
      "metadata": {
        "colab": {
          "base_uri": "https://localhost:8080/"
        },
        "id": "G3z0zB3RK9df",
        "outputId": "6523b4a1-8b55-410c-9ba4-f6bef9b7158a"
      },
      "outputs": [
        {
          "data": {
            "text/plain": [
              "array(['8', nan, '8.3', '8.5', '6.6', '8.4', '8.6', '7.7', '6.3', '7.4',\n",
              "       '8.2', '9', '7.9', '8.1', '8.7', '7.1', '3.4', '5.3', '4.8', '3.2',\n",
              "       '8.9', '6.4', '7.8', '7.5', '2.6', '7.2', '9.2', '7', '7.3', '4.3',\n",
              "       '7.6', '5.7', '5', '9.1', '6.5', 'tbd', '8.8', '6.9', '9.4', '6.8',\n",
              "       '6.1', '6.7', '5.4', '4', '4.9', '4.5', '9.3', '6.2', '4.2', '6',\n",
              "       '3.7', '4.1', '5.8', '5.6', '5.5', '4.4', '4.6', '5.9', '3.9',\n",
              "       '3.1', '2.9', '5.2', '3.3', '4.7', '5.1', '3.5', '2.5', '1.9', '3',\n",
              "       '2.7', '2.2', '2', '9.5', '2.1', '3.6', '2.8', '1.8', '3.8', '0',\n",
              "       '1.6', '9.6', '2.4', '1.7', '1.1', '0.3', '1.5', '0.7', '1.2',\n",
              "       '2.3', '0.5', '1.3', '0.2', '0.6', '1.4', '0.9', '1', '9.7'],\n",
              "      dtype=object)"
            ]
          },
          "execution_count": 19,
          "metadata": {},
          "output_type": "execute_result"
        }
      ],
      "source": [
        "df['user_score'].unique()"
      ]
    },
    {
      "cell_type": "code",
      "execution_count": null,
      "metadata": {
        "colab": {
          "base_uri": "https://localhost:8080/"
        },
        "id": "rwZ8gpxbhKro",
        "outputId": "1cb536d4-8b33-4ba0-b58a-0ba8d30de6b8"
      },
      "outputs": [
        {
          "data": {
            "text/plain": [
              "6633"
            ]
          },
          "execution_count": 20,
          "metadata": {},
          "output_type": "execute_result"
        }
      ],
      "source": [
        "df['user_score'].isna().sum()"
      ]
    },
    {
      "cell_type": "markdown",
      "metadata": {
        "id": "Qa0LwT7JgRr6"
      },
      "source": [
        "Оценки пользователей рассчитаны по 10-балльной шкале, а пропусков в столбце слишком много, чтобы чтобы удалять данные. Также среи оценок есть значение 'tbd' - видимо, это значит 'to be determined'(англ. \"будет определено\"). Заменять эти данные по своему усмотрению не получится, приравняем их к пропускам.\n",
        "Мы не можем подобрать подходящие значения для замены, но для удобства возможных дальнейших расчетов заменим пропуски аномально большими цифрами. При расчетах нужно будет не забыть не принимать их во внимание."
      ]
    },
    {
      "cell_type": "code",
      "execution_count": null,
      "metadata": {
        "id": "q2_daGGQAevA"
      },
      "outputs": [],
      "source": [
        "df.loc[df['user_score'] == 'tbd', 'user_score'] = 100"
      ]
    },
    {
      "cell_type": "code",
      "execution_count": null,
      "metadata": {
        "id": "XQRMHqCWAdbp"
      },
      "outputs": [],
      "source": [
        "df['user_score'] = df['user_score'].fillna(100)"
      ]
    },
    {
      "cell_type": "markdown",
      "metadata": {
        "id": "k-lpgh0EJON5"
      },
      "source": [
        "**Rating**"
      ]
    },
    {
      "cell_type": "code",
      "execution_count": null,
      "metadata": {
        "colab": {
          "base_uri": "https://localhost:8080/"
        },
        "id": "b3ZRn-3CAdgy",
        "outputId": "ecec732f-6145-4a04-936f-9ec719e6444a"
      },
      "outputs": [
        {
          "data": {
            "text/plain": [
              "array(['E', nan, 'M', 'T', 'E10+', 'K-A', 'AO', 'EC', 'RP'], dtype=object)"
            ]
          },
          "execution_count": 23,
          "metadata": {},
          "output_type": "execute_result"
        }
      ],
      "source": [
        "df['rating'].unique()"
      ]
    },
    {
      "cell_type": "code",
      "execution_count": null,
      "metadata": {
        "colab": {
          "base_uri": "https://localhost:8080/"
        },
        "id": "mOIzwyeVhVEr",
        "outputId": "fd1e8966-838b-4f2c-e8ca-62084d1e150f"
      },
      "outputs": [
        {
          "data": {
            "text/plain": [
              "E       3958\n",
              "T       2930\n",
              "M       1554\n",
              "E10+    1412\n",
              "EC         8\n",
              "K-A        3\n",
              "RP         2\n",
              "AO         1\n",
              "Name: rating, dtype: int64"
            ]
          },
          "execution_count": 24,
          "metadata": {},
          "output_type": "execute_result"
        }
      ],
      "source": [
        "df['rating'].value_counts()"
      ]
    },
    {
      "cell_type": "code",
      "execution_count": null,
      "metadata": {
        "colab": {
          "base_uri": "https://localhost:8080/"
        },
        "id": "FZlC7HRqakAU",
        "outputId": "c03a7728-be98-4df0-84a6-0d1d041b8808"
      },
      "outputs": [
        {
          "data": {
            "text/plain": [
              "6699"
            ]
          },
          "execution_count": 25,
          "metadata": {},
          "output_type": "execute_result"
        }
      ],
      "source": [
        "df['rating'].isna().sum()"
      ]
    },
    {
      "cell_type": "markdown",
      "metadata": {
        "id": "9DqA6Ko6hRbd"
      },
      "source": [
        "В этом столбце также много пропусков, но так как они не количественные, на дальнейшие расчеты они не повлияют. Оставим все как есть."
      ]
    },
    {
      "cell_type": "code",
      "execution_count": null,
      "metadata": {
        "id": "fYW5ff6-Tg1_",
        "outputId": "ae20af27-695a-4582-eebf-af911ce5b04d"
      },
      "outputs": [
        {
          "data": {
            "text/plain": [
              "0"
            ]
          },
          "execution_count": 26,
          "metadata": {},
          "output_type": "execute_result"
        }
      ],
      "source": [
        "df.duplicated().sum()"
      ]
    },
    {
      "cell_type": "markdown",
      "metadata": {
        "id": "39B4zIR7akM3"
      },
      "source": [
        "### Изменение типов данных"
      ]
    },
    {
      "cell_type": "code",
      "execution_count": null,
      "metadata": {
        "colab": {
          "base_uri": "https://localhost:8080/"
        },
        "id": "U4lsewh5hoRT",
        "outputId": "db1daf85-eda0-4b14-9190-5e183753db47"
      },
      "outputs": [
        {
          "name": "stdout",
          "output_type": "stream",
          "text": [
            "<class 'pandas.core.frame.DataFrame'>\n",
            "RangeIndex: 16567 entries, 0 to 16566\n",
            "Data columns (total 11 columns):\n",
            "name               16567 non-null object\n",
            "platform           16567 non-null object\n",
            "year_of_release    16567 non-null float64\n",
            "genre              16567 non-null object\n",
            "na_sales           16567 non-null float64\n",
            "eu_sales           16567 non-null float64\n",
            "jp_sales           16567 non-null float64\n",
            "other_sales        16567 non-null float64\n",
            "critic_score       16567 non-null float64\n",
            "user_score         16567 non-null object\n",
            "rating             9868 non-null object\n",
            "dtypes: float64(6), object(5)\n",
            "memory usage: 1.4+ MB\n"
          ]
        }
      ],
      "source": [
        "df.info()"
      ]
    },
    {
      "cell_type": "markdown",
      "metadata": {
        "id": "TmwGyzxahmcU"
      },
      "source": [
        "Для удобства и наглядности поменяем тип данных в столбце с годом выпуска - на целочисленное, а также в данных с оценкой пользователей, так как нам будет удобнее с количественным значением."
      ]
    },
    {
      "cell_type": "code",
      "execution_count": null,
      "metadata": {
        "id": "RNrbjOvXaG-a"
      },
      "outputs": [],
      "source": [
        "df['year_of_release'] = df['year_of_release'].astype(int)"
      ]
    },
    {
      "cell_type": "code",
      "execution_count": null,
      "metadata": {
        "id": "NVkQmoX4aG7D"
      },
      "outputs": [],
      "source": [
        "df['user_score'] = df['user_score'].astype(float)"
      ]
    },
    {
      "cell_type": "markdown",
      "metadata": {
        "id": "_s1_FKZFaIVH"
      },
      "source": [
        "### Общие продажи"
      ]
    },
    {
      "cell_type": "markdown",
      "metadata": {
        "id": "JfrfRPBoZsAX"
      },
      "source": [
        "Добавим столбец с суммой всех продаж, сложив имеющиеся у нас цифры."
      ]
    },
    {
      "cell_type": "code",
      "execution_count": null,
      "metadata": {
        "id": "iaE9kWAJzT5q"
      },
      "outputs": [],
      "source": [
        "df['total_sales'] = df[['na_sales', 'eu_sales', 'jp_sales', 'other_sales']].sum(axis=1)"
      ]
    },
    {
      "cell_type": "code",
      "execution_count": null,
      "metadata": {
        "colab": {
          "base_uri": "https://localhost:8080/",
          "height": 670
        },
        "id": "kfLmZJpLZrh-",
        "outputId": "e5ee7ac0-793b-40da-e6ed-c9238972b3ba",
        "scrolled": true
      },
      "outputs": [
        {
          "data": {
            "text/html": [
              "<div>\n",
              "<style scoped>\n",
              "    .dataframe tbody tr th:only-of-type {\n",
              "        vertical-align: middle;\n",
              "    }\n",
              "\n",
              "    .dataframe tbody tr th {\n",
              "        vertical-align: top;\n",
              "    }\n",
              "\n",
              "    .dataframe thead th {\n",
              "        text-align: right;\n",
              "    }\n",
              "</style>\n",
              "<table border=\"1\" class=\"dataframe\">\n",
              "  <thead>\n",
              "    <tr style=\"text-align: right;\">\n",
              "      <th></th>\n",
              "      <th>name</th>\n",
              "      <th>platform</th>\n",
              "      <th>year_of_release</th>\n",
              "      <th>genre</th>\n",
              "      <th>na_sales</th>\n",
              "      <th>eu_sales</th>\n",
              "      <th>jp_sales</th>\n",
              "      <th>other_sales</th>\n",
              "      <th>critic_score</th>\n",
              "      <th>user_score</th>\n",
              "      <th>rating</th>\n",
              "      <th>total_sales</th>\n",
              "    </tr>\n",
              "  </thead>\n",
              "  <tbody>\n",
              "    <tr>\n",
              "      <td>12154</td>\n",
              "      <td>Interactive Storybook DS Series 1</td>\n",
              "      <td>DS</td>\n",
              "      <td>2007</td>\n",
              "      <td>Misc</td>\n",
              "      <td>0.06</td>\n",
              "      <td>0.00</td>\n",
              "      <td>0.00</td>\n",
              "      <td>0.00</td>\n",
              "      <td>1000.0</td>\n",
              "      <td>100.0</td>\n",
              "      <td>E</td>\n",
              "      <td>0.06</td>\n",
              "    </tr>\n",
              "    <tr>\n",
              "      <td>14741</td>\n",
              "      <td>AMNESIA World</td>\n",
              "      <td>PSV</td>\n",
              "      <td>2014</td>\n",
              "      <td>Adventure</td>\n",
              "      <td>0.00</td>\n",
              "      <td>0.00</td>\n",
              "      <td>0.03</td>\n",
              "      <td>0.00</td>\n",
              "      <td>1000.0</td>\n",
              "      <td>100.0</td>\n",
              "      <td>NaN</td>\n",
              "      <td>0.03</td>\n",
              "    </tr>\n",
              "    <tr>\n",
              "      <td>14916</td>\n",
              "      <td>Final Fantasy XIV: Heavensward</td>\n",
              "      <td>PC</td>\n",
              "      <td>2015</td>\n",
              "      <td>Action</td>\n",
              "      <td>0.01</td>\n",
              "      <td>0.01</td>\n",
              "      <td>0.00</td>\n",
              "      <td>0.00</td>\n",
              "      <td>86.0</td>\n",
              "      <td>7.7</td>\n",
              "      <td>T</td>\n",
              "      <td>0.02</td>\n",
              "    </tr>\n",
              "    <tr>\n",
              "      <td>8186</td>\n",
              "      <td>The Idolm@ster: Shiny Festa - Honey Sound / Fu...</td>\n",
              "      <td>PSP</td>\n",
              "      <td>2012</td>\n",
              "      <td>Action</td>\n",
              "      <td>0.00</td>\n",
              "      <td>0.00</td>\n",
              "      <td>0.17</td>\n",
              "      <td>0.00</td>\n",
              "      <td>1000.0</td>\n",
              "      <td>100.0</td>\n",
              "      <td>NaN</td>\n",
              "      <td>0.17</td>\n",
              "    </tr>\n",
              "    <tr>\n",
              "      <td>3859</td>\n",
              "      <td>Sonic &amp; All-Stars Racing Transformed</td>\n",
              "      <td>WiiU</td>\n",
              "      <td>2012</td>\n",
              "      <td>Racing</td>\n",
              "      <td>0.19</td>\n",
              "      <td>0.26</td>\n",
              "      <td>0.02</td>\n",
              "      <td>0.04</td>\n",
              "      <td>1000.0</td>\n",
              "      <td>100.0</td>\n",
              "      <td>NaN</td>\n",
              "      <td>0.51</td>\n",
              "    </tr>\n",
              "    <tr>\n",
              "      <td>4544</td>\n",
              "      <td>Big Strike Bowling</td>\n",
              "      <td>PS</td>\n",
              "      <td>2003</td>\n",
              "      <td>Sports</td>\n",
              "      <td>0.23</td>\n",
              "      <td>0.16</td>\n",
              "      <td>0.00</td>\n",
              "      <td>0.03</td>\n",
              "      <td>1000.0</td>\n",
              "      <td>100.0</td>\n",
              "      <td>NaN</td>\n",
              "      <td>0.42</td>\n",
              "    </tr>\n",
              "    <tr>\n",
              "      <td>14342</td>\n",
              "      <td>Super Meat Boy: Ultra Edition!</td>\n",
              "      <td>PC</td>\n",
              "      <td>2011</td>\n",
              "      <td>Platform</td>\n",
              "      <td>0.00</td>\n",
              "      <td>0.02</td>\n",
              "      <td>0.00</td>\n",
              "      <td>0.01</td>\n",
              "      <td>1000.0</td>\n",
              "      <td>100.0</td>\n",
              "      <td>NaN</td>\n",
              "      <td>0.03</td>\n",
              "    </tr>\n",
              "    <tr>\n",
              "      <td>9170</td>\n",
              "      <td>Monster Lab</td>\n",
              "      <td>DS</td>\n",
              "      <td>2008</td>\n",
              "      <td>Role-Playing</td>\n",
              "      <td>0.12</td>\n",
              "      <td>0.01</td>\n",
              "      <td>0.00</td>\n",
              "      <td>0.01</td>\n",
              "      <td>75.0</td>\n",
              "      <td>100.0</td>\n",
              "      <td>E10+</td>\n",
              "      <td>0.14</td>\n",
              "    </tr>\n",
              "    <tr>\n",
              "      <td>11191</td>\n",
              "      <td>Great Party Games</td>\n",
              "      <td>Wii</td>\n",
              "      <td>2010</td>\n",
              "      <td>Misc</td>\n",
              "      <td>0.00</td>\n",
              "      <td>0.07</td>\n",
              "      <td>0.00</td>\n",
              "      <td>0.01</td>\n",
              "      <td>1000.0</td>\n",
              "      <td>100.0</td>\n",
              "      <td>NaN</td>\n",
              "      <td>0.08</td>\n",
              "    </tr>\n",
              "    <tr>\n",
              "      <td>8810</td>\n",
              "      <td>187: Ride or Die</td>\n",
              "      <td>PS2</td>\n",
              "      <td>2005</td>\n",
              "      <td>Racing</td>\n",
              "      <td>0.07</td>\n",
              "      <td>0.06</td>\n",
              "      <td>0.00</td>\n",
              "      <td>0.02</td>\n",
              "      <td>52.0</td>\n",
              "      <td>6.8</td>\n",
              "      <td>M</td>\n",
              "      <td>0.15</td>\n",
              "    </tr>\n",
              "  </tbody>\n",
              "</table>\n",
              "</div>"
            ],
            "text/plain": [
              "                                                    name platform  \\\n",
              "12154                  Interactive Storybook DS Series 1       DS   \n",
              "14741                                      AMNESIA World      PSV   \n",
              "14916                     Final Fantasy XIV: Heavensward       PC   \n",
              "8186   The Idolm@ster: Shiny Festa - Honey Sound / Fu...      PSP   \n",
              "3859                Sonic & All-Stars Racing Transformed     WiiU   \n",
              "4544                                  Big Strike Bowling       PS   \n",
              "14342                     Super Meat Boy: Ultra Edition!       PC   \n",
              "9170                                         Monster Lab       DS   \n",
              "11191                                  Great Party Games      Wii   \n",
              "8810                                    187: Ride or Die      PS2   \n",
              "\n",
              "       year_of_release         genre  na_sales  eu_sales  jp_sales  \\\n",
              "12154             2007          Misc      0.06      0.00      0.00   \n",
              "14741             2014     Adventure      0.00      0.00      0.03   \n",
              "14916             2015        Action      0.01      0.01      0.00   \n",
              "8186              2012        Action      0.00      0.00      0.17   \n",
              "3859              2012        Racing      0.19      0.26      0.02   \n",
              "4544              2003        Sports      0.23      0.16      0.00   \n",
              "14342             2011      Platform      0.00      0.02      0.00   \n",
              "9170              2008  Role-Playing      0.12      0.01      0.00   \n",
              "11191             2010          Misc      0.00      0.07      0.00   \n",
              "8810              2005        Racing      0.07      0.06      0.00   \n",
              "\n",
              "       other_sales  critic_score  user_score rating  total_sales  \n",
              "12154         0.00        1000.0       100.0      E         0.06  \n",
              "14741         0.00        1000.0       100.0    NaN         0.03  \n",
              "14916         0.00          86.0         7.7      T         0.02  \n",
              "8186          0.00        1000.0       100.0    NaN         0.17  \n",
              "3859          0.04        1000.0       100.0    NaN         0.51  \n",
              "4544          0.03        1000.0       100.0    NaN         0.42  \n",
              "14342         0.01        1000.0       100.0    NaN         0.03  \n",
              "9170          0.01          75.0       100.0   E10+         0.14  \n",
              "11191         0.01        1000.0       100.0    NaN         0.08  \n",
              "8810          0.02          52.0         6.8      M         0.15  "
            ]
          },
          "execution_count": 31,
          "metadata": {},
          "output_type": "execute_result"
        }
      ],
      "source": [
        "df.sample(10)"
      ]
    },
    {
      "cell_type": "markdown",
      "metadata": {
        "id": "2EudfF7QiTzE"
      },
      "source": [
        "Данные готовы к анализу - мы убрали многие пропуски, изменили типы данных, где было нужно, добавили сумму продаж."
      ]
    },
    {
      "cell_type": "markdown",
      "metadata": {
        "id": "ZuUwIUS5aSlY"
      },
      "source": [
        "## Исследовательский анализ данных"
      ]
    },
    {
      "cell_type": "markdown",
      "metadata": {
        "id": "cW964p8_aY28"
      },
      "source": [
        "### **Данные по годам выпуска**"
      ]
    },
    {
      "cell_type": "code",
      "execution_count": null,
      "metadata": {
        "colab": {
          "base_uri": "https://localhost:8080/",
          "height": 285
        },
        "id": "E8PSA4nwRGZw",
        "outputId": "b2f73575-f90d-476e-a6c9-97b61b258041"
      },
      "outputs": [
        {
          "data": {
            "text/plain": [
              "Text(0, 0.5, 'количество игр')"
            ]
          },
          "execution_count": 32,
          "metadata": {},
          "output_type": "execute_result"
        },
        {
          "data": {
            "image/png": "[encoded data removed]",
            "text/plain": [
              "<Figure size 432x288 with 1 Axes>"
            ]
          },
          "metadata": {
            "needs_background": "light"
          },
          "output_type": "display_data"
        }
      ],
      "source": [
        "df['year_of_release'].plot(kind='hist', bins=15, title='Количество игр по годам выпуска')\n",
        "plt.xlabel(\"год\")\n",
        "plt.ylabel(\"количество игр\")"
      ]
    },
    {
      "cell_type": "code",
      "execution_count": null,
      "metadata": {
        "colab": {
          "base_uri": "https://localhost:8080/",
          "height": 422
        },
        "id": "L_w1vEGycN0n",
        "outputId": "032f29f3-361f-452c-dc27-41e12fb10db3"
      },
      "outputs": [
        {
          "data": {
            "text/plain": [
              "Text(0.5, 0, 'Годы')"
            ]
          },
          "execution_count": 33,
          "metadata": {},
          "output_type": "execute_result"
        },
        {
          "data": {
            "image/png": "[encoded data removed]",
            "text/plain": [
              "<Figure size 720x432 with 1 Axes>"
            ]
          },
          "metadata": {
            "needs_background": "light"
          },
          "output_type": "display_data"
        }
      ],
      "source": [
        "games_years = df.pivot_table(index='year_of_release', values='total_sales', aggfunc='sum')\n",
        "plt.figure(figsize=(10,6))\n",
        "sns.lineplot(data=games_years)\n",
        "plt.title('Объем продаж по годам')\n",
        "plt.ylabel('Количество игр')\n",
        "plt.xlabel('Годы')"
      ]
    },
    {
      "cell_type": "markdown",
      "metadata": {
        "id": "6cdOoCUhjJeF"
      },
      "source": [
        "Рассмотрим графики количества выпущенных игр и объема продаж по годам. По ним видно, что примерно до 1995 года рынок игр был совсем небольшой. Затем наблюдается скачкообразный рост с пиком около 2008-2010 гг, а с 2011 объем рынка уменьшается. Для нас важны данные только последних лет, поэтому оставим в таблице информацию начиная с 2005 года."
      ]
    },
    {
      "cell_type": "code",
      "execution_count": null,
      "metadata": {
        "id": "vCoJ23ReaXuS"
      },
      "outputs": [],
      "source": [
        "new_df = df[df['year_of_release'] > 2005]"
      ]
    },
    {
      "cell_type": "markdown",
      "metadata": {
        "id": "sI6pvZOFa1Xb"
      },
      "source": [
        "### **Данные по платформам**"
      ]
    },
    {
      "cell_type": "markdown",
      "metadata": {
        "id": "sTaa-JFVqYSe"
      },
      "source": [
        "**Сначала изучим данные за все время.**"
      ]
    },
    {
      "cell_type": "code",
      "execution_count": null,
      "metadata": {
        "colab": {
          "base_uri": "https://localhost:8080/"
        },
        "id": "ytMFdrLhaXw3",
        "outputId": "86381ece-5d23-4b51-ef60-824c7db84b7d"
      },
      "outputs": [
        {
          "data": {
            "text/plain": [
              "PS2     2140\n",
              "DS      2129\n",
              "PS3     1320\n",
              "Wii     1301\n",
              "X360    1250\n",
              "PSP     1203\n",
              "PS      1190\n",
              "PC       970\n",
              "XB       817\n",
              "GBA      813\n",
              "Name: platform, dtype: int64"
            ]
          },
          "execution_count": 35,
          "metadata": {},
          "output_type": "execute_result"
        }
      ],
      "source": [
        "df['platform'].value_counts().head(10)"
      ]
    },
    {
      "cell_type": "code",
      "execution_count": null,
      "metadata": {
        "colab": {
          "base_uri": "https://localhost:8080/",
          "height": 783
        },
        "id": "NuD9yUCFaX1f",
        "outputId": "d85976b5-1783-46ac-9118-06c3b6994d67"
      },
      "outputs": [
        {
          "data": {
            "text/html": [
              "<div>\n",
              "<style scoped>\n",
              "    .dataframe tbody tr th:only-of-type {\n",
              "        vertical-align: middle;\n",
              "    }\n",
              "\n",
              "    .dataframe tbody tr th {\n",
              "        vertical-align: top;\n",
              "    }\n",
              "\n",
              "    .dataframe thead th {\n",
              "        text-align: right;\n",
              "    }\n",
              "</style>\n",
              "<table border=\"1\" class=\"dataframe\">\n",
              "  <thead>\n",
              "    <tr style=\"text-align: right;\">\n",
              "      <th></th>\n",
              "      <th>total_sales</th>\n",
              "    </tr>\n",
              "    <tr>\n",
              "      <th>platform</th>\n",
              "      <th></th>\n",
              "    </tr>\n",
              "  </thead>\n",
              "  <tbody>\n",
              "    <tr>\n",
              "      <td>PS2</td>\n",
              "      <td>1247.16</td>\n",
              "    </tr>\n",
              "    <tr>\n",
              "      <td>X360</td>\n",
              "      <td>966.61</td>\n",
              "    </tr>\n",
              "    <tr>\n",
              "      <td>PS3</td>\n",
              "      <td>935.19</td>\n",
              "    </tr>\n",
              "    <tr>\n",
              "      <td>Wii</td>\n",
              "      <td>903.31</td>\n",
              "    </tr>\n",
              "    <tr>\n",
              "      <td>DS</td>\n",
              "      <td>804.28</td>\n",
              "    </tr>\n",
              "    <tr>\n",
              "      <td>PS</td>\n",
              "      <td>727.58</td>\n",
              "    </tr>\n",
              "    <tr>\n",
              "      <td>PS4</td>\n",
              "      <td>314.14</td>\n",
              "    </tr>\n",
              "    <tr>\n",
              "      <td>GBA</td>\n",
              "      <td>313.73</td>\n",
              "    </tr>\n",
              "    <tr>\n",
              "      <td>PSP</td>\n",
              "      <td>293.57</td>\n",
              "    </tr>\n",
              "    <tr>\n",
              "      <td>PC</td>\n",
              "      <td>258.86</td>\n",
              "    </tr>\n",
              "  </tbody>\n",
              "</table>\n",
              "</div>"
            ],
            "text/plain": [
              "          total_sales\n",
              "platform             \n",
              "PS2           1247.16\n",
              "X360           966.61\n",
              "PS3            935.19\n",
              "Wii            903.31\n",
              "DS             804.28\n",
              "PS             727.58\n",
              "PS4            314.14\n",
              "GBA            313.73\n",
              "PSP            293.57\n",
              "PC             258.86"
            ]
          },
          "metadata": {},
          "output_type": "display_data"
        },
        {
          "data": {
            "text/plain": [
              "Text(0.5, 0, 'Платформа')"
            ]
          },
          "execution_count": 36,
          "metadata": {},
          "output_type": "execute_result"
        },
        {
          "data": {
            "image/png": "[encoded data removed]",
            "text/plain": [
              "<Figure size 1296x432 with 1 Axes>"
            ]
          },
          "metadata": {
            "needs_background": "light"
          },
          "output_type": "display_data"
        }
      ],
      "source": [
        "sales_per_platform = df.pivot_table(index='platform', values = 'total_sales', aggfunc='sum').sort_values(by='total_sales', ascending=False)\n",
        "display(sales_per_platform.head(10))\n",
        "plt.figure(figsize = (18, 6))\n",
        "sns.barplot(data=sales_per_platform, x=sales_per_platform.index, y='total_sales')\n",
        "plt.title('Продажи по платформам')\n",
        "plt.ylabel('Объем продаж')\n",
        "plt.xlabel('Платформа')"
      ]
    },
    {
      "cell_type": "markdown",
      "metadata": {
        "id": "9pNcYkVJklvH"
      },
      "source": [
        "Посмотрим сначала данные по популярности платформ за все время. Порядок мест по количеству игр и по объему продаж несколько отличаются, хотя на первом месте и там, и там стоит PS2. Также в десятку лидеров по объему продаж входит PS4, который по количеству игр еще не дотянул до лидерства. \n",
        "На основе этих данных мы можем попробовать посчитать объем продаж за игру на каждой платформе."
      ]
    },
    {
      "cell_type": "code",
      "execution_count": null,
      "metadata": {
        "id": "C7zUpNjdmNZF"
      },
      "outputs": [],
      "source": [
        "sales_per_platform['games_quantity'] = df['platform'].value_counts()\n",
        "sales_per_platform['sales_per_game'] = sales_per_platform['total_sales'] / sales_per_platform['games_quantity']"
      ]
    },
    {
      "cell_type": "code",
      "execution_count": null,
      "metadata": {
        "colab": {
          "base_uri": "https://localhost:8080/",
          "height": 394
        },
        "id": "3xZC_GOplZpP",
        "outputId": "3d1c7929-da46-49c2-b778-4915276c6548"
      },
      "outputs": [
        {
          "data": {
            "text/html": [
              "<div>\n",
              "<style scoped>\n",
              "    .dataframe tbody tr th:only-of-type {\n",
              "        vertical-align: middle;\n",
              "    }\n",
              "\n",
              "    .dataframe tbody tr th {\n",
              "        vertical-align: top;\n",
              "    }\n",
              "\n",
              "    .dataframe thead th {\n",
              "        text-align: right;\n",
              "    }\n",
              "</style>\n",
              "<table border=\"1\" class=\"dataframe\">\n",
              "  <thead>\n",
              "    <tr style=\"text-align: right;\">\n",
              "      <th></th>\n",
              "      <th>total_sales</th>\n",
              "      <th>games_quantity</th>\n",
              "      <th>sales_per_game</th>\n",
              "    </tr>\n",
              "    <tr>\n",
              "      <th>platform</th>\n",
              "      <th></th>\n",
              "      <th></th>\n",
              "      <th></th>\n",
              "    </tr>\n",
              "  </thead>\n",
              "  <tbody>\n",
              "    <tr>\n",
              "      <td>GB</td>\n",
              "      <td>254.43</td>\n",
              "      <td>97</td>\n",
              "      <td>2.622990</td>\n",
              "    </tr>\n",
              "    <tr>\n",
              "      <td>NES</td>\n",
              "      <td>251.05</td>\n",
              "      <td>98</td>\n",
              "      <td>2.561735</td>\n",
              "    </tr>\n",
              "    <tr>\n",
              "      <td>GEN</td>\n",
              "      <td>28.35</td>\n",
              "      <td>27</td>\n",
              "      <td>1.050000</td>\n",
              "    </tr>\n",
              "    <tr>\n",
              "      <td>SNES</td>\n",
              "      <td>200.04</td>\n",
              "      <td>239</td>\n",
              "      <td>0.836987</td>\n",
              "    </tr>\n",
              "    <tr>\n",
              "      <td>PS4</td>\n",
              "      <td>314.14</td>\n",
              "      <td>392</td>\n",
              "      <td>0.801378</td>\n",
              "    </tr>\n",
              "    <tr>\n",
              "      <td>X360</td>\n",
              "      <td>966.61</td>\n",
              "      <td>1250</td>\n",
              "      <td>0.773288</td>\n",
              "    </tr>\n",
              "    <tr>\n",
              "      <td>2600</td>\n",
              "      <td>89.01</td>\n",
              "      <td>117</td>\n",
              "      <td>0.760769</td>\n",
              "    </tr>\n",
              "    <tr>\n",
              "      <td>PS3</td>\n",
              "      <td>935.19</td>\n",
              "      <td>1320</td>\n",
              "      <td>0.708477</td>\n",
              "    </tr>\n",
              "    <tr>\n",
              "      <td>Wii</td>\n",
              "      <td>903.31</td>\n",
              "      <td>1301</td>\n",
              "      <td>0.694320</td>\n",
              "    </tr>\n",
              "    <tr>\n",
              "      <td>N64</td>\n",
              "      <td>218.48</td>\n",
              "      <td>318</td>\n",
              "      <td>0.687044</td>\n",
              "    </tr>\n",
              "  </tbody>\n",
              "</table>\n",
              "</div>"
            ],
            "text/plain": [
              "          total_sales  games_quantity  sales_per_game\n",
              "platform                                             \n",
              "GB             254.43              97        2.622990\n",
              "NES            251.05              98        2.561735\n",
              "GEN             28.35              27        1.050000\n",
              "SNES           200.04             239        0.836987\n",
              "PS4            314.14             392        0.801378\n",
              "X360           966.61            1250        0.773288\n",
              "2600            89.01             117        0.760769\n",
              "PS3            935.19            1320        0.708477\n",
              "Wii            903.31            1301        0.694320\n",
              "N64            218.48             318        0.687044"
            ]
          },
          "metadata": {},
          "output_type": "display_data"
        }
      ],
      "source": [
        "display(sales_per_platform.sort_values(by='sales_per_game', ascending=False).head(10))"
      ]
    },
    {
      "cell_type": "markdown",
      "metadata": {
        "id": "fhOCAARMpX-R"
      },
      "source": [
        "Удивительно, но по продажам за игру вперед вышли совсем другие платформы - \"старички\" Gameboy и Nintendo. Наверное, как раз из-за небольшого размера рынка, отсутствия острой конкуренции и малого числа выходящих игр люди чаще покупали одинаковые игры. Сейчас же выбор намного шире."
      ]
    },
    {
      "cell_type": "markdown",
      "metadata": {
        "id": "eQkSXs09rewz"
      },
      "source": [
        "**Теперь изучим данные по платформам только за последние указанные годы**"
      ]
    },
    {
      "cell_type": "code",
      "execution_count": null,
      "metadata": {
        "colab": {
          "base_uri": "https://localhost:8080/"
        },
        "id": "AgQ_QY1pqhlw",
        "outputId": "a189dfad-7cd8-4c04-c489-82a783e3908f"
      },
      "outputs": [
        {
          "data": {
            "text/plain": [
              "DS      1987\n",
              "PS3     1319\n",
              "Wii     1301\n",
              "X360    1229\n",
              "PSP     1093\n",
              "PS2      811\n",
              "PC       787\n",
              "3DS      515\n",
              "PSV      429\n",
              "PS4      392\n",
              "Name: platform, dtype: int64"
            ]
          },
          "execution_count": 39,
          "metadata": {},
          "output_type": "execute_result"
        }
      ],
      "source": [
        "new_df['platform'].value_counts().head(10)"
      ]
    },
    {
      "cell_type": "code",
      "execution_count": null,
      "metadata": {
        "colab": {
          "base_uri": "https://localhost:8080/",
          "height": 785
        },
        "id": "qibL30zyqhoy",
        "outputId": "926b5b24-c4bc-4a1d-e08f-76c6ee56e860"
      },
      "outputs": [
        {
          "data": {
            "text/html": [
              "<div>\n",
              "<style scoped>\n",
              "    .dataframe tbody tr th:only-of-type {\n",
              "        vertical-align: middle;\n",
              "    }\n",
              "\n",
              "    .dataframe tbody tr th {\n",
              "        vertical-align: top;\n",
              "    }\n",
              "\n",
              "    .dataframe thead th {\n",
              "        text-align: right;\n",
              "    }\n",
              "</style>\n",
              "<table border=\"1\" class=\"dataframe\">\n",
              "  <thead>\n",
              "    <tr style=\"text-align: right;\">\n",
              "      <th></th>\n",
              "      <th>total_sales</th>\n",
              "    </tr>\n",
              "    <tr>\n",
              "      <th>platform</th>\n",
              "      <th></th>\n",
              "    </tr>\n",
              "  </thead>\n",
              "  <tbody>\n",
              "    <tr>\n",
              "      <td>X360</td>\n",
              "      <td>957.39</td>\n",
              "    </tr>\n",
              "    <tr>\n",
              "      <td>PS3</td>\n",
              "      <td>935.00</td>\n",
              "    </tr>\n",
              "    <tr>\n",
              "      <td>Wii</td>\n",
              "      <td>903.31</td>\n",
              "    </tr>\n",
              "    <tr>\n",
              "      <td>DS</td>\n",
              "      <td>656.85</td>\n",
              "    </tr>\n",
              "    <tr>\n",
              "      <td>PS4</td>\n",
              "      <td>314.14</td>\n",
              "    </tr>\n",
              "    <tr>\n",
              "      <td>PS2</td>\n",
              "      <td>267.68</td>\n",
              "    </tr>\n",
              "    <tr>\n",
              "      <td>3DS</td>\n",
              "      <td>258.53</td>\n",
              "    </tr>\n",
              "    <tr>\n",
              "      <td>PSP</td>\n",
              "      <td>242.67</td>\n",
              "    </tr>\n",
              "    <tr>\n",
              "      <td>PC</td>\n",
              "      <td>166.46</td>\n",
              "    </tr>\n",
              "    <tr>\n",
              "      <td>XOne</td>\n",
              "      <td>159.32</td>\n",
              "    </tr>\n",
              "  </tbody>\n",
              "</table>\n",
              "</div>"
            ],
            "text/plain": [
              "          total_sales\n",
              "platform             \n",
              "X360           957.39\n",
              "PS3            935.00\n",
              "Wii            903.31\n",
              "DS             656.85\n",
              "PS4            314.14\n",
              "PS2            267.68\n",
              "3DS            258.53\n",
              "PSP            242.67\n",
              "PC             166.46\n",
              "XOne           159.32"
            ]
          },
          "metadata": {},
          "output_type": "display_data"
        },
        {
          "data": {
            "text/plain": [
              "Text(0.5, 0, 'Платформа')"
            ]
          },
          "execution_count": 40,
          "metadata": {},
          "output_type": "execute_result"
        },
        {
          "data": {
            "image/png": "[encoded data removed]",
            "text/plain": [
              "<Figure size 1296x432 with 1 Axes>"
            ]
          },
          "metadata": {
            "needs_background": "light"
          },
          "output_type": "display_data"
        }
      ],
      "source": [
        "new_sales_per_platform = new_df.pivot_table(index='platform', values = 'total_sales', aggfunc='sum').sort_values(by='total_sales', ascending=False)\n",
        "display(new_sales_per_platform.head(10))\n",
        "plt.figure(figsize = (18, 6))\n",
        "sns.barplot(data=new_sales_per_platform, x=new_sales_per_platform.index, y='total_sales')\n",
        "plt.title('Продажи по платформам')\n",
        "plt.ylabel('Объем продаж')\n",
        "plt.xlabel('Платформа')"
      ]
    },
    {
      "cell_type": "code",
      "execution_count": null,
      "metadata": {
        "id": "t12529xjqhrx"
      },
      "outputs": [],
      "source": [
        "new_sales_per_platform['games_quantity'] = new_df['platform'].value_counts()\n",
        "new_sales_per_platform['sales_per_game'] = new_sales_per_platform['total_sales'] / new_sales_per_platform['games_quantity']"
      ]
    },
    {
      "cell_type": "code",
      "execution_count": null,
      "metadata": {
        "colab": {
          "base_uri": "https://localhost:8080/",
          "height": 394
        },
        "id": "SZmyAX3Rq62n",
        "outputId": "fe92682c-8fb5-480f-a6dc-21f00e3e1f8e"
      },
      "outputs": [
        {
          "data": {
            "text/html": [
              "<div>\n",
              "<style scoped>\n",
              "    .dataframe tbody tr th:only-of-type {\n",
              "        vertical-align: middle;\n",
              "    }\n",
              "\n",
              "    .dataframe tbody tr th {\n",
              "        vertical-align: top;\n",
              "    }\n",
              "\n",
              "    .dataframe thead th {\n",
              "        text-align: right;\n",
              "    }\n",
              "</style>\n",
              "<table border=\"1\" class=\"dataframe\">\n",
              "  <thead>\n",
              "    <tr style=\"text-align: right;\">\n",
              "      <th></th>\n",
              "      <th>total_sales</th>\n",
              "      <th>games_quantity</th>\n",
              "      <th>sales_per_game</th>\n",
              "    </tr>\n",
              "    <tr>\n",
              "      <th>platform</th>\n",
              "      <th></th>\n",
              "      <th></th>\n",
              "      <th></th>\n",
              "    </tr>\n",
              "  </thead>\n",
              "  <tbody>\n",
              "    <tr>\n",
              "      <td>PS4</td>\n",
              "      <td>314.14</td>\n",
              "      <td>392</td>\n",
              "      <td>0.801378</td>\n",
              "    </tr>\n",
              "    <tr>\n",
              "      <td>X360</td>\n",
              "      <td>957.39</td>\n",
              "      <td>1229</td>\n",
              "      <td>0.778999</td>\n",
              "    </tr>\n",
              "    <tr>\n",
              "      <td>PS3</td>\n",
              "      <td>935.00</td>\n",
              "      <td>1319</td>\n",
              "      <td>0.708870</td>\n",
              "    </tr>\n",
              "    <tr>\n",
              "      <td>Wii</td>\n",
              "      <td>903.31</td>\n",
              "      <td>1301</td>\n",
              "      <td>0.694320</td>\n",
              "    </tr>\n",
              "    <tr>\n",
              "      <td>XOne</td>\n",
              "      <td>159.32</td>\n",
              "      <td>247</td>\n",
              "      <td>0.645020</td>\n",
              "    </tr>\n",
              "    <tr>\n",
              "      <td>WiiU</td>\n",
              "      <td>82.19</td>\n",
              "      <td>147</td>\n",
              "      <td>0.559116</td>\n",
              "    </tr>\n",
              "    <tr>\n",
              "      <td>3DS</td>\n",
              "      <td>258.53</td>\n",
              "      <td>515</td>\n",
              "      <td>0.502000</td>\n",
              "    </tr>\n",
              "    <tr>\n",
              "      <td>DS</td>\n",
              "      <td>656.85</td>\n",
              "      <td>1987</td>\n",
              "      <td>0.330574</td>\n",
              "    </tr>\n",
              "    <tr>\n",
              "      <td>PS2</td>\n",
              "      <td>267.68</td>\n",
              "      <td>811</td>\n",
              "      <td>0.330062</td>\n",
              "    </tr>\n",
              "    <tr>\n",
              "      <td>GC</td>\n",
              "      <td>11.82</td>\n",
              "      <td>45</td>\n",
              "      <td>0.262667</td>\n",
              "    </tr>\n",
              "  </tbody>\n",
              "</table>\n",
              "</div>"
            ],
            "text/plain": [
              "          total_sales  games_quantity  sales_per_game\n",
              "platform                                             \n",
              "PS4            314.14             392        0.801378\n",
              "X360           957.39            1229        0.778999\n",
              "PS3            935.00            1319        0.708870\n",
              "Wii            903.31            1301        0.694320\n",
              "XOne           159.32             247        0.645020\n",
              "WiiU            82.19             147        0.559116\n",
              "3DS            258.53             515        0.502000\n",
              "DS             656.85            1987        0.330574\n",
              "PS2            267.68             811        0.330062\n",
              "GC              11.82              45        0.262667"
            ]
          },
          "metadata": {},
          "output_type": "display_data"
        }
      ],
      "source": [
        "display(new_sales_per_platform.sort_values(by='sales_per_game', ascending=False).head(10))"
      ]
    },
    {
      "cell_type": "markdown",
      "metadata": {
        "id": "hWoYSHqtta5v"
      },
      "source": [
        "За последние годы лидеры как по объемам продаж, так и в продажах за игру одинаковые - X360, PS3, PS4, Wii. У PS4 пока не так много продаж, так как и игр вышло немного, но каждая игра продается хорошо. Возьмем для дальнейшей работы только 10 популярных платформ. "
      ]
    },
    {
      "cell_type": "code",
      "execution_count": null,
      "metadata": {
        "colab": {
          "base_uri": "https://localhost:8080/",
          "height": 53
        },
        "id": "WGnR1dC0q65n",
        "outputId": "249c3a95-fb63-45b3-b882-8a6f9e94ff0f"
      },
      "outputs": [
        {
          "data": {
            "text/plain": [
              "array(['X360', 'PS3', 'Wii', 'DS', 'PS4', 'PS2', '3DS', 'PSP', 'PC',\n",
              "       'XOne'], dtype=object)"
            ]
          },
          "metadata": {},
          "output_type": "display_data"
        }
      ],
      "source": [
        "new_top_platforms = new_sales_per_platform.sort_values(by='total_sales', ascending=False).head(10).index.values\n",
        "display(new_top_platforms)"
      ]
    },
    {
      "cell_type": "markdown",
      "metadata": {
        "id": "pb9OTooauCDd"
      },
      "source": [
        "Теперь посмотрим общие тенденции продаж игр на платформе по годам."
      ]
    },
    {
      "cell_type": "code",
      "execution_count": null,
      "metadata": {
        "id": "kc6EBpzEO6iM"
      },
      "outputs": [],
      "source": [
        "new_data = new_df[new_df.platform.isin(new_top_platforms)]"
      ]
    },
    {
      "cell_type": "code",
      "execution_count": null,
      "metadata": {
        "colab": {
          "base_uri": "https://localhost:8080/",
          "height": 407
        },
        "id": "pfDFmPIFPp3z",
        "outputId": "2ad2a031-7960-4439-f496-9e53d2066850"
      },
      "outputs": [
        {
          "data": {
            "text/plain": [
              "Text(0.5, 0, 'Годы')"
            ]
          },
          "execution_count": 45,
          "metadata": {},
          "output_type": "execute_result"
        },
        {
          "data": {
            "image/png": "[encoded data removed]",
            "text/plain": [
              "<Figure size 864x432 with 1 Axes>"
            ]
          },
          "metadata": {
            "needs_background": "light"
          },
          "output_type": "display_data"
        }
      ],
      "source": [
        "new_data_pivot = new_data.pivot_table(index='year_of_release', columns='platform', values='total_sales', aggfunc='sum')\n",
        "new_data_pivot.plot(figsize=(12,6))\n",
        "plt.title('Продажи по платформам')\n",
        "plt.ylabel('Объем продаж')\n",
        "plt.xlabel('Годы')"
      ]
    },
    {
      "cell_type": "markdown",
      "metadata": {
        "id": "EAi63yUeul7A"
      },
      "source": [
        "В целом мы видим тенденцию к снижению продаж, видимо, рынок находится на спаде, пользователи переходят в мобильные и онлайн-игры. \"Цикл жизни\" платформы - 6-9 лет. Платформы, появившиеся не так давно, еще пользуются популярностью, они еще не исчерпали свой лимит - это PS4 и XOne."
      ]
    },
    {
      "cell_type": "markdown",
      "metadata": {
        "id": "xMEjGiWUTlO6"
      },
      "source": [
        "Диаграмма размаха"
      ]
    },
    {
      "cell_type": "code",
      "execution_count": null,
      "metadata": {
        "colab": {
          "base_uri": "https://localhost:8080/",
          "height": 503
        },
        "id": "z7LkaLIADOGb",
        "outputId": "fdce5de4-6059-4729-d51f-11fd93791429"
      },
      "outputs": [
        {
          "data": {
            "text/plain": [
              "<matplotlib.axes._subplots.AxesSubplot at 0x7f2a9c28c750>"
            ]
          },
          "execution_count": 46,
          "metadata": {},
          "output_type": "execute_result"
        },
        {
          "data": {
            "image/png": "[encoded data removed]",
            "text/plain": [
              "<Figure size 864x504 with 1 Axes>"
            ]
          },
          "metadata": {
            "needs_background": "light"
          },
          "output_type": "display_data"
        }
      ],
      "source": [
        "new_data_pivot.boxplot(figsize=(12, 7))"
      ]
    },
    {
      "cell_type": "code",
      "execution_count": null,
      "metadata": {
        "id": "IPIAACF0DwTu",
        "outputId": "347cdcac-74cf-4d6a-fafd-e48a42e1983a"
      },
      "outputs": [
        {
          "data": {
            "text/plain": [
              "[Text(0, 0.5, 'Продажи'),\n",
              " Text(0.5, 0, 'Платформа'),\n",
              " Text(0.5, 1.0, 'Объемы продаж по платформам')]"
            ]
          },
          "execution_count": 47,
          "metadata": {},
          "output_type": "execute_result"
        },
        {
          "data": {
            "image/png": "[encoded data removed]",
            "text/plain": [
              "<Figure size 864x504 with 1 Axes>"
            ]
          },
          "metadata": {
            "needs_background": "light"
          },
          "output_type": "display_data"
        }
      ],
      "source": [
        "plt.figure(figsize=(12, 7))\n",
        "sns.boxplot(data=new_data_pivot, palette=\"Set3\").set(xlabel='Платформа', ylabel='Продажи', title='Объемы продаж по платформам')"
      ]
    },
    {
      "cell_type": "markdown",
      "metadata": {
        "id": "uQ_HmuH2USU2"
      },
      "source": [
        "По диаграммам размаха видно, что платформы достаточно сильно различаются по объемам продаж. У игр на ПК, допустим, минимальный размах, объемы держатся примерно на одном уровне. У игр для Wii размах шире, а медиана тяготеет к цифре 50. Схожи продажи по размаху у DS, PS3 и X360, так как периоды и пики их популярности тоже похожи. У PS4 размах пока небольшой, так как платформа новая, но уровень медианы неплохой."
      ]
    },
    {
      "cell_type": "markdown",
      "metadata": {
        "id": "ATv_arUaUSfn"
      },
      "source": [
        "### **Влияние отзывов на продажи**"
      ]
    },
    {
      "cell_type": "markdown",
      "metadata": {
        "id": "4qcPhLDTu3P7"
      },
      "source": [
        "Для рассмотрения влияния отзывов на продажи возьмем сначала платформу PS3 - она достаточно долго существует, и на ее игры достаточно отзывов."
      ]
    },
    {
      "cell_type": "code",
      "execution_count": null,
      "metadata": {
        "id": "OxyDmWtmXswC"
      },
      "outputs": [],
      "source": [
        "PS3_data = new_data.query('platform == \"PS3\" and critic_score < 100 and user_score < 100')"
      ]
    },
    {
      "cell_type": "code",
      "execution_count": null,
      "metadata": {
        "colab": {
          "base_uri": "https://localhost:8080/",
          "height": 670
        },
        "id": "5w_Fd-PPVZnQ",
        "outputId": "6e0cd50a-e01a-45f8-cbab-d0c0f901feaf"
      },
      "outputs": [
        {
          "data": {
            "text/plain": [
              "<matplotlib.axes._subplots.AxesSubplot at 0x7f2a9004d0d0>"
            ]
          },
          "execution_count": 49,
          "metadata": {},
          "output_type": "execute_result"
        },
        {
          "data": {
            "image/png": "[encoded data removed]",
            "text/plain": [
              "<Figure size 576x360 with 1 Axes>"
            ]
          },
          "metadata": {
            "needs_background": "light"
          },
          "output_type": "display_data"
        },
        {
          "data": {
            "image/png": "[encoded data removed]",
            "text/plain": [
              "<Figure size 576x360 with 1 Axes>"
            ]
          },
          "metadata": {
            "needs_background": "light"
          },
          "output_type": "display_data"
        }
      ],
      "source": [
        "PS3_data.plot(x= 'critic_score', y= 'total_sales', style='o', grid=True, figsize=(8, 5))\n",
        "PS3_data.plot(x= 'user_score', y= 'total_sales', style='o', grid=True, figsize=(8, 5))"
      ]
    },
    {
      "cell_type": "code",
      "execution_count": null,
      "metadata": {
        "colab": {
          "base_uri": "https://localhost:8080/"
        },
        "id": "HQt7LavLvqOX",
        "outputId": "4a4ba588-9b49-4579-8134-98513299f8da"
      },
      "outputs": [
        {
          "name": "stdout",
          "output_type": "stream",
          "text": [
            "Корреляция между объемами продаж игр на PS3 и оценками критиков: 0.4276431890003964\n",
            "Корреляция между объемами продаж игр на PS3 и оценками пользователей: 0.14257309392034298\n"
          ]
        }
      ],
      "source": [
        "print('Корреляция между объемами продаж игр на PS3 и оценками критиков:', PS3_data['total_sales'].corr(PS3_data['critic_score']))\n",
        "print('Корреляция между объемами продаж игр на PS3 и оценками пользователей:', PS3_data['total_sales'].corr(PS3_data['user_score']))"
      ]
    },
    {
      "cell_type": "code",
      "execution_count": null,
      "metadata": {
        "id": "OUtKQkOlxavt"
      },
      "outputs": [],
      "source": [
        "filtered_data = new_data.query('critic_score < 100 and user_score < 100')"
      ]
    },
    {
      "cell_type": "markdown",
      "metadata": {
        "id": "ZDdSHHvdwFgQ"
      },
      "source": [
        "Есть небольшая корреляция, выше в случае оценок критиков и почти незначительная для оценок пользователей. Теперь посмотрим цифры для других платформ."
      ]
    },
    {
      "cell_type": "code",
      "execution_count": null,
      "metadata": {
        "colab": {
          "base_uri": "https://localhost:8080/",
          "height": 282
        },
        "id": "59uO1cL4BgIA",
        "outputId": "f9a6c53e-852e-44f8-ca2b-57ec03b09934"
      },
      "outputs": [
        {
          "data": {
            "image/png": "[encoded data removed]",
            "text/plain": [
              "<Figure size 2160x432 with 8 Axes>"
            ]
          },
          "metadata": {
            "needs_background": "light"
          },
          "output_type": "display_data"
        }
      ],
      "source": [
        "fig, ax = plt.subplots(nrows=1, ncols=8, sharey=True, figsize=(30,6))\n",
        "ax[0].scatter(data=filtered_data[filtered_data.platform=='DS'], x='critic_score',y='total_sales')\n",
        "ax[1].scatter(data=filtered_data[filtered_data.platform=='PC'], x='critic_score',y='total_sales')\n",
        "ax[2].scatter(data=filtered_data[filtered_data.platform=='PS2'], x='critic_score',y='total_sales')\n",
        "ax[3].scatter(data=filtered_data[filtered_data.platform=='PS3'], x='critic_score',y='total_sales')\n",
        "ax[4].scatter(data=filtered_data[filtered_data.platform=='PS4'], x='critic_score',y='total_sales')\n",
        "ax[5].scatter(data=filtered_data[filtered_data.platform=='PSP'], x='critic_score',y='total_sales')\n",
        "ax[6].scatter(data=filtered_data[filtered_data.platform=='Wii'], x='critic_score',y='total_sales')\n",
        "ax[7].scatter(data=filtered_data[filtered_data.platform=='X360'], x='critic_score',y='total_sales')\n",
        "\n",
        "fig.suptitle('Корреляция между продажами и оценкой критиков по платформам')\n",
        "ax[0].set_ylabel('Общие продажи')\n",
        "for i,e in enumerate(ax[:]):\n",
        "    e.set_xlabel('Оценка критиков')\n",
        "    platform_name = new_top_platforms[i]\n",
        "    e.set_title(platform_name)"
      ]
    },
    {
      "cell_type": "code",
      "execution_count": null,
      "metadata": {
        "colab": {
          "base_uri": "https://localhost:8080/",
          "height": 283
        },
        "id": "yEKV1jz8yQJY",
        "outputId": "01f0ec1d-68f7-442e-f115-697bc370bec1"
      },
      "outputs": [
        {
          "data": {
            "image/png": "[encoded data removed]",
            "text/plain": [
              "<Figure size 2160x432 with 8 Axes>"
            ]
          },
          "metadata": {
            "needs_background": "light"
          },
          "output_type": "display_data"
        }
      ],
      "source": [
        "fig, ax = plt.subplots(nrows=1, ncols=8, sharey=True, figsize=(30,6))\n",
        "ax[0].scatter(data=filtered_data[filtered_data.platform=='DS'], x='user_score',y='total_sales')\n",
        "ax[1].scatter(data=filtered_data[filtered_data.platform=='PC'], x='user_score',y='total_sales')\n",
        "ax[2].scatter(data=filtered_data[filtered_data.platform=='PS2'], x='user_score',y='total_sales')\n",
        "ax[3].scatter(data=filtered_data[filtered_data.platform=='PS3'], x='user_score',y='total_sales')\n",
        "ax[4].scatter(data=filtered_data[filtered_data.platform=='PS4'], x='user_score',y='total_sales')\n",
        "ax[5].scatter(data=filtered_data[filtered_data.platform=='PSP'], x='user_score',y='total_sales')\n",
        "ax[6].scatter(data=filtered_data[filtered_data.platform=='Wii'], x='user_score',y='total_sales')\n",
        "ax[7].scatter(data=filtered_data[filtered_data.platform=='X360'], x='user_score',y='total_sales')\n",
        "\n",
        "fig.suptitle('Корреляция между продажами и оценкой пользователей по платформам')\n",
        "ax[0].set_ylabel('Общие продажи')\n",
        "for i,e in enumerate(ax[:]):\n",
        "    e.set_xlabel('Оценка пользователей')\n",
        "    platform_name = new_top_platforms[i]\n",
        "    e.set_title(platform_name)"
      ]
    },
    {
      "cell_type": "code",
      "execution_count": null,
      "metadata": {
        "colab": {
          "base_uri": "https://localhost:8080/"
        },
        "id": "lOS7BGTlynqm",
        "outputId": "31ab836e-63ae-4a3c-bfd7-695535099224"
      },
      "outputs": [
        {
          "name": "stdout",
          "output_type": "stream",
          "text": [
            "Корреляция между продажами и оценкой критиков для X360\n",
            "0.3913955752982107\n",
            "Корреляция между продажами и оценкой критиков для PS3\n",
            "0.4276431890003964\n",
            "Корреляция между продажами и оценкой критиков для Wii\n",
            "0.17081496250645148\n",
            "Корреляция между продажами и оценкой критиков для DS\n",
            "0.22220610152518866\n",
            "Корреляция между продажами и оценкой критиков для PS4\n",
            "0.40589480145836687\n",
            "Корреляция между продажами и оценкой критиков для PS2\n",
            "0.42693179808354875\n",
            "Корреляция между продажами и оценкой критиков для 3DS\n",
            "0.3384264578906769\n",
            "Корреляция между продажами и оценкой критиков для PSP\n",
            "0.28892444417169444\n",
            "Корреляция между продажами и оценкой критиков для PC\n",
            "0.2869158216373983\n",
            "Корреляция между продажами и оценкой критиков для XOne\n",
            "0.4104220356129637\n"
          ]
        }
      ],
      "source": [
        "for i in new_top_platforms:\n",
        "  print('Корреляция между продажами и оценкой критиков для',i)\n",
        "  print(filtered_data.loc[filtered_data['platform'] == i]['total_sales'].corr(filtered_data.loc[filtered_data['platform'] == i]['critic_score']))"
      ]
    },
    {
      "cell_type": "code",
      "execution_count": null,
      "metadata": {
        "colab": {
          "base_uri": "https://localhost:8080/"
        },
        "id": "nduLmOTcyeAu",
        "outputId": "5919de68-8973-4917-efe3-7ba3891f236c"
      },
      "outputs": [
        {
          "name": "stdout",
          "output_type": "stream",
          "text": [
            "Корреляция между продажами и оценкой пользователей для X360\n",
            "0.11061174161307452\n",
            "Корреляция между продажами и оценкой пользователей для PS3\n",
            "0.14257309392034298\n",
            "Корреляция между продажами и оценкой пользователей для Wii\n",
            "0.11142414188252159\n",
            "Корреляция между продажами и оценкой пользователей для DS\n",
            "0.12944307009563394\n",
            "Корреляция между продажами и оценкой пользователей для PS4\n",
            "-0.03362497596528878\n",
            "Корреляция между продажами и оценкой пользователей для PS2\n",
            "0.16820590664926705\n",
            "Корреляция между продажами и оценкой пользователей для 3DS\n",
            "0.2324435810781493\n",
            "Корреляция между продажами и оценкой пользователей для PSP\n",
            "0.24951893790296933\n",
            "Корреляция между продажами и оценкой пользователей для PC\n",
            "-0.023698051892689562\n",
            "Корреляция между продажами и оценкой пользователей для XOne\n",
            "-0.09400318326920852\n"
          ]
        }
      ],
      "source": [
        "for i in new_top_platforms:\n",
        "  print('Корреляция между продажами и оценкой пользователей для',i)\n",
        "  print(filtered_data.loc[filtered_data['platform'] == i]['total_sales'].corr(filtered_data.loc[filtered_data['platform'] == i]['user_score']))"
      ]
    },
    {
      "cell_type": "markdown",
      "metadata": {
        "id": "aSdfYlBRrNlX"
      },
      "source": [
        "Для прочих платформ тоже заметна небольшая корреляция с оценкой критиков - чем выше оценка, тем больше объем продаж. А заметного влияния от оценки пользователей не замечено."
      ]
    },
    {
      "cell_type": "markdown",
      "metadata": {
        "id": "z4kPUUz1rSl2"
      },
      "source": [
        "### **Влияние жанра игры на продажи**"
      ]
    },
    {
      "cell_type": "markdown",
      "metadata": {
        "id": "IPtIw0C1t_oe"
      },
      "source": [
        "Созадим таблицу с суммой продаж по каждому жанру, а также построим по ней столбчатую диаграмму."
      ]
    },
    {
      "cell_type": "code",
      "execution_count": null,
      "metadata": {
        "colab": {
          "base_uri": "https://localhost:8080/",
          "height": 898
        },
        "id": "s9f8n_lOqU5b",
        "outputId": "e9e22ea9-c23c-4ceb-b161-15ce539160eb"
      },
      "outputs": [
        {
          "data": {
            "text/html": [
              "<div>\n",
              "<style scoped>\n",
              "    .dataframe tbody tr th:only-of-type {\n",
              "        vertical-align: middle;\n",
              "    }\n",
              "\n",
              "    .dataframe tbody tr th {\n",
              "        vertical-align: top;\n",
              "    }\n",
              "\n",
              "    .dataframe thead th {\n",
              "        text-align: right;\n",
              "    }\n",
              "</style>\n",
              "<table border=\"1\" class=\"dataframe\">\n",
              "  <thead>\n",
              "    <tr style=\"text-align: right;\">\n",
              "      <th></th>\n",
              "      <th>total_sales</th>\n",
              "    </tr>\n",
              "    <tr>\n",
              "      <th>genre</th>\n",
              "      <th></th>\n",
              "    </tr>\n",
              "  </thead>\n",
              "  <tbody>\n",
              "    <tr>\n",
              "      <td>Action</td>\n",
              "      <td>1085.99</td>\n",
              "    </tr>\n",
              "    <tr>\n",
              "      <td>Sports</td>\n",
              "      <td>785.20</td>\n",
              "    </tr>\n",
              "    <tr>\n",
              "      <td>Shooter</td>\n",
              "      <td>711.21</td>\n",
              "    </tr>\n",
              "    <tr>\n",
              "      <td>Misc</td>\n",
              "      <td>538.79</td>\n",
              "    </tr>\n",
              "    <tr>\n",
              "      <td>Role-Playing</td>\n",
              "      <td>506.29</td>\n",
              "    </tr>\n",
              "    <tr>\n",
              "      <td>Racing</td>\n",
              "      <td>283.94</td>\n",
              "    </tr>\n",
              "    <tr>\n",
              "      <td>Platform</td>\n",
              "      <td>253.52</td>\n",
              "    </tr>\n",
              "    <tr>\n",
              "      <td>Simulation</td>\n",
              "      <td>220.36</td>\n",
              "    </tr>\n",
              "    <tr>\n",
              "      <td>Fighting</td>\n",
              "      <td>179.26</td>\n",
              "    </tr>\n",
              "    <tr>\n",
              "      <td>Adventure</td>\n",
              "      <td>135.66</td>\n",
              "    </tr>\n",
              "    <tr>\n",
              "      <td>Puzzle</td>\n",
              "      <td>88.99</td>\n",
              "    </tr>\n",
              "    <tr>\n",
              "      <td>Strategy</td>\n",
              "      <td>72.14</td>\n",
              "    </tr>\n",
              "  </tbody>\n",
              "</table>\n",
              "</div>"
            ],
            "text/plain": [
              "              total_sales\n",
              "genre                    \n",
              "Action            1085.99\n",
              "Sports             785.20\n",
              "Shooter            711.21\n",
              "Misc               538.79\n",
              "Role-Playing       506.29\n",
              "Racing             283.94\n",
              "Platform           253.52\n",
              "Simulation         220.36\n",
              "Fighting           179.26\n",
              "Adventure          135.66\n",
              "Puzzle              88.99\n",
              "Strategy            72.14"
            ]
          },
          "metadata": {},
          "output_type": "display_data"
        },
        {
          "data": {
            "text/plain": [
              "<matplotlib.axes._subplots.AxesSubplot at 0x7f2a8d2e90d0>"
            ]
          },
          "execution_count": 56,
          "metadata": {},
          "output_type": "execute_result"
        },
        {
          "data": {
            "image/png": "[encoded data removed]",
            "text/plain": [
              "<Figure size 720x432 with 1 Axes>"
            ]
          },
          "metadata": {
            "needs_background": "light"
          },
          "output_type": "display_data"
        }
      ],
      "source": [
        "genres_pivot = new_data.pivot_table(index='genre', values='total_sales', aggfunc='sum').sort_values(by='total_sales', ascending=False)\n",
        "display(genres_pivot)\n",
        "genres_pivot.plot(kind='bar', figsize=(10,6))"
      ]
    },
    {
      "cell_type": "code",
      "execution_count": null,
      "metadata": {
        "colab": {
          "base_uri": "https://localhost:8080/",
          "height": 457
        },
        "id": "BlFuh1w3uKpk",
        "outputId": "1db49dee-5467-44a4-fac1-d77de6a72e66"
      },
      "outputs": [
        {
          "data": {
            "text/html": [
              "<div>\n",
              "<style scoped>\n",
              "    .dataframe tbody tr th:only-of-type {\n",
              "        vertical-align: middle;\n",
              "    }\n",
              "\n",
              "    .dataframe tbody tr th {\n",
              "        vertical-align: top;\n",
              "    }\n",
              "\n",
              "    .dataframe thead th {\n",
              "        text-align: right;\n",
              "    }\n",
              "</style>\n",
              "<table border=\"1\" class=\"dataframe\">\n",
              "  <thead>\n",
              "    <tr style=\"text-align: right;\">\n",
              "      <th></th>\n",
              "      <th>total_sales</th>\n",
              "      <th>quantity</th>\n",
              "      <th>sales_per_game</th>\n",
              "    </tr>\n",
              "    <tr>\n",
              "      <th>genre</th>\n",
              "      <th></th>\n",
              "      <th></th>\n",
              "      <th></th>\n",
              "    </tr>\n",
              "  </thead>\n",
              "  <tbody>\n",
              "    <tr>\n",
              "      <td>Shooter</td>\n",
              "      <td>711.21</td>\n",
              "      <td>719</td>\n",
              "      <td>0.989166</td>\n",
              "    </tr>\n",
              "    <tr>\n",
              "      <td>Platform</td>\n",
              "      <td>253.52</td>\n",
              "      <td>299</td>\n",
              "      <td>0.847893</td>\n",
              "    </tr>\n",
              "    <tr>\n",
              "      <td>Sports</td>\n",
              "      <td>785.20</td>\n",
              "      <td>1211</td>\n",
              "      <td>0.648390</td>\n",
              "    </tr>\n",
              "    <tr>\n",
              "      <td>Role-Playing</td>\n",
              "      <td>506.29</td>\n",
              "      <td>898</td>\n",
              "      <td>0.563797</td>\n",
              "    </tr>\n",
              "    <tr>\n",
              "      <td>Racing</td>\n",
              "      <td>283.94</td>\n",
              "      <td>533</td>\n",
              "      <td>0.532720</td>\n",
              "    </tr>\n",
              "    <tr>\n",
              "      <td>Action</td>\n",
              "      <td>1085.99</td>\n",
              "      <td>2155</td>\n",
              "      <td>0.503940</td>\n",
              "    </tr>\n",
              "    <tr>\n",
              "      <td>Fighting</td>\n",
              "      <td>179.26</td>\n",
              "      <td>389</td>\n",
              "      <td>0.460823</td>\n",
              "    </tr>\n",
              "    <tr>\n",
              "      <td>Misc</td>\n",
              "      <td>538.79</td>\n",
              "      <td>1209</td>\n",
              "      <td>0.445649</td>\n",
              "    </tr>\n",
              "    <tr>\n",
              "      <td>Simulation</td>\n",
              "      <td>220.36</td>\n",
              "      <td>601</td>\n",
              "      <td>0.366656</td>\n",
              "    </tr>\n",
              "    <tr>\n",
              "      <td>Puzzle</td>\n",
              "      <td>88.99</td>\n",
              "      <td>361</td>\n",
              "      <td>0.246510</td>\n",
              "    </tr>\n",
              "    <tr>\n",
              "      <td>Strategy</td>\n",
              "      <td>72.14</td>\n",
              "      <td>386</td>\n",
              "      <td>0.186891</td>\n",
              "    </tr>\n",
              "    <tr>\n",
              "      <td>Adventure</td>\n",
              "      <td>135.66</td>\n",
              "      <td>920</td>\n",
              "      <td>0.147457</td>\n",
              "    </tr>\n",
              "  </tbody>\n",
              "</table>\n",
              "</div>"
            ],
            "text/plain": [
              "              total_sales  quantity  sales_per_game\n",
              "genre                                              \n",
              "Shooter            711.21       719        0.989166\n",
              "Platform           253.52       299        0.847893\n",
              "Sports             785.20      1211        0.648390\n",
              "Role-Playing       506.29       898        0.563797\n",
              "Racing             283.94       533        0.532720\n",
              "Action            1085.99      2155        0.503940\n",
              "Fighting           179.26       389        0.460823\n",
              "Misc               538.79      1209        0.445649\n",
              "Simulation         220.36       601        0.366656\n",
              "Puzzle              88.99       361        0.246510\n",
              "Strategy            72.14       386        0.186891\n",
              "Adventure          135.66       920        0.147457"
            ]
          },
          "metadata": {},
          "output_type": "display_data"
        }
      ],
      "source": [
        "genres_pivot['quantity'] = new_data['genre'].value_counts()\n",
        "genres_pivot['sales_per_game'] = genres_pivot['total_sales'] / genres_pivot['quantity']\n",
        "display(genres_pivot.sort_values(by='sales_per_game', ascending=False))"
      ]
    },
    {
      "cell_type": "markdown",
      "metadata": {
        "id": "BZFYodDGuJyy"
      },
      "source": [
        "Самые популярные игры по объему продаж - жанров экшн, спорт и шутеры. Пазлы и стратегии приносят намного меньше денег. Что касается продаж за одну игру, то прибыльнее всего шутеры, а также платформы и спорт. К анти-лидерам пазлам и стратегиям здесь присоединяются игры-приключения."
      ]
    },
    {
      "cell_type": "markdown",
      "metadata": {
        "id": "VEtKzxFZvFp3"
      },
      "source": [
        "## Портрет пользователя каждого региона"
      ]
    },
    {
      "cell_type": "markdown",
      "metadata": {
        "id": "NlyT31f54Ue3"
      },
      "source": [
        "### *Северная Америка*"
      ]
    },
    {
      "cell_type": "code",
      "execution_count": null,
      "metadata": {
        "colab": {
          "base_uri": "https://localhost:8080/",
          "height": 534
        },
        "id": "u769eHlOwszi",
        "outputId": "f5efcb2a-179c-44c4-e7f1-290b2769ad3a"
      },
      "outputs": [
        {
          "data": {
            "text/html": [
              "<div>\n",
              "<style scoped>\n",
              "    .dataframe tbody tr th:only-of-type {\n",
              "        vertical-align: middle;\n",
              "    }\n",
              "\n",
              "    .dataframe tbody tr th {\n",
              "        vertical-align: top;\n",
              "    }\n",
              "\n",
              "    .dataframe thead th {\n",
              "        text-align: right;\n",
              "    }\n",
              "</style>\n",
              "<table border=\"1\" class=\"dataframe\">\n",
              "  <thead>\n",
              "    <tr style=\"text-align: right;\">\n",
              "      <th></th>\n",
              "      <th>na_sales</th>\n",
              "    </tr>\n",
              "    <tr>\n",
              "      <th>platform</th>\n",
              "      <th></th>\n",
              "    </tr>\n",
              "  </thead>\n",
              "  <tbody>\n",
              "    <tr>\n",
              "      <td>X360</td>\n",
              "      <td>591.47</td>\n",
              "    </tr>\n",
              "    <tr>\n",
              "      <td>Wii</td>\n",
              "      <td>494.01</td>\n",
              "    </tr>\n",
              "    <tr>\n",
              "      <td>PS3</td>\n",
              "      <td>391.60</td>\n",
              "    </tr>\n",
              "    <tr>\n",
              "      <td>DS</td>\n",
              "      <td>325.06</td>\n",
              "    </tr>\n",
              "    <tr>\n",
              "      <td>PS2</td>\n",
              "      <td>115.75</td>\n",
              "    </tr>\n",
              "  </tbody>\n",
              "</table>\n",
              "</div>"
            ],
            "text/plain": [
              "          na_sales\n",
              "platform          \n",
              "X360        591.47\n",
              "Wii         494.01\n",
              "PS3         391.60\n",
              "DS          325.06\n",
              "PS2         115.75"
            ]
          },
          "metadata": {},
          "output_type": "display_data"
        },
        {
          "data": {
            "text/plain": [
              "<matplotlib.axes._subplots.AxesSubplot at 0x7f2a8d27c1d0>"
            ]
          },
          "execution_count": 58,
          "metadata": {},
          "output_type": "execute_result"
        },
        {
          "data": {
            "image/png": "[encoded data removed]",
            "text/plain": [
              "<Figure size 504x288 with 1 Axes>"
            ]
          },
          "metadata": {
            "needs_background": "light"
          },
          "output_type": "display_data"
        }
      ],
      "source": [
        "na_platform_pivot = new_data.pivot_table(index='platform', values='na_sales', aggfunc='sum').sort_values(by='na_sales', ascending=False).head(5)\n",
        "display(na_platform_pivot)\n",
        "na_platform_pivot.plot(kind='bar', figsize=(7, 4), title='Объем продаж по платформам в Северной Америке')"
      ]
    },
    {
      "cell_type": "code",
      "execution_count": null,
      "metadata": {
        "colab": {
          "base_uri": "https://localhost:8080/",
          "height": 570
        },
        "id": "AAJr0wfbws28",
        "outputId": "bedc4b6c-aa24-4011-bb85-b64685161da4"
      },
      "outputs": [
        {
          "data": {
            "text/html": [
              "<div>\n",
              "<style scoped>\n",
              "    .dataframe tbody tr th:only-of-type {\n",
              "        vertical-align: middle;\n",
              "    }\n",
              "\n",
              "    .dataframe tbody tr th {\n",
              "        vertical-align: top;\n",
              "    }\n",
              "\n",
              "    .dataframe thead th {\n",
              "        text-align: right;\n",
              "    }\n",
              "</style>\n",
              "<table border=\"1\" class=\"dataframe\">\n",
              "  <thead>\n",
              "    <tr style=\"text-align: right;\">\n",
              "      <th></th>\n",
              "      <th>na_sales</th>\n",
              "    </tr>\n",
              "    <tr>\n",
              "      <th>genre</th>\n",
              "      <th></th>\n",
              "    </tr>\n",
              "  </thead>\n",
              "  <tbody>\n",
              "    <tr>\n",
              "      <td>Action</td>\n",
              "      <td>517.67</td>\n",
              "    </tr>\n",
              "    <tr>\n",
              "      <td>Sports</td>\n",
              "      <td>392.53</td>\n",
              "    </tr>\n",
              "    <tr>\n",
              "      <td>Shooter</td>\n",
              "      <td>370.93</td>\n",
              "    </tr>\n",
              "    <tr>\n",
              "      <td>Misc</td>\n",
              "      <td>278.78</td>\n",
              "    </tr>\n",
              "    <tr>\n",
              "      <td>Role-Playing</td>\n",
              "      <td>196.26</td>\n",
              "    </tr>\n",
              "  </tbody>\n",
              "</table>\n",
              "</div>"
            ],
            "text/plain": [
              "              na_sales\n",
              "genre                 \n",
              "Action          517.67\n",
              "Sports          392.53\n",
              "Shooter         370.93\n",
              "Misc            278.78\n",
              "Role-Playing    196.26"
            ]
          },
          "metadata": {},
          "output_type": "display_data"
        },
        {
          "data": {
            "text/plain": [
              "<matplotlib.axes._subplots.AxesSubplot at 0x7f2a8d1fe390>"
            ]
          },
          "execution_count": 59,
          "metadata": {},
          "output_type": "execute_result"
        },
        {
          "data": {
            "image/png": "[encoded data removed]",
            "text/plain": [
              "<Figure size 504x288 with 1 Axes>"
            ]
          },
          "metadata": {
            "needs_background": "light"
          },
          "output_type": "display_data"
        }
      ],
      "source": [
        "na_genre_pivot = new_data.pivot_table(index='genre', values='na_sales', aggfunc='sum').sort_values(by='na_sales', ascending=False).head(5)\n",
        "display(na_genre_pivot)\n",
        "na_genre_pivot.plot(kind='bar', figsize=(7, 4), title='Объем продаж по жанрам в Северной Америке')"
      ]
    },
    {
      "cell_type": "markdown",
      "metadata": {
        "id": "0jF022c_4Pla"
      },
      "source": [
        "В Америке больше популярны игры для X360, Wii и PS3, а из жанров пользуются популярностью экшн, спортивные игры и шутеры. То есть, лидеры те же самые, что и по всему рынку."
      ]
    },
    {
      "cell_type": "markdown",
      "metadata": {
        "id": "1awV3hjctZn2"
      },
      "source": [
        "### *Европа*"
      ]
    },
    {
      "cell_type": "code",
      "execution_count": null,
      "metadata": {
        "colab": {
          "base_uri": "https://localhost:8080/",
          "height": 534
        },
        "id": "4I-kuoPE4xSR",
        "outputId": "8093e6f4-1928-491f-a4cd-1ee3eb8c2937"
      },
      "outputs": [
        {
          "data": {
            "text/html": [
              "<div>\n",
              "<style scoped>\n",
              "    .dataframe tbody tr th:only-of-type {\n",
              "        vertical-align: middle;\n",
              "    }\n",
              "\n",
              "    .dataframe tbody tr th {\n",
              "        vertical-align: top;\n",
              "    }\n",
              "\n",
              "    .dataframe thead th {\n",
              "        text-align: right;\n",
              "    }\n",
              "</style>\n",
              "<table border=\"1\" class=\"dataframe\">\n",
              "  <thead>\n",
              "    <tr style=\"text-align: right;\">\n",
              "      <th></th>\n",
              "      <th>eu_sales</th>\n",
              "    </tr>\n",
              "    <tr>\n",
              "      <th>platform</th>\n",
              "      <th></th>\n",
              "    </tr>\n",
              "  </thead>\n",
              "  <tbody>\n",
              "    <tr>\n",
              "      <td>PS3</td>\n",
              "      <td>328.83</td>\n",
              "    </tr>\n",
              "    <tr>\n",
              "      <td>X360</td>\n",
              "      <td>269.25</td>\n",
              "    </tr>\n",
              "    <tr>\n",
              "      <td>Wii</td>\n",
              "      <td>261.48</td>\n",
              "    </tr>\n",
              "    <tr>\n",
              "      <td>DS</td>\n",
              "      <td>143.30</td>\n",
              "    </tr>\n",
              "    <tr>\n",
              "      <td>PS4</td>\n",
              "      <td>141.09</td>\n",
              "    </tr>\n",
              "  </tbody>\n",
              "</table>\n",
              "</div>"
            ],
            "text/plain": [
              "          eu_sales\n",
              "platform          \n",
              "PS3         328.83\n",
              "X360        269.25\n",
              "Wii         261.48\n",
              "DS          143.30\n",
              "PS4         141.09"
            ]
          },
          "metadata": {},
          "output_type": "display_data"
        },
        {
          "data": {
            "text/plain": [
              "<matplotlib.axes._subplots.AxesSubplot at 0x7f2a8ce2e6d0>"
            ]
          },
          "execution_count": 60,
          "metadata": {},
          "output_type": "execute_result"
        },
        {
          "data": {
            "image/png": "[encoded data removed]",
            "text/plain": [
              "<Figure size 504x288 with 1 Axes>"
            ]
          },
          "metadata": {
            "needs_background": "light"
          },
          "output_type": "display_data"
        }
      ],
      "source": [
        "eu_platform_pivot = new_data.pivot_table(index='platform', values='eu_sales', aggfunc='sum').sort_values(by='eu_sales', ascending=False).head(5)\n",
        "display(eu_platform_pivot)\n",
        "eu_platform_pivot.plot(kind='bar', figsize=(7, 4), title='Объем продаж по платформам в Европе')"
      ]
    },
    {
      "cell_type": "code",
      "execution_count": null,
      "metadata": {
        "colab": {
          "base_uri": "https://localhost:8080/",
          "height": 547
        },
        "id": "3oPnfN7f4xVu",
        "outputId": "1460c8e2-5897-4311-b480-6a8e5d1b38d4"
      },
      "outputs": [
        {
          "data": {
            "text/html": [
              "<div>\n",
              "<style scoped>\n",
              "    .dataframe tbody tr th:only-of-type {\n",
              "        vertical-align: middle;\n",
              "    }\n",
              "\n",
              "    .dataframe tbody tr th {\n",
              "        vertical-align: top;\n",
              "    }\n",
              "\n",
              "    .dataframe thead th {\n",
              "        text-align: right;\n",
              "    }\n",
              "</style>\n",
              "<table border=\"1\" class=\"dataframe\">\n",
              "  <thead>\n",
              "    <tr style=\"text-align: right;\">\n",
              "      <th></th>\n",
              "      <th>eu_sales</th>\n",
              "    </tr>\n",
              "    <tr>\n",
              "      <th>genre</th>\n",
              "      <th></th>\n",
              "    </tr>\n",
              "  </thead>\n",
              "  <tbody>\n",
              "    <tr>\n",
              "      <td>Action</td>\n",
              "      <td>342.88</td>\n",
              "    </tr>\n",
              "    <tr>\n",
              "      <td>Sports</td>\n",
              "      <td>248.85</td>\n",
              "    </tr>\n",
              "    <tr>\n",
              "      <td>Shooter</td>\n",
              "      <td>237.51</td>\n",
              "    </tr>\n",
              "    <tr>\n",
              "      <td>Misc</td>\n",
              "      <td>142.34</td>\n",
              "    </tr>\n",
              "    <tr>\n",
              "      <td>Racing</td>\n",
              "      <td>108.74</td>\n",
              "    </tr>\n",
              "  </tbody>\n",
              "</table>\n",
              "</div>"
            ],
            "text/plain": [
              "         eu_sales\n",
              "genre            \n",
              "Action     342.88\n",
              "Sports     248.85\n",
              "Shooter    237.51\n",
              "Misc       142.34\n",
              "Racing     108.74"
            ]
          },
          "metadata": {},
          "output_type": "display_data"
        },
        {
          "data": {
            "text/plain": [
              "<matplotlib.axes._subplots.AxesSubplot at 0x7f2a8cdb28d0>"
            ]
          },
          "execution_count": 61,
          "metadata": {},
          "output_type": "execute_result"
        },
        {
          "data": {
            "image/png": "[encoded data removed]",
            "text/plain": [
              "<Figure size 504x288 with 1 Axes>"
            ]
          },
          "metadata": {
            "needs_background": "light"
          },
          "output_type": "display_data"
        }
      ],
      "source": [
        "eu_genre_pivot = new_data.pivot_table(index='genre', values='eu_sales', aggfunc='sum').sort_values(by='eu_sales', ascending=False).head(5)\n",
        "display(eu_genre_pivot)\n",
        "eu_genre_pivot.plot(kind='bar', figsize=(7, 4), title='Объем продаж по жанрам в Европе')"
      ]
    },
    {
      "cell_type": "markdown",
      "metadata": {
        "id": "4tRgJeUqLnJq"
      },
      "source": [
        "В Европе ситуация на рынке похожа, только среди платформ чуть большей популярностью пользуется PS3, но тройка лидеров та же: X360, Wii и PS3. Что касается жанров, то ситуация такая же, как в Америке - экшн, спорт и шутеры, только пятое место вместе ролевых игр занимают гонки."
      ]
    },
    {
      "cell_type": "markdown",
      "metadata": {
        "id": "1DKoqwCTLnTo"
      },
      "source": [
        "### *Япония*"
      ]
    },
    {
      "cell_type": "code",
      "execution_count": null,
      "metadata": {
        "colab": {
          "base_uri": "https://localhost:8080/",
          "height": 529
        },
        "id": "l21u0qN7Lnuq",
        "outputId": "3ecdc380-e295-408a-b2e9-512efbcd0ac0"
      },
      "outputs": [
        {
          "data": {
            "text/html": [
              "<div>\n",
              "<style scoped>\n",
              "    .dataframe tbody tr th:only-of-type {\n",
              "        vertical-align: middle;\n",
              "    }\n",
              "\n",
              "    .dataframe tbody tr th {\n",
              "        vertical-align: top;\n",
              "    }\n",
              "\n",
              "    .dataframe thead th {\n",
              "        text-align: right;\n",
              "    }\n",
              "</style>\n",
              "<table border=\"1\" class=\"dataframe\">\n",
              "  <thead>\n",
              "    <tr style=\"text-align: right;\">\n",
              "      <th></th>\n",
              "      <th>jp_sales</th>\n",
              "    </tr>\n",
              "    <tr>\n",
              "      <th>platform</th>\n",
              "      <th></th>\n",
              "    </tr>\n",
              "  </thead>\n",
              "  <tbody>\n",
              "    <tr>\n",
              "      <td>DS</td>\n",
              "      <td>141.49</td>\n",
              "    </tr>\n",
              "    <tr>\n",
              "      <td>3DS</td>\n",
              "      <td>100.64</td>\n",
              "    </tr>\n",
              "    <tr>\n",
              "      <td>PS3</td>\n",
              "      <td>79.51</td>\n",
              "    </tr>\n",
              "    <tr>\n",
              "      <td>PSP</td>\n",
              "      <td>71.13</td>\n",
              "    </tr>\n",
              "    <tr>\n",
              "      <td>Wii</td>\n",
              "      <td>69.05</td>\n",
              "    </tr>\n",
              "  </tbody>\n",
              "</table>\n",
              "</div>"
            ],
            "text/plain": [
              "          jp_sales\n",
              "platform          \n",
              "DS          141.49\n",
              "3DS         100.64\n",
              "PS3          79.51\n",
              "PSP          71.13\n",
              "Wii          69.05"
            ]
          },
          "metadata": {},
          "output_type": "display_data"
        },
        {
          "data": {
            "text/plain": [
              "<matplotlib.axes._subplots.AxesSubplot at 0x7f2a8d641f90>"
            ]
          },
          "execution_count": 62,
          "metadata": {},
          "output_type": "execute_result"
        },
        {
          "data": {
            "image/png": "[encoded data removed]",
            "text/plain": [
              "<Figure size 504x288 with 1 Axes>"
            ]
          },
          "metadata": {
            "needs_background": "light"
          },
          "output_type": "display_data"
        }
      ],
      "source": [
        "jp_platform_pivot = new_data.pivot_table(index='platform', values='jp_sales', aggfunc='sum').sort_values(by='jp_sales', ascending=False).head(5)\n",
        "display(jp_platform_pivot)\n",
        "jp_platform_pivot.plot(kind='bar', figsize=(7,4), title='Объем продаж по платформам в Японии')"
      ]
    },
    {
      "cell_type": "markdown",
      "metadata": {
        "id": "dOMiQmIy_NL5"
      },
      "source": [
        "В Японии ситуация отличается - X360 не входит даже в пятерку, а лидируют DS и 3DS, также среди популярных PSP. Лидеры платформ, общие для всех трех рынков - PS3 и Wii."
      ]
    },
    {
      "cell_type": "code",
      "execution_count": null,
      "metadata": {
        "colab": {
          "base_uri": "https://localhost:8080/",
          "height": 570
        },
        "id": "gbHV1EhQLnxK",
        "outputId": "e3f8d4b9-1b71-4884-dfff-5d5b1e915f8d"
      },
      "outputs": [
        {
          "data": {
            "text/html": [
              "<div>\n",
              "<style scoped>\n",
              "    .dataframe tbody tr th:only-of-type {\n",
              "        vertical-align: middle;\n",
              "    }\n",
              "\n",
              "    .dataframe tbody tr th {\n",
              "        vertical-align: top;\n",
              "    }\n",
              "\n",
              "    .dataframe thead th {\n",
              "        text-align: right;\n",
              "    }\n",
              "</style>\n",
              "<table border=\"1\" class=\"dataframe\">\n",
              "  <thead>\n",
              "    <tr style=\"text-align: right;\">\n",
              "      <th></th>\n",
              "      <th>jp_sales</th>\n",
              "    </tr>\n",
              "    <tr>\n",
              "      <th>genre</th>\n",
              "      <th></th>\n",
              "    </tr>\n",
              "  </thead>\n",
              "  <tbody>\n",
              "    <tr>\n",
              "      <td>Role-Playing</td>\n",
              "      <td>160.88</td>\n",
              "    </tr>\n",
              "    <tr>\n",
              "      <td>Action</td>\n",
              "      <td>94.04</td>\n",
              "    </tr>\n",
              "    <tr>\n",
              "      <td>Misc</td>\n",
              "      <td>60.40</td>\n",
              "    </tr>\n",
              "    <tr>\n",
              "      <td>Sports</td>\n",
              "      <td>47.58</td>\n",
              "    </tr>\n",
              "    <tr>\n",
              "      <td>Platform</td>\n",
              "      <td>31.46</td>\n",
              "    </tr>\n",
              "  </tbody>\n",
              "</table>\n",
              "</div>"
            ],
            "text/plain": [
              "              jp_sales\n",
              "genre                 \n",
              "Role-Playing    160.88\n",
              "Action           94.04\n",
              "Misc             60.40\n",
              "Sports           47.58\n",
              "Platform         31.46"
            ]
          },
          "metadata": {},
          "output_type": "display_data"
        },
        {
          "data": {
            "text/plain": [
              "<matplotlib.axes._subplots.AxesSubplot at 0x7f2a8d807850>"
            ]
          },
          "execution_count": 63,
          "metadata": {},
          "output_type": "execute_result"
        },
        {
          "data": {
            "image/png": "[encoded data removed]",
            "text/plain": [
              "<Figure size 504x288 with 1 Axes>"
            ]
          },
          "metadata": {
            "needs_background": "light"
          },
          "output_type": "display_data"
        }
      ],
      "source": [
        "jp_genre_pivot = new_data.pivot_table(index='genre', values='jp_sales', aggfunc='sum').sort_values(by='jp_sales', ascending=False).head(5)\n",
        "display(jp_genre_pivot)\n",
        "jp_genre_pivot.plot(kind='bar', figsize=(7,4), title='Объем продаж по жанрам в Японии')"
      ]
    },
    {
      "cell_type": "markdown",
      "metadata": {
        "id": "2OmRsAdRNRCP"
      },
      "source": [
        "И в жанрах Япония опять отличается - на первом месте с заметным отрывом ролевые игры, потом уже экшн и спорт. Шутеров среди лидеров нет."
      ]
    },
    {
      "cell_type": "markdown",
      "metadata": {
        "id": "Xa9lee9NNRFa"
      },
      "source": [
        "### *Рейтинг ESRB*"
      ]
    },
    {
      "cell_type": "markdown",
      "metadata": {
        "id": "TdbRf6dqAHeI"
      },
      "source": [
        "А теперь посмотрим влияние рейтинга игр на продажи. Сначала проверим, какие значения рейтинга вообще упоминаются в датасете. Это T-Teen, M-Mature, E-Everyone, E10+-Everyone 10 up, RP - Rating pending. Больше всего игр маркированы для использования подростками и взрослыми."
      ]
    },
    {
      "cell_type": "code",
      "execution_count": null,
      "metadata": {
        "colab": {
          "base_uri": "https://localhost:8080/"
        },
        "id": "cLI7DjDFLnz8",
        "outputId": "c34cb29d-af7b-4ae0-96f6-71603dad4159"
      },
      "outputs": [
        {
          "data": {
            "text/plain": [
              "array(['E', 'M', nan, 'T', 'E10+', 'EC', 'RP'], dtype=object)"
            ]
          },
          "execution_count": 64,
          "metadata": {},
          "output_type": "execute_result"
        }
      ],
      "source": [
        "new_data['rating'].unique()"
      ]
    },
    {
      "cell_type": "code",
      "execution_count": null,
      "metadata": {
        "colab": {
          "base_uri": "https://localhost:8080/",
          "height": 567
        },
        "id": "mtBsvfvABU7y",
        "outputId": "19201bb4-c744-482c-a6c3-94ab1cdf1ccb"
      },
      "outputs": [
        {
          "data": {
            "text/html": [
              "<div>\n",
              "<style scoped>\n",
              "    .dataframe tbody tr th:only-of-type {\n",
              "        vertical-align: middle;\n",
              "    }\n",
              "\n",
              "    .dataframe tbody tr th {\n",
              "        vertical-align: top;\n",
              "    }\n",
              "\n",
              "    .dataframe thead th {\n",
              "        text-align: right;\n",
              "    }\n",
              "</style>\n",
              "<table border=\"1\" class=\"dataframe\">\n",
              "  <thead>\n",
              "    <tr style=\"text-align: right;\">\n",
              "      <th></th>\n",
              "      <th>eu_sales</th>\n",
              "      <th>jp_sales</th>\n",
              "      <th>na_sales</th>\n",
              "      <th>total_sales</th>\n",
              "    </tr>\n",
              "    <tr>\n",
              "      <th>rating</th>\n",
              "      <th></th>\n",
              "      <th></th>\n",
              "      <th></th>\n",
              "      <th></th>\n",
              "    </tr>\n",
              "  </thead>\n",
              "  <tbody>\n",
              "    <tr>\n",
              "      <td>E</td>\n",
              "      <td>447.00</td>\n",
              "      <td>113.02</td>\n",
              "      <td>774.91</td>\n",
              "      <td>1494.20</td>\n",
              "    </tr>\n",
              "    <tr>\n",
              "      <td>M</td>\n",
              "      <td>396.84</td>\n",
              "      <td>41.58</td>\n",
              "      <td>569.51</td>\n",
              "      <td>1147.28</td>\n",
              "    </tr>\n",
              "    <tr>\n",
              "      <td>T</td>\n",
              "      <td>231.88</td>\n",
              "      <td>77.51</td>\n",
              "      <td>418.48</td>\n",
              "      <td>832.24</td>\n",
              "    </tr>\n",
              "    <tr>\n",
              "      <td>E10+</td>\n",
              "      <td>166.50</td>\n",
              "      <td>33.18</td>\n",
              "      <td>304.39</td>\n",
              "      <td>570.19</td>\n",
              "    </tr>\n",
              "    <tr>\n",
              "      <td>EC</td>\n",
              "      <td>0.00</td>\n",
              "      <td>0.00</td>\n",
              "      <td>1.32</td>\n",
              "      <td>1.40</td>\n",
              "    </tr>\n",
              "    <tr>\n",
              "      <td>RP</td>\n",
              "      <td>0.03</td>\n",
              "      <td>0.00</td>\n",
              "      <td>0.00</td>\n",
              "      <td>0.04</td>\n",
              "    </tr>\n",
              "  </tbody>\n",
              "</table>\n",
              "</div>"
            ],
            "text/plain": [
              "        eu_sales  jp_sales  na_sales  total_sales\n",
              "rating                                           \n",
              "E         447.00    113.02    774.91      1494.20\n",
              "M         396.84     41.58    569.51      1147.28\n",
              "T         231.88     77.51    418.48       832.24\n",
              "E10+      166.50     33.18    304.39       570.19\n",
              "EC          0.00      0.00      1.32         1.40\n",
              "RP          0.03      0.00      0.00         0.04"
            ]
          },
          "metadata": {},
          "output_type": "display_data"
        },
        {
          "data": {
            "text/plain": [
              "<matplotlib.axes._subplots.AxesSubplot at 0x7f2a8d886e50>"
            ]
          },
          "execution_count": 65,
          "metadata": {},
          "output_type": "execute_result"
        },
        {
          "data": {
            "image/png": "[encoded data removed]",
            "text/plain": [
              "<Figure size 504x288 with 1 Axes>"
            ]
          },
          "metadata": {
            "needs_background": "light"
          },
          "output_type": "display_data"
        }
      ],
      "source": [
        "total_rating_pivot = new_data.pivot_table(index='rating',\n",
        "                                          values=['total_sales', 'na_sales', 'eu_sales', 'jp_sales'], aggfunc='sum')\\\n",
        ".sort_values(by='total_sales', ascending=False)\n",
        "display(total_rating_pivot)\n",
        "total_rating_pivot.plot(kind='bar', figsize=(7,4), title='Объем продаж игр с разным рейтингом по регионам')"
      ]
    },
    {
      "cell_type": "markdown",
      "metadata": {
        "id": "jW3ZEr6FPVSp"
      },
      "source": [
        "Больше всего продаются игры с рейтингом \"для всех\" и \"для взрослых\". По странам ситуация схожа, только в Японии игры \"для взрослых\" продаются хуже, чем \"для подростков\". Да и вообще цифры продаж игр с рейтингом по Японии довольно низкие, возможно, в Японии существует своя система рейтинга, а ESRB не котируется. "
      ]
    },
    {
      "cell_type": "markdown",
      "metadata": {
        "id": "EZo7vArYPYL9"
      },
      "source": [
        "## Проверка гипотез"
      ]
    },
    {
      "cell_type": "markdown",
      "metadata": {
        "id": "zDLRzA1XPYPY"
      },
      "source": [
        "### Гипотеза 1. Средние пользовательские рейтинги платформ Xbox One и PC одинаковые"
      ]
    },
    {
      "cell_type": "markdown",
      "metadata": {
        "id": "VjoFbqH_DwUF"
      },
      "source": [
        "<p>Введем основную и альтернативные гипотезы:</p>\n",
        "\n",
        "$\\begin{equation*}\n",
        " \\begin{cases}\n",
        "   H_0 :\\text{Средний пользовательский рейтинг игр для платформы Xbox One равен рейтингу игр для PC}\\\\\n",
        "   H_1 :\\text{Средний пользовательский рейтинг игр для платформы Xbox One отличается от рейтинга игр для PC}\n",
        " \\end{cases}\n",
        "\\end{equation*}$"
      ]
    },
    {
      "cell_type": "markdown",
      "metadata": {
        "id": "GKLQvzN9DwUG"
      },
      "source": []
    },
    {
      "cell_type": "code",
      "execution_count": null,
      "metadata": {
        "colab": {
          "base_uri": "https://localhost:8080/",
          "height": 271
        },
        "id": "4AUAz8rGQmSA",
        "outputId": "9031b042-550e-472f-a929-2964f601b47a"
      },
      "outputs": [
        {
          "data": {
            "text/plain": [
              "array([7.9, 5.4, 6.4, 6.2, 4.1, 5.5, 7.5, 4.4, 7.2, 6.4, 4.3, 5.5, 3.1,\n",
              "       6.1, 6.2, 8.2, 7.4, 5.9, 5.4, 6.9, 6.6, 7.9, 6.3, 7.5, 6.8, 5.8,\n",
              "       6.4, 6.6, 8.2, 6.1, 7.3, 8. , 8. , 6.2, 6.9, 9.2, 6.1, 7.8, 8.4,\n",
              "       5.9, 5.1, 5.2, 5.8, 7.7, 7.4, 5.6, 6.8, 6.2, 6.9, 5.7, 7. , 6.4,\n",
              "       5.9, 7.7, 7.3, 7.4, 5.8, 7.8, 7.3, 6.7, 5.9, 5.1, 4.6, 5.1, 5.7,\n",
              "       8. , 5.7, 6.8, 5.1, 7.5, 6.9, 7.8, 8.1, 6. , 6.4, 6.3, 7. , 7.8,\n",
              "       7.1, 6. , 6.9, 3.2, 8.6, 7.7, 5.1, 6.6, 7.9, 6.1, 7.2, 5.5, 8.5,\n",
              "       7. , 5.4, 4.3, 6.8, 5.5, 5.8, 5.3, 7.1, 5.5, 4. , 6.2, 8.3, 6.8,\n",
              "       6.7, 6.8, 3.1, 7.3, 3. , 7. , 8.3, 7. , 7.2, 4.4, 7. , 6.9, 8.3,\n",
              "       7.5, 8. , 7.2, 6.6, 7.3, 4.1, 7.9, 8.7, 5.7, 8. , 2.1, 8.2, 5.6,\n",
              "       7.2, 6.2, 5.3, 7.5, 6. , 3.1, 7.6, 8.5, 6.8, 6.3, 5.8, 7.7, 6.9,\n",
              "       8.4, 5.2, 4.9, 7.1, 7.1, 6.1, 8.1, 6.3, 6. , 8.9, 7.7, 1.6, 8. ,\n",
              "       5.4, 8.1, 4.3, 7.4, 4.3, 7.1, 5.8, 4.2, 6.6, 7.3, 7.2, 7.1, 6.7,\n",
              "       8.8, 7.9, 8.1, 3.1, 7.5, 6.3, 8.2, 7.1, 6.8, 6. , 8.2, 6.6, 6.7])"
            ]
          },
          "metadata": {},
          "output_type": "display_data"
        }
      ],
      "source": [
        "sample_xone = new_data.query('platform == \"XOne\" and user_score < 10').user_score.values\n",
        "display(sample_xone)"
      ]
    },
    {
      "cell_type": "code",
      "execution_count": null,
      "metadata": {
        "colab": {
          "base_uri": "https://localhost:8080/",
          "height": 907
        },
        "id": "NbeGR9tjQmUn",
        "outputId": "ba01782c-a48a-4eab-e8ce-e86842424d29",
        "scrolled": true
      },
      "outputs": [
        {
          "data": {
            "text/plain": [
              "array([7.6, 4. , 8.2, 7.9, 8.1, 3.9, 5.9, 7.5, 7.9, 5.6, 4.8, 2.5, 5.3,\n",
              "       7.9, 7.9, 5.2, 4.2, 8. , 7. , 2.2, 6. , 7.5, 5.4, 8.4, 7.9, 8.6,\n",
              "       5.3, 8.1, 6.7, 8.5, 8. , 6.9, 7.9, 5.5, 8.2, 7.5, 8.5, 6.2, 8.2,\n",
              "       5.7, 4.2, 6.6, 8.8, 7.4, 6.8, 5.9, 4.2, 9.3, 8.3, 8.2, 8. , 6.1,\n",
              "       7.3, 8.6, 6.5, 7.9, 8.5, 8. , 7.7, 5.5, 4.5, 6.7, 3.6, 6.5, 8.3,\n",
              "       8. , 8.2, 8.5, 8. , 6.2, 3. , 6.9, 6.8, 8.3, 8.6, 8.6, 8.6, 7.6,\n",
              "       6.4, 3.6, 5.8, 5.9, 8.1, 6. , 7.3, 5.6, 8.2, 4.7, 7.6, 7.6, 5.8,\n",
              "       8.5, 4.5, 5.7, 4.6, 6.6, 7.9, 8.8, 7.6, 8.1, 8.8, 6.7, 5.2, 8. ,\n",
              "       5.8, 5.5, 8.5, 8. , 6.9, 8.5, 2.1, 6.3, 5.4, 8.5, 8.3, 8.7, 7.5,\n",
              "       5.4, 7.5, 5.2, 6.6, 8.3, 6.2, 3.7, 4.2, 5.9, 8. , 8.1, 7.7, 8.4,\n",
              "       8.1, 3.5, 7.5, 5.9, 3.3, 7.9, 7.3, 7. , 5.5, 8. , 7.3, 8.1, 7.3,\n",
              "       6.8, 7.1, 6.9, 8.2, 5.6, 7.3, 8.5, 8.2, 6.8, 5.9, 6.5, 7.4, 4.4,\n",
              "       6.5, 7.9, 6. , 7.4, 3.2, 6.2, 8.6, 8.6, 8.6, 4.3, 7.4, 7.2, 7.4,\n",
              "       4.4, 7.1, 7. , 7.5, 3.5, 7.7, 7.8, 6. , 7.1, 4.7, 8.2, 4.9, 8.5,\n",
              "       8.1, 4.8, 3. , 6.4, 7.5, 7.1, 7.7, 7.4, 5.5, 5.9, 7.8, 6.9, 7.8,\n",
              "       8.2, 6.9, 8.5, 8.4, 5.3, 7.5, 8.9, 9.3, 8.1, 7.6, 3.8, 6.3, 3. ,\n",
              "       7.3, 8.7, 7.3, 2.5, 8. , 7. , 7.1, 7.7, 8.2, 8.1, 7.9, 6. , 8.4,\n",
              "       7. , 4.2, 6. , 8.3, 7.9, 3.3, 8.8, 8.3, 6.4, 7.4, 5.2, 4.9, 8.2,\n",
              "       7.3, 4.4, 5.7, 7.6, 4.1, 5.7, 5. , 4.8, 3.5, 8.9, 4.6, 7.5, 5.6,\n",
              "       4.3, 6.4, 7.6, 8.2, 5.7, 6.7, 7.7, 7.7, 8.4, 8.1, 6.9, 6.9, 8. ,\n",
              "       5.9, 5.4, 5.8, 7.8, 5.8, 6.5, 7.5, 7.7, 3.3, 6.7, 7.7, 8.2, 4.9,\n",
              "       8.5, 8.4, 8. , 7.8, 7.7, 6.2, 7.1, 8.6, 6. , 4.9, 9. , 7.3, 8. ,\n",
              "       7.9, 7.1, 6. , 5.6, 8. , 8.5, 5.7, 4.4, 5.8, 5.6, 6.8, 6.8, 7.8,\n",
              "       7.4, 7.9, 7.4, 8. , 5.3, 8.8, 8.7, 6.8, 6.9, 5.8, 2.9, 8.4, 7.4,\n",
              "       8. , 8.2, 8.1, 8.1, 7.3, 6.6, 6.9, 5.1, 6.7, 7.4, 7.4, 5.5, 7.1,\n",
              "       7.3, 8.2, 3.6, 6.6, 3.8, 5.1, 7.7, 6.8, 4.9, 6.5, 7.3, 8.9, 8.2,\n",
              "       3.4, 5.4, 7.5, 7.7, 8. , 7.2, 6.8, 6.2, 3.8, 3.9, 8.8, 6.9, 8.3,\n",
              "       7.3, 8.1, 8.6, 4.3, 8.2, 7.3, 8.2, 8.8, 7.4, 8.2, 5.9, 5.9, 5.7,\n",
              "       7.7, 7.7, 6.5, 7.2, 8. , 8.5, 7.9, 7.3, 7.9, 8.6, 4.9, 6.4, 7. ,\n",
              "       5.5, 2.8, 7.6, 3.8, 3.1, 6.4, 7.1, 4. , 8.9, 6.2, 7.7, 7.8, 7.6,\n",
              "       5.7, 7.1, 7.5, 6.8, 8.4, 7. , 3.5, 8.5, 7.1, 7.7, 7.9, 8.1, 4.8,\n",
              "       8.1, 7.5, 4. , 7.9, 6. , 2.5, 7.2, 8.8, 7. , 7.5, 8.3, 6.8, 8.5,\n",
              "       7.5, 8. , 7.5, 6.1, 6.6, 6.7, 8.2, 6.3, 8.3, 8.1, 8.7, 6.8, 8.6,\n",
              "       3.3, 8.1, 7.8, 7.6, 7.3, 7.9, 6.7, 8.1, 5.8, 5.8, 6.1, 5.3, 8.2,\n",
              "       6.9, 8.2, 6.8, 7.4, 6.3, 8.4, 5.2, 6.6, 8.6, 7. , 6.2, 4.8, 5.9,\n",
              "       7.9, 6.1, 8.3, 7.4, 8.4, 7.6, 8.7, 6.4, 7.3, 4.7, 7.5, 7.8, 8.3,\n",
              "       6.8, 6.4, 6.3, 7.9, 7.5, 6.2, 8.4, 6.2, 6.7, 7.7, 7.8, 6.5, 8.6,\n",
              "       7.9, 7.7, 8.3, 7.9, 8.7, 6.8, 5.7, 4.3, 6.2, 7.3, 8. , 7.9, 7.3,\n",
              "       8.2, 6.4, 7.8, 6.9, 6.7, 7.8, 8.1, 3.9, 5.4, 8.8, 8. , 9.2, 6.7,\n",
              "       7.3, 8.1, 7.5, 6.8, 7.3, 5.8, 1.4, 3.7, 6. , 7.1, 7.8, 8.2, 4.9,\n",
              "       6.4, 2.4, 6.5, 8.5, 5.4, 4.6, 6.3, 7.8, 6. , 8.3, 7.9, 4.1, 7.1,\n",
              "       4.7, 7.2, 8.3, 4.1, 7.4, 8.1, 8.3, 3.2, 6.6, 7.1, 6.4, 5.7, 8.1,\n",
              "       7.9, 3.1, 5.7, 5.6, 8.7, 7.6, 7.3, 7.6, 5.4, 6. , 5.1, 7.2, 7.8,\n",
              "       6.8, 7.3, 8.2, 4. , 8.5, 5.3, 8.3, 8.3, 8.3, 4.3, 6.1, 7.6, 7.5,\n",
              "       7.7, 6.5, 6.2, 6.8, 6.6, 6.3, 7.9, 8.5, 8.3, 7.8, 8.8, 7.6, 7.7,\n",
              "       6.8, 3.1, 6.2, 7.4, 7.3, 7. , 6.9, 5.3, 8.7, 8. , 7.1, 7.3, 7.6,\n",
              "       8. , 4.8, 7.7, 7.3, 7.1, 6.7, 5.8, 7.1, 8.3, 6.8, 5. , 7.9, 1.4,\n",
              "       6.9, 5.7, 7.5, 8. , 7.6, 8.6, 7.9, 8.2, 7.5, 3.8, 8. , 7.6, 5.8,\n",
              "       7.2, 5.8])"
            ]
          },
          "metadata": {},
          "output_type": "display_data"
        }
      ],
      "source": [
        "sample_pc = new_data.query('platform == \"PC\" and user_score < 10').user_score.values\n",
        "display(sample_pc)"
      ]
    },
    {
      "cell_type": "code",
      "execution_count": null,
      "metadata": {
        "id": "VISwALJVDwUH"
      },
      "outputs": [],
      "source": [
        "alpha = .05"
      ]
    },
    {
      "cell_type": "markdown",
      "metadata": {
        "id": "tzG_SUKyDwUH"
      },
      "source": [
        "Уровень значимости: $\\alpha = 0.05$\n",
        "\n",
        "<B>Проверим нормальность распределения</B> несколькими способами:\n",
        "1. Построив гистограмму распределения."
      ]
    },
    {
      "cell_type": "code",
      "execution_count": null,
      "metadata": {
        "id": "abViRnFPDwUI",
        "outputId": "9e045128-b964-4770-a1b8-76a176e0d26d"
      },
      "outputs": [
        {
          "data": {
            "text/plain": [
              "Text(0.5, 1.0, 'X Box One')"
            ]
          },
          "execution_count": 69,
          "metadata": {},
          "output_type": "execute_result"
        },
        {
          "data": {
            "image/png": "[encoded data removed]",
            "text/plain": [
              "<Figure size 432x288 with 1 Axes>"
            ]
          },
          "metadata": {
            "needs_background": "light"
          },
          "output_type": "display_data"
        }
      ],
      "source": [
        "sns.distplot(sample_xone).set_title('X Box One')"
      ]
    },
    {
      "cell_type": "code",
      "execution_count": null,
      "metadata": {
        "id": "s5zmvlixDwUJ",
        "outputId": "5f8bc73c-2b43-43b2-c3ce-88dbcf300af3"
      },
      "outputs": [
        {
          "data": {
            "text/plain": [
              "Text(0.5, 1.0, 'PC')"
            ]
          },
          "execution_count": 70,
          "metadata": {},
          "output_type": "execute_result"
        },
        {
          "data": {
            "image/png": "[encoded data removed]",
            "text/plain": [
              "<Figure size 432x288 with 1 Axes>"
            ]
          },
          "metadata": {
            "needs_background": "light"
          },
          "output_type": "display_data"
        }
      ],
      "source": [
        "sns.distplot(sample_pc).set_title('PC')"
      ]
    },
    {
      "cell_type": "markdown",
      "metadata": {
        "id": "-Lc6jn7QDwUK"
      },
      "source": [
        "2. Построив QQ-график"
      ]
    },
    {
      "cell_type": "code",
      "execution_count": null,
      "metadata": {
        "id": "1Y4PKdiJDwUK",
        "outputId": "955b7c18-f555-4662-ed42-5488983c7f3d"
      },
      "outputs": [
        {
          "data": {
            "image/png": "[encoded data removed]",
            "text/plain": [
              "<Figure size 864x576 with 2 Axes>"
            ]
          },
          "metadata": {
            "needs_background": "light"
          },
          "output_type": "display_data"
        }
      ],
      "source": [
        "plt.figure(figsize=(12,8))\n",
        "plt.subplot(2,2,1)\n",
        "st.probplot(sample_xone, dist=\"norm\", plot=plt)\n",
        "plt.title(\"X Box One\")\n",
        "plt.subplot(2,2,2)\n",
        "st.probplot(sample_pc, dist=\"norm\", plot=plt)\n",
        "plt.title(\"PC\")\n",
        "plt.show()"
      ]
    },
    {
      "cell_type": "markdown",
      "metadata": {
        "id": "BM3MfZl4DwUL"
      },
      "source": [
        "3. При помощи критерия Шапиро-Уилка"
      ]
    },
    {
      "cell_type": "code",
      "execution_count": null,
      "metadata": {
        "id": "P2xXpNs0DwUM",
        "outputId": "141bb959-1118-4e3c-e53e-54ee1c8d922b"
      },
      "outputs": [
        {
          "name": "stdout",
          "output_type": "stream",
          "text": [
            "Проверка по критерию Шапиро-Уилка, W-statistic: 0.955055, p-value: 0.000015\n"
          ]
        }
      ],
      "source": [
        "print(\"Проверка по критерию Шапиро-Уилка, W-statistic: %f, p-value: %f\" % st.shapiro(sample_xone))"
      ]
    },
    {
      "cell_type": "code",
      "execution_count": null,
      "metadata": {
        "id": "w-VtVuH8DwUM",
        "outputId": "29cd82aa-f599-44dc-e4df-06ed7f3d8707"
      },
      "outputs": [
        {
          "name": "stdout",
          "output_type": "stream",
          "text": [
            "Проверка по критерию Шапиро-Уилка, W-statistic: 0.918513, p-value: 0.000000\n"
          ]
        }
      ],
      "source": [
        "print(\"Проверка по критерию Шапиро-Уилка, W-statistic: %f, p-value: %f\" % st.shapiro(sample_pc))"
      ]
    },
    {
      "cell_type": "markdown",
      "metadata": {
        "id": "Pp0J6WpWDwUN"
      },
      "source": [
        "По всем трем методам распределение в выборках можно оценить как не нормальное, в особенности для выборки по играм на ПК. Поэтому для проверки гипотез будет корректнее использовать метод Манна-Уитни.\n",
        "<BR>\n",
        "Уровень значимости: $\\alpha = 0.05$\n",
        "\n",
        "Посчитаем p-value, используя тест Манна-Уитни из библиотеки scipy для сравнения средних двух выборок.\n",
        "\n",
        "Если p-value будет меньше выбранного уровня значимости $\\alpha = 0.05$, то нулевую гипотезу о равенстве средних отвергнем. Иначе сделаем вывод, что данные не позволили нам отвергнуть нулевую гипотезу."
      ]
    },
    {
      "cell_type": "code",
      "execution_count": null,
      "metadata": {
        "id": "qwnQb_QxDwUO",
        "outputId": "06589127-6e8f-4c75-eb46-5526f00e9f42"
      },
      "outputs": [
        {
          "name": "stdout",
          "output_type": "stream",
          "text": [
            "Дисперсия XOne 1.8965188383045526\n",
            "Дисперсия PC 2.2963598944564096\n"
          ]
        }
      ],
      "source": [
        "print('Дисперсия XOne', np.var(sample_xone))\n",
        "print('Дисперсия PC', np.var(sample_pc)) "
      ]
    },
    {
      "cell_type": "code",
      "execution_count": null,
      "metadata": {
        "id": "WzVc1OUhDwUO",
        "outputId": "8272a373-edd9-482f-8463-de6113c06c06"
      },
      "outputs": [
        {
          "name": "stdout",
          "output_type": "stream",
          "text": [
            "p-значение:  0.0004064995750682362\n",
            "Отвергаем нулевую гипотезу\n"
          ]
        }
      ],
      "source": [
        "alpha = .05\n",
        "\n",
        "results = st.mannwhitneyu(sample_xone, sample_pc, alternative='two-sided')\n",
        "print('p-значение: ', results.pvalue)\n",
        "\n",
        "if (results.pvalue < alpha):\n",
        "    print(\"Отвергаем нулевую гипотезу\")\n",
        "else:\n",
        "    print(\"Не получилось отвергнуть нулевую гипотезу\")"
      ]
    },
    {
      "cell_type": "code",
      "execution_count": null,
      "metadata": {
        "colab": {
          "base_uri": "https://localhost:8080/"
        },
        "id": "Il7wS2UcTgtz",
        "outputId": "b6fcfd32-a70b-4a35-82d9-915004ed5f0b"
      },
      "outputs": [
        {
          "name": "stdout",
          "output_type": "stream",
          "text": [
            "p-значение:  0.008603496501781193\n",
            "Отвергаем нулевую гипотезу\n"
          ]
        }
      ],
      "source": [
        "alpha = .05\n",
        "\n",
        "results = st.ttest_ind(\n",
        "    sample_xone, \n",
        "    sample_pc,\n",
        "    equal_var = False)\n",
        "\n",
        "print('p-значение: ', results.pvalue)\n",
        "\n",
        "if results.pvalue < alpha:\n",
        "    print(\"Отвергаем нулевую гипотезу\")\n",
        "else:\n",
        "    print(\"Не получилось отвергнуть нулевую гипотезу\") "
      ]
    },
    {
      "cell_type": "code",
      "execution_count": null,
      "metadata": {
        "colab": {
          "base_uri": "https://localhost:8080/"
        },
        "id": "cfr2kljtTqUW",
        "outputId": "c3767f82-bf13-4f19-90fa-5f136da2bc1d"
      },
      "outputs": [
        {
          "name": "stdout",
          "output_type": "stream",
          "text": [
            "Среднее значение пользовательского рейтинга игр для платформы ПК: 6.83594249201278\n",
            "Среднее значение пользовательского рейтинга игр для платформы XBox One: 6.521428571428572\n"
          ]
        }
      ],
      "source": [
        "print('Среднее значение пользовательского рейтинга игр для платформы ПК:', sample_pc.mean())\n",
        "print('Среднее значение пользовательского рейтинга игр для платформы XBox One:', sample_xone.mean())"
      ]
    },
    {
      "cell_type": "markdown",
      "metadata": {
        "id": "qMGfjJFAGZUc"
      },
      "source": [
        "Отвергаем нулевую гипотезу, значит, средние пользовательские рейтинги этих двух платформ отличаются друг от друга. Вычисления по средним значениям это также подтверждают - рейтинги схожи, но не одинаковы."
      ]
    },
    {
      "cell_type": "markdown",
      "metadata": {
        "id": "c-wdrpoyVEWj"
      },
      "source": [
        "### Гипотеза 2. Средние пользовательские рейтинги жанров Action и Sports разные"
      ]
    },
    {
      "cell_type": "markdown",
      "metadata": {
        "id": "DUuckj9RVEfs"
      },
      "source": [
        "<p>Введем основную и альтернативные гипотезы:</p>\n",
        "\n",
        "$\\begin{equation*}\n",
        " \\begin{cases}\n",
        "   H_0 :\\text{Средний пользовательский рейтинг игр жанра Action равен рейтингу игр жанра Sports}\\\\\n",
        "   H_1 :\\text{Ссредний пользовательский рейтинг игр жанра Action отличается от рейтинга игр жанра Sports}\n",
        " \\end{cases}\n",
        "\\end{equation*}$"
      ]
    },
    {
      "cell_type": "markdown",
      "metadata": {
        "id": "QtgDTbN0DwUR"
      },
      "source": []
    },
    {
      "cell_type": "code",
      "execution_count": null,
      "metadata": {
        "colab": {
          "base_uri": "https://localhost:8080/",
          "height": 35
        },
        "id": "LHzLaXXOVEtf",
        "outputId": "56fe60b8-42b0-4968-f0cc-05f0949fa1d9"
      },
      "outputs": [
        {
          "data": {
            "text/plain": [
              "array([8.2, 8.1, 8.3, ..., 5.1, 6.7, 7.6])"
            ]
          },
          "metadata": {},
          "output_type": "display_data"
        }
      ],
      "source": [
        "sample_action = new_data.query('genre == \"Action\" and user_score < 10').user_score.values\n",
        "display(sample_action)"
      ]
    },
    {
      "cell_type": "code",
      "execution_count": null,
      "metadata": {
        "colab": {
          "base_uri": "https://localhost:8080/",
          "height": 925
        },
        "id": "gIE2AQHfVEz2",
        "outputId": "b4d3822a-15e9-4c93-a937-db6bd23e59c4",
        "scrolled": true
      },
      "outputs": [
        {
          "data": {
            "text/plain": [
              "array([8. , 8. , 7.7, 7.4, 4.3, 5. , 4.3, 7.4, 5.7, 8. , 8.2, 8.9, 4.5,\n",
              "       4.2, 8.7, 6.7, 7.9, 7.9, 7.6, 7.5, 4.4, 5.9, 6.5, 6.3, 7.2, 4.2,\n",
              "       6.8, 5.8, 6.1, 3.2, 5.9, 5.7, 5.5, 8. , 7.7, 7.5, 8. , 7.5, 7.8,\n",
              "       5.5, 7. , 4.9, 5.4, 8. , 7. , 6.1, 6.8, 6.1, 6.4, 5.5, 6.8, 6.2,\n",
              "       6.5, 8.6, 6.7, 6.9, 5.5, 5.6, 6.1, 5.4, 5.2, 6.7, 4.9, 7.1, 5.5,\n",
              "       7.6, 8. , 7.8, 4.4, 6.7, 4.1, 6. , 4.9, 7.1, 6.3, 8.4, 8.6, 7.8,\n",
              "       8.5, 8. , 8.7, 3. , 8. , 6.1, 8.1, 2.9, 6.4, 5.7, 8.1, 6.7, 8. ,\n",
              "       7. , 2.7, 6.5, 8.7, 7.4, 8.9, 7.9, 3.5, 7.5, 6. , 7.6, 8.4, 7.2,\n",
              "       2. , 8.1, 5.8, 8.4, 6.8, 6.4, 5.9, 7.8, 7.4, 5.4, 8.4, 7.6, 5.8,\n",
              "       6.7, 7.9, 5.1, 7.5, 8.8, 8. , 7.7, 5.8, 8. , 7.3, 7.8, 8.8, 7. ,\n",
              "       6.1, 7.9, 6.1, 7. , 6.2, 6.6, 6.8, 6.2, 7.2, 7.6, 5.1, 5.3, 6.9,\n",
              "       7.6, 3.2, 6.7, 4.5, 8.9, 6.2, 8.6, 7.1, 7.8, 7.5, 5.4, 5.7, 6.8,\n",
              "       8.1, 5.2, 6.7, 7.3, 8.4, 6.8, 7.3, 8.3, 8.1, 7. , 7.4, 7.8, 7.8,\n",
              "       6.2, 7.2, 6.6, 5.8, 6.7, 7.6, 7.6, 5.9, 6.9, 4.6, 5.8, 5.2, 7.1,\n",
              "       8.3, 3.1, 7.7, 3.1, 8.4, 6.5, 6.6, 7.8, 7.2, 9. , 7.8, 4.6, 3.3,\n",
              "       6.6, 7.7, 6.9, 6.6, 6. , 7.1, 7.7, 7.2, 8.1, 5.4, 8.3, 8.4, 6.8,\n",
              "       6.5, 7.4, 7.7, 6.4, 7.8, 7. , 8.7, 4.4, 7.7, 8.6, 6.6, 8.4, 6.6,\n",
              "       7.8, 6.3, 7.2, 7.8, 6.9, 4. , 5.5, 6.8, 6.8, 5.5, 7.2, 6.1, 4.3,\n",
              "       7. , 3. , 5.9, 5.9, 5.3, 5.1, 6. , 6.9, 3.6, 2.1, 7.1, 5.7, 7.3,\n",
              "       7.8, 7.8, 7.5, 7.6, 8.4, 7.8, 7.9, 3.8, 5.7, 8.1, 8.6, 8.6, 7.6,\n",
              "       5.4, 4.3, 6.8, 6. , 7.8, 5.7, 7. , 8.3, 7.5, 5.9, 4.6, 7.8, 5.3,\n",
              "       4.2, 7.8, 7.5, 7.6, 8.4, 4.6, 4.8, 6. , 5.6, 8.4, 6.3, 6.4, 7.3,\n",
              "       7. , 8.2, 8. , 7.6, 6.1, 7.9, 8.2, 7.6, 6. , 6.6, 8.5, 6.3, 6.9,\n",
              "       7.4, 4.9, 2.4, 2.8, 6.9, 6.8, 7.7, 7.6, 4.6, 5.2, 6.6, 6.6, 6.2,\n",
              "       6.8, 5.4, 4.4, 6.7, 7.3, 7.5, 6.7, 6. , 7.7, 3.2, 8.2, 8. , 8.5,\n",
              "       8.6, 5. , 4.6, 7.2, 7.4, 7. , 7.4, 5.7, 7. , 7.3, 5.3, 8.2, 5.4,\n",
              "       7.9, 8.3, 4.3, 5.4, 1.7, 5.8, 6.3, 4.5, 6.7, 8.6, 4.3, 3.9, 7.4,\n",
              "       3.8, 8.2, 8.7, 7.1, 7.7, 7.7, 7.9, 1.6, 5.5, 8.5, 6.2, 6.9, 1.1,\n",
              "       6.8, 8.5, 6.7, 4.3, 6.8, 7.7, 5.8, 7.8, 6.2, 7.5, 5.4, 8.4, 8.1,\n",
              "       3.7, 8.1, 7.6, 7.8, 6.9, 7.5, 6.9, 5.6, 7.5, 5.6, 6. , 6.9, 7.8,\n",
              "       6.2, 8.7, 7.6, 6.6, 8.5, 8.4, 7.9, 4.2, 7.5, 7. , 7.2, 6.7, 3.9,\n",
              "       5. , 5.3, 5.8, 8.5, 8.4, 5.6, 7.4, 6.3, 6.8, 7.5, 4.5, 5.5, 6.9,\n",
              "       5. , 6.6, 7.3, 6.7, 6.2, 6.4, 4.7, 8.6, 7.8, 4.2, 4. , 8.3, 2.7,\n",
              "       5.4, 7.5, 5.6, 6.2, 6.2, 5.2, 6.7, 5.4, 7.8, 7. , 5.9, 5.6, 8. ,\n",
              "       8.2, 6.2, 6.5, 5.8, 7.3, 6.8, 7.1, 8.6, 1.5, 6.6, 6.3, 4.4, 3.1,\n",
              "       7. , 8. , 4.4, 2.4, 3.4, 6.5, 5.3, 4.2, 7.4, 3.5, 6.2, 5.1, 7.9,\n",
              "       7.7, 9.2, 7.1, 5. , 6.9, 6.1, 7.9, 4.4, 4. , 7.8, 6.7, 0.7, 6.8,\n",
              "       7.4, 5.4, 6.6, 3.8, 6. , 5.1, 5.8, 7.2, 7.1, 6.5, 7.1, 5.3, 7.3,\n",
              "       6.5, 7.5, 7.1, 8.5, 5.1, 7.6, 8.1, 6.5, 7.9, 7.1, 7. , 7.4, 6.6,\n",
              "       7.3, 4.1, 6.8, 5. , 7.5, 5.2, 6.5, 6.9, 7.6, 7.4, 6.7, 6.2, 8.7,\n",
              "       7.6, 6. , 7.2, 5.6, 1.8, 7. , 2. , 6.6, 7. , 7.4, 7.3, 2.1, 3.4,\n",
              "       6.8, 3.4, 4.2, 0.2, 5. , 7.3, 3.4, 8.4, 8.8, 4.1, 3.5, 5.6, 9. ,\n",
              "       6.2, 7.3, 6.6, 6.5, 7.2, 6.1, 3.1, 7.7, 7.8, 5.7, 1.4, 7. , 8. ,\n",
              "       6.5, 7.5, 3.8, 3.8, 7.8, 3.1, 6.3, 7.9, 6.9, 7.8, 5.9, 3. , 8.2,\n",
              "       6.5, 4.6, 4.6, 2.8, 9. , 6. , 5.4, 5.8, 4. , 3.1, 4.1, 7.6, 1.9,\n",
              "       3. , 8.2, 7.8, 8.2, 5.9, 7.8, 7.7, 6.1, 3.8, 3.9, 3. , 0.7, 7.2,\n",
              "       5.3, 6.8, 4.3, 7.8, 7.5, 6.3, 5.7, 6.8, 6.5, 7.3, 5.1, 7.7, 7.2,\n",
              "       7.4, 6.5, 4.8, 5.1, 4. , 8. , 8. , 5.4, 7.3, 7.5, 6.8, 6.6, 4.2,\n",
              "       4.5, 4.3, 2.8, 6.8, 3.7, 4.1, 6.4, 6.8, 6. , 7.1, 6.1, 5.2, 6.3,\n",
              "       6.9, 3.1, 5.5, 7.4, 4.5, 1.4, 6.9, 6.6])"
            ]
          },
          "metadata": {},
          "output_type": "display_data"
        }
      ],
      "source": [
        "sample_sports = new_data.query('genre == \"Sports\" and user_score < 10').user_score.values\n",
        "display(sample_sports)"
      ]
    },
    {
      "cell_type": "code",
      "execution_count": null,
      "metadata": {
        "id": "9IdjKlXEDwUS"
      },
      "outputs": [],
      "source": [
        "alpha = .05"
      ]
    },
    {
      "cell_type": "markdown",
      "metadata": {
        "id": "a9x8-n8VDwUS"
      },
      "source": [
        "Уровень значимости: $\\alpha = 0.05$\n",
        "\n",
        "<B>Проверим нормальность распределения</B> несколькими способами:\n",
        "1. Построив гистограмму распределения."
      ]
    },
    {
      "cell_type": "code",
      "execution_count": null,
      "metadata": {
        "id": "hu-rRSpiDwUT",
        "outputId": "7cb6b9e9-b8a7-42d0-eae2-4425789a8610"
      },
      "outputs": [
        {
          "data": {
            "image/png": "[encoded data removed]",
            "text/plain": [
              "<Figure size 432x288 with 1 Axes>"
            ]
          },
          "metadata": {
            "needs_background": "light"
          },
          "output_type": "display_data"
        }
      ],
      "source": [
        "sns.distplot(sample_action);\n",
        "sns.distplot(sample_sports);"
      ]
    },
    {
      "cell_type": "markdown",
      "metadata": {
        "id": "zs1XKQFQDwUT"
      },
      "source": [
        "2. Построив QQ-график"
      ]
    },
    {
      "cell_type": "code",
      "execution_count": null,
      "metadata": {
        "id": "Ht42WeQeDwUT",
        "outputId": "3fd0ef32-c57b-4ccd-e14e-c84e426f18c2"
      },
      "outputs": [
        {
          "data": {
            "image/png": "[encoded data removed]",
            "text/plain": [
              "<Figure size 864x576 with 2 Axes>"
            ]
          },
          "metadata": {
            "needs_background": "light"
          },
          "output_type": "display_data"
        }
      ],
      "source": [
        "plt.figure(figsize=(12,8))\n",
        "plt.subplot(2,2,1)\n",
        "st.probplot(sample_action, dist=\"norm\", plot=plt)\n",
        "plt.title(\"Action\")\n",
        "plt.subplot(2,2,2)\n",
        "st.probplot(sample_sports, dist=\"norm\", plot=plt)\n",
        "plt.title(\"Sports\")\n",
        "plt.show()"
      ]
    },
    {
      "cell_type": "markdown",
      "metadata": {
        "id": "EUMgfcJGDwUU"
      },
      "source": []
    },
    {
      "cell_type": "code",
      "execution_count": null,
      "metadata": {
        "id": "7qxpFwrWDwUV",
        "outputId": "e1310300-2314-43a5-9c14-28589c3efa0d"
      },
      "outputs": [
        {
          "name": "stdout",
          "output_type": "stream",
          "text": [
            "Проверка по критерию Шапиро-Уилка, W-statistic: 0.934491, p-value: 0.000000\n"
          ]
        }
      ],
      "source": [
        "print(\"Проверка по критерию Шапиро-Уилка, W-statistic: %f, p-value: %f\" % st.shapiro(sample_action))"
      ]
    },
    {
      "cell_type": "code",
      "execution_count": null,
      "metadata": {
        "id": "PQJ-3jr0DwUV",
        "outputId": "cf6af1fb-c64c-413f-f0bb-6cf41ff8055d"
      },
      "outputs": [
        {
          "name": "stdout",
          "output_type": "stream",
          "text": [
            "Проверка по критерию Шапиро-Уилка, W-statistic: 0.936726, p-value: 0.000000\n"
          ]
        }
      ],
      "source": [
        "print(\"Проверка по критерию Шапиро-Уилка, W-statistic: %f, p-value: %f\" % st.shapiro(sample_sports))"
      ]
    },
    {
      "cell_type": "markdown",
      "metadata": {
        "id": "erVSQemtDwUX"
      },
      "source": [
        "По всем трем методам распределение в выборках можно оценить как не нормальное. Поэтому для проверки гипотез будет корректнее использовать метод Манна-Уитни.\n",
        "\n",
        "<BR>\n",
        "Уровень значимости: $\\alpha = 0.05$\n",
        "\n",
        "<B>Посчитаем p-value</B>, используя тест Манна-Уитни из библиотеки scipy для сравнения средних двух выборок.\n",
        "\n",
        "Если p-value будет меньше выбранного уровня значимости $\\alpha = 0.05$, то нулевую гипотезу о равенстве средних отвергнем. Иначе сделаем вывод, что данные не позволили нам отвергнуть нулевую гипотезу."
      ]
    },
    {
      "cell_type": "code",
      "execution_count": null,
      "metadata": {
        "id": "-RqLbocODwUX",
        "outputId": "23f68d84-7afa-47e7-e8a4-14adab098efc"
      },
      "outputs": [
        {
          "name": "stdout",
          "output_type": "stream",
          "text": [
            "Дисперсия Action 1.8393261173392408\n",
            "Дисперсия Sports 2.6827172886244814\n"
          ]
        }
      ],
      "source": [
        "print('Дисперсия Action', np.var(sample_action))\n",
        "print('Дисперсия Sports', np.var(sample_sports)) "
      ]
    },
    {
      "cell_type": "code",
      "execution_count": null,
      "metadata": {
        "id": "IzQszMymDwUY",
        "outputId": "195a861d-52be-422b-dc6c-df377b674e0f"
      },
      "outputs": [
        {
          "name": "stdout",
          "output_type": "stream",
          "text": [
            "p-значение:  6.3120187077688165e-09\n",
            "Отвергаем нулевую гипотезу\n"
          ]
        }
      ],
      "source": [
        "alpha = 0.05\n",
        "results = st.mannwhitneyu(sample_action, sample_sports, alternative='two-sided')\n",
        "print('p-значение: ', results.pvalue)\n",
        "if (results.pvalue < alpha):\n",
        "    print(\"Отвергаем нулевую гипотезу\")\n",
        "else:\n",
        "    print(\"Не получилось отвергнуть нулевую гипотезу\")"
      ]
    },
    {
      "cell_type": "code",
      "execution_count": null,
      "metadata": {
        "colab": {
          "base_uri": "https://localhost:8080/"
        },
        "id": "e16lctB-VE5d",
        "outputId": "9867311f-e2ee-4082-ca68-a2d495b7e32e",
        "scrolled": true
      },
      "outputs": [
        {
          "name": "stdout",
          "output_type": "stream",
          "text": [
            "p-значение:  7.545627005061331e-10\n",
            "Отвергаем нулевую гипотезу\n"
          ]
        }
      ],
      "source": [
        "results = st.ttest_ind(\n",
        "    sample_action, \n",
        "    sample_sports,\n",
        "    equal_var = False)\n",
        "\n",
        "print('p-значение: ', results.pvalue)\n",
        "\n",
        "if results.pvalue < alpha:\n",
        "    print(\"Отвергаем нулевую гипотезу\")\n",
        "else:\n",
        "    print(\"Не получилось отвергнуть нулевую гипотезу\") "
      ]
    },
    {
      "cell_type": "code",
      "execution_count": null,
      "metadata": {
        "colab": {
          "base_uri": "https://localhost:8080/"
        },
        "id": "m-xz5ZAWTzdS",
        "outputId": "eadad3e0-6ade-4134-9df9-378a353d8aa5"
      },
      "outputs": [
        {
          "name": "stdout",
          "output_type": "stream",
          "text": [
            "Среднее значение пользовательского рейтинга игр для жанра Action: 6.8606997558991045\n",
            "Среднее значение пользовательского рейтинга игр для жанра Sports: 6.393488372093022\n"
          ]
        }
      ],
      "source": [
        "print('Среднее значение пользовательского рейтинга игр для жанра Action:', sample_action.mean())\n",
        "print('Среднее значение пользовательского рейтинга игр для жанра Sports:', sample_sports.mean())"
      ]
    },
    {
      "cell_type": "markdown",
      "metadata": {
        "id": "CR2eWu0zIuUo"
      },
      "source": [
        "Эту нулевую гипотезу мы отвергаем, значит, подтверждается гипотеза, что пользовательские рейтинги игр жанров Action и Sports разные. Это видно и по вычисленным нами средним значениям."
      ]
    },
    {
      "cell_type": "markdown",
      "metadata": {
        "id": "YRKozT_3DwUc"
      },
      "source": [
        "## Общий вывод"
      ]
    },
    {
      "cell_type": "markdown",
      "metadata": {
        "id": "QSTYsq0hDwUc"
      },
      "source": [
        "<B>Для анализа данных я использовала датафрейм </B> с информацией по 16715 игре, первая из которых вышла 1980 году, а последняя - в 2016 г. Эти игры созданы для использования на 31 платформе, самыми популярными из которых стали PS2 и XBOX360. Также для игр предоставлены объемы продаж на рынках Северной Америки, Европы, Японии и прочих стран. В таблице довольно много пропусков в столбцах с оценками критиков и пользователей, а также с рейтингом игр по рекомендуемому возрасту. \n",
        "\n",
        "<B>В результате анализа данных обнаружено следующее:</B> \n",
        "- Средний срок популярности платформы - около 6 лет, пик длится 2-3 года. В настоящее время еще распространены игры для платформы PS4, а также Xbox One и Wii, на них и следует сделать упор при продвижении. \n",
        "- В продажах игр для ПК нет заметных пиков или падений, они продаются примерно одинаково уже около 20 лет, их тоже можно учитывать при составлении стратегии.\n",
        "- В целом, рынок игр находится на спаде, что связано с ростом игр для мобильных устройств. Возможно, стоит рассмотреть переход в эту сферу.\n",
        "- На продажи сильнее влияют оценки критиков, чем оценки пользователей, но в целом корреляция между продажами и отзывами не сильная. \n",
        "- Лучше всего продаются игры жанров экшн, спорт и шутеры. \n",
        "- Рынки Северной Америки и Европы схожи между собой по предпочтительным платформам и жанрам (X360, Wii, PS3 среди платформ, и Action, Sports и Shooter в жанрах), а рынок Японии отличается - там предпочитают DS и 3DS, а из жанров - Role-Playing и Action. \n",
        "- При планировании рекламных кампаний стоит выбирать игры для PS4 и ПК жанров Action, Shooter и Sports, получившие отличные оценки от критиков. Следует учитывать отличие японского рынка от остального мира."
      ]
    }
  ],
  "metadata": {
    "ExecuteTimeLog": [
      {
        "duration": 1076,
        "start_time": "2022-02-13T10:12:26.893Z"
      },
      {
        "duration": 53,
        "start_time": "2022-02-13T10:12:27.971Z"
      },
      {
        "duration": 3,
        "start_time": "2022-02-13T10:12:28.026Z"
      },
      {
        "duration": 28,
        "start_time": "2022-02-13T10:12:28.032Z"
      },
      {
        "duration": 8,
        "start_time": "2022-02-13T10:12:28.062Z"
      },
      {
        "duration": 7,
        "start_time": "2022-02-13T10:12:28.072Z"
      },
      {
        "duration": 58,
        "start_time": "2022-02-13T10:12:28.080Z"
      },
      {
        "duration": 6,
        "start_time": "2022-02-13T10:12:28.139Z"
      },
      {
        "duration": 7,
        "start_time": "2022-02-13T10:12:28.148Z"
      },
      {
        "duration": 211,
        "start_time": "2022-02-13T10:12:28.157Z"
      },
      {
        "duration": 5,
        "start_time": "2022-02-13T10:12:28.369Z"
      },
      {
        "duration": 400,
        "start_time": "2022-02-13T10:12:28.375Z"
      },
      {
        "duration": 4,
        "start_time": "2022-02-13T10:12:28.777Z"
      },
      {
        "duration": 8,
        "start_time": "2022-02-13T10:12:28.783Z"
      },
      {
        "duration": 5,
        "start_time": "2022-02-13T10:12:28.793Z"
      },
      {
        "duration": 5,
        "start_time": "2022-02-13T10:12:28.799Z"
      },
      {
        "duration": 5,
        "start_time": "2022-02-13T10:12:28.805Z"
      },
      {
        "duration": 6,
        "start_time": "2022-02-13T10:12:28.812Z"
      },
      {
        "duration": 6,
        "start_time": "2022-02-13T10:12:28.820Z"
      },
      {
        "duration": 34,
        "start_time": "2022-02-13T10:12:28.827Z"
      },
      {
        "duration": 4,
        "start_time": "2022-02-13T10:12:28.862Z"
      },
      {
        "duration": 8,
        "start_time": "2022-02-13T10:12:28.867Z"
      },
      {
        "duration": 14,
        "start_time": "2022-02-13T10:12:28.876Z"
      },
      {
        "duration": 7,
        "start_time": "2022-02-13T10:12:28.891Z"
      },
      {
        "duration": 18,
        "start_time": "2022-02-13T10:12:28.899Z"
      },
      {
        "duration": 8,
        "start_time": "2022-02-13T10:12:28.918Z"
      },
      {
        "duration": 30,
        "start_time": "2022-02-13T10:12:28.929Z"
      },
      {
        "duration": 4,
        "start_time": "2022-02-13T10:12:28.961Z"
      },
      {
        "duration": 5,
        "start_time": "2022-02-13T10:12:28.967Z"
      },
      {
        "duration": 14,
        "start_time": "2022-02-13T10:12:28.974Z"
      },
      {
        "duration": 217,
        "start_time": "2022-02-13T10:12:28.990Z"
      },
      {
        "duration": 264,
        "start_time": "2022-02-13T10:12:29.209Z"
      },
      {
        "duration": 6,
        "start_time": "2022-02-13T10:12:29.475Z"
      },
      {
        "duration": 8,
        "start_time": "2022-02-13T10:12:29.483Z"
      },
      {
        "duration": 440,
        "start_time": "2022-02-13T10:12:29.493Z"
      },
      {
        "duration": 6,
        "start_time": "2022-02-13T10:12:29.935Z"
      },
      {
        "duration": 18,
        "start_time": "2022-02-13T10:12:29.942Z"
      },
      {
        "duration": 8,
        "start_time": "2022-02-13T10:12:29.962Z"
      },
      {
        "duration": 327,
        "start_time": "2022-02-13T10:12:29.971Z"
      },
      {
        "duration": 6,
        "start_time": "2022-02-13T10:12:30.300Z"
      },
      {
        "duration": 23,
        "start_time": "2022-02-13T10:12:30.308Z"
      },
      {
        "duration": 12,
        "start_time": "2022-02-13T10:12:30.333Z"
      },
      {
        "duration": 7,
        "start_time": "2022-02-13T10:12:30.347Z"
      },
      {
        "duration": 366,
        "start_time": "2022-02-13T10:12:30.356Z"
      },
      {
        "duration": 337,
        "start_time": "2022-02-13T10:12:30.723Z"
      },
      {
        "duration": 7,
        "start_time": "2022-02-13T10:12:31.062Z"
      },
      {
        "duration": 598,
        "start_time": "2022-02-13T10:12:31.071Z"
      },
      {
        "duration": 5,
        "start_time": "2022-02-13T10:12:31.671Z"
      },
      {
        "duration": 14,
        "start_time": "2022-02-13T10:12:31.678Z"
      },
      {
        "duration": 1261,
        "start_time": "2022-02-13T10:12:31.694Z"
      },
      {
        "duration": 1318,
        "start_time": "2022-02-13T10:12:32.959Z"
      },
      {
        "duration": 33,
        "start_time": "2022-02-13T10:12:34.279Z"
      },
      {
        "duration": 50,
        "start_time": "2022-02-13T10:12:34.314Z"
      },
      {
        "duration": 254,
        "start_time": "2022-02-13T10:12:34.366Z"
      },
      {
        "duration": 12,
        "start_time": "2022-02-13T10:12:34.622Z"
      },
      {
        "duration": 191,
        "start_time": "2022-02-13T10:12:34.635Z"
      },
      {
        "duration": 183,
        "start_time": "2022-02-13T10:12:34.828Z"
      },
      {
        "duration": 184,
        "start_time": "2022-02-13T10:12:35.014Z"
      },
      {
        "duration": 198,
        "start_time": "2022-02-13T10:12:35.200Z"
      },
      {
        "duration": 187,
        "start_time": "2022-02-13T10:12:35.400Z"
      },
      {
        "duration": 208,
        "start_time": "2022-02-13T10:12:35.588Z"
      },
      {
        "duration": 6,
        "start_time": "2022-02-13T10:12:35.798Z"
      },
      {
        "duration": 263,
        "start_time": "2022-02-13T10:12:35.806Z"
      },
      {
        "duration": 9,
        "start_time": "2022-02-13T10:12:36.071Z"
      },
      {
        "duration": 15,
        "start_time": "2022-02-13T10:12:36.081Z"
      },
      {
        "duration": 5,
        "start_time": "2022-02-13T10:12:36.097Z"
      },
      {
        "duration": 7,
        "start_time": "2022-02-13T10:12:36.104Z"
      },
      {
        "duration": 13,
        "start_time": "2022-02-13T10:12:36.112Z"
      },
      {
        "duration": 14,
        "start_time": "2022-02-13T10:12:36.126Z"
      },
      {
        "duration": 20,
        "start_time": "2022-02-13T10:12:36.141Z"
      },
      {
        "duration": 6,
        "start_time": "2022-02-13T10:12:36.163Z"
      },
      {
        "duration": 1081,
        "start_time": "2022-02-13T11:20:18.125Z"
      },
      {
        "duration": 52,
        "start_time": "2022-02-13T11:20:19.208Z"
      },
      {
        "duration": 3,
        "start_time": "2022-02-13T11:20:19.262Z"
      },
      {
        "duration": 15,
        "start_time": "2022-02-13T11:20:19.267Z"
      },
      {
        "duration": 23,
        "start_time": "2022-02-13T11:20:19.283Z"
      },
      {
        "duration": 6,
        "start_time": "2022-02-13T11:20:19.307Z"
      },
      {
        "duration": 48,
        "start_time": "2022-02-13T11:20:19.314Z"
      },
      {
        "duration": 6,
        "start_time": "2022-02-13T11:20:19.365Z"
      },
      {
        "duration": 10,
        "start_time": "2022-02-13T11:20:19.372Z"
      },
      {
        "duration": 215,
        "start_time": "2022-02-13T11:20:19.383Z"
      },
      {
        "duration": 4,
        "start_time": "2022-02-13T11:20:19.600Z"
      },
      {
        "duration": 393,
        "start_time": "2022-02-13T11:20:19.605Z"
      },
      {
        "duration": 4,
        "start_time": "2022-02-13T11:20:19.999Z"
      },
      {
        "duration": 25,
        "start_time": "2022-02-13T11:20:20.005Z"
      },
      {
        "duration": 12,
        "start_time": "2022-02-13T11:20:20.032Z"
      },
      {
        "duration": 9,
        "start_time": "2022-02-13T11:20:20.045Z"
      },
      {
        "duration": 5,
        "start_time": "2022-02-13T11:20:20.056Z"
      },
      {
        "duration": 11,
        "start_time": "2022-02-13T11:20:20.062Z"
      },
      {
        "duration": 16,
        "start_time": "2022-02-13T11:20:20.075Z"
      },
      {
        "duration": 9,
        "start_time": "2022-02-13T11:20:20.093Z"
      },
      {
        "duration": 7,
        "start_time": "2022-02-13T11:20:20.103Z"
      },
      {
        "duration": 7,
        "start_time": "2022-02-13T11:20:20.112Z"
      },
      {
        "duration": 8,
        "start_time": "2022-02-13T11:20:20.123Z"
      },
      {
        "duration": 10,
        "start_time": "2022-02-13T11:20:20.133Z"
      },
      {
        "duration": 24,
        "start_time": "2022-02-13T11:20:20.144Z"
      },
      {
        "duration": 8,
        "start_time": "2022-02-13T11:20:20.170Z"
      },
      {
        "duration": 5,
        "start_time": "2022-02-13T11:20:20.180Z"
      },
      {
        "duration": 7,
        "start_time": "2022-02-13T11:20:20.187Z"
      },
      {
        "duration": 9,
        "start_time": "2022-02-13T11:20:20.195Z"
      },
      {
        "duration": 17,
        "start_time": "2022-02-13T11:20:20.205Z"
      },
      {
        "duration": 237,
        "start_time": "2022-02-13T11:20:20.223Z"
      },
      {
        "duration": 287,
        "start_time": "2022-02-13T11:20:20.462Z"
      },
      {
        "duration": 4,
        "start_time": "2022-02-13T11:20:20.759Z"
      },
      {
        "duration": 14,
        "start_time": "2022-02-13T11:20:20.765Z"
      },
      {
        "duration": 430,
        "start_time": "2022-02-13T11:20:20.781Z"
      },
      {
        "duration": 7,
        "start_time": "2022-02-13T11:20:21.212Z"
      },
      {
        "duration": 12,
        "start_time": "2022-02-13T11:20:21.220Z"
      },
      {
        "duration": 26,
        "start_time": "2022-02-13T11:20:21.234Z"
      },
      {
        "duration": 313,
        "start_time": "2022-02-13T11:20:21.261Z"
      },
      {
        "duration": 7,
        "start_time": "2022-02-13T11:20:21.575Z"
      },
      {
        "duration": 12,
        "start_time": "2022-02-13T11:20:21.583Z"
      },
      {
        "duration": 11,
        "start_time": "2022-02-13T11:20:21.597Z"
      },
      {
        "duration": 8,
        "start_time": "2022-02-13T11:20:21.609Z"
      },
      {
        "duration": 369,
        "start_time": "2022-02-13T11:20:21.619Z"
      },
      {
        "duration": 350,
        "start_time": "2022-02-13T11:20:21.990Z"
      },
      {
        "duration": 16,
        "start_time": "2022-02-13T11:20:22.343Z"
      },
      {
        "duration": 425,
        "start_time": "2022-02-13T11:20:22.361Z"
      },
      {
        "duration": 5,
        "start_time": "2022-02-13T11:20:22.787Z"
      },
      {
        "duration": 7,
        "start_time": "2022-02-13T11:20:22.794Z"
      },
      {
        "duration": 1277,
        "start_time": "2022-02-13T11:20:22.803Z"
      },
      {
        "duration": 1283,
        "start_time": "2022-02-13T11:20:24.081Z"
      },
      {
        "duration": 33,
        "start_time": "2022-02-13T11:20:25.366Z"
      },
      {
        "duration": 62,
        "start_time": "2022-02-13T11:20:25.401Z"
      },
      {
        "duration": 273,
        "start_time": "2022-02-13T11:20:25.465Z"
      },
      {
        "duration": 20,
        "start_time": "2022-02-13T11:20:25.740Z"
      },
      {
        "duration": 173,
        "start_time": "2022-02-13T11:20:25.761Z"
      },
      {
        "duration": 184,
        "start_time": "2022-02-13T11:20:25.935Z"
      },
      {
        "duration": 182,
        "start_time": "2022-02-13T11:20:26.121Z"
      },
      {
        "duration": 175,
        "start_time": "2022-02-13T11:20:26.304Z"
      },
      {
        "duration": 183,
        "start_time": "2022-02-13T11:20:26.481Z"
      },
      {
        "duration": 194,
        "start_time": "2022-02-13T11:20:26.666Z"
      },
      {
        "duration": 4,
        "start_time": "2022-02-13T11:20:26.862Z"
      },
      {
        "duration": 250,
        "start_time": "2022-02-13T11:20:26.868Z"
      },
      {
        "duration": 9,
        "start_time": "2022-02-13T11:20:27.119Z"
      },
      {
        "duration": 12,
        "start_time": "2022-02-13T11:20:27.129Z"
      },
      {
        "duration": 18,
        "start_time": "2022-02-13T11:20:27.143Z"
      },
      {
        "duration": 6,
        "start_time": "2022-02-13T11:20:27.162Z"
      },
      {
        "duration": 8,
        "start_time": "2022-02-13T11:20:27.173Z"
      },
      {
        "duration": 12,
        "start_time": "2022-02-13T11:20:27.182Z"
      },
      {
        "duration": 4,
        "start_time": "2022-02-13T11:20:27.196Z"
      },
      {
        "duration": 5,
        "start_time": "2022-02-13T11:20:27.202Z"
      },
      {
        "duration": 23,
        "start_time": "2022-02-13T11:20:45.968Z"
      },
      {
        "duration": 9,
        "start_time": "2022-02-13T11:21:38.589Z"
      },
      {
        "duration": 6,
        "start_time": "2022-02-13T11:21:43.062Z"
      },
      {
        "duration": 2,
        "start_time": "2022-02-13T11:22:20.106Z"
      },
      {
        "duration": 5,
        "start_time": "2022-02-13T11:22:30.010Z"
      },
      {
        "duration": 6,
        "start_time": "2022-02-13T11:33:01.646Z"
      },
      {
        "duration": 17,
        "start_time": "2022-02-13T11:33:03.290Z"
      },
      {
        "duration": 461,
        "start_time": "2022-02-13T11:35:51.147Z"
      },
      {
        "duration": 209,
        "start_time": "2022-02-13T11:36:11.794Z"
      },
      {
        "duration": 224,
        "start_time": "2022-02-13T11:36:30.562Z"
      },
      {
        "duration": 391,
        "start_time": "2022-02-13T11:36:44.214Z"
      },
      {
        "duration": 475,
        "start_time": "2022-02-13T11:38:39.545Z"
      },
      {
        "duration": 199,
        "start_time": "2022-02-13T11:38:43.781Z"
      },
      {
        "duration": 207,
        "start_time": "2022-02-13T11:39:02.386Z"
      },
      {
        "duration": 208,
        "start_time": "2022-02-13T11:39:10.967Z"
      },
      {
        "duration": 244,
        "start_time": "2022-02-13T11:49:47.076Z"
      },
      {
        "duration": 412,
        "start_time": "2022-02-13T11:50:42.748Z"
      },
      {
        "duration": 416,
        "start_time": "2022-02-13T11:50:47.004Z"
      },
      {
        "duration": 420,
        "start_time": "2022-02-13T11:50:55.009Z"
      },
      {
        "duration": 423,
        "start_time": "2022-02-13T11:51:11.938Z"
      },
      {
        "duration": 429,
        "start_time": "2022-02-13T11:51:58.745Z"
      },
      {
        "duration": 304,
        "start_time": "2022-02-13T12:03:44.053Z"
      },
      {
        "duration": 272,
        "start_time": "2022-02-13T12:04:08.822Z"
      },
      {
        "duration": 479,
        "start_time": "2022-02-13T12:04:15.374Z"
      },
      {
        "duration": 312,
        "start_time": "2022-02-13T12:04:20.229Z"
      },
      {
        "duration": 322,
        "start_time": "2022-02-13T12:04:25.998Z"
      },
      {
        "duration": -20,
        "start_time": "2022-02-13T12:14:53.054Z"
      },
      {
        "duration": -43,
        "start_time": "2022-02-13T12:14:53.121Z"
      },
      {
        "duration": -57,
        "start_time": "2022-02-13T12:14:53.136Z"
      },
      {
        "duration": -88,
        "start_time": "2022-02-13T12:14:53.168Z"
      },
      {
        "duration": -165,
        "start_time": "2022-02-13T12:14:53.246Z"
      },
      {
        "duration": -200,
        "start_time": "2022-02-13T12:14:53.282Z"
      },
      {
        "duration": -226,
        "start_time": "2022-02-13T12:14:53.308Z"
      },
      {
        "duration": -239,
        "start_time": "2022-02-13T12:14:53.322Z"
      },
      {
        "duration": -251,
        "start_time": "2022-02-13T12:14:53.335Z"
      },
      {
        "duration": -268,
        "start_time": "2022-02-13T12:14:53.353Z"
      },
      {
        "duration": -285,
        "start_time": "2022-02-13T12:14:53.371Z"
      },
      {
        "duration": -303,
        "start_time": "2022-02-13T12:14:53.390Z"
      },
      {
        "duration": -320,
        "start_time": "2022-02-13T12:14:53.408Z"
      },
      {
        "duration": -338,
        "start_time": "2022-02-13T12:14:53.426Z"
      },
      {
        "duration": -353,
        "start_time": "2022-02-13T12:14:53.442Z"
      },
      {
        "duration": -369,
        "start_time": "2022-02-13T12:14:53.459Z"
      },
      {
        "duration": -384,
        "start_time": "2022-02-13T12:14:53.475Z"
      },
      {
        "duration": -436,
        "start_time": "2022-02-13T12:14:53.528Z"
      },
      {
        "duration": -444,
        "start_time": "2022-02-13T12:14:53.537Z"
      },
      {
        "duration": -466,
        "start_time": "2022-02-13T12:14:53.560Z"
      },
      {
        "duration": -477,
        "start_time": "2022-02-13T12:14:53.571Z"
      },
      {
        "duration": -505,
        "start_time": "2022-02-13T12:14:53.600Z"
      },
      {
        "duration": -519,
        "start_time": "2022-02-13T12:14:53.615Z"
      },
      {
        "duration": -529,
        "start_time": "2022-02-13T12:14:53.626Z"
      },
      {
        "duration": -544,
        "start_time": "2022-02-13T12:14:53.642Z"
      },
      {
        "duration": -560,
        "start_time": "2022-02-13T12:14:53.659Z"
      },
      {
        "duration": -519,
        "start_time": "2022-02-13T12:14:53.678Z"
      },
      {
        "duration": -543,
        "start_time": "2022-02-13T12:14:53.703Z"
      },
      {
        "duration": -562,
        "start_time": "2022-02-13T12:14:53.723Z"
      },
      {
        "duration": -579,
        "start_time": "2022-02-13T12:14:53.741Z"
      },
      {
        "duration": -597,
        "start_time": "2022-02-13T12:14:53.760Z"
      },
      {
        "duration": -619,
        "start_time": "2022-02-13T12:14:53.783Z"
      },
      {
        "duration": -637,
        "start_time": "2022-02-13T12:14:53.802Z"
      },
      {
        "duration": -655,
        "start_time": "2022-02-13T12:14:53.821Z"
      },
      {
        "duration": -673,
        "start_time": "2022-02-13T12:14:53.840Z"
      },
      {
        "duration": -690,
        "start_time": "2022-02-13T12:14:53.858Z"
      },
      {
        "duration": -708,
        "start_time": "2022-02-13T12:14:53.876Z"
      },
      {
        "duration": -724,
        "start_time": "2022-02-13T12:14:53.893Z"
      },
      {
        "duration": -741,
        "start_time": "2022-02-13T12:14:53.911Z"
      },
      {
        "duration": -756,
        "start_time": "2022-02-13T12:14:53.927Z"
      },
      {
        "duration": -772,
        "start_time": "2022-02-13T12:14:53.944Z"
      },
      {
        "duration": -787,
        "start_time": "2022-02-13T12:14:53.960Z"
      },
      {
        "duration": -800,
        "start_time": "2022-02-13T12:14:53.975Z"
      },
      {
        "duration": -824,
        "start_time": "2022-02-13T12:14:54.000Z"
      },
      {
        "duration": -838,
        "start_time": "2022-02-13T12:14:54.016Z"
      },
      {
        "duration": -855,
        "start_time": "2022-02-13T12:14:54.034Z"
      },
      {
        "duration": -873,
        "start_time": "2022-02-13T12:14:54.053Z"
      },
      {
        "duration": 3,
        "start_time": "2022-02-13T12:14:57.612Z"
      },
      {
        "duration": 35,
        "start_time": "2022-02-13T12:14:57.616Z"
      },
      {
        "duration": 49,
        "start_time": "2022-02-13T12:14:57.653Z"
      },
      {
        "duration": 3,
        "start_time": "2022-02-13T12:14:57.704Z"
      },
      {
        "duration": 17,
        "start_time": "2022-02-13T12:14:57.708Z"
      },
      {
        "duration": 11,
        "start_time": "2022-02-13T12:14:57.726Z"
      },
      {
        "duration": 23,
        "start_time": "2022-02-13T12:14:57.738Z"
      },
      {
        "duration": 26,
        "start_time": "2022-02-13T12:14:57.763Z"
      },
      {
        "duration": 7,
        "start_time": "2022-02-13T12:14:57.793Z"
      },
      {
        "duration": 7,
        "start_time": "2022-02-13T12:14:57.802Z"
      },
      {
        "duration": 231,
        "start_time": "2022-02-13T12:14:57.811Z"
      },
      {
        "duration": 4,
        "start_time": "2022-02-13T12:14:58.044Z"
      },
      {
        "duration": 388,
        "start_time": "2022-02-13T12:14:58.059Z"
      },
      {
        "duration": 10,
        "start_time": "2022-02-13T12:14:58.449Z"
      },
      {
        "duration": 7,
        "start_time": "2022-02-13T12:14:58.460Z"
      },
      {
        "duration": 8,
        "start_time": "2022-02-13T12:14:58.468Z"
      },
      {
        "duration": 3,
        "start_time": "2022-02-13T12:14:58.478Z"
      },
      {
        "duration": 5,
        "start_time": "2022-02-13T12:14:58.483Z"
      },
      {
        "duration": 6,
        "start_time": "2022-02-13T12:14:58.490Z"
      },
      {
        "duration": 6,
        "start_time": "2022-02-13T12:14:58.498Z"
      },
      {
        "duration": 7,
        "start_time": "2022-02-13T12:14:58.506Z"
      },
      {
        "duration": 45,
        "start_time": "2022-02-13T12:14:58.515Z"
      },
      {
        "duration": 7,
        "start_time": "2022-02-13T12:14:58.562Z"
      },
      {
        "duration": 11,
        "start_time": "2022-02-13T12:14:58.571Z"
      },
      {
        "duration": 6,
        "start_time": "2022-02-13T12:14:58.584Z"
      },
      {
        "duration": 17,
        "start_time": "2022-02-13T12:14:58.592Z"
      },
      {
        "duration": 10,
        "start_time": "2022-02-13T12:14:58.612Z"
      },
      {
        "duration": 4,
        "start_time": "2022-02-13T12:14:58.624Z"
      },
      {
        "duration": 31,
        "start_time": "2022-02-13T12:14:58.629Z"
      },
      {
        "duration": 6,
        "start_time": "2022-02-13T12:14:58.662Z"
      },
      {
        "duration": 17,
        "start_time": "2022-02-13T12:14:58.669Z"
      },
      {
        "duration": 234,
        "start_time": "2022-02-13T12:14:58.688Z"
      },
      {
        "duration": 276,
        "start_time": "2022-02-13T12:14:58.925Z"
      },
      {
        "duration": 5,
        "start_time": "2022-02-13T12:14:59.204Z"
      },
      {
        "duration": 11,
        "start_time": "2022-02-13T12:14:59.211Z"
      },
      {
        "duration": 436,
        "start_time": "2022-02-13T12:14:59.224Z"
      },
      {
        "duration": 6,
        "start_time": "2022-02-13T12:14:59.662Z"
      },
      {
        "duration": 10,
        "start_time": "2022-02-13T12:14:59.670Z"
      },
      {
        "duration": 9,
        "start_time": "2022-02-13T12:14:59.682Z"
      },
      {
        "duration": 335,
        "start_time": "2022-02-13T12:14:59.692Z"
      },
      {
        "duration": 6,
        "start_time": "2022-02-13T12:15:00.029Z"
      },
      {
        "duration": 25,
        "start_time": "2022-02-13T12:15:00.037Z"
      },
      {
        "duration": 14,
        "start_time": "2022-02-13T12:15:00.064Z"
      },
      {
        "duration": 8,
        "start_time": "2022-02-13T12:15:00.080Z"
      },
      {
        "duration": 308,
        "start_time": "2022-02-13T12:15:00.089Z"
      },
      {
        "duration": 474,
        "start_time": "2022-02-13T12:15:06.760Z"
      },
      {
        "duration": 276,
        "start_time": "2022-02-13T12:15:10.286Z"
      },
      {
        "duration": 274,
        "start_time": "2022-02-13T12:16:12.590Z"
      },
      {
        "duration": 293,
        "start_time": "2022-02-13T12:16:15.253Z"
      },
      {
        "duration": 328,
        "start_time": "2022-02-13T12:18:07.671Z"
      },
      {
        "duration": 348,
        "start_time": "2022-02-13T12:18:20.760Z"
      },
      {
        "duration": 336,
        "start_time": "2022-02-13T12:21:10.230Z"
      },
      {
        "duration": 353,
        "start_time": "2022-02-13T12:23:17.057Z"
      },
      {
        "duration": 354,
        "start_time": "2022-02-13T12:23:35.400Z"
      },
      {
        "duration": 348,
        "start_time": "2022-02-13T12:23:45.845Z"
      },
      {
        "duration": 189,
        "start_time": "2022-02-13T12:25:14.890Z"
      },
      {
        "duration": 178,
        "start_time": "2022-02-13T12:25:21.423Z"
      },
      {
        "duration": 349,
        "start_time": "2022-02-13T12:25:38.319Z"
      },
      {
        "duration": 389,
        "start_time": "2022-02-13T12:25:43.844Z"
      },
      {
        "duration": 179,
        "start_time": "2022-02-13T12:26:21.882Z"
      },
      {
        "duration": 178,
        "start_time": "2022-02-13T12:26:25.065Z"
      },
      {
        "duration": 172,
        "start_time": "2022-02-13T12:27:07.212Z"
      },
      {
        "duration": 173,
        "start_time": "2022-02-13T12:27:37.391Z"
      },
      {
        "duration": 181,
        "start_time": "2022-02-13T12:28:03.941Z"
      },
      {
        "duration": 180,
        "start_time": "2022-02-13T12:28:38.357Z"
      },
      {
        "duration": 175,
        "start_time": "2022-02-13T12:28:41.241Z"
      },
      {
        "duration": 198,
        "start_time": "2022-02-13T12:28:49.964Z"
      },
      {
        "duration": 230,
        "start_time": "2022-02-13T12:31:49.450Z"
      },
      {
        "duration": 9,
        "start_time": "2022-02-13T12:39:53.630Z"
      },
      {
        "duration": 154,
        "start_time": "2022-02-13T12:49:07.213Z"
      },
      {
        "duration": 153,
        "start_time": "2022-02-13T12:49:25.984Z"
      },
      {
        "duration": 150,
        "start_time": "2022-02-13T12:49:31.562Z"
      },
      {
        "duration": 147,
        "start_time": "2022-02-13T12:49:38.678Z"
      },
      {
        "duration": 154,
        "start_time": "2022-02-13T12:49:43.011Z"
      },
      {
        "duration": 4,
        "start_time": "2022-02-13T12:50:07.605Z"
      },
      {
        "duration": 219,
        "start_time": "2022-02-13T12:58:39.628Z"
      },
      {
        "duration": 188,
        "start_time": "2022-02-13T12:58:46.275Z"
      },
      {
        "duration": 220,
        "start_time": "2022-02-13T13:03:14.209Z"
      },
      {
        "duration": 187,
        "start_time": "2022-02-13T13:03:23.546Z"
      },
      {
        "duration": 191,
        "start_time": "2022-02-13T13:03:25.943Z"
      },
      {
        "duration": 215,
        "start_time": "2022-02-13T13:03:34.783Z"
      },
      {
        "duration": 988,
        "start_time": "2022-02-13T13:04:06.797Z"
      },
      {
        "duration": 214,
        "start_time": "2022-02-13T13:05:29.004Z"
      },
      {
        "duration": 194,
        "start_time": "2022-02-13T13:06:02.323Z"
      },
      {
        "duration": 187,
        "start_time": "2022-02-13T13:06:04.695Z"
      },
      {
        "duration": 161,
        "start_time": "2022-02-13T13:06:46.758Z"
      },
      {
        "duration": 149,
        "start_time": "2022-02-13T13:06:54.734Z"
      },
      {
        "duration": 223,
        "start_time": "2022-02-13T13:08:14.422Z"
      },
      {
        "duration": 190,
        "start_time": "2022-02-13T13:08:19.757Z"
      },
      {
        "duration": 171,
        "start_time": "2022-02-13T13:08:26.766Z"
      },
      {
        "duration": 149,
        "start_time": "2022-02-13T13:08:33.440Z"
      },
      {
        "duration": 168,
        "start_time": "2022-02-13T13:10:53.698Z"
      },
      {
        "duration": 431,
        "start_time": "2022-02-13T13:11:35.810Z"
      },
      {
        "duration": 185,
        "start_time": "2022-02-13T13:11:39.183Z"
      },
      {
        "duration": 206,
        "start_time": "2022-02-13T13:11:41.641Z"
      },
      {
        "duration": 191,
        "start_time": "2022-02-13T13:11:51.055Z"
      },
      {
        "duration": 151,
        "start_time": "2022-02-13T13:12:03.529Z"
      },
      {
        "duration": 338,
        "start_time": "2022-02-13T13:12:59.978Z"
      },
      {
        "duration": 5,
        "start_time": "2022-02-13T13:14:05.314Z"
      },
      {
        "duration": 4,
        "start_time": "2022-02-13T13:14:18.088Z"
      },
      {
        "duration": 4,
        "start_time": "2022-02-13T13:14:53.394Z"
      },
      {
        "duration": 4,
        "start_time": "2022-02-13T13:14:55.199Z"
      },
      {
        "duration": 3,
        "start_time": "2022-02-13T13:30:39.482Z"
      },
      {
        "duration": 3,
        "start_time": "2022-02-13T13:30:41.999Z"
      },
      {
        "duration": 5,
        "start_time": "2022-02-13T13:32:40.991Z"
      },
      {
        "duration": 2,
        "start_time": "2022-02-13T13:37:33.285Z"
      },
      {
        "duration": 5,
        "start_time": "2022-02-13T13:49:13.726Z"
      },
      {
        "duration": 195,
        "start_time": "2022-02-13T13:52:15.958Z"
      },
      {
        "duration": 210,
        "start_time": "2022-02-13T13:52:23.951Z"
      },
      {
        "duration": 254,
        "start_time": "2022-02-13T13:52:57.234Z"
      },
      {
        "duration": 238,
        "start_time": "2022-02-13T13:53:12.609Z"
      },
      {
        "duration": 339,
        "start_time": "2022-02-13T13:54:06.259Z"
      },
      {
        "duration": 330,
        "start_time": "2022-02-13T13:54:22.058Z"
      },
      {
        "duration": 3,
        "start_time": "2022-02-13T13:55:21.164Z"
      },
      {
        "duration": 4,
        "start_time": "2022-02-13T13:55:23.404Z"
      },
      {
        "duration": 6,
        "start_time": "2022-02-13T13:58:10.082Z"
      },
      {
        "duration": 5,
        "start_time": "2022-02-13T13:59:19.225Z"
      },
      {
        "duration": 5,
        "start_time": "2022-02-13T14:00:32.349Z"
      },
      {
        "duration": 1460,
        "start_time": "2022-02-13T14:01:13.754Z"
      },
      {
        "duration": 3,
        "start_time": "2022-02-13T14:01:15.216Z"
      },
      {
        "duration": 57,
        "start_time": "2022-02-13T14:01:15.220Z"
      },
      {
        "duration": 3,
        "start_time": "2022-02-13T14:01:15.279Z"
      },
      {
        "duration": 20,
        "start_time": "2022-02-13T14:01:15.283Z"
      },
      {
        "duration": 9,
        "start_time": "2022-02-13T14:01:15.305Z"
      },
      {
        "duration": 11,
        "start_time": "2022-02-13T14:01:15.316Z"
      },
      {
        "duration": 45,
        "start_time": "2022-02-13T14:01:15.330Z"
      },
      {
        "duration": 8,
        "start_time": "2022-02-13T14:01:15.377Z"
      },
      {
        "duration": 17,
        "start_time": "2022-02-13T14:01:15.387Z"
      },
      {
        "duration": 238,
        "start_time": "2022-02-13T14:01:15.406Z"
      },
      {
        "duration": 15,
        "start_time": "2022-02-13T14:01:15.646Z"
      },
      {
        "duration": 392,
        "start_time": "2022-02-13T14:01:15.663Z"
      },
      {
        "duration": 5,
        "start_time": "2022-02-13T14:01:16.059Z"
      },
      {
        "duration": 9,
        "start_time": "2022-02-13T14:01:16.066Z"
      },
      {
        "duration": 6,
        "start_time": "2022-02-13T14:01:16.077Z"
      },
      {
        "duration": 5,
        "start_time": "2022-02-13T14:01:16.084Z"
      },
      {
        "duration": 5,
        "start_time": "2022-02-13T14:01:16.091Z"
      },
      {
        "duration": 6,
        "start_time": "2022-02-13T14:01:16.098Z"
      },
      {
        "duration": 8,
        "start_time": "2022-02-13T14:01:16.105Z"
      },
      {
        "duration": 44,
        "start_time": "2022-02-13T14:01:16.115Z"
      },
      {
        "duration": 4,
        "start_time": "2022-02-13T14:01:16.161Z"
      },
      {
        "duration": 7,
        "start_time": "2022-02-13T14:01:16.169Z"
      },
      {
        "duration": 7,
        "start_time": "2022-02-13T14:01:16.178Z"
      },
      {
        "duration": 6,
        "start_time": "2022-02-13T14:01:16.187Z"
      },
      {
        "duration": 15,
        "start_time": "2022-02-13T14:01:16.195Z"
      },
      {
        "duration": 9,
        "start_time": "2022-02-13T14:01:16.211Z"
      },
      {
        "duration": 39,
        "start_time": "2022-02-13T14:01:16.222Z"
      },
      {
        "duration": 10,
        "start_time": "2022-02-13T14:01:16.263Z"
      },
      {
        "duration": 35,
        "start_time": "2022-02-13T14:01:16.275Z"
      },
      {
        "duration": 16,
        "start_time": "2022-02-13T14:01:16.312Z"
      },
      {
        "duration": 231,
        "start_time": "2022-02-13T14:01:16.330Z"
      },
      {
        "duration": 333,
        "start_time": "2022-02-13T14:01:16.563Z"
      },
      {
        "duration": 4,
        "start_time": "2022-02-13T14:01:16.898Z"
      },
      {
        "duration": 8,
        "start_time": "2022-02-13T14:01:16.904Z"
      },
      {
        "duration": 543,
        "start_time": "2022-02-13T14:01:16.914Z"
      },
      {
        "duration": 7,
        "start_time": "2022-02-13T14:01:17.459Z"
      },
      {
        "duration": 10,
        "start_time": "2022-02-13T14:01:17.468Z"
      },
      {
        "duration": 10,
        "start_time": "2022-02-13T14:01:17.480Z"
      },
      {
        "duration": 346,
        "start_time": "2022-02-13T14:01:17.491Z"
      },
      {
        "duration": 6,
        "start_time": "2022-02-13T14:01:17.839Z"
      },
      {
        "duration": 15,
        "start_time": "2022-02-13T14:01:17.847Z"
      },
      {
        "duration": 12,
        "start_time": "2022-02-13T14:01:17.864Z"
      },
      {
        "duration": 8,
        "start_time": "2022-02-13T14:01:17.878Z"
      },
      {
        "duration": 323,
        "start_time": "2022-02-13T14:01:17.888Z"
      },
      {
        "duration": 347,
        "start_time": "2022-02-13T14:01:18.213Z"
      },
      {
        "duration": 359,
        "start_time": "2022-02-13T14:01:18.562Z"
      },
      {
        "duration": 8,
        "start_time": "2022-02-13T14:01:18.923Z"
      },
      {
        "duration": 416,
        "start_time": "2022-02-13T14:01:18.932Z"
      },
      {
        "duration": 12,
        "start_time": "2022-02-13T14:01:19.350Z"
      },
      {
        "duration": 8,
        "start_time": "2022-02-13T14:01:19.363Z"
      },
      {
        "duration": 1345,
        "start_time": "2022-02-13T14:01:19.373Z"
      },
      {
        "duration": 1207,
        "start_time": "2022-02-13T14:01:20.721Z"
      },
      {
        "duration": 44,
        "start_time": "2022-02-13T14:01:21.930Z"
      },
      {
        "duration": 30,
        "start_time": "2022-02-13T14:01:21.976Z"
      },
      {
        "duration": 270,
        "start_time": "2022-02-13T14:01:22.008Z"
      },
      {
        "duration": 13,
        "start_time": "2022-02-13T14:01:22.280Z"
      },
      {
        "duration": 211,
        "start_time": "2022-02-13T14:01:22.295Z"
      },
      {
        "duration": 185,
        "start_time": "2022-02-13T14:01:22.508Z"
      },
      {
        "duration": 204,
        "start_time": "2022-02-13T14:01:22.694Z"
      },
      {
        "duration": 296,
        "start_time": "2022-02-13T14:01:22.900Z"
      },
      {
        "duration": 194,
        "start_time": "2022-02-13T14:01:23.198Z"
      },
      {
        "duration": 197,
        "start_time": "2022-02-13T14:01:23.394Z"
      },
      {
        "duration": 5,
        "start_time": "2022-02-13T14:01:23.593Z"
      },
      {
        "duration": 261,
        "start_time": "2022-02-13T14:01:23.600Z"
      },
      {
        "duration": 10,
        "start_time": "2022-02-13T14:01:23.863Z"
      },
      {
        "duration": 13,
        "start_time": "2022-02-13T14:01:23.875Z"
      },
      {
        "duration": 3,
        "start_time": "2022-02-13T14:01:23.893Z"
      },
      {
        "duration": 217,
        "start_time": "2022-02-13T14:01:23.898Z"
      },
      {
        "duration": 220,
        "start_time": "2022-02-13T14:01:24.117Z"
      },
      {
        "duration": 335,
        "start_time": "2022-02-13T14:01:24.339Z"
      },
      {
        "duration": 4,
        "start_time": "2022-02-13T14:01:24.677Z"
      },
      {
        "duration": 7,
        "start_time": "2022-02-13T14:01:24.683Z"
      },
      {
        "duration": 6,
        "start_time": "2022-02-13T14:01:24.691Z"
      },
      {
        "duration": 5,
        "start_time": "2022-02-13T14:01:24.699Z"
      },
      {
        "duration": 5,
        "start_time": "2022-02-13T14:01:24.706Z"
      },
      {
        "duration": 10,
        "start_time": "2022-02-13T14:01:24.713Z"
      },
      {
        "duration": 47,
        "start_time": "2022-02-13T14:01:24.725Z"
      },
      {
        "duration": 3,
        "start_time": "2022-02-13T14:01:24.774Z"
      },
      {
        "duration": 267,
        "start_time": "2022-02-13T14:01:24.778Z"
      },
      {
        "duration": 354,
        "start_time": "2022-02-13T14:01:25.047Z"
      },
      {
        "duration": 3,
        "start_time": "2022-02-13T14:01:25.403Z"
      },
      {
        "duration": 6,
        "start_time": "2022-02-13T14:01:25.408Z"
      },
      {
        "duration": 18,
        "start_time": "2022-02-13T14:01:25.416Z"
      },
      {
        "duration": 12,
        "start_time": "2022-02-13T14:01:25.435Z"
      },
      {
        "duration": 10,
        "start_time": "2022-02-13T14:01:25.448Z"
      },
      {
        "duration": 4,
        "start_time": "2022-02-13T14:56:46.043Z"
      },
      {
        "duration": 3,
        "start_time": "2022-02-13T14:57:09.035Z"
      },
      {
        "duration": 4,
        "start_time": "2022-02-13T14:57:23.760Z"
      },
      {
        "duration": 5,
        "start_time": "2022-02-13T14:58:17.068Z"
      },
      {
        "duration": 5,
        "start_time": "2022-02-13T14:58:54.884Z"
      },
      {
        "duration": 6,
        "start_time": "2022-02-13T14:59:12.325Z"
      },
      {
        "duration": 5,
        "start_time": "2022-02-13T15:00:16.724Z"
      },
      {
        "duration": 6,
        "start_time": "2022-02-13T15:00:20.410Z"
      },
      {
        "duration": 6,
        "start_time": "2022-02-13T15:00:36.514Z"
      },
      {
        "duration": 5,
        "start_time": "2022-02-13T15:00:56.105Z"
      },
      {
        "duration": 5,
        "start_time": "2022-02-13T15:00:59.827Z"
      },
      {
        "duration": 6,
        "start_time": "2022-02-13T15:01:18.855Z"
      },
      {
        "duration": 6,
        "start_time": "2022-02-13T15:01:41.730Z"
      },
      {
        "duration": 6,
        "start_time": "2022-02-13T15:01:52.342Z"
      },
      {
        "duration": 4,
        "start_time": "2022-02-13T15:01:56.699Z"
      },
      {
        "duration": 5,
        "start_time": "2022-02-13T15:45:17.689Z"
      },
      {
        "duration": 9,
        "start_time": "2022-02-13T15:45:27.847Z"
      },
      {
        "duration": 1291,
        "start_time": "2022-02-13T16:04:11.164Z"
      },
      {
        "duration": 3,
        "start_time": "2022-02-13T16:04:12.457Z"
      },
      {
        "duration": 63,
        "start_time": "2022-02-13T16:04:12.461Z"
      },
      {
        "duration": 3,
        "start_time": "2022-02-13T16:04:12.526Z"
      },
      {
        "duration": 15,
        "start_time": "2022-02-13T16:04:12.530Z"
      },
      {
        "duration": 16,
        "start_time": "2022-02-13T16:04:12.547Z"
      },
      {
        "duration": 5,
        "start_time": "2022-02-13T16:04:12.565Z"
      },
      {
        "duration": 27,
        "start_time": "2022-02-13T16:04:12.572Z"
      },
      {
        "duration": 6,
        "start_time": "2022-02-13T16:04:12.601Z"
      },
      {
        "duration": 6,
        "start_time": "2022-02-13T16:04:12.609Z"
      },
      {
        "duration": 249,
        "start_time": "2022-02-13T16:04:12.617Z"
      },
      {
        "duration": 4,
        "start_time": "2022-02-13T16:04:12.868Z"
      },
      {
        "duration": 402,
        "start_time": "2022-02-13T16:04:12.873Z"
      },
      {
        "duration": 4,
        "start_time": "2022-02-13T16:04:13.277Z"
      },
      {
        "duration": 15,
        "start_time": "2022-02-13T16:04:13.283Z"
      },
      {
        "duration": 10,
        "start_time": "2022-02-13T16:04:13.299Z"
      },
      {
        "duration": 8,
        "start_time": "2022-02-13T16:04:13.310Z"
      },
      {
        "duration": 9,
        "start_time": "2022-02-13T16:04:13.319Z"
      },
      {
        "duration": 8,
        "start_time": "2022-02-13T16:04:13.329Z"
      },
      {
        "duration": 7,
        "start_time": "2022-02-13T16:04:13.338Z"
      },
      {
        "duration": 16,
        "start_time": "2022-02-13T16:04:13.347Z"
      },
      {
        "duration": 8,
        "start_time": "2022-02-13T16:04:13.365Z"
      },
      {
        "duration": 10,
        "start_time": "2022-02-13T16:04:13.377Z"
      },
      {
        "duration": 14,
        "start_time": "2022-02-13T16:04:13.390Z"
      },
      {
        "duration": 11,
        "start_time": "2022-02-13T16:04:13.406Z"
      },
      {
        "duration": 22,
        "start_time": "2022-02-13T16:04:13.419Z"
      },
      {
        "duration": 23,
        "start_time": "2022-02-13T16:04:13.443Z"
      },
      {
        "duration": 4,
        "start_time": "2022-02-13T16:04:13.468Z"
      },
      {
        "duration": 12,
        "start_time": "2022-02-13T16:04:13.473Z"
      },
      {
        "duration": 15,
        "start_time": "2022-02-13T16:04:13.486Z"
      },
      {
        "duration": 20,
        "start_time": "2022-02-13T16:04:13.503Z"
      },
      {
        "duration": 290,
        "start_time": "2022-02-13T16:04:13.525Z"
      },
      {
        "duration": 369,
        "start_time": "2022-02-13T16:04:13.817Z"
      },
      {
        "duration": 5,
        "start_time": "2022-02-13T16:04:14.188Z"
      },
      {
        "duration": 9,
        "start_time": "2022-02-13T16:04:14.195Z"
      },
      {
        "duration": 468,
        "start_time": "2022-02-13T16:04:14.206Z"
      },
      {
        "duration": 9,
        "start_time": "2022-02-13T16:04:14.676Z"
      },
      {
        "duration": 11,
        "start_time": "2022-02-13T16:04:14.687Z"
      },
      {
        "duration": 8,
        "start_time": "2022-02-13T16:04:14.699Z"
      },
      {
        "duration": 377,
        "start_time": "2022-02-13T16:04:14.709Z"
      },
      {
        "duration": 7,
        "start_time": "2022-02-13T16:04:15.088Z"
      },
      {
        "duration": 17,
        "start_time": "2022-02-13T16:04:15.097Z"
      },
      {
        "duration": 12,
        "start_time": "2022-02-13T16:04:15.116Z"
      },
      {
        "duration": 7,
        "start_time": "2022-02-13T16:04:15.130Z"
      },
      {
        "duration": 349,
        "start_time": "2022-02-13T16:04:15.138Z"
      },
      {
        "duration": 362,
        "start_time": "2022-02-13T16:04:15.489Z"
      },
      {
        "duration": 410,
        "start_time": "2022-02-13T16:04:15.853Z"
      },
      {
        "duration": 9,
        "start_time": "2022-02-13T16:04:16.264Z"
      },
      {
        "duration": 573,
        "start_time": "2022-02-13T16:04:16.275Z"
      },
      {
        "duration": 11,
        "start_time": "2022-02-13T16:04:16.849Z"
      },
      {
        "duration": 11,
        "start_time": "2022-02-13T16:04:16.862Z"
      },
      {
        "duration": 1473,
        "start_time": "2022-02-13T16:04:16.875Z"
      },
      {
        "duration": 1311,
        "start_time": "2022-02-13T16:04:18.350Z"
      },
      {
        "duration": 36,
        "start_time": "2022-02-13T16:04:19.663Z"
      },
      {
        "duration": 30,
        "start_time": "2022-02-13T16:04:19.700Z"
      },
      {
        "duration": 307,
        "start_time": "2022-02-13T16:04:19.732Z"
      },
      {
        "duration": 24,
        "start_time": "2022-02-13T16:04:20.041Z"
      },
      {
        "duration": 202,
        "start_time": "2022-02-13T16:04:20.068Z"
      },
      {
        "duration": 196,
        "start_time": "2022-02-13T16:04:20.272Z"
      },
      {
        "duration": 203,
        "start_time": "2022-02-13T16:04:20.470Z"
      },
      {
        "duration": 314,
        "start_time": "2022-02-13T16:04:20.676Z"
      },
      {
        "duration": 189,
        "start_time": "2022-02-13T16:04:20.992Z"
      },
      {
        "duration": 200,
        "start_time": "2022-02-13T16:04:21.183Z"
      },
      {
        "duration": 5,
        "start_time": "2022-02-13T16:04:21.385Z"
      },
      {
        "duration": 261,
        "start_time": "2022-02-13T16:04:21.391Z"
      },
      {
        "duration": 11,
        "start_time": "2022-02-13T16:04:21.654Z"
      },
      {
        "duration": 14,
        "start_time": "2022-02-13T16:04:21.667Z"
      },
      {
        "duration": 2,
        "start_time": "2022-02-13T16:04:21.686Z"
      },
      {
        "duration": 215,
        "start_time": "2022-02-13T16:04:21.690Z"
      },
      {
        "duration": 206,
        "start_time": "2022-02-13T16:04:21.907Z"
      },
      {
        "duration": 333,
        "start_time": "2022-02-13T16:04:22.114Z"
      },
      {
        "duration": 11,
        "start_time": "2022-02-13T16:04:22.448Z"
      },
      {
        "duration": 7,
        "start_time": "2022-02-13T16:04:22.460Z"
      },
      {
        "duration": 6,
        "start_time": "2022-02-13T16:04:22.468Z"
      },
      {
        "duration": 7,
        "start_time": "2022-02-13T16:04:22.476Z"
      },
      {
        "duration": 8,
        "start_time": "2022-02-13T16:04:22.485Z"
      },
      {
        "duration": 11,
        "start_time": "2022-02-13T16:04:22.495Z"
      },
      {
        "duration": 11,
        "start_time": "2022-02-13T16:04:22.507Z"
      },
      {
        "duration": 14,
        "start_time": "2022-02-13T16:04:22.520Z"
      },
      {
        "duration": 7,
        "start_time": "2022-02-13T16:04:22.535Z"
      },
      {
        "duration": 268,
        "start_time": "2022-02-13T16:04:22.560Z"
      },
      {
        "duration": 343,
        "start_time": "2022-02-13T16:04:22.830Z"
      },
      {
        "duration": 4,
        "start_time": "2022-02-13T16:04:23.175Z"
      },
      {
        "duration": 6,
        "start_time": "2022-02-13T16:04:23.181Z"
      },
      {
        "duration": 5,
        "start_time": "2022-02-13T16:04:23.189Z"
      },
      {
        "duration": 8,
        "start_time": "2022-02-13T16:04:23.196Z"
      },
      {
        "duration": 5,
        "start_time": "2022-02-13T16:04:23.205Z"
      },
      {
        "duration": 6,
        "start_time": "2022-02-13T16:04:23.212Z"
      }
    ],
    "colab": {
      "provenance": [],
      "toc_visible": true
    },
    "kernelspec": {
      "display_name": "Python 3 (ipykernel)",
      "language": "python",
      "name": "python3"
    },
    "language_info": {
      "codemirror_mode": {
        "name": "ipython",
        "version": 3
      },
      "file_extension": ".py",
      "mimetype": "text/x-python",
      "name": "python",
      "nbconvert_exporter": "python",
      "pygments_lexer": "ipython3",
      "version": "3.9.5"
    },
    "toc": {
      "base_numbering": 1,
      "nav_menu": {},
      "number_sections": true,
      "sideBar": true,
      "skip_h1_title": true,
      "title_cell": "Table of Contents",
      "title_sidebar": "Contents",
      "toc_cell": false,
      "toc_position": {
        "height": "calc(100% - 180px)",
        "left": "10px",
        "top": "150px",
        "width": "225px"
      },
      "toc_section_display": true,
      "toc_window_display": true
    }
  },
  "nbformat": 4,
  "nbformat_minor": 0
}